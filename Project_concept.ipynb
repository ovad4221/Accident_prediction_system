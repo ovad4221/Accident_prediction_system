{
  "nbformat": 4,
  "nbformat_minor": 0,
  "metadata": {
    "colab": {
      "name": "Project_concept.ipynb",
      "provenance": [],
      "authorship_tag": "ABX9TyPqZNNABkMyP2mbzi+45rYJ",
      "include_colab_link": true
    },
    "kernelspec": {
      "name": "python3",
      "display_name": "Python 3"
    },
    "language_info": {
      "name": "python"
    }
  },
  "cells": [
    {
      "cell_type": "markdown",
      "metadata": {
        "id": "view-in-github",
        "colab_type": "text"
      },
      "source": [
        "<a href=\"https://colab.research.google.com/github/ovad4221/Accident_prediction_system/blob/TecHeReTiC_branch/Project_concept.ipynb\" target=\"_parent\"><img src=\"https://colab.research.google.com/assets/colab-badge.svg\" alt=\"Open In Colab\"/></a>"
      ]
    },
    {
      "cell_type": "code",
      "source": [
        "%matplotlib inline\n",
        "import matplotlib.pyplot as plt\n",
        "import seaborn as sns"
      ],
      "metadata": {
        "id": "dLu4mANLh-xH"
      },
      "execution_count": 1,
      "outputs": []
    },
    {
      "cell_type": "code",
      "metadata": {
        "id": "iY9kA6G1RVfv"
      },
      "source": [
        "import pandas as pd\n",
        "import numpy as np\n",
        "from matplotlib import pyplot as plt\n",
        "import seaborn as sns\n",
        "from tqdm import tqdm"
      ],
      "execution_count": 2,
      "outputs": []
    },
    {
      "cell_type": "code",
      "metadata": {
        "id": "z9Qq4AMBRtSR"
      },
      "source": [
        "accidents_data = pd.read_excel('https://github.com/ovad4221/Accident_prediction_system/blob/analisys_main/After_preprocessing_avarii.xlsx?raw=true')"
      ],
      "execution_count": 3,
      "outputs": []
    },
    {
      "cell_type": "code",
      "source": [
        "accidents_data.info()"
      ],
      "metadata": {
        "colab": {
          "base_uri": "https://localhost:8080/"
        },
        "id": "aF-KB8j8vNvi",
        "outputId": "e69c3fa3-4f46-4cb0-d514-fdf7b7ecc054"
      },
      "execution_count": 12,
      "outputs": [
        {
          "output_type": "stream",
          "name": "stdout",
          "text": [
            "<class 'pandas.core.frame.DataFrame'>\n",
            "RangeIndex: 7888 entries, 0 to 7887\n",
            "Data columns (total 26 columns):\n",
            " #   Column                Non-Null Count  Dtype         \n",
            "---  ------                --------------  -----         \n",
            " 0   coordL                7888 non-null   float64       \n",
            " 1   coordW                7888 non-null   float64       \n",
            " 2   place                 7888 non-null   object        \n",
            " 3   district              7888 non-null   object        \n",
            " 4   DTPType               7888 non-null   object        \n",
            " 5   date                  7888 non-null   object        \n",
            " 6   real_date             7888 non-null   datetime64[ns]\n",
            " 7   month                 7888 non-null   int64         \n",
            " 8   season                7888 non-null   object        \n",
            " 9   NVehicles             7888 non-null   int64         \n",
            " 10  NPatricipants         7888 non-null   int64         \n",
            " 11  NInjured              7888 non-null   int64         \n",
            " 12  NFatal                7888 non-null   int64         \n",
            " 13  additionalFactor      7888 non-null   object        \n",
            " 14  lightConditions       7888 non-null   float64       \n",
            " 15  weatherConditions     7888 non-null   object        \n",
            " 16  placeConditions       7888 non-null   object        \n",
            " 17  closeObjects          7888 non-null   object        \n",
            " 18  violations            7888 non-null   object        \n",
            " 19  violationsAdditional  7888 non-null   object        \n",
            " 20  privod                17 non-null     object        \n",
            " 21  traffic_regime        7888 non-null   object        \n",
            " 22  pokritie              7888 non-null   object        \n",
            " 23  neispravnosti         7888 non-null   object        \n",
            " 24  safety_belt           7888 non-null   object        \n",
            " 25  sublocality           7888 non-null   object        \n",
            "dtypes: datetime64[ns](1), float64(3), int64(5), object(17)\n",
            "memory usage: 1.6+ MB\n"
          ]
        }
      ]
    },
    {
      "cell_type": "code",
      "source": [
        "top_10_viols = accidents_data.violations.value_counts()[1:12]"
      ],
      "metadata": {
        "id": "a1LVUXJgvSTr"
      },
      "execution_count": 7,
      "outputs": []
    },
    {
      "cell_type": "code",
      "source": [
        "top_10_viols"
      ],
      "metadata": {
        "colab": {
          "base_uri": "https://localhost:8080/"
        },
        "id": "73o0kq1NvaLE",
        "outputId": "ead3b64e-2eb3-4711-f060-c388e87dd49f"
      },
      "execution_count": 8,
      "outputs": [
        {
          "output_type": "execute_result",
          "data": {
            "text/plain": [
              "Неправильный выбор дистанции                                          1137\n",
              "Нарушение правил проезда пешеходного перехода                          970\n",
              "Несоблюдение очередности проезда                                       962\n",
              "Несоответствие скорости конкретным условиям движения                   764\n",
              "Нарушение правил перестроения                                          405\n",
              "Несоблюдение условий, разрешающих движение транспорта задним ходом     317\n",
              "Нарушение требований сигналов светофора                                290\n",
              "Нарушение правил пользования общественным транспортом                  215\n",
              "Выезд на полосу встречного движения                                    132\n",
              "Нарушение правил расположения ТС на проезжей части                     128\n",
              "Непредоставление преимущества в движении пешеходу                       87\n",
              "Name: violations, dtype: int64"
            ]
          },
          "metadata": {},
          "execution_count": 8
        }
      ]
    },
    {
      "cell_type": "code",
      "source": [
        "control_group = accidents_data[accidents_data.violations == \"Нет нарушений\"]"
      ],
      "metadata": {
        "id": "PZz2t0r4vl4d"
      },
      "execution_count": 9,
      "outputs": []
    },
    {
      "cell_type": "markdown",
      "source": [
        "Наша задача - создать комплекс рекомендаций для предотвращения аварий опредленного типа при определенных условиям(место, погода, сезон), чтобы уменьшить их тяжесть, материальный ущерб(машины или режим движения)\n",
        "\n"
      ],
      "metadata": {
        "id": "PNWHJ9-RwMWU"
      }
    },
    {
      "cell_type": "markdown",
      "source": [
        "**Алгоритм работы:**\n",
        "\n",
        "1. Определить значения индекса тяжести для каждой аварии\n",
        "2. \n"
      ],
      "metadata": {
        "id": "R4IaoIX9xMoO"
      }
    },
    {
      "cell_type": "markdown",
      "source": [
        ""
      ],
      "metadata": {
        "id": "q4doMI-TxTVd"
      }
    },
    {
      "cell_type": "code",
      "source": [
        ""
      ],
      "metadata": {
        "colab": {
          "base_uri": "https://localhost:8080/"
        },
        "id": "pTC0FBBhv2si",
        "outputId": "0e0fbc02-feb9-4fdf-cb3b-3b770dcf77d3"
      },
      "execution_count": 11,
      "outputs": [
        {
          "output_type": "execute_result",
          "data": {
            "text/plain": [
              "(2184, 26)"
            ]
          },
          "metadata": {},
          "execution_count": 11
        }
      ]
    }
  ]
}