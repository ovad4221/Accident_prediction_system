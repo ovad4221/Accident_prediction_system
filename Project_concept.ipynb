{
  "nbformat": 4,
  "nbformat_minor": 0,
  "metadata": {
    "colab": {
      "name": "Project_concept.ipynb",
      "provenance": [],
      "include_colab_link": true
    },
    "kernelspec": {
      "name": "python3",
      "display_name": "Python 3"
    },
    "language_info": {
      "name": "python"
    }
  },
  "cells": [
    {
      "cell_type": "markdown",
      "metadata": {
        "id": "view-in-github",
        "colab_type": "text"
      },
      "source": [
        "<a href=\"https://colab.research.google.com/github/ovad4221/Accident_prediction_system/blob/ovad_branch_analys/Project_concept.ipynb\" target=\"_parent\"><img src=\"https://colab.research.google.com/assets/colab-badge.svg\" alt=\"Open In Colab\"/></a>"
      ]
    },
    {
      "cell_type": "code",
      "source": [
        "%matplotlib inline\n",
        "import matplotlib.pyplot as plt\n",
        "import seaborn as sns"
      ],
      "metadata": {
        "id": "dLu4mANLh-xH"
      },
      "execution_count": null,
      "outputs": []
    },
    {
      "cell_type": "code",
      "metadata": {
        "id": "iY9kA6G1RVfv"
      },
      "source": [
        "import pandas as pd\n",
        "import numpy as np\n",
        "from matplotlib import pyplot as plt\n",
        "import seaborn as sns\n",
        "from tqdm import tqdm"
      ],
      "execution_count": null,
      "outputs": []
    },
    {
      "cell_type": "code",
      "metadata": {
        "id": "z9Qq4AMBRtSR"
      },
      "source": [
        "accidents_data = pd.read_excel('/content/drive/MyDrive/merge_preprocessing_dano/files/final_accidents_data.xlsx')"
      ],
      "execution_count": null,
      "outputs": []
    },
    {
      "cell_type": "code",
      "source": [
        "accidents_data.info()"
      ],
      "metadata": {
        "colab": {
          "base_uri": "https://localhost:8080/"
        },
        "id": "aF-KB8j8vNvi",
        "outputId": "cebb7ace-5fb9-44d0-c2fe-ca959974be57"
      },
      "execution_count": null,
      "outputs": [
        {
          "output_type": "stream",
          "name": "stdout",
          "text": [
            "<class 'pandas.core.frame.DataFrame'>\n",
            "RangeIndex: 7888 entries, 0 to 7887\n",
            "Data columns (total 26 columns):\n",
            " #   Column                Non-Null Count  Dtype         \n",
            "---  ------                --------------  -----         \n",
            " 0   coordL                7888 non-null   float64       \n",
            " 1   coordW                7888 non-null   float64       \n",
            " 2   place                 7888 non-null   object        \n",
            " 3   district              7888 non-null   object        \n",
            " 4   DTPType               7888 non-null   object        \n",
            " 5   date                  7888 non-null   object        \n",
            " 6   real_date             7888 non-null   datetime64[ns]\n",
            " 7   month                 7888 non-null   int64         \n",
            " 8   season                7888 non-null   object        \n",
            " 9   NVehicles             7888 non-null   int64         \n",
            " 10  NPatricipants         7888 non-null   int64         \n",
            " 11  NInjured              7888 non-null   int64         \n",
            " 12  NFatal                7888 non-null   int64         \n",
            " 13  additionalFactor      7888 non-null   object        \n",
            " 14  lightConditions       7888 non-null   float64       \n",
            " 15  weatherConditions     7888 non-null   object        \n",
            " 16  placeConditions       7888 non-null   object        \n",
            " 17  closeObjects          7888 non-null   object        \n",
            " 18  violations            7888 non-null   object        \n",
            " 19  violationsAdditional  7888 non-null   object        \n",
            " 20  privod                7888 non-null   object        \n",
            " 21  traffic_regime        7888 non-null   object        \n",
            " 22  pokritie              7888 non-null   object        \n",
            " 23  neispravnosti         7888 non-null   object        \n",
            " 24  safety_belt           7888 non-null   object        \n",
            " 25  sublocality           7888 non-null   object        \n",
            "dtypes: datetime64[ns](1), float64(3), int64(5), object(17)\n",
            "memory usage: 1.6+ MB\n"
          ]
        }
      ]
    },
    {
      "cell_type": "code",
      "source": [
        "top_10_viols = accidents_data.violations.value_counts()[1:12]"
      ],
      "metadata": {
        "id": "a1LVUXJgvSTr"
      },
      "execution_count": null,
      "outputs": []
    },
    {
      "cell_type": "code",
      "source": [
        "accidents_data.head()"
      ],
      "metadata": {
        "colab": {
          "base_uri": "https://localhost:8080/",
          "height": 458
        },
        "id": "4umt9x1n7dsX",
        "outputId": "600ac599-851b-4538-e647-9aafed7f5069"
      },
      "execution_count": null,
      "outputs": [
        {
          "output_type": "execute_result",
          "data": {
            "text/html": [
              "<div>\n",
              "<style scoped>\n",
              "    .dataframe tbody tr th:only-of-type {\n",
              "        vertical-align: middle;\n",
              "    }\n",
              "\n",
              "    .dataframe tbody tr th {\n",
              "        vertical-align: top;\n",
              "    }\n",
              "\n",
              "    .dataframe thead th {\n",
              "        text-align: right;\n",
              "    }\n",
              "</style>\n",
              "<table border=\"1\" class=\"dataframe\">\n",
              "  <thead>\n",
              "    <tr style=\"text-align: right;\">\n",
              "      <th></th>\n",
              "      <th>coordL</th>\n",
              "      <th>coordW</th>\n",
              "      <th>place</th>\n",
              "      <th>district</th>\n",
              "      <th>DTPType</th>\n",
              "      <th>date</th>\n",
              "      <th>real_date</th>\n",
              "      <th>month</th>\n",
              "      <th>season</th>\n",
              "      <th>NVehicles</th>\n",
              "      <th>NPatricipants</th>\n",
              "      <th>NInjured</th>\n",
              "      <th>NFatal</th>\n",
              "      <th>additionalFactor</th>\n",
              "      <th>lightConditions</th>\n",
              "      <th>weatherConditions</th>\n",
              "      <th>placeConditions</th>\n",
              "      <th>closeObjects</th>\n",
              "      <th>violations</th>\n",
              "      <th>violationsAdditional</th>\n",
              "      <th>privod</th>\n",
              "      <th>traffic_regime</th>\n",
              "      <th>pokritie</th>\n",
              "      <th>neispravnosti</th>\n",
              "      <th>safety_belt</th>\n",
              "      <th>sublocality</th>\n",
              "    </tr>\n",
              "  </thead>\n",
              "  <tbody>\n",
              "    <tr>\n",
              "      <th>0</th>\n",
              "      <td>37.464817</td>\n",
              "      <td>55.758116</td>\n",
              "      <td>ул Мнёвники Нижн.</td>\n",
              "      <td>Хорошево-мневники</td>\n",
              "      <td>Наезд на препятствие</td>\n",
              "      <td>01.01.2020</td>\n",
              "      <td>2020-01-01</td>\n",
              "      <td>1</td>\n",
              "      <td>Winter</td>\n",
              "      <td>1</td>\n",
              "      <td>1</td>\n",
              "      <td>1</td>\n",
              "      <td>0</td>\n",
              "      <td>Сведения отсутствуют</td>\n",
              "      <td>0.5</td>\n",
              "      <td>Пасмурно</td>\n",
              "      <td>Перегон (нет объектов на месте ДТП)</td>\n",
              "      <td>Остановка общественного транспорта</td>\n",
              "      <td>Несоответствие скорости конкретным условиям дв...</td>\n",
              "      <td>Нет нарушений</td>\n",
              "      <td>передний</td>\n",
              "      <td>Режим движения не изменялся</td>\n",
              "      <td>Мокрое</td>\n",
              "      <td>Технические неисправности отсутствуют</td>\n",
              "      <td>Нет</td>\n",
              "      <td>Северо-Западный административный округ</td>\n",
              "    </tr>\n",
              "    <tr>\n",
              "      <th>1</th>\n",
              "      <td>37.388953</td>\n",
              "      <td>55.811338</td>\n",
              "      <td>Московская кольцевая автомобильная дорога (МКА...</td>\n",
              "      <td>Строгино</td>\n",
              "      <td>Наезд на стоящее ТС</td>\n",
              "      <td>01.01.2020</td>\n",
              "      <td>2020-01-01</td>\n",
              "      <td>1</td>\n",
              "      <td>Winter</td>\n",
              "      <td>2</td>\n",
              "      <td>2</td>\n",
              "      <td>1</td>\n",
              "      <td>0</td>\n",
              "      <td>Наличие на дороге объектов, мешающих движению</td>\n",
              "      <td>1.0</td>\n",
              "      <td>Ясно</td>\n",
              "      <td>Перегон (нет объектов на месте ДТП)</td>\n",
              "      <td>Отсутствие в непосредственной близости объекто...</td>\n",
              "      <td>Несоответствие скорости конкретным условиям дв...</td>\n",
              "      <td>Нет нарушений</td>\n",
              "      <td>передний</td>\n",
              "      <td>Движение частично перекрыто</td>\n",
              "      <td>Сухое</td>\n",
              "      <td>Технические неисправности отсутствуют</td>\n",
              "      <td>Нет</td>\n",
              "      <td>Северо-Западный административный округ</td>\n",
              "    </tr>\n",
              "    <tr>\n",
              "      <th>2</th>\n",
              "      <td>37.623153</td>\n",
              "      <td>55.866787</td>\n",
              "      <td>Юрловский пр-д</td>\n",
              "      <td>Отрадное</td>\n",
              "      <td>Наезд на пешехода</td>\n",
              "      <td>01.01.2020</td>\n",
              "      <td>2020-01-01</td>\n",
              "      <td>1</td>\n",
              "      <td>Winter</td>\n",
              "      <td>1</td>\n",
              "      <td>2</td>\n",
              "      <td>1</td>\n",
              "      <td>0</td>\n",
              "      <td>Сужение проезжей части</td>\n",
              "      <td>1.0</td>\n",
              "      <td>Пасмурно</td>\n",
              "      <td>Внутридворовая территория</td>\n",
              "      <td>Административные здания</td>\n",
              "      <td>Несоблюдение очередности проезда</td>\n",
              "      <td>Другие нарушения ПДД водителем</td>\n",
              "      <td>праворукий</td>\n",
              "      <td>Режим движения не изменялся</td>\n",
              "      <td>Сухое</td>\n",
              "      <td>Технические неисправности отсутствуют</td>\n",
              "      <td>Нет</td>\n",
              "      <td>Северо-Восточный административный округ</td>\n",
              "    </tr>\n",
              "    <tr>\n",
              "      <th>3</th>\n",
              "      <td>37.588413</td>\n",
              "      <td>55.660576</td>\n",
              "      <td>ул Болотниковская</td>\n",
              "      <td>Зюзино</td>\n",
              "      <td>Столкновение</td>\n",
              "      <td>01.01.2020</td>\n",
              "      <td>2020-01-01</td>\n",
              "      <td>1</td>\n",
              "      <td>Winter</td>\n",
              "      <td>2</td>\n",
              "      <td>3</td>\n",
              "      <td>1</td>\n",
              "      <td>0</td>\n",
              "      <td>Сведения отсутствуют</td>\n",
              "      <td>0.5</td>\n",
              "      <td>Пасмурно</td>\n",
              "      <td>Регулируемый пешеходный переход</td>\n",
              "      <td>Остановка общественного транспорта</td>\n",
              "      <td>Несоблюдение очередности проезда</td>\n",
              "      <td>Нет нарушений</td>\n",
              "      <td>передний</td>\n",
              "      <td>Движение частично перекрыто</td>\n",
              "      <td>Мокрое</td>\n",
              "      <td>Технические неисправности отсутствуют</td>\n",
              "      <td>Нет</td>\n",
              "      <td>Юго-Западный административный округ</td>\n",
              "    </tr>\n",
              "    <tr>\n",
              "      <th>4</th>\n",
              "      <td>37.636467</td>\n",
              "      <td>55.805098</td>\n",
              "      <td>пр-кт Мира</td>\n",
              "      <td>Алексеевский</td>\n",
              "      <td>Падение чего-либо</td>\n",
              "      <td>01.01.2020</td>\n",
              "      <td>2020-01-01</td>\n",
              "      <td>1</td>\n",
              "      <td>Winter</td>\n",
              "      <td>1</td>\n",
              "      <td>2</td>\n",
              "      <td>1</td>\n",
              "      <td>0</td>\n",
              "      <td>Участок, контролируемый камерой</td>\n",
              "      <td>0.5</td>\n",
              "      <td>Ясно</td>\n",
              "      <td>Остановка общественного транспорта</td>\n",
              "      <td>Остановка общественного транспорта</td>\n",
              "      <td>Нарушение правил пользования общественным тран...</td>\n",
              "      <td>Нарушение правил перевозки людей</td>\n",
              "      <td>передний</td>\n",
              "      <td>Режим движения не изменялся</td>\n",
              "      <td>Сухое</td>\n",
              "      <td>Технические неисправности отсутствуют</td>\n",
              "      <td>Нет</td>\n",
              "      <td>Северо-Восточный административный округ</td>\n",
              "    </tr>\n",
              "  </tbody>\n",
              "</table>\n",
              "</div>"
            ],
            "text/plain": [
              "      coordL     coordW  ... safety_belt                              sublocality\n",
              "0  37.464817  55.758116  ...         Нет   Северо-Западный административный округ\n",
              "1  37.388953  55.811338  ...         Нет   Северо-Западный административный округ\n",
              "2  37.623153  55.866787  ...         Нет  Северо-Восточный административный округ\n",
              "3  37.588413  55.660576  ...         Нет      Юго-Западный административный округ\n",
              "4  37.636467  55.805098  ...         Нет  Северо-Восточный административный округ\n",
              "\n",
              "[5 rows x 26 columns]"
            ]
          },
          "metadata": {},
          "execution_count": 12
        }
      ]
    },
    {
      "cell_type": "code",
      "source": [
        "top_10_viols"
      ],
      "metadata": {
        "colab": {
          "base_uri": "https://localhost:8080/"
        },
        "id": "73o0kq1NvaLE",
        "outputId": "1abe1db0-9b80-428c-e0e8-4567cbca6289"
      },
      "execution_count": null,
      "outputs": [
        {
          "output_type": "execute_result",
          "data": {
            "text/plain": [
              "Неправильный выбор дистанции                                          1137\n",
              "Нарушение правил проезда пешеходного перехода                          970\n",
              "Несоблюдение очередности проезда                                       962\n",
              "Несоответствие скорости конкретным условиям движения                   764\n",
              "Нарушение правил перестроения                                          405\n",
              "Несоблюдение условий, разрешающих движение транспорта задним ходом     317\n",
              "Нарушение требований сигналов светофора                                290\n",
              "Нарушение правил пользования общественным транспортом                  215\n",
              "Выезд на полосу встречного движения                                    132\n",
              "Нарушение правил расположения ТС на проезжей части                     128\n",
              "Непредоставление преимущества в движении пешеходу                       87\n",
              "Name: violations, dtype: int64"
            ]
          },
          "metadata": {},
          "execution_count": 8
        }
      ]
    },
    {
      "cell_type": "markdown",
      "source": [
        "Наша задача - создать комплекс рекомендаций для предотвращения аварий опредленного типа при определенных условиям(место, погода, сезон), чтобы уменьшить их тяжесть, материальный ущерб(машины или режим движения, в целом количество аварий)\n",
        "\n"
      ],
      "metadata": {
        "id": "PNWHJ9-RwMWU"
      }
    },
    {
      "cell_type": "markdown",
      "source": [
        "**Алгоритм работы:**\n",
        "\n",
        "1. Назовем эти столбцы индексы аварий или ИА:\n",
        "  1. Определить значения индекса тяжести для каждой аварии(придумать столбцы, которые должны туда входить)\n",
        "  2. Определить индекс материального ущерба от авариий(\"-\")\n",
        "2. Разбить датасет по видам нарушений\n",
        "3. выделить группу аварий, где никто не нарушил ПДД, выбрать из этой группы аварии, где нет внешней причины. \n",
        "4. найти зависимости ИА для каждой группы от места, времени, погодных условий и других характерных особенностей.\n",
        "5. Из полученных выше данных определить искомый список рекомендаций.\n"
      ],
      "metadata": {
        "id": "R4IaoIX9xMoO"
      }
    },
    {
      "cell_type": "markdown",
      "source": [
        ""
      ],
      "metadata": {
        "id": "q4doMI-TxTVd"
      }
    }
  ]
}