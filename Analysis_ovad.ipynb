{
  "nbformat": 4,
  "nbformat_minor": 0,
  "metadata": {
    "colab": {
      "name": "Analysis_ovad.ipynb",
      "provenance": [],
      "collapsed_sections": [
        "apUiHoOgN3eu",
        "ExJ-u0kUn8f7",
        "T7Zn1vsIoAqL",
        "ph82BKqno5zD",
        "BDgy0eJZJ2u7",
        "aDItpsbrNy-f"
      ],
      "mount_file_id": "1FV4W92e2xOrKUvtxJSEQV89R3dvD5P3T",
      "authorship_tag": "ABX9TyPKn6IPbfKmHvaSJGDiZpk3",
      "include_colab_link": true
    },
    "kernelspec": {
      "name": "python3",
      "display_name": "Python 3"
    },
    "language_info": {
      "name": "python"
    },
    "widgets": {
      "application/vnd.jupyter.widget-state+json": {
        "16e2aa47b31441b6973f601628e24983": {
          "model_module": "catboost-widget",
          "model_name": "CatboostWidgetModel",
          "model_module_version": "^1.0.0",
          "state": {
            "_view_name": "CatboostWidgetView",
            "_dom_classes": [],
            "_model_name": "CatboostWidgetModel",
            "data": {
              "catboost_info/fold-4": {
                "content": {
                  "data": {
                    "meta": {
                      "name": "experiment",
                      "parameters": "",
                      "test_metrics": [
                        {
                          "best_value": "Min",
                          "name": "RMSE"
                        }
                      ],
                      "learn_sets": [
                        "learn"
                      ],
                      "launch_mode": "Train",
                      "learn_metrics": [
                        {
                          "best_value": "Min",
                          "name": "RMSE"
                        }
                      ],
                      "iteration_count": 300,
                      "test_sets": [
                        "test"
                      ]
                    },
                    "iterations": [
                      {
                        "test": [
                          320.7673265
                        ],
                        "passed_time": 0.001432997782,
                        "iteration": 0,
                        "remaining_time": 0.4284663369,
                        "learn": [
                          328.228323
                        ]
                      },
                      {
                        "test": [
                          314.2336784
                        ],
                        "passed_time": 0.005163116099,
                        "iteration": 1,
                        "remaining_time": 0.7693042987,
                        "learn": [
                          321.6645219
                        ]
                      },
                      {
                        "test": [
                          307.9163146
                        ],
                        "passed_time": 0.008080274117,
                        "iteration": 2,
                        "remaining_time": 0.7999471376,
                        "learn": [
                          315.3530499
                        ]
                      },
                      {
                        "test": [
                          301.8582419
                        ],
                        "passed_time": 0.01033253114,
                        "iteration": 3,
                        "remaining_time": 0.7646073045,
                        "learn": [
                          309.3318986
                        ]
                      },
                      {
                        "test": [
                          296.0312457
                        ],
                        "passed_time": 0.01326646514,
                        "iteration": 4,
                        "remaining_time": 0.7827214431,
                        "learn": [
                          303.5206859
                        ]
                      },
                      {
                        "test": [
                          290.687436
                        ],
                        "passed_time": 0.01519655052,
                        "iteration": 5,
                        "remaining_time": 0.7446309754,
                        "learn": [
                          298.1507285
                        ]
                      },
                      {
                        "test": [
                          285.3899821
                        ],
                        "passed_time": 0.01784977737,
                        "iteration": 6,
                        "remaining_time": 0.7471406812,
                        "learn": [
                          292.8120007
                        ]
                      },
                      {
                        "test": [
                          280.3088915
                        ],
                        "passed_time": 0.02109969951,
                        "iteration": 7,
                        "remaining_time": 0.7701390321,
                        "learn": [
                          287.7196146
                        ]
                      },
                      {
                        "test": [
                          275.4322207
                        ],
                        "passed_time": 0.02375573084,
                        "iteration": 8,
                        "remaining_time": 0.7681019638,
                        "learn": [
                          282.81421
                        ]
                      },
                      {
                        "test": [
                          270.7699395
                        ],
                        "passed_time": 0.02801638871,
                        "iteration": 9,
                        "remaining_time": 0.8124752725,
                        "learn": [
                          278.1236312
                        ]
                      },
                      {
                        "test": [
                          266.2623223
                        ],
                        "passed_time": 0.02995796019,
                        "iteration": 10,
                        "remaining_time": 0.7870773177,
                        "learn": [
                          273.6338917
                        ]
                      },
                      {
                        "test": [
                          261.9564488
                        ],
                        "passed_time": 0.03261702508,
                        "iteration": 11,
                        "remaining_time": 0.782808602,
                        "learn": [
                          269.3274729
                        ]
                      },
                      {
                        "test": [
                          257.955473
                        ],
                        "passed_time": 0.03461384619,
                        "iteration": 12,
                        "remaining_time": 0.7641672198,
                        "learn": [
                          265.3031551
                        ]
                      },
                      {
                        "test": [
                          254.016
                        ],
                        "passed_time": 0.03712527541,
                        "iteration": 13,
                        "remaining_time": 0.7584163405,
                        "learn": [
                          261.3818123
                        ]
                      },
                      {
                        "test": [
                          250.2540003
                        ],
                        "passed_time": 0.03846196724,
                        "iteration": 14,
                        "remaining_time": 0.7307773775,
                        "learn": [
                          257.6243023
                        ]
                      },
                      {
                        "test": [
                          246.6517152
                        ],
                        "passed_time": 0.04041390939,
                        "iteration": 15,
                        "remaining_time": 0.7173468916,
                        "learn": [
                          254.0276651
                        ]
                      },
                      {
                        "test": [
                          243.2170167
                        ],
                        "passed_time": 0.04234734469,
                        "iteration": 16,
                        "remaining_time": 0.7049587381,
                        "learn": [
                          250.6051259
                        ]
                      },
                      {
                        "test": [
                          239.9507532
                        ],
                        "passed_time": 0.04419089389,
                        "iteration": 17,
                        "remaining_time": 0.6923240043,
                        "learn": [
                          247.3382174
                        ]
                      },
                      {
                        "test": [
                          236.8671192
                        ],
                        "passed_time": 0.04617508984,
                        "iteration": 18,
                        "remaining_time": 0.6829052761,
                        "learn": [
                          244.2656468
                        ]
                      },
                      {
                        "test": [
                          233.8598871
                        ],
                        "passed_time": 0.04857005175,
                        "iteration": 19,
                        "remaining_time": 0.6799807245,
                        "learn": [
                          241.2953773
                        ]
                      },
                      {
                        "test": [
                          231.0643749
                        ],
                        "passed_time": 0.05039608317,
                        "iteration": 20,
                        "remaining_time": 0.6695479622,
                        "learn": [
                          238.4492258
                        ]
                      },
                      {
                        "test": [
                          228.3303545
                        ],
                        "passed_time": 0.0523378192,
                        "iteration": 21,
                        "remaining_time": 0.6613597153,
                        "learn": [
                          235.7291097
                        ]
                      },
                      {
                        "test": [
                          225.7513428
                        ],
                        "passed_time": 0.05427437443,
                        "iteration": 22,
                        "remaining_time": 0.6536522485,
                        "learn": [
                          233.152804
                        ]
                      },
                      {
                        "test": [
                          223.3568406
                        ],
                        "passed_time": 0.05561369347,
                        "iteration": 23,
                        "remaining_time": 0.6395574749,
                        "learn": [
                          230.7343747
                        ]
                      },
                      {
                        "test": [
                          221.0528667
                        ],
                        "passed_time": 0.05748197482,
                        "iteration": 24,
                        "remaining_time": 0.6323017231,
                        "learn": [
                          228.4033352
                        ]
                      },
                      {
                        "test": [
                          218.8566894
                        ],
                        "passed_time": 0.05984537837,
                        "iteration": 25,
                        "remaining_time": 0.6306782182,
                        "learn": [
                          226.1974985
                        ]
                      },
                      {
                        "test": [
                          216.7309936
                        ],
                        "passed_time": 0.06171811962,
                        "iteration": 26,
                        "remaining_time": 0.6240387651,
                        "learn": [
                          224.0893869
                        ]
                      },
                      {
                        "test": [
                          214.7932718
                        ],
                        "passed_time": 0.06309059608,
                        "iteration": 27,
                        "remaining_time": 0.6128800762,
                        "learn": [
                          222.2187658
                        ]
                      },
                      {
                        "test": [
                          212.9158234
                        ],
                        "passed_time": 0.06524455719,
                        "iteration": 28,
                        "remaining_time": 0.6096991379,
                        "learn": [
                          220.3211019
                        ]
                      },
                      {
                        "test": [
                          211.091425
                        ],
                        "passed_time": 0.06794094395,
                        "iteration": 29,
                        "remaining_time": 0.6114684956,
                        "learn": [
                          218.531125
                        ]
                      },
                      {
                        "test": [
                          209.3655059
                        ],
                        "passed_time": 0.06976872534,
                        "iteration": 30,
                        "remaining_time": 0.6054124876,
                        "learn": [
                          216.7877392
                        ]
                      },
                      {
                        "test": [
                          207.8119213
                        ],
                        "passed_time": 0.07061903932,
                        "iteration": 31,
                        "remaining_time": 0.5914344543,
                        "learn": [
                          215.2814006
                        ]
                      },
                      {
                        "test": [
                          206.2725839
                        ],
                        "passed_time": 0.07259926263,
                        "iteration": 32,
                        "remaining_time": 0.587394034,
                        "learn": [
                          213.7014125
                        ]
                      },
                      {
                        "test": [
                          204.799991
                        ],
                        "passed_time": 0.07456377085,
                        "iteration": 33,
                        "remaining_time": 0.5833518543,
                        "learn": [
                          212.2300281
                        ]
                      },
                      {
                        "test": [
                          203.392869
                        ],
                        "passed_time": 0.07655695296,
                        "iteration": 34,
                        "remaining_time": 0.579645501,
                        "learn": [
                          210.8478648
                        ]
                      },
                      {
                        "test": [
                          202.0499973
                        ],
                        "passed_time": 0.07851388045,
                        "iteration": 35,
                        "remaining_time": 0.5757684566,
                        "learn": [
                          209.5148249
                        ]
                      },
                      {
                        "test": [
                          200.7953667
                        ],
                        "passed_time": 0.08048244585,
                        "iteration": 36,
                        "remaining_time": 0.5720779259,
                        "learn": [
                          208.2655478
                        ]
                      },
                      {
                        "test": [
                          199.6379781
                        ],
                        "passed_time": 0.08185712771,
                        "iteration": 37,
                        "remaining_time": 0.5643833542,
                        "learn": [
                          207.1285409
                        ]
                      },
                      {
                        "test": [
                          198.5170991
                        ],
                        "passed_time": 0.08449964662,
                        "iteration": 38,
                        "remaining_time": 0.5654976351,
                        "learn": [
                          206.0068974
                        ]
                      },
                      {
                        "test": [
                          197.4578843
                        ],
                        "passed_time": 0.08679604444,
                        "iteration": 39,
                        "remaining_time": 0.5641742889,
                        "learn": [
                          204.9356227
                        ]
                      },
                      {
                        "test": [
                          196.4684407
                        ],
                        "passed_time": 0.08873162424,
                        "iteration": 40,
                        "remaining_time": 0.5605241629,
                        "learn": [
                          203.9390112
                        ]
                      },
                      {
                        "test": [
                          195.5366957
                        ],
                        "passed_time": 0.09069257255,
                        "iteration": 41,
                        "remaining_time": 0.5571115171,
                        "learn": [
                          202.9802768
                        ]
                      },
                      {
                        "test": [
                          194.636645
                        ],
                        "passed_time": 0.09330918751,
                        "iteration": 42,
                        "remaining_time": 0.557685144,
                        "learn": [
                          202.0692173
                        ]
                      },
                      {
                        "test": [
                          193.7877338
                        ],
                        "passed_time": 0.09545582516,
                        "iteration": 43,
                        "remaining_time": 0.5553793464,
                        "learn": [
                          201.222387
                        ]
                      },
                      {
                        "test": [
                          192.9959501
                        ],
                        "passed_time": 0.09749660162,
                        "iteration": 44,
                        "remaining_time": 0.5524807425,
                        "learn": [
                          200.4165761
                        ]
                      },
                      {
                        "test": [
                          192.2607071
                        ],
                        "passed_time": 0.09891491429,
                        "iteration": 45,
                        "remaining_time": 0.5461823528,
                        "learn": [
                          199.6704667
                        ]
                      },
                      {
                        "test": [
                          191.5211275
                        ],
                        "passed_time": 0.1009380657,
                        "iteration": 46,
                        "remaining_time": 0.5433474601,
                        "learn": [
                          198.9185366
                        ]
                      },
                      {
                        "test": [
                          190.7629682
                        ],
                        "passed_time": 0.1032973021,
                        "iteration": 47,
                        "remaining_time": 0.5423108359,
                        "learn": [
                          198.1497993
                        ]
                      },
                      {
                        "test": [
                          190.0947472
                        ],
                        "passed_time": 0.1056051451,
                        "iteration": 48,
                        "remaining_time": 0.5409569677,
                        "learn": [
                          197.4384955
                        ]
                      },
                      {
                        "test": [
                          189.5017946
                        ],
                        "passed_time": 0.1077345931,
                        "iteration": 49,
                        "remaining_time": 0.5386729657,
                        "learn": [
                          196.830755
                        ]
                      },
                      {
                        "test": [
                          188.9365286
                        ],
                        "passed_time": 0.1091164785,
                        "iteration": 50,
                        "remaining_time": 0.5327451595,
                        "learn": [
                          196.2640213
                        ]
                      },
                      {
                        "test": [
                          188.397727
                        ],
                        "passed_time": 0.1118170388,
                        "iteration": 51,
                        "remaining_time": 0.5332812618,
                        "learn": [
                          195.7231063
                        ]
                      },
                      {
                        "test": [
                          187.8133241
                        ],
                        "passed_time": 0.1139841323,
                        "iteration": 52,
                        "remaining_time": 0.5312090694,
                        "learn": [
                          195.1507768
                        ]
                      },
                      {
                        "test": [
                          187.2680936
                        ],
                        "passed_time": 0.1159689219,
                        "iteration": 53,
                        "remaining_time": 0.5283028663,
                        "learn": [
                          194.6196439
                        ]
                      },
                      {
                        "test": [
                          186.7266203
                        ],
                        "passed_time": 0.1179243139,
                        "iteration": 54,
                        "remaining_time": 0.5252992166,
                        "learn": [
                          194.0643522
                        ]
                      },
                      {
                        "test": [
                          186.192228
                        ],
                        "passed_time": 0.1200716816,
                        "iteration": 55,
                        "remaining_time": 0.5231694697,
                        "learn": [
                          193.593967
                        ]
                      },
                      {
                        "test": [
                          185.7227371
                        ],
                        "passed_time": 0.1221078909,
                        "iteration": 56,
                        "remaining_time": 0.5205652189,
                        "learn": [
                          193.1471525
                        ]
                      },
                      {
                        "test": [
                          185.2491906
                        ],
                        "passed_time": 0.1241104364,
                        "iteration": 57,
                        "remaining_time": 0.5178400967,
                        "learn": [
                          192.6860392
                        ]
                      },
                      {
                        "test": [
                          184.9050462
                        ],
                        "passed_time": 0.1249806526,
                        "iteration": 58,
                        "remaining_time": 0.5105141913,
                        "learn": [
                          192.3576723
                        ]
                      },
                      {
                        "test": [
                          184.5363266
                        ],
                        "passed_time": 0.1269210032,
                        "iteration": 59,
                        "remaining_time": 0.5076840129,
                        "learn": [
                          191.9847724
                        ]
                      },
                      {
                        "test": [
                          184.1625706
                        ],
                        "passed_time": 0.1289169907,
                        "iteration": 60,
                        "remaining_time": 0.5051009965,
                        "learn": [
                          191.592457
                        ]
                      },
                      {
                        "test": [
                          183.7986744
                        ],
                        "passed_time": 0.1309138709,
                        "iteration": 61,
                        "remaining_time": 0.5025403433,
                        "learn": [
                          191.2267885
                        ]
                      },
                      {
                        "test": [
                          183.4187109
                        ],
                        "passed_time": 0.1328624404,
                        "iteration": 62,
                        "remaining_time": 0.4998158473,
                        "learn": [
                          190.8644733
                        ]
                      },
                      {
                        "test": [
                          183.0708524
                        ],
                        "passed_time": 0.1347554403,
                        "iteration": 63,
                        "remaining_time": 0.4969106861,
                        "learn": [
                          190.5443623
                        ]
                      },
                      {
                        "test": [
                          182.7165614
                        ],
                        "passed_time": 0.1367607058,
                        "iteration": 64,
                        "remaining_time": 0.4944425516,
                        "learn": [
                          190.2021254
                        ]
                      },
                      {
                        "test": [
                          182.4289648
                        ],
                        "passed_time": 0.1387302166,
                        "iteration": 65,
                        "remaining_time": 0.4918616771,
                        "learn": [
                          189.9146778
                        ]
                      },
                      {
                        "test": [
                          182.1051133
                        ],
                        "passed_time": 0.1407498299,
                        "iteration": 66,
                        "remaining_time": 0.4894732891,
                        "learn": [
                          189.608663
                        ]
                      },
                      {
                        "test": [
                          181.9043912
                        ],
                        "passed_time": 0.1421268281,
                        "iteration": 67,
                        "remaining_time": 0.4849032958,
                        "learn": [
                          189.3995965
                        ]
                      },
                      {
                        "test": [
                          181.6581754
                        ],
                        "passed_time": 0.1441036806,
                        "iteration": 68,
                        "remaining_time": 0.482434061,
                        "learn": [
                          189.1447092
                        ]
                      },
                      {
                        "test": [
                          181.4747422
                        ],
                        "passed_time": 0.1454482349,
                        "iteration": 69,
                        "remaining_time": 0.4779013434,
                        "learn": [
                          188.9730011
                        ]
                      },
                      {
                        "test": [
                          181.2989088
                        ],
                        "passed_time": 0.1468169878,
                        "iteration": 70,
                        "remaining_time": 0.4735364819,
                        "learn": [
                          188.7983507
                        ]
                      },
                      {
                        "test": [
                          181.0920134
                        ],
                        "passed_time": 0.1486178062,
                        "iteration": 71,
                        "remaining_time": 0.470623053,
                        "learn": [
                          188.5938964
                        ]
                      },
                      {
                        "test": [
                          180.9323331
                        ],
                        "passed_time": 0.1505609068,
                        "iteration": 72,
                        "remaining_time": 0.4681825456,
                        "learn": [
                          188.4210991
                        ]
                      },
                      {
                        "test": [
                          180.7598356
                        ],
                        "passed_time": 0.1523893072,
                        "iteration": 73,
                        "remaining_time": 0.4654051815,
                        "learn": [
                          188.2568661
                        ]
                      },
                      {
                        "test": [
                          180.57616
                        ],
                        "passed_time": 0.1545059801,
                        "iteration": 74,
                        "remaining_time": 0.4635179403,
                        "learn": [
                          188.095811
                        ]
                      },
                      {
                        "test": [
                          180.3874006
                        ],
                        "passed_time": 0.1566140723,
                        "iteration": 75,
                        "remaining_time": 0.4615993709,
                        "learn": [
                          187.9036034
                        ]
                      },
                      {
                        "test": [
                          180.1966556
                        ],
                        "passed_time": 0.1580339022,
                        "iteration": 76,
                        "remaining_time": 0.4576825998,
                        "learn": [
                          187.7481503
                        ]
                      },
                      {
                        "test": [
                          179.9955546
                        ],
                        "passed_time": 0.1600827121,
                        "iteration": 77,
                        "remaining_time": 0.4556200267,
                        "learn": [
                          187.563192
                        ]
                      },
                      {
                        "test": [
                          179.8598082
                        ],
                        "passed_time": 0.1620710198,
                        "iteration": 78,
                        "remaining_time": 0.453388549,
                        "learn": [
                          187.4237097
                        ]
                      },
                      {
                        "test": [
                          179.7117783
                        ],
                        "passed_time": 0.1641892708,
                        "iteration": 79,
                        "remaining_time": 0.4515204947,
                        "learn": [
                          187.2702729
                        ]
                      },
                      {
                        "test": [
                          179.5518161
                        ],
                        "passed_time": 0.1669909242,
                        "iteration": 80,
                        "remaining_time": 0.4514939803,
                        "learn": [
                          187.1415287
                        ]
                      },
                      {
                        "test": [
                          179.385031
                        ],
                        "passed_time": 0.1727157991,
                        "iteration": 81,
                        "remaining_time": 0.4591712709,
                        "learn": [
                          186.9720675
                        ]
                      },
                      {
                        "test": [
                          179.2903641
                        ],
                        "passed_time": 0.1747234136,
                        "iteration": 82,
                        "remaining_time": 0.4568069971,
                        "learn": [
                          186.8358879
                        ]
                      },
                      {
                        "test": [
                          179.1721175
                        ],
                        "passed_time": 0.17673112,
                        "iteration": 83,
                        "remaining_time": 0.4544514513,
                        "learn": [
                          186.7275756
                        ]
                      },
                      {
                        "test": [
                          179.0066865
                        ],
                        "passed_time": 0.1787567095,
                        "iteration": 84,
                        "remaining_time": 0.452149324,
                        "learn": [
                          186.5680165
                        ]
                      },
                      {
                        "test": [
                          178.8922781
                        ],
                        "passed_time": 0.1807148633,
                        "iteration": 85,
                        "remaining_time": 0.4496858227,
                        "learn": [
                          186.4583861
                        ]
                      },
                      {
                        "test": [
                          178.7457874
                        ],
                        "passed_time": 0.1826523513,
                        "iteration": 86,
                        "remaining_time": 0.4471833427,
                        "learn": [
                          186.3320515
                        ]
                      },
                      {
                        "test": [
                          178.6431094
                        ],
                        "passed_time": 0.1849919281,
                        "iteration": 87,
                        "remaining_time": 0.4456623722,
                        "learn": [
                          186.2300189
                        ]
                      },
                      {
                        "test": [
                          178.5412335
                        ],
                        "passed_time": 0.1880401358,
                        "iteration": 88,
                        "remaining_time": 0.4458030186,
                        "learn": [
                          186.1493727
                        ]
                      },
                      {
                        "test": [
                          178.4744527
                        ],
                        "passed_time": 0.1900688589,
                        "iteration": 89,
                        "remaining_time": 0.4434940041,
                        "learn": [
                          186.0934275
                        ]
                      },
                      {
                        "test": [
                          178.3792776
                        ],
                        "passed_time": 0.1920493104,
                        "iteration": 90,
                        "remaining_time": 0.4410802843,
                        "learn": [
                          185.9800573
                        ]
                      },
                      {
                        "test": [
                          178.272641
                        ],
                        "passed_time": 0.1939792821,
                        "iteration": 91,
                        "remaining_time": 0.4385618553,
                        "learn": [
                          185.8851894
                        ]
                      },
                      {
                        "test": [
                          178.190587
                        ],
                        "passed_time": 0.1959530847,
                        "iteration": 92,
                        "remaining_time": 0.4361536401,
                        "learn": [
                          185.7977085
                        ]
                      },
                      {
                        "test": [
                          178.1239515
                        ],
                        "passed_time": 0.197313756,
                        "iteration": 93,
                        "remaining_time": 0.4324109971,
                        "learn": [
                          185.7411338
                        ]
                      },
                      {
                        "test": [
                          178.0803827
                        ],
                        "passed_time": 0.1992341407,
                        "iteration": 94,
                        "remaining_time": 0.4299263035,
                        "learn": [
                          185.6960638
                        ]
                      },
                      {
                        "test": [
                          178.0264932
                        ],
                        "passed_time": 0.2005834922,
                        "iteration": 95,
                        "remaining_time": 0.4262399209,
                        "learn": [
                          185.6451968
                        ]
                      },
                      {
                        "test": [
                          177.9484164
                        ],
                        "passed_time": 0.2026041382,
                        "iteration": 96,
                        "remaining_time": 0.4240065985,
                        "learn": [
                          185.564769
                        ]
                      },
                      {
                        "test": [
                          177.9132869
                        ],
                        "passed_time": 0.204842371,
                        "iteration": 97,
                        "remaining_time": 0.4222261117,
                        "learn": [
                          185.4989049
                        ]
                      },
                      {
                        "test": [
                          177.8361486
                        ],
                        "passed_time": 0.2068260642,
                        "iteration": 98,
                        "remaining_time": 0.419919585,
                        "learn": [
                          185.4265121
                        ]
                      },
                      {
                        "test": [
                          177.742879
                        ],
                        "passed_time": 0.2087721284,
                        "iteration": 99,
                        "remaining_time": 0.4175442567,
                        "learn": [
                          185.3670372
                        ]
                      },
                      {
                        "test": [
                          177.6962658
                        ],
                        "passed_time": 0.2107019546,
                        "iteration": 100,
                        "remaining_time": 0.4151454354,
                        "learn": [
                          185.3226833
                        ]
                      },
                      {
                        "test": [
                          177.612048
                        ],
                        "passed_time": 0.2126700701,
                        "iteration": 101,
                        "remaining_time": 0.412830136,
                        "learn": [
                          185.2555341
                        ]
                      },
                      {
                        "test": [
                          177.5650529
                        ],
                        "passed_time": 0.2144617132,
                        "iteration": 102,
                        "remaining_time": 0.4101840534,
                        "learn": [
                          185.2155146
                        ]
                      },
                      {
                        "test": [
                          177.5344294
                        ],
                        "passed_time": 0.2165357952,
                        "iteration": 103,
                        "remaining_time": 0.408086691,
                        "learn": [
                          185.1735127
                        ]
                      },
                      {
                        "test": [
                          177.4501261
                        ],
                        "passed_time": 0.2580180699,
                        "iteration": 104,
                        "remaining_time": 0.4791764156,
                        "learn": [
                          185.1107256
                        ]
                      },
                      {
                        "test": [
                          177.3979162
                        ],
                        "passed_time": 0.2858895029,
                        "iteration": 105,
                        "remaining_time": 0.5232317317,
                        "learn": [
                          185.057109
                        ]
                      },
                      {
                        "test": [
                          177.3483863
                        ],
                        "passed_time": 0.2903408427,
                        "iteration": 106,
                        "remaining_time": 0.5236989032,
                        "learn": [
                          185.0010461
                        ]
                      },
                      {
                        "test": [
                          177.3235357
                        ],
                        "passed_time": 0.2967406539,
                        "iteration": 107,
                        "remaining_time": 0.5275389402,
                        "learn": [
                          184.9454424
                        ]
                      },
                      {
                        "test": [
                          177.2953928
                        ],
                        "passed_time": 0.301123148,
                        "iteration": 108,
                        "remaining_time": 0.5276561585,
                        "learn": [
                          184.9172356
                        ]
                      },
                      {
                        "test": [
                          177.2642834
                        ],
                        "passed_time": 0.3074637687,
                        "iteration": 109,
                        "remaining_time": 0.5310737823,
                        "learn": [
                          184.8631825
                        ]
                      },
                      {
                        "test": [
                          177.235253
                        ],
                        "passed_time": 0.3117167413,
                        "iteration": 110,
                        "remaining_time": 0.5307609379,
                        "learn": [
                          184.8289187
                        ]
                      },
                      {
                        "test": [
                          177.1984478
                        ],
                        "passed_time": 0.3212323422,
                        "iteration": 111,
                        "remaining_time": 0.5392114316,
                        "learn": [
                          184.8027665
                        ]
                      },
                      {
                        "test": [
                          177.1777563
                        ],
                        "passed_time": 0.3246909205,
                        "iteration": 112,
                        "remaining_time": 0.5373203728,
                        "learn": [
                          184.7539111
                        ]
                      },
                      {
                        "test": [
                          177.1507789
                        ],
                        "passed_time": 0.3274873776,
                        "iteration": 113,
                        "remaining_time": 0.5343215109,
                        "learn": [
                          184.7242572
                        ]
                      },
                      {
                        "test": [
                          177.1211144
                        ],
                        "passed_time": 0.3327826734,
                        "iteration": 114,
                        "remaining_time": 0.5353460398,
                        "learn": [
                          184.6841404
                        ]
                      },
                      {
                        "test": [
                          177.1115728
                        ],
                        "passed_time": 0.3371487925,
                        "iteration": 115,
                        "remaining_time": 0.5347877398,
                        "learn": [
                          184.6420156
                        ]
                      },
                      {
                        "test": [
                          177.0867894
                        ],
                        "passed_time": 0.3422278223,
                        "iteration": 116,
                        "remaining_time": 0.5352794144,
                        "learn": [
                          184.6169753
                        ]
                      },
                      {
                        "test": [
                          177.0692356
                        ],
                        "passed_time": 0.3442222199,
                        "iteration": 117,
                        "remaining_time": 0.5309190171,
                        "learn": [
                          184.5920089
                        ]
                      },
                      {
                        "test": [
                          177.0330896
                        ],
                        "passed_time": 0.3463642494,
                        "iteration": 118,
                        "remaining_time": 0.526822934,
                        "learn": [
                          184.5611366
                        ]
                      },
                      {
                        "test": [
                          177.0035141
                        ],
                        "passed_time": 0.3483403465,
                        "iteration": 119,
                        "remaining_time": 0.5225105197,
                        "learn": [
                          184.5346256
                        ]
                      },
                      {
                        "test": [
                          176.9714921
                        ],
                        "passed_time": 0.3503696696,
                        "iteration": 120,
                        "remaining_time": 0.5183154616,
                        "learn": [
                          184.4789051
                        ]
                      },
                      {
                        "test": [
                          176.9501574
                        ],
                        "passed_time": 0.3523169864,
                        "iteration": 121,
                        "remaining_time": 0.5140362588,
                        "learn": [
                          184.4482779
                        ]
                      },
                      {
                        "test": [
                          176.9263908
                        ],
                        "passed_time": 0.3543087558,
                        "iteration": 122,
                        "remaining_time": 0.5098589413,
                        "learn": [
                          184.4278622
                        ]
                      },
                      {
                        "test": [
                          176.9049616
                        ],
                        "passed_time": 0.3563268773,
                        "iteration": 123,
                        "remaining_time": 0.5057542775,
                        "learn": [
                          184.4011956
                        ]
                      },
                      {
                        "test": [
                          176.8980883
                        ],
                        "passed_time": 0.3582789531,
                        "iteration": 124,
                        "remaining_time": 0.5015905343,
                        "learn": [
                          184.3856217
                        ]
                      },
                      {
                        "test": [
                          176.8662809
                        ],
                        "passed_time": 0.3600661009,
                        "iteration": 125,
                        "remaining_time": 0.4972341393,
                        "learn": [
                          184.3574725
                        ]
                      },
                      {
                        "test": [
                          176.8542893
                        ],
                        "passed_time": 0.3620129468,
                        "iteration": 126,
                        "remaining_time": 0.4931357464,
                        "learn": [
                          184.3418485
                        ]
                      },
                      {
                        "test": [
                          176.8400467
                        ],
                        "passed_time": 0.3646475332,
                        "iteration": 127,
                        "remaining_time": 0.4899951227,
                        "learn": [
                          184.3233623
                        ]
                      },
                      {
                        "test": [
                          176.77407
                        ],
                        "passed_time": 0.3670581702,
                        "iteration": 128,
                        "remaining_time": 0.4865654814,
                        "learn": [
                          184.2694289
                        ]
                      },
                      {
                        "test": [
                          176.762505
                        ],
                        "passed_time": 0.368985412,
                        "iteration": 129,
                        "remaining_time": 0.4825193849,
                        "learn": [
                          184.2571654
                        ]
                      },
                      {
                        "test": [
                          176.7517446
                        ],
                        "passed_time": 0.3709353051,
                        "iteration": 130,
                        "remaining_time": 0.4785348592,
                        "learn": [
                          184.2348893
                        ]
                      },
                      {
                        "test": [
                          176.7264753
                        ],
                        "passed_time": 0.3728228842,
                        "iteration": 131,
                        "remaining_time": 0.4745018526,
                        "learn": [
                          184.213549
                        ]
                      },
                      {
                        "test": [
                          176.6975874
                        ],
                        "passed_time": 0.3747899514,
                        "iteration": 132,
                        "remaining_time": 0.4706009164,
                        "learn": [
                          184.1945067
                        ]
                      },
                      {
                        "test": [
                          176.68765
                        ],
                        "passed_time": 0.3766846894,
                        "iteration": 133,
                        "remaining_time": 0.4666392421,
                        "learn": [
                          184.185542
                        ]
                      },
                      {
                        "test": [
                          176.6560468
                        ],
                        "passed_time": 0.3785846119,
                        "iteration": 134,
                        "remaining_time": 0.4627145256,
                        "learn": [
                          184.1655498
                        ]
                      },
                      {
                        "test": [
                          176.6415212
                        ],
                        "passed_time": 0.380529386,
                        "iteration": 135,
                        "remaining_time": 0.4588736714,
                        "learn": [
                          184.1300546
                        ]
                      },
                      {
                        "test": [
                          176.631554
                        ],
                        "passed_time": 0.3824730593,
                        "iteration": 136,
                        "remaining_time": 0.4550591873,
                        "learn": [
                          184.1183679
                        ]
                      },
                      {
                        "test": [
                          176.5939201
                        ],
                        "passed_time": 0.3844216597,
                        "iteration": 137,
                        "remaining_time": 0.4512776005,
                        "learn": [
                          184.0855752
                        ]
                      },
                      {
                        "test": [
                          176.5766531
                        ],
                        "passed_time": 0.3863933086,
                        "iteration": 138,
                        "remaining_time": 0.4475490841,
                        "learn": [
                          184.0671678
                        ]
                      },
                      {
                        "test": [
                          176.5381092
                        ],
                        "passed_time": 0.38959864,
                        "iteration": 139,
                        "remaining_time": 0.4452555886,
                        "learn": [
                          184.0408958
                        ]
                      },
                      {
                        "test": [
                          176.529248
                        ],
                        "passed_time": 0.3916315321,
                        "iteration": 140,
                        "remaining_time": 0.4416270468,
                        "learn": [
                          184.0190491
                        ]
                      },
                      {
                        "test": [
                          176.4818876
                        ],
                        "passed_time": 0.3936211243,
                        "iteration": 141,
                        "remaining_time": 0.4379728003,
                        "learn": [
                          183.9811285
                        ]
                      },
                      {
                        "test": [
                          176.4680704
                        ],
                        "passed_time": 0.3955905878,
                        "iteration": 142,
                        "remaining_time": 0.4343197363,
                        "learn": [
                          183.948448
                        ]
                      },
                      {
                        "test": [
                          176.4173661
                        ],
                        "passed_time": 0.3975682358,
                        "iteration": 143,
                        "remaining_time": 0.4306989221,
                        "learn": [
                          183.8994467
                        ]
                      },
                      {
                        "test": [
                          176.3906239
                        ],
                        "passed_time": 0.3995746985,
                        "iteration": 144,
                        "remaining_time": 0.4271315742,
                        "learn": [
                          183.8668315
                        ]
                      },
                      {
                        "test": [
                          176.3803443
                        ],
                        "passed_time": 0.4015424748,
                        "iteration": 145,
                        "remaining_time": 0.4235448022,
                        "learn": [
                          183.8603208
                        ]
                      },
                      {
                        "test": [
                          176.385286
                        ],
                        "passed_time": 0.4034455717,
                        "iteration": 146,
                        "remaining_time": 0.4199127379,
                        "learn": [
                          183.8394541
                        ]
                      },
                      {
                        "test": [
                          176.3669265
                        ],
                        "passed_time": 0.4054293268,
                        "iteration": 147,
                        "remaining_time": 0.4163868761,
                        "learn": [
                          183.826603
                        ]
                      },
                      {
                        "test": [
                          176.3396345
                        ],
                        "passed_time": 0.4073721791,
                        "iteration": 148,
                        "remaining_time": 0.4128402621,
                        "learn": [
                          183.8058803
                        ]
                      },
                      {
                        "test": [
                          176.3408072
                        ],
                        "passed_time": 0.4098512664,
                        "iteration": 149,
                        "remaining_time": 0.4098512664,
                        "learn": [
                          183.7879274
                        ]
                      },
                      {
                        "test": [
                          176.3356621
                        ],
                        "passed_time": 0.4125101094,
                        "iteration": 150,
                        "remaining_time": 0.4070463994,
                        "learn": [
                          183.7740469
                        ]
                      },
                      {
                        "test": [
                          176.3080807
                        ],
                        "passed_time": 0.4143473315,
                        "iteration": 151,
                        "remaining_time": 0.4034434544,
                        "learn": [
                          183.7567235
                        ]
                      },
                      {
                        "test": [
                          176.2985241
                        ],
                        "passed_time": 0.4163091571,
                        "iteration": 152,
                        "remaining_time": 0.3999833078,
                        "learn": [
                          183.7339243
                        ]
                      },
                      {
                        "test": [
                          176.2979775
                        ],
                        "passed_time": 0.4182833133,
                        "iteration": 153,
                        "remaining_time": 0.39655431,
                        "learn": [
                          183.7276643
                        ]
                      },
                      {
                        "test": [
                          176.2672456
                        ],
                        "passed_time": 0.4202401135,
                        "iteration": 154,
                        "remaining_time": 0.3931278481,
                        "learn": [
                          183.7026098
                        ]
                      },
                      {
                        "test": [
                          176.2494588
                        ],
                        "passed_time": 0.4228080387,
                        "iteration": 155,
                        "remaining_time": 0.3902843434,
                        "learn": [
                          183.6842752
                        ]
                      },
                      {
                        "test": [
                          176.2035182
                        ],
                        "passed_time": 0.4251233442,
                        "iteration": 156,
                        "remaining_time": 0.3872142562,
                        "learn": [
                          183.6414548
                        ]
                      },
                      {
                        "test": [
                          176.1774987
                        ],
                        "passed_time": 0.4289980601,
                        "iteration": 157,
                        "remaining_time": 0.3855552186,
                        "learn": [
                          183.6188536
                        ]
                      },
                      {
                        "test": [
                          176.1613005
                        ],
                        "passed_time": 0.4323496526,
                        "iteration": 158,
                        "remaining_time": 0.3834044089,
                        "learn": [
                          183.5969295
                        ]
                      },
                      {
                        "test": [
                          176.1601517
                        ],
                        "passed_time": 0.4348349652,
                        "iteration": 159,
                        "remaining_time": 0.3804805945,
                        "learn": [
                          183.5667593
                        ]
                      },
                      {
                        "test": [
                          176.1585851
                        ],
                        "passed_time": 0.4356741903,
                        "iteration": 160,
                        "remaining_time": 0.3761410711,
                        "learn": [
                          183.5660294
                        ]
                      },
                      {
                        "test": [
                          176.1488974
                        ],
                        "passed_time": 0.4376184317,
                        "iteration": 161,
                        "remaining_time": 0.3727860715,
                        "learn": [
                          183.5470056
                        ]
                      },
                      {
                        "test": [
                          176.1416469
                        ],
                        "passed_time": 0.4395043327,
                        "iteration": 162,
                        "remaining_time": 0.3693993471,
                        "learn": [
                          183.5401417
                        ]
                      },
                      {
                        "test": [
                          176.1358548
                        ],
                        "passed_time": 0.4412778462,
                        "iteration": 163,
                        "remaining_time": 0.3659377261,
                        "learn": [
                          183.5333733
                        ]
                      },
                      {
                        "test": [
                          176.1335333
                        ],
                        "passed_time": 0.4433941073,
                        "iteration": 164,
                        "remaining_time": 0.3627769969,
                        "learn": [
                          183.5257014
                        ]
                      },
                      {
                        "test": [
                          176.1285431
                        ],
                        "passed_time": 0.4454743865,
                        "iteration": 165,
                        "remaining_time": 0.359599806,
                        "learn": [
                          183.5113446
                        ]
                      },
                      {
                        "test": [
                          176.1140962
                        ],
                        "passed_time": 0.4474271441,
                        "iteration": 166,
                        "remaining_time": 0.3563341926,
                        "learn": [
                          183.4881108
                        ]
                      },
                      {
                        "test": [
                          176.107334
                        ],
                        "passed_time": 0.449364982,
                        "iteration": 167,
                        "remaining_time": 0.3530724859,
                        "learn": [
                          183.4766061
                        ]
                      },
                      {
                        "test": [
                          176.0872604
                        ],
                        "passed_time": 0.4511768101,
                        "iteration": 168,
                        "remaining_time": 0.34972877,
                        "learn": [
                          183.4638249
                        ]
                      },
                      {
                        "test": [
                          176.0674387
                        ],
                        "passed_time": 0.4531020293,
                        "iteration": 169,
                        "remaining_time": 0.3464897871,
                        "learn": [
                          183.4332482
                        ]
                      },
                      {
                        "test": [
                          176.0651171
                        ],
                        "passed_time": 0.4550353273,
                        "iteration": 170,
                        "remaining_time": 0.3432722645,
                        "learn": [
                          183.4225521
                        ]
                      },
                      {
                        "test": [
                          176.0646909
                        ],
                        "passed_time": 0.4573843921,
                        "iteration": 171,
                        "remaining_time": 0.3403790825,
                        "learn": [
                          183.3820011
                        ]
                      },
                      {
                        "test": [
                          176.0596394
                        ],
                        "passed_time": 0.4602287454,
                        "iteration": 172,
                        "remaining_time": 0.3378557842,
                        "learn": [
                          183.3488144
                        ]
                      },
                      {
                        "test": [
                          176.0552787
                        ],
                        "passed_time": 0.4621924055,
                        "iteration": 173,
                        "remaining_time": 0.3346910522,
                        "learn": [
                          183.3382037
                        ]
                      },
                      {
                        "test": [
                          176.0342106
                        ],
                        "passed_time": 0.4640980223,
                        "iteration": 174,
                        "remaining_time": 0.3314985874,
                        "learn": [
                          183.3184488
                        ]
                      },
                      {
                        "test": [
                          176.0307897
                        ],
                        "passed_time": 0.4660533271,
                        "iteration": 175,
                        "remaining_time": 0.3283557532,
                        "learn": [
                          183.3133326
                        ]
                      },
                      {
                        "test": [
                          176.0292029
                        ],
                        "passed_time": 0.4681423552,
                        "iteration": 176,
                        "remaining_time": 0.3253192638,
                        "learn": [
                          183.2893772
                        ]
                      },
                      {
                        "test": [
                          176.0286716
                        ],
                        "passed_time": 0.4702482047,
                        "iteration": 177,
                        "remaining_time": 0.3223049493,
                        "learn": [
                          183.2745978
                        ]
                      },
                      {
                        "test": [
                          175.9974001
                        ],
                        "passed_time": 0.4721915825,
                        "iteration": 178,
                        "remaining_time": 0.319190958,
                        "learn": [
                          183.2389013
                        ]
                      },
                      {
                        "test": [
                          175.9975162
                        ],
                        "passed_time": 0.4743370056,
                        "iteration": 179,
                        "remaining_time": 0.3162246704,
                        "learn": [
                          183.2356714
                        ]
                      },
                      {
                        "test": [
                          175.9949949
                        ],
                        "passed_time": 0.4763374403,
                        "iteration": 180,
                        "remaining_time": 0.3131721293,
                        "learn": [
                          183.2283927
                        ]
                      },
                      {
                        "test": [
                          175.9898308
                        ],
                        "passed_time": 0.4782275003,
                        "iteration": 181,
                        "remaining_time": 0.3100595881,
                        "learn": [
                          183.2102941
                        ]
                      },
                      {
                        "test": [
                          175.9698386
                        ],
                        "passed_time": 0.480131838,
                        "iteration": 182,
                        "remaining_time": 0.3069695358,
                        "learn": [
                          183.1895979
                        ]
                      },
                      {
                        "test": [
                          175.9521057
                        ],
                        "passed_time": 0.4821052724,
                        "iteration": 183,
                        "remaining_time": 0.3039359326,
                        "learn": [
                          183.178553
                        ]
                      },
                      {
                        "test": [
                          175.9562221
                        ],
                        "passed_time": 0.4840008195,
                        "iteration": 184,
                        "remaining_time": 0.3008653743,
                        "learn": [
                          183.1501371
                        ]
                      },
                      {
                        "test": [
                          175.9529958
                        ],
                        "passed_time": 0.4858665737,
                        "iteration": 185,
                        "remaining_time": 0.2977891903,
                        "learn": [
                          183.1432482
                        ]
                      },
                      {
                        "test": [
                          175.9550345
                        ],
                        "passed_time": 0.4877889338,
                        "iteration": 186,
                        "remaining_time": 0.2947601578,
                        "learn": [
                          183.1314531
                        ]
                      },
                      {
                        "test": [
                          175.9521726
                        ],
                        "passed_time": 0.4897125557,
                        "iteration": 187,
                        "remaining_time": 0.2917436502,
                        "learn": [
                          183.1239972
                        ]
                      },
                      {
                        "test": [
                          175.9506901
                        ],
                        "passed_time": 0.49164938,
                        "iteration": 188,
                        "remaining_time": 0.2887464613,
                        "learn": [
                          183.1206974
                        ]
                      },
                      {
                        "test": [
                          175.9448781
                        ],
                        "passed_time": 0.4944472917,
                        "iteration": 189,
                        "remaining_time": 0.2862589583,
                        "learn": [
                          183.1134775
                        ]
                      },
                      {
                        "test": [
                          175.9494345
                        ],
                        "passed_time": 0.4963447442,
                        "iteration": 190,
                        "remaining_time": 0.2832543304,
                        "learn": [
                          183.1065971
                        ]
                      },
                      {
                        "test": [
                          175.9454809
                        ],
                        "passed_time": 0.4982795794,
                        "iteration": 191,
                        "remaining_time": 0.2802822634,
                        "learn": [
                          183.1024529
                        ]
                      },
                      {
                        "test": [
                          175.9268412
                        ],
                        "passed_time": 0.5007497132,
                        "iteration": 192,
                        "remaining_time": 0.2776177167,
                        "learn": [
                          183.0899163
                        ]
                      },
                      {
                        "test": [
                          175.9253249
                        ],
                        "passed_time": 0.5028461621,
                        "iteration": 193,
                        "remaining_time": 0.2747509958,
                        "learn": [
                          183.0879378
                        ]
                      },
                      {
                        "test": [
                          175.9174415
                        ],
                        "passed_time": 0.5048575265,
                        "iteration": 194,
                        "remaining_time": 0.2718463604,
                        "learn": [
                          183.0609251
                        ]
                      },
                      {
                        "test": [
                          175.9174503
                        ],
                        "passed_time": 0.5068054087,
                        "iteration": 195,
                        "remaining_time": 0.2689171556,
                        "learn": [
                          183.0554042
                        ]
                      },
                      {
                        "test": [
                          175.9186842
                        ],
                        "passed_time": 0.5087517783,
                        "iteration": 196,
                        "remaining_time": 0.2659971226,
                        "learn": [
                          183.0528144
                        ]
                      },
                      {
                        "test": [
                          175.9070123
                        ],
                        "passed_time": 0.5107334879,
                        "iteration": 197,
                        "remaining_time": 0.2631051301,
                        "learn": [
                          183.0337052
                        ]
                      },
                      {
                        "test": [
                          175.8917234
                        ],
                        "passed_time": 0.5131644381,
                        "iteration": 198,
                        "remaining_time": 0.2604502927,
                        "learn": [
                          183.0200674
                        ]
                      },
                      {
                        "test": [
                          175.8912922
                        ],
                        "passed_time": 0.5151886604,
                        "iteration": 199,
                        "remaining_time": 0.2575943302,
                        "learn": [
                          183.0115013
                        ]
                      },
                      {
                        "test": [
                          175.8769846
                        ],
                        "passed_time": 0.5173866277,
                        "iteration": 200,
                        "remaining_time": 0.2548322196,
                        "learn": [
                          183.000636
                        ]
                      },
                      {
                        "test": [
                          175.8579363
                        ],
                        "passed_time": 0.5193225575,
                        "iteration": 201,
                        "remaining_time": 0.2519485675,
                        "learn": [
                          182.9862209
                        ]
                      },
                      {
                        "test": [
                          175.8546008
                        ],
                        "passed_time": 0.5212405896,
                        "iteration": 202,
                        "remaining_time": 0.2490657004,
                        "learn": [
                          182.9827418
                        ]
                      },
                      {
                        "test": [
                          175.8549356
                        ],
                        "passed_time": 0.5231726358,
                        "iteration": 203,
                        "remaining_time": 0.2461988874,
                        "learn": [
                          182.9579966
                        ]
                      },
                      {
                        "test": [
                          175.8523835
                        ],
                        "passed_time": 0.525139954,
                        "iteration": 204,
                        "remaining_time": 0.2433575396,
                        "learn": [
                          182.9558512
                        ]
                      },
                      {
                        "test": [
                          175.8422328
                        ],
                        "passed_time": 0.5270676467,
                        "iteration": 205,
                        "remaining_time": 0.2405065961,
                        "learn": [
                          182.9480336
                        ]
                      },
                      {
                        "test": [
                          175.8413171
                        ],
                        "passed_time": 0.5290449555,
                        "iteration": 206,
                        "remaining_time": 0.2376868641,
                        "learn": [
                          182.9331612
                        ]
                      },
                      {
                        "test": [
                          175.8405065
                        ],
                        "passed_time": 0.5310956017,
                        "iteration": 207,
                        "remaining_time": 0.23490767,
                        "learn": [
                          182.9245048
                        ]
                      },
                      {
                        "test": [
                          175.8415797
                        ],
                        "passed_time": 0.5330694743,
                        "iteration": 208,
                        "remaining_time": 0.2321020199,
                        "learn": [
                          182.9119878
                        ]
                      },
                      {
                        "test": [
                          175.8410497
                        ],
                        "passed_time": 0.5350298272,
                        "iteration": 209,
                        "remaining_time": 0.2292984974,
                        "learn": [
                          182.9079575
                        ]
                      },
                      {
                        "test": [
                          175.8405887
                        ],
                        "passed_time": 0.5369495955,
                        "iteration": 210,
                        "remaining_time": 0.2264858483,
                        "learn": [
                          182.8995347
                        ]
                      },
                      {
                        "test": [
                          175.8253929
                        ],
                        "passed_time": 0.5389315288,
                        "iteration": 211,
                        "remaining_time": 0.223707427,
                        "learn": [
                          182.8603714
                        ]
                      },
                      {
                        "test": [
                          175.8247381
                        ],
                        "passed_time": 0.5408628614,
                        "iteration": 212,
                        "remaining_time": 0.2209158166,
                        "learn": [
                          182.8565497
                        ]
                      },
                      {
                        "test": [
                          175.8164138
                        ],
                        "passed_time": 0.5428140427,
                        "iteration": 213,
                        "remaining_time": 0.2181402227,
                        "learn": [
                          182.8489617
                        ]
                      },
                      {
                        "test": [
                          175.8172712
                        ],
                        "passed_time": 0.5447111606,
                        "iteration": 214,
                        "remaining_time": 0.215350924,
                        "learn": [
                          182.848104
                        ]
                      },
                      {
                        "test": [
                          175.8164321
                        ],
                        "passed_time": 0.5466475422,
                        "iteration": 215,
                        "remaining_time": 0.2125851553,
                        "learn": [
                          182.8408351
                        ]
                      },
                      {
                        "test": [
                          175.8148088
                        ],
                        "passed_time": 0.5486001553,
                        "iteration": 216,
                        "remaining_time": 0.2098332391,
                        "learn": [
                          182.8396453
                        ]
                      },
                      {
                        "test": [
                          175.8114719
                        ],
                        "passed_time": 0.5505253126,
                        "iteration": 217,
                        "remaining_time": 0.2070783286,
                        "learn": [
                          182.8062014
                        ]
                      },
                      {
                        "test": [
                          175.7946367
                        ],
                        "passed_time": 0.5524471027,
                        "iteration": 218,
                        "remaining_time": 0.2043297503,
                        "learn": [
                          182.7896285
                        ]
                      },
                      {
                        "test": [
                          175.8059427
                        ],
                        "passed_time": 0.5543529168,
                        "iteration": 219,
                        "remaining_time": 0.2015828788,
                        "learn": [
                          182.7704035
                        ]
                      },
                      {
                        "test": [
                          175.7902103
                        ],
                        "passed_time": 0.556177951,
                        "iteration": 220,
                        "remaining_time": 0.1988147427,
                        "learn": [
                          182.7419241
                        ]
                      },
                      {
                        "test": [
                          175.7870533
                        ],
                        "passed_time": 0.558250554,
                        "iteration": 221,
                        "remaining_time": 0.1961420865,
                        "learn": [
                          182.7128197
                        ]
                      },
                      {
                        "test": [
                          175.7883168
                        ],
                        "passed_time": 0.560206057,
                        "iteration": 222,
                        "remaining_time": 0.1934343784,
                        "learn": [
                          182.7092826
                        ]
                      },
                      {
                        "test": [
                          175.8058133
                        ],
                        "passed_time": 0.5621092757,
                        "iteration": 223,
                        "remaining_time": 0.1907156471,
                        "learn": [
                          182.6873348
                        ]
                      },
                      {
                        "test": [
                          175.8061215
                        ],
                        "passed_time": 0.5640052019,
                        "iteration": 224,
                        "remaining_time": 0.188001734,
                        "learn": [
                          182.6870105
                        ]
                      },
                      {
                        "test": [
                          175.8010329
                        ],
                        "passed_time": 0.5659577204,
                        "iteration": 225,
                        "remaining_time": 0.1853135899,
                        "learn": [
                          182.6700283
                        ]
                      },
                      {
                        "test": [
                          175.7737125
                        ],
                        "passed_time": 0.5680274143,
                        "iteration": 226,
                        "remaining_time": 0.182669609,
                        "learn": [
                          182.6475818
                        ]
                      },
                      {
                        "test": [
                          175.7743786
                        ],
                        "passed_time": 0.5699594879,
                        "iteration": 227,
                        "remaining_time": 0.1799872067,
                        "learn": [
                          182.629634
                        ]
                      },
                      {
                        "test": [
                          175.7709662
                        ],
                        "passed_time": 0.5719007121,
                        "iteration": 228,
                        "remaining_time": 0.1773141946,
                        "learn": [
                          182.6245037
                        ]
                      },
                      {
                        "test": [
                          175.7723189
                        ],
                        "passed_time": 0.5738251512,
                        "iteration": 229,
                        "remaining_time": 0.1746424373,
                        "learn": [
                          182.62217
                        ]
                      },
                      {
                        "test": [
                          175.7590713
                        ],
                        "passed_time": 0.5757274573,
                        "iteration": 230,
                        "remaining_time": 0.1719705392,
                        "learn": [
                          182.6070151
                        ]
                      },
                      {
                        "test": [
                          175.7554171
                        ],
                        "passed_time": 0.5776729168,
                        "iteration": 231,
                        "remaining_time": 0.1693179239,
                        "learn": [
                          182.6024714
                        ]
                      },
                      {
                        "test": [
                          175.7608663
                        ],
                        "passed_time": 0.5796285525,
                        "iteration": 232,
                        "remaining_time": 0.1666743048,
                        "learn": [
                          182.5954607
                        ]
                      },
                      {
                        "test": [
                          175.7605827
                        ],
                        "passed_time": 0.5815409829,
                        "iteration": 233,
                        "remaining_time": 0.1640243798,
                        "learn": [
                          182.5879483
                        ]
                      },
                      {
                        "test": [
                          175.7612704
                        ],
                        "passed_time": 0.5834047534,
                        "iteration": 234,
                        "remaining_time": 0.1613672722,
                        "learn": [
                          182.5792231
                        ]
                      },
                      {
                        "test": [
                          175.7484653
                        ],
                        "passed_time": 0.5859622552,
                        "iteration": 235,
                        "remaining_time": 0.1589050184,
                        "learn": [
                          182.5687591
                        ]
                      },
                      {
                        "test": [
                          175.7484044
                        ],
                        "passed_time": 0.5878748155,
                        "iteration": 236,
                        "remaining_time": 0.1562705206,
                        "learn": [
                          182.5668977
                        ]
                      },
                      {
                        "test": [
                          175.7483015
                        ],
                        "passed_time": 0.5897847996,
                        "iteration": 237,
                        "remaining_time": 0.1536414184,
                        "learn": [
                          182.5664749
                        ]
                      },
                      {
                        "test": [
                          175.7339656
                        ],
                        "passed_time": 0.5926189531,
                        "iteration": 238,
                        "remaining_time": 0.1512542098,
                        "learn": [
                          182.5493489
                        ]
                      },
                      {
                        "test": [
                          175.7370103
                        ],
                        "passed_time": 0.5947073812,
                        "iteration": 239,
                        "remaining_time": 0.1486768453,
                        "learn": [
                          182.54401
                        ]
                      },
                      {
                        "test": [
                          175.7373481
                        ],
                        "passed_time": 0.597704451,
                        "iteration": 240,
                        "remaining_time": 0.1463259859,
                        "learn": [
                          182.5289241
                        ]
                      },
                      {
                        "test": [
                          175.7392808
                        ],
                        "passed_time": 0.599840328,
                        "iteration": 241,
                        "remaining_time": 0.1437633844,
                        "learn": [
                          182.5080155
                        ]
                      },
                      {
                        "test": [
                          175.7377968
                        ],
                        "passed_time": 0.6017573192,
                        "iteration": 242,
                        "remaining_time": 0.1411529514,
                        "learn": [
                          182.5048174
                        ]
                      },
                      {
                        "test": [
                          175.735183
                        ],
                        "passed_time": 0.6061380988,
                        "iteration": 243,
                        "remaining_time": 0.139113662,
                        "learn": [
                          182.5010475
                        ]
                      },
                      {
                        "test": [
                          175.735146
                        ],
                        "passed_time": 0.6079944468,
                        "iteration": 244,
                        "remaining_time": 0.1364885493,
                        "learn": [
                          182.5001536
                        ]
                      },
                      {
                        "test": [
                          175.7348387
                        ],
                        "passed_time": 0.6136283829,
                        "iteration": 245,
                        "remaining_time": 0.1346989133,
                        "learn": [
                          182.4924904
                        ]
                      },
                      {
                        "test": [
                          175.7234455
                        ],
                        "passed_time": 0.6237274376,
                        "iteration": 246,
                        "remaining_time": 0.1338362518,
                        "learn": [
                          182.4823171
                        ]
                      },
                      {
                        "test": [
                          175.7090181
                        ],
                        "passed_time": 0.62689007,
                        "iteration": 247,
                        "remaining_time": 0.1314446921,
                        "learn": [
                          182.4699446
                        ]
                      },
                      {
                        "test": [
                          175.7118204
                        ],
                        "passed_time": 0.6302552376,
                        "iteration": 248,
                        "remaining_time": 0.1290884222,
                        "learn": [
                          182.4620281
                        ]
                      },
                      {
                        "test": [
                          175.7078952
                        ],
                        "passed_time": 0.6350084568,
                        "iteration": 249,
                        "remaining_time": 0.1270016914,
                        "learn": [
                          182.4550944
                        ]
                      },
                      {
                        "test": [
                          175.7115785
                        ],
                        "passed_time": 0.6374775225,
                        "iteration": 250,
                        "remaining_time": 0.1244478032,
                        "learn": [
                          182.4485727
                        ]
                      },
                      {
                        "test": [
                          175.7117897
                        ],
                        "passed_time": 0.6411994492,
                        "iteration": 251,
                        "remaining_time": 0.1221332284,
                        "learn": [
                          182.4085745
                        ]
                      },
                      {
                        "test": [
                          175.7041459
                        ],
                        "passed_time": 0.6432331058,
                        "iteration": 252,
                        "remaining_time": 0.1194938971,
                        "learn": [
                          182.397252
                        ]
                      },
                      {
                        "test": [
                          175.715633
                        ],
                        "passed_time": 0.6451791854,
                        "iteration": 253,
                        "remaining_time": 0.1168434745,
                        "learn": [
                          182.3753203
                        ]
                      },
                      {
                        "test": [
                          175.7141394
                        ],
                        "passed_time": 0.6473394127,
                        "iteration": 254,
                        "remaining_time": 0.1142363669,
                        "learn": [
                          182.3733286
                        ]
                      },
                      {
                        "test": [
                          175.7158098
                        ],
                        "passed_time": 0.6492722717,
                        "iteration": 255,
                        "remaining_time": 0.1115936717,
                        "learn": [
                          182.3608904
                        ]
                      },
                      {
                        "test": [
                          175.7138277
                        ],
                        "passed_time": 0.6512637638,
                        "iteration": 256,
                        "remaining_time": 0.1089663107,
                        "learn": [
                          182.3583546
                        ]
                      },
                      {
                        "test": [
                          175.7083454
                        ],
                        "passed_time": 0.6536086178,
                        "iteration": 257,
                        "remaining_time": 0.1064014029,
                        "learn": [
                          182.3501193
                        ]
                      },
                      {
                        "test": [
                          175.7012921
                        ],
                        "passed_time": 0.6558761381,
                        "iteration": 258,
                        "remaining_time": 0.1038259524,
                        "learn": [
                          182.3356781
                        ]
                      },
                      {
                        "test": [
                          175.6942366
                        ],
                        "passed_time": 0.657856535,
                        "iteration": 259,
                        "remaining_time": 0.1012086977,
                        "learn": [
                          182.3260339
                        ]
                      },
                      {
                        "test": [
                          175.6911682
                        ],
                        "passed_time": 0.6598461963,
                        "iteration": 260,
                        "remaining_time": 0.09859770749,
                        "learn": [
                          182.3247575
                        ]
                      },
                      {
                        "test": [
                          175.6931899
                        ],
                        "passed_time": 0.6620673641,
                        "iteration": 261,
                        "remaining_time": 0.09602503753,
                        "learn": [
                          182.3212122
                        ]
                      },
                      {
                        "test": [
                          175.6887236
                        ],
                        "passed_time": 0.6639593767,
                        "iteration": 262,
                        "remaining_time": 0.0934087336,
                        "learn": [
                          182.3117088
                        ]
                      },
                      {
                        "test": [
                          175.6863714
                        ],
                        "passed_time": 0.6657082281,
                        "iteration": 263,
                        "remaining_time": 0.09077839474,
                        "learn": [
                          182.3029667
                        ]
                      },
                      {
                        "test": [
                          175.6703291
                        ],
                        "passed_time": 0.6677999524,
                        "iteration": 264,
                        "remaining_time": 0.08819999372,
                        "learn": [
                          182.2934687
                        ]
                      },
                      {
                        "test": [
                          175.6703444
                        ],
                        "passed_time": 0.6697345023,
                        "iteration": 265,
                        "remaining_time": 0.08560516194,
                        "learn": [
                          182.2851712
                        ]
                      },
                      {
                        "test": [
                          175.6633161
                        ],
                        "passed_time": 0.6716022291,
                        "iteration": 266,
                        "remaining_time": 0.08300701708,
                        "learn": [
                          182.2736692
                        ]
                      },
                      {
                        "test": [
                          175.6649355
                        ],
                        "passed_time": 0.6733256711,
                        "iteration": 267,
                        "remaining_time": 0.08039709505,
                        "learn": [
                          182.2719476
                        ]
                      },
                      {
                        "test": [
                          175.6719521
                        ],
                        "passed_time": 0.6755257748,
                        "iteration": 268,
                        "remaining_time": 0.07784869523,
                        "learn": [
                          182.2688047
                        ]
                      },
                      {
                        "test": [
                          175.6821842
                        ],
                        "passed_time": 0.6780011357,
                        "iteration": 269,
                        "remaining_time": 0.07533345952,
                        "learn": [
                          182.2547644
                        ]
                      },
                      {
                        "test": [
                          175.682652
                        ],
                        "passed_time": 0.6800817522,
                        "iteration": 270,
                        "remaining_time": 0.07277627606,
                        "learn": [
                          182.2431011
                        ]
                      },
                      {
                        "test": [
                          175.6884878
                        ],
                        "passed_time": 0.6820178156,
                        "iteration": 271,
                        "remaining_time": 0.07020771631,
                        "learn": [
                          182.2345561
                        ]
                      },
                      {
                        "test": [
                          175.6833929
                        ],
                        "passed_time": 0.6840684818,
                        "iteration": 272,
                        "remaining_time": 0.06765512458,
                        "learn": [
                          182.2305517
                        ]
                      },
                      {
                        "test": [
                          175.6916205
                        ],
                        "passed_time": 0.686023533,
                        "iteration": 273,
                        "remaining_time": 0.06509712357,
                        "learn": [
                          182.2226846
                        ]
                      },
                      {
                        "test": [
                          175.6960243
                        ],
                        "passed_time": 0.6879207555,
                        "iteration": 274,
                        "remaining_time": 0.0625382505,
                        "learn": [
                          182.2173856
                        ]
                      },
                      {
                        "test": [
                          175.6842774
                        ],
                        "passed_time": 0.6898989798,
                        "iteration": 275,
                        "remaining_time": 0.05999121563,
                        "learn": [
                          182.2050967
                        ]
                      },
                      {
                        "test": [
                          175.6809473
                        ],
                        "passed_time": 0.6927344978,
                        "iteration": 276,
                        "remaining_time": 0.05751947094,
                        "learn": [
                          182.1973146
                        ]
                      },
                      {
                        "test": [
                          175.6848907
                        ],
                        "passed_time": 0.6947009633,
                        "iteration": 277,
                        "remaining_time": 0.05497633523,
                        "learn": [
                          182.1918941
                        ]
                      },
                      {
                        "test": [
                          175.6905457
                        ],
                        "passed_time": 0.696629426,
                        "iteration": 278,
                        "remaining_time": 0.05243447292,
                        "learn": [
                          182.1879256
                        ]
                      },
                      {
                        "test": [
                          175.7058123
                        ],
                        "passed_time": 0.6985322175,
                        "iteration": 279,
                        "remaining_time": 0.04989515839,
                        "learn": [
                          182.1781298
                        ]
                      },
                      {
                        "test": [
                          175.7040922
                        ],
                        "passed_time": 0.7004736762,
                        "iteration": 280,
                        "remaining_time": 0.04736298878,
                        "learn": [
                          182.1751205
                        ]
                      },
                      {
                        "test": [
                          175.7048715
                        ],
                        "passed_time": 0.7024556413,
                        "iteration": 281,
                        "remaining_time": 0.04483759413,
                        "learn": [
                          182.1720599
                        ]
                      },
                      {
                        "test": [
                          175.7051271
                        ],
                        "passed_time": 0.7044263448,
                        "iteration": 282,
                        "remaining_time": 0.04231536347,
                        "learn": [
                          182.1715155
                        ]
                      },
                      {
                        "test": [
                          175.72656
                        ],
                        "passed_time": 0.706336398,
                        "iteration": 283,
                        "remaining_time": 0.03979359989,
                        "learn": [
                          182.144826
                        ]
                      },
                      {
                        "test": [
                          175.7327769
                        ],
                        "passed_time": 0.708302028,
                        "iteration": 284,
                        "remaining_time": 0.0372790541,
                        "learn": [
                          182.1059187
                        ]
                      },
                      {
                        "test": [
                          175.7342696
                        ],
                        "passed_time": 0.7104348187,
                        "iteration": 285,
                        "remaining_time": 0.03477652959,
                        "learn": [
                          182.1054666
                        ]
                      },
                      {
                        "test": [
                          175.7231608
                        ],
                        "passed_time": 0.7136918316,
                        "iteration": 286,
                        "remaining_time": 0.03232750457,
                        "learn": [
                          182.1001433
                        ]
                      },
                      {
                        "test": [
                          175.7285544
                        ],
                        "passed_time": 0.7156605706,
                        "iteration": 287,
                        "remaining_time": 0.02981919044,
                        "learn": [
                          182.0918772
                        ]
                      },
                      {
                        "test": [
                          175.727843
                        ],
                        "passed_time": 0.717605362,
                        "iteration": 288,
                        "remaining_time": 0.0273136989,
                        "learn": [
                          182.0873885
                        ]
                      },
                      {
                        "test": [
                          175.7258678
                        ],
                        "passed_time": 0.719524564,
                        "iteration": 289,
                        "remaining_time": 0.02481119186,
                        "learn": [
                          182.0855807
                        ]
                      },
                      {
                        "test": [
                          175.7249231
                        ],
                        "passed_time": 0.7214163057,
                        "iteration": 290,
                        "remaining_time": 0.02231184451,
                        "learn": [
                          182.081942
                        ]
                      },
                      {
                        "test": [
                          175.7241457
                        ],
                        "passed_time": 0.7233548691,
                        "iteration": 291,
                        "remaining_time": 0.01981794162,
                        "learn": [
                          182.0809073
                        ]
                      },
                      {
                        "test": [
                          175.733874
                        ],
                        "passed_time": 0.7255043021,
                        "iteration": 292,
                        "remaining_time": 0.01733286729,
                        "learn": [
                          182.0660591
                        ]
                      },
                      {
                        "test": [
                          175.7329104
                        ],
                        "passed_time": 0.72744454,
                        "iteration": 293,
                        "remaining_time": 0.01484580694,
                        "learn": [
                          182.0646528
                        ]
                      },
                      {
                        "test": [
                          175.7324187
                        ],
                        "passed_time": 0.7293496669,
                        "iteration": 294,
                        "remaining_time": 0.01236185876,
                        "learn": [
                          182.063877
                        ]
                      },
                      {
                        "test": [
                          175.7367541
                        ],
                        "passed_time": 0.731304309,
                        "iteration": 295,
                        "remaining_time": 0.009882490662,
                        "learn": [
                          182.0619859
                        ]
                      },
                      {
                        "test": [
                          175.7392142
                        ],
                        "passed_time": 0.7333068899,
                        "iteration": 296,
                        "remaining_time": 0.007407140302,
                        "learn": [
                          182.057959
                        ]
                      },
                      {
                        "test": [
                          175.7389879
                        ],
                        "passed_time": 0.7351908946,
                        "iteration": 297,
                        "remaining_time": 0.004934167078,
                        "learn": [
                          182.0506496
                        ]
                      },
                      {
                        "test": [
                          175.7406921
                        ],
                        "passed_time": 0.7370576187,
                        "iteration": 298,
                        "remaining_time": 0.002465075648,
                        "learn": [
                          182.0384563
                        ]
                      },
                      {
                        "test": [
                          175.7404544
                        ],
                        "passed_time": 0.7389640864,
                        "iteration": 299,
                        "remaining_time": 0,
                        "learn": [
                          182.032277
                        ]
                      }
                    ]
                  },
                  "total_iterations": 300,
                  "passed_iterations": 299
                },
                "path": "catboost_info/fold-4",
                "name": "fold-4"
              },
              "catboost_info/fold-1": {
                "content": {
                  "data": {
                    "meta": {
                      "name": "experiment",
                      "parameters": "",
                      "test_metrics": [
                        {
                          "best_value": "Min",
                          "name": "RMSE"
                        }
                      ],
                      "learn_sets": [
                        "learn"
                      ],
                      "launch_mode": "Train",
                      "learn_metrics": [
                        {
                          "best_value": "Min",
                          "name": "RMSE"
                        }
                      ],
                      "iteration_count": 300,
                      "test_sets": [
                        "test"
                      ]
                    },
                    "iterations": [
                      {
                        "test": [
                          312.8774553
                        ],
                        "passed_time": 0.001460489874,
                        "iteration": 0,
                        "remaining_time": 0.4366864724,
                        "learn": [
                          330.1718231
                        ]
                      },
                      {
                        "test": [
                          305.866452
                        ],
                        "passed_time": 0.005205975108,
                        "iteration": 1,
                        "remaining_time": 0.7756902911,
                        "learn": [
                          323.7502305
                        ]
                      },
                      {
                        "test": [
                          299.1089323
                        ],
                        "passed_time": 0.00718967925,
                        "iteration": 2,
                        "remaining_time": 0.7117782458,
                        "learn": [
                          317.5816227
                        ]
                      },
                      {
                        "test": [
                          292.6241647
                        ],
                        "passed_time": 0.009816710339,
                        "iteration": 3,
                        "remaining_time": 0.7264365651,
                        "learn": [
                          311.6672062
                        ]
                      },
                      {
                        "test": [
                          286.415518
                        ],
                        "passed_time": 0.01123696296,
                        "iteration": 4,
                        "remaining_time": 0.6629808148,
                        "learn": [
                          306.0719939
                        ]
                      },
                      {
                        "test": [
                          280.4187297
                        ],
                        "passed_time": 0.01346586416,
                        "iteration": 5,
                        "remaining_time": 0.659827344,
                        "learn": [
                          300.6258471
                        ]
                      },
                      {
                        "test": [
                          275.0243541
                        ],
                        "passed_time": 0.01435064098,
                        "iteration": 6,
                        "remaining_time": 0.6006768297,
                        "learn": [
                          295.701464
                        ]
                      },
                      {
                        "test": [
                          269.4345346
                        ],
                        "passed_time": 0.01616441542,
                        "iteration": 7,
                        "remaining_time": 0.5900011627,
                        "learn": [
                          290.6933873
                        ]
                      },
                      {
                        "test": [
                          264.070953
                        ],
                        "passed_time": 0.01869115792,
                        "iteration": 8,
                        "remaining_time": 0.6043474393,
                        "learn": [
                          285.9050078
                        ]
                      },
                      {
                        "test": [
                          258.9810959
                        ],
                        "passed_time": 0.02058634501,
                        "iteration": 9,
                        "remaining_time": 0.5970040054,
                        "learn": [
                          281.3827517
                        ]
                      },
                      {
                        "test": [
                          254.0123818
                        ],
                        "passed_time": 0.02257961348,
                        "iteration": 10,
                        "remaining_time": 0.5932280269,
                        "learn": [
                          276.9787696
                        ]
                      },
                      {
                        "test": [
                          249.2793407
                        ],
                        "passed_time": 0.02466332986,
                        "iteration": 11,
                        "remaining_time": 0.5919199166,
                        "learn": [
                          272.783725
                        ]
                      },
                      {
                        "test": [
                          244.7919325
                        ],
                        "passed_time": 0.02671168978,
                        "iteration": 12,
                        "remaining_time": 0.5897119205,
                        "learn": [
                          268.8696822
                        ]
                      },
                      {
                        "test": [
                          240.4875905
                        ],
                        "passed_time": 0.02872768499,
                        "iteration": 13,
                        "remaining_time": 0.5868655648,
                        "learn": [
                          265.0476482
                        ]
                      },
                      {
                        "test": [
                          236.3017159
                        ],
                        "passed_time": 0.03067538906,
                        "iteration": 14,
                        "remaining_time": 0.5828323921,
                        "learn": [
                          261.3878772
                        ]
                      },
                      {
                        "test": [
                          232.2613135
                        ],
                        "passed_time": 0.03285979765,
                        "iteration": 15,
                        "remaining_time": 0.5832614083,
                        "learn": [
                          257.8737159
                        ]
                      },
                      {
                        "test": [
                          228.5209967
                        ],
                        "passed_time": 0.03552647691,
                        "iteration": 16,
                        "remaining_time": 0.591411351,
                        "learn": [
                          254.6189354
                        ]
                      },
                      {
                        "test": [
                          224.8110874
                        ],
                        "passed_time": 0.03748122082,
                        "iteration": 17,
                        "remaining_time": 0.5872057928,
                        "learn": [
                          251.4462033
                        ]
                      },
                      {
                        "test": [
                          221.2799426
                        ],
                        "passed_time": 0.03939724925,
                        "iteration": 18,
                        "remaining_time": 0.582664581,
                        "learn": [
                          248.4203948
                        ]
                      },
                      {
                        "test": [
                          217.9633661
                        ],
                        "passed_time": 0.04123308772,
                        "iteration": 19,
                        "remaining_time": 0.5772632281,
                        "learn": [
                          245.5286893
                        ]
                      },
                      {
                        "test": [
                          215.2163219
                        ],
                        "passed_time": 0.04316603304,
                        "iteration": 20,
                        "remaining_time": 0.5734915818,
                        "learn": [
                          242.8241166
                        ]
                      },
                      {
                        "test": [
                          212.1608865
                        ],
                        "passed_time": 0.04528298865,
                        "iteration": 21,
                        "remaining_time": 0.5722123111,
                        "learn": [
                          240.2623092
                        ]
                      },
                      {
                        "test": [
                          209.2599399
                        ],
                        "passed_time": 0.04755328344,
                        "iteration": 22,
                        "remaining_time": 0.5727069353,
                        "learn": [
                          237.7665894
                        ]
                      },
                      {
                        "test": [
                          206.4257654
                        ],
                        "passed_time": 0.04963200175,
                        "iteration": 23,
                        "remaining_time": 0.5707680201,
                        "learn": [
                          235.3978105
                        ]
                      },
                      {
                        "test": [
                          203.7684342
                        ],
                        "passed_time": 0.05099034307,
                        "iteration": 24,
                        "remaining_time": 0.5608937738,
                        "learn": [
                          233.1999866
                        ]
                      },
                      {
                        "test": [
                          201.1639559
                        ],
                        "passed_time": 0.05294173342,
                        "iteration": 25,
                        "remaining_time": 0.5579244214,
                        "learn": [
                          231.0558517
                        ]
                      },
                      {
                        "test": [
                          198.7337371
                        ],
                        "passed_time": 0.05562849949,
                        "iteration": 26,
                        "remaining_time": 0.5624659393,
                        "learn": [
                          229.0438911
                        ]
                      },
                      {
                        "test": [
                          196.3984127
                        ],
                        "passed_time": 0.06010996589,
                        "iteration": 27,
                        "remaining_time": 0.5839253829,
                        "learn": [
                          227.1022965
                        ]
                      },
                      {
                        "test": [
                          194.1400077
                        ],
                        "passed_time": 0.06391624245,
                        "iteration": 28,
                        "remaining_time": 0.5972862656,
                        "learn": [
                          225.2660454
                        ]
                      },
                      {
                        "test": [
                          191.9880688
                        ],
                        "passed_time": 0.06594623825,
                        "iteration": 29,
                        "remaining_time": 0.5935161442,
                        "learn": [
                          223.5109636
                        ]
                      },
                      {
                        "test": [
                          189.9446321
                        ],
                        "passed_time": 0.06798313934,
                        "iteration": 30,
                        "remaining_time": 0.5899182091,
                        "learn": [
                          221.8563362
                        ]
                      },
                      {
                        "test": [
                          188.1496209
                        ],
                        "passed_time": 0.06994978115,
                        "iteration": 31,
                        "remaining_time": 0.5858294171,
                        "learn": [
                          220.3351755
                        ]
                      },
                      {
                        "test": [
                          186.3041495
                        ],
                        "passed_time": 0.07174770141,
                        "iteration": 32,
                        "remaining_time": 0.5805041296,
                        "learn": [
                          218.8459028
                        ]
                      },
                      {
                        "test": [
                          184.5249891
                        ],
                        "passed_time": 0.07366518981,
                        "iteration": 33,
                        "remaining_time": 0.5763217791,
                        "learn": [
                          217.4372814
                        ]
                      },
                      {
                        "test": [
                          182.8413574
                        ],
                        "passed_time": 0.07562529086,
                        "iteration": 34,
                        "remaining_time": 0.5725914879,
                        "learn": [
                          216.0703829
                        ]
                      },
                      {
                        "test": [
                          181.2382518
                        ],
                        "passed_time": 0.07768258875,
                        "iteration": 35,
                        "remaining_time": 0.5696723175,
                        "learn": [
                          214.7906361
                        ]
                      },
                      {
                        "test": [
                          179.7211104
                        ],
                        "passed_time": 0.07969490405,
                        "iteration": 36,
                        "remaining_time": 0.5664799937,
                        "learn": [
                          213.6189429
                        ]
                      },
                      {
                        "test": [
                          178.2744737
                        ],
                        "passed_time": 0.08165427967,
                        "iteration": 37,
                        "remaining_time": 0.5629847703,
                        "learn": [
                          212.4856118
                        ]
                      },
                      {
                        "test": [
                          176.9731047
                        ],
                        "passed_time": 0.0836516144,
                        "iteration": 38,
                        "remaining_time": 0.5598223426,
                        "learn": [
                          211.440009
                        ]
                      },
                      {
                        "test": [
                          175.8697219
                        ],
                        "passed_time": 0.08613407974,
                        "iteration": 39,
                        "remaining_time": 0.5598715183,
                        "learn": [
                          210.424327
                        ]
                      },
                      {
                        "test": [
                          174.6377178
                        ],
                        "passed_time": 0.08830487229,
                        "iteration": 40,
                        "remaining_time": 0.5578283396,
                        "learn": [
                          209.4391471
                        ]
                      },
                      {
                        "test": [
                          173.5720585
                        ],
                        "passed_time": 0.09009251824,
                        "iteration": 41,
                        "remaining_time": 0.5534254692,
                        "learn": [
                          208.600629
                        ]
                      },
                      {
                        "test": [
                          172.561003
                        ],
                        "passed_time": 0.09095466831,
                        "iteration": 42,
                        "remaining_time": 0.543612785,
                        "learn": [
                          207.8073577
                        ]
                      },
                      {
                        "test": [
                          171.4767219
                        ],
                        "passed_time": 0.09303012215,
                        "iteration": 43,
                        "remaining_time": 0.5412661652,
                        "learn": [
                          206.9832481
                        ]
                      },
                      {
                        "test": [
                          170.4689888
                        ],
                        "passed_time": 0.0943835645,
                        "iteration": 44,
                        "remaining_time": 0.5348401988,
                        "learn": [
                          206.2082996
                        ]
                      },
                      {
                        "test": [
                          169.5267306
                        ],
                        "passed_time": 0.09666718534,
                        "iteration": 45,
                        "remaining_time": 0.5337709799,
                        "learn": [
                          205.4439473
                        ]
                      },
                      {
                        "test": [
                          168.5794959
                        ],
                        "passed_time": 0.09910352629,
                        "iteration": 46,
                        "remaining_time": 0.5334721734,
                        "learn": [
                          204.7404888
                        ]
                      },
                      {
                        "test": [
                          167.8114661
                        ],
                        "passed_time": 0.100498294,
                        "iteration": 47,
                        "remaining_time": 0.5276160438,
                        "learn": [
                          204.1379363
                        ]
                      },
                      {
                        "test": [
                          166.9276146
                        ],
                        "passed_time": 0.1023616073,
                        "iteration": 48,
                        "remaining_time": 0.5243421111,
                        "learn": [
                          203.4845543
                        ]
                      },
                      {
                        "test": [
                          166.1366579
                        ],
                        "passed_time": 0.1043307455,
                        "iteration": 49,
                        "remaining_time": 0.5216537273,
                        "learn": [
                          202.8799281
                        ]
                      },
                      {
                        "test": [
                          165.4336293
                        ],
                        "passed_time": 0.1057126581,
                        "iteration": 50,
                        "remaining_time": 0.516126507,
                        "learn": [
                          202.3510311
                        ]
                      },
                      {
                        "test": [
                          164.6151827
                        ],
                        "passed_time": 0.1087562159,
                        "iteration": 51,
                        "remaining_time": 0.5186834911,
                        "learn": [
                          201.7624688
                        ]
                      },
                      {
                        "test": [
                          163.913885
                        ],
                        "passed_time": 0.110764314,
                        "iteration": 52,
                        "remaining_time": 0.5162035011,
                        "learn": [
                          201.2513881
                        ]
                      },
                      {
                        "test": [
                          163.172674
                        ],
                        "passed_time": 0.1126608647,
                        "iteration": 53,
                        "remaining_time": 0.5132328281,
                        "learn": [
                          200.6849406
                        ]
                      },
                      {
                        "test": [
                          162.5422893
                        ],
                        "passed_time": 0.114533695,
                        "iteration": 54,
                        "remaining_time": 0.5101955507,
                        "learn": [
                          200.1926264
                        ]
                      },
                      {
                        "test": [
                          161.8671277
                        ],
                        "passed_time": 0.1165395123,
                        "iteration": 55,
                        "remaining_time": 0.5077793037,
                        "learn": [
                          199.6769516
                        ]
                      },
                      {
                        "test": [
                          161.1933971
                        ],
                        "passed_time": 0.1186340657,
                        "iteration": 56,
                        "remaining_time": 0.5057557538,
                        "learn": [
                          199.1953121
                        ]
                      },
                      {
                        "test": [
                          160.6663418
                        ],
                        "passed_time": 0.1206698787,
                        "iteration": 57,
                        "remaining_time": 0.5034846661,
                        "learn": [
                          198.8175942
                        ]
                      },
                      {
                        "test": [
                          160.0849709
                        ],
                        "passed_time": 0.1226551218,
                        "iteration": 58,
                        "remaining_time": 0.5010149893,
                        "learn": [
                          198.404553
                        ]
                      },
                      {
                        "test": [
                          159.4978809
                        ],
                        "passed_time": 0.1246296489,
                        "iteration": 59,
                        "remaining_time": 0.4985185957,
                        "learn": [
                          198.0108957
                        ]
                      },
                      {
                        "test": [
                          159.0511493
                        ],
                        "passed_time": 0.1265907118,
                        "iteration": 60,
                        "remaining_time": 0.4959865593,
                        "learn": [
                          197.6909653
                        ]
                      },
                      {
                        "test": [
                          158.6154863
                        ],
                        "passed_time": 0.1287639052,
                        "iteration": 61,
                        "remaining_time": 0.4942872489,
                        "learn": [
                          197.3872174
                        ]
                      },
                      {
                        "test": [
                          158.1161263
                        ],
                        "passed_time": 0.1307653416,
                        "iteration": 62,
                        "remaining_time": 0.4919267614,
                        "learn": [
                          197.0477332
                        ]
                      },
                      {
                        "test": [
                          157.7024601
                        ],
                        "passed_time": 0.1333293987,
                        "iteration": 63,
                        "remaining_time": 0.4916521578,
                        "learn": [
                          196.7618846
                        ]
                      },
                      {
                        "test": [
                          157.2562756
                        ],
                        "passed_time": 0.1354007518,
                        "iteration": 64,
                        "remaining_time": 0.4895257948,
                        "learn": [
                          196.4419334
                        ]
                      },
                      {
                        "test": [
                          156.9643351
                        ],
                        "passed_time": 0.1362232018,
                        "iteration": 65,
                        "remaining_time": 0.4829731701,
                        "learn": [
                          196.2334856
                        ]
                      },
                      {
                        "test": [
                          156.569746
                        ],
                        "passed_time": 0.1380475324,
                        "iteration": 66,
                        "remaining_time": 0.480075747,
                        "learn": [
                          195.9562651
                        ]
                      },
                      {
                        "test": [
                          156.1848413
                        ],
                        "passed_time": 0.1400267312,
                        "iteration": 67,
                        "remaining_time": 0.4777382593,
                        "learn": [
                          195.6704313
                        ]
                      },
                      {
                        "test": [
                          155.8602389
                        ],
                        "passed_time": 0.1417560894,
                        "iteration": 68,
                        "remaining_time": 0.474574734,
                        "learn": [
                          195.4641033
                        ]
                      },
                      {
                        "test": [
                          155.5673111
                        ],
                        "passed_time": 0.1444055718,
                        "iteration": 69,
                        "remaining_time": 0.4744754501,
                        "learn": [
                          195.2483023
                        ]
                      },
                      {
                        "test": [
                          155.2089509
                        ],
                        "passed_time": 0.1463627983,
                        "iteration": 70,
                        "remaining_time": 0.4720715609,
                        "learn": [
                          195.0113868
                        ]
                      },
                      {
                        "test": [
                          154.8973825
                        ],
                        "passed_time": 0.1483290738,
                        "iteration": 71,
                        "remaining_time": 0.4697087337,
                        "learn": [
                          194.8110436
                        ]
                      },
                      {
                        "test": [
                          154.5952805
                        ],
                        "passed_time": 0.150298911,
                        "iteration": 72,
                        "remaining_time": 0.4673678465,
                        "learn": [
                          194.6249404
                        ]
                      },
                      {
                        "test": [
                          154.2919914
                        ],
                        "passed_time": 0.1525346457,
                        "iteration": 73,
                        "remaining_time": 0.465849053,
                        "learn": [
                          194.4248196
                        ]
                      },
                      {
                        "test": [
                          154.0800767
                        ],
                        "passed_time": 0.154491335,
                        "iteration": 74,
                        "remaining_time": 0.4634740049,
                        "learn": [
                          194.2462573
                        ]
                      },
                      {
                        "test": [
                          153.824526
                        ],
                        "passed_time": 0.1564537069,
                        "iteration": 75,
                        "remaining_time": 0.461126715,
                        "learn": [
                          194.0734323
                        ]
                      },
                      {
                        "test": [
                          153.6295608
                        ],
                        "passed_time": 0.15832536,
                        "iteration": 76,
                        "remaining_time": 0.4585266919,
                        "learn": [
                          193.9420372
                        ]
                      },
                      {
                        "test": [
                          153.4495151
                        ],
                        "passed_time": 0.1596809577,
                        "iteration": 77,
                        "remaining_time": 0.454476572,
                        "learn": [
                          193.7950992
                        ]
                      },
                      {
                        "test": [
                          153.2082827
                        ],
                        "passed_time": 0.1616092413,
                        "iteration": 78,
                        "remaining_time": 0.4520967384,
                        "learn": [
                          193.6519745
                        ]
                      },
                      {
                        "test": [
                          153.0186266
                        ],
                        "passed_time": 0.1635266461,
                        "iteration": 79,
                        "remaining_time": 0.4496982768,
                        "learn": [
                          193.4998046
                        ]
                      },
                      {
                        "test": [
                          152.8493329
                        ],
                        "passed_time": 0.1654591487,
                        "iteration": 80,
                        "remaining_time": 0.4473525132,
                        "learn": [
                          193.3936442
                        ]
                      },
                      {
                        "test": [
                          152.6795832
                        ],
                        "passed_time": 0.1673715772,
                        "iteration": 81,
                        "remaining_time": 0.4449634614,
                        "learn": [
                          193.2624433
                        ]
                      },
                      {
                        "test": [
                          152.4908085
                        ],
                        "passed_time": 0.1716683479,
                        "iteration": 82,
                        "remaining_time": 0.4488196566,
                        "learn": [
                          193.1294391
                        ]
                      },
                      {
                        "test": [
                          152.2884349
                        ],
                        "passed_time": 0.1746646423,
                        "iteration": 83,
                        "remaining_time": 0.4491376516,
                        "learn": [
                          192.9837404
                        ]
                      },
                      {
                        "test": [
                          152.1191906
                        ],
                        "passed_time": 0.1767171294,
                        "iteration": 84,
                        "remaining_time": 0.4469903861,
                        "learn": [
                          192.8532807
                        ]
                      },
                      {
                        "test": [
                          151.9643042
                        ],
                        "passed_time": 0.1786784858,
                        "iteration": 85,
                        "remaining_time": 0.4446185578,
                        "learn": [
                          192.7595235
                        ]
                      },
                      {
                        "test": [
                          151.8310117
                        ],
                        "passed_time": 0.1806411187,
                        "iteration": 86,
                        "remaining_time": 0.4422592905,
                        "learn": [
                          192.6751212
                        ]
                      },
                      {
                        "test": [
                          151.7302005
                        ],
                        "passed_time": 0.1825738067,
                        "iteration": 87,
                        "remaining_time": 0.439836898,
                        "learn": [
                          192.5976691
                        ]
                      },
                      {
                        "test": [
                          151.5861365
                        ],
                        "passed_time": 0.1845109347,
                        "iteration": 88,
                        "remaining_time": 0.4374360361,
                        "learn": [
                          192.493832
                        ]
                      },
                      {
                        "test": [
                          151.4792742
                        ],
                        "passed_time": 0.186524279,
                        "iteration": 89,
                        "remaining_time": 0.4352233177,
                        "learn": [
                          192.4333681
                        ]
                      },
                      {
                        "test": [
                          151.3290093
                        ],
                        "passed_time": 0.1887948565,
                        "iteration": 90,
                        "remaining_time": 0.4336057694,
                        "learn": [
                          192.3400168
                        ]
                      },
                      {
                        "test": [
                          151.221983
                        ],
                        "passed_time": 0.1907866359,
                        "iteration": 91,
                        "remaining_time": 0.4313436987,
                        "learn": [
                          192.2477104
                        ]
                      },
                      {
                        "test": [
                          151.1176742
                        ],
                        "passed_time": 0.1927329628,
                        "iteration": 92,
                        "remaining_time": 0.428986272,
                        "learn": [
                          192.1618139
                        ]
                      },
                      {
                        "test": [
                          151.0056839
                        ],
                        "passed_time": 0.1946921402,
                        "iteration": 93,
                        "remaining_time": 0.4266657541,
                        "learn": [
                          192.0736658
                        ]
                      },
                      {
                        "test": [
                          150.9074181
                        ],
                        "passed_time": 0.1964937867,
                        "iteration": 94,
                        "remaining_time": 0.4240129082,
                        "learn": [
                          192.0144479
                        ]
                      },
                      {
                        "test": [
                          150.8277823
                        ],
                        "passed_time": 0.1984886361,
                        "iteration": 95,
                        "remaining_time": 0.4217883517,
                        "learn": [
                          191.9611577
                        ]
                      },
                      {
                        "test": [
                          150.7163708
                        ],
                        "passed_time": 0.2004634859,
                        "iteration": 96,
                        "remaining_time": 0.4195266766,
                        "learn": [
                          191.8706434
                        ]
                      },
                      {
                        "test": [
                          150.5973696
                        ],
                        "passed_time": 0.2033404439,
                        "iteration": 97,
                        "remaining_time": 0.4191303028,
                        "learn": [
                          191.8033964
                        ]
                      },
                      {
                        "test": [
                          150.5417005
                        ],
                        "passed_time": 0.2052785637,
                        "iteration": 98,
                        "remaining_time": 0.4167776899,
                        "learn": [
                          191.7337821
                        ]
                      },
                      {
                        "test": [
                          150.4571327
                        ],
                        "passed_time": 0.2072214678,
                        "iteration": 99,
                        "remaining_time": 0.4144429357,
                        "learn": [
                          191.6951226
                        ]
                      },
                      {
                        "test": [
                          150.3598108
                        ],
                        "passed_time": 0.2094150599,
                        "iteration": 100,
                        "remaining_time": 0.4126098704,
                        "learn": [
                          191.6343269
                        ]
                      },
                      {
                        "test": [
                          150.295044
                        ],
                        "passed_time": 0.2113378127,
                        "iteration": 101,
                        "remaining_time": 0.4102439893,
                        "learn": [
                          191.5823303
                        ]
                      },
                      {
                        "test": [
                          150.2279258
                        ],
                        "passed_time": 0.2132141238,
                        "iteration": 102,
                        "remaining_time": 0.4077978874,
                        "learn": [
                          191.5215368
                        ]
                      },
                      {
                        "test": [
                          150.1557743
                        ],
                        "passed_time": 0.2151642524,
                        "iteration": 103,
                        "remaining_time": 0.4055018603,
                        "learn": [
                          191.4534875
                        ]
                      },
                      {
                        "test": [
                          150.0529188
                        ],
                        "passed_time": 0.2171433967,
                        "iteration": 104,
                        "remaining_time": 0.4032663081,
                        "learn": [
                          191.3942356
                        ]
                      },
                      {
                        "test": [
                          149.9819604
                        ],
                        "passed_time": 0.2190528616,
                        "iteration": 105,
                        "remaining_time": 0.4009080675,
                        "learn": [
                          191.345242
                        ]
                      },
                      {
                        "test": [
                          149.9343367
                        ],
                        "passed_time": 0.221033784,
                        "iteration": 106,
                        "remaining_time": 0.3986871057,
                        "learn": [
                          191.2955223
                        ]
                      },
                      {
                        "test": [
                          149.8406924
                        ],
                        "passed_time": 0.2230378404,
                        "iteration": 107,
                        "remaining_time": 0.3965117162,
                        "learn": [
                          191.2461032
                        ]
                      },
                      {
                        "test": [
                          149.776184
                        ],
                        "passed_time": 0.2254777031,
                        "iteration": 108,
                        "remaining_time": 0.3951031311,
                        "learn": [
                          191.1891612
                        ]
                      },
                      {
                        "test": [
                          149.702058
                        ],
                        "passed_time": 0.2275570814,
                        "iteration": 109,
                        "remaining_time": 0.3930531406,
                        "learn": [
                          191.1446695
                        ]
                      },
                      {
                        "test": [
                          149.6689785
                        ],
                        "passed_time": 0.2306329457,
                        "iteration": 110,
                        "remaining_time": 0.39269934,
                        "learn": [
                          191.1171165
                        ]
                      },
                      {
                        "test": [
                          149.6175862
                        ],
                        "passed_time": 0.2328774757,
                        "iteration": 111,
                        "remaining_time": 0.390901477,
                        "learn": [
                          191.0744787
                        ]
                      },
                      {
                        "test": [
                          149.5375038
                        ],
                        "passed_time": 0.2349862069,
                        "iteration": 112,
                        "remaining_time": 0.3888709796,
                        "learn": [
                          191.0374125
                        ]
                      },
                      {
                        "test": [
                          149.4788847
                        ],
                        "passed_time": 0.2371507723,
                        "iteration": 113,
                        "remaining_time": 0.3869302075,
                        "learn": [
                          191.0050212
                        ]
                      },
                      {
                        "test": [
                          149.4339096
                        ],
                        "passed_time": 0.2403116793,
                        "iteration": 114,
                        "remaining_time": 0.3865883536,
                        "learn": [
                          190.9630541
                        ]
                      },
                      {
                        "test": [
                          149.3880607
                        ],
                        "passed_time": 0.2426665403,
                        "iteration": 115,
                        "remaining_time": 0.3849193397,
                        "learn": [
                          190.9324825
                        ]
                      },
                      {
                        "test": [
                          149.3665642
                        ],
                        "passed_time": 0.2458129439,
                        "iteration": 116,
                        "remaining_time": 0.3844766558,
                        "learn": [
                          190.9226757
                        ]
                      },
                      {
                        "test": [
                          149.3158669
                        ],
                        "passed_time": 0.2477869674,
                        "iteration": 117,
                        "remaining_time": 0.3821798988,
                        "learn": [
                          190.8864767
                        ]
                      },
                      {
                        "test": [
                          149.2676062
                        ],
                        "passed_time": 0.2497508083,
                        "iteration": 118,
                        "remaining_time": 0.3798730782,
                        "learn": [
                          190.8495175
                        ]
                      },
                      {
                        "test": [
                          149.2261157
                        ],
                        "passed_time": 0.2517760888,
                        "iteration": 119,
                        "remaining_time": 0.3776641332,
                        "learn": [
                          190.8148894
                        ]
                      },
                      {
                        "test": [
                          149.1769806
                        ],
                        "passed_time": 0.253759042,
                        "iteration": 120,
                        "remaining_time": 0.3753956076,
                        "learn": [
                          190.7845488
                        ]
                      },
                      {
                        "test": [
                          149.1564971
                        ],
                        "passed_time": 0.2564713475,
                        "iteration": 121,
                        "remaining_time": 0.3741959005,
                        "learn": [
                          190.7585718
                        ]
                      },
                      {
                        "test": [
                          149.0902656
                        ],
                        "passed_time": 0.258422846,
                        "iteration": 122,
                        "remaining_time": 0.3718767784,
                        "learn": [
                          190.7171189
                        ]
                      },
                      {
                        "test": [
                          149.0712319
                        ],
                        "passed_time": 0.260587366,
                        "iteration": 123,
                        "remaining_time": 0.3698659388,
                        "learn": [
                          190.6990442
                        ]
                      },
                      {
                        "test": [
                          149.0060024
                        ],
                        "passed_time": 0.2625704011,
                        "iteration": 124,
                        "remaining_time": 0.3675985615,
                        "learn": [
                          190.6671602
                        ]
                      },
                      {
                        "test": [
                          148.9485989
                        ],
                        "passed_time": 0.2650971054,
                        "iteration": 125,
                        "remaining_time": 0.3660864789,
                        "learn": [
                          190.6182791
                        ]
                      },
                      {
                        "test": [
                          148.9159433
                        ],
                        "passed_time": 0.2670309252,
                        "iteration": 126,
                        "remaining_time": 0.3637507879,
                        "learn": [
                          190.5795145
                        ]
                      },
                      {
                        "test": [
                          148.8759573
                        ],
                        "passed_time": 0.2696121346,
                        "iteration": 127,
                        "remaining_time": 0.3622913059,
                        "learn": [
                          190.5537504
                        ]
                      },
                      {
                        "test": [
                          148.8547394
                        ],
                        "passed_time": 0.2719965359,
                        "iteration": 128,
                        "remaining_time": 0.3605535476,
                        "learn": [
                          190.5432539
                        ]
                      },
                      {
                        "test": [
                          148.8057677
                        ],
                        "passed_time": 0.2741713711,
                        "iteration": 129,
                        "remaining_time": 0.3585317929,
                        "learn": [
                          190.5184879
                        ]
                      },
                      {
                        "test": [
                          148.7806671
                        ],
                        "passed_time": 0.2760762943,
                        "iteration": 130,
                        "remaining_time": 0.3561594942,
                        "learn": [
                          190.5083225
                        ]
                      },
                      {
                        "test": [
                          148.7254684
                        ],
                        "passed_time": 0.2780169776,
                        "iteration": 131,
                        "remaining_time": 0.3538397897,
                        "learn": [
                          190.4727989
                        ]
                      },
                      {
                        "test": [
                          148.6987738
                        ],
                        "passed_time": 0.279966728,
                        "iteration": 132,
                        "remaining_time": 0.3515371697,
                        "learn": [
                          190.4438456
                        ]
                      },
                      {
                        "test": [
                          148.6681356
                        ],
                        "passed_time": 0.2822229549,
                        "iteration": 133,
                        "remaining_time": 0.3496194815,
                        "learn": [
                          190.4230452
                        ]
                      },
                      {
                        "test": [
                          148.6205633
                        ],
                        "passed_time": 0.2841586411,
                        "iteration": 134,
                        "remaining_time": 0.3473050058,
                        "learn": [
                          190.398004
                        ]
                      },
                      {
                        "test": [
                          148.5984007
                        ],
                        "passed_time": 0.2861163004,
                        "iteration": 135,
                        "remaining_time": 0.3450225975,
                        "learn": [
                          190.3528762
                        ]
                      },
                      {
                        "test": [
                          148.5602194
                        ],
                        "passed_time": 0.2880279589,
                        "iteration": 136,
                        "remaining_time": 0.3426901993,
                        "learn": [
                          190.3257481
                        ]
                      },
                      {
                        "test": [
                          148.5173243
                        ],
                        "passed_time": 0.2903589896,
                        "iteration": 137,
                        "remaining_time": 0.3408562052,
                        "learn": [
                          190.3102156
                        ]
                      },
                      {
                        "test": [
                          148.479652
                        ],
                        "passed_time": 0.2923145126,
                        "iteration": 138,
                        "remaining_time": 0.3385801189,
                        "learn": [
                          190.2809523
                        ]
                      },
                      {
                        "test": [
                          148.442807
                        ],
                        "passed_time": 0.294304432,
                        "iteration": 139,
                        "remaining_time": 0.3363479223,
                        "learn": [
                          190.2578689
                        ]
                      },
                      {
                        "test": [
                          148.4169111
                        ],
                        "passed_time": 0.2962364673,
                        "iteration": 140,
                        "remaining_time": 0.3340538887,
                        "learn": [
                          190.2529775
                        ]
                      },
                      {
                        "test": [
                          148.4113725
                        ],
                        "passed_time": 0.2981859777,
                        "iteration": 141,
                        "remaining_time": 0.3317843978,
                        "learn": [
                          190.2378524
                        ]
                      },
                      {
                        "test": [
                          148.392314
                        ],
                        "passed_time": 0.3001187885,
                        "iteration": 142,
                        "remaining_time": 0.3295010475,
                        "learn": [
                          190.2316324
                        ]
                      },
                      {
                        "test": [
                          148.377239
                        ],
                        "passed_time": 0.3020253572,
                        "iteration": 143,
                        "remaining_time": 0.3271941369,
                        "learn": [
                          190.2095678
                        ]
                      },
                      {
                        "test": [
                          148.3390595
                        ],
                        "passed_time": 0.304556565,
                        "iteration": 144,
                        "remaining_time": 0.325560466,
                        "learn": [
                          190.165386
                        ]
                      },
                      {
                        "test": [
                          148.3226103
                        ],
                        "passed_time": 0.3065014982,
                        "iteration": 145,
                        "remaining_time": 0.3232961009,
                        "learn": [
                          190.1352078
                        ]
                      },
                      {
                        "test": [
                          148.2822218
                        ],
                        "passed_time": 0.3085288977,
                        "iteration": 146,
                        "remaining_time": 0.321121914,
                        "learn": [
                          190.1063753
                        ]
                      },
                      {
                        "test": [
                          148.2501638
                        ],
                        "passed_time": 0.3110253682,
                        "iteration": 147,
                        "remaining_time": 0.3194314592,
                        "learn": [
                          190.0676612
                        ]
                      },
                      {
                        "test": [
                          148.2044884
                        ],
                        "passed_time": 0.3130114968,
                        "iteration": 148,
                        "remaining_time": 0.3172129934,
                        "learn": [
                          190.0305407
                        ]
                      },
                      {
                        "test": [
                          148.1675194
                        ],
                        "passed_time": 0.3149473266,
                        "iteration": 149,
                        "remaining_time": 0.3149473266,
                        "learn": [
                          190.0016889
                        ]
                      },
                      {
                        "test": [
                          148.1685584
                        ],
                        "passed_time": 0.317149323,
                        "iteration": 150,
                        "remaining_time": 0.3129486697,
                        "learn": [
                          189.995916
                        ]
                      },
                      {
                        "test": [
                          148.1331012
                        ],
                        "passed_time": 0.3440629799,
                        "iteration": 151,
                        "remaining_time": 0.335008691,
                        "learn": [
                          189.9693778
                        ]
                      },
                      {
                        "test": [
                          148.1304628
                        ],
                        "passed_time": 0.3480953185,
                        "iteration": 152,
                        "remaining_time": 0.3344445217,
                        "learn": [
                          189.9592489
                        ]
                      },
                      {
                        "test": [
                          148.1074908
                        ],
                        "passed_time": 0.3519921439,
                        "iteration": 153,
                        "remaining_time": 0.3337068377,
                        "learn": [
                          189.9473238
                        ]
                      },
                      {
                        "test": [
                          148.0713994
                        ],
                        "passed_time": 0.3553620224,
                        "iteration": 154,
                        "remaining_time": 0.3324354403,
                        "learn": [
                          189.9352816
                        ]
                      },
                      {
                        "test": [
                          148.0452199
                        ],
                        "passed_time": 0.3589821723,
                        "iteration": 155,
                        "remaining_time": 0.3313681591,
                        "learn": [
                          189.9212374
                        ]
                      },
                      {
                        "test": [
                          148.0272351
                        ],
                        "passed_time": 0.3625607896,
                        "iteration": 156,
                        "remaining_time": 0.3302305281,
                        "learn": [
                          189.9131628
                        ]
                      },
                      {
                        "test": [
                          147.9978976
                        ],
                        "passed_time": 0.366549601,
                        "iteration": 157,
                        "remaining_time": 0.3294306541,
                        "learn": [
                          189.8877907
                        ]
                      },
                      {
                        "test": [
                          147.9759001
                        ],
                        "passed_time": 0.3699932341,
                        "iteration": 158,
                        "remaining_time": 0.3281072076,
                        "learn": [
                          189.867109
                        ]
                      },
                      {
                        "test": [
                          147.9548668
                        ],
                        "passed_time": 0.371889763,
                        "iteration": 159,
                        "remaining_time": 0.3254035426,
                        "learn": [
                          189.8508663
                        ]
                      },
                      {
                        "test": [
                          147.9521006
                        ],
                        "passed_time": 0.3738907422,
                        "iteration": 160,
                        "remaining_time": 0.3228000818,
                        "learn": [
                          189.8282349
                        ]
                      },
                      {
                        "test": [
                          147.9239102
                        ],
                        "passed_time": 0.3759133536,
                        "iteration": 161,
                        "remaining_time": 0.3202224864,
                        "learn": [
                          189.8155778
                        ]
                      },
                      {
                        "test": [
                          147.8782513
                        ],
                        "passed_time": 0.3779431431,
                        "iteration": 162,
                        "remaining_time": 0.3176577337,
                        "learn": [
                          189.7932831
                        ]
                      },
                      {
                        "test": [
                          147.8495488
                        ],
                        "passed_time": 0.3798836555,
                        "iteration": 163,
                        "remaining_time": 0.3150254704,
                        "learn": [
                          189.7786765
                        ]
                      },
                      {
                        "test": [
                          147.8275193
                        ],
                        "passed_time": 0.381801053,
                        "iteration": 164,
                        "remaining_time": 0.3123826797,
                        "learn": [
                          189.7652985
                        ]
                      },
                      {
                        "test": [
                          147.7982584
                        ],
                        "passed_time": 0.383977789,
                        "iteration": 165,
                        "remaining_time": 0.3099579743,
                        "learn": [
                          189.7467663
                        ]
                      },
                      {
                        "test": [
                          147.7958896
                        ],
                        "passed_time": 0.3859735283,
                        "iteration": 166,
                        "remaining_time": 0.3073920914,
                        "learn": [
                          189.7443912
                        ]
                      },
                      {
                        "test": [
                          147.7849328
                        ],
                        "passed_time": 0.3879682741,
                        "iteration": 167,
                        "remaining_time": 0.3048322153,
                        "learn": [
                          189.700385
                        ]
                      },
                      {
                        "test": [
                          147.7667516
                        ],
                        "passed_time": 0.3903199488,
                        "iteration": 168,
                        "remaining_time": 0.3025556999,
                        "learn": [
                          189.6830196
                        ]
                      },
                      {
                        "test": [
                          147.7388025
                        ],
                        "passed_time": 0.3922791399,
                        "iteration": 169,
                        "remaining_time": 0.2999781658,
                        "learn": [
                          189.6637974
                        ]
                      },
                      {
                        "test": [
                          147.7336837
                        ],
                        "passed_time": 0.3941954946,
                        "iteration": 170,
                        "remaining_time": 0.2973755486,
                        "learn": [
                          189.6557142
                        ]
                      },
                      {
                        "test": [
                          147.7134691
                        ],
                        "passed_time": 0.3961885277,
                        "iteration": 171,
                        "remaining_time": 0.2948379741,
                        "learn": [
                          189.6348713
                        ]
                      },
                      {
                        "test": [
                          147.7068877
                        ],
                        "passed_time": 0.398078804,
                        "iteration": 172,
                        "remaining_time": 0.2922312607,
                        "learn": [
                          189.6247149
                        ]
                      },
                      {
                        "test": [
                          147.6964464
                        ],
                        "passed_time": 0.4000284553,
                        "iteration": 173,
                        "remaining_time": 0.2896757779,
                        "learn": [
                          189.6203884
                        ]
                      },
                      {
                        "test": [
                          147.6812843
                        ],
                        "passed_time": 0.4019744185,
                        "iteration": 174,
                        "remaining_time": 0.2871245846,
                        "learn": [
                          189.6146818
                        ]
                      },
                      {
                        "test": [
                          147.6923226
                        ],
                        "passed_time": 0.4049294274,
                        "iteration": 175,
                        "remaining_time": 0.2852911875,
                        "learn": [
                          189.5964624
                        ]
                      },
                      {
                        "test": [
                          147.6902569
                        ],
                        "passed_time": 0.4069339611,
                        "iteration": 176,
                        "remaining_time": 0.282784617,
                        "learn": [
                          189.5824008
                        ]
                      },
                      {
                        "test": [
                          147.6851397
                        ],
                        "passed_time": 0.4089212288,
                        "iteration": 177,
                        "remaining_time": 0.2802718534,
                        "learn": [
                          189.5624285
                        ]
                      },
                      {
                        "test": [
                          147.6870463
                        ],
                        "passed_time": 0.4108497587,
                        "iteration": 178,
                        "remaining_time": 0.2777252559,
                        "learn": [
                          189.554338
                        ]
                      },
                      {
                        "test": [
                          147.6623592
                        ],
                        "passed_time": 0.4128359528,
                        "iteration": 179,
                        "remaining_time": 0.2752239685,
                        "learn": [
                          189.537174
                        ]
                      },
                      {
                        "test": [
                          147.6487565
                        ],
                        "passed_time": 0.4148725721,
                        "iteration": 180,
                        "remaining_time": 0.2727615253,
                        "learn": [
                          189.5288625
                        ]
                      },
                      {
                        "test": [
                          147.6056234
                        ],
                        "passed_time": 0.4167106914,
                        "iteration": 181,
                        "remaining_time": 0.2701750637,
                        "learn": [
                          189.5057393
                        ]
                      },
                      {
                        "test": [
                          147.5854658
                        ],
                        "passed_time": 0.4188655198,
                        "iteration": 182,
                        "remaining_time": 0.2677992668,
                        "learn": [
                          189.4833229
                        ]
                      },
                      {
                        "test": [
                          147.5740157
                        ],
                        "passed_time": 0.4202720873,
                        "iteration": 183,
                        "remaining_time": 0.264954142,
                        "learn": [
                          189.4759712
                        ]
                      },
                      {
                        "test": [
                          147.5464291
                        ],
                        "passed_time": 0.4228873059,
                        "iteration": 184,
                        "remaining_time": 0.2628758929,
                        "learn": [
                          189.456511
                        ]
                      },
                      {
                        "test": [
                          147.5375023
                        ],
                        "passed_time": 0.4249006576,
                        "iteration": 185,
                        "remaining_time": 0.2604229837,
                        "learn": [
                          189.4491163
                        ]
                      },
                      {
                        "test": [
                          147.5305047
                        ],
                        "passed_time": 0.4269128074,
                        "iteration": 186,
                        "remaining_time": 0.2579740494,
                        "learn": [
                          189.4356787
                        ]
                      },
                      {
                        "test": [
                          147.5105572
                        ],
                        "passed_time": 0.4288625251,
                        "iteration": 187,
                        "remaining_time": 0.2554925681,
                        "learn": [
                          189.4162794
                        ]
                      },
                      {
                        "test": [
                          147.5013286
                        ],
                        "passed_time": 0.4308489564,
                        "iteration": 188,
                        "remaining_time": 0.253038276,
                        "learn": [
                          189.4076155
                        ]
                      },
                      {
                        "test": [
                          147.4709726
                        ],
                        "passed_time": 0.432860949,
                        "iteration": 189,
                        "remaining_time": 0.2506037073,
                        "learn": [
                          189.3942597
                        ]
                      },
                      {
                        "test": [
                          147.4680326
                        ],
                        "passed_time": 0.4348060495,
                        "iteration": 190,
                        "remaining_time": 0.2481353895,
                        "learn": [
                          189.3936568
                        ]
                      },
                      {
                        "test": [
                          147.4687396
                        ],
                        "passed_time": 0.4367718604,
                        "iteration": 191,
                        "remaining_time": 0.2456841715,
                        "learn": [
                          189.377763
                        ]
                      },
                      {
                        "test": [
                          147.4551153
                        ],
                        "passed_time": 0.4387507992,
                        "iteration": 192,
                        "remaining_time": 0.2432452617,
                        "learn": [
                          189.359756
                        ]
                      },
                      {
                        "test": [
                          147.4249532
                        ],
                        "passed_time": 0.4407395478,
                        "iteration": 193,
                        "remaining_time": 0.2408164539,
                        "learn": [
                          189.3437984
                        ]
                      },
                      {
                        "test": [
                          147.4062503
                        ],
                        "passed_time": 0.4457836393,
                        "iteration": 194,
                        "remaining_time": 0.2400373443,
                        "learn": [
                          189.3225669
                        ]
                      },
                      {
                        "test": [
                          147.3884613
                        ],
                        "passed_time": 0.4482645456,
                        "iteration": 195,
                        "remaining_time": 0.2378546569,
                        "learn": [
                          189.3174155
                        ]
                      },
                      {
                        "test": [
                          147.3802628
                        ],
                        "passed_time": 0.4502203304,
                        "iteration": 196,
                        "remaining_time": 0.235394386,
                        "learn": [
                          189.3031607
                        ]
                      },
                      {
                        "test": [
                          147.3716495
                        ],
                        "passed_time": 0.4522319194,
                        "iteration": 197,
                        "remaining_time": 0.2329679585,
                        "learn": [
                          189.2963337
                        ]
                      },
                      {
                        "test": [
                          147.3752233
                        ],
                        "passed_time": 0.4553444147,
                        "iteration": 198,
                        "remaining_time": 0.2311044517,
                        "learn": [
                          189.282817
                        ]
                      },
                      {
                        "test": [
                          147.3506199
                        ],
                        "passed_time": 0.4572656194,
                        "iteration": 199,
                        "remaining_time": 0.2286328097,
                        "learn": [
                          189.2715987
                        ]
                      },
                      {
                        "test": [
                          147.3487345
                        ],
                        "passed_time": 0.4591449587,
                        "iteration": 200,
                        "remaining_time": 0.2261460244,
                        "learn": [
                          189.267214
                        ]
                      },
                      {
                        "test": [
                          147.3328284
                        ],
                        "passed_time": 0.4610733932,
                        "iteration": 201,
                        "remaining_time": 0.2236890719,
                        "learn": [
                          189.2387991
                        ]
                      },
                      {
                        "test": [
                          147.3216573
                        ],
                        "passed_time": 0.4629793691,
                        "iteration": 202,
                        "remaining_time": 0.2212265951,
                        "learn": [
                          189.1934472
                        ]
                      },
                      {
                        "test": [
                          147.3238347
                        ],
                        "passed_time": 0.4648835005,
                        "iteration": 203,
                        "remaining_time": 0.2187687061,
                        "learn": [
                          189.1883113
                        ]
                      },
                      {
                        "test": [
                          147.3069024
                        ],
                        "passed_time": 0.4668167413,
                        "iteration": 204,
                        "remaining_time": 0.2163297094,
                        "learn": [
                          189.1796863
                        ]
                      },
                      {
                        "test": [
                          147.3060677
                        ],
                        "passed_time": 0.4687700643,
                        "iteration": 205,
                        "remaining_time": 0.2139047866,
                        "learn": [
                          189.178951
                        ]
                      },
                      {
                        "test": [
                          147.3034968
                        ],
                        "passed_time": 0.4707056232,
                        "iteration": 206,
                        "remaining_time": 0.2114764394,
                        "learn": [
                          189.1782422
                        ]
                      },
                      {
                        "test": [
                          147.2898617
                        ],
                        "passed_time": 0.472640554,
                        "iteration": 207,
                        "remaining_time": 0.2090525527,
                        "learn": [
                          189.163946
                        ]
                      },
                      {
                        "test": [
                          147.2892748
                        ],
                        "passed_time": 0.4745411673,
                        "iteration": 208,
                        "remaining_time": 0.206618403,
                        "learn": [
                          189.1634794
                        ]
                      },
                      {
                        "test": [
                          147.2697839
                        ],
                        "passed_time": 0.4765054082,
                        "iteration": 209,
                        "remaining_time": 0.2042166035,
                        "learn": [
                          189.1559645
                        ]
                      },
                      {
                        "test": [
                          147.2607793
                        ],
                        "passed_time": 0.4784151214,
                        "iteration": 210,
                        "remaining_time": 0.2017959517,
                        "learn": [
                          189.1473894
                        ]
                      },
                      {
                        "test": [
                          147.2550456
                        ],
                        "passed_time": 0.4803740015,
                        "iteration": 211,
                        "remaining_time": 0.1994005289,
                        "learn": [
                          189.1315173
                        ]
                      },
                      {
                        "test": [
                          147.2681834
                        ],
                        "passed_time": 0.483599207,
                        "iteration": 212,
                        "remaining_time": 0.1975264367,
                        "learn": [
                          189.1044448
                        ]
                      },
                      {
                        "test": [
                          147.2612581
                        ],
                        "passed_time": 0.4860160147,
                        "iteration": 213,
                        "remaining_time": 0.195314847,
                        "learn": [
                          189.0948111
                        ]
                      },
                      {
                        "test": [
                          147.2556644
                        ],
                        "passed_time": 0.4882583329,
                        "iteration": 214,
                        "remaining_time": 0.1930323642,
                        "learn": [
                          189.085211
                        ]
                      },
                      {
                        "test": [
                          147.2584874
                        ],
                        "passed_time": 0.490566845,
                        "iteration": 215,
                        "remaining_time": 0.1907759953,
                        "learn": [
                          189.0711158
                        ]
                      },
                      {
                        "test": [
                          147.2578004
                        ],
                        "passed_time": 0.4925461329,
                        "iteration": 216,
                        "remaining_time": 0.1883932213,
                        "learn": [
                          189.0678177
                        ]
                      },
                      {
                        "test": [
                          147.2503328
                        ],
                        "passed_time": 0.494544793,
                        "iteration": 217,
                        "remaining_time": 0.1860214359,
                        "learn": [
                          189.0638679
                        ]
                      },
                      {
                        "test": [
                          147.2645854
                        ],
                        "passed_time": 0.4965260154,
                        "iteration": 218,
                        "remaining_time": 0.1836466084,
                        "learn": [
                          189.0454616
                        ]
                      },
                      {
                        "test": [
                          147.2539229
                        ],
                        "passed_time": 0.4984691451,
                        "iteration": 219,
                        "remaining_time": 0.1812615073,
                        "learn": [
                          189.0390877
                        ]
                      },
                      {
                        "test": [
                          147.2533853
                        ],
                        "passed_time": 0.5004292025,
                        "iteration": 220,
                        "remaining_time": 0.178886457,
                        "learn": [
                          189.039057
                        ]
                      },
                      {
                        "test": [
                          147.2514665
                        ],
                        "passed_time": 0.5023951834,
                        "iteration": 221,
                        "remaining_time": 0.1765172266,
                        "learn": [
                          189.035319
                        ]
                      },
                      {
                        "test": [
                          147.2506823
                        ],
                        "passed_time": 0.5043307841,
                        "iteration": 222,
                        "remaining_time": 0.1741411228,
                        "learn": [
                          189.0331702
                        ]
                      },
                      {
                        "test": [
                          147.2506368
                        ],
                        "passed_time": 0.5062569832,
                        "iteration": 223,
                        "remaining_time": 0.1717657622,
                        "learn": [
                          189.0315535
                        ]
                      },
                      {
                        "test": [
                          147.2596779
                        ],
                        "passed_time": 0.5082290194,
                        "iteration": 224,
                        "remaining_time": 0.1694096731,
                        "learn": [
                          189.0237269
                        ]
                      },
                      {
                        "test": [
                          147.2597441
                        ],
                        "passed_time": 0.5101917504,
                        "iteration": 225,
                        "remaining_time": 0.167053936,
                        "learn": [
                          189.0165305
                        ]
                      },
                      {
                        "test": [
                          147.2494801
                        ],
                        "passed_time": 0.5121295511,
                        "iteration": 226,
                        "remaining_time": 0.1646936442,
                        "learn": [
                          189.0034431
                        ]
                      },
                      {
                        "test": [
                          147.2334903
                        ],
                        "passed_time": 0.5140576192,
                        "iteration": 227,
                        "remaining_time": 0.162333985,
                        "learn": [
                          188.9934841
                        ]
                      },
                      {
                        "test": [
                          147.2179638
                        ],
                        "passed_time": 0.5160144313,
                        "iteration": 228,
                        "remaining_time": 0.1599870071,
                        "learn": [
                          188.9849974
                        ]
                      },
                      {
                        "test": [
                          147.2007904
                        ],
                        "passed_time": 0.5179677807,
                        "iteration": 229,
                        "remaining_time": 0.157642368,
                        "learn": [
                          188.9593187
                        ]
                      },
                      {
                        "test": [
                          147.2020156
                        ],
                        "passed_time": 0.5200822054,
                        "iteration": 230,
                        "remaining_time": 0.1553492302,
                        "learn": [
                          188.9396544
                        ]
                      },
                      {
                        "test": [
                          147.1981159
                        ],
                        "passed_time": 0.5220662232,
                        "iteration": 231,
                        "remaining_time": 0.1530194102,
                        "learn": [
                          188.9143691
                        ]
                      },
                      {
                        "test": [
                          147.1935835
                        ],
                        "passed_time": 0.5240299433,
                        "iteration": 232,
                        "remaining_time": 0.1506867219,
                        "learn": [
                          188.9068766
                        ]
                      },
                      {
                        "test": [
                          147.1832921
                        ],
                        "passed_time": 0.5259904107,
                        "iteration": 233,
                        "remaining_time": 0.1483562697,
                        "learn": [
                          188.9039064
                        ]
                      },
                      {
                        "test": [
                          147.1779589
                        ],
                        "passed_time": 0.5279614242,
                        "iteration": 234,
                        "remaining_time": 0.1460318833,
                        "learn": [
                          188.8882366
                        ]
                      },
                      {
                        "test": [
                          147.1708317
                        ],
                        "passed_time": 0.5298679183,
                        "iteration": 235,
                        "remaining_time": 0.1436929948,
                        "learn": [
                          188.881352
                        ]
                      },
                      {
                        "test": [
                          147.164259
                        ],
                        "passed_time": 0.5320689129,
                        "iteration": 236,
                        "remaining_time": 0.1414360401,
                        "learn": [
                          188.8683156
                        ]
                      },
                      {
                        "test": [
                          147.1445505
                        ],
                        "passed_time": 0.5340385137,
                        "iteration": 237,
                        "remaining_time": 0.1391192767,
                        "learn": [
                          188.856492
                        ]
                      },
                      {
                        "test": [
                          147.1464535
                        ],
                        "passed_time": 0.5359591529,
                        "iteration": 238,
                        "remaining_time": 0.1367929219,
                        "learn": [
                          188.8537397
                        ]
                      },
                      {
                        "test": [
                          147.1435901
                        ],
                        "passed_time": 0.5379278538,
                        "iteration": 239,
                        "remaining_time": 0.1344819634,
                        "learn": [
                          188.8288469
                        ]
                      },
                      {
                        "test": [
                          147.1318653
                        ],
                        "passed_time": 0.5433632163,
                        "iteration": 240,
                        "remaining_time": 0.1330225301,
                        "learn": [
                          188.7920789
                        ]
                      },
                      {
                        "test": [
                          147.1219584
                        ],
                        "passed_time": 0.5463553162,
                        "iteration": 241,
                        "remaining_time": 0.1309446626,
                        "learn": [
                          188.7701182
                        ]
                      },
                      {
                        "test": [
                          147.1077415
                        ],
                        "passed_time": 0.5487829283,
                        "iteration": 242,
                        "remaining_time": 0.1287268597,
                        "learn": [
                          188.7546018
                        ]
                      },
                      {
                        "test": [
                          147.1117975
                        ],
                        "passed_time": 0.5507897501,
                        "iteration": 243,
                        "remaining_time": 0.1264107623,
                        "learn": [
                          188.7438271
                        ]
                      },
                      {
                        "test": [
                          147.1090097
                        ],
                        "passed_time": 0.5528101879,
                        "iteration": 244,
                        "remaining_time": 0.1241002463,
                        "learn": [
                          188.7390153
                        ]
                      },
                      {
                        "test": [
                          147.1002672
                        ],
                        "passed_time": 0.5547505894,
                        "iteration": 245,
                        "remaining_time": 0.1217745196,
                        "learn": [
                          188.6959108
                        ]
                      },
                      {
                        "test": [
                          147.0977964
                        ],
                        "passed_time": 0.556706807,
                        "iteration": 246,
                        "remaining_time": 0.1194553068,
                        "learn": [
                          188.6882412
                        ]
                      },
                      {
                        "test": [
                          147.0931608
                        ],
                        "passed_time": 0.5586165055,
                        "iteration": 247,
                        "remaining_time": 0.1171292673,
                        "learn": [
                          188.6866358
                        ]
                      },
                      {
                        "test": [
                          147.091141
                        ],
                        "passed_time": 0.5605209388,
                        "iteration": 248,
                        "remaining_time": 0.1148054935,
                        "learn": [
                          188.6844529
                        ]
                      },
                      {
                        "test": [
                          147.0951152
                        ],
                        "passed_time": 0.5624530878,
                        "iteration": 249,
                        "remaining_time": 0.1124906176,
                        "learn": [
                          188.6774556
                        ]
                      },
                      {
                        "test": [
                          147.0903887
                        ],
                        "passed_time": 0.5643627209,
                        "iteration": 250,
                        "remaining_time": 0.1101743957,
                        "learn": [
                          188.673675
                        ]
                      },
                      {
                        "test": [
                          147.0941365
                        ],
                        "passed_time": 0.5662248606,
                        "iteration": 251,
                        "remaining_time": 0.1078523544,
                        "learn": [
                          188.6710686
                        ]
                      },
                      {
                        "test": [
                          147.1088064
                        ],
                        "passed_time": 0.5681602685,
                        "iteration": 252,
                        "remaining_time": 0.1055475598,
                        "learn": [
                          188.6548331
                        ]
                      },
                      {
                        "test": [
                          147.1122405
                        ],
                        "passed_time": 0.5700429305,
                        "iteration": 253,
                        "remaining_time": 0.1032361213,
                        "learn": [
                          188.6524978
                        ]
                      },
                      {
                        "test": [
                          147.1143554
                        ],
                        "passed_time": 0.5722211219,
                        "iteration": 254,
                        "remaining_time": 0.100980198,
                        "learn": [
                          188.6458139
                        ]
                      },
                      {
                        "test": [
                          147.1110008
                        ],
                        "passed_time": 0.5742017743,
                        "iteration": 255,
                        "remaining_time": 0.09869092996,
                        "learn": [
                          188.6412871
                        ]
                      },
                      {
                        "test": [
                          147.1079505
                        ],
                        "passed_time": 0.5761719415,
                        "iteration": 256,
                        "remaining_time": 0.09640230928,
                        "learn": [
                          188.6394604
                        ]
                      },
                      {
                        "test": [
                          147.1044407
                        ],
                        "passed_time": 0.5781132112,
                        "iteration": 257,
                        "remaining_time": 0.09411145298,
                        "learn": [
                          188.6296888
                        ]
                      },
                      {
                        "test": [
                          147.1045181
                        ],
                        "passed_time": 0.5799160022,
                        "iteration": 258,
                        "remaining_time": 0.09180137487,
                        "learn": [
                          188.5939916
                        ]
                      },
                      {
                        "test": [
                          147.0911234
                        ],
                        "passed_time": 0.5818895057,
                        "iteration": 259,
                        "remaining_time": 0.08952146242,
                        "learn": [
                          188.5896097
                        ]
                      },
                      {
                        "test": [
                          147.0835847
                        ],
                        "passed_time": 0.5838535685,
                        "iteration": 260,
                        "remaining_time": 0.08724248725,
                        "learn": [
                          188.5854792
                        ]
                      },
                      {
                        "test": [
                          147.0754817
                        ],
                        "passed_time": 0.5857983399,
                        "iteration": 261,
                        "remaining_time": 0.084963118,
                        "learn": [
                          188.5794426
                        ]
                      },
                      {
                        "test": [
                          147.0718869
                        ],
                        "passed_time": 0.5877289771,
                        "iteration": 262,
                        "remaining_time": 0.08268430476,
                        "learn": [
                          188.5695643
                        ]
                      },
                      {
                        "test": [
                          147.0747178
                        ],
                        "passed_time": 0.5896984406,
                        "iteration": 263,
                        "remaining_time": 0.08041342372,
                        "learn": [
                          188.5690704
                        ]
                      },
                      {
                        "test": [
                          147.0760151
                        ],
                        "passed_time": 0.5914658507,
                        "iteration": 264,
                        "remaining_time": 0.07811813122,
                        "learn": [
                          188.5684952
                        ]
                      },
                      {
                        "test": [
                          147.0592965
                        ],
                        "passed_time": 0.5941532386,
                        "iteration": 265,
                        "remaining_time": 0.07594439892,
                        "learn": [
                          188.5614479
                        ]
                      },
                      {
                        "test": [
                          147.0581814
                        ],
                        "passed_time": 0.5971989363,
                        "iteration": 266,
                        "remaining_time": 0.07381110449,
                        "learn": [
                          188.5579774
                        ]
                      },
                      {
                        "test": [
                          147.0541858
                        ],
                        "passed_time": 0.5991924648,
                        "iteration": 267,
                        "remaining_time": 0.07154536893,
                        "learn": [
                          188.5490501
                        ]
                      },
                      {
                        "test": [
                          147.0521945
                        ],
                        "passed_time": 0.60113144,
                        "iteration": 268,
                        "remaining_time": 0.06927537041,
                        "learn": [
                          188.5426566
                        ]
                      },
                      {
                        "test": [
                          147.0603647
                        ],
                        "passed_time": 0.6031130896,
                        "iteration": 269,
                        "remaining_time": 0.06701256551,
                        "learn": [
                          188.5153134
                        ]
                      },
                      {
                        "test": [
                          147.0603686
                        ],
                        "passed_time": 0.6050524184,
                        "iteration": 270,
                        "remaining_time": 0.06474730677,
                        "learn": [
                          188.5142265
                        ]
                      },
                      {
                        "test": [
                          147.0495266
                        ],
                        "passed_time": 0.6070120768,
                        "iteration": 271,
                        "remaining_time": 0.06248653731,
                        "learn": [
                          188.5096551
                        ]
                      },
                      {
                        "test": [
                          147.0496916
                        ],
                        "passed_time": 0.6089426976,
                        "iteration": 272,
                        "remaining_time": 0.06022510196,
                        "learn": [
                          188.5049087
                        ]
                      },
                      {
                        "test": [
                          147.0489725
                        ],
                        "passed_time": 0.6108895562,
                        "iteration": 273,
                        "remaining_time": 0.05796762212,
                        "learn": [
                          188.5020607
                        ]
                      },
                      {
                        "test": [
                          147.0341597
                        ],
                        "passed_time": 0.6128041538,
                        "iteration": 274,
                        "remaining_time": 0.05570946853,
                        "learn": [
                          188.4889764
                        ]
                      },
                      {
                        "test": [
                          147.0348762
                        ],
                        "passed_time": 0.614806912,
                        "iteration": 275,
                        "remaining_time": 0.05346147061,
                        "learn": [
                          188.48886
                        ]
                      },
                      {
                        "test": [
                          147.0271145
                        ],
                        "passed_time": 0.6167501562,
                        "iteration": 276,
                        "remaining_time": 0.05121030178,
                        "learn": [
                          188.4843734
                        ]
                      },
                      {
                        "test": [
                          147.0383665
                        ],
                        "passed_time": 0.6187379012,
                        "iteration": 277,
                        "remaining_time": 0.04896486988,
                        "learn": [
                          188.479902
                        ]
                      },
                      {
                        "test": [
                          147.0277929
                        ],
                        "passed_time": 0.6208263065,
                        "iteration": 278,
                        "remaining_time": 0.04672886178,
                        "learn": [
                          188.4674624
                        ]
                      },
                      {
                        "test": [
                          147.0281251
                        ],
                        "passed_time": 0.6230348446,
                        "iteration": 279,
                        "remaining_time": 0.0445024889,
                        "learn": [
                          188.4578892
                        ]
                      },
                      {
                        "test": [
                          147.0255091
                        ],
                        "passed_time": 0.6249752024,
                        "iteration": 280,
                        "remaining_time": 0.04225810977,
                        "learn": [
                          188.4523361
                        ]
                      },
                      {
                        "test": [
                          147.0271182
                        ],
                        "passed_time": 0.6268992252,
                        "iteration": 281,
                        "remaining_time": 0.04001484416,
                        "learn": [
                          188.4470575
                        ]
                      },
                      {
                        "test": [
                          147.0228642
                        ],
                        "passed_time": 0.6288529391,
                        "iteration": 282,
                        "remaining_time": 0.03777561825,
                        "learn": [
                          188.4442066
                        ]
                      },
                      {
                        "test": [
                          147.0268952
                        ],
                        "passed_time": 0.6307991423,
                        "iteration": 283,
                        "remaining_time": 0.03553797985,
                        "learn": [
                          188.4415591
                        ]
                      },
                      {
                        "test": [
                          147.0247621
                        ],
                        "passed_time": 0.6327091618,
                        "iteration": 284,
                        "remaining_time": 0.0333004822,
                        "learn": [
                          188.4326279
                        ]
                      },
                      {
                        "test": [
                          147.0200031
                        ],
                        "passed_time": 0.6347027439,
                        "iteration": 285,
                        "remaining_time": 0.03106936509,
                        "learn": [
                          188.4132002
                        ]
                      },
                      {
                        "test": [
                          147.0170568
                        ],
                        "passed_time": 0.6366497316,
                        "iteration": 286,
                        "remaining_time": 0.02883779272,
                        "learn": [
                          188.4014048
                        ]
                      },
                      {
                        "test": [
                          147.0061461
                        ],
                        "passed_time": 0.6386893572,
                        "iteration": 287,
                        "remaining_time": 0.02661205655,
                        "learn": [
                          188.3908522
                        ]
                      },
                      {
                        "test": [
                          146.9910569
                        ],
                        "passed_time": 0.6408216034,
                        "iteration": 288,
                        "remaining_time": 0.02439113369,
                        "learn": [
                          188.380778
                        ]
                      },
                      {
                        "test": [
                          146.9942297
                        ],
                        "passed_time": 0.6441015648,
                        "iteration": 289,
                        "remaining_time": 0.02221039879,
                        "learn": [
                          188.3600788
                        ]
                      },
                      {
                        "test": [
                          146.9934605
                        ],
                        "passed_time": 0.6462495915,
                        "iteration": 290,
                        "remaining_time": 0.01998710077,
                        "learn": [
                          188.3581642
                        ]
                      },
                      {
                        "test": [
                          146.9925902
                        ],
                        "passed_time": 0.6481788051,
                        "iteration": 291,
                        "remaining_time": 0.01775832343,
                        "learn": [
                          188.3581247
                        ]
                      },
                      {
                        "test": [
                          146.9877363
                        ],
                        "passed_time": 0.65032563,
                        "iteration": 292,
                        "remaining_time": 0.0155367898,
                        "learn": [
                          188.3536361
                        ]
                      },
                      {
                        "test": [
                          146.9812224
                        ],
                        "passed_time": 0.6522759895,
                        "iteration": 293,
                        "remaining_time": 0.01331175489,
                        "learn": [
                          188.3506361
                        ]
                      },
                      {
                        "test": [
                          146.9776322
                        ],
                        "passed_time": 0.6552024055,
                        "iteration": 294,
                        "remaining_time": 0.01110512552,
                        "learn": [
                          188.3437088
                        ]
                      },
                      {
                        "test": [
                          146.9798193
                        ],
                        "passed_time": 0.6577048667,
                        "iteration": 295,
                        "remaining_time": 0.008887903604,
                        "learn": [
                          188.3420266
                        ]
                      },
                      {
                        "test": [
                          146.9779931
                        ],
                        "passed_time": 0.6596811983,
                        "iteration": 296,
                        "remaining_time": 0.006663446448,
                        "learn": [
                          188.3341935
                        ]
                      },
                      {
                        "test": [
                          146.9807517
                        ],
                        "passed_time": 0.6614860029,
                        "iteration": 297,
                        "remaining_time": 0.004439503375,
                        "learn": [
                          188.3226528
                        ]
                      },
                      {
                        "test": [
                          146.9732526
                        ],
                        "passed_time": 0.6639347182,
                        "iteration": 298,
                        "remaining_time": 0.002220517452,
                        "learn": [
                          188.3187052
                        ]
                      },
                      {
                        "test": [
                          146.9700557
                        ],
                        "passed_time": 0.6658917402,
                        "iteration": 299,
                        "remaining_time": 0,
                        "learn": [
                          188.3122244
                        ]
                      }
                    ]
                  },
                  "total_iterations": 300,
                  "passed_iterations": 299
                },
                "path": "catboost_info/fold-1",
                "name": "fold-1"
              },
              "catboost_info/fold-0": {
                "content": {
                  "data": {
                    "meta": {
                      "name": "experiment",
                      "parameters": "",
                      "test_metrics": [
                        {
                          "best_value": "Min",
                          "name": "RMSE"
                        }
                      ],
                      "learn_sets": [
                        "learn"
                      ],
                      "launch_mode": "Train",
                      "learn_metrics": [
                        {
                          "best_value": "Min",
                          "name": "RMSE"
                        }
                      ],
                      "iteration_count": 300,
                      "test_sets": [
                        "test"
                      ]
                    },
                    "iterations": [
                      {
                        "test": [
                          339.3248402
                        ],
                        "passed_time": 0.001428626065,
                        "iteration": 0,
                        "remaining_time": 0.4271591935,
                        "learn": [
                          323.581821
                        ]
                      },
                      {
                        "test": [
                          332.8913411
                        ],
                        "passed_time": 0.005095396755,
                        "iteration": 1,
                        "remaining_time": 0.7592141165,
                        "learn": [
                          317.0322491
                        ]
                      },
                      {
                        "test": [
                          326.681504
                        ],
                        "passed_time": 0.007018074127,
                        "iteration": 2,
                        "remaining_time": 0.6947893385,
                        "learn": [
                          310.764338
                        ]
                      },
                      {
                        "test": [
                          320.7906057
                        ],
                        "passed_time": 0.009582408483,
                        "iteration": 3,
                        "remaining_time": 0.7090982278,
                        "learn": [
                          304.736407
                        ]
                      },
                      {
                        "test": [
                          315.1156096
                        ],
                        "passed_time": 0.01098998776,
                        "iteration": 4,
                        "remaining_time": 0.648409278,
                        "learn": [
                          298.9532058
                        ]
                      },
                      {
                        "test": [
                          309.709886
                        ],
                        "passed_time": 0.01318147619,
                        "iteration": 5,
                        "remaining_time": 0.6458923334,
                        "learn": [
                          293.4068748
                        ]
                      },
                      {
                        "test": [
                          304.8115384
                        ],
                        "passed_time": 0.01402327037,
                        "iteration": 6,
                        "remaining_time": 0.5869740312,
                        "learn": [
                          288.3690549
                        ]
                      },
                      {
                        "test": [
                          299.7736771
                        ],
                        "passed_time": 0.01579968749,
                        "iteration": 7,
                        "remaining_time": 0.5766885932,
                        "learn": [
                          283.2400284
                        ]
                      },
                      {
                        "test": [
                          294.9411829
                        ],
                        "passed_time": 0.01832193372,
                        "iteration": 8,
                        "remaining_time": 0.5924091904,
                        "learn": [
                          278.3321461
                        ]
                      },
                      {
                        "test": [
                          290.4577473
                        ],
                        "passed_time": 0.01985104201,
                        "iteration": 9,
                        "remaining_time": 0.5756802183,
                        "learn": [
                          273.7142597
                        ]
                      },
                      {
                        "test": [
                          286.0501847
                        ],
                        "passed_time": 0.02183828789,
                        "iteration": 10,
                        "remaining_time": 0.5737513819,
                        "learn": [
                          269.1966295
                        ]
                      },
                      {
                        "test": [
                          281.8572836
                        ],
                        "passed_time": 0.02416653134,
                        "iteration": 11,
                        "remaining_time": 0.5799967522,
                        "learn": [
                          264.9135694
                        ]
                      },
                      {
                        "test": [
                          277.8604877
                        ],
                        "passed_time": 0.02618588557,
                        "iteration": 12,
                        "remaining_time": 0.5781037814,
                        "learn": [
                          260.8036017
                        ]
                      },
                      {
                        "test": [
                          274.1583118
                        ],
                        "passed_time": 0.02757714068,
                        "iteration": 13,
                        "remaining_time": 0.5633615882,
                        "learn": [
                          256.972741
                        ]
                      },
                      {
                        "test": [
                          270.4606776
                        ],
                        "passed_time": 0.02957410179,
                        "iteration": 14,
                        "remaining_time": 0.561907934,
                        "learn": [
                          253.1865919
                        ]
                      },
                      {
                        "test": [
                          266.9423581
                        ],
                        "passed_time": 0.03093246857,
                        "iteration": 15,
                        "remaining_time": 0.5490513171,
                        "learn": [
                          249.5827493
                        ]
                      },
                      {
                        "test": [
                          263.5999195
                        ],
                        "passed_time": 0.03354734812,
                        "iteration": 16,
                        "remaining_time": 0.5584646775,
                        "learn": [
                          246.1506685
                        ]
                      },
                      {
                        "test": [
                          260.3820924
                        ],
                        "passed_time": 0.03536179799,
                        "iteration": 17,
                        "remaining_time": 0.5540015019,
                        "learn": [
                          242.8746317
                        ]
                      },
                      {
                        "test": [
                          257.3222611
                        ],
                        "passed_time": 0.03728625623,
                        "iteration": 18,
                        "remaining_time": 0.5514441054,
                        "learn": [
                          239.7642884
                        ]
                      },
                      {
                        "test": [
                          254.4095484
                        ],
                        "passed_time": 0.03864103219,
                        "iteration": 19,
                        "remaining_time": 0.5409744506,
                        "learn": [
                          236.781656
                        ]
                      },
                      {
                        "test": [
                          251.8405673
                        ],
                        "passed_time": 0.03951306567,
                        "iteration": 20,
                        "remaining_time": 0.524959301,
                        "learn": [
                          234.1221618
                        ]
                      },
                      {
                        "test": [
                          249.1758655
                        ],
                        "passed_time": 0.04132406926,
                        "iteration": 21,
                        "remaining_time": 0.522185966,
                        "learn": [
                          231.4049519
                        ]
                      },
                      {
                        "test": [
                          246.6837988
                        ],
                        "passed_time": 0.04332313668,
                        "iteration": 22,
                        "remaining_time": 0.5217612548,
                        "learn": [
                          228.8371404
                        ]
                      },
                      {
                        "test": [
                          244.2838785
                        ],
                        "passed_time": 0.04533856282,
                        "iteration": 23,
                        "remaining_time": 0.5213934724,
                        "learn": [
                          226.3713752
                        ]
                      },
                      {
                        "test": [
                          242.0120743
                        ],
                        "passed_time": 0.04706763739,
                        "iteration": 24,
                        "remaining_time": 0.5177440113,
                        "learn": [
                          224.0355897
                        ]
                      },
                      {
                        "test": [
                          239.8298561
                        ],
                        "passed_time": 0.04883883281,
                        "iteration": 25,
                        "remaining_time": 0.5146861611,
                        "learn": [
                          221.802689
                        ]
                      },
                      {
                        "test": [
                          237.9254811
                        ],
                        "passed_time": 0.04967934156,
                        "iteration": 26,
                        "remaining_time": 0.5023133424,
                        "learn": [
                          219.8327428
                        ]
                      },
                      {
                        "test": [
                          235.9644338
                        ],
                        "passed_time": 0.05102865491,
                        "iteration": 27,
                        "remaining_time": 0.4957069335,
                        "learn": [
                          217.8256686
                        ]
                      },
                      {
                        "test": [
                          234.0799792
                        ],
                        "passed_time": 0.05292444382,
                        "iteration": 28,
                        "remaining_time": 0.4945698026,
                        "learn": [
                          215.896268
                        ]
                      },
                      {
                        "test": [
                          232.2907859
                        ],
                        "passed_time": 0.05475440151,
                        "iteration": 29,
                        "remaining_time": 0.4927896136,
                        "learn": [
                          214.0775381
                        ]
                      },
                      {
                        "test": [
                          230.6712053
                        ],
                        "passed_time": 0.05714564623,
                        "iteration": 30,
                        "remaining_time": 0.4958767367,
                        "learn": [
                          212.3666069
                        ]
                      },
                      {
                        "test": [
                          229.1035962
                        ],
                        "passed_time": 0.05955032155,
                        "iteration": 31,
                        "remaining_time": 0.498733943,
                        "learn": [
                          210.7246142
                        ]
                      },
                      {
                        "test": [
                          227.5936713
                        ],
                        "passed_time": 0.06090692201,
                        "iteration": 32,
                        "remaining_time": 0.492792369,
                        "learn": [
                          209.1626775
                        ]
                      },
                      {
                        "test": [
                          226.1517833
                        ],
                        "passed_time": 0.06302844479,
                        "iteration": 33,
                        "remaining_time": 0.4931048916,
                        "learn": [
                          207.665788
                        ]
                      },
                      {
                        "test": [
                          224.8714288
                        ],
                        "passed_time": 0.06545650048,
                        "iteration": 34,
                        "remaining_time": 0.4955992179,
                        "learn": [
                          206.3051248
                        ]
                      },
                      {
                        "test": [
                          223.5240436
                        ],
                        "passed_time": 0.06742850943,
                        "iteration": 35,
                        "remaining_time": 0.4944757359,
                        "learn": [
                          204.9466263
                        ]
                      },
                      {
                        "test": [
                          222.3939304
                        ],
                        "passed_time": 0.06825935023,
                        "iteration": 36,
                        "remaining_time": 0.4851948408,
                        "learn": [
                          203.7869915
                        ]
                      },
                      {
                        "test": [
                          221.2020408
                        ],
                        "passed_time": 0.07012130991,
                        "iteration": 37,
                        "remaining_time": 0.4834679789,
                        "learn": [
                          202.5891587
                        ]
                      },
                      {
                        "test": [
                          220.0831692
                        ],
                        "passed_time": 0.07216034823,
                        "iteration": 38,
                        "remaining_time": 0.4829192535,
                        "learn": [
                          201.4538507
                        ]
                      },
                      {
                        "test": [
                          219.0310849
                        ],
                        "passed_time": 0.07417366987,
                        "iteration": 39,
                        "remaining_time": 0.4821288542,
                        "learn": [
                          200.3799488
                        ]
                      },
                      {
                        "test": [
                          218.0302326
                        ],
                        "passed_time": 0.07627863485,
                        "iteration": 40,
                        "remaining_time": 0.4818577177,
                        "learn": [
                          199.3557238
                        ]
                      },
                      {
                        "test": [
                          217.0744202
                        ],
                        "passed_time": 0.07821051291,
                        "iteration": 41,
                        "remaining_time": 0.4804360079,
                        "learn": [
                          198.3961134
                        ]
                      },
                      {
                        "test": [
                          216.1753351
                        ],
                        "passed_time": 0.07956406617,
                        "iteration": 42,
                        "remaining_time": 0.4755340699,
                        "learn": [
                          197.4781519
                        ]
                      },
                      {
                        "test": [
                          215.3150239
                        ],
                        "passed_time": 0.08257405477,
                        "iteration": 43,
                        "remaining_time": 0.4804308641,
                        "learn": [
                          196.6187499
                        ]
                      },
                      {
                        "test": [
                          214.5025385
                        ],
                        "passed_time": 0.08458289469,
                        "iteration": 44,
                        "remaining_time": 0.4793030699,
                        "learn": [
                          195.8037948
                        ]
                      },
                      {
                        "test": [
                          213.7317791
                        ],
                        "passed_time": 0.08653250417,
                        "iteration": 45,
                        "remaining_time": 0.4778099143,
                        "learn": [
                          195.0384561
                        ]
                      },
                      {
                        "test": [
                          213.0766733
                        ],
                        "passed_time": 0.08740020502,
                        "iteration": 46,
                        "remaining_time": 0.470473444,
                        "learn": [
                          194.3753229
                        ]
                      },
                      {
                        "test": [
                          212.3789199
                        ],
                        "passed_time": 0.08995295601,
                        "iteration": 47,
                        "remaining_time": 0.472253019,
                        "learn": [
                          193.6850679
                        ]
                      },
                      {
                        "test": [
                          211.7207327
                        ],
                        "passed_time": 0.09213800368,
                        "iteration": 48,
                        "remaining_time": 0.4719722229,
                        "learn": [
                          193.030855
                        ]
                      },
                      {
                        "test": [
                          211.1070649
                        ],
                        "passed_time": 0.09406347371,
                        "iteration": 49,
                        "remaining_time": 0.4703173686,
                        "learn": [
                          192.3723945
                        ]
                      },
                      {
                        "test": [
                          210.4969032
                        ],
                        "passed_time": 0.09629154402,
                        "iteration": 50,
                        "remaining_time": 0.4701293032,
                        "learn": [
                          191.7456853
                        ]
                      },
                      {
                        "test": [
                          209.8179827
                        ],
                        "passed_time": 0.098211606,
                        "iteration": 51,
                        "remaining_time": 0.4683938132,
                        "learn": [
                          191.128293
                        ]
                      },
                      {
                        "test": [
                          209.2296239
                        ],
                        "passed_time": 0.1003081884,
                        "iteration": 52,
                        "remaining_time": 0.4674740103,
                        "learn": [
                          190.5607349
                        ]
                      },
                      {
                        "test": [
                          208.6537195
                        ],
                        "passed_time": 0.102257897,
                        "iteration": 53,
                        "remaining_time": 0.4658415308,
                        "learn": [
                          190.0327103
                        ]
                      },
                      {
                        "test": [
                          208.1078799
                        ],
                        "passed_time": 0.1048091771,
                        "iteration": 54,
                        "remaining_time": 0.4668772435,
                        "learn": [
                          189.533475
                        ]
                      },
                      {
                        "test": [
                          207.6112314
                        ],
                        "passed_time": 0.1068072191,
                        "iteration": 55,
                        "remaining_time": 0.4653743119,
                        "learn": [
                          189.0692696
                        ]
                      },
                      {
                        "test": [
                          207.1164184
                        ],
                        "passed_time": 0.1087338146,
                        "iteration": 56,
                        "remaining_time": 0.46354942,
                        "learn": [
                          188.5443115
                        ]
                      },
                      {
                        "test": [
                          206.7087161
                        ],
                        "passed_time": 0.1100929077,
                        "iteration": 57,
                        "remaining_time": 0.4593531666,
                        "learn": [
                          188.1368929
                        ]
                      },
                      {
                        "test": [
                          206.3004401
                        ],
                        "passed_time": 0.112995837,
                        "iteration": 58,
                        "remaining_time": 0.4615592662,
                        "learn": [
                          187.7209939
                        ]
                      },
                      {
                        "test": [
                          205.8991959
                        ],
                        "passed_time": 0.1149375593,
                        "iteration": 59,
                        "remaining_time": 0.4597502374,
                        "learn": [
                          187.3272515
                        ]
                      },
                      {
                        "test": [
                          205.4727787
                        ],
                        "passed_time": 0.1169023439,
                        "iteration": 60,
                        "remaining_time": 0.4580272164,
                        "learn": [
                          186.9418237
                        ]
                      },
                      {
                        "test": [
                          205.0676796
                        ],
                        "passed_time": 0.1188271149,
                        "iteration": 61,
                        "remaining_time": 0.4561427959,
                        "learn": [
                          186.5723657
                        ]
                      },
                      {
                        "test": [
                          204.7480346
                        ],
                        "passed_time": 0.1201811563,
                        "iteration": 62,
                        "remaining_time": 0.4521100642,
                        "learn": [
                          186.2713233
                        ]
                      },
                      {
                        "test": [
                          204.3814694
                        ],
                        "passed_time": 0.1221368929,
                        "iteration": 63,
                        "remaining_time": 0.4503797926,
                        "learn": [
                          185.9621621
                        ]
                      },
                      {
                        "test": [
                          204.0836117
                        ],
                        "passed_time": 0.1240603194,
                        "iteration": 64,
                        "remaining_time": 0.44852577,
                        "learn": [
                          185.6283396
                        ]
                      },
                      {
                        "test": [
                          203.7372105
                        ],
                        "passed_time": 0.1260120315,
                        "iteration": 65,
                        "remaining_time": 0.4467699299,
                        "learn": [
                          185.2936774
                        ]
                      },
                      {
                        "test": [
                          203.4108301
                        ],
                        "passed_time": 0.1277641874,
                        "iteration": 66,
                        "remaining_time": 0.4443142636,
                        "learn": [
                          184.9869287
                        ]
                      },
                      {
                        "test": [
                          203.1637904
                        ],
                        "passed_time": 0.1296607772,
                        "iteration": 67,
                        "remaining_time": 0.4423720633,
                        "learn": [
                          184.7569929
                        ]
                      },
                      {
                        "test": [
                          202.8613336
                        ],
                        "passed_time": 0.131658381,
                        "iteration": 68,
                        "remaining_time": 0.4407693625,
                        "learn": [
                          184.4798502
                        ]
                      },
                      {
                        "test": [
                          202.5741835
                        ],
                        "passed_time": 0.1336303318,
                        "iteration": 69,
                        "remaining_time": 0.4390710901,
                        "learn": [
                          184.2286685
                        ]
                      },
                      {
                        "test": [
                          202.336058
                        ],
                        "passed_time": 0.1355564218,
                        "iteration": 70,
                        "remaining_time": 0.4372171914,
                        "learn": [
                          184.0124443
                        ]
                      },
                      {
                        "test": [
                          202.0991385
                        ],
                        "passed_time": 0.1375038277,
                        "iteration": 71,
                        "remaining_time": 0.4354287877,
                        "learn": [
                          183.7804543
                        ]
                      },
                      {
                        "test": [
                          201.8600788
                        ],
                        "passed_time": 0.1394534299,
                        "iteration": 72,
                        "remaining_time": 0.4336428573,
                        "learn": [
                          183.5734263
                        ]
                      },
                      {
                        "test": [
                          201.5990959
                        ],
                        "passed_time": 0.1414754822,
                        "iteration": 73,
                        "remaining_time": 0.4320737701,
                        "learn": [
                          183.3678867
                        ]
                      },
                      {
                        "test": [
                          201.3895228
                        ],
                        "passed_time": 0.1434542156,
                        "iteration": 74,
                        "remaining_time": 0.4303626467,
                        "learn": [
                          183.1874975
                        ]
                      },
                      {
                        "test": [
                          201.2546129
                        ],
                        "passed_time": 0.1442996579,
                        "iteration": 75,
                        "remaining_time": 0.4253042547,
                        "learn": [
                          183.0657137
                        ]
                      },
                      {
                        "test": [
                          201.0498016
                        ],
                        "passed_time": 0.146266246,
                        "iteration": 76,
                        "remaining_time": 0.423602245,
                        "learn": [
                          182.8955324
                        ]
                      },
                      {
                        "test": [
                          200.8363776
                        ],
                        "passed_time": 0.1482823312,
                        "iteration": 77,
                        "remaining_time": 0.4220343274,
                        "learn": [
                          182.7273258
                        ]
                      },
                      {
                        "test": [
                          200.7220621
                        ],
                        "passed_time": 0.1491577746,
                        "iteration": 78,
                        "remaining_time": 0.4172641544,
                        "learn": [
                          182.6255537
                        ]
                      },
                      {
                        "test": [
                          200.5405162
                        ],
                        "passed_time": 0.1511106404,
                        "iteration": 79,
                        "remaining_time": 0.4155542611,
                        "learn": [
                          182.4582454
                        ]
                      },
                      {
                        "test": [
                          200.4156878
                        ],
                        "passed_time": 0.1524508985,
                        "iteration": 80,
                        "remaining_time": 0.4121820589,
                        "learn": [
                          182.3392404
                        ]
                      },
                      {
                        "test": [
                          200.2575276
                        ],
                        "passed_time": 0.1542816716,
                        "iteration": 81,
                        "remaining_time": 0.4101634685,
                        "learn": [
                          182.2189568
                        ]
                      },
                      {
                        "test": [
                          200.0806526
                        ],
                        "passed_time": 0.1562906088,
                        "iteration": 82,
                        "remaining_time": 0.4086152063,
                        "learn": [
                          182.0925965
                        ]
                      },
                      {
                        "test": [
                          199.9017836
                        ],
                        "passed_time": 0.1597378555,
                        "iteration": 83,
                        "remaining_time": 0.4107544856,
                        "learn": [
                          181.9725933
                        ]
                      },
                      {
                        "test": [
                          199.7452029
                        ],
                        "passed_time": 0.161533874,
                        "iteration": 84,
                        "remaining_time": 0.4085856813,
                        "learn": [
                          181.8521081
                        ]
                      },
                      {
                        "test": [
                          199.5882427
                        ],
                        "passed_time": 0.163486927,
                        "iteration": 85,
                        "remaining_time": 0.4068163068,
                        "learn": [
                          181.7401602
                        ]
                      },
                      {
                        "test": [
                          199.4535205
                        ],
                        "passed_time": 0.165305365,
                        "iteration": 86,
                        "remaining_time": 0.404713135,
                        "learn": [
                          181.6264131
                        ]
                      },
                      {
                        "test": [
                          199.308533
                        ],
                        "passed_time": 0.1672590735,
                        "iteration": 87,
                        "remaining_time": 0.4029423133,
                        "learn": [
                          181.4942781
                        ]
                      },
                      {
                        "test": [
                          199.1688217
                        ],
                        "passed_time": 0.1690638008,
                        "iteration": 88,
                        "remaining_time": 0.4008141795,
                        "learn": [
                          181.3704153
                        ]
                      },
                      {
                        "test": [
                          199.0531204
                        ],
                        "passed_time": 0.1709805247,
                        "iteration": 89,
                        "remaining_time": 0.3989545577,
                        "learn": [
                          181.2829745
                        ]
                      },
                      {
                        "test": [
                          198.9437773
                        ],
                        "passed_time": 0.1728999912,
                        "iteration": 90,
                        "remaining_time": 0.3970999799,
                        "learn": [
                          181.1928132
                        ]
                      },
                      {
                        "test": [
                          198.830929
                        ],
                        "passed_time": 0.1748782755,
                        "iteration": 91,
                        "remaining_time": 0.3953769707,
                        "learn": [
                          181.1091603
                        ]
                      },
                      {
                        "test": [
                          198.7663279
                        ],
                        "passed_time": 0.1775640971,
                        "iteration": 92,
                        "remaining_time": 0.3952233128,
                        "learn": [
                          181.0499025
                        ]
                      },
                      {
                        "test": [
                          198.6662588
                        ],
                        "passed_time": 0.1794995441,
                        "iteration": 93,
                        "remaining_time": 0.3933713414,
                        "learn": [
                          180.9694832
                        ]
                      },
                      {
                        "test": [
                          198.5196394
                        ],
                        "passed_time": 0.1861327444,
                        "iteration": 94,
                        "remaining_time": 0.4016548696,
                        "learn": [
                          180.8838411
                        ]
                      },
                      {
                        "test": [
                          198.3950768
                        ],
                        "passed_time": 0.1879316101,
                        "iteration": 95,
                        "remaining_time": 0.3993546715,
                        "learn": [
                          180.7937039
                        ]
                      },
                      {
                        "test": [
                          198.3183703
                        ],
                        "passed_time": 0.1897572206,
                        "iteration": 96,
                        "remaining_time": 0.3971207814,
                        "learn": [
                          180.7156276
                        ]
                      },
                      {
                        "test": [
                          198.2205537
                        ],
                        "passed_time": 0.1916826452,
                        "iteration": 97,
                        "remaining_time": 0.3951009626,
                        "learn": [
                          180.6512202
                        ]
                      },
                      {
                        "test": [
                          198.1617686
                        ],
                        "passed_time": 0.1935948692,
                        "iteration": 98,
                        "remaining_time": 0.3930562496,
                        "learn": [
                          180.5805358
                        ]
                      },
                      {
                        "test": [
                          198.0629121
                        ],
                        "passed_time": 0.1955510231,
                        "iteration": 99,
                        "remaining_time": 0.3911020462,
                        "learn": [
                          180.4904763
                        ]
                      },
                      {
                        "test": [
                          198.0140271
                        ],
                        "passed_time": 0.1975496805,
                        "iteration": 100,
                        "remaining_time": 0.3892315487,
                        "learn": [
                          180.4331003
                        ]
                      },
                      {
                        "test": [
                          197.971691
                        ],
                        "passed_time": 0.1995025017,
                        "iteration": 101,
                        "remaining_time": 0.3872695622,
                        "learn": [
                          180.3882291
                        ]
                      },
                      {
                        "test": [
                          197.8942597
                        ],
                        "passed_time": 0.201644404,
                        "iteration": 102,
                        "remaining_time": 0.3856693941,
                        "learn": [
                          180.3390964
                        ]
                      },
                      {
                        "test": [
                          197.8175621
                        ],
                        "passed_time": 0.2034569385,
                        "iteration": 103,
                        "remaining_time": 0.3834380764,
                        "learn": [
                          180.2629423
                        ]
                      },
                      {
                        "test": [
                          197.7696576
                        ],
                        "passed_time": 0.2053869412,
                        "iteration": 104,
                        "remaining_time": 0.3814328907,
                        "learn": [
                          180.2073442
                        ]
                      },
                      {
                        "test": [
                          197.7305037
                        ],
                        "passed_time": 0.2078918542,
                        "iteration": 105,
                        "remaining_time": 0.380481318,
                        "learn": [
                          180.171205
                        ]
                      },
                      {
                        "test": [
                          197.7037226
                        ],
                        "passed_time": 0.2087594805,
                        "iteration": 106,
                        "remaining_time": 0.3765474741,
                        "learn": [
                          180.1522202
                        ]
                      },
                      {
                        "test": [
                          197.6464545
                        ],
                        "passed_time": 0.2107167734,
                        "iteration": 107,
                        "remaining_time": 0.3746075972,
                        "learn": [
                          180.0979561
                        ]
                      },
                      {
                        "test": [
                          197.5780427
                        ],
                        "passed_time": 0.2133979305,
                        "iteration": 108,
                        "remaining_time": 0.3739358232,
                        "learn": [
                          180.0336377
                        ]
                      },
                      {
                        "test": [
                          197.4828787
                        ],
                        "passed_time": 0.2153692558,
                        "iteration": 109,
                        "remaining_time": 0.3720014419,
                        "learn": [
                          179.9770349
                        ]
                      },
                      {
                        "test": [
                          197.4611525
                        ],
                        "passed_time": 0.2173313696,
                        "iteration": 110,
                        "remaining_time": 0.3700507104,
                        "learn": [
                          179.9524657
                        ]
                      },
                      {
                        "test": [
                          197.4029051
                        ],
                        "passed_time": 0.2191374833,
                        "iteration": 111,
                        "remaining_time": 0.3678379184,
                        "learn": [
                          179.9068455
                        ]
                      },
                      {
                        "test": [
                          197.3470705
                        ],
                        "passed_time": 0.2210472455,
                        "iteration": 112,
                        "remaining_time": 0.3658038487,
                        "learn": [
                          179.8628573
                        ]
                      },
                      {
                        "test": [
                          197.2939738
                        ],
                        "passed_time": 0.2228305888,
                        "iteration": 113,
                        "remaining_time": 0.3635656975,
                        "learn": [
                          179.836322
                        ]
                      },
                      {
                        "test": [
                          197.2731105
                        ],
                        "passed_time": 0.2247992933,
                        "iteration": 114,
                        "remaining_time": 0.3616336458,
                        "learn": [
                          179.7905371
                        ]
                      },
                      {
                        "test": [
                          197.2040072
                        ],
                        "passed_time": 0.2267784985,
                        "iteration": 115,
                        "remaining_time": 0.3597176183,
                        "learn": [
                          179.7320099
                        ]
                      },
                      {
                        "test": [
                          197.1808517
                        ],
                        "passed_time": 0.229204736,
                        "iteration": 116,
                        "remaining_time": 0.3584997153,
                        "learn": [
                          179.7138575
                        ]
                      },
                      {
                        "test": [
                          197.1370598
                        ],
                        "passed_time": 0.2310871498,
                        "iteration": 117,
                        "remaining_time": 0.356422553,
                        "learn": [
                          179.6864782
                        ]
                      },
                      {
                        "test": [
                          197.0810479
                        ],
                        "passed_time": 0.2330603769,
                        "iteration": 118,
                        "remaining_time": 0.3544867917,
                        "learn": [
                          179.6552576
                        ]
                      },
                      {
                        "test": [
                          197.0294095
                        ],
                        "passed_time": 0.2349936813,
                        "iteration": 119,
                        "remaining_time": 0.3524905219,
                        "learn": [
                          179.6211183
                        ]
                      },
                      {
                        "test": [
                          197.008492
                        ],
                        "passed_time": 0.2369140242,
                        "iteration": 120,
                        "remaining_time": 0.3504761184,
                        "learn": [
                          179.5972142
                        ]
                      },
                      {
                        "test": [
                          196.9798824
                        ],
                        "passed_time": 0.2390181482,
                        "iteration": 121,
                        "remaining_time": 0.3487313966,
                        "learn": [
                          179.560086
                        ]
                      },
                      {
                        "test": [
                          196.9350243
                        ],
                        "passed_time": 0.2412644681,
                        "iteration": 122,
                        "remaining_time": 0.3471854541,
                        "learn": [
                          179.5312477
                        ]
                      },
                      {
                        "test": [
                          196.8876642
                        ],
                        "passed_time": 0.2431735522,
                        "iteration": 123,
                        "remaining_time": 0.3451495579,
                        "learn": [
                          179.5095625
                        ]
                      },
                      {
                        "test": [
                          196.8247908
                        ],
                        "passed_time": 0.2451498192,
                        "iteration": 124,
                        "remaining_time": 0.3432097469,
                        "learn": [
                          179.4562374
                        ]
                      },
                      {
                        "test": [
                          196.7726571
                        ],
                        "passed_time": 0.2469555229,
                        "iteration": 125,
                        "remaining_time": 0.3410338174,
                        "learn": [
                          179.4090779
                        ]
                      },
                      {
                        "test": [
                          196.7151609
                        ],
                        "passed_time": 0.2488969817,
                        "iteration": 126,
                        "remaining_time": 0.3390486444,
                        "learn": [
                          179.3811255
                        ]
                      },
                      {
                        "test": [
                          196.7079227
                        ],
                        "passed_time": 0.250829257,
                        "iteration": 127,
                        "remaining_time": 0.3370518141,
                        "learn": [
                          179.3642711
                        ]
                      },
                      {
                        "test": [
                          196.6863316
                        ],
                        "passed_time": 0.2527734812,
                        "iteration": 128,
                        "remaining_time": 0.3350718239,
                        "learn": [
                          179.3335518
                        ]
                      },
                      {
                        "test": [
                          196.6700657
                        ],
                        "passed_time": 0.2546789453,
                        "iteration": 129,
                        "remaining_time": 0.3330416977,
                        "learn": [
                          179.3170115
                        ]
                      },
                      {
                        "test": [
                          196.6277653
                        ],
                        "passed_time": 0.2564931052,
                        "iteration": 130,
                        "remaining_time": 0.3308956853,
                        "learn": [
                          179.285472
                        ]
                      },
                      {
                        "test": [
                          196.5913252
                        ],
                        "passed_time": 0.2584327794,
                        "iteration": 131,
                        "remaining_time": 0.3289144466,
                        "learn": [
                          179.2559593
                        ]
                      },
                      {
                        "test": [
                          196.5359236
                        ],
                        "passed_time": 0.2603528478,
                        "iteration": 132,
                        "remaining_time": 0.3269092149,
                        "learn": [
                          179.2163609
                        ]
                      },
                      {
                        "test": [
                          196.5068278
                        ],
                        "passed_time": 0.2622823604,
                        "iteration": 133,
                        "remaining_time": 0.324916954,
                        "learn": [
                          179.1952536
                        ]
                      },
                      {
                        "test": [
                          196.4827041
                        ],
                        "passed_time": 0.2641804711,
                        "iteration": 134,
                        "remaining_time": 0.3228872425,
                        "learn": [
                          179.1747232
                        ]
                      },
                      {
                        "test": [
                          196.4583111
                        ],
                        "passed_time": 0.2660930969,
                        "iteration": 135,
                        "remaining_time": 0.3208769698,
                        "learn": [
                          179.1611061
                        ]
                      },
                      {
                        "test": [
                          196.4264822
                        ],
                        "passed_time": 0.2680569297,
                        "iteration": 136,
                        "remaining_time": 0.3189290477,
                        "learn": [
                          179.1292709
                        ]
                      },
                      {
                        "test": [
                          196.3988739
                        ],
                        "passed_time": 0.270062417,
                        "iteration": 137,
                        "remaining_time": 0.3170297938,
                        "learn": [
                          179.111303
                        ]
                      },
                      {
                        "test": [
                          196.3497406
                        ],
                        "passed_time": 0.2719880652,
                        "iteration": 138,
                        "remaining_time": 0.3150365359,
                        "learn": [
                          179.0789941
                        ]
                      },
                      {
                        "test": [
                          196.312762
                        ],
                        "passed_time": 0.2739470581,
                        "iteration": 139,
                        "remaining_time": 0.3130823521,
                        "learn": [
                          179.0585902
                        ]
                      },
                      {
                        "test": [
                          196.2872067
                        ],
                        "passed_time": 0.2770790602,
                        "iteration": 140,
                        "remaining_time": 0.3124508551,
                        "learn": [
                          179.0411131
                        ]
                      },
                      {
                        "test": [
                          196.2654607
                        ],
                        "passed_time": 0.2794020111,
                        "iteration": 141,
                        "remaining_time": 0.3108839278,
                        "learn": [
                          178.9971337
                        ]
                      },
                      {
                        "test": [
                          196.2588815
                        ],
                        "passed_time": 0.2813738055,
                        "iteration": 142,
                        "remaining_time": 0.3089208913,
                        "learn": [
                          178.989763
                        ]
                      },
                      {
                        "test": [
                          196.2372275
                        ],
                        "passed_time": 0.283334862,
                        "iteration": 143,
                        "remaining_time": 0.3069461005,
                        "learn": [
                          178.977191
                        ]
                      },
                      {
                        "test": [
                          196.2126404
                        ],
                        "passed_time": 0.2847339487,
                        "iteration": 144,
                        "remaining_time": 0.3043707728,
                        "learn": [
                          178.9691366
                        ]
                      },
                      {
                        "test": [
                          196.210026
                        ],
                        "passed_time": 0.28668328,
                        "iteration": 145,
                        "remaining_time": 0.3023919529,
                        "learn": [
                          178.9210762
                        ]
                      },
                      {
                        "test": [
                          196.1770937
                        ],
                        "passed_time": 0.288617888,
                        "iteration": 146,
                        "remaining_time": 0.30039821,
                        "learn": [
                          178.8749846
                        ]
                      },
                      {
                        "test": [
                          196.1565429
                        ],
                        "passed_time": 0.290582519,
                        "iteration": 147,
                        "remaining_time": 0.2984361006,
                        "learn": [
                          178.8532482
                        ]
                      },
                      {
                        "test": [
                          196.1437275
                        ],
                        "passed_time": 0.2925237732,
                        "iteration": 148,
                        "remaining_time": 0.2964502668,
                        "learn": [
                          178.8390207
                        ]
                      },
                      {
                        "test": [
                          196.0927287
                        ],
                        "passed_time": 0.2948990428,
                        "iteration": 149,
                        "remaining_time": 0.2948990428,
                        "learn": [
                          178.8046118
                        ]
                      },
                      {
                        "test": [
                          196.0869274
                        ],
                        "passed_time": 0.2968168957,
                        "iteration": 150,
                        "remaining_time": 0.2928855461,
                        "learn": [
                          178.7982137
                        ]
                      },
                      {
                        "test": [
                          196.0419364
                        ],
                        "passed_time": 0.2986222195,
                        "iteration": 151,
                        "remaining_time": 0.29076374,
                        "learn": [
                          178.7473043
                        ]
                      },
                      {
                        "test": [
                          196.0336423
                        ],
                        "passed_time": 0.3007921057,
                        "iteration": 152,
                        "remaining_time": 0.2889963368,
                        "learn": [
                          178.7302322
                        ]
                      },
                      {
                        "test": [
                          196.0337789
                        ],
                        "passed_time": 0.3027024951,
                        "iteration": 153,
                        "remaining_time": 0.2869776902,
                        "learn": [
                          178.7138227
                        ]
                      },
                      {
                        "test": [
                          196.0250501
                        ],
                        "passed_time": 0.3046153227,
                        "iteration": 154,
                        "remaining_time": 0.2849627213,
                        "learn": [
                          178.6950587
                        ]
                      },
                      {
                        "test": [
                          196.014279
                        ],
                        "passed_time": 0.3067821663,
                        "iteration": 155,
                        "remaining_time": 0.2831835381,
                        "learn": [
                          178.6725314
                        ]
                      },
                      {
                        "test": [
                          196.0096776
                        ],
                        "passed_time": 0.3087034464,
                        "iteration": 156,
                        "remaining_time": 0.2811757506,
                        "learn": [
                          178.6665223
                        ]
                      },
                      {
                        "test": [
                          195.9847189
                        ],
                        "passed_time": 0.3106955376,
                        "iteration": 157,
                        "remaining_time": 0.2792326984,
                        "learn": [
                          178.6460902
                        ]
                      },
                      {
                        "test": [
                          195.9547958
                        ],
                        "passed_time": 0.3126184559,
                        "iteration": 158,
                        "remaining_time": 0.2772276873,
                        "learn": [
                          178.5851833
                        ]
                      },
                      {
                        "test": [
                          195.9311754
                        ],
                        "passed_time": 0.3148144851,
                        "iteration": 159,
                        "remaining_time": 0.2754626745,
                        "learn": [
                          178.5557528
                        ]
                      },
                      {
                        "test": [
                          195.8977131
                        ],
                        "passed_time": 0.3167717644,
                        "iteration": 160,
                        "remaining_time": 0.2734861817,
                        "learn": [
                          178.5344464
                        ]
                      },
                      {
                        "test": [
                          195.8887179
                        ],
                        "passed_time": 0.3187126559,
                        "iteration": 161,
                        "remaining_time": 0.2714959662,
                        "learn": [
                          178.5179444
                        ]
                      },
                      {
                        "test": [
                          195.8583473
                        ],
                        "passed_time": 0.3206610745,
                        "iteration": 162,
                        "remaining_time": 0.2695126823,
                        "learn": [
                          178.4939989
                        ]
                      },
                      {
                        "test": [
                          195.82416
                        ],
                        "passed_time": 0.3226768034,
                        "iteration": 163,
                        "remaining_time": 0.2675856418,
                        "learn": [
                          178.4701262
                        ]
                      },
                      {
                        "test": [
                          195.8250984
                        ],
                        "passed_time": 0.3246304937,
                        "iteration": 164,
                        "remaining_time": 0.2656067676,
                        "learn": [
                          178.4643749
                        ]
                      },
                      {
                        "test": [
                          195.8027967
                        ],
                        "passed_time": 0.3265924592,
                        "iteration": 165,
                        "remaining_time": 0.2636348767,
                        "learn": [
                          178.4525913
                        ]
                      },
                      {
                        "test": [
                          195.805789
                        ],
                        "passed_time": 0.3284902199,
                        "iteration": 166,
                        "remaining_time": 0.2616119715,
                        "learn": [
                          178.4406103
                        ]
                      },
                      {
                        "test": [
                          195.7851193
                        ],
                        "passed_time": 0.3307292791,
                        "iteration": 167,
                        "remaining_time": 0.2598587193,
                        "learn": [
                          178.4144481
                        ]
                      },
                      {
                        "test": [
                          195.7821049
                        ],
                        "passed_time": 0.3327394753,
                        "iteration": 168,
                        "remaining_time": 0.2579223152,
                        "learn": [
                          178.3898915
                        ]
                      },
                      {
                        "test": [
                          195.7585828
                        ],
                        "passed_time": 0.3347254776,
                        "iteration": 169,
                        "remaining_time": 0.2559665417,
                        "learn": [
                          178.3818363
                        ]
                      },
                      {
                        "test": [
                          195.7348486
                        ],
                        "passed_time": 0.3370243163,
                        "iteration": 170,
                        "remaining_time": 0.254246414,
                        "learn": [
                          178.3700352
                        ]
                      },
                      {
                        "test": [
                          195.7329495
                        ],
                        "passed_time": 0.3390167357,
                        "iteration": 171,
                        "remaining_time": 0.2522915242,
                        "learn": [
                          178.3642592
                        ]
                      },
                      {
                        "test": [
                          195.7317161
                        ],
                        "passed_time": 0.3408975186,
                        "iteration": 172,
                        "remaining_time": 0.2502542477,
                        "learn": [
                          178.3611337
                        ]
                      },
                      {
                        "test": [
                          195.7194016
                        ],
                        "passed_time": 0.3428168187,
                        "iteration": 173,
                        "remaining_time": 0.2482466618,
                        "learn": [
                          178.3530976
                        ]
                      },
                      {
                        "test": [
                          195.7035481
                        ],
                        "passed_time": 0.3447246537,
                        "iteration": 174,
                        "remaining_time": 0.2462318955,
                        "learn": [
                          178.3233512
                        ]
                      },
                      {
                        "test": [
                          195.6991472
                        ],
                        "passed_time": 0.3466788431,
                        "iteration": 175,
                        "remaining_time": 0.2442510031,
                        "learn": [
                          178.3123805
                        ]
                      },
                      {
                        "test": [
                          195.6864477
                        ],
                        "passed_time": 0.349008591,
                        "iteration": 176,
                        "remaining_time": 0.2425313938,
                        "learn": [
                          178.2907505
                        ]
                      },
                      {
                        "test": [
                          195.6810594
                        ],
                        "passed_time": 0.350896411,
                        "iteration": 177,
                        "remaining_time": 0.2405020345,
                        "learn": [
                          178.2758652
                        ]
                      },
                      {
                        "test": [
                          195.6698806
                        ],
                        "passed_time": 0.3527989343,
                        "iteration": 178,
                        "remaining_time": 0.2384841958,
                        "learn": [
                          178.2677283
                        ]
                      },
                      {
                        "test": [
                          195.6523751
                        ],
                        "passed_time": 0.3547616335,
                        "iteration": 179,
                        "remaining_time": 0.2365077557,
                        "learn": [
                          178.2577153
                        ]
                      },
                      {
                        "test": [
                          195.6285323
                        ],
                        "passed_time": 0.3570101343,
                        "iteration": 180,
                        "remaining_time": 0.23471937,
                        "learn": [
                          178.2450881
                        ]
                      },
                      {
                        "test": [
                          195.62933
                        ],
                        "passed_time": 0.3589218555,
                        "iteration": 181,
                        "remaining_time": 0.2327075767,
                        "learn": [
                          178.2414337
                        ]
                      },
                      {
                        "test": [
                          195.6190008
                        ],
                        "passed_time": 0.3609027825,
                        "iteration": 182,
                        "remaining_time": 0.2307411232,
                        "learn": [
                          178.22692
                        ]
                      },
                      {
                        "test": [
                          195.6017891
                        ],
                        "passed_time": 0.3628966564,
                        "iteration": 183,
                        "remaining_time": 0.2287826747,
                        "learn": [
                          178.2153215
                        ]
                      },
                      {
                        "test": [
                          195.5870762
                        ],
                        "passed_time": 0.364897771,
                        "iteration": 184,
                        "remaining_time": 0.2268283441,
                        "learn": [
                          178.2096573
                        ]
                      },
                      {
                        "test": [
                          195.5643921
                        ],
                        "passed_time": 0.3666815934,
                        "iteration": 185,
                        "remaining_time": 0.2247403314,
                        "learn": [
                          178.200916
                        ]
                      },
                      {
                        "test": [
                          195.5427877
                        ],
                        "passed_time": 0.3686259921,
                        "iteration": 186,
                        "remaining_time": 0.2227526048,
                        "learn": [
                          178.1835442
                        ]
                      },
                      {
                        "test": [
                          195.5068184
                        ],
                        "passed_time": 0.3706114035,
                        "iteration": 187,
                        "remaining_time": 0.2207897723,
                        "learn": [
                          178.1614487
                        ]
                      },
                      {
                        "test": [
                          195.4983429
                        ],
                        "passed_time": 0.3725970585,
                        "iteration": 188,
                        "remaining_time": 0.2188268439,
                        "learn": [
                          178.1510375
                        ]
                      },
                      {
                        "test": [
                          195.4718388
                        ],
                        "passed_time": 0.3745053453,
                        "iteration": 189,
                        "remaining_time": 0.2168188841,
                        "learn": [
                          178.1312401
                        ]
                      },
                      {
                        "test": [
                          195.4440284
                        ],
                        "passed_time": 0.3764797251,
                        "iteration": 190,
                        "remaining_time": 0.214849686,
                        "learn": [
                          178.1092506
                        ]
                      },
                      {
                        "test": [
                          195.4396887
                        ],
                        "passed_time": 0.3789268067,
                        "iteration": 191,
                        "remaining_time": 0.2131463288,
                        "learn": [
                          178.101819
                        ]
                      },
                      {
                        "test": [
                          195.4397109
                        ],
                        "passed_time": 0.3811741484,
                        "iteration": 192,
                        "remaining_time": 0.2113245279,
                        "learn": [
                          178.0973697
                        ]
                      },
                      {
                        "test": [
                          195.4297967
                        ],
                        "passed_time": 0.3831852946,
                        "iteration": 193,
                        "remaining_time": 0.2093692847,
                        "learn": [
                          178.0759557
                        ]
                      },
                      {
                        "test": [
                          195.409589
                        ],
                        "passed_time": 0.3851287179,
                        "iteration": 194,
                        "remaining_time": 0.2073770019,
                        "learn": [
                          178.0692509
                        ]
                      },
                      {
                        "test": [
                          195.3990974
                        ],
                        "passed_time": 0.38708287,
                        "iteration": 195,
                        "remaining_time": 0.2053909106,
                        "learn": [
                          178.0645015
                        ]
                      },
                      {
                        "test": [
                          195.3831012
                        ],
                        "passed_time": 0.3890273141,
                        "iteration": 196,
                        "remaining_time": 0.2034000678,
                        "learn": [
                          178.0478528
                        ]
                      },
                      {
                        "test": [
                          195.4002628
                        ],
                        "passed_time": 0.3909264129,
                        "iteration": 197,
                        "remaining_time": 0.2013863339,
                        "learn": [
                          178.0299223
                        ]
                      },
                      {
                        "test": [
                          195.3950515
                        ],
                        "passed_time": 0.3939141357,
                        "iteration": 198,
                        "remaining_time": 0.1999262699,
                        "learn": [
                          178.0076428
                        ]
                      },
                      {
                        "test": [
                          195.3618235
                        ],
                        "passed_time": 0.3958969453,
                        "iteration": 199,
                        "remaining_time": 0.1979484727,
                        "learn": [
                          177.9904561
                        ]
                      },
                      {
                        "test": [
                          195.3189587
                        ],
                        "passed_time": 0.3978468902,
                        "iteration": 200,
                        "remaining_time": 0.1959544385,
                        "learn": [
                          177.9715115
                        ]
                      },
                      {
                        "test": [
                          195.3021157
                        ],
                        "passed_time": 0.399812363,
                        "iteration": 201,
                        "remaining_time": 0.1939683741,
                        "learn": [
                          177.9520869
                        ]
                      },
                      {
                        "test": [
                          195.3008711
                        ],
                        "passed_time": 0.4016805952,
                        "iteration": 202,
                        "remaining_time": 0.191936048,
                        "learn": [
                          177.9439839
                        ]
                      },
                      {
                        "test": [
                          195.3033883
                        ],
                        "passed_time": 0.4035705416,
                        "iteration": 203,
                        "remaining_time": 0.189915549,
                        "learn": [
                          177.9310176
                        ]
                      },
                      {
                        "test": [
                          195.297431
                        ],
                        "passed_time": 0.4055532175,
                        "iteration": 204,
                        "remaining_time": 0.1879392959,
                        "learn": [
                          177.9259739
                        ]
                      },
                      {
                        "test": [
                          195.2914663
                        ],
                        "passed_time": 0.4075011334,
                        "iteration": 205,
                        "remaining_time": 0.1859471191,
                        "learn": [
                          177.9129923
                        ]
                      },
                      {
                        "test": [
                          195.2663407
                        ],
                        "passed_time": 0.4094346014,
                        "iteration": 206,
                        "remaining_time": 0.1839488789,
                        "learn": [
                          177.8946455
                        ]
                      },
                      {
                        "test": [
                          195.267614
                        ],
                        "passed_time": 0.4114068313,
                        "iteration": 207,
                        "remaining_time": 0.1819684062,
                        "learn": [
                          177.885951
                        ]
                      },
                      {
                        "test": [
                          195.2523386
                        ],
                        "passed_time": 0.4133429593,
                        "iteration": 208,
                        "remaining_time": 0.1799722933,
                        "learn": [
                          177.870048
                        ]
                      },
                      {
                        "test": [
                          195.2323615
                        ],
                        "passed_time": 0.4153425476,
                        "iteration": 209,
                        "remaining_time": 0.178003949,
                        "learn": [
                          177.8569683
                        ]
                      },
                      {
                        "test": [
                          195.2298396
                        ],
                        "passed_time": 0.4182126349,
                        "iteration": 210,
                        "remaining_time": 0.1764024858,
                        "learn": [
                          177.8451073
                        ]
                      },
                      {
                        "test": [
                          195.20796
                        ],
                        "passed_time": 0.4209617695,
                        "iteration": 211,
                        "remaining_time": 0.1747388477,
                        "learn": [
                          177.8182109
                        ]
                      },
                      {
                        "test": [
                          195.2047814
                        ],
                        "passed_time": 0.4240309813,
                        "iteration": 212,
                        "remaining_time": 0.1731957529,
                        "learn": [
                          177.8026132
                        ]
                      },
                      {
                        "test": [
                          195.2028983
                        ],
                        "passed_time": 0.4270835607,
                        "iteration": 213,
                        "remaining_time": 0.1716317113,
                        "learn": [
                          177.7939066
                        ]
                      },
                      {
                        "test": [
                          195.1686527
                        ],
                        "passed_time": 0.4291710388,
                        "iteration": 214,
                        "remaining_time": 0.1696722712,
                        "learn": [
                          177.7744586
                        ]
                      },
                      {
                        "test": [
                          195.1643134
                        ],
                        "passed_time": 0.4312286785,
                        "iteration": 215,
                        "remaining_time": 0.1677000417,
                        "learn": [
                          177.7669751
                        ]
                      },
                      {
                        "test": [
                          195.1681192
                        ],
                        "passed_time": 0.4331849588,
                        "iteration": 216,
                        "remaining_time": 0.1656882561,
                        "learn": [
                          177.7569852
                        ]
                      },
                      {
                        "test": [
                          195.1580523
                        ],
                        "passed_time": 0.4351682502,
                        "iteration": 217,
                        "remaining_time": 0.16368714,
                        "learn": [
                          177.7394175
                        ]
                      },
                      {
                        "test": [
                          195.1413634
                        ],
                        "passed_time": 0.4371692758,
                        "iteration": 218,
                        "remaining_time": 0.1616927458,
                        "learn": [
                          177.72729
                        ]
                      },
                      {
                        "test": [
                          195.1352884
                        ],
                        "passed_time": 0.4391673187,
                        "iteration": 219,
                        "remaining_time": 0.1596972068,
                        "learn": [
                          177.7174069
                        ]
                      },
                      {
                        "test": [
                          195.1153193
                        ],
                        "passed_time": 0.4410021444,
                        "iteration": 220,
                        "remaining_time": 0.1576433005,
                        "learn": [
                          177.7035802
                        ]
                      },
                      {
                        "test": [
                          195.1173329
                        ],
                        "passed_time": 0.4429710353,
                        "iteration": 221,
                        "remaining_time": 0.1556384719,
                        "learn": [
                          177.6908998
                        ]
                      },
                      {
                        "test": [
                          195.115143
                        ],
                        "passed_time": 0.4450591152,
                        "iteration": 222,
                        "remaining_time": 0.1536751205,
                        "learn": [
                          177.6875075
                        ]
                      },
                      {
                        "test": [
                          195.1030117
                        ],
                        "passed_time": 0.4470355731,
                        "iteration": 223,
                        "remaining_time": 0.1516727837,
                        "learn": [
                          177.6777831
                        ]
                      },
                      {
                        "test": [
                          195.0944172
                        ],
                        "passed_time": 0.4490180219,
                        "iteration": 224,
                        "remaining_time": 0.149672674,
                        "learn": [
                          177.6672803
                        ]
                      },
                      {
                        "test": [
                          195.086054
                        ],
                        "passed_time": 0.4509730412,
                        "iteration": 225,
                        "remaining_time": 0.1476637392,
                        "learn": [
                          177.6565754
                        ]
                      },
                      {
                        "test": [
                          195.0757756
                        ],
                        "passed_time": 0.4529022648,
                        "iteration": 226,
                        "remaining_time": 0.1456469838,
                        "learn": [
                          177.6388852
                        ]
                      },
                      {
                        "test": [
                          195.0732269
                        ],
                        "passed_time": 0.4548183305,
                        "iteration": 227,
                        "remaining_time": 0.1436268412,
                        "learn": [
                          177.6162437
                        ]
                      },
                      {
                        "test": [
                          195.0692736
                        ],
                        "passed_time": 0.4568297104,
                        "iteration": 228,
                        "remaining_time": 0.1416371591,
                        "learn": [
                          177.6113002
                        ]
                      },
                      {
                        "test": [
                          195.054427
                        ],
                        "passed_time": 0.4590808465,
                        "iteration": 229,
                        "remaining_time": 0.1397202576,
                        "learn": [
                          177.590606
                        ]
                      },
                      {
                        "test": [
                          195.0522022
                        ],
                        "passed_time": 0.4608294906,
                        "iteration": 230,
                        "remaining_time": 0.1376503673,
                        "learn": [
                          177.5860686
                        ]
                      },
                      {
                        "test": [
                          195.052298
                        ],
                        "passed_time": 0.4626845996,
                        "iteration": 231,
                        "remaining_time": 0.1356144516,
                        "learn": [
                          177.5830896
                        ]
                      },
                      {
                        "test": [
                          195.0456704
                        ],
                        "passed_time": 0.4662284031,
                        "iteration": 232,
                        "remaining_time": 0.1340656781,
                        "learn": [
                          177.5691731
                        ]
                      },
                      {
                        "test": [
                          195.0346215
                        ],
                        "passed_time": 0.469410315,
                        "iteration": 233,
                        "remaining_time": 0.1323977812,
                        "learn": [
                          177.5569676
                        ]
                      },
                      {
                        "test": [
                          195.0280785
                        ],
                        "passed_time": 0.4729566585,
                        "iteration": 234,
                        "remaining_time": 0.1308177991,
                        "learn": [
                          177.5515739
                        ]
                      },
                      {
                        "test": [
                          195.044252
                        ],
                        "passed_time": 0.4765799747,
                        "iteration": 235,
                        "remaining_time": 0.129242027,
                        "learn": [
                          177.5439066
                        ]
                      },
                      {
                        "test": [
                          195.0405722
                        ],
                        "passed_time": 0.4807293815,
                        "iteration": 236,
                        "remaining_time": 0.1277888229,
                        "learn": [
                          177.5336645
                        ]
                      },
                      {
                        "test": [
                          195.0405326
                        ],
                        "passed_time": 0.4836063577,
                        "iteration": 237,
                        "remaining_time": 0.1259814881,
                        "learn": [
                          177.5330142
                        ]
                      },
                      {
                        "test": [
                          195.0328967
                        ],
                        "passed_time": 0.4858247719,
                        "iteration": 238,
                        "remaining_time": 0.1239971175,
                        "learn": [
                          177.5225238
                        ]
                      },
                      {
                        "test": [
                          195.0328798
                        ],
                        "passed_time": 0.4878498651,
                        "iteration": 239,
                        "remaining_time": 0.1219624663,
                        "learn": [
                          177.5124672
                        ]
                      },
                      {
                        "test": [
                          195.0328423
                        ],
                        "passed_time": 0.4897826395,
                        "iteration": 240,
                        "remaining_time": 0.1199052935,
                        "learn": [
                          177.5073421
                        ]
                      },
                      {
                        "test": [
                          194.9848041
                        ],
                        "passed_time": 0.4917617374,
                        "iteration": 241,
                        "remaining_time": 0.1178602511,
                        "learn": [
                          177.4822031
                        ]
                      },
                      {
                        "test": [
                          194.9613474
                        ],
                        "passed_time": 0.4942372192,
                        "iteration": 242,
                        "remaining_time": 0.1159321872,
                        "learn": [
                          177.4336116
                        ]
                      },
                      {
                        "test": [
                          194.9618161
                        ],
                        "passed_time": 0.4961742754,
                        "iteration": 243,
                        "remaining_time": 0.1138760632,
                        "learn": [
                          177.4300601
                        ]
                      },
                      {
                        "test": [
                          194.9605813
                        ],
                        "passed_time": 0.4981719546,
                        "iteration": 244,
                        "remaining_time": 0.1118345204,
                        "learn": [
                          177.4258774
                        ]
                      },
                      {
                        "test": [
                          194.9568424
                        ],
                        "passed_time": 0.5001010501,
                        "iteration": 245,
                        "remaining_time": 0.1097782793,
                        "learn": [
                          177.4095186
                        ]
                      },
                      {
                        "test": [
                          194.9521874
                        ],
                        "passed_time": 0.5055736863,
                        "iteration": 246,
                        "remaining_time": 0.1084834226,
                        "learn": [
                          177.3938599
                        ]
                      },
                      {
                        "test": [
                          194.9364001
                        ],
                        "passed_time": 0.508892395,
                        "iteration": 247,
                        "remaining_time": 0.1067032441,
                        "learn": [
                          177.3783896
                        ]
                      },
                      {
                        "test": [
                          194.936325
                        ],
                        "passed_time": 0.5111924682,
                        "iteration": 248,
                        "remaining_time": 0.1047020718,
                        "learn": [
                          177.3740295
                        ]
                      },
                      {
                        "test": [
                          194.9362044
                        ],
                        "passed_time": 0.5134640066,
                        "iteration": 249,
                        "remaining_time": 0.1026928013,
                        "learn": [
                          177.3731379
                        ]
                      },
                      {
                        "test": [
                          194.932
                        ],
                        "passed_time": 0.5156881761,
                        "iteration": 250,
                        "remaining_time": 0.1006721937,
                        "learn": [
                          177.3667861
                        ]
                      },
                      {
                        "test": [
                          194.9404382
                        ],
                        "passed_time": 0.5176698766,
                        "iteration": 251,
                        "remaining_time": 0.09860378603,
                        "learn": [
                          177.3154794
                        ]
                      },
                      {
                        "test": [
                          194.9398438
                        ],
                        "passed_time": 0.5196036756,
                        "iteration": 252,
                        "remaining_time": 0.09652716503,
                        "learn": [
                          177.3128206
                        ]
                      },
                      {
                        "test": [
                          194.9398295
                        ],
                        "passed_time": 0.5215132805,
                        "iteration": 253,
                        "remaining_time": 0.09444728702,
                        "learn": [
                          177.3079654
                        ]
                      },
                      {
                        "test": [
                          194.9388584
                        ],
                        "passed_time": 0.5234201692,
                        "iteration": 254,
                        "remaining_time": 0.09236826515,
                        "learn": [
                          177.3071024
                        ]
                      },
                      {
                        "test": [
                          194.9350805
                        ],
                        "passed_time": 0.5253656006,
                        "iteration": 255,
                        "remaining_time": 0.0902972126,
                        "learn": [
                          177.2996057
                        ]
                      },
                      {
                        "test": [
                          194.9375926
                        ],
                        "passed_time": 0.5278211092,
                        "iteration": 256,
                        "remaining_time": 0.08831248131,
                        "learn": [
                          177.296327
                        ]
                      },
                      {
                        "test": [
                          194.9353536
                        ],
                        "passed_time": 0.529805597,
                        "iteration": 257,
                        "remaining_time": 0.08624742277,
                        "learn": [
                          177.2896933
                        ]
                      },
                      {
                        "test": [
                          194.9295481
                        ],
                        "passed_time": 0.5317355597,
                        "iteration": 258,
                        "remaining_time": 0.08417435501,
                        "learn": [
                          177.2745831
                        ]
                      },
                      {
                        "test": [
                          194.9309956
                        ],
                        "passed_time": 0.5336708267,
                        "iteration": 259,
                        "remaining_time": 0.08210320412,
                        "learn": [
                          177.2670161
                        ]
                      },
                      {
                        "test": [
                          194.930254
                        ],
                        "passed_time": 0.5356779494,
                        "iteration": 260,
                        "remaining_time": 0.08004383153,
                        "learn": [
                          177.2649013
                        ]
                      },
                      {
                        "test": [
                          194.9274046
                        ],
                        "passed_time": 0.53762102,
                        "iteration": 261,
                        "remaining_time": 0.07797556778,
                        "learn": [
                          177.2545415
                        ]
                      },
                      {
                        "test": [
                          194.9301613
                        ],
                        "passed_time": 0.539648024,
                        "iteration": 262,
                        "remaining_time": 0.07592006422,
                        "learn": [
                          177.2471322
                        ]
                      },
                      {
                        "test": [
                          194.9289404
                        ],
                        "passed_time": 0.5416191939,
                        "iteration": 263,
                        "remaining_time": 0.07385716281,
                        "learn": [
                          177.2373178
                        ]
                      },
                      {
                        "test": [
                          194.9307836
                        ],
                        "passed_time": 0.5435706352,
                        "iteration": 264,
                        "remaining_time": 0.07179234804,
                        "learn": [
                          177.1971611
                        ]
                      },
                      {
                        "test": [
                          194.916023
                        ],
                        "passed_time": 0.5454623942,
                        "iteration": 265,
                        "remaining_time": 0.06972075715,
                        "learn": [
                          177.1889994
                        ]
                      },
                      {
                        "test": [
                          194.919555
                        ],
                        "passed_time": 0.547419228,
                        "iteration": 266,
                        "remaining_time": 0.06765855627,
                        "learn": [
                          177.1863379
                        ]
                      },
                      {
                        "test": [
                          194.9188485
                        ],
                        "passed_time": 0.5493728329,
                        "iteration": 267,
                        "remaining_time": 0.06559675616,
                        "learn": [
                          177.1843143
                        ]
                      },
                      {
                        "test": [
                          194.9172185
                        ],
                        "passed_time": 0.5513995069,
                        "iteration": 268,
                        "remaining_time": 0.06354418109,
                        "learn": [
                          177.1683767
                        ]
                      },
                      {
                        "test": [
                          194.9135648
                        ],
                        "passed_time": 0.5533622361,
                        "iteration": 269,
                        "remaining_time": 0.0614846929,
                        "learn": [
                          177.1657596
                        ]
                      },
                      {
                        "test": [
                          194.9233657
                        ],
                        "passed_time": 0.5553271825,
                        "iteration": 270,
                        "remaining_time": 0.05942615606,
                        "learn": [
                          177.1618897
                        ]
                      },
                      {
                        "test": [
                          194.9213827
                        ],
                        "passed_time": 0.5570822701,
                        "iteration": 271,
                        "remaining_time": 0.05734670427,
                        "learn": [
                          177.160589
                        ]
                      },
                      {
                        "test": [
                          194.8970701
                        ],
                        "passed_time": 0.5589717882,
                        "iteration": 272,
                        "remaining_time": 0.05528292411,
                        "learn": [
                          177.1510244
                        ]
                      },
                      {
                        "test": [
                          194.8931616
                        ],
                        "passed_time": 0.5609371137,
                        "iteration": 273,
                        "remaining_time": 0.05322760933,
                        "learn": [
                          177.1462211
                        ]
                      },
                      {
                        "test": [
                          194.8967296
                        ],
                        "passed_time": 0.5631644659,
                        "iteration": 274,
                        "remaining_time": 0.05119676962,
                        "learn": [
                          177.1404554
                        ]
                      },
                      {
                        "test": [
                          194.8960098
                        ],
                        "passed_time": 0.5661846969,
                        "iteration": 275,
                        "remaining_time": 0.04923345191,
                        "learn": [
                          177.1086457
                        ]
                      },
                      {
                        "test": [
                          194.8922852
                        ],
                        "passed_time": 0.5681362464,
                        "iteration": 276,
                        "remaining_time": 0.04717376775,
                        "learn": [
                          177.1034755
                        ]
                      },
                      {
                        "test": [
                          194.8933095
                        ],
                        "passed_time": 0.5712242214,
                        "iteration": 277,
                        "remaining_time": 0.0452047945,
                        "learn": [
                          177.1000592
                        ]
                      },
                      {
                        "test": [
                          194.8927309
                        ],
                        "passed_time": 0.5741039766,
                        "iteration": 278,
                        "remaining_time": 0.04321212727,
                        "learn": [
                          177.0953387
                        ]
                      },
                      {
                        "test": [
                          194.8872765
                        ],
                        "passed_time": 0.5771730093,
                        "iteration": 279,
                        "remaining_time": 0.04122664352,
                        "learn": [
                          177.091493
                        ]
                      },
                      {
                        "test": [
                          194.8868527
                        ],
                        "passed_time": 0.5792383879,
                        "iteration": 280,
                        "remaining_time": 0.03916558495,
                        "learn": [
                          177.088552
                        ]
                      },
                      {
                        "test": [
                          194.8847965
                        ],
                        "passed_time": 0.5812528959,
                        "iteration": 281,
                        "remaining_time": 0.03710124867,
                        "learn": [
                          177.0743076
                        ]
                      },
                      {
                        "test": [
                          194.8866028
                        ],
                        "passed_time": 0.5832073343,
                        "iteration": 282,
                        "remaining_time": 0.03503365613,
                        "learn": [
                          177.0717566
                        ]
                      },
                      {
                        "test": [
                          194.8727391
                        ],
                        "passed_time": 0.5852111635,
                        "iteration": 283,
                        "remaining_time": 0.03296964301,
                        "learn": [
                          177.0603997
                        ]
                      },
                      {
                        "test": [
                          194.8511897
                        ],
                        "passed_time": 0.5871908759,
                        "iteration": 284,
                        "remaining_time": 0.03090478294,
                        "learn": [
                          177.0147613
                        ]
                      },
                      {
                        "test": [
                          194.8366366
                        ],
                        "passed_time": 0.5891762536,
                        "iteration": 285,
                        "remaining_time": 0.02884079563,
                        "learn": [
                          177.0006613
                        ]
                      },
                      {
                        "test": [
                          194.836276
                        ],
                        "passed_time": 0.5911028527,
                        "iteration": 286,
                        "remaining_time": 0.02677469368,
                        "learn": [
                          176.9998407
                        ]
                      },
                      {
                        "test": [
                          194.827234
                        ],
                        "passed_time": 0.593098013,
                        "iteration": 287,
                        "remaining_time": 0.02471241721,
                        "learn": [
                          176.9934144
                        ]
                      },
                      {
                        "test": [
                          194.8204535
                        ],
                        "passed_time": 0.5950423471,
                        "iteration": 288,
                        "remaining_time": 0.02264867065,
                        "learn": [
                          176.9769363
                        ]
                      },
                      {
                        "test": [
                          194.7892459
                        ],
                        "passed_time": 0.5970345656,
                        "iteration": 289,
                        "remaining_time": 0.02058739881,
                        "learn": [
                          176.9587825
                        ]
                      },
                      {
                        "test": [
                          194.7885576
                        ],
                        "passed_time": 0.5989972902,
                        "iteration": 290,
                        "remaining_time": 0.01852568939,
                        "learn": [
                          176.9568769
                        ]
                      },
                      {
                        "test": [
                          194.785743
                        ],
                        "passed_time": 0.6009640502,
                        "iteration": 291,
                        "remaining_time": 0.0164647685,
                        "learn": [
                          176.9475572
                        ]
                      },
                      {
                        "test": [
                          194.7847161
                        ],
                        "passed_time": 0.6028820841,
                        "iteration": 292,
                        "remaining_time": 0.01440332624,
                        "learn": [
                          176.945351
                        ]
                      },
                      {
                        "test": [
                          194.7840905
                        ],
                        "passed_time": 0.6049015719,
                        "iteration": 293,
                        "remaining_time": 0.01234493004,
                        "learn": [
                          176.9435269
                        ]
                      },
                      {
                        "test": [
                          194.7858829
                        ],
                        "passed_time": 0.6068024771,
                        "iteration": 294,
                        "remaining_time": 0.01028478775,
                        "learn": [
                          176.9424273
                        ]
                      },
                      {
                        "test": [
                          194.779167
                        ],
                        "passed_time": 0.608758131,
                        "iteration": 295,
                        "remaining_time": 0.008226461229,
                        "learn": [
                          176.927466
                        ]
                      },
                      {
                        "test": [
                          194.8011315
                        ],
                        "passed_time": 0.6106446646,
                        "iteration": 296,
                        "remaining_time": 0.006168127925,
                        "learn": [
                          176.9138283
                        ]
                      },
                      {
                        "test": [
                          194.793483
                        ],
                        "passed_time": 0.6125635484,
                        "iteration": 297,
                        "remaining_time": 0.004111164755,
                        "learn": [
                          176.9090036
                        ]
                      },
                      {
                        "test": [
                          194.7865278
                        ],
                        "passed_time": 0.6144589455,
                        "iteration": 298,
                        "remaining_time": 0.002055046641,
                        "learn": [
                          176.9037387
                        ]
                      },
                      {
                        "test": [
                          194.7862034
                        ],
                        "passed_time": 0.6163499155,
                        "iteration": 299,
                        "remaining_time": 0,
                        "learn": [
                          176.9027807
                        ]
                      }
                    ]
                  },
                  "total_iterations": 300,
                  "passed_iterations": 299
                },
                "path": "catboost_info/fold-0",
                "name": "fold-0"
              },
              "catboost_info/fold-3": {
                "content": {
                  "data": {
                    "meta": {
                      "name": "experiment",
                      "parameters": "",
                      "test_metrics": [
                        {
                          "best_value": "Min",
                          "name": "RMSE"
                        }
                      ],
                      "learn_sets": [
                        "learn"
                      ],
                      "launch_mode": "Train",
                      "learn_metrics": [
                        {
                          "best_value": "Min",
                          "name": "RMSE"
                        }
                      ],
                      "iteration_count": 300,
                      "test_sets": [
                        "test"
                      ]
                    },
                    "iterations": [
                      {
                        "test": [
                          307.3944217
                        ],
                        "passed_time": 0.001440923963,
                        "iteration": 0,
                        "remaining_time": 0.4308362649,
                        "learn": [
                          331.3744315
                        ]
                      },
                      {
                        "test": [
                          300.6275397
                        ],
                        "passed_time": 0.005146004676,
                        "iteration": 1,
                        "remaining_time": 0.7667546967,
                        "learn": [
                          324.8534218
                        ]
                      },
                      {
                        "test": [
                          294.0370186
                        ],
                        "passed_time": 0.008098750054,
                        "iteration": 2,
                        "remaining_time": 0.8017762553,
                        "learn": [
                          318.5833143
                        ]
                      },
                      {
                        "test": [
                          287.7786134
                        ],
                        "passed_time": 0.01028508678,
                        "iteration": 3,
                        "remaining_time": 0.7610964221,
                        "learn": [
                          312.5846824
                        ]
                      },
                      {
                        "test": [
                          281.6738692
                        ],
                        "passed_time": 0.01316035577,
                        "iteration": 4,
                        "remaining_time": 0.7764609905,
                        "learn": [
                          306.8154744
                        ]
                      },
                      {
                        "test": [
                          276.2554139
                        ],
                        "passed_time": 0.01512459764,
                        "iteration": 5,
                        "remaining_time": 0.7411052842,
                        "learn": [
                          301.4919904
                        ]
                      },
                      {
                        "test": [
                          270.6587588
                        ],
                        "passed_time": 0.01740800031,
                        "iteration": 6,
                        "remaining_time": 0.7286491557,
                        "learn": [
                          296.199893
                        ]
                      },
                      {
                        "test": [
                          265.5100889
                        ],
                        "passed_time": 0.01934921725,
                        "iteration": 7,
                        "remaining_time": 0.7062464296,
                        "learn": [
                          291.2481549
                        ]
                      },
                      {
                        "test": [
                          260.2948648
                        ],
                        "passed_time": 0.02148956777,
                        "iteration": 8,
                        "remaining_time": 0.6948293579,
                        "learn": [
                          286.3721273
                        ]
                      },
                      {
                        "test": [
                          255.3153291
                        ],
                        "passed_time": 0.02287076311,
                        "iteration": 9,
                        "remaining_time": 0.6632521303,
                        "learn": [
                          281.7098281
                        ]
                      },
                      {
                        "test": [
                          250.6671693
                        ],
                        "passed_time": 0.02483536224,
                        "iteration": 10,
                        "remaining_time": 0.6524926989,
                        "learn": [
                          277.273861
                        ]
                      },
                      {
                        "test": [
                          246.2840235
                        ],
                        "passed_time": 0.02749590347,
                        "iteration": 11,
                        "remaining_time": 0.6599016832,
                        "learn": [
                          273.1008372
                        ]
                      },
                      {
                        "test": [
                          241.9352711
                        ],
                        "passed_time": 0.02936128398,
                        "iteration": 12,
                        "remaining_time": 0.6482068079,
                        "learn": [
                          269.0107044
                        ]
                      },
                      {
                        "test": [
                          237.8830298
                        ],
                        "passed_time": 0.03134985801,
                        "iteration": 13,
                        "remaining_time": 0.6404328137,
                        "learn": [
                          265.145479
                        ]
                      },
                      {
                        "test": [
                          233.874276
                        ],
                        "passed_time": 0.03284147626,
                        "iteration": 14,
                        "remaining_time": 0.6239880489,
                        "learn": [
                          261.4204792
                        ]
                      },
                      {
                        "test": [
                          230.0577866
                        ],
                        "passed_time": 0.03465038171,
                        "iteration": 15,
                        "remaining_time": 0.6150442754,
                        "learn": [
                          257.8693616
                        ]
                      },
                      {
                        "test": [
                          226.4578019
                        ],
                        "passed_time": 0.03692395188,
                        "iteration": 16,
                        "remaining_time": 0.614675199,
                        "learn": [
                          254.4842914
                        ]
                      },
                      {
                        "test": [
                          222.9558413
                        ],
                        "passed_time": 0.03909714619,
                        "iteration": 17,
                        "remaining_time": 0.612521957,
                        "learn": [
                          251.2560831
                        ]
                      },
                      {
                        "test": [
                          219.662582
                        ],
                        "passed_time": 0.04123044051,
                        "iteration": 18,
                        "remaining_time": 0.6097765149,
                        "learn": [
                          248.1911609
                        ]
                      },
                      {
                        "test": [
                          216.4672005
                        ],
                        "passed_time": 0.04257861116,
                        "iteration": 19,
                        "remaining_time": 0.5961005563,
                        "learn": [
                          245.2542052
                        ]
                      },
                      {
                        "test": [
                          213.5558848
                        ],
                        "passed_time": 0.04463579633,
                        "iteration": 20,
                        "remaining_time": 0.593018437,
                        "learn": [
                          242.5641046
                        ]
                      },
                      {
                        "test": [
                          210.8033225
                        ],
                        "passed_time": 0.04656922164,
                        "iteration": 21,
                        "remaining_time": 0.5884656189,
                        "learn": [
                          240.0068774
                        ]
                      },
                      {
                        "test": [
                          207.9951334
                        ],
                        "passed_time": 0.04887971277,
                        "iteration": 22,
                        "remaining_time": 0.5886817582,
                        "learn": [
                          237.4229609
                        ]
                      },
                      {
                        "test": [
                          205.378487
                        ],
                        "passed_time": 0.05097733337,
                        "iteration": 23,
                        "remaining_time": 0.5862393338,
                        "learn": [
                          235.0022608
                        ]
                      },
                      {
                        "test": [
                          202.8572872
                        ],
                        "passed_time": 0.05290754512,
                        "iteration": 24,
                        "remaining_time": 0.5819829963,
                        "learn": [
                          232.7088133
                        ]
                      },
                      {
                        "test": [
                          200.4986124
                        ],
                        "passed_time": 0.05472121955,
                        "iteration": 25,
                        "remaining_time": 0.5766774676,
                        "learn": [
                          230.5174088
                        ]
                      },
                      {
                        "test": [
                          198.2628528
                        ],
                        "passed_time": 0.05673485755,
                        "iteration": 26,
                        "remaining_time": 0.5736524486,
                        "learn": [
                          228.4322918
                        ]
                      },
                      {
                        "test": [
                          196.2320202
                        ],
                        "passed_time": 0.0580946952,
                        "iteration": 27,
                        "remaining_time": 0.5643484677,
                        "learn": [
                          226.5234659
                        ]
                      },
                      {
                        "test": [
                          194.2398853
                        ],
                        "passed_time": 0.05989413088,
                        "iteration": 28,
                        "remaining_time": 0.5597003265,
                        "learn": [
                          224.6514264
                        ]
                      },
                      {
                        "test": [
                          192.2633764
                        ],
                        "passed_time": 0.0620759559,
                        "iteration": 29,
                        "remaining_time": 0.5586836031,
                        "learn": [
                          222.8751356
                        ]
                      },
                      {
                        "test": [
                          190.4014318
                        ],
                        "passed_time": 0.06405115751,
                        "iteration": 30,
                        "remaining_time": 0.5557987539,
                        "learn": [
                          221.1863307
                        ]
                      },
                      {
                        "test": [
                          188.6291573
                        ],
                        "passed_time": 0.06598826546,
                        "iteration": 31,
                        "remaining_time": 0.5526517232,
                        "learn": [
                          219.5776158
                        ]
                      },
                      {
                        "test": [
                          186.9447053
                        ],
                        "passed_time": 0.06802042575,
                        "iteration": 32,
                        "remaining_time": 0.5503470811,
                        "learn": [
                          218.0461921
                        ]
                      },
                      {
                        "test": [
                          185.4969645
                        ],
                        "passed_time": 0.07025504046,
                        "iteration": 33,
                        "remaining_time": 0.5496423753,
                        "learn": [
                          216.7069642
                        ]
                      },
                      {
                        "test": [
                          184.0265149
                        ],
                        "passed_time": 0.0735868198,
                        "iteration": 34,
                        "remaining_time": 0.5571573499,
                        "learn": [
                          215.2852602
                        ]
                      },
                      {
                        "test": [
                          182.5586076
                        ],
                        "passed_time": 0.07688959618,
                        "iteration": 35,
                        "remaining_time": 0.5638570386,
                        "learn": [
                          213.9727023
                        ]
                      },
                      {
                        "test": [
                          181.2064788
                        ],
                        "passed_time": 0.08139193755,
                        "iteration": 36,
                        "remaining_time": 0.5785426912,
                        "learn": [
                          212.7247623
                        ]
                      },
                      {
                        "test": [
                          179.9547589
                        ],
                        "passed_time": 0.08535394323,
                        "iteration": 37,
                        "remaining_time": 0.588492977,
                        "learn": [
                          211.5595158
                        ]
                      },
                      {
                        "test": [
                          178.7255448
                        ],
                        "passed_time": 0.08890797562,
                        "iteration": 38,
                        "remaining_time": 0.5949995292,
                        "learn": [
                          210.457813
                        ]
                      },
                      {
                        "test": [
                          177.6198684
                        ],
                        "passed_time": 0.0939434574,
                        "iteration": 39,
                        "remaining_time": 0.6106324731,
                        "learn": [
                          209.396783
                        ]
                      },
                      {
                        "test": [
                          176.5219743
                        ],
                        "passed_time": 0.09606239659,
                        "iteration": 40,
                        "remaining_time": 0.6068331882,
                        "learn": [
                          208.3973533
                        ]
                      },
                      {
                        "test": [
                          175.5206863
                        ],
                        "passed_time": 0.09811114105,
                        "iteration": 41,
                        "remaining_time": 0.6026827236,
                        "learn": [
                          207.4621513
                        ]
                      },
                      {
                        "test": [
                          174.5225172
                        ],
                        "passed_time": 0.0999878004,
                        "iteration": 42,
                        "remaining_time": 0.5976015047,
                        "learn": [
                          206.5532131
                        ]
                      },
                      {
                        "test": [
                          173.5723738
                        ],
                        "passed_time": 0.1020008357,
                        "iteration": 43,
                        "remaining_time": 0.5934594076,
                        "learn": [
                          205.6812173
                        ]
                      },
                      {
                        "test": [
                          172.659063
                        ],
                        "passed_time": 0.1040094747,
                        "iteration": 44,
                        "remaining_time": 0.5893870233,
                        "learn": [
                          204.8626814
                        ]
                      },
                      {
                        "test": [
                          171.8400585
                        ],
                        "passed_time": 0.1063902551,
                        "iteration": 45,
                        "remaining_time": 0.5874592348,
                        "learn": [
                          204.095555
                        ]
                      },
                      {
                        "test": [
                          171.0131468
                        ],
                        "passed_time": 0.1083792337,
                        "iteration": 46,
                        "remaining_time": 0.583403109,
                        "learn": [
                          203.3439649
                        ]
                      },
                      {
                        "test": [
                          170.2629548
                        ],
                        "passed_time": 0.1102334317,
                        "iteration": 47,
                        "remaining_time": 0.5787255166,
                        "learn": [
                          202.6624498
                        ]
                      },
                      {
                        "test": [
                          169.5610617
                        ],
                        "passed_time": 0.1122851479,
                        "iteration": 48,
                        "remaining_time": 0.5751749415,
                        "learn": [
                          202.0042074
                        ]
                      },
                      {
                        "test": [
                          168.8404977
                        ],
                        "passed_time": 0.1141452268,
                        "iteration": 49,
                        "remaining_time": 0.5707261338,
                        "learn": [
                          201.3471904
                        ]
                      },
                      {
                        "test": [
                          168.1912683
                        ],
                        "passed_time": 0.116028166,
                        "iteration": 50,
                        "remaining_time": 0.5664904573,
                        "learn": [
                          200.7589662
                        ]
                      },
                      {
                        "test": [
                          167.6760076
                        ],
                        "passed_time": 0.1168805299,
                        "iteration": 51,
                        "remaining_time": 0.5574302195,
                        "learn": [
                          200.2716656
                        ]
                      },
                      {
                        "test": [
                          167.0363802
                        ],
                        "passed_time": 0.1188241586,
                        "iteration": 52,
                        "remaining_time": 0.5537654183,
                        "learn": [
                          199.7071273
                        ]
                      },
                      {
                        "test": [
                          166.3811145
                        ],
                        "passed_time": 0.1208619878,
                        "iteration": 53,
                        "remaining_time": 0.5505935002,
                        "learn": [
                          199.1569097
                        ]
                      },
                      {
                        "test": [
                          165.951775
                        ],
                        "passed_time": 0.1238748864,
                        "iteration": 54,
                        "remaining_time": 0.5518063121,
                        "learn": [
                          198.7287846
                        ]
                      },
                      {
                        "test": [
                          165.458236
                        ],
                        "passed_time": 0.125856976,
                        "iteration": 55,
                        "remaining_time": 0.5483768241,
                        "learn": [
                          198.2197779
                        ]
                      },
                      {
                        "test": [
                          164.9033646
                        ],
                        "passed_time": 0.1279278363,
                        "iteration": 56,
                        "remaining_time": 0.5453765654,
                        "learn": [
                          197.7547356
                        ]
                      },
                      {
                        "test": [
                          164.3929297
                        ],
                        "passed_time": 0.1299398444,
                        "iteration": 57,
                        "remaining_time": 0.5421627989,
                        "learn": [
                          197.290943
                        ]
                      },
                      {
                        "test": [
                          163.8906964
                        ],
                        "passed_time": 0.1318775514,
                        "iteration": 58,
                        "remaining_time": 0.5386862692,
                        "learn": [
                          196.8727562
                        ]
                      },
                      {
                        "test": [
                          163.4856278
                        ],
                        "passed_time": 0.1340847822,
                        "iteration": 59,
                        "remaining_time": 0.5363391287,
                        "learn": [
                          196.503062
                        ]
                      },
                      {
                        "test": [
                          163.1038322
                        ],
                        "passed_time": 0.1359931953,
                        "iteration": 60,
                        "remaining_time": 0.5328257981,
                        "learn": [
                          196.103541
                        ]
                      },
                      {
                        "test": [
                          162.6964247
                        ],
                        "passed_time": 0.1379623062,
                        "iteration": 61,
                        "remaining_time": 0.5295972398,
                        "learn": [
                          195.7329722
                        ]
                      },
                      {
                        "test": [
                          162.3363478
                        ],
                        "passed_time": 0.1399100402,
                        "iteration": 62,
                        "remaining_time": 0.5263282466,
                        "learn": [
                          195.3954713
                        ]
                      },
                      {
                        "test": [
                          162.0075977
                        ],
                        "passed_time": 0.1420379083,
                        "iteration": 63,
                        "remaining_time": 0.5237647869,
                        "learn": [
                          195.0788469
                        ]
                      },
                      {
                        "test": [
                          161.6599125
                        ],
                        "passed_time": 0.1440590716,
                        "iteration": 64,
                        "remaining_time": 0.5208289512,
                        "learn": [
                          194.7387235
                        ]
                      },
                      {
                        "test": [
                          161.3088144
                        ],
                        "passed_time": 0.1460257398,
                        "iteration": 65,
                        "remaining_time": 0.5177276228,
                        "learn": [
                          194.4561014
                        ]
                      },
                      {
                        "test": [
                          160.990451
                        ],
                        "passed_time": 0.1484369758,
                        "iteration": 66,
                        "remaining_time": 0.5162061996,
                        "learn": [
                          194.1440143
                        ]
                      },
                      {
                        "test": [
                          160.73146
                        ],
                        "passed_time": 0.1503880235,
                        "iteration": 67,
                        "remaining_time": 0.5130885507,
                        "learn": [
                          193.8670522
                        ]
                      },
                      {
                        "test": [
                          160.552609
                        ],
                        "passed_time": 0.1512385547,
                        "iteration": 68,
                        "remaining_time": 0.5063203789,
                        "learn": [
                          193.6871943
                        ]
                      },
                      {
                        "test": [
                          160.3852492
                        ],
                        "passed_time": 0.1520871778,
                        "iteration": 69,
                        "remaining_time": 0.4997150129,
                        "learn": [
                          193.5178066
                        ]
                      },
                      {
                        "test": [
                          160.2054622
                        ],
                        "passed_time": 0.1543752777,
                        "iteration": 70,
                        "remaining_time": 0.497914628,
                        "learn": [
                          193.3118152
                        ]
                      },
                      {
                        "test": [
                          160.0137716
                        ],
                        "passed_time": 0.1564361809,
                        "iteration": 71,
                        "remaining_time": 0.4953812396,
                        "learn": [
                          193.1276553
                        ]
                      },
                      {
                        "test": [
                          159.8436596
                        ],
                        "passed_time": 0.1590004889,
                        "iteration": 72,
                        "remaining_time": 0.4944261779,
                        "learn": [
                          192.9486227
                        ]
                      },
                      {
                        "test": [
                          159.5812095
                        ],
                        "passed_time": 0.1609644526,
                        "iteration": 73,
                        "remaining_time": 0.4915941391,
                        "learn": [
                          192.7494654
                        ]
                      },
                      {
                        "test": [
                          159.350137
                        ],
                        "passed_time": 0.162955822,
                        "iteration": 74,
                        "remaining_time": 0.4888674661,
                        "learn": [
                          192.5644159
                        ]
                      },
                      {
                        "test": [
                          159.1645669
                        ],
                        "passed_time": 0.1649295537,
                        "iteration": 75,
                        "remaining_time": 0.4861081582,
                        "learn": [
                          192.3645464
                        ]
                      },
                      {
                        "test": [
                          159.0238557
                        ],
                        "passed_time": 0.1671894642,
                        "iteration": 76,
                        "remaining_time": 0.4841980586,
                        "learn": [
                          192.1972957
                        ]
                      },
                      {
                        "test": [
                          158.8674333
                        ],
                        "passed_time": 0.1721193593,
                        "iteration": 77,
                        "remaining_time": 0.4898781764,
                        "learn": [
                          192.0557124
                        ]
                      },
                      {
                        "test": [
                          158.7136891
                        ],
                        "passed_time": 0.1751453866,
                        "iteration": 78,
                        "remaining_time": 0.4899636765,
                        "learn": [
                          191.9003612
                        ]
                      },
                      {
                        "test": [
                          158.545346
                        ],
                        "passed_time": 0.1772945206,
                        "iteration": 79,
                        "remaining_time": 0.4875599316,
                        "learn": [
                          191.7366835
                        ]
                      },
                      {
                        "test": [
                          158.3726683
                        ],
                        "passed_time": 0.179918279,
                        "iteration": 80,
                        "remaining_time": 0.4864457173,
                        "learn": [
                          191.5930624
                        ]
                      },
                      {
                        "test": [
                          158.2684067
                        ],
                        "passed_time": 0.182468031,
                        "iteration": 81,
                        "remaining_time": 0.485097936,
                        "learn": [
                          191.4714754
                        ]
                      },
                      {
                        "test": [
                          158.1693001
                        ],
                        "passed_time": 0.184425063,
                        "iteration": 82,
                        "remaining_time": 0.4821715503,
                        "learn": [
                          191.3717423
                        ]
                      },
                      {
                        "test": [
                          158.0306523
                        ],
                        "passed_time": 0.1864810682,
                        "iteration": 83,
                        "remaining_time": 0.4795227468,
                        "learn": [
                          191.2331659
                        ]
                      },
                      {
                        "test": [
                          157.9129988
                        ],
                        "passed_time": 0.1884467891,
                        "iteration": 84,
                        "remaining_time": 0.4766595254,
                        "learn": [
                          191.1171791
                        ]
                      },
                      {
                        "test": [
                          157.8257462
                        ],
                        "passed_time": 0.1903105751,
                        "iteration": 85,
                        "remaining_time": 0.4735635242,
                        "learn": [
                          191.0295222
                        ]
                      },
                      {
                        "test": [
                          157.7149777
                        ],
                        "passed_time": 0.1922094558,
                        "iteration": 86,
                        "remaining_time": 0.470581771,
                        "learn": [
                          190.9026876
                        ]
                      },
                      {
                        "test": [
                          157.625204
                        ],
                        "passed_time": 0.1944334425,
                        "iteration": 87,
                        "remaining_time": 0.4684078389,
                        "learn": [
                          190.8125599
                        ]
                      },
                      {
                        "test": [
                          157.5223867
                        ],
                        "passed_time": 0.1963296769,
                        "iteration": 88,
                        "remaining_time": 0.4654557508,
                        "learn": [
                          190.7095383
                        ]
                      },
                      {
                        "test": [
                          157.3945064
                        ],
                        "passed_time": 0.1983417913,
                        "iteration": 89,
                        "remaining_time": 0.462797513,
                        "learn": [
                          190.6124645
                        ]
                      },
                      {
                        "test": [
                          157.306399
                        ],
                        "passed_time": 0.200299626,
                        "iteration": 90,
                        "remaining_time": 0.4600288114,
                        "learn": [
                          190.5205111
                        ]
                      },
                      {
                        "test": [
                          157.1882205
                        ],
                        "passed_time": 0.2022649433,
                        "iteration": 91,
                        "remaining_time": 0.4572946545,
                        "learn": [
                          190.4103745
                        ]
                      },
                      {
                        "test": [
                          157.1298256
                        ],
                        "passed_time": 0.2042197518,
                        "iteration": 92,
                        "remaining_time": 0.454553641,
                        "learn": [
                          190.3388433
                        ]
                      },
                      {
                        "test": [
                          157.002549
                        ],
                        "passed_time": 0.2061803628,
                        "iteration": 93,
                        "remaining_time": 0.4518420717,
                        "learn": [
                          190.2383784
                        ]
                      },
                      {
                        "test": [
                          156.8916486
                        ],
                        "passed_time": 0.2081696959,
                        "iteration": 94,
                        "remaining_time": 0.4492082912,
                        "learn": [
                          190.1384137
                        ]
                      },
                      {
                        "test": [
                          156.8262788
                        ],
                        "passed_time": 0.2099750187,
                        "iteration": 95,
                        "remaining_time": 0.4461969148,
                        "learn": [
                          190.0709188
                        ]
                      },
                      {
                        "test": [
                          156.7801792
                        ],
                        "passed_time": 0.2119020678,
                        "iteration": 96,
                        "remaining_time": 0.4434651522,
                        "learn": [
                          189.9980864
                        ]
                      },
                      {
                        "test": [
                          156.7067195
                        ],
                        "passed_time": 0.2139548495,
                        "iteration": 97,
                        "remaining_time": 0.4410089754,
                        "learn": [
                          189.9327813
                        ]
                      },
                      {
                        "test": [
                          156.6761668
                        ],
                        "passed_time": 0.2158879829,
                        "iteration": 98,
                        "remaining_time": 0.438318026,
                        "learn": [
                          189.8547698
                        ]
                      },
                      {
                        "test": [
                          156.6257088
                        ],
                        "passed_time": 0.2179172351,
                        "iteration": 99,
                        "remaining_time": 0.4358344703,
                        "learn": [
                          189.7672562
                        ]
                      },
                      {
                        "test": [
                          156.5314251
                        ],
                        "passed_time": 0.2199177607,
                        "iteration": 100,
                        "remaining_time": 0.4333033107,
                        "learn": [
                          189.6904252
                        ]
                      },
                      {
                        "test": [
                          156.4903188
                        ],
                        "passed_time": 0.2218998867,
                        "iteration": 101,
                        "remaining_time": 0.4307468389,
                        "learn": [
                          189.6215561
                        ]
                      },
                      {
                        "test": [
                          156.4373361
                        ],
                        "passed_time": 0.2245660678,
                        "iteration": 102,
                        "remaining_time": 0.4295098578,
                        "learn": [
                          189.5749525
                        ]
                      },
                      {
                        "test": [
                          156.3896902
                        ],
                        "passed_time": 0.2265711623,
                        "iteration": 103,
                        "remaining_time": 0.4269994983,
                        "learn": [
                          189.4901554
                        ]
                      },
                      {
                        "test": [
                          156.3293936
                        ],
                        "passed_time": 0.2285496266,
                        "iteration": 104,
                        "remaining_time": 0.4244493066,
                        "learn": [
                          189.4181923
                        ]
                      },
                      {
                        "test": [
                          156.284891
                        ],
                        "passed_time": 0.2304894772,
                        "iteration": 105,
                        "remaining_time": 0.4218392319,
                        "learn": [
                          189.3842089
                        ]
                      },
                      {
                        "test": [
                          156.2422499
                        ],
                        "passed_time": 0.2324878883,
                        "iteration": 106,
                        "remaining_time": 0.4193473125,
                        "learn": [
                          189.3207957
                        ]
                      },
                      {
                        "test": [
                          156.1996675
                        ],
                        "passed_time": 0.2344699188,
                        "iteration": 107,
                        "remaining_time": 0.4168354113,
                        "learn": [
                          189.2619406
                        ]
                      },
                      {
                        "test": [
                          156.1782188
                        ],
                        "passed_time": 0.2364398169,
                        "iteration": 108,
                        "remaining_time": 0.4143119728,
                        "learn": [
                          189.1823452
                        ]
                      },
                      {
                        "test": [
                          156.1204564
                        ],
                        "passed_time": 0.2382602394,
                        "iteration": 109,
                        "remaining_time": 0.4115404135,
                        "learn": [
                          189.1318146
                        ]
                      },
                      {
                        "test": [
                          156.0786958
                        ],
                        "passed_time": 0.2401874367,
                        "iteration": 110,
                        "remaining_time": 0.4089677976,
                        "learn": [
                          189.0757859
                        ]
                      },
                      {
                        "test": [
                          156.0389724
                        ],
                        "passed_time": 0.2423387669,
                        "iteration": 111,
                        "remaining_time": 0.4067829302,
                        "learn": [
                          189.0431227
                        ]
                      },
                      {
                        "test": [
                          156.0321327
                        ],
                        "passed_time": 0.2432227292,
                        "iteration": 112,
                        "remaining_time": 0.4025013307,
                        "learn": [
                          189.0302136
                        ]
                      },
                      {
                        "test": [
                          156.0137647
                        ],
                        "passed_time": 0.2457195906,
                        "iteration": 113,
                        "remaining_time": 0.400910911,
                        "learn": [
                          189.0026749
                        ]
                      },
                      {
                        "test": [
                          155.9915212
                        ],
                        "passed_time": 0.2480256637,
                        "iteration": 114,
                        "remaining_time": 0.3989978067,
                        "learn": [
                          188.9720009
                        ]
                      },
                      {
                        "test": [
                          155.965566
                        ],
                        "passed_time": 0.2500482596,
                        "iteration": 115,
                        "remaining_time": 0.3966282739,
                        "learn": [
                          188.9364328
                        ]
                      },
                      {
                        "test": [
                          155.9002214
                        ],
                        "passed_time": 0.2521941827,
                        "iteration": 116,
                        "remaining_time": 0.3944575679,
                        "learn": [
                          188.8999012
                        ]
                      },
                      {
                        "test": [
                          155.89724
                        ],
                        "passed_time": 0.2545852011,
                        "iteration": 117,
                        "remaining_time": 0.3926653102,
                        "learn": [
                          188.8748706
                        ]
                      },
                      {
                        "test": [
                          155.8542255
                        ],
                        "passed_time": 0.2567356296,
                        "iteration": 118,
                        "remaining_time": 0.39049705,
                        "learn": [
                          188.8396322
                        ]
                      },
                      {
                        "test": [
                          155.8426383
                        ],
                        "passed_time": 0.2587088331,
                        "iteration": 119,
                        "remaining_time": 0.3880632496,
                        "learn": [
                          188.803815
                        ]
                      },
                      {
                        "test": [
                          155.8212154
                        ],
                        "passed_time": 0.2606877473,
                        "iteration": 120,
                        "remaining_time": 0.3856455105,
                        "learn": [
                          188.768513
                        ]
                      },
                      {
                        "test": [
                          155.8089804
                        ],
                        "passed_time": 0.2626102701,
                        "iteration": 121,
                        "remaining_time": 0.3831526892,
                        "learn": [
                          188.7198026
                        ]
                      },
                      {
                        "test": [
                          155.7691691
                        ],
                        "passed_time": 0.2645710803,
                        "iteration": 122,
                        "remaining_time": 0.3807242375,
                        "learn": [
                          188.6834705
                        ]
                      },
                      {
                        "test": [
                          155.752491
                        ],
                        "passed_time": 0.2665698631,
                        "iteration": 123,
                        "remaining_time": 0.3783572251,
                        "learn": [
                          188.6530705
                        ]
                      },
                      {
                        "test": [
                          155.7553843
                        ],
                        "passed_time": 0.2685625553,
                        "iteration": 124,
                        "remaining_time": 0.3759875774,
                        "learn": [
                          188.62041
                        ]
                      },
                      {
                        "test": [
                          155.713062
                        ],
                        "passed_time": 0.2705912929,
                        "iteration": 125,
                        "remaining_time": 0.3736736902,
                        "learn": [
                          188.5861974
                        ]
                      },
                      {
                        "test": [
                          155.6972199
                        ],
                        "passed_time": 0.2725862468,
                        "iteration": 126,
                        "remaining_time": 0.3713182732,
                        "learn": [
                          188.5649742
                        ]
                      },
                      {
                        "test": [
                          155.668917
                        ],
                        "passed_time": 0.274486252,
                        "iteration": 127,
                        "remaining_time": 0.3688409011,
                        "learn": [
                          188.526058
                        ]
                      },
                      {
                        "test": [
                          155.660219
                        ],
                        "passed_time": 0.2764365687,
                        "iteration": 128,
                        "remaining_time": 0.3664391725,
                        "learn": [
                          188.5097255
                        ]
                      },
                      {
                        "test": [
                          155.6153268
                        ],
                        "passed_time": 0.278606724,
                        "iteration": 129,
                        "remaining_time": 0.3643318698,
                        "learn": [
                          188.4809951
                        ]
                      },
                      {
                        "test": [
                          155.5467834
                        ],
                        "passed_time": 0.2804155476,
                        "iteration": 130,
                        "remaining_time": 0.3617574622,
                        "learn": [
                          188.4461481
                        ]
                      },
                      {
                        "test": [
                          155.5475432
                        ],
                        "passed_time": 0.2829188452,
                        "iteration": 131,
                        "remaining_time": 0.3600785303,
                        "learn": [
                          188.3819477
                        ]
                      },
                      {
                        "test": [
                          155.5498891
                        ],
                        "passed_time": 0.2848927487,
                        "iteration": 132,
                        "remaining_time": 0.3577224739,
                        "learn": [
                          188.3707148
                        ]
                      },
                      {
                        "test": [
                          155.5482659
                        ],
                        "passed_time": 0.2886259987,
                        "iteration": 133,
                        "remaining_time": 0.3575516104,
                        "learn": [
                          188.3542355
                        ]
                      },
                      {
                        "test": [
                          155.5448414
                        ],
                        "passed_time": 0.2919292078,
                        "iteration": 134,
                        "remaining_time": 0.3568023651,
                        "learn": [
                          188.3316695
                        ]
                      },
                      {
                        "test": [
                          155.508549
                        ],
                        "passed_time": 0.2951987941,
                        "iteration": 135,
                        "remaining_time": 0.3559750164,
                        "learn": [
                          188.2964659
                        ]
                      },
                      {
                        "test": [
                          155.4863814
                        ],
                        "passed_time": 0.2987058966,
                        "iteration": 136,
                        "remaining_time": 0.3553946069,
                        "learn": [
                          188.2578158
                        ]
                      },
                      {
                        "test": [
                          155.4857772
                        ],
                        "passed_time": 0.3020113675,
                        "iteration": 137,
                        "remaining_time": 0.3545350836,
                        "learn": [
                          188.2379066
                        ]
                      },
                      {
                        "test": [
                          155.4648619
                        ],
                        "passed_time": 0.3047480133,
                        "iteration": 138,
                        "remaining_time": 0.3529815118,
                        "learn": [
                          188.2233508
                        ]
                      },
                      {
                        "test": [
                          155.4681969
                        ],
                        "passed_time": 0.3070048493,
                        "iteration": 139,
                        "remaining_time": 0.3508626849,
                        "learn": [
                          188.2083599
                        ]
                      },
                      {
                        "test": [
                          155.4708264
                        ],
                        "passed_time": 0.3089588796,
                        "iteration": 140,
                        "remaining_time": 0.3484004387,
                        "learn": [
                          188.1668379
                        ]
                      },
                      {
                        "test": [
                          155.4681593
                        ],
                        "passed_time": 0.3109066146,
                        "iteration": 141,
                        "remaining_time": 0.3459383458,
                        "learn": [
                          188.1396206
                        ]
                      },
                      {
                        "test": [
                          155.4491822
                        ],
                        "passed_time": 0.3128128178,
                        "iteration": 142,
                        "remaining_time": 0.3434378489,
                        "learn": [
                          188.1279756
                        ]
                      },
                      {
                        "test": [
                          155.4602127
                        ],
                        "passed_time": 0.315066103,
                        "iteration": 143,
                        "remaining_time": 0.3413216115,
                        "learn": [
                          188.0758082
                        ]
                      },
                      {
                        "test": [
                          155.4495494
                        ],
                        "passed_time": 0.3170559924,
                        "iteration": 144,
                        "remaining_time": 0.3389219229,
                        "learn": [
                          188.0616333
                        ]
                      },
                      {
                        "test": [
                          155.4433076
                        ],
                        "passed_time": 0.3194872344,
                        "iteration": 145,
                        "remaining_time": 0.3369933842,
                        "learn": [
                          188.0279046
                        ]
                      },
                      {
                        "test": [
                          155.401292
                        ],
                        "passed_time": 0.3214208233,
                        "iteration": 146,
                        "remaining_time": 0.3345400406,
                        "learn": [
                          188.0028639
                        ]
                      },
                      {
                        "test": [
                          155.3946277
                        ],
                        "passed_time": 0.3234370813,
                        "iteration": 147,
                        "remaining_time": 0.332178624,
                        "learn": [
                          187.9788036
                        ]
                      },
                      {
                        "test": [
                          155.3741019
                        ],
                        "passed_time": 0.3254245153,
                        "iteration": 148,
                        "remaining_time": 0.3297926296,
                        "learn": [
                          187.9601572
                        ]
                      },
                      {
                        "test": [
                          155.3508224
                        ],
                        "passed_time": 0.3274294981,
                        "iteration": 149,
                        "remaining_time": 0.3274294981,
                        "learn": [
                          187.9399449
                        ]
                      },
                      {
                        "test": [
                          155.3460883
                        ],
                        "passed_time": 0.3296440369,
                        "iteration": 150,
                        "remaining_time": 0.3252778907,
                        "learn": [
                          187.9023332
                        ]
                      },
                      {
                        "test": [
                          155.3309915
                        ],
                        "passed_time": 0.3315871629,
                        "iteration": 151,
                        "remaining_time": 0.3228611849,
                        "learn": [
                          187.8682313
                        ]
                      },
                      {
                        "test": [
                          155.2966221
                        ],
                        "passed_time": 0.3341720331,
                        "iteration": 152,
                        "remaining_time": 0.3210672475,
                        "learn": [
                          187.8501375
                        ]
                      },
                      {
                        "test": [
                          155.2845747
                        ],
                        "passed_time": 0.3373096551,
                        "iteration": 153,
                        "remaining_time": 0.3197870756,
                        "learn": [
                          187.8437383
                        ]
                      },
                      {
                        "test": [
                          155.2454559
                        ],
                        "passed_time": 0.340184225,
                        "iteration": 154,
                        "remaining_time": 0.3182368557,
                        "learn": [
                          187.8154734
                        ]
                      },
                      {
                        "test": [
                          155.2534854
                        ],
                        "passed_time": 0.3440533329,
                        "iteration": 155,
                        "remaining_time": 0.3175876919,
                        "learn": [
                          187.8006096
                        ]
                      },
                      {
                        "test": [
                          155.2490564
                        ],
                        "passed_time": 0.3462259181,
                        "iteration": 156,
                        "remaining_time": 0.3153522694,
                        "learn": [
                          187.778075
                        ]
                      },
                      {
                        "test": [
                          155.2607824
                        ],
                        "passed_time": 0.3487401482,
                        "iteration": 157,
                        "remaining_time": 0.3134246901,
                        "learn": [
                          187.7575801
                        ]
                      },
                      {
                        "test": [
                          155.2606688
                        ],
                        "passed_time": 0.3507455073,
                        "iteration": 158,
                        "remaining_time": 0.3110384687,
                        "learn": [
                          187.7342995
                        ]
                      },
                      {
                        "test": [
                          155.2314516
                        ],
                        "passed_time": 0.352753719,
                        "iteration": 159,
                        "remaining_time": 0.3086595041,
                        "learn": [
                          187.722272
                        ]
                      },
                      {
                        "test": [
                          155.2267731
                        ],
                        "passed_time": 0.3549572708,
                        "iteration": 160,
                        "remaining_time": 0.3064537928,
                        "learn": [
                          187.6861216
                        ]
                      },
                      {
                        "test": [
                          155.1959278
                        ],
                        "passed_time": 0.3568682912,
                        "iteration": 161,
                        "remaining_time": 0.3039989147,
                        "learn": [
                          187.6709114
                        ]
                      },
                      {
                        "test": [
                          155.1939467
                        ],
                        "passed_time": 0.3587736199,
                        "iteration": 162,
                        "remaining_time": 0.3015459259,
                        "learn": [
                          187.6540963
                        ]
                      },
                      {
                        "test": [
                          155.1783505
                        ],
                        "passed_time": 0.3605284202,
                        "iteration": 163,
                        "remaining_time": 0.2989747875,
                        "learn": [
                          187.6395913
                        ]
                      },
                      {
                        "test": [
                          155.1640259
                        ],
                        "passed_time": 0.3619187935,
                        "iteration": 164,
                        "remaining_time": 0.2961153765,
                        "learn": [
                          187.6338404
                        ]
                      },
                      {
                        "test": [
                          155.1538137
                        ],
                        "passed_time": 0.3639771259,
                        "iteration": 165,
                        "remaining_time": 0.2938128607,
                        "learn": [
                          187.6241334
                        ]
                      },
                      {
                        "test": [
                          155.1514873
                        ],
                        "passed_time": 0.3659652218,
                        "iteration": 166,
                        "remaining_time": 0.2914573323,
                        "learn": [
                          187.6135717
                        ]
                      },
                      {
                        "test": [
                          155.1425504
                        ],
                        "passed_time": 0.3680097491,
                        "iteration": 167,
                        "remaining_time": 0.2891505171,
                        "learn": [
                          187.602879
                        ]
                      },
                      {
                        "test": [
                          155.1446231
                        ],
                        "passed_time": 0.3700264588,
                        "iteration": 168,
                        "remaining_time": 0.2868252432,
                        "learn": [
                          187.5971213
                        ]
                      },
                      {
                        "test": [
                          155.147155
                        ],
                        "passed_time": 0.3720335324,
                        "iteration": 169,
                        "remaining_time": 0.2844962307,
                        "learn": [
                          187.58384
                        ]
                      },
                      {
                        "test": [
                          155.1505745
                        ],
                        "passed_time": 0.3747309519,
                        "iteration": 170,
                        "remaining_time": 0.2826917707,
                        "learn": [
                          187.5647431
                        ]
                      },
                      {
                        "test": [
                          155.1359052
                        ],
                        "passed_time": 0.3766726943,
                        "iteration": 171,
                        "remaining_time": 0.2803145632,
                        "learn": [
                          187.5442353
                        ]
                      },
                      {
                        "test": [
                          155.1031858
                        ],
                        "passed_time": 0.3788963747,
                        "iteration": 172,
                        "remaining_time": 0.2781493618,
                        "learn": [
                          187.5294237
                        ]
                      },
                      {
                        "test": [
                          155.0957082
                        ],
                        "passed_time": 0.3808841096,
                        "iteration": 173,
                        "remaining_time": 0.2758126311,
                        "learn": [
                          187.5232841
                        ]
                      },
                      {
                        "test": [
                          155.0793886
                        ],
                        "passed_time": 0.3828330446,
                        "iteration": 174,
                        "remaining_time": 0.2734521747,
                        "learn": [
                          187.5073545
                        ]
                      },
                      {
                        "test": [
                          155.0689366
                        ],
                        "passed_time": 0.3850401726,
                        "iteration": 175,
                        "remaining_time": 0.2712783035,
                        "learn": [
                          187.4771113
                        ]
                      },
                      {
                        "test": [
                          155.0364305
                        ],
                        "passed_time": 0.3870648458,
                        "iteration": 176,
                        "remaining_time": 0.2689772658,
                        "learn": [
                          187.457511
                        ]
                      },
                      {
                        "test": [
                          155.0382787
                        ],
                        "passed_time": 0.3889839906,
                        "iteration": 177,
                        "remaining_time": 0.2666070048,
                        "learn": [
                          187.4543462
                        ]
                      },
                      {
                        "test": [
                          155.0682509
                        ],
                        "passed_time": 0.3910083274,
                        "iteration": 178,
                        "remaining_time": 0.2643128917,
                        "learn": [
                          187.4246746
                        ]
                      },
                      {
                        "test": [
                          155.066071
                        ],
                        "passed_time": 0.3930189518,
                        "iteration": 179,
                        "remaining_time": 0.2620126346,
                        "learn": [
                          187.41902
                        ]
                      },
                      {
                        "test": [
                          155.0672281
                        ],
                        "passed_time": 0.394984181,
                        "iteration": 180,
                        "remaining_time": 0.2596857322,
                        "learn": [
                          187.4117003
                        ]
                      },
                      {
                        "test": [
                          155.0687852
                        ],
                        "passed_time": 0.3971120163,
                        "iteration": 181,
                        "remaining_time": 0.2574682304,
                        "learn": [
                          187.3874119
                        ]
                      },
                      {
                        "test": [
                          155.0383757
                        ],
                        "passed_time": 0.3990854516,
                        "iteration": 182,
                        "remaining_time": 0.2551529936,
                        "learn": [
                          187.3706913
                        ]
                      },
                      {
                        "test": [
                          155.0347539
                        ],
                        "passed_time": 0.400904805,
                        "iteration": 183,
                        "remaining_time": 0.2527443336,
                        "learn": [
                          187.3630073
                        ]
                      },
                      {
                        "test": [
                          155.04982
                        ],
                        "passed_time": 0.4028832802,
                        "iteration": 184,
                        "remaining_time": 0.2504409579,
                        "learn": [
                          187.3451211
                        ]
                      },
                      {
                        "test": [
                          155.0322372
                        ],
                        "passed_time": 0.4048251598,
                        "iteration": 185,
                        "remaining_time": 0.2481186463,
                        "learn": [
                          187.3389697
                        ]
                      },
                      {
                        "test": [
                          155.0394644
                        ],
                        "passed_time": 0.4067541643,
                        "iteration": 186,
                        "remaining_time": 0.2457926234,
                        "learn": [
                          187.3256831
                        ]
                      },
                      {
                        "test": [
                          155.0334325
                        ],
                        "passed_time": 0.4087137517,
                        "iteration": 187,
                        "remaining_time": 0.2434890436,
                        "learn": [
                          187.313648
                        ]
                      },
                      {
                        "test": [
                          155.0322641
                        ],
                        "passed_time": 0.4106912679,
                        "iteration": 188,
                        "remaining_time": 0.2411996335,
                        "learn": [
                          187.3079337
                        ]
                      },
                      {
                        "test": [
                          155.0403189
                        ],
                        "passed_time": 0.4126414828,
                        "iteration": 189,
                        "remaining_time": 0.2388977006,
                        "learn": [
                          187.2965497
                        ]
                      },
                      {
                        "test": [
                          155.0226596
                        ],
                        "passed_time": 0.4145469151,
                        "iteration": 190,
                        "remaining_time": 0.2365738939,
                        "learn": [
                          187.2781278
                        ]
                      },
                      {
                        "test": [
                          155.022607
                        ],
                        "passed_time": 0.4164614526,
                        "iteration": 191,
                        "remaining_time": 0.2342595671,
                        "learn": [
                          187.2550083
                        ]
                      },
                      {
                        "test": [
                          155.0245017
                        ],
                        "passed_time": 0.4184801578,
                        "iteration": 192,
                        "remaining_time": 0.2320071341,
                        "learn": [
                          187.2517063
                        ]
                      },
                      {
                        "test": [
                          155.0263096
                        ],
                        "passed_time": 0.4204194393,
                        "iteration": 193,
                        "remaining_time": 0.2297137143,
                        "learn": [
                          187.2251521
                        ]
                      },
                      {
                        "test": [
                          155.0272232
                        ],
                        "passed_time": 0.4223472466,
                        "iteration": 194,
                        "remaining_time": 0.2274177482,
                        "learn": [
                          187.2235026
                        ]
                      },
                      {
                        "test": [
                          155.0298594
                        ],
                        "passed_time": 0.4245026158,
                        "iteration": 195,
                        "remaining_time": 0.225246286,
                        "learn": [
                          187.2117413
                        ]
                      },
                      {
                        "test": [
                          155.0256424
                        ],
                        "passed_time": 0.4265155957,
                        "iteration": 196,
                        "remaining_time": 0.2230005399,
                        "learn": [
                          187.1996593
                        ]
                      },
                      {
                        "test": [
                          155.0304592
                        ],
                        "passed_time": 0.4285438624,
                        "iteration": 197,
                        "remaining_time": 0.22076502,
                        "learn": [
                          187.1912418
                        ]
                      },
                      {
                        "test": [
                          154.9902833
                        ],
                        "passed_time": 0.4305363036,
                        "iteration": 198,
                        "remaining_time": 0.2185134003,
                        "learn": [
                          187.1639267
                        ]
                      },
                      {
                        "test": [
                          154.9819231
                        ],
                        "passed_time": 0.4324992019,
                        "iteration": 199,
                        "remaining_time": 0.216249601,
                        "learn": [
                          187.1509073
                        ]
                      },
                      {
                        "test": [
                          154.9725829
                        ],
                        "passed_time": 0.4344302554,
                        "iteration": 200,
                        "remaining_time": 0.2139731109,
                        "learn": [
                          187.1314993
                        ]
                      },
                      {
                        "test": [
                          154.9601679
                        ],
                        "passed_time": 0.4364340437,
                        "iteration": 201,
                        "remaining_time": 0.2117353281,
                        "learn": [
                          187.1182039
                        ]
                      },
                      {
                        "test": [
                          154.9596894
                        ],
                        "passed_time": 0.4384168815,
                        "iteration": 202,
                        "remaining_time": 0.2094898399,
                        "learn": [
                          187.1176351
                        ]
                      },
                      {
                        "test": [
                          154.9590433
                        ],
                        "passed_time": 0.4405159157,
                        "iteration": 203,
                        "remaining_time": 0.2073016074,
                        "learn": [
                          187.1144799
                        ]
                      },
                      {
                        "test": [
                          154.9664253
                        ],
                        "passed_time": 0.4427859286,
                        "iteration": 204,
                        "remaining_time": 0.2051934791,
                        "learn": [
                          186.9751011
                        ]
                      },
                      {
                        "test": [
                          154.9600788
                        ],
                        "passed_time": 0.4447649147,
                        "iteration": 205,
                        "remaining_time": 0.2029509805,
                        "learn": [
                          186.968199
                        ]
                      },
                      {
                        "test": [
                          154.9511308
                        ],
                        "passed_time": 0.446568763,
                        "iteration": 206,
                        "remaining_time": 0.2006323428,
                        "learn": [
                          186.9488096
                        ]
                      },
                      {
                        "test": [
                          154.9459114
                        ],
                        "passed_time": 0.4485166425,
                        "iteration": 207,
                        "remaining_time": 0.1983823611,
                        "learn": [
                          186.9461083
                        ]
                      },
                      {
                        "test": [
                          154.9559264
                        ],
                        "passed_time": 0.4505213298,
                        "iteration": 208,
                        "remaining_time": 0.1961600049,
                        "learn": [
                          186.9048766
                        ]
                      },
                      {
                        "test": [
                          154.9554143
                        ],
                        "passed_time": 0.4524684566,
                        "iteration": 209,
                        "remaining_time": 0.1939150528,
                        "learn": [
                          186.8991947
                        ]
                      },
                      {
                        "test": [
                          154.9581199
                        ],
                        "passed_time": 0.4552043361,
                        "iteration": 210,
                        "remaining_time": 0.1920056204,
                        "learn": [
                          186.8390693
                        ]
                      },
                      {
                        "test": [
                          154.9570717
                        ],
                        "passed_time": 0.4571160137,
                        "iteration": 211,
                        "remaining_time": 0.1897462699,
                        "learn": [
                          186.8338365
                        ]
                      },
                      {
                        "test": [
                          154.9448887
                        ],
                        "passed_time": 0.4590390411,
                        "iteration": 212,
                        "remaining_time": 0.1874948196,
                        "learn": [
                          186.8199071
                        ]
                      },
                      {
                        "test": [
                          154.934527
                        ],
                        "passed_time": 0.4610367567,
                        "iteration": 213,
                        "remaining_time": 0.1852764536,
                        "learn": [
                          186.8123141
                        ]
                      },
                      {
                        "test": [
                          154.9310559
                        ],
                        "passed_time": 0.4639305644,
                        "iteration": 214,
                        "remaining_time": 0.1834144092,
                        "learn": [
                          186.8018231
                        ]
                      },
                      {
                        "test": [
                          154.9259205
                        ],
                        "passed_time": 0.4659152667,
                        "iteration": 215,
                        "remaining_time": 0.1811892704,
                        "learn": [
                          186.7948107
                        ]
                      },
                      {
                        "test": [
                          154.9304125
                        ],
                        "passed_time": 0.4678034103,
                        "iteration": 216,
                        "remaining_time": 0.178929415,
                        "learn": [
                          186.7925621
                        ]
                      },
                      {
                        "test": [
                          154.8898556
                        ],
                        "passed_time": 0.4697899317,
                        "iteration": 217,
                        "remaining_time": 0.1767099743,
                        "learn": [
                          186.7721979
                        ]
                      },
                      {
                        "test": [
                          154.8951965
                        ],
                        "passed_time": 0.4760492261,
                        "iteration": 218,
                        "remaining_time": 0.1760730014,
                        "learn": [
                          186.7628044
                        ]
                      },
                      {
                        "test": [
                          154.8832375
                        ],
                        "passed_time": 0.4781535247,
                        "iteration": 219,
                        "remaining_time": 0.173874009,
                        "learn": [
                          186.7509636
                        ]
                      },
                      {
                        "test": [
                          154.88909
                        ],
                        "passed_time": 0.4801407833,
                        "iteration": 220,
                        "remaining_time": 0.1716340357,
                        "learn": [
                          186.7488529
                        ]
                      },
                      {
                        "test": [
                          154.8896119
                        ],
                        "passed_time": 0.4821605657,
                        "iteration": 221,
                        "remaining_time": 0.1694077663,
                        "learn": [
                          186.7310908
                        ]
                      },
                      {
                        "test": [
                          154.890031
                        ],
                        "passed_time": 0.484119145,
                        "iteration": 222,
                        "remaining_time": 0.167162216,
                        "learn": [
                          186.7292236
                        ]
                      },
                      {
                        "test": [
                          154.8003099
                        ],
                        "passed_time": 0.4861242722,
                        "iteration": 223,
                        "remaining_time": 0.1649350209,
                        "learn": [
                          186.6970362
                        ]
                      },
                      {
                        "test": [
                          154.8007057
                        ],
                        "passed_time": 0.4881211761,
                        "iteration": 224,
                        "remaining_time": 0.1627070587,
                        "learn": [
                          186.689476
                        ]
                      },
                      {
                        "test": [
                          154.7999451
                        ],
                        "passed_time": 0.4900766409,
                        "iteration": 225,
                        "remaining_time": 0.1604675727,
                        "learn": [
                          186.6771078
                        ]
                      },
                      {
                        "test": [
                          154.7951666
                        ],
                        "passed_time": 0.4920360892,
                        "iteration": 226,
                        "remaining_time": 0.1582318701,
                        "learn": [
                          186.6712169
                        ]
                      },
                      {
                        "test": [
                          154.7969611
                        ],
                        "passed_time": 0.4939870405,
                        "iteration": 227,
                        "remaining_time": 0.1559959075,
                        "learn": [
                          186.6637112
                        ]
                      },
                      {
                        "test": [
                          154.7942167
                        ],
                        "passed_time": 0.4974872787,
                        "iteration": 228,
                        "remaining_time": 0.1542427807,
                        "learn": [
                          186.6567802
                        ]
                      },
                      {
                        "test": [
                          154.783065
                        ],
                        "passed_time": 0.4994278511,
                        "iteration": 229,
                        "remaining_time": 0.1519997808,
                        "learn": [
                          186.6491828
                        ]
                      },
                      {
                        "test": [
                          154.7858603
                        ],
                        "passed_time": 0.5013547147,
                        "iteration": 230,
                        "remaining_time": 0.1497553044,
                        "learn": [
                          186.6439656
                        ]
                      },
                      {
                        "test": [
                          154.7790178
                        ],
                        "passed_time": 0.5033925649,
                        "iteration": 231,
                        "remaining_time": 0.1475460966,
                        "learn": [
                          186.6348168
                        ]
                      },
                      {
                        "test": [
                          154.7765822
                        ],
                        "passed_time": 0.5052958736,
                        "iteration": 232,
                        "remaining_time": 0.1452996718,
                        "learn": [
                          186.6333442
                        ]
                      },
                      {
                        "test": [
                          154.7655969
                        ],
                        "passed_time": 0.5072057022,
                        "iteration": 233,
                        "remaining_time": 0.1430580186,
                        "learn": [
                          186.6296829
                        ]
                      },
                      {
                        "test": [
                          154.753558
                        ],
                        "passed_time": 0.5090082778,
                        "iteration": 234,
                        "remaining_time": 0.1407895236,
                        "learn": [
                          186.6237717
                        ]
                      },
                      {
                        "test": [
                          154.7568716
                        ],
                        "passed_time": 0.5109206154,
                        "iteration": 235,
                        "remaining_time": 0.1385547432,
                        "learn": [
                          186.6169067
                        ]
                      },
                      {
                        "test": [
                          154.7650163
                        ],
                        "passed_time": 0.5128816101,
                        "iteration": 236,
                        "remaining_time": 0.1363356179,
                        "learn": [
                          186.5750806
                        ]
                      },
                      {
                        "test": [
                          154.749421
                        ],
                        "passed_time": 0.5146917928,
                        "iteration": 237,
                        "remaining_time": 0.1340793746,
                        "learn": [
                          186.5680168
                        ]
                      },
                      {
                        "test": [
                          154.7504923
                        ],
                        "passed_time": 0.5166294543,
                        "iteration": 238,
                        "remaining_time": 0.1318594005,
                        "learn": [
                          186.5584612
                        ]
                      },
                      {
                        "test": [
                          154.7577917
                        ],
                        "passed_time": 0.5185879827,
                        "iteration": 239,
                        "remaining_time": 0.1296469957,
                        "learn": [
                          186.4685069
                        ]
                      },
                      {
                        "test": [
                          154.7478257
                        ],
                        "passed_time": 0.5204962422,
                        "iteration": 240,
                        "remaining_time": 0.1274243912,
                        "learn": [
                          186.4602821
                        ]
                      },
                      {
                        "test": [
                          154.7247984
                        ],
                        "passed_time": 0.5224722593,
                        "iteration": 241,
                        "remaining_time": 0.1252206241,
                        "learn": [
                          186.4410668
                        ]
                      },
                      {
                        "test": [
                          154.7284746
                        ],
                        "passed_time": 0.5244323212,
                        "iteration": 242,
                        "remaining_time": 0.1230149889,
                        "learn": [
                          186.4274552
                        ]
                      },
                      {
                        "test": [
                          154.7286129
                        ],
                        "passed_time": 0.5258288353,
                        "iteration": 243,
                        "remaining_time": 0.1206820278,
                        "learn": [
                          186.4273764
                        ]
                      },
                      {
                        "test": [
                          154.7193887
                        ],
                        "passed_time": 0.527794858,
                        "iteration": 244,
                        "remaining_time": 0.11848456,
                        "learn": [
                          186.4059308
                        ]
                      },
                      {
                        "test": [
                          154.719951
                        ],
                        "passed_time": 0.5300257283,
                        "iteration": 245,
                        "remaining_time": 0.1163471111,
                        "learn": [
                          186.40566
                        ]
                      },
                      {
                        "test": [
                          154.7258201
                        ],
                        "passed_time": 0.5319351451,
                        "iteration": 246,
                        "remaining_time": 0.1141399299,
                        "learn": [
                          186.3979765
                        ]
                      },
                      {
                        "test": [
                          154.7210154
                        ],
                        "passed_time": 0.5338807901,
                        "iteration": 247,
                        "remaining_time": 0.1119427463,
                        "learn": [
                          186.3905997
                        ]
                      },
                      {
                        "test": [
                          154.7233515
                        ],
                        "passed_time": 0.5357953195,
                        "iteration": 248,
                        "remaining_time": 0.10974121,
                        "learn": [
                          186.3833832
                        ]
                      },
                      {
                        "test": [
                          154.7009741
                        ],
                        "passed_time": 0.5377527378,
                        "iteration": 249,
                        "remaining_time": 0.1075505476,
                        "learn": [
                          186.3671704
                        ]
                      },
                      {
                        "test": [
                          154.6939786
                        ],
                        "passed_time": 0.5396907494,
                        "iteration": 250,
                        "remaining_time": 0.1053579551,
                        "learn": [
                          186.3608298
                        ]
                      },
                      {
                        "test": [
                          154.696459
                        ],
                        "passed_time": 0.5438163168,
                        "iteration": 251,
                        "remaining_time": 0.1035840603,
                        "learn": [
                          186.3532836
                        ]
                      },
                      {
                        "test": [
                          154.689278
                        ],
                        "passed_time": 0.5465479518,
                        "iteration": 252,
                        "remaining_time": 0.1015326235,
                        "learn": [
                          186.348189
                        ]
                      },
                      {
                        "test": [
                          154.684297
                        ],
                        "passed_time": 0.5484995812,
                        "iteration": 253,
                        "remaining_time": 0.09933456983,
                        "learn": [
                          186.345445
                        ]
                      },
                      {
                        "test": [
                          154.6851302
                        ],
                        "passed_time": 0.550745952,
                        "iteration": 254,
                        "remaining_time": 0.09719046212,
                        "learn": [
                          186.3323342
                        ]
                      },
                      {
                        "test": [
                          154.6574912
                        ],
                        "passed_time": 0.5527351824,
                        "iteration": 255,
                        "remaining_time": 0.09500135948,
                        "learn": [
                          186.3110879
                        ]
                      },
                      {
                        "test": [
                          154.647556
                        ],
                        "passed_time": 0.5545744962,
                        "iteration": 256,
                        "remaining_time": 0.09278872894,
                        "learn": [
                          186.2939212
                        ]
                      },
                      {
                        "test": [
                          154.6458538
                        ],
                        "passed_time": 0.5565299356,
                        "iteration": 257,
                        "remaining_time": 0.09059789649,
                        "learn": [
                          186.292121
                        ]
                      },
                      {
                        "test": [
                          154.6594241
                        ],
                        "passed_time": 0.5590833238,
                        "iteration": 258,
                        "remaining_time": 0.08850353775,
                        "learn": [
                          186.2365259
                        ]
                      },
                      {
                        "test": [
                          154.6428251
                        ],
                        "passed_time": 0.5612391549,
                        "iteration": 259,
                        "remaining_time": 0.08634448537,
                        "learn": [
                          186.2143848
                        ]
                      },
                      {
                        "test": [
                          154.6442297
                        ],
                        "passed_time": 0.5631550788,
                        "iteration": 260,
                        "remaining_time": 0.08414960948,
                        "learn": [
                          186.2128586
                        ]
                      },
                      {
                        "test": [
                          154.6538963
                        ],
                        "passed_time": 0.5654051459,
                        "iteration": 261,
                        "remaining_time": 0.0820053265,
                        "learn": [
                          186.2079734
                        ]
                      },
                      {
                        "test": [
                          154.6557382
                        ],
                        "passed_time": 0.567383411,
                        "iteration": 262,
                        "remaining_time": 0.07982200079,
                        "learn": [
                          186.2050406
                        ]
                      },
                      {
                        "test": [
                          154.667165
                        ],
                        "passed_time": 0.5696384507,
                        "iteration": 263,
                        "remaining_time": 0.07767797056,
                        "learn": [
                          186.1975467
                        ]
                      },
                      {
                        "test": [
                          154.6642802
                        ],
                        "passed_time": 0.5716647584,
                        "iteration": 264,
                        "remaining_time": 0.07550289262,
                        "learn": [
                          186.1874068
                        ]
                      },
                      {
                        "test": [
                          154.6554441
                        ],
                        "passed_time": 0.5740114669,
                        "iteration": 265,
                        "remaining_time": 0.07336988675,
                        "learn": [
                          186.1684825
                        ]
                      },
                      {
                        "test": [
                          154.6578164
                        ],
                        "passed_time": 0.5759628936,
                        "iteration": 266,
                        "remaining_time": 0.07118642505,
                        "learn": [
                          186.1551588
                        ]
                      },
                      {
                        "test": [
                          154.6559354
                        ],
                        "passed_time": 0.5779793961,
                        "iteration": 267,
                        "remaining_time": 0.06901246521,
                        "learn": [
                          186.1493239
                        ]
                      },
                      {
                        "test": [
                          154.6613516
                        ],
                        "passed_time": 0.5799774935,
                        "iteration": 268,
                        "remaining_time": 0.06683755502,
                        "learn": [
                          186.1374635
                        ]
                      },
                      {
                        "test": [
                          154.6612935
                        ],
                        "passed_time": 0.5818953774,
                        "iteration": 269,
                        "remaining_time": 0.06465504193,
                        "learn": [
                          186.1362765
                        ]
                      },
                      {
                        "test": [
                          154.6662155
                        ],
                        "passed_time": 0.5839270368,
                        "iteration": 270,
                        "remaining_time": 0.06248665707,
                        "learn": [
                          186.129275
                        ]
                      },
                      {
                        "test": [
                          154.6559272
                        ],
                        "passed_time": 0.5860849169,
                        "iteration": 271,
                        "remaining_time": 0.06033227086,
                        "learn": [
                          186.1224241
                        ]
                      },
                      {
                        "test": [
                          154.6546815
                        ],
                        "passed_time": 0.58830866,
                        "iteration": 272,
                        "remaining_time": 0.05818437297,
                        "learn": [
                          186.1208033
                        ]
                      },
                      {
                        "test": [
                          154.6550836
                        ],
                        "passed_time": 0.5902756973,
                        "iteration": 273,
                        "remaining_time": 0.05601156252,
                        "learn": [
                          186.1111866
                        ]
                      },
                      {
                        "test": [
                          154.6548923
                        ],
                        "passed_time": 0.5922113744,
                        "iteration": 274,
                        "remaining_time": 0.05383739767,
                        "learn": [
                          186.1074394
                        ]
                      },
                      {
                        "test": [
                          154.6606941
                        ],
                        "passed_time": 0.5941570085,
                        "iteration": 275,
                        "remaining_time": 0.05166582682,
                        "learn": [
                          185.9822505
                        ]
                      },
                      {
                        "test": [
                          154.653549
                        ],
                        "passed_time": 0.5961404235,
                        "iteration": 276,
                        "remaining_time": 0.04949902434,
                        "learn": [
                          185.9700314
                        ]
                      },
                      {
                        "test": [
                          154.6487876
                        ],
                        "passed_time": 0.5980733761,
                        "iteration": 277,
                        "remaining_time": 0.04732954775,
                        "learn": [
                          185.968557
                        ]
                      },
                      {
                        "test": [
                          154.6514745
                        ],
                        "passed_time": 0.6000084814,
                        "iteration": 278,
                        "remaining_time": 0.04516192871,
                        "learn": [
                          185.956919
                        ]
                      },
                      {
                        "test": [
                          154.656
                        ],
                        "passed_time": 0.6019548328,
                        "iteration": 279,
                        "remaining_time": 0.04299677377,
                        "learn": [
                          185.9497281
                        ]
                      },
                      {
                        "test": [
                          154.6662302
                        ],
                        "passed_time": 0.6038623932,
                        "iteration": 280,
                        "remaining_time": 0.04083055328,
                        "learn": [
                          185.9360335
                        ]
                      },
                      {
                        "test": [
                          154.6664694
                        ],
                        "passed_time": 0.6058482319,
                        "iteration": 281,
                        "remaining_time": 0.03867116374,
                        "learn": [
                          185.9195563
                        ]
                      },
                      {
                        "test": [
                          154.6683587
                        ],
                        "passed_time": 0.6078144719,
                        "iteration": 282,
                        "remaining_time": 0.0365118234,
                        "learn": [
                          185.8882353
                        ]
                      },
                      {
                        "test": [
                          154.6674433
                        ],
                        "passed_time": 0.6097718439,
                        "iteration": 283,
                        "remaining_time": 0.03435334332,
                        "learn": [
                          185.8284819
                        ]
                      },
                      {
                        "test": [
                          154.6713279
                        ],
                        "passed_time": 0.6116981903,
                        "iteration": 284,
                        "remaining_time": 0.03219464159,
                        "learn": [
                          185.827019
                        ]
                      },
                      {
                        "test": [
                          154.673007
                        ],
                        "passed_time": 0.613696375,
                        "iteration": 285,
                        "remaining_time": 0.03004108129,
                        "learn": [
                          185.7888325
                        ]
                      },
                      {
                        "test": [
                          154.6722765
                        ],
                        "passed_time": 0.6156771319,
                        "iteration": 286,
                        "remaining_time": 0.02788781434,
                        "learn": [
                          185.7812387
                        ]
                      },
                      {
                        "test": [
                          154.6776372
                        ],
                        "passed_time": 0.6176442683,
                        "iteration": 287,
                        "remaining_time": 0.02573517784,
                        "learn": [
                          185.776253
                        ]
                      },
                      {
                        "test": [
                          154.6723539
                        ],
                        "passed_time": 0.6196291269,
                        "iteration": 288,
                        "remaining_time": 0.02358449964,
                        "learn": [
                          185.7700178
                        ]
                      },
                      {
                        "test": [
                          154.6746748
                        ],
                        "passed_time": 0.621569053,
                        "iteration": 289,
                        "remaining_time": 0.02143341562,
                        "learn": [
                          185.7625951
                        ]
                      },
                      {
                        "test": [
                          154.6802963
                        ],
                        "passed_time": 0.6235034619,
                        "iteration": 290,
                        "remaining_time": 0.01928361222,
                        "learn": [
                          185.6415266
                        ]
                      },
                      {
                        "test": [
                          154.6859699
                        ],
                        "passed_time": 0.625425302,
                        "iteration": 291,
                        "remaining_time": 0.01713493978,
                        "learn": [
                          185.5226334
                        ]
                      },
                      {
                        "test": [
                          154.6860467
                        ],
                        "passed_time": 0.6273452367,
                        "iteration": 292,
                        "remaining_time": 0.01498777016,
                        "learn": [
                          185.5225622
                        ]
                      },
                      {
                        "test": [
                          154.7034562
                        ],
                        "passed_time": 0.6299467093,
                        "iteration": 293,
                        "remaining_time": 0.01285605529,
                        "learn": [
                          185.5010337
                        ]
                      },
                      {
                        "test": [
                          154.7053287
                        ],
                        "passed_time": 0.6319544584,
                        "iteration": 294,
                        "remaining_time": 0.01071109251,
                        "learn": [
                          185.471088
                        ]
                      },
                      {
                        "test": [
                          154.7080139
                        ],
                        "passed_time": 0.6338520909,
                        "iteration": 295,
                        "remaining_time": 0.008565568795,
                        "learn": [
                          185.4660193
                        ]
                      },
                      {
                        "test": [
                          154.6774765
                        ],
                        "passed_time": 0.6356895211,
                        "iteration": 296,
                        "remaining_time": 0.006421106274,
                        "learn": [
                          185.451109
                        ]
                      },
                      {
                        "test": [
                          154.6802356
                        ],
                        "passed_time": 0.6374040133,
                        "iteration": 297,
                        "remaining_time": 0.004277879284,
                        "learn": [
                          185.4498576
                        ]
                      },
                      {
                        "test": [
                          154.6996515
                        ],
                        "passed_time": 0.6392832226,
                        "iteration": 298,
                        "remaining_time": 0.002138070979,
                        "learn": [
                          185.4213959
                        ]
                      },
                      {
                        "test": [
                          154.7009011
                        ],
                        "passed_time": 0.6413838558,
                        "iteration": 299,
                        "remaining_time": 0,
                        "learn": [
                          185.4171451
                        ]
                      }
                    ]
                  },
                  "total_iterations": 300,
                  "passed_iterations": 299
                },
                "path": "catboost_info/fold-3",
                "name": "fold-3"
              },
              "catboost_info/fold-2": {
                "content": {
                  "data": {
                    "meta": {
                      "name": "experiment",
                      "parameters": "",
                      "test_metrics": [
                        {
                          "best_value": "Min",
                          "name": "RMSE"
                        }
                      ],
                      "learn_sets": [
                        "learn"
                      ],
                      "launch_mode": "Train",
                      "learn_metrics": [
                        {
                          "best_value": "Min",
                          "name": "RMSE"
                        }
                      ],
                      "iteration_count": 300,
                      "test_sets": [
                        "test"
                      ]
                    },
                    "iterations": [
                      {
                        "test": [
                          351.353922
                        ],
                        "passed_time": 0.001531577322,
                        "iteration": 0,
                        "remaining_time": 0.4579416192,
                        "learn": [
                          320.3219089
                        ]
                      },
                      {
                        "test": [
                          345.3168838
                        ],
                        "passed_time": 0.005373849409,
                        "iteration": 1,
                        "remaining_time": 0.8007035619,
                        "learn": [
                          313.6250367
                        ]
                      },
                      {
                        "test": [
                          339.5299265
                        ],
                        "passed_time": 0.00847854491,
                        "iteration": 2,
                        "remaining_time": 0.8393759461,
                        "learn": [
                          307.1870392
                        ]
                      },
                      {
                        "test": [
                          334.00662
                        ],
                        "passed_time": 0.01202248753,
                        "iteration": 3,
                        "remaining_time": 0.8896640772,
                        "learn": [
                          300.9918697
                        ]
                      },
                      {
                        "test": [
                          328.78262
                        ],
                        "passed_time": 0.01344956,
                        "iteration": 4,
                        "remaining_time": 0.7935240397,
                        "learn": [
                          295.1499181
                        ]
                      },
                      {
                        "test": [
                          323.7515986
                        ],
                        "passed_time": 0.01564794645,
                        "iteration": 5,
                        "remaining_time": 0.7667493759,
                        "learn": [
                          289.4436616
                        ]
                      },
                      {
                        "test": [
                          319.1380268
                        ],
                        "passed_time": 0.0164934569,
                        "iteration": 6,
                        "remaining_time": 0.6903689818,
                        "learn": [
                          284.29324
                        ]
                      },
                      {
                        "test": [
                          314.4928906
                        ],
                        "passed_time": 0.01826341417,
                        "iteration": 7,
                        "remaining_time": 0.6666146171,
                        "learn": [
                          279.0078774
                        ]
                      },
                      {
                        "test": [
                          310.0879301
                        ],
                        "passed_time": 0.02069356617,
                        "iteration": 8,
                        "remaining_time": 0.6690919729,
                        "learn": [
                          273.9550469
                        ]
                      },
                      {
                        "test": [
                          305.8965648
                        ],
                        "passed_time": 0.02262431336,
                        "iteration": 9,
                        "remaining_time": 0.6561050873,
                        "learn": [
                          269.1037891
                        ]
                      },
                      {
                        "test": [
                          301.8438309
                        ],
                        "passed_time": 0.02458579983,
                        "iteration": 10,
                        "remaining_time": 0.6459360137,
                        "learn": [
                          264.4565357
                        ]
                      },
                      {
                        "test": [
                          298.0303114
                        ],
                        "passed_time": 0.02661118846,
                        "iteration": 11,
                        "remaining_time": 0.6386685231,
                        "learn": [
                          260.0133412
                        ]
                      },
                      {
                        "test": [
                          294.3753398
                        ],
                        "passed_time": 0.02868306875,
                        "iteration": 12,
                        "remaining_time": 0.6332339024,
                        "learn": [
                          255.7658
                        ]
                      },
                      {
                        "test": [
                          290.9692553
                        ],
                        "passed_time": 0.03067026554,
                        "iteration": 13,
                        "remaining_time": 0.6265497103,
                        "learn": [
                          251.6906614
                        ]
                      },
                      {
                        "test": [
                          287.6520409
                        ],
                        "passed_time": 0.03263874822,
                        "iteration": 14,
                        "remaining_time": 0.6201362161,
                        "learn": [
                          247.7926042
                        ]
                      },
                      {
                        "test": [
                          284.4845924
                        ],
                        "passed_time": 0.03475952737,
                        "iteration": 15,
                        "remaining_time": 0.6169816108,
                        "learn": [
                          244.1222035
                        ]
                      },
                      {
                        "test": [
                          281.5311268
                        ],
                        "passed_time": 0.03746159673,
                        "iteration": 16,
                        "remaining_time": 0.6236254043,
                        "learn": [
                          240.6553755
                        ]
                      },
                      {
                        "test": [
                          278.6949063
                        ],
                        "passed_time": 0.03963662008,
                        "iteration": 17,
                        "remaining_time": 0.6209737146,
                        "learn": [
                          237.3318773
                        ]
                      },
                      {
                        "test": [
                          275.9711322
                        ],
                        "passed_time": 0.04102730793,
                        "iteration": 18,
                        "remaining_time": 0.606772291,
                        "learn": [
                          234.0802906
                        ]
                      },
                      {
                        "test": [
                          273.3958757
                        ],
                        "passed_time": 0.04322586984,
                        "iteration": 19,
                        "remaining_time": 0.6051621777,
                        "learn": [
                          230.9865956
                        ]
                      },
                      {
                        "test": [
                          270.949904
                        ],
                        "passed_time": 0.04567444869,
                        "iteration": 20,
                        "remaining_time": 0.6068176754,
                        "learn": [
                          228.030322
                        ]
                      },
                      {
                        "test": [
                          268.6664381
                        ],
                        "passed_time": 0.04750471183,
                        "iteration": 21,
                        "remaining_time": 0.6002868131,
                        "learn": [
                          225.2138103
                        ]
                      },
                      {
                        "test": [
                          266.4403296
                        ],
                        "passed_time": 0.04948960504,
                        "iteration": 22,
                        "remaining_time": 0.5960269824,
                        "learn": [
                          222.5181811
                        ]
                      },
                      {
                        "test": [
                          264.3414781
                        ],
                        "passed_time": 0.05148830429,
                        "iteration": 23,
                        "remaining_time": 0.5921154993,
                        "learn": [
                          219.9610023
                        ]
                      },
                      {
                        "test": [
                          262.341077
                        ],
                        "passed_time": 0.05349428792,
                        "iteration": 24,
                        "remaining_time": 0.5884371671,
                        "learn": [
                          217.5213133
                        ]
                      },
                      {
                        "test": [
                          260.4473729
                        ],
                        "passed_time": 0.05542709687,
                        "iteration": 25,
                        "remaining_time": 0.5841163286,
                        "learn": [
                          215.1996579
                        ]
                      },
                      {
                        "test": [
                          258.6588348
                        ],
                        "passed_time": 0.05738066535,
                        "iteration": 26,
                        "remaining_time": 0.580182283,
                        "learn": [
                          212.9963952
                        ]
                      },
                      {
                        "test": [
                          256.9479059
                        ],
                        "passed_time": 0.05963974494,
                        "iteration": 27,
                        "remaining_time": 0.5793575223,
                        "learn": [
                          210.8848431
                        ]
                      },
                      {
                        "test": [
                          255.3315077
                        ],
                        "passed_time": 0.06167471426,
                        "iteration": 28,
                        "remaining_time": 0.5763395712,
                        "learn": [
                          208.8678916
                        ]
                      },
                      {
                        "test": [
                          253.8038455
                        ],
                        "passed_time": 0.06370813998,
                        "iteration": 29,
                        "remaining_time": 0.5733732599,
                        "learn": [
                          206.9753442
                        ]
                      },
                      {
                        "test": [
                          252.3551181
                        ],
                        "passed_time": 0.06555571182,
                        "iteration": 30,
                        "remaining_time": 0.5688544026,
                        "learn": [
                          205.1569361
                        ]
                      },
                      {
                        "test": [
                          250.9751002
                        ],
                        "passed_time": 0.06754010867,
                        "iteration": 31,
                        "remaining_time": 0.5656484101,
                        "learn": [
                          203.4381061
                        ]
                      },
                      {
                        "test": [
                          249.6876252
                        ],
                        "passed_time": 0.06948097653,
                        "iteration": 32,
                        "remaining_time": 0.5621642647,
                        "learn": [
                          201.8151982
                        ]
                      },
                      {
                        "test": [
                          248.4711476
                        ],
                        "passed_time": 0.07084795039,
                        "iteration": 33,
                        "remaining_time": 0.5542810236,
                        "learn": [
                          200.2760419
                        ]
                      },
                      {
                        "test": [
                          247.3126497
                        ],
                        "passed_time": 0.07307746521,
                        "iteration": 34,
                        "remaining_time": 0.553300808,
                        "learn": [
                          198.8138299
                        ]
                      },
                      {
                        "test": [
                          246.2279831
                        ],
                        "passed_time": 0.07522308743,
                        "iteration": 35,
                        "remaining_time": 0.5516359745,
                        "learn": [
                          197.4276683
                        ]
                      },
                      {
                        "test": [
                          245.2007205
                        ],
                        "passed_time": 0.07660012469,
                        "iteration": 36,
                        "remaining_time": 0.5444819674,
                        "learn": [
                          196.116297
                        ]
                      },
                      {
                        "test": [
                          244.2360868
                        ],
                        "passed_time": 0.07899874106,
                        "iteration": 37,
                        "remaining_time": 0.5446755304,
                        "learn": [
                          194.8608469
                        ]
                      },
                      {
                        "test": [
                          243.3504413
                        ],
                        "passed_time": 0.07985115499,
                        "iteration": 38,
                        "remaining_time": 0.5343884988,
                        "learn": [
                          193.7707833
                        ]
                      },
                      {
                        "test": [
                          242.4981564
                        ],
                        "passed_time": 0.08118907133,
                        "iteration": 39,
                        "remaining_time": 0.5277289637,
                        "learn": [
                          192.7082153
                        ]
                      },
                      {
                        "test": [
                          241.6827015
                        ],
                        "passed_time": 0.08316427294,
                        "iteration": 40,
                        "remaining_time": 0.5253547974,
                        "learn": [
                          191.6442463
                        ]
                      },
                      {
                        "test": [
                          240.9092284
                        ],
                        "passed_time": 0.0852340751,
                        "iteration": 41,
                        "remaining_time": 0.523580747,
                        "learn": [
                          190.6738248
                        ]
                      },
                      {
                        "test": [
                          240.1778521
                        ],
                        "passed_time": 0.08720244505,
                        "iteration": 42,
                        "remaining_time": 0.5211867064,
                        "learn": [
                          189.7156896
                        ]
                      },
                      {
                        "test": [
                          239.4790819
                        ],
                        "passed_time": 0.08858837483,
                        "iteration": 43,
                        "remaining_time": 0.5154232717,
                        "learn": [
                          188.8467467
                        ]
                      },
                      {
                        "test": [
                          238.7656994
                        ],
                        "passed_time": 0.09150655828,
                        "iteration": 44,
                        "remaining_time": 0.5185371636,
                        "learn": [
                          187.8962466
                        ]
                      },
                      {
                        "test": [
                          238.1207893
                        ],
                        "passed_time": 0.09350838109,
                        "iteration": 45,
                        "remaining_time": 0.5163288869,
                        "learn": [
                          186.993136
                        ]
                      },
                      {
                        "test": [
                          237.5504002
                        ],
                        "passed_time": 0.09551922824,
                        "iteration": 46,
                        "remaining_time": 0.5141779733,
                        "learn": [
                          186.2268609
                        ]
                      },
                      {
                        "test": [
                          237.0014225
                        ],
                        "passed_time": 0.09832951146,
                        "iteration": 47,
                        "remaining_time": 0.5162299352,
                        "learn": [
                          185.4479186
                        ]
                      },
                      {
                        "test": [
                          236.4794774
                        ],
                        "passed_time": 0.1003977118,
                        "iteration": 48,
                        "remaining_time": 0.5142821565,
                        "learn": [
                          184.8051852
                        ]
                      },
                      {
                        "test": [
                          235.9724473
                        ],
                        "passed_time": 0.1024415537,
                        "iteration": 49,
                        "remaining_time": 0.5122077684,
                        "learn": [
                          184.1316393
                        ]
                      },
                      {
                        "test": [
                          235.4500194
                        ],
                        "passed_time": 0.10441002,
                        "iteration": 50,
                        "remaining_time": 0.5097665682,
                        "learn": [
                          183.4093032
                        ]
                      },
                      {
                        "test": [
                          234.9698453
                        ],
                        "passed_time": 0.1067436897,
                        "iteration": 51,
                        "remaining_time": 0.5090852892,
                        "learn": [
                          182.7406313
                        ]
                      },
                      {
                        "test": [
                          234.5031493
                        ],
                        "passed_time": 0.1088656606,
                        "iteration": 52,
                        "remaining_time": 0.5073550599,
                        "learn": [
                          182.0981566
                        ]
                      },
                      {
                        "test": [
                          234.0539168
                        ],
                        "passed_time": 0.1108712743,
                        "iteration": 53,
                        "remaining_time": 0.5050802494,
                        "learn": [
                          181.5252819
                        ]
                      },
                      {
                        "test": [
                          233.6043251
                        ],
                        "passed_time": 0.113052482,
                        "iteration": 54,
                        "remaining_time": 0.5035974199,
                        "learn": [
                          180.950788
                        ]
                      },
                      {
                        "test": [
                          233.2086627
                        ],
                        "passed_time": 0.1164599814,
                        "iteration": 55,
                        "remaining_time": 0.5074327762,
                        "learn": [
                          180.4078822
                        ]
                      },
                      {
                        "test": [
                          232.8703033
                        ],
                        "passed_time": 0.1191491693,
                        "iteration": 56,
                        "remaining_time": 0.5079517216,
                        "learn": [
                          179.9415152
                        ]
                      },
                      {
                        "test": [
                          232.5072701
                        ],
                        "passed_time": 0.126951148,
                        "iteration": 57,
                        "remaining_time": 0.5296927209,
                        "learn": [
                          179.4716644
                        ]
                      },
                      {
                        "test": [
                          232.164473
                        ],
                        "passed_time": 0.1322972335,
                        "iteration": 58,
                        "remaining_time": 0.540400564,
                        "learn": [
                          179.0326032
                        ]
                      },
                      {
                        "test": [
                          231.8602793
                        ],
                        "passed_time": 0.1349251209,
                        "iteration": 59,
                        "remaining_time": 0.5397004837,
                        "learn": [
                          178.5983071
                        ]
                      },
                      {
                        "test": [
                          231.5691024
                        ],
                        "passed_time": 0.1371936921,
                        "iteration": 60,
                        "remaining_time": 0.5375293839,
                        "learn": [
                          178.204999
                        ]
                      },
                      {
                        "test": [
                          231.3288833
                        ],
                        "passed_time": 0.1392797057,
                        "iteration": 61,
                        "remaining_time": 0.5346543542,
                        "learn": [
                          177.8452201
                        ]
                      },
                      {
                        "test": [
                          231.0964329
                        ],
                        "passed_time": 0.1412597881,
                        "iteration": 62,
                        "remaining_time": 0.5314058696,
                        "learn": [
                          177.5037326
                        ]
                      },
                      {
                        "test": [
                          230.8277438
                        ],
                        "passed_time": 0.1432640409,
                        "iteration": 63,
                        "remaining_time": 0.5282861508,
                        "learn": [
                          177.1684094
                        ]
                      },
                      {
                        "test": [
                          230.5960091
                        ],
                        "passed_time": 0.1452775934,
                        "iteration": 64,
                        "remaining_time": 0.5252343762,
                        "learn": [
                          176.8292373
                        ]
                      },
                      {
                        "test": [
                          230.3568549
                        ],
                        "passed_time": 0.1475083764,
                        "iteration": 65,
                        "remaining_time": 0.5229842436,
                        "learn": [
                          176.5023505
                        ]
                      },
                      {
                        "test": [
                          230.1468291
                        ],
                        "passed_time": 0.1494554796,
                        "iteration": 66,
                        "remaining_time": 0.5197481603,
                        "learn": [
                          176.2005829
                        ]
                      },
                      {
                        "test": [
                          229.9504187
                        ],
                        "passed_time": 0.1512531226,
                        "iteration": 67,
                        "remaining_time": 0.5160400652,
                        "learn": [
                          175.9022975
                        ]
                      },
                      {
                        "test": [
                          229.7665218
                        ],
                        "passed_time": 0.1531958849,
                        "iteration": 68,
                        "remaining_time": 0.51287318,
                        "learn": [
                          175.6271127
                        ]
                      },
                      {
                        "test": [
                          229.5912563
                        ],
                        "passed_time": 0.1549870053,
                        "iteration": 69,
                        "remaining_time": 0.5092430176,
                        "learn": [
                          175.377809
                        ]
                      },
                      {
                        "test": [
                          229.4428122
                        ],
                        "passed_time": 0.1574416704,
                        "iteration": 70,
                        "remaining_time": 0.5078048243,
                        "learn": [
                          175.1631312
                        ]
                      },
                      {
                        "test": [
                          229.257503
                        ],
                        "passed_time": 0.159432008,
                        "iteration": 71,
                        "remaining_time": 0.5048680255,
                        "learn": [
                          174.925078
                        ]
                      },
                      {
                        "test": [
                          229.1101762
                        ],
                        "passed_time": 0.1613293333,
                        "iteration": 72,
                        "remaining_time": 0.5016679267,
                        "learn": [
                          174.7214176
                        ]
                      },
                      {
                        "test": [
                          228.9795321
                        ],
                        "passed_time": 0.1633152274,
                        "iteration": 73,
                        "remaining_time": 0.4987735322,
                        "learn": [
                          174.5111176
                        ]
                      },
                      {
                        "test": [
                          228.8390939
                        ],
                        "passed_time": 0.1652695231,
                        "iteration": 74,
                        "remaining_time": 0.4958085693,
                        "learn": [
                          174.325929
                        ]
                      },
                      {
                        "test": [
                          228.7342884
                        ],
                        "passed_time": 0.1684089023,
                        "iteration": 75,
                        "remaining_time": 0.4963630806,
                        "learn": [
                          174.1673931
                        ]
                      },
                      {
                        "test": [
                          228.6217914
                        ],
                        "passed_time": 0.1712776842,
                        "iteration": 76,
                        "remaining_time": 0.4960379685,
                        "learn": [
                          174.0018143
                        ]
                      },
                      {
                        "test": [
                          228.5067184
                        ],
                        "passed_time": 0.1732203893,
                        "iteration": 77,
                        "remaining_time": 0.4930118772,
                        "learn": [
                          173.8582834
                        ]
                      },
                      {
                        "test": [
                          228.4010036
                        ],
                        "passed_time": 0.1751759832,
                        "iteration": 78,
                        "remaining_time": 0.4900492694,
                        "learn": [
                          173.6882771
                        ]
                      },
                      {
                        "test": [
                          228.3199264
                        ],
                        "passed_time": 0.1771582664,
                        "iteration": 79,
                        "remaining_time": 0.4871852327,
                        "learn": [
                          173.5733446
                        ]
                      },
                      {
                        "test": [
                          228.2313056
                        ],
                        "passed_time": 0.1791013197,
                        "iteration": 80,
                        "remaining_time": 0.4842369014,
                        "learn": [
                          173.4386771
                        ]
                      },
                      {
                        "test": [
                          228.1255113
                        ],
                        "passed_time": 0.1809484934,
                        "iteration": 81,
                        "remaining_time": 0.4810581897,
                        "learn": [
                          173.2828772
                        ]
                      },
                      {
                        "test": [
                          228.0244823
                        ],
                        "passed_time": 0.1823100446,
                        "iteration": 82,
                        "remaining_time": 0.4766419239,
                        "learn": [
                          173.1662077
                        ]
                      },
                      {
                        "test": [
                          227.9465024
                        ],
                        "passed_time": 0.1842579541,
                        "iteration": 83,
                        "remaining_time": 0.4738061678,
                        "learn": [
                          173.0513996
                        ]
                      },
                      {
                        "test": [
                          227.8605547
                        ],
                        "passed_time": 0.1862366002,
                        "iteration": 84,
                        "remaining_time": 0.4710690476,
                        "learn": [
                          172.9374761
                        ]
                      },
                      {
                        "test": [
                          227.7865716
                        ],
                        "passed_time": 0.188197114,
                        "iteration": 85,
                        "remaining_time": 0.4683044464,
                        "learn": [
                          172.8145425
                        ]
                      },
                      {
                        "test": [
                          227.7038477
                        ],
                        "passed_time": 0.1900899693,
                        "iteration": 86,
                        "remaining_time": 0.4653926835,
                        "learn": [
                          172.6963426
                        ]
                      },
                      {
                        "test": [
                          227.6388934
                        ],
                        "passed_time": 0.1920492577,
                        "iteration": 87,
                        "remaining_time": 0.4626641207,
                        "learn": [
                          172.5897449
                        ]
                      },
                      {
                        "test": [
                          227.5720781
                        ],
                        "passed_time": 0.1944259845,
                        "iteration": 88,
                        "remaining_time": 0.4609425027,
                        "learn": [
                          172.4804113
                        ]
                      },
                      {
                        "test": [
                          227.5092999
                        ],
                        "passed_time": 0.1963780412,
                        "iteration": 89,
                        "remaining_time": 0.4582154295,
                        "learn": [
                          172.3829644
                        ]
                      },
                      {
                        "test": [
                          227.4596452
                        ],
                        "passed_time": 0.1977661755,
                        "iteration": 90,
                        "remaining_time": 0.4542102273,
                        "learn": [
                          172.3108998
                        ]
                      },
                      {
                        "test": [
                          227.4202782
                        ],
                        "passed_time": 0.1997264238,
                        "iteration": 91,
                        "remaining_time": 0.451555393,
                        "learn": [
                          172.2206115
                        ]
                      },
                      {
                        "test": [
                          227.3631705
                        ],
                        "passed_time": 0.2017292866,
                        "iteration": 92,
                        "remaining_time": 0.4490103476,
                        "learn": [
                          172.1386537
                        ]
                      },
                      {
                        "test": [
                          227.3036868
                        ],
                        "passed_time": 0.2037431364,
                        "iteration": 93,
                        "remaining_time": 0.446500916,
                        "learn": [
                          172.0566554
                        ]
                      },
                      {
                        "test": [
                          227.2465883
                        ],
                        "passed_time": 0.2055366122,
                        "iteration": 94,
                        "remaining_time": 0.4435263738,
                        "learn": [
                          171.9906931
                        ]
                      },
                      {
                        "test": [
                          227.167378
                        ],
                        "passed_time": 0.2075133993,
                        "iteration": 95,
                        "remaining_time": 0.4409659734,
                        "learn": [
                          171.9196127
                        ]
                      },
                      {
                        "test": [
                          227.1114888
                        ],
                        "passed_time": 0.2088821204,
                        "iteration": 96,
                        "remaining_time": 0.437145056,
                        "learn": [
                          171.8616021
                        ]
                      },
                      {
                        "test": [
                          227.0599779
                        ],
                        "passed_time": 0.2108198074,
                        "iteration": 97,
                        "remaining_time": 0.4345469499,
                        "learn": [
                          171.8003088
                        ]
                      },
                      {
                        "test": [
                          227.0103754
                        ],
                        "passed_time": 0.212999887,
                        "iteration": 98,
                        "remaining_time": 0.432454316,
                        "learn": [
                          171.74845
                        ]
                      },
                      {
                        "test": [
                          226.9786345
                        ],
                        "passed_time": 0.2149777285,
                        "iteration": 99,
                        "remaining_time": 0.4299554571,
                        "learn": [
                          171.6624451
                        ]
                      },
                      {
                        "test": [
                          226.944581
                        ],
                        "passed_time": 0.2167563665,
                        "iteration": 100,
                        "remaining_time": 0.4270744251,
                        "learn": [
                          171.6174241
                        ]
                      },
                      {
                        "test": [
                          226.8924984
                        ],
                        "passed_time": 0.2304824865,
                        "iteration": 101,
                        "remaining_time": 0.4474071796,
                        "learn": [
                          171.5461819
                        ]
                      },
                      {
                        "test": [
                          226.8642484
                        ],
                        "passed_time": 0.2328296604,
                        "iteration": 102,
                        "remaining_time": 0.4453149815,
                        "learn": [
                          171.4921876
                        ]
                      },
                      {
                        "test": [
                          226.840936
                        ],
                        "passed_time": 0.2339615206,
                        "iteration": 103,
                        "remaining_time": 0.4409274811,
                        "learn": [
                          171.4681677
                        ]
                      },
                      {
                        "test": [
                          226.8122532
                        ],
                        "passed_time": 0.2363070636,
                        "iteration": 104,
                        "remaining_time": 0.4388559753,
                        "learn": [
                          171.4213649
                        ]
                      },
                      {
                        "test": [
                          226.7844811
                        ],
                        "passed_time": 0.2382600249,
                        "iteration": 105,
                        "remaining_time": 0.4360608002,
                        "learn": [
                          171.3759686
                        ]
                      },
                      {
                        "test": [
                          226.7315112
                        ],
                        "passed_time": 0.2402186096,
                        "iteration": 106,
                        "remaining_time": 0.4332915107,
                        "learn": [
                          171.3192477
                        ]
                      },
                      {
                        "test": [
                          226.6999007
                        ],
                        "passed_time": 0.2421730135,
                        "iteration": 107,
                        "remaining_time": 0.4305298018,
                        "learn": [
                          171.2700511
                        ]
                      },
                      {
                        "test": [
                          226.6791526
                        ],
                        "passed_time": 0.2441640238,
                        "iteration": 108,
                        "remaining_time": 0.4278470509,
                        "learn": [
                          171.2223676
                        ]
                      },
                      {
                        "test": [
                          226.6625401
                        ],
                        "passed_time": 0.2461143869,
                        "iteration": 109,
                        "remaining_time": 0.4251066683,
                        "learn": [
                          171.169942
                        ]
                      },
                      {
                        "test": [
                          226.6462589
                        ],
                        "passed_time": 0.2469593783,
                        "iteration": 110,
                        "remaining_time": 0.4204984009,
                        "learn": [
                          171.1541813
                        ]
                      },
                      {
                        "test": [
                          226.623845
                        ],
                        "passed_time": 0.2487686828,
                        "iteration": 111,
                        "remaining_time": 0.4175760033,
                        "learn": [
                          171.1244236
                        ]
                      },
                      {
                        "test": [
                          226.5878569
                        ],
                        "passed_time": 0.2507062408,
                        "iteration": 112,
                        "remaining_time": 0.4148855489,
                        "learn": [
                          171.0743631
                        ]
                      },
                      {
                        "test": [
                          226.5544036
                        ],
                        "passed_time": 0.2526228847,
                        "iteration": 113,
                        "remaining_time": 0.4121741802,
                        "learn": [
                          171.0446623
                        ]
                      },
                      {
                        "test": [
                          226.5359317
                        ],
                        "passed_time": 0.2545915255,
                        "iteration": 114,
                        "remaining_time": 0.4095602802,
                        "learn": [
                          171.0113014
                        ]
                      },
                      {
                        "test": [
                          226.5160318
                        ],
                        "passed_time": 0.2564953288,
                        "iteration": 115,
                        "remaining_time": 0.4068546594,
                        "learn": [
                          170.9809549
                        ]
                      },
                      {
                        "test": [
                          226.5008287
                        ],
                        "passed_time": 0.2584341121,
                        "iteration": 116,
                        "remaining_time": 0.4042174574,
                        "learn": [
                          170.9564573
                        ]
                      },
                      {
                        "test": [
                          226.489748
                        ],
                        "passed_time": 0.2607552657,
                        "iteration": 117,
                        "remaining_time": 0.4021818506,
                        "learn": [
                          170.9258501
                        ]
                      },
                      {
                        "test": [
                          226.4769163
                        ],
                        "passed_time": 0.2625991322,
                        "iteration": 118,
                        "remaining_time": 0.3994154868,
                        "learn": [
                          170.8776014
                        ]
                      },
                      {
                        "test": [
                          226.4658122
                        ],
                        "passed_time": 0.2645980651,
                        "iteration": 119,
                        "remaining_time": 0.3968970976,
                        "learn": [
                          170.8516575
                        ]
                      },
                      {
                        "test": [
                          226.4534146
                        ],
                        "passed_time": 0.266435329,
                        "iteration": 120,
                        "remaining_time": 0.3941481313,
                        "learn": [
                          170.8326411
                        ]
                      },
                      {
                        "test": [
                          226.4506318
                        ],
                        "passed_time": 0.2684224131,
                        "iteration": 121,
                        "remaining_time": 0.391632701,
                        "learn": [
                          170.8194178
                        ]
                      },
                      {
                        "test": [
                          226.446469
                        ],
                        "passed_time": 0.2706367482,
                        "iteration": 122,
                        "remaining_time": 0.3894528816,
                        "learn": [
                          170.7688935
                        ]
                      },
                      {
                        "test": [
                          226.4415976
                        ],
                        "passed_time": 0.272647909,
                        "iteration": 123,
                        "remaining_time": 0.3869841289,
                        "learn": [
                          170.7321477
                        ]
                      },
                      {
                        "test": [
                          226.4184619
                        ],
                        "passed_time": 0.2746772894,
                        "iteration": 124,
                        "remaining_time": 0.3845482051,
                        "learn": [
                          170.7030756
                        ]
                      },
                      {
                        "test": [
                          226.3888879
                        ],
                        "passed_time": 0.27693212,
                        "iteration": 125,
                        "remaining_time": 0.3824300704,
                        "learn": [
                          170.6600697
                        ]
                      },
                      {
                        "test": [
                          226.3752404
                        ],
                        "passed_time": 0.279356973,
                        "iteration": 126,
                        "remaining_time": 0.3805413884,
                        "learn": [
                          170.6373165
                        ]
                      },
                      {
                        "test": [
                          226.3770401
                        ],
                        "passed_time": 0.281312506,
                        "iteration": 127,
                        "remaining_time": 0.3780136799,
                        "learn": [
                          170.6125306
                        ]
                      },
                      {
                        "test": [
                          226.3749299
                        ],
                        "passed_time": 0.2833083598,
                        "iteration": 128,
                        "remaining_time": 0.375548291,
                        "learn": [
                          170.5672502
                        ]
                      },
                      {
                        "test": [
                          226.3639045
                        ],
                        "passed_time": 0.2862221252,
                        "iteration": 129,
                        "remaining_time": 0.3742904714,
                        "learn": [
                          170.5363676
                        ]
                      },
                      {
                        "test": [
                          226.3520745
                        ],
                        "passed_time": 0.288186218,
                        "iteration": 130,
                        "remaining_time": 0.3717822202,
                        "learn": [
                          170.5023919
                        ]
                      },
                      {
                        "test": [
                          226.3480298
                        ],
                        "passed_time": 0.2901518225,
                        "iteration": 131,
                        "remaining_time": 0.3692841378,
                        "learn": [
                          170.4752223
                        ]
                      },
                      {
                        "test": [
                          226.3408156
                        ],
                        "passed_time": 0.2921068383,
                        "iteration": 132,
                        "remaining_time": 0.3667807668,
                        "learn": [
                          170.4665684
                        ]
                      },
                      {
                        "test": [
                          226.3134907
                        ],
                        "passed_time": 0.2940366537,
                        "iteration": 133,
                        "remaining_time": 0.364254362,
                        "learn": [
                          170.4326889
                        ]
                      },
                      {
                        "test": [
                          226.2935537
                        ],
                        "passed_time": 0.2960246668,
                        "iteration": 134,
                        "remaining_time": 0.3618079261,
                        "learn": [
                          170.4057194
                        ]
                      },
                      {
                        "test": [
                          226.2768233
                        ],
                        "passed_time": 0.2996316316,
                        "iteration": 135,
                        "remaining_time": 0.3613204969,
                        "learn": [
                          170.3907333
                        ]
                      },
                      {
                        "test": [
                          226.2659244
                        ],
                        "passed_time": 0.3016139576,
                        "iteration": 136,
                        "remaining_time": 0.3588545627,
                        "learn": [
                          170.3716745
                        ]
                      },
                      {
                        "test": [
                          226.2667841
                        ],
                        "passed_time": 0.3035754477,
                        "iteration": 137,
                        "remaining_time": 0.3563711777,
                        "learn": [
                          170.3497656
                        ]
                      },
                      {
                        "test": [
                          226.2733457
                        ],
                        "passed_time": 0.3055403514,
                        "iteration": 138,
                        "remaining_time": 0.3538992559,
                        "learn": [
                          170.3231887
                        ]
                      },
                      {
                        "test": [
                          226.2587886
                        ],
                        "passed_time": 0.3078475435,
                        "iteration": 139,
                        "remaining_time": 0.351825764,
                        "learn": [
                          170.3060941
                        ]
                      },
                      {
                        "test": [
                          226.2497971
                        ],
                        "passed_time": 0.3097849669,
                        "iteration": 140,
                        "remaining_time": 0.3493319839,
                        "learn": [
                          170.2745221
                        ]
                      },
                      {
                        "test": [
                          226.2389289
                        ],
                        "passed_time": 0.311766692,
                        "iteration": 141,
                        "remaining_time": 0.3468953333,
                        "learn": [
                          170.2388539
                        ]
                      },
                      {
                        "test": [
                          226.2242638
                        ],
                        "passed_time": 0.3137526297,
                        "iteration": 142,
                        "remaining_time": 0.3444696704,
                        "learn": [
                          170.2152674
                        ]
                      },
                      {
                        "test": [
                          226.2265166
                        ],
                        "passed_time": 0.3156976156,
                        "iteration": 143,
                        "remaining_time": 0.3420057503,
                        "learn": [
                          170.1926573
                        ]
                      },
                      {
                        "test": [
                          226.2088185
                        ],
                        "passed_time": 0.3177037447,
                        "iteration": 144,
                        "remaining_time": 0.3396143478,
                        "learn": [
                          170.1690076
                        ]
                      },
                      {
                        "test": [
                          226.2059907
                        ],
                        "passed_time": 0.3196437635,
                        "iteration": 145,
                        "remaining_time": 0.3371584903,
                        "learn": [
                          170.1632916
                        ]
                      },
                      {
                        "test": [
                          226.2144916
                        ],
                        "passed_time": 0.3216137752,
                        "iteration": 146,
                        "remaining_time": 0.3347408681,
                        "learn": [
                          170.150824
                        ]
                      },
                      {
                        "test": [
                          226.2131829
                        ],
                        "passed_time": 0.3235106614,
                        "iteration": 147,
                        "remaining_time": 0.3322541928,
                        "learn": [
                          170.1300104
                        ]
                      },
                      {
                        "test": [
                          226.2099367
                        ],
                        "passed_time": 0.3254492902,
                        "iteration": 148,
                        "remaining_time": 0.3298177371,
                        "learn": [
                          170.1048319
                        ]
                      },
                      {
                        "test": [
                          226.1741235
                        ],
                        "passed_time": 0.327406155,
                        "iteration": 149,
                        "remaining_time": 0.327406155,
                        "learn": [
                          170.0665926
                        ]
                      },
                      {
                        "test": [
                          226.1620544
                        ],
                        "passed_time": 0.3299338265,
                        "iteration": 150,
                        "remaining_time": 0.3255638421,
                        "learn": [
                          170.0499247
                        ]
                      },
                      {
                        "test": [
                          226.1562162
                        ],
                        "passed_time": 0.3318549567,
                        "iteration": 151,
                        "remaining_time": 0.3231219315,
                        "learn": [
                          170.0455555
                        ]
                      },
                      {
                        "test": [
                          226.1515233
                        ],
                        "passed_time": 0.3338656575,
                        "iteration": 152,
                        "remaining_time": 0.3207728866,
                        "learn": [
                          170.0304067
                        ]
                      },
                      {
                        "test": [
                          226.1538693
                        ],
                        "passed_time": 0.3360184886,
                        "iteration": 153,
                        "remaining_time": 0.3185629827,
                        "learn": [
                          170.0238995
                        ]
                      },
                      {
                        "test": [
                          226.1568479
                        ],
                        "passed_time": 0.3379508694,
                        "iteration": 154,
                        "remaining_time": 0.3161475875,
                        "learn": [
                          170.0096551
                        ]
                      },
                      {
                        "test": [
                          226.1524432
                        ],
                        "passed_time": 0.3426093135,
                        "iteration": 155,
                        "remaining_time": 0.3162547509,
                        "learn": [
                          170.003564
                        ]
                      },
                      {
                        "test": [
                          226.1564623
                        ],
                        "passed_time": 0.3467542713,
                        "iteration": 156,
                        "remaining_time": 0.3158335083,
                        "learn": [
                          169.9770929
                        ]
                      },
                      {
                        "test": [
                          226.1444818
                        ],
                        "passed_time": 0.3487324574,
                        "iteration": 157,
                        "remaining_time": 0.3134177782,
                        "learn": [
                          169.9621342
                        ]
                      },
                      {
                        "test": [
                          226.139907
                        ],
                        "passed_time": 0.3507168388,
                        "iteration": 158,
                        "remaining_time": 0.3110130458,
                        "learn": [
                          169.9497656
                        ]
                      },
                      {
                        "test": [
                          226.1425296
                        ],
                        "passed_time": 0.3530944802,
                        "iteration": 159,
                        "remaining_time": 0.3089576702,
                        "learn": [
                          169.939141
                        ]
                      },
                      {
                        "test": [
                          226.136452
                        ],
                        "passed_time": 0.3550168058,
                        "iteration": 160,
                        "remaining_time": 0.3065051926,
                        "learn": [
                          169.9287423
                        ]
                      },
                      {
                        "test": [
                          226.1383071
                        ],
                        "passed_time": 0.3569306615,
                        "iteration": 161,
                        "remaining_time": 0.304052045,
                        "learn": [
                          169.9202607
                        ]
                      },
                      {
                        "test": [
                          226.1316438
                        ],
                        "passed_time": 0.3588435946,
                        "iteration": 162,
                        "remaining_time": 0.301604739,
                        "learn": [
                          169.8950402
                        ]
                      },
                      {
                        "test": [
                          226.1251331
                        ],
                        "passed_time": 0.3608386948,
                        "iteration": 163,
                        "remaining_time": 0.2992320884,
                        "learn": [
                          169.8834
                        ]
                      },
                      {
                        "test": [
                          226.1122804
                        ],
                        "passed_time": 0.3627460398,
                        "iteration": 164,
                        "remaining_time": 0.2967922144,
                        "learn": [
                          169.8558334
                        ]
                      },
                      {
                        "test": [
                          226.1133555
                        ],
                        "passed_time": 0.3646903031,
                        "iteration": 165,
                        "remaining_time": 0.2943885579,
                        "learn": [
                          169.8456837
                        ]
                      },
                      {
                        "test": [
                          226.1196071
                        ],
                        "passed_time": 0.3666063933,
                        "iteration": 166,
                        "remaining_time": 0.2919679659,
                        "learn": [
                          169.8285303
                        ]
                      },
                      {
                        "test": [
                          226.1144313
                        ],
                        "passed_time": 0.3687575054,
                        "iteration": 167,
                        "remaining_time": 0.28973804,
                        "learn": [
                          169.8112562
                        ]
                      },
                      {
                        "test": [
                          226.1108317
                        ],
                        "passed_time": 0.3707123557,
                        "iteration": 168,
                        "remaining_time": 0.2873569148,
                        "learn": [
                          169.785141
                        ]
                      },
                      {
                        "test": [
                          226.112392
                        ],
                        "passed_time": 0.3726839701,
                        "iteration": 169,
                        "remaining_time": 0.2849936242,
                        "learn": [
                          169.7732514
                        ]
                      },
                      {
                        "test": [
                          226.1065699
                        ],
                        "passed_time": 0.3745783381,
                        "iteration": 170,
                        "remaining_time": 0.282576641,
                        "learn": [
                          169.7647647
                        ]
                      },
                      {
                        "test": [
                          226.1019305
                        ],
                        "passed_time": 0.3766099157,
                        "iteration": 171,
                        "remaining_time": 0.2802678443,
                        "learn": [
                          169.751299
                        ]
                      },
                      {
                        "test": [
                          226.0975054
                        ],
                        "passed_time": 0.3785380539,
                        "iteration": 172,
                        "remaining_time": 0.277886317,
                        "learn": [
                          169.7234188
                        ]
                      },
                      {
                        "test": [
                          226.0912991
                        ],
                        "passed_time": 0.3805290251,
                        "iteration": 173,
                        "remaining_time": 0.2755555009,
                        "learn": [
                          169.7111604
                        ]
                      },
                      {
                        "test": [
                          226.0909761
                        ],
                        "passed_time": 0.3824642331,
                        "iteration": 174,
                        "remaining_time": 0.2731887379,
                        "learn": [
                          169.6964838
                        ]
                      },
                      {
                        "test": [
                          226.0890996
                        ],
                        "passed_time": 0.3844120963,
                        "iteration": 175,
                        "remaining_time": 0.2708357951,
                        "learn": [
                          169.6831905
                        ]
                      },
                      {
                        "test": [
                          226.0936359
                        ],
                        "passed_time": 0.3863421626,
                        "iteration": 176,
                        "remaining_time": 0.2684750621,
                        "learn": [
                          169.6612721
                        ]
                      },
                      {
                        "test": [
                          226.0941796
                        ],
                        "passed_time": 0.3882869449,
                        "iteration": 177,
                        "remaining_time": 0.2661292543,
                        "learn": [
                          169.6505716
                        ]
                      },
                      {
                        "test": [
                          226.0902855
                        ],
                        "passed_time": 0.3903600724,
                        "iteration": 178,
                        "remaining_time": 0.2638746858,
                        "learn": [
                          169.6386055
                        ]
                      },
                      {
                        "test": [
                          226.0894182
                        ],
                        "passed_time": 0.392306001,
                        "iteration": 179,
                        "remaining_time": 0.261537334,
                        "learn": [
                          169.61516
                        ]
                      },
                      {
                        "test": [
                          226.088657
                        ],
                        "passed_time": 0.3942273366,
                        "iteration": 180,
                        "remaining_time": 0.2591881384,
                        "learn": [
                          169.608688
                        ]
                      },
                      {
                        "test": [
                          226.083427
                        ],
                        "passed_time": 0.3965541456,
                        "iteration": 181,
                        "remaining_time": 0.2571065339,
                        "learn": [
                          169.605266
                        ]
                      },
                      {
                        "test": [
                          226.0807058
                        ],
                        "passed_time": 0.3987688126,
                        "iteration": 182,
                        "remaining_time": 0.2549505523,
                        "learn": [
                          169.5903197
                        ]
                      },
                      {
                        "test": [
                          226.0846542
                        ],
                        "passed_time": 0.4005868251,
                        "iteration": 183,
                        "remaining_time": 0.252543868,
                        "learn": [
                          169.5769967
                        ]
                      },
                      {
                        "test": [
                          226.0969622
                        ],
                        "passed_time": 0.402569722,
                        "iteration": 184,
                        "remaining_time": 0.2502460434,
                        "learn": [
                          169.5635706
                        ]
                      },
                      {
                        "test": [
                          226.1009541
                        ],
                        "passed_time": 0.4045441045,
                        "iteration": 185,
                        "remaining_time": 0.2479463866,
                        "learn": [
                          169.5529897
                        ]
                      },
                      {
                        "test": [
                          226.0945111
                        ],
                        "passed_time": 0.4065631733,
                        "iteration": 186,
                        "remaining_time": 0.2456772117,
                        "learn": [
                          169.5457586
                        ]
                      },
                      {
                        "test": [
                          226.084752
                        ],
                        "passed_time": 0.408530696,
                        "iteration": 187,
                        "remaining_time": 0.2433799891,
                        "learn": [
                          169.532913
                        ]
                      },
                      {
                        "test": [
                          226.0934103
                        ],
                        "passed_time": 0.4124081809,
                        "iteration": 188,
                        "remaining_time": 0.2422079793,
                        "learn": [
                          169.5184884
                        ]
                      },
                      {
                        "test": [
                          226.0906004
                        ],
                        "passed_time": 0.4143689683,
                        "iteration": 189,
                        "remaining_time": 0.2398978237,
                        "learn": [
                          169.5171404
                        ]
                      },
                      {
                        "test": [
                          226.0600859
                        ],
                        "passed_time": 0.4165454707,
                        "iteration": 190,
                        "remaining_time": 0.2377144309,
                        "learn": [
                          169.4877623
                        ]
                      },
                      {
                        "test": [
                          226.0392344
                        ],
                        "passed_time": 0.4183716903,
                        "iteration": 191,
                        "remaining_time": 0.2353340758,
                        "learn": [
                          169.4840402
                        ]
                      },
                      {
                        "test": [
                          225.9971615
                        ],
                        "passed_time": 0.420336744,
                        "iteration": 192,
                        "remaining_time": 0.2330364332,
                        "learn": [
                          169.4730074
                        ]
                      },
                      {
                        "test": [
                          225.9676283
                        ],
                        "passed_time": 0.4222962196,
                        "iteration": 193,
                        "remaining_time": 0.2307391715,
                        "learn": [
                          169.4593647
                        ]
                      },
                      {
                        "test": [
                          225.9585679
                        ],
                        "passed_time": 0.4242599133,
                        "iteration": 194,
                        "remaining_time": 0.2284476456,
                        "learn": [
                          169.4468847
                        ]
                      },
                      {
                        "test": [
                          225.9615591
                        ],
                        "passed_time": 0.4260557309,
                        "iteration": 195,
                        "remaining_time": 0.2260703878,
                        "learn": [
                          169.4396126
                        ]
                      },
                      {
                        "test": [
                          225.9585723
                        ],
                        "passed_time": 0.4280028649,
                        "iteration": 196,
                        "remaining_time": 0.2237781477,
                        "learn": [
                          169.4355264
                        ]
                      },
                      {
                        "test": [
                          225.9536806
                        ],
                        "passed_time": 0.429933023,
                        "iteration": 197,
                        "remaining_time": 0.2214806482,
                        "learn": [
                          169.4233551
                        ]
                      },
                      {
                        "test": [
                          225.9320017
                        ],
                        "passed_time": 0.431725818,
                        "iteration": 198,
                        "remaining_time": 0.2191171237,
                        "learn": [
                          169.4190632
                        ]
                      },
                      {
                        "test": [
                          225.9334311
                        ],
                        "passed_time": 0.4336442663,
                        "iteration": 199,
                        "remaining_time": 0.2168221332,
                        "learn": [
                          169.4119662
                        ]
                      },
                      {
                        "test": [
                          225.9332118
                        ],
                        "passed_time": 0.4355523704,
                        "iteration": 200,
                        "remaining_time": 0.2145257944,
                        "learn": [
                          169.4094539
                        ]
                      },
                      {
                        "test": [
                          225.9284529
                        ],
                        "passed_time": 0.4378250661,
                        "iteration": 201,
                        "remaining_time": 0.2124101806,
                        "learn": [
                          169.4005175
                        ]
                      },
                      {
                        "test": [
                          225.9109279
                        ],
                        "passed_time": 0.4397018036,
                        "iteration": 202,
                        "remaining_time": 0.2101038175,
                        "learn": [
                          169.3967521
                        ]
                      },
                      {
                        "test": [
                          225.9212322
                        ],
                        "passed_time": 0.4416596156,
                        "iteration": 203,
                        "remaining_time": 0.2078398191,
                        "learn": [
                          169.3830965
                        ]
                      },
                      {
                        "test": [
                          225.9176077
                        ],
                        "passed_time": 0.4436125004,
                        "iteration": 204,
                        "remaining_time": 0.2055765246,
                        "learn": [
                          169.3786815
                        ]
                      },
                      {
                        "test": [
                          225.9297709
                        ],
                        "passed_time": 0.4455374541,
                        "iteration": 205,
                        "remaining_time": 0.2033034985,
                        "learn": [
                          169.3566972
                        ]
                      },
                      {
                        "test": [
                          225.9295292
                        ],
                        "passed_time": 0.4474754993,
                        "iteration": 206,
                        "remaining_time": 0.2010397171,
                        "learn": [
                          169.3563014
                        ]
                      },
                      {
                        "test": [
                          225.9145563
                        ],
                        "passed_time": 0.4494860465,
                        "iteration": 207,
                        "remaining_time": 0.1988111359,
                        "learn": [
                          169.3246919
                        ]
                      },
                      {
                        "test": [
                          225.9141946
                        ],
                        "passed_time": 0.4513713065,
                        "iteration": 208,
                        "remaining_time": 0.1965300904,
                        "learn": [
                          169.3216332
                        ]
                      },
                      {
                        "test": [
                          225.9091907
                        ],
                        "passed_time": 0.4533390329,
                        "iteration": 209,
                        "remaining_time": 0.1942881569,
                        "learn": [
                          169.30907
                        ]
                      },
                      {
                        "test": [
                          225.9098098
                        ],
                        "passed_time": 0.4552636484,
                        "iteration": 210,
                        "remaining_time": 0.1920306384,
                        "learn": [
                          169.303006
                        ]
                      },
                      {
                        "test": [
                          225.9038372
                        ],
                        "passed_time": 0.4571643054,
                        "iteration": 211,
                        "remaining_time": 0.1897663154,
                        "learn": [
                          169.2968275
                        ]
                      },
                      {
                        "test": [
                          225.9075149
                        ],
                        "passed_time": 0.4590913299,
                        "iteration": 212,
                        "remaining_time": 0.187516177,
                        "learn": [
                          169.2844448
                        ]
                      },
                      {
                        "test": [
                          225.9069462
                        ],
                        "passed_time": 0.4610649752,
                        "iteration": 213,
                        "remaining_time": 0.1852877938,
                        "learn": [
                          169.2829667
                        ]
                      },
                      {
                        "test": [
                          225.8951093
                        ],
                        "passed_time": 0.4630050294,
                        "iteration": 214,
                        "remaining_time": 0.1830485,
                        "learn": [
                          169.2722819
                        ]
                      },
                      {
                        "test": [
                          225.8896101
                        ],
                        "passed_time": 0.4652814986,
                        "iteration": 215,
                        "remaining_time": 0.180942805,
                        "learn": [
                          169.2664984
                        ]
                      },
                      {
                        "test": [
                          225.8891086
                        ],
                        "passed_time": 0.4682631433,
                        "iteration": 216,
                        "remaining_time": 0.1791052576,
                        "learn": [
                          169.2656567
                        ]
                      },
                      {
                        "test": [
                          225.8844498
                        ],
                        "passed_time": 0.4706702031,
                        "iteration": 217,
                        "remaining_time": 0.1770410856,
                        "learn": [
                          169.2480183
                        ]
                      },
                      {
                        "test": [
                          225.9025488
                        ],
                        "passed_time": 0.4729536758,
                        "iteration": 218,
                        "remaining_time": 0.1749280719,
                        "learn": [
                          169.2319911
                        ]
                      },
                      {
                        "test": [
                          225.8982952
                        ],
                        "passed_time": 0.4757949365,
                        "iteration": 219,
                        "remaining_time": 0.1730163405,
                        "learn": [
                          169.2171985
                        ]
                      },
                      {
                        "test": [
                          225.9135666
                        ],
                        "passed_time": 0.4778124171,
                        "iteration": 220,
                        "remaining_time": 0.1708017238,
                        "learn": [
                          169.2049541
                        ]
                      },
                      {
                        "test": [
                          225.9070231
                        ],
                        "passed_time": 0.4797188094,
                        "iteration": 221,
                        "remaining_time": 0.168549852,
                        "learn": [
                          169.1989312
                        ]
                      },
                      {
                        "test": [
                          225.9146195
                        ],
                        "passed_time": 0.4816837704,
                        "iteration": 222,
                        "remaining_time": 0.1663213019,
                        "learn": [
                          169.182601
                        ]
                      },
                      {
                        "test": [
                          225.9149844
                        ],
                        "passed_time": 0.4837928261,
                        "iteration": 223,
                        "remaining_time": 0.1641439946,
                        "learn": [
                          169.1779623
                        ]
                      },
                      {
                        "test": [
                          225.90051
                        ],
                        "passed_time": 0.4858084295,
                        "iteration": 224,
                        "remaining_time": 0.1619361432,
                        "learn": [
                          169.169645
                        ]
                      },
                      {
                        "test": [
                          225.8994832
                        ],
                        "passed_time": 0.487786532,
                        "iteration": 225,
                        "remaining_time": 0.159717714,
                        "learn": [
                          169.1553935
                        ]
                      },
                      {
                        "test": [
                          225.8995387
                        ],
                        "passed_time": 0.4897561747,
                        "iteration": 226,
                        "remaining_time": 0.1574986817,
                        "learn": [
                          169.1462113
                        ]
                      },
                      {
                        "test": [
                          225.8993953
                        ],
                        "passed_time": 0.4918285013,
                        "iteration": 227,
                        "remaining_time": 0.1553142636,
                        "learn": [
                          169.1401098
                        ]
                      },
                      {
                        "test": [
                          225.8959831
                        ],
                        "passed_time": 0.4946012126,
                        "iteration": 228,
                        "remaining_time": 0.1533479742,
                        "learn": [
                          169.1376278
                        ]
                      },
                      {
                        "test": [
                          225.9004098
                        ],
                        "passed_time": 0.4965963874,
                        "iteration": 229,
                        "remaining_time": 0.151138031,
                        "learn": [
                          169.1340604
                        ]
                      },
                      {
                        "test": [
                          225.9021069
                        ],
                        "passed_time": 0.4985285182,
                        "iteration": 230,
                        "remaining_time": 0.1489111158,
                        "learn": [
                          169.131429
                        ]
                      },
                      {
                        "test": [
                          225.8998573
                        ],
                        "passed_time": 0.5013505412,
                        "iteration": 231,
                        "remaining_time": 0.1469475724,
                        "learn": [
                          169.1231798
                        ]
                      },
                      {
                        "test": [
                          225.8953461
                        ],
                        "passed_time": 0.5032812038,
                        "iteration": 232,
                        "remaining_time": 0.1447203462,
                        "learn": [
                          169.1117947
                        ]
                      },
                      {
                        "test": [
                          225.8961238
                        ],
                        "passed_time": 0.5052439312,
                        "iteration": 233,
                        "remaining_time": 0.1425046985,
                        "learn": [
                          169.1103811
                        ]
                      },
                      {
                        "test": [
                          225.8973943
                        ],
                        "passed_time": 0.5073495952,
                        "iteration": 234,
                        "remaining_time": 0.1403307391,
                        "learn": [
                          169.1020279
                        ]
                      },
                      {
                        "test": [
                          225.8979364
                        ],
                        "passed_time": 0.5093560288,
                        "iteration": 235,
                        "remaining_time": 0.1381304485,
                        "learn": [
                          169.1003564
                        ]
                      },
                      {
                        "test": [
                          225.9028973
                        ],
                        "passed_time": 0.5112854179,
                        "iteration": 236,
                        "remaining_time": 0.1359113136,
                        "learn": [
                          169.0943424
                        ]
                      },
                      {
                        "test": [
                          225.9033074
                        ],
                        "passed_time": 0.513212836,
                        "iteration": 237,
                        "remaining_time": 0.1336941001,
                        "learn": [
                          169.0870626
                        ]
                      },
                      {
                        "test": [
                          225.8750991
                        ],
                        "passed_time": 0.5161907881,
                        "iteration": 238,
                        "remaining_time": 0.1317474396,
                        "learn": [
                          169.073819
                        ]
                      },
                      {
                        "test": [
                          225.8643809
                        ],
                        "passed_time": 0.5181465702,
                        "iteration": 239,
                        "remaining_time": 0.1295366425,
                        "learn": [
                          169.0687275
                        ]
                      },
                      {
                        "test": [
                          225.8644142
                        ],
                        "passed_time": 0.5201511475,
                        "iteration": 240,
                        "remaining_time": 0.1273399075,
                        "learn": [
                          169.0573962
                        ]
                      },
                      {
                        "test": [
                          225.861953
                        ],
                        "passed_time": 0.5221430232,
                        "iteration": 241,
                        "remaining_time": 0.1251417163,
                        "learn": [
                          169.052767
                        ]
                      },
                      {
                        "test": [
                          225.8548766
                        ],
                        "passed_time": 0.5242921154,
                        "iteration": 242,
                        "remaining_time": 0.1229821011,
                        "learn": [
                          169.039642
                        ]
                      },
                      {
                        "test": [
                          225.8495973
                        ],
                        "passed_time": 0.5262990681,
                        "iteration": 243,
                        "remaining_time": 0.12078995,
                        "learn": [
                          169.0318168
                        ]
                      },
                      {
                        "test": [
                          225.8070295
                        ],
                        "passed_time": 0.5281200023,
                        "iteration": 244,
                        "remaining_time": 0.1185575515,
                        "learn": [
                          169.0132238
                        ]
                      },
                      {
                        "test": [
                          225.8095119
                        ],
                        "passed_time": 0.5300976184,
                        "iteration": 245,
                        "remaining_time": 0.1163628919,
                        "learn": [
                          169.0110778
                        ]
                      },
                      {
                        "test": [
                          225.8038275
                        ],
                        "passed_time": 0.5322240166,
                        "iteration": 246,
                        "remaining_time": 0.1142019145,
                        "learn": [
                          169.0015438
                        ]
                      },
                      {
                        "test": [
                          225.8060558
                        ],
                        "passed_time": 0.5341879539,
                        "iteration": 247,
                        "remaining_time": 0.1120071516,
                        "learn": [
                          168.9897204
                        ]
                      },
                      {
                        "test": [
                          225.7937611
                        ],
                        "passed_time": 0.5361049487,
                        "iteration": 248,
                        "remaining_time": 0.109804628,
                        "learn": [
                          168.981091
                        ]
                      },
                      {
                        "test": [
                          225.7937106
                        ],
                        "passed_time": 0.5374953829,
                        "iteration": 249,
                        "remaining_time": 0.1074990766,
                        "learn": [
                          168.9806461
                        ]
                      },
                      {
                        "test": [
                          225.7939113
                        ],
                        "passed_time": 0.5395153853,
                        "iteration": 250,
                        "remaining_time": 0.1053237206,
                        "learn": [
                          168.9773814
                        ]
                      },
                      {
                        "test": [
                          225.7929753
                        ],
                        "passed_time": 0.5416159176,
                        "iteration": 251,
                        "remaining_time": 0.1031649367,
                        "learn": [
                          168.9734765
                        ]
                      },
                      {
                        "test": [
                          225.7954242
                        ],
                        "passed_time": 0.5435859266,
                        "iteration": 252,
                        "remaining_time": 0.1009823658,
                        "learn": [
                          168.9684523
                        ]
                      },
                      {
                        "test": [
                          225.8045423
                        ],
                        "passed_time": 0.5454075909,
                        "iteration": 253,
                        "remaining_time": 0.09877460307,
                        "learn": [
                          168.9600887
                        ]
                      },
                      {
                        "test": [
                          225.8053884
                        ],
                        "passed_time": 0.5474207189,
                        "iteration": 254,
                        "remaining_time": 0.09660365627,
                        "learn": [
                          168.9598408
                        ]
                      },
                      {
                        "test": [
                          225.8058204
                        ],
                        "passed_time": 0.5493375946,
                        "iteration": 255,
                        "remaining_time": 0.09441739907,
                        "learn": [
                          168.9580284
                        ]
                      },
                      {
                        "test": [
                          225.8014982
                        ],
                        "passed_time": 0.5513436255,
                        "iteration": 256,
                        "remaining_time": 0.09224815524,
                        "learn": [
                          168.9267705
                        ]
                      },
                      {
                        "test": [
                          225.7848366
                        ],
                        "passed_time": 0.5532944377,
                        "iteration": 257,
                        "remaining_time": 0.09007118753,
                        "learn": [
                          168.9157481
                        ]
                      },
                      {
                        "test": [
                          225.7854871
                        ],
                        "passed_time": 0.5552000509,
                        "iteration": 258,
                        "remaining_time": 0.08788881114,
                        "learn": [
                          168.9153741
                        ]
                      },
                      {
                        "test": [
                          225.7857708
                        ],
                        "passed_time": 0.5571772206,
                        "iteration": 259,
                        "remaining_time": 0.0857195724,
                        "learn": [
                          168.9117569
                        ]
                      },
                      {
                        "test": [
                          225.7711505
                        ],
                        "passed_time": 0.5591851551,
                        "iteration": 260,
                        "remaining_time": 0.08355640249,
                        "learn": [
                          168.9053895
                        ]
                      },
                      {
                        "test": [
                          225.7742864
                        ],
                        "passed_time": 0.561168622,
                        "iteration": 261,
                        "remaining_time": 0.08139086884,
                        "learn": [
                          168.897403
                        ]
                      },
                      {
                        "test": [
                          225.7789681
                        ],
                        "passed_time": 0.5631278785,
                        "iteration": 262,
                        "remaining_time": 0.07922331371,
                        "learn": [
                          168.889297
                        ]
                      },
                      {
                        "test": [
                          225.7652248
                        ],
                        "passed_time": 0.5650950921,
                        "iteration": 263,
                        "remaining_time": 0.07705842165,
                        "learn": [
                          168.8811137
                        ]
                      },
                      {
                        "test": [
                          225.7653778
                        ],
                        "passed_time": 0.5670493415,
                        "iteration": 264,
                        "remaining_time": 0.07489330925,
                        "learn": [
                          168.8781365
                        ]
                      },
                      {
                        "test": [
                          225.7659612
                        ],
                        "passed_time": 0.5689671135,
                        "iteration": 265,
                        "remaining_time": 0.07272511977,
                        "learn": [
                          168.8746013
                        ]
                      },
                      {
                        "test": [
                          225.7665511
                        ],
                        "passed_time": 0.5709467296,
                        "iteration": 266,
                        "remaining_time": 0.07056644972,
                        "learn": [
                          168.865563
                        ]
                      },
                      {
                        "test": [
                          225.764682
                        ],
                        "passed_time": 0.5728782104,
                        "iteration": 267,
                        "remaining_time": 0.0684033684,
                        "learn": [
                          168.8584149
                        ]
                      },
                      {
                        "test": [
                          225.7529902
                        ],
                        "passed_time": 0.5748336761,
                        "iteration": 268,
                        "remaining_time": 0.06624477308,
                        "learn": [
                          168.839366
                        ]
                      },
                      {
                        "test": [
                          225.7524906
                        ],
                        "passed_time": 0.5767700141,
                        "iteration": 269,
                        "remaining_time": 0.06408555712,
                        "learn": [
                          168.8111937
                        ]
                      },
                      {
                        "test": [
                          225.73865
                        ],
                        "passed_time": 0.5787017158,
                        "iteration": 270,
                        "remaining_time": 0.06192748988,
                        "learn": [
                          168.8075956
                        ]
                      },
                      {
                        "test": [
                          225.7359315
                        ],
                        "passed_time": 0.5806397546,
                        "iteration": 271,
                        "remaining_time": 0.05977173944,
                        "learn": [
                          168.7924206
                        ]
                      },
                      {
                        "test": [
                          225.7429303
                        ],
                        "passed_time": 0.5826287432,
                        "iteration": 272,
                        "remaining_time": 0.05762262295,
                        "learn": [
                          168.7838506
                        ]
                      },
                      {
                        "test": [
                          225.748389
                        ],
                        "passed_time": 0.5846387476,
                        "iteration": 273,
                        "remaining_time": 0.05547666948,
                        "learn": [
                          168.7762375
                        ]
                      },
                      {
                        "test": [
                          225.75198
                        ],
                        "passed_time": 0.5866216972,
                        "iteration": 274,
                        "remaining_time": 0.0533292452,
                        "learn": [
                          168.7717835
                        ]
                      },
                      {
                        "test": [
                          225.7515293
                        ],
                        "passed_time": 0.5886689972,
                        "iteration": 275,
                        "remaining_time": 0.05118860845,
                        "learn": [
                          168.7653789
                        ]
                      },
                      {
                        "test": [
                          225.7530024
                        ],
                        "passed_time": 0.5906664292,
                        "iteration": 276,
                        "remaining_time": 0.04904450495,
                        "learn": [
                          168.7599445
                        ]
                      },
                      {
                        "test": [
                          225.7584773
                        ],
                        "passed_time": 0.5926098788,
                        "iteration": 277,
                        "remaining_time": 0.04689718465,
                        "learn": [
                          168.7544128
                        ]
                      },
                      {
                        "test": [
                          225.7582668
                        ],
                        "passed_time": 0.5945737116,
                        "iteration": 278,
                        "remaining_time": 0.04475286001,
                        "learn": [
                          168.7534277
                        ]
                      },
                      {
                        "test": [
                          225.7658978
                        ],
                        "passed_time": 0.5975081256,
                        "iteration": 279,
                        "remaining_time": 0.04267915183,
                        "learn": [
                          168.7480356
                        ]
                      },
                      {
                        "test": [
                          225.7604961
                        ],
                        "passed_time": 0.5999079919,
                        "iteration": 280,
                        "remaining_time": 0.04056317383,
                        "learn": [
                          168.741599
                        ]
                      },
                      {
                        "test": [
                          225.7600569
                        ],
                        "passed_time": 0.6018829426,
                        "iteration": 281,
                        "remaining_time": 0.03841806017,
                        "learn": [
                          168.7357247
                        ]
                      },
                      {
                        "test": [
                          225.7558755
                        ],
                        "passed_time": 0.6040061835,
                        "iteration": 282,
                        "remaining_time": 0.03628305696,
                        "learn": [
                          168.7220655
                        ]
                      },
                      {
                        "test": [
                          225.7559467
                        ],
                        "passed_time": 0.6059391788,
                        "iteration": 283,
                        "remaining_time": 0.03413741853,
                        "learn": [
                          168.7219881
                        ]
                      },
                      {
                        "test": [
                          225.7559635
                        ],
                        "passed_time": 0.607923933,
                        "iteration": 284,
                        "remaining_time": 0.03199599647,
                        "learn": [
                          168.7185573
                        ]
                      },
                      {
                        "test": [
                          225.7575303
                        ],
                        "passed_time": 0.6099371455,
                        "iteration": 285,
                        "remaining_time": 0.02985706307,
                        "learn": [
                          168.7087833
                        ]
                      },
                      {
                        "test": [
                          225.7680066
                        ],
                        "passed_time": 0.6117623051,
                        "iteration": 286,
                        "remaining_time": 0.02771048769,
                        "learn": [
                          168.6973917
                        ]
                      },
                      {
                        "test": [
                          225.7702206
                        ],
                        "passed_time": 0.7456556354,
                        "iteration": 287,
                        "remaining_time": 0.03106898481,
                        "learn": [
                          168.68676
                        ]
                      },
                      {
                        "test": [
                          225.7715763
                        ],
                        "passed_time": 0.7522485339,
                        "iteration": 288,
                        "remaining_time": 0.02863229714,
                        "learn": [
                          168.6831357
                        ]
                      },
                      {
                        "test": [
                          225.7715792
                        ],
                        "passed_time": 0.756204497,
                        "iteration": 289,
                        "remaining_time": 0.02607601714,
                        "learn": [
                          168.6785667
                        ]
                      },
                      {
                        "test": [
                          225.7631854
                        ],
                        "passed_time": 0.7600471627,
                        "iteration": 290,
                        "remaining_time": 0.02350661328,
                        "learn": [
                          168.6735256
                        ]
                      },
                      {
                        "test": [
                          225.7596432
                        ],
                        "passed_time": 0.7637392282,
                        "iteration": 291,
                        "remaining_time": 0.02092436242,
                        "learn": [
                          168.6705868
                        ]
                      },
                      {
                        "test": [
                          225.763386
                        ],
                        "passed_time": 0.7673108848,
                        "iteration": 292,
                        "remaining_time": 0.01833165936,
                        "learn": [
                          168.6678549
                        ]
                      },
                      {
                        "test": [
                          225.7649562
                        ],
                        "passed_time": 0.7709146896,
                        "iteration": 293,
                        "remaining_time": 0.01573295285,
                        "learn": [
                          168.6674273
                        ]
                      },
                      {
                        "test": [
                          225.7675763
                        ],
                        "passed_time": 0.7744664503,
                        "iteration": 294,
                        "remaining_time": 0.01312655,
                        "learn": [
                          168.6662624
                        ]
                      },
                      {
                        "test": [
                          225.7665897
                        ],
                        "passed_time": 0.7791046585,
                        "iteration": 295,
                        "remaining_time": 0.01052844133,
                        "learn": [
                          168.6656222
                        ]
                      },
                      {
                        "test": [
                          225.7573255
                        ],
                        "passed_time": 0.7841084383,
                        "iteration": 296,
                        "remaining_time": 0.007920287255,
                        "learn": [
                          168.6584704
                        ]
                      },
                      {
                        "test": [
                          225.7589726
                        ],
                        "passed_time": 0.7877745999,
                        "iteration": 297,
                        "remaining_time": 0.005287077852,
                        "learn": [
                          168.6497619
                        ]
                      },
                      {
                        "test": [
                          225.7586557
                        ],
                        "passed_time": 0.7920932773,
                        "iteration": 298,
                        "remaining_time": 0.002649141396,
                        "learn": [
                          168.648468
                        ]
                      },
                      {
                        "test": [
                          225.7573002
                        ],
                        "passed_time": 0.7942365814,
                        "iteration": 299,
                        "remaining_time": 0,
                        "learn": [
                          168.6453384
                        ]
                      }
                    ]
                  },
                  "total_iterations": 300,
                  "passed_iterations": 299
                },
                "path": "catboost_info/fold-2",
                "name": "fold-2"
              }
            },
            "_view_module": "catboost-widget",
            "_model_module_version": "^1.0.0",
            "_view_count": null,
            "_view_module_version": "^1.0.0",
            "layout": "IPY_MODEL_0c164e02f2664b629c20d42159131a0c",
            "_model_module": "catboost-widget"
          }
        }
      }
    }
  },
  "cells": [
    {
      "cell_type": "markdown",
      "metadata": {
        "id": "view-in-github",
        "colab_type": "text"
      },
      "source": [
        "<a href=\"https://colab.research.google.com/github/ovad4221/prevention_of_damage_from_accidents/blob/ovad_branch_analys/Analysis_ovad.ipynb\" target=\"_parent\"><img src=\"https://colab.research.google.com/assets/colab-badge.svg\" alt=\"Open In Colab\"/></a>"
      ]
    },
    {
      "cell_type": "code",
      "execution_count": 1,
      "metadata": {
        "id": "4Jxw9qMghw37"
      },
      "outputs": [],
      "source": [
        "import pandas as pd\n",
        "import numpy as np\n",
        "import matplotlib.pyplot as plt\n",
        "from mpl_toolkits.mplot3d import Axes3D\n",
        "\n",
        "%matplotlib inline"
      ]
    },
    {
      "cell_type": "markdown",
      "source": [
        "# основная часть"
      ],
      "metadata": {
        "id": "apUiHoOgN3eu"
      }
    },
    {
      "cell_type": "code",
      "source": [
        "df = pd.read_excel('/content/drive/MyDrive/merge_preprocessing_dano/files/final_accidents_data.xlsx')\n",
        "df.head(5)"
      ],
      "metadata": {
        "colab": {
          "base_uri": "https://localhost:8080/",
          "height": 458
        },
        "id": "rtt5ytV1o0LT",
        "outputId": "d2d8356c-d119-42ea-901a-e9b2252e9457"
      },
      "execution_count": null,
      "outputs": [
        {
          "output_type": "execute_result",
          "data": {
            "text/html": [
              "<div>\n",
              "<style scoped>\n",
              "    .dataframe tbody tr th:only-of-type {\n",
              "        vertical-align: middle;\n",
              "    }\n",
              "\n",
              "    .dataframe tbody tr th {\n",
              "        vertical-align: top;\n",
              "    }\n",
              "\n",
              "    .dataframe thead th {\n",
              "        text-align: right;\n",
              "    }\n",
              "</style>\n",
              "<table border=\"1\" class=\"dataframe\">\n",
              "  <thead>\n",
              "    <tr style=\"text-align: right;\">\n",
              "      <th></th>\n",
              "      <th>coordL</th>\n",
              "      <th>coordW</th>\n",
              "      <th>place</th>\n",
              "      <th>district</th>\n",
              "      <th>DTPType</th>\n",
              "      <th>date</th>\n",
              "      <th>real_date</th>\n",
              "      <th>month</th>\n",
              "      <th>season</th>\n",
              "      <th>NVehicles</th>\n",
              "      <th>NPatricipants</th>\n",
              "      <th>NInjured</th>\n",
              "      <th>NFatal</th>\n",
              "      <th>additionalFactor</th>\n",
              "      <th>lightConditions</th>\n",
              "      <th>weatherConditions</th>\n",
              "      <th>placeConditions</th>\n",
              "      <th>closeObjects</th>\n",
              "      <th>violations</th>\n",
              "      <th>violationsAdditional</th>\n",
              "      <th>privod</th>\n",
              "      <th>traffic_regime</th>\n",
              "      <th>pokritie</th>\n",
              "      <th>neispravnosti</th>\n",
              "      <th>safety_belt</th>\n",
              "      <th>sublocality</th>\n",
              "    </tr>\n",
              "  </thead>\n",
              "  <tbody>\n",
              "    <tr>\n",
              "      <th>0</th>\n",
              "      <td>37.464817</td>\n",
              "      <td>55.758116</td>\n",
              "      <td>ул Мнёвники Нижн.</td>\n",
              "      <td>Хорошево-мневники</td>\n",
              "      <td>Наезд на препятствие</td>\n",
              "      <td>01.01.2020</td>\n",
              "      <td>2020-01-01</td>\n",
              "      <td>1</td>\n",
              "      <td>Winter</td>\n",
              "      <td>1</td>\n",
              "      <td>1</td>\n",
              "      <td>1</td>\n",
              "      <td>0</td>\n",
              "      <td>Сведения отсутствуют</td>\n",
              "      <td>0.5</td>\n",
              "      <td>Пасмурно</td>\n",
              "      <td>Перегон (нет объектов на месте ДТП)</td>\n",
              "      <td>Остановка общественного транспорта</td>\n",
              "      <td>Несоответствие скорости конкретным условиям дв...</td>\n",
              "      <td>Нет нарушений</td>\n",
              "      <td>передний</td>\n",
              "      <td>Режим движения не изменялся</td>\n",
              "      <td>Мокрое</td>\n",
              "      <td>Технические неисправности отсутствуют</td>\n",
              "      <td>Нет</td>\n",
              "      <td>Северо-Западный административный округ</td>\n",
              "    </tr>\n",
              "    <tr>\n",
              "      <th>1</th>\n",
              "      <td>37.388953</td>\n",
              "      <td>55.811338</td>\n",
              "      <td>Московская кольцевая автомобильная дорога (МКА...</td>\n",
              "      <td>Строгино</td>\n",
              "      <td>Наезд на стоящее ТС</td>\n",
              "      <td>01.01.2020</td>\n",
              "      <td>2020-01-01</td>\n",
              "      <td>1</td>\n",
              "      <td>Winter</td>\n",
              "      <td>2</td>\n",
              "      <td>2</td>\n",
              "      <td>1</td>\n",
              "      <td>0</td>\n",
              "      <td>Наличие на дороге объектов, мешающих движению</td>\n",
              "      <td>1.0</td>\n",
              "      <td>Ясно</td>\n",
              "      <td>Перегон (нет объектов на месте ДТП)</td>\n",
              "      <td>Отсутствие в непосредственной близости объекто...</td>\n",
              "      <td>Несоответствие скорости конкретным условиям дв...</td>\n",
              "      <td>Нет нарушений</td>\n",
              "      <td>передний</td>\n",
              "      <td>Движение частично перекрыто</td>\n",
              "      <td>Сухое</td>\n",
              "      <td>Технические неисправности отсутствуют</td>\n",
              "      <td>Нет</td>\n",
              "      <td>Северо-Западный административный округ</td>\n",
              "    </tr>\n",
              "    <tr>\n",
              "      <th>2</th>\n",
              "      <td>37.623153</td>\n",
              "      <td>55.866787</td>\n",
              "      <td>Юрловский пр-д</td>\n",
              "      <td>Отрадное</td>\n",
              "      <td>Наезд на пешехода</td>\n",
              "      <td>01.01.2020</td>\n",
              "      <td>2020-01-01</td>\n",
              "      <td>1</td>\n",
              "      <td>Winter</td>\n",
              "      <td>1</td>\n",
              "      <td>2</td>\n",
              "      <td>1</td>\n",
              "      <td>0</td>\n",
              "      <td>Сужение проезжей части</td>\n",
              "      <td>1.0</td>\n",
              "      <td>Пасмурно</td>\n",
              "      <td>Внутридворовая территория</td>\n",
              "      <td>Административные здания</td>\n",
              "      <td>Несоблюдение очередности проезда</td>\n",
              "      <td>Другие нарушения ПДД водителем</td>\n",
              "      <td>праворукий</td>\n",
              "      <td>Режим движения не изменялся</td>\n",
              "      <td>Сухое</td>\n",
              "      <td>Технические неисправности отсутствуют</td>\n",
              "      <td>Нет</td>\n",
              "      <td>Северо-Восточный административный округ</td>\n",
              "    </tr>\n",
              "    <tr>\n",
              "      <th>3</th>\n",
              "      <td>37.588413</td>\n",
              "      <td>55.660576</td>\n",
              "      <td>ул Болотниковская</td>\n",
              "      <td>Зюзино</td>\n",
              "      <td>Столкновение</td>\n",
              "      <td>01.01.2020</td>\n",
              "      <td>2020-01-01</td>\n",
              "      <td>1</td>\n",
              "      <td>Winter</td>\n",
              "      <td>2</td>\n",
              "      <td>3</td>\n",
              "      <td>1</td>\n",
              "      <td>0</td>\n",
              "      <td>Сведения отсутствуют</td>\n",
              "      <td>0.5</td>\n",
              "      <td>Пасмурно</td>\n",
              "      <td>Регулируемый пешеходный переход</td>\n",
              "      <td>Остановка общественного транспорта</td>\n",
              "      <td>Несоблюдение очередности проезда</td>\n",
              "      <td>Нет нарушений</td>\n",
              "      <td>передний</td>\n",
              "      <td>Движение частично перекрыто</td>\n",
              "      <td>Мокрое</td>\n",
              "      <td>Технические неисправности отсутствуют</td>\n",
              "      <td>Нет</td>\n",
              "      <td>Юго-Западный административный округ</td>\n",
              "    </tr>\n",
              "    <tr>\n",
              "      <th>4</th>\n",
              "      <td>37.636467</td>\n",
              "      <td>55.805098</td>\n",
              "      <td>пр-кт Мира</td>\n",
              "      <td>Алексеевский</td>\n",
              "      <td>Падение чего-либо</td>\n",
              "      <td>01.01.2020</td>\n",
              "      <td>2020-01-01</td>\n",
              "      <td>1</td>\n",
              "      <td>Winter</td>\n",
              "      <td>1</td>\n",
              "      <td>2</td>\n",
              "      <td>1</td>\n",
              "      <td>0</td>\n",
              "      <td>Участок, контролируемый камерой</td>\n",
              "      <td>0.5</td>\n",
              "      <td>Ясно</td>\n",
              "      <td>Остановка общественного транспорта</td>\n",
              "      <td>Остановка общественного транспорта</td>\n",
              "      <td>Нарушение правил пользования общественным тран...</td>\n",
              "      <td>Нарушение правил перевозки людей</td>\n",
              "      <td>передний</td>\n",
              "      <td>Режим движения не изменялся</td>\n",
              "      <td>Сухое</td>\n",
              "      <td>Технические неисправности отсутствуют</td>\n",
              "      <td>Нет</td>\n",
              "      <td>Северо-Восточный административный округ</td>\n",
              "    </tr>\n",
              "  </tbody>\n",
              "</table>\n",
              "</div>"
            ],
            "text/plain": [
              "      coordL     coordW  ... safety_belt                              sublocality\n",
              "0  37.464817  55.758116  ...         Нет   Северо-Западный административный округ\n",
              "1  37.388953  55.811338  ...         Нет   Северо-Западный административный округ\n",
              "2  37.623153  55.866787  ...         Нет  Северо-Восточный административный округ\n",
              "3  37.588413  55.660576  ...         Нет      Юго-Западный административный округ\n",
              "4  37.636467  55.805098  ...         Нет  Северо-Восточный административный округ\n",
              "\n",
              "[5 rows x 26 columns]"
            ]
          },
          "metadata": {},
          "execution_count": 100
        }
      ]
    },
    {
      "cell_type": "code",
      "source": [
        "df.info()"
      ],
      "metadata": {
        "colab": {
          "base_uri": "https://localhost:8080/"
        },
        "id": "4DuCL-YHq71z",
        "outputId": "eb5e6fc7-1a8a-4cdc-e4f6-3d0395a46d45"
      },
      "execution_count": null,
      "outputs": [
        {
          "output_type": "stream",
          "name": "stdout",
          "text": [
            "<class 'pandas.core.frame.DataFrame'>\n",
            "RangeIndex: 7888 entries, 0 to 7887\n",
            "Data columns (total 26 columns):\n",
            " #   Column                Non-Null Count  Dtype         \n",
            "---  ------                --------------  -----         \n",
            " 0   coordL                7888 non-null   float64       \n",
            " 1   coordW                7888 non-null   float64       \n",
            " 2   place                 7888 non-null   object        \n",
            " 3   district              7888 non-null   object        \n",
            " 4   DTPType               7888 non-null   object        \n",
            " 5   date                  7888 non-null   object        \n",
            " 6   real_date             7888 non-null   datetime64[ns]\n",
            " 7   month                 7888 non-null   int64         \n",
            " 8   season                7888 non-null   object        \n",
            " 9   NVehicles             7888 non-null   int64         \n",
            " 10  NPatricipants         7888 non-null   int64         \n",
            " 11  NInjured              7888 non-null   int64         \n",
            " 12  NFatal                7888 non-null   int64         \n",
            " 13  additionalFactor      7888 non-null   object        \n",
            " 14  lightConditions       7888 non-null   float64       \n",
            " 15  weatherConditions     7888 non-null   object        \n",
            " 16  placeConditions       7888 non-null   object        \n",
            " 17  closeObjects          7888 non-null   object        \n",
            " 18  violations            7888 non-null   object        \n",
            " 19  violationsAdditional  7888 non-null   object        \n",
            " 20  privod                7888 non-null   object        \n",
            " 21  traffic_regime        7888 non-null   object        \n",
            " 22  pokritie              7888 non-null   object        \n",
            " 23  neispravnosti         7888 non-null   object        \n",
            " 24  safety_belt           7888 non-null   object        \n",
            " 25  sublocality           7888 non-null   object        \n",
            "dtypes: datetime64[ns](1), float64(3), int64(5), object(17)\n",
            "memory usage: 1.6+ MB\n"
          ]
        }
      ]
    },
    {
      "cell_type": "markdown",
      "source": [
        "## все о РИТА"
      ],
      "metadata": {
        "id": "L4XCSW-4Pf0u"
      }
    },
    {
      "cell_type": "markdown",
      "source": [
        "В России существуют множество статей и гостов по определению материального ущерба от ДТП, например, есть структура EMPY для оценки вреда ТС, в которой содержаться статьи:\n",
        "\n",
        "  * «О единой методике определения размера расходов на восстановительный ремонт в отношении поврежденного транспортного средства» N 432-П.\n",
        "  * «О правилах проведения независимой технической экспертизы транспортного средства» N 433-П.\n",
        "  * Электронная база стоимости запчастей.\n",
        "Всего в документе 7 глав и 10 приложений-справочников. В главах подробно изложен порядок экспертиз после ДТП, процесс установки характера дефектов, описаны алгоритмы расчетов стоимости ремонта. В справочниках изложены:\n",
        "\n",
        "1. — требования к проведению фотосъемки;\n",
        "2. ⬇⬇⬇⬇⬇\n",
        "3. — перечень типовых повреждений и рекомендации производителей по ремонту кузова (иномарки);\n",
        "4. — цены на запасные части по регионам. Всего определено 13 зон, в каждой из которых действуют свои цены. Например, запчасти в Санкт-Петербурге и Москве значительно дороже, чем в среднем по России;\n",
        "5. ⬇⬇⬇⬇⬇\n",
        "6. — коэффициенты износа, дополнительные сведения;\n",
        "7. — детали, для которых износ не предусмотрен (показатель износа — 0);\n",
        "8. — данные по среднегодовому пробегу машины по регионам;\n",
        "9. — коэффициенты эксплуатации;\n",
        "10. — коэффициенты механических повреждений.\n",
        "\n",
        "Или так же есть много других статей по поводу возмещения матереального ущерба, например, \"Федеральный закон \"Об обязательном страховании гражданской ответственности владельцев транспортных средств\", но в нашем датсете данных для полной оценки материального ущерба от аварии нет. \n",
        "___\n",
        "Изначально планировалось составить 2 индекса, индекс оценки материального ущерба, и индекс оценки тяжести аварии, но после попыток их создать оказалось, что такие индексы будут сильно влиять друг на друга и нельзя составить индекс материального ущерба, без учета человеческих потерь и травм. Исходя из этого мы решили объединить индексы в один общий индекс ущерба аварии, который назовем Рассчетный Индекс Тяжести Аварии или РИТА.\n",
        "___\n",
        "По поводу оценки человеческих потерь в РИТА-е мы опираемся на ОСАГО. Например, возьмем статью 12 п7. Там сказано \n",
        "\n",
        "\"Размер страховой выплаты за причинение вреда жизни потерпевшего составляет:\n",
        "475 тысяч рублей - выгодоприобретателям, указанным в пункте 6 настоящей статьи;\n",
        "не более 25 тысяч рублей в счет возмещения расходов на погребение - лицам, понесшим такие расходы.\"\n",
        "___\n",
        "Для каждого пункта будем подсчитывать примерную стоимость единицы, если такое возможно.\n",
        "\n",
        "в РИТА-е учтем столбцы:\n",
        "  * NVehicles (число автомобилей участников) 100000;\n",
        "  * NPatricipants (число участников) с малым коэф. из-за моральных компенсаций 500;\n",
        "  * NInjured (число пострадавших) 15000;\n",
        "  * NFatal (число погибших) 500000;\n",
        "  * traffic_regime (изменение режима движения в результате ДТП) ;\n",
        "  * neispravnosti;\n",
        "  * privod, как еще однин столбец про сами ТС, скажем, что 4 колеса тормозят лучше 2.\n",
        "\n",
        "\n",
        "Далее зададим коэффициенты этой регрессии."
      ],
      "metadata": {
        "id": "G0mn9XSbLamk"
      }
    },
    {
      "cell_type": "markdown",
      "source": [
        "Коэффициенты регрессии:\n",
        "  * NVehicles  --  100;\n",
        "  * NPatricipants  --  0.5;\n",
        "  * NInjured  --  15;\n",
        "  * NFatal  --  500;\n",
        "  * traffic_regime  --  traffic_regime_index;\n",
        "  * neispravnosti  --  neispravnosti_index;\n",
        "  * privod  --  privod_index."
      ],
      "metadata": {
        "id": "hS1dQvp0lInr"
      }
    },
    {
      "cell_type": "markdown",
      "source": [
        "### traffic_regime_index"
      ],
      "metadata": {
        "id": "ExJ-u0kUn8f7"
      }
    },
    {
      "cell_type": "markdown",
      "source": [
        "https://yandex.ru/company/researches/2017/moscow_districts"
      ],
      "metadata": {
        "id": "5MLf56W553KA"
      }
    },
    {
      "cell_type": "code",
      "source": [
        "reiting_yandex = pd.read_csv('/content/drive/MyDrive/merge_preprocessing_dano/files/raiting_yandex.csv', sep=\";\")\n",
        "reiting_yandex.head()"
      ],
      "metadata": {
        "colab": {
          "base_uri": "https://localhost:8080/"
        },
        "id": "5YRlgfDe8dr_",
        "outputId": "99d3942d-0e92-4f62-efc9-95449067d9e1"
      },
      "execution_count": null,
      "outputs": [
        {
          "output_type": "execute_result",
          "data": {
            "text/html": [
              "<div>\n",
              "<style scoped>\n",
              "    .dataframe tbody tr th:only-of-type {\n",
              "        vertical-align: middle;\n",
              "    }\n",
              "\n",
              "    .dataframe tbody tr th {\n",
              "        vertical-align: top;\n",
              "    }\n",
              "\n",
              "    .dataframe thead th {\n",
              "        text-align: right;\n",
              "    }\n",
              "</style>\n",
              "<table border=\"1\" class=\"dataframe\">\n",
              "  <thead>\n",
              "    <tr style=\"text-align: right;\">\n",
              "      <th></th>\n",
              "      <th>district</th>\n",
              "      <th>little_infra</th>\n",
              "      <th>comfort_for_life</th>\n",
              "      <th>wery_comfort_for_life</th>\n",
              "      <th>not_happy</th>\n",
              "      <th>colture</th>\n",
              "      <th>happynass</th>\n",
              "      <th>culture-happy</th>\n",
              "      <th>place_in_life_infra</th>\n",
              "      <th>place_in_happy</th>\n",
              "      <th>raiting_of_life</th>\n",
              "      <th>raiting_of_happy</th>\n",
              "    </tr>\n",
              "  </thead>\n",
              "  <tbody>\n",
              "    <tr>\n",
              "      <th>0</th>\n",
              "      <td>Академический</td>\n",
              "      <td>4</td>\n",
              "      <td>31</td>\n",
              "      <td>65</td>\n",
              "      <td>16</td>\n",
              "      <td>2</td>\n",
              "      <td>51</td>\n",
              "      <td>31</td>\n",
              "      <td>7</td>\n",
              "      <td>25</td>\n",
              "      <td>91</td>\n",
              "      <td>76</td>\n",
              "    </tr>\n",
              "    <tr>\n",
              "      <th>1</th>\n",
              "      <td>Алексеевский</td>\n",
              "      <td>17</td>\n",
              "      <td>57</td>\n",
              "      <td>26</td>\n",
              "      <td>6</td>\n",
              "      <td>3</td>\n",
              "      <td>54</td>\n",
              "      <td>37</td>\n",
              "      <td>72</td>\n",
              "      <td>16</td>\n",
              "      <td>74</td>\n",
              "      <td>85</td>\n",
              "    </tr>\n",
              "    <tr>\n",
              "      <th>2</th>\n",
              "      <td>Алтуфьевский</td>\n",
              "      <td>15</td>\n",
              "      <td>45</td>\n",
              "      <td>40</td>\n",
              "      <td>50</td>\n",
              "      <td>0</td>\n",
              "      <td>50</td>\n",
              "      <td>0</td>\n",
              "      <td>55</td>\n",
              "      <td>66</td>\n",
              "      <td>78</td>\n",
              "      <td>42</td>\n",
              "    </tr>\n",
              "    <tr>\n",
              "      <th>3</th>\n",
              "      <td>Арбат</td>\n",
              "      <td>0</td>\n",
              "      <td>0</td>\n",
              "      <td>100</td>\n",
              "      <td>0</td>\n",
              "      <td>0</td>\n",
              "      <td>0</td>\n",
              "      <td>100</td>\n",
              "      <td>1</td>\n",
              "      <td>3</td>\n",
              "      <td>100</td>\n",
              "      <td>100</td>\n",
              "    </tr>\n",
              "    <tr>\n",
              "      <th>4</th>\n",
              "      <td>Аэропорт</td>\n",
              "      <td>3</td>\n",
              "      <td>32</td>\n",
              "      <td>65</td>\n",
              "      <td>16</td>\n",
              "      <td>0</td>\n",
              "      <td>49</td>\n",
              "      <td>35</td>\n",
              "      <td>5</td>\n",
              "      <td>23</td>\n",
              "      <td>92</td>\n",
              "      <td>76</td>\n",
              "    </tr>\n",
              "  </tbody>\n",
              "</table>\n",
              "</div>"
            ],
            "text/plain": [
              "        district  little_infra  ...  raiting_of_life  raiting_of_happy\n",
              "0  Академический             4  ...               91                76\n",
              "1   Алексеевский            17  ...               74                85\n",
              "2   Алтуфьевский            15  ...               78                42\n",
              "3          Арбат             0  ...              100               100\n",
              "4       Аэропорт             3  ...               92                76\n",
              "\n",
              "[5 rows x 12 columns]"
            ]
          },
          "metadata": {},
          "execution_count": 102
        }
      ]
    },
    {
      "cell_type": "markdown",
      "source": [
        "отсюда нам нужен только рейтинг жизни в районах, используем его как коэффициент"
      ],
      "metadata": {
        "id": "IRV-SksqDgKW"
      }
    },
    {
      "cell_type": "code",
      "source": [
        "life_raiting = dict()\n",
        "for i in range(len(reiting_yandex)):\n",
        "  life_raiting[reiting_yandex.loc[i, 'district']] = reiting_yandex.loc[i, 'raiting_of_life']\n",
        "print(life_raiting)"
      ],
      "metadata": {
        "colab": {
          "base_uri": "https://localhost:8080/"
        },
        "id": "fs1qk86dDfSm",
        "outputId": "ad3b267f-fff3-4259-f282-c60e8c769333"
      },
      "execution_count": null,
      "outputs": [
        {
          "output_type": "stream",
          "name": "stdout",
          "text": [
            "{'Академический': 91, 'Алексеевский': 74, 'Алтуфьевский': 78, 'Арбат': 100, 'Аэропорт': 92, 'Бабушкинский': 80, 'Басманный': 91, 'Беговой': 85, 'Бескудниковский': 79, 'Бибирево': 84, 'Бирюлёво Восточное': 62, 'Бирюлёво Западное': 72, 'Богородское': 79, 'Братеево': 80, 'Бутырский': 87, 'Вешняки': 75, 'Войковский': 58, 'Восточное Дегунино': 67, 'Восточное Измайлово': 85, 'Выхино-Жулебино': 74, 'Гагаринский': 75, 'Головинский': 59, 'Гольяново': 68, 'Даниловский': 36, 'Дмитровский': 67, 'Донской': 55, 'Дорогомилово': 86, 'Замоскворечье': 87, 'Западное Дегунино': 82, 'Зюзино': 78, 'Зябликово': 81, 'Ивановское': 73, 'Измайлово': 82, 'Капотня': 42, 'Коньково': 88, 'Коптево': 80, 'Косино-Ухтомский': 60, 'Котловка': 87, 'Красносельский': 80, 'Крылатское': 79, 'Кузьминки': 77, 'Кунцево': 76, 'Куркино': 46, 'Левобережный': 54, 'Лефортово': 84, 'Лианозово': 85, 'Ломоносовский': 86, 'Лосиноостровский': 73, 'Люблино': 61, 'Марфино': 56, 'Марьина Роща': 93, 'Марьино': 78, 'Метрогородок': 85, 'Мещанский': 86, 'Митино': 76, 'Можайский': 63, 'Молжаниновский': 14, 'Москворечье-Сабурово': 51, 'Нагатино-Садовники': 52, 'Нагатинский Затон': 66, 'Нагорный': 85, 'Некрасовка': 28, 'Нижегородский': 66, 'Ново-Переделкино': 70, 'Новогиреево': 85, 'Новокосино': 85, 'Обручевский': 78, 'Орехово-Борисово Северное': 74, 'Орехово-Борисово Южное': 70, 'Останкинский': 82, 'Отрадное': 85, 'Очаково-Матвеевское': 50, 'Перово': 69, 'Печатники': 75, 'Покровское-Стрешнево': 63, 'Преображенское': 72, 'Пресненский': 79, 'Проспект Вернадского': 76, 'Раменки': 64, 'Ростокино': 44, 'Рязанский': 85, 'Савёловский': 92, 'Свиблово': 81, 'Северное Бутово': 84, 'Северное Измайлово': 85, 'Северное Медведково': 91, 'Северное Тушино': 76, 'Северный': 0, 'Сокол': 84, 'Соколиная Гора': 75, 'Сокольники': 85, 'Солнцево': 60, 'Строгино': 66, 'Таганский': 93, 'Тверской': 98, 'Текстильщики': 78, 'Тёплый Стан': 77, 'Тимирязевский': 65, 'Тропарёво-Никулино': 62, 'Филёвский Парк': 57, 'Фили-Давыдково': 75, 'Хамовники': 87, 'Ховрино': 77, 'Хорошёво-Мнёвники': 78, 'Хорошёвский': 82, 'Царицыно': 73, 'Черёмушки': 90, 'Чертаново Северное': 76, 'Чертаново Центральное': 85, 'Чертаново Южное': 63, 'Щукино': 86, 'Южное Бутово': 72, 'Южное Медведково': 55, 'Южное Тушино': 53, 'Южнопортовый': 58, 'Якиманка': 84, 'Ярославский': 52, 'Ясенево': 77}\n"
          ]
        }
      ]
    },
    {
      "cell_type": "code",
      "source": [
        "def find_reit(district):\n",
        "  if district in life_raiting:\n",
        "    return life_raiting[district] / 10\n",
        "  else:\n",
        "    return 1\n",
        "\n",
        "\n",
        "def replace_traf(string, koef_dist):\n",
        "  if string == 'Режим движения не изменялся':\n",
        "    return 0\n",
        "  elif string == 'Движение частично перекрыто':\n",
        "    return 25 * koef_dist\n",
        "  else:\n",
        "    return 300 * koef_dist\n",
        "\n",
        "df['traffic_regime_index'] = [replace_traf(df.loc[i, 'traffic_regime'], find_reit(df.loc[i, 'district'])) for i in range(len(df))]\n",
        "df.head()"
      ],
      "metadata": {
        "colab": {
          "base_uri": "https://localhost:8080/"
        },
        "id": "3IF-CICfkswk",
        "outputId": "d42d0433-ae30-4c3c-c800-f2541c0125d3"
      },
      "execution_count": null,
      "outputs": [
        {
          "output_type": "execute_result",
          "data": {
            "text/html": [
              "<div>\n",
              "<style scoped>\n",
              "    .dataframe tbody tr th:only-of-type {\n",
              "        vertical-align: middle;\n",
              "    }\n",
              "\n",
              "    .dataframe tbody tr th {\n",
              "        vertical-align: top;\n",
              "    }\n",
              "\n",
              "    .dataframe thead th {\n",
              "        text-align: right;\n",
              "    }\n",
              "</style>\n",
              "<table border=\"1\" class=\"dataframe\">\n",
              "  <thead>\n",
              "    <tr style=\"text-align: right;\">\n",
              "      <th></th>\n",
              "      <th>coordL</th>\n",
              "      <th>coordW</th>\n",
              "      <th>place</th>\n",
              "      <th>district</th>\n",
              "      <th>DTPType</th>\n",
              "      <th>date</th>\n",
              "      <th>real_date</th>\n",
              "      <th>month</th>\n",
              "      <th>season</th>\n",
              "      <th>NVehicles</th>\n",
              "      <th>NPatricipants</th>\n",
              "      <th>NInjured</th>\n",
              "      <th>NFatal</th>\n",
              "      <th>additionalFactor</th>\n",
              "      <th>lightConditions</th>\n",
              "      <th>weatherConditions</th>\n",
              "      <th>placeConditions</th>\n",
              "      <th>closeObjects</th>\n",
              "      <th>violations</th>\n",
              "      <th>violationsAdditional</th>\n",
              "      <th>privod</th>\n",
              "      <th>traffic_regime</th>\n",
              "      <th>pokritie</th>\n",
              "      <th>neispravnosti</th>\n",
              "      <th>safety_belt</th>\n",
              "      <th>sublocality</th>\n",
              "      <th>traffic_regime_index</th>\n",
              "    </tr>\n",
              "  </thead>\n",
              "  <tbody>\n",
              "    <tr>\n",
              "      <th>0</th>\n",
              "      <td>37.464817</td>\n",
              "      <td>55.758116</td>\n",
              "      <td>ул Мнёвники Нижн.</td>\n",
              "      <td>Хорошево-мневники</td>\n",
              "      <td>Наезд на препятствие</td>\n",
              "      <td>01.01.2020</td>\n",
              "      <td>2020-01-01</td>\n",
              "      <td>1</td>\n",
              "      <td>Winter</td>\n",
              "      <td>1</td>\n",
              "      <td>1</td>\n",
              "      <td>1</td>\n",
              "      <td>0</td>\n",
              "      <td>Сведения отсутствуют</td>\n",
              "      <td>0.5</td>\n",
              "      <td>Пасмурно</td>\n",
              "      <td>Перегон (нет объектов на месте ДТП)</td>\n",
              "      <td>Остановка общественного транспорта</td>\n",
              "      <td>Несоответствие скорости конкретным условиям дв...</td>\n",
              "      <td>Нет нарушений</td>\n",
              "      <td>передний</td>\n",
              "      <td>Режим движения не изменялся</td>\n",
              "      <td>Мокрое</td>\n",
              "      <td>Технические неисправности отсутствуют</td>\n",
              "      <td>Нет</td>\n",
              "      <td>Северо-Западный административный округ</td>\n",
              "      <td>0.0</td>\n",
              "    </tr>\n",
              "    <tr>\n",
              "      <th>1</th>\n",
              "      <td>37.388953</td>\n",
              "      <td>55.811338</td>\n",
              "      <td>Московская кольцевая автомобильная дорога (МКА...</td>\n",
              "      <td>Строгино</td>\n",
              "      <td>Наезд на стоящее ТС</td>\n",
              "      <td>01.01.2020</td>\n",
              "      <td>2020-01-01</td>\n",
              "      <td>1</td>\n",
              "      <td>Winter</td>\n",
              "      <td>2</td>\n",
              "      <td>2</td>\n",
              "      <td>1</td>\n",
              "      <td>0</td>\n",
              "      <td>Наличие на дороге объектов, мешающих движению</td>\n",
              "      <td>1.0</td>\n",
              "      <td>Ясно</td>\n",
              "      <td>Перегон (нет объектов на месте ДТП)</td>\n",
              "      <td>Отсутствие в непосредственной близости объекто...</td>\n",
              "      <td>Несоответствие скорости конкретным условиям дв...</td>\n",
              "      <td>Нет нарушений</td>\n",
              "      <td>передний</td>\n",
              "      <td>Движение частично перекрыто</td>\n",
              "      <td>Сухое</td>\n",
              "      <td>Технические неисправности отсутствуют</td>\n",
              "      <td>Нет</td>\n",
              "      <td>Северо-Западный административный округ</td>\n",
              "      <td>165.0</td>\n",
              "    </tr>\n",
              "    <tr>\n",
              "      <th>2</th>\n",
              "      <td>37.623153</td>\n",
              "      <td>55.866787</td>\n",
              "      <td>Юрловский пр-д</td>\n",
              "      <td>Отрадное</td>\n",
              "      <td>Наезд на пешехода</td>\n",
              "      <td>01.01.2020</td>\n",
              "      <td>2020-01-01</td>\n",
              "      <td>1</td>\n",
              "      <td>Winter</td>\n",
              "      <td>1</td>\n",
              "      <td>2</td>\n",
              "      <td>1</td>\n",
              "      <td>0</td>\n",
              "      <td>Сужение проезжей части</td>\n",
              "      <td>1.0</td>\n",
              "      <td>Пасмурно</td>\n",
              "      <td>Внутридворовая территория</td>\n",
              "      <td>Административные здания</td>\n",
              "      <td>Несоблюдение очередности проезда</td>\n",
              "      <td>Другие нарушения ПДД водителем</td>\n",
              "      <td>праворукий</td>\n",
              "      <td>Режим движения не изменялся</td>\n",
              "      <td>Сухое</td>\n",
              "      <td>Технические неисправности отсутствуют</td>\n",
              "      <td>Нет</td>\n",
              "      <td>Северо-Восточный административный округ</td>\n",
              "      <td>0.0</td>\n",
              "    </tr>\n",
              "    <tr>\n",
              "      <th>3</th>\n",
              "      <td>37.588413</td>\n",
              "      <td>55.660576</td>\n",
              "      <td>ул Болотниковская</td>\n",
              "      <td>Зюзино</td>\n",
              "      <td>Столкновение</td>\n",
              "      <td>01.01.2020</td>\n",
              "      <td>2020-01-01</td>\n",
              "      <td>1</td>\n",
              "      <td>Winter</td>\n",
              "      <td>2</td>\n",
              "      <td>3</td>\n",
              "      <td>1</td>\n",
              "      <td>0</td>\n",
              "      <td>Сведения отсутствуют</td>\n",
              "      <td>0.5</td>\n",
              "      <td>Пасмурно</td>\n",
              "      <td>Регулируемый пешеходный переход</td>\n",
              "      <td>Остановка общественного транспорта</td>\n",
              "      <td>Несоблюдение очередности проезда</td>\n",
              "      <td>Нет нарушений</td>\n",
              "      <td>передний</td>\n",
              "      <td>Движение частично перекрыто</td>\n",
              "      <td>Мокрое</td>\n",
              "      <td>Технические неисправности отсутствуют</td>\n",
              "      <td>Нет</td>\n",
              "      <td>Юго-Западный административный округ</td>\n",
              "      <td>195.0</td>\n",
              "    </tr>\n",
              "    <tr>\n",
              "      <th>4</th>\n",
              "      <td>37.636467</td>\n",
              "      <td>55.805098</td>\n",
              "      <td>пр-кт Мира</td>\n",
              "      <td>Алексеевский</td>\n",
              "      <td>Падение чего-либо</td>\n",
              "      <td>01.01.2020</td>\n",
              "      <td>2020-01-01</td>\n",
              "      <td>1</td>\n",
              "      <td>Winter</td>\n",
              "      <td>1</td>\n",
              "      <td>2</td>\n",
              "      <td>1</td>\n",
              "      <td>0</td>\n",
              "      <td>Участок, контролируемый камерой</td>\n",
              "      <td>0.5</td>\n",
              "      <td>Ясно</td>\n",
              "      <td>Остановка общественного транспорта</td>\n",
              "      <td>Остановка общественного транспорта</td>\n",
              "      <td>Нарушение правил пользования общественным тран...</td>\n",
              "      <td>Нарушение правил перевозки людей</td>\n",
              "      <td>передний</td>\n",
              "      <td>Режим движения не изменялся</td>\n",
              "      <td>Сухое</td>\n",
              "      <td>Технические неисправности отсутствуют</td>\n",
              "      <td>Нет</td>\n",
              "      <td>Северо-Восточный административный округ</td>\n",
              "      <td>0.0</td>\n",
              "    </tr>\n",
              "  </tbody>\n",
              "</table>\n",
              "</div>"
            ],
            "text/plain": [
              "      coordL  ...  traffic_regime_index\n",
              "0  37.464817  ...                   0.0\n",
              "1  37.388953  ...                 165.0\n",
              "2  37.623153  ...                   0.0\n",
              "3  37.588413  ...                 195.0\n",
              "4  37.636467  ...                   0.0\n",
              "\n",
              "[5 rows x 27 columns]"
            ]
          },
          "metadata": {},
          "execution_count": 104
        }
      ]
    },
    {
      "cell_type": "markdown",
      "source": [
        "### neispravnosti_index"
      ],
      "metadata": {
        "id": "T7Zn1vsIoAqL"
      }
    },
    {
      "cell_type": "code",
      "source": [
        "df.neispravnosti.value_counts()"
      ],
      "metadata": {
        "colab": {
          "base_uri": "https://localhost:8080/"
        },
        "id": "pRgUtZ6goTZc",
        "outputId": "0bf4658d-e29f-4ac0-80d7-5ca72870e54e"
      },
      "execution_count": null,
      "outputs": [
        {
          "output_type": "execute_result",
          "data": {
            "text/plain": [
              "Технические неисправности отсутствуют    7554\n",
              "Имеются неисправности                     334\n",
              "Name: neispravnosti, dtype: int64"
            ]
          },
          "metadata": {},
          "execution_count": 105
        }
      ]
    },
    {
      "cell_type": "code",
      "source": [
        "def replace_neis(string):\n",
        "  if string == 'Технические неисправности отсутствуют':\n",
        "    return 0\n",
        "  else:\n",
        "    return 15\n",
        "\n",
        "df['neispravnosti_index'] = [replace_neis(i) for i in df['neispravnosti']]\n",
        "df.head()"
      ],
      "metadata": {
        "colab": {
          "base_uri": "https://localhost:8080/"
        },
        "id": "x5dDxSC3oGbJ",
        "outputId": "f7bdfd3c-e26c-4d25-bcb5-bca2af46f3c3"
      },
      "execution_count": null,
      "outputs": [
        {
          "output_type": "execute_result",
          "data": {
            "text/html": [
              "<div>\n",
              "<style scoped>\n",
              "    .dataframe tbody tr th:only-of-type {\n",
              "        vertical-align: middle;\n",
              "    }\n",
              "\n",
              "    .dataframe tbody tr th {\n",
              "        vertical-align: top;\n",
              "    }\n",
              "\n",
              "    .dataframe thead th {\n",
              "        text-align: right;\n",
              "    }\n",
              "</style>\n",
              "<table border=\"1\" class=\"dataframe\">\n",
              "  <thead>\n",
              "    <tr style=\"text-align: right;\">\n",
              "      <th></th>\n",
              "      <th>coordL</th>\n",
              "      <th>coordW</th>\n",
              "      <th>place</th>\n",
              "      <th>district</th>\n",
              "      <th>DTPType</th>\n",
              "      <th>date</th>\n",
              "      <th>real_date</th>\n",
              "      <th>month</th>\n",
              "      <th>season</th>\n",
              "      <th>NVehicles</th>\n",
              "      <th>NPatricipants</th>\n",
              "      <th>NInjured</th>\n",
              "      <th>NFatal</th>\n",
              "      <th>additionalFactor</th>\n",
              "      <th>lightConditions</th>\n",
              "      <th>weatherConditions</th>\n",
              "      <th>placeConditions</th>\n",
              "      <th>closeObjects</th>\n",
              "      <th>violations</th>\n",
              "      <th>violationsAdditional</th>\n",
              "      <th>privod</th>\n",
              "      <th>traffic_regime</th>\n",
              "      <th>pokritie</th>\n",
              "      <th>neispravnosti</th>\n",
              "      <th>safety_belt</th>\n",
              "      <th>sublocality</th>\n",
              "      <th>traffic_regime_index</th>\n",
              "      <th>neispravnosti_index</th>\n",
              "    </tr>\n",
              "  </thead>\n",
              "  <tbody>\n",
              "    <tr>\n",
              "      <th>0</th>\n",
              "      <td>37.464817</td>\n",
              "      <td>55.758116</td>\n",
              "      <td>ул Мнёвники Нижн.</td>\n",
              "      <td>Хорошево-мневники</td>\n",
              "      <td>Наезд на препятствие</td>\n",
              "      <td>01.01.2020</td>\n",
              "      <td>2020-01-01</td>\n",
              "      <td>1</td>\n",
              "      <td>Winter</td>\n",
              "      <td>1</td>\n",
              "      <td>1</td>\n",
              "      <td>1</td>\n",
              "      <td>0</td>\n",
              "      <td>Сведения отсутствуют</td>\n",
              "      <td>0.5</td>\n",
              "      <td>Пасмурно</td>\n",
              "      <td>Перегон (нет объектов на месте ДТП)</td>\n",
              "      <td>Остановка общественного транспорта</td>\n",
              "      <td>Несоответствие скорости конкретным условиям дв...</td>\n",
              "      <td>Нет нарушений</td>\n",
              "      <td>передний</td>\n",
              "      <td>Режим движения не изменялся</td>\n",
              "      <td>Мокрое</td>\n",
              "      <td>Технические неисправности отсутствуют</td>\n",
              "      <td>Нет</td>\n",
              "      <td>Северо-Западный административный округ</td>\n",
              "      <td>0.0</td>\n",
              "      <td>0</td>\n",
              "    </tr>\n",
              "    <tr>\n",
              "      <th>1</th>\n",
              "      <td>37.388953</td>\n",
              "      <td>55.811338</td>\n",
              "      <td>Московская кольцевая автомобильная дорога (МКА...</td>\n",
              "      <td>Строгино</td>\n",
              "      <td>Наезд на стоящее ТС</td>\n",
              "      <td>01.01.2020</td>\n",
              "      <td>2020-01-01</td>\n",
              "      <td>1</td>\n",
              "      <td>Winter</td>\n",
              "      <td>2</td>\n",
              "      <td>2</td>\n",
              "      <td>1</td>\n",
              "      <td>0</td>\n",
              "      <td>Наличие на дороге объектов, мешающих движению</td>\n",
              "      <td>1.0</td>\n",
              "      <td>Ясно</td>\n",
              "      <td>Перегон (нет объектов на месте ДТП)</td>\n",
              "      <td>Отсутствие в непосредственной близости объекто...</td>\n",
              "      <td>Несоответствие скорости конкретным условиям дв...</td>\n",
              "      <td>Нет нарушений</td>\n",
              "      <td>передний</td>\n",
              "      <td>Движение частично перекрыто</td>\n",
              "      <td>Сухое</td>\n",
              "      <td>Технические неисправности отсутствуют</td>\n",
              "      <td>Нет</td>\n",
              "      <td>Северо-Западный административный округ</td>\n",
              "      <td>165.0</td>\n",
              "      <td>0</td>\n",
              "    </tr>\n",
              "    <tr>\n",
              "      <th>2</th>\n",
              "      <td>37.623153</td>\n",
              "      <td>55.866787</td>\n",
              "      <td>Юрловский пр-д</td>\n",
              "      <td>Отрадное</td>\n",
              "      <td>Наезд на пешехода</td>\n",
              "      <td>01.01.2020</td>\n",
              "      <td>2020-01-01</td>\n",
              "      <td>1</td>\n",
              "      <td>Winter</td>\n",
              "      <td>1</td>\n",
              "      <td>2</td>\n",
              "      <td>1</td>\n",
              "      <td>0</td>\n",
              "      <td>Сужение проезжей части</td>\n",
              "      <td>1.0</td>\n",
              "      <td>Пасмурно</td>\n",
              "      <td>Внутридворовая территория</td>\n",
              "      <td>Административные здания</td>\n",
              "      <td>Несоблюдение очередности проезда</td>\n",
              "      <td>Другие нарушения ПДД водителем</td>\n",
              "      <td>праворукий</td>\n",
              "      <td>Режим движения не изменялся</td>\n",
              "      <td>Сухое</td>\n",
              "      <td>Технические неисправности отсутствуют</td>\n",
              "      <td>Нет</td>\n",
              "      <td>Северо-Восточный административный округ</td>\n",
              "      <td>0.0</td>\n",
              "      <td>0</td>\n",
              "    </tr>\n",
              "    <tr>\n",
              "      <th>3</th>\n",
              "      <td>37.588413</td>\n",
              "      <td>55.660576</td>\n",
              "      <td>ул Болотниковская</td>\n",
              "      <td>Зюзино</td>\n",
              "      <td>Столкновение</td>\n",
              "      <td>01.01.2020</td>\n",
              "      <td>2020-01-01</td>\n",
              "      <td>1</td>\n",
              "      <td>Winter</td>\n",
              "      <td>2</td>\n",
              "      <td>3</td>\n",
              "      <td>1</td>\n",
              "      <td>0</td>\n",
              "      <td>Сведения отсутствуют</td>\n",
              "      <td>0.5</td>\n",
              "      <td>Пасмурно</td>\n",
              "      <td>Регулируемый пешеходный переход</td>\n",
              "      <td>Остановка общественного транспорта</td>\n",
              "      <td>Несоблюдение очередности проезда</td>\n",
              "      <td>Нет нарушений</td>\n",
              "      <td>передний</td>\n",
              "      <td>Движение частично перекрыто</td>\n",
              "      <td>Мокрое</td>\n",
              "      <td>Технические неисправности отсутствуют</td>\n",
              "      <td>Нет</td>\n",
              "      <td>Юго-Западный административный округ</td>\n",
              "      <td>195.0</td>\n",
              "      <td>0</td>\n",
              "    </tr>\n",
              "    <tr>\n",
              "      <th>4</th>\n",
              "      <td>37.636467</td>\n",
              "      <td>55.805098</td>\n",
              "      <td>пр-кт Мира</td>\n",
              "      <td>Алексеевский</td>\n",
              "      <td>Падение чего-либо</td>\n",
              "      <td>01.01.2020</td>\n",
              "      <td>2020-01-01</td>\n",
              "      <td>1</td>\n",
              "      <td>Winter</td>\n",
              "      <td>1</td>\n",
              "      <td>2</td>\n",
              "      <td>1</td>\n",
              "      <td>0</td>\n",
              "      <td>Участок, контролируемый камерой</td>\n",
              "      <td>0.5</td>\n",
              "      <td>Ясно</td>\n",
              "      <td>Остановка общественного транспорта</td>\n",
              "      <td>Остановка общественного транспорта</td>\n",
              "      <td>Нарушение правил пользования общественным тран...</td>\n",
              "      <td>Нарушение правил перевозки людей</td>\n",
              "      <td>передний</td>\n",
              "      <td>Режим движения не изменялся</td>\n",
              "      <td>Сухое</td>\n",
              "      <td>Технические неисправности отсутствуют</td>\n",
              "      <td>Нет</td>\n",
              "      <td>Северо-Восточный административный округ</td>\n",
              "      <td>0.0</td>\n",
              "      <td>0</td>\n",
              "    </tr>\n",
              "  </tbody>\n",
              "</table>\n",
              "</div>"
            ],
            "text/plain": [
              "      coordL     coordW  ... traffic_regime_index neispravnosti_index\n",
              "0  37.464817  55.758116  ...                  0.0                   0\n",
              "1  37.388953  55.811338  ...                165.0                   0\n",
              "2  37.623153  55.866787  ...                  0.0                   0\n",
              "3  37.588413  55.660576  ...                195.0                   0\n",
              "4  37.636467  55.805098  ...                  0.0                   0\n",
              "\n",
              "[5 rows x 28 columns]"
            ]
          },
          "metadata": {},
          "execution_count": 106
        }
      ]
    },
    {
      "cell_type": "code",
      "source": [
        "df.neispravnosti_index.value_counts()"
      ],
      "metadata": {
        "colab": {
          "base_uri": "https://localhost:8080/"
        },
        "id": "LZk17KHm58G0",
        "outputId": "9f1efca1-a821-4705-b92d-4368cbc45ec9"
      },
      "execution_count": null,
      "outputs": [
        {
          "output_type": "execute_result",
          "data": {
            "text/plain": [
              "0     7554\n",
              "15     334\n",
              "Name: neispravnosti_index, dtype: int64"
            ]
          },
          "metadata": {},
          "execution_count": 107
        }
      ]
    },
    {
      "cell_type": "markdown",
      "source": [
        "### privod_index"
      ],
      "metadata": {
        "id": "ph82BKqno5zD"
      }
    },
    {
      "cell_type": "code",
      "source": [
        "df.privod.value_counts()"
      ],
      "metadata": {
        "colab": {
          "base_uri": "https://localhost:8080/"
        },
        "id": "ugLMPE6EpWh7",
        "outputId": "bdac4631-b265-4797-8e45-7c980ac69fd3"
      },
      "execution_count": null,
      "outputs": [
        {
          "output_type": "execute_result",
          "data": {
            "text/plain": [
              "передний                             3913\n",
              "задний,передний                       733\n",
              "полный,передний                       706\n",
              "задний                                652\n",
              "передний,праворукий                   579\n",
              "полный                                513\n",
              "праворукий                            302\n",
              "полный,праворукий                     120\n",
              "полный,задний                          91\n",
              "задний,праворукий                      79\n",
              "полный,задний,передний                 61\n",
              "Нет информации                         60\n",
              "полный,передний,праворукий             42\n",
              "задний,передний,праворукий             29\n",
              "полный,задний,передний,праворукий       5\n",
              "полный,задний,праворукий                3\n",
              "Name: privod, dtype: int64"
            ]
          },
          "metadata": {},
          "execution_count": 108
        }
      ]
    },
    {
      "cell_type": "code",
      "source": [
        "def replace_privod(string):\n",
        "  index = 0\n",
        "  if 'полный' in string:\n",
        "    index += -5\n",
        "  if 'задний' in string:\n",
        "    index += 5\n",
        "  if 'передний' in string:\n",
        "    index += 10\n",
        "  if 'праворукий' in string:\n",
        "    index += 15\n",
        "  return index\n",
        "\n",
        "df['privod_index'] = [replace_privod(i) for i in df['privod']]\n",
        "df.head()"
      ],
      "metadata": {
        "colab": {
          "base_uri": "https://localhost:8080/"
        },
        "id": "5WB4QLCBo8aC",
        "outputId": "bc743ca8-dbfd-4949-a840-5805388aaf7b"
      },
      "execution_count": null,
      "outputs": [
        {
          "output_type": "execute_result",
          "data": {
            "text/html": [
              "<div>\n",
              "<style scoped>\n",
              "    .dataframe tbody tr th:only-of-type {\n",
              "        vertical-align: middle;\n",
              "    }\n",
              "\n",
              "    .dataframe tbody tr th {\n",
              "        vertical-align: top;\n",
              "    }\n",
              "\n",
              "    .dataframe thead th {\n",
              "        text-align: right;\n",
              "    }\n",
              "</style>\n",
              "<table border=\"1\" class=\"dataframe\">\n",
              "  <thead>\n",
              "    <tr style=\"text-align: right;\">\n",
              "      <th></th>\n",
              "      <th>coordL</th>\n",
              "      <th>coordW</th>\n",
              "      <th>place</th>\n",
              "      <th>district</th>\n",
              "      <th>DTPType</th>\n",
              "      <th>date</th>\n",
              "      <th>real_date</th>\n",
              "      <th>month</th>\n",
              "      <th>season</th>\n",
              "      <th>NVehicles</th>\n",
              "      <th>NPatricipants</th>\n",
              "      <th>NInjured</th>\n",
              "      <th>NFatal</th>\n",
              "      <th>additionalFactor</th>\n",
              "      <th>lightConditions</th>\n",
              "      <th>weatherConditions</th>\n",
              "      <th>placeConditions</th>\n",
              "      <th>closeObjects</th>\n",
              "      <th>violations</th>\n",
              "      <th>violationsAdditional</th>\n",
              "      <th>privod</th>\n",
              "      <th>traffic_regime</th>\n",
              "      <th>pokritie</th>\n",
              "      <th>neispravnosti</th>\n",
              "      <th>safety_belt</th>\n",
              "      <th>sublocality</th>\n",
              "      <th>traffic_regime_index</th>\n",
              "      <th>neispravnosti_index</th>\n",
              "      <th>privod_index</th>\n",
              "    </tr>\n",
              "  </thead>\n",
              "  <tbody>\n",
              "    <tr>\n",
              "      <th>0</th>\n",
              "      <td>37.464817</td>\n",
              "      <td>55.758116</td>\n",
              "      <td>ул Мнёвники Нижн.</td>\n",
              "      <td>Хорошево-мневники</td>\n",
              "      <td>Наезд на препятствие</td>\n",
              "      <td>01.01.2020</td>\n",
              "      <td>2020-01-01</td>\n",
              "      <td>1</td>\n",
              "      <td>Winter</td>\n",
              "      <td>1</td>\n",
              "      <td>1</td>\n",
              "      <td>1</td>\n",
              "      <td>0</td>\n",
              "      <td>Сведения отсутствуют</td>\n",
              "      <td>0.5</td>\n",
              "      <td>Пасмурно</td>\n",
              "      <td>Перегон (нет объектов на месте ДТП)</td>\n",
              "      <td>Остановка общественного транспорта</td>\n",
              "      <td>Несоответствие скорости конкретным условиям дв...</td>\n",
              "      <td>Нет нарушений</td>\n",
              "      <td>передний</td>\n",
              "      <td>Режим движения не изменялся</td>\n",
              "      <td>Мокрое</td>\n",
              "      <td>Технические неисправности отсутствуют</td>\n",
              "      <td>Нет</td>\n",
              "      <td>Северо-Западный административный округ</td>\n",
              "      <td>0.0</td>\n",
              "      <td>0</td>\n",
              "      <td>10</td>\n",
              "    </tr>\n",
              "    <tr>\n",
              "      <th>1</th>\n",
              "      <td>37.388953</td>\n",
              "      <td>55.811338</td>\n",
              "      <td>Московская кольцевая автомобильная дорога (МКА...</td>\n",
              "      <td>Строгино</td>\n",
              "      <td>Наезд на стоящее ТС</td>\n",
              "      <td>01.01.2020</td>\n",
              "      <td>2020-01-01</td>\n",
              "      <td>1</td>\n",
              "      <td>Winter</td>\n",
              "      <td>2</td>\n",
              "      <td>2</td>\n",
              "      <td>1</td>\n",
              "      <td>0</td>\n",
              "      <td>Наличие на дороге объектов, мешающих движению</td>\n",
              "      <td>1.0</td>\n",
              "      <td>Ясно</td>\n",
              "      <td>Перегон (нет объектов на месте ДТП)</td>\n",
              "      <td>Отсутствие в непосредственной близости объекто...</td>\n",
              "      <td>Несоответствие скорости конкретным условиям дв...</td>\n",
              "      <td>Нет нарушений</td>\n",
              "      <td>передний</td>\n",
              "      <td>Движение частично перекрыто</td>\n",
              "      <td>Сухое</td>\n",
              "      <td>Технические неисправности отсутствуют</td>\n",
              "      <td>Нет</td>\n",
              "      <td>Северо-Западный административный округ</td>\n",
              "      <td>165.0</td>\n",
              "      <td>0</td>\n",
              "      <td>10</td>\n",
              "    </tr>\n",
              "    <tr>\n",
              "      <th>2</th>\n",
              "      <td>37.623153</td>\n",
              "      <td>55.866787</td>\n",
              "      <td>Юрловский пр-д</td>\n",
              "      <td>Отрадное</td>\n",
              "      <td>Наезд на пешехода</td>\n",
              "      <td>01.01.2020</td>\n",
              "      <td>2020-01-01</td>\n",
              "      <td>1</td>\n",
              "      <td>Winter</td>\n",
              "      <td>1</td>\n",
              "      <td>2</td>\n",
              "      <td>1</td>\n",
              "      <td>0</td>\n",
              "      <td>Сужение проезжей части</td>\n",
              "      <td>1.0</td>\n",
              "      <td>Пасмурно</td>\n",
              "      <td>Внутридворовая территория</td>\n",
              "      <td>Административные здания</td>\n",
              "      <td>Несоблюдение очередности проезда</td>\n",
              "      <td>Другие нарушения ПДД водителем</td>\n",
              "      <td>праворукий</td>\n",
              "      <td>Режим движения не изменялся</td>\n",
              "      <td>Сухое</td>\n",
              "      <td>Технические неисправности отсутствуют</td>\n",
              "      <td>Нет</td>\n",
              "      <td>Северо-Восточный административный округ</td>\n",
              "      <td>0.0</td>\n",
              "      <td>0</td>\n",
              "      <td>15</td>\n",
              "    </tr>\n",
              "    <tr>\n",
              "      <th>3</th>\n",
              "      <td>37.588413</td>\n",
              "      <td>55.660576</td>\n",
              "      <td>ул Болотниковская</td>\n",
              "      <td>Зюзино</td>\n",
              "      <td>Столкновение</td>\n",
              "      <td>01.01.2020</td>\n",
              "      <td>2020-01-01</td>\n",
              "      <td>1</td>\n",
              "      <td>Winter</td>\n",
              "      <td>2</td>\n",
              "      <td>3</td>\n",
              "      <td>1</td>\n",
              "      <td>0</td>\n",
              "      <td>Сведения отсутствуют</td>\n",
              "      <td>0.5</td>\n",
              "      <td>Пасмурно</td>\n",
              "      <td>Регулируемый пешеходный переход</td>\n",
              "      <td>Остановка общественного транспорта</td>\n",
              "      <td>Несоблюдение очередности проезда</td>\n",
              "      <td>Нет нарушений</td>\n",
              "      <td>передний</td>\n",
              "      <td>Движение частично перекрыто</td>\n",
              "      <td>Мокрое</td>\n",
              "      <td>Технические неисправности отсутствуют</td>\n",
              "      <td>Нет</td>\n",
              "      <td>Юго-Западный административный округ</td>\n",
              "      <td>195.0</td>\n",
              "      <td>0</td>\n",
              "      <td>10</td>\n",
              "    </tr>\n",
              "    <tr>\n",
              "      <th>4</th>\n",
              "      <td>37.636467</td>\n",
              "      <td>55.805098</td>\n",
              "      <td>пр-кт Мира</td>\n",
              "      <td>Алексеевский</td>\n",
              "      <td>Падение чего-либо</td>\n",
              "      <td>01.01.2020</td>\n",
              "      <td>2020-01-01</td>\n",
              "      <td>1</td>\n",
              "      <td>Winter</td>\n",
              "      <td>1</td>\n",
              "      <td>2</td>\n",
              "      <td>1</td>\n",
              "      <td>0</td>\n",
              "      <td>Участок, контролируемый камерой</td>\n",
              "      <td>0.5</td>\n",
              "      <td>Ясно</td>\n",
              "      <td>Остановка общественного транспорта</td>\n",
              "      <td>Остановка общественного транспорта</td>\n",
              "      <td>Нарушение правил пользования общественным тран...</td>\n",
              "      <td>Нарушение правил перевозки людей</td>\n",
              "      <td>передний</td>\n",
              "      <td>Режим движения не изменялся</td>\n",
              "      <td>Сухое</td>\n",
              "      <td>Технические неисправности отсутствуют</td>\n",
              "      <td>Нет</td>\n",
              "      <td>Северо-Восточный административный округ</td>\n",
              "      <td>0.0</td>\n",
              "      <td>0</td>\n",
              "      <td>10</td>\n",
              "    </tr>\n",
              "  </tbody>\n",
              "</table>\n",
              "</div>"
            ],
            "text/plain": [
              "      coordL     coordW  ... neispravnosti_index privod_index\n",
              "0  37.464817  55.758116  ...                   0           10\n",
              "1  37.388953  55.811338  ...                   0           10\n",
              "2  37.623153  55.866787  ...                   0           15\n",
              "3  37.588413  55.660576  ...                   0           10\n",
              "4  37.636467  55.805098  ...                   0           10\n",
              "\n",
              "[5 rows x 29 columns]"
            ]
          },
          "metadata": {},
          "execution_count": 109
        }
      ]
    },
    {
      "cell_type": "code",
      "source": [
        "from copy import deepcopy\n",
        "df1 = deepcopy(df)\n",
        "plt.plot(range(7888), df1.sort_values(by='privod_index')['privod_index'].values)\n",
        "plt.show()"
      ],
      "metadata": {
        "colab": {
          "base_uri": "https://localhost:8080/"
        },
        "id": "B0GwHXF03CiF",
        "outputId": "aa168a67-5bcc-40bb-8c93-8e8c25406a8d"
      },
      "execution_count": null,
      "outputs": [
        {
          "output_type": "display_data",
          "data": {
            "image/png": "[encoded data removed]",
            "text/plain": [
              "<Figure size 432x288 with 1 Axes>"
            ]
          },
          "metadata": {
            "needs_background": "light"
          }
        }
      ]
    },
    {
      "cell_type": "markdown",
      "source": [
        "## рассчет РИТА-а"
      ],
      "metadata": {
        "id": "BDgy0eJZJ2u7"
      }
    },
    {
      "cell_type": "markdown",
      "source": [
        "добавить в риту коэффициент инфляции и стоимости по районам"
      ],
      "metadata": {
        "id": "wgOq89KTYDec"
      }
    },
    {
      "cell_type": "code",
      "source": [
        "def for_rita(NVehicles, NPatricipants, NInjured, NFatal, traffic_regime_index, neispravnosti_index, privod_index):\n",
        "  return NPatricipants * 0.5 + NInjured * 15 + NFatal * 500 + traffic_regime_index + neispravnosti_index + privod_index + NVehicles * 100"
      ],
      "metadata": {
        "id": "DzgxLrigKSOy"
      },
      "execution_count": null,
      "outputs": []
    },
    {
      "cell_type": "code",
      "source": [
        "df.loc[6974, 'privod_index']"
      ],
      "metadata": {
        "colab": {
          "base_uri": "https://localhost:8080/"
        },
        "id": "W9GcmVEFL_iD",
        "outputId": "7c8776be-2076-4328-bea6-63317195762d"
      },
      "execution_count": null,
      "outputs": [
        {
          "output_type": "execute_result",
          "data": {
            "text/plain": [
              "10"
            ]
          },
          "metadata": {},
          "execution_count": 112
        }
      ]
    },
    {
      "cell_type": "code",
      "source": [
        "df['RITA'] = [for_rita(df.loc[i, 'NVehicles'], df.loc[i, 'NPatricipants'], df.loc[i, 'NInjured'], df.loc[i, 'NFatal'], df.loc[i, 'traffic_regime_index'], df.loc[i, 'neispravnosti_index'], df.loc[i, 'privod_index']) for i in range(len(df))]"
      ],
      "metadata": {
        "id": "fm2y3NQkJ8Ic"
      },
      "execution_count": null,
      "outputs": []
    },
    {
      "cell_type": "code",
      "source": [
        "plt.plot(range(7888), df.sort_values(by='RITA')['RITA'].values)"
      ],
      "metadata": {
        "colab": {
          "base_uri": "https://localhost:8080/",
          "height": 282
        },
        "id": "nU_xr4APMk6C",
        "outputId": "0484fae0-d1f3-4531-c8c5-14d2fcea6a57"
      },
      "execution_count": null,
      "outputs": [
        {
          "output_type": "execute_result",
          "data": {
            "text/plain": [
              "[<matplotlib.lines.Line2D at 0x7f3fc260e5d0>]"
            ]
          },
          "metadata": {},
          "execution_count": 114
        },
        {
          "output_type": "display_data",
          "data": {
            "image/png": "[encoded data removed]",
            "text/plain": [
              "<Figure size 432x288 with 1 Axes>"
            ]
          },
          "metadata": {
            "needs_background": "light"
          }
        }
      ]
    },
    {
      "cell_type": "code",
      "source": [
        "df['FAIL'] = [df.loc[i, 'NPatricipants'] +  df.loc[i, 'NInjured'] * 1.5 +  df.loc[i, 'NFatal'] * 500 for i in range(len(df))]"
      ],
      "metadata": {
        "id": "-hMIzbifNFVK"
      },
      "execution_count": null,
      "outputs": []
    },
    {
      "cell_type": "code",
      "source": [
        "plt.plot(range(7888), df.sort_values(by='FAIL')['FAIL'].values)"
      ],
      "metadata": {
        "colab": {
          "base_uri": "https://localhost:8080/",
          "height": 282
        },
        "id": "2DZVQXk-NZa7",
        "outputId": "dad72783-361a-47ee-8677-5a1b7c73c77a"
      },
      "execution_count": null,
      "outputs": [
        {
          "output_type": "execute_result",
          "data": {
            "text/plain": [
              "[<matplotlib.lines.Line2D at 0x7f3fc37b7c10>]"
            ]
          },
          "metadata": {},
          "execution_count": 116
        },
        {
          "output_type": "display_data",
          "data": {
            "image/png": "[encoded data removed]",
            "text/plain": [
              "<Figure size 432x288 with 1 Axes>"
            ]
          },
          "metadata": {
            "needs_background": "light"
          }
        }
      ]
    },
    {
      "cell_type": "code",
      "source": [
        "df.groupby('violations').agg({'RITA':'mean', 'FAIL': 'mean'})"
      ],
      "metadata": {
        "colab": {
          "base_uri": "https://localhost:8080/",
          "height": 1000
        },
        "id": "X5Oce1GFP3lC",
        "outputId": "b609094c-3e64-463a-a455-c7b1332da8e6"
      },
      "execution_count": null,
      "outputs": [
        {
          "output_type": "execute_result",
          "data": {
            "text/html": [
              "<div>\n",
              "<style scoped>\n",
              "    .dataframe tbody tr th:only-of-type {\n",
              "        vertical-align: middle;\n",
              "    }\n",
              "\n",
              "    .dataframe tbody tr th {\n",
              "        vertical-align: top;\n",
              "    }\n",
              "\n",
              "    .dataframe thead th {\n",
              "        text-align: right;\n",
              "    }\n",
              "</style>\n",
              "<table border=\"1\" class=\"dataframe\">\n",
              "  <thead>\n",
              "    <tr style=\"text-align: right;\">\n",
              "      <th></th>\n",
              "      <th>RITA</th>\n",
              "      <th>FAIL</th>\n",
              "    </tr>\n",
              "    <tr>\n",
              "      <th>violations</th>\n",
              "      <th></th>\n",
              "      <th></th>\n",
              "    </tr>\n",
              "  </thead>\n",
              "  <tbody>\n",
              "    <tr>\n",
              "      <th>Выезд на полосу встречного движения</th>\n",
              "      <td>419.367424</td>\n",
              "      <td>81.178030</td>\n",
              "    </tr>\n",
              "    <tr>\n",
              "      <th>Выезд на полосу встречного движения в местах, где это запрещено</th>\n",
              "      <td>370.916667</td>\n",
              "      <td>4.916667</td>\n",
              "    </tr>\n",
              "    <tr>\n",
              "      <th>Выезд на полосу встречного движения с разворотом, поворотом налево или объездом препятствия</th>\n",
              "      <td>298.333333</td>\n",
              "      <td>3.722222</td>\n",
              "    </tr>\n",
              "    <tr>\n",
              "      <th>Движение во встречном направлении по дороге с односторонним движением</th>\n",
              "      <td>289.750000</td>\n",
              "      <td>3.500000</td>\n",
              "    </tr>\n",
              "    <tr>\n",
              "      <th>Другие нарушения ПДД водителем</th>\n",
              "      <td>205.047619</td>\n",
              "      <td>39.142857</td>\n",
              "    </tr>\n",
              "    <tr>\n",
              "      <th>Другие нарушения ПДД водителями (не применяется с 12.2020)</th>\n",
              "      <td>173.333333</td>\n",
              "      <td>3.166667</td>\n",
              "    </tr>\n",
              "    <tr>\n",
              "      <th>Иные нарушения</th>\n",
              "      <td>421.250000</td>\n",
              "      <td>254.000000</td>\n",
              "    </tr>\n",
              "    <tr>\n",
              "      <th>Нарушение правил буксировки</th>\n",
              "      <td>332.000000</td>\n",
              "      <td>5.500000</td>\n",
              "    </tr>\n",
              "    <tr>\n",
              "      <th>Нарушение правил обгона</th>\n",
              "      <td>388.500000</td>\n",
              "      <td>3.500000</td>\n",
              "    </tr>\n",
              "    <tr>\n",
              "      <th>Нарушение правил остановки и стоянки</th>\n",
              "      <td>289.500000</td>\n",
              "      <td>45.375000</td>\n",
              "    </tr>\n",
              "    <tr>\n",
              "      <th>Нарушение правил перевозки людей</th>\n",
              "      <td>151.000000</td>\n",
              "      <td>3.500000</td>\n",
              "    </tr>\n",
              "    <tr>\n",
              "      <th>Нарушение правил перестроения</th>\n",
              "      <td>309.765432</td>\n",
              "      <td>16.698765</td>\n",
              "    </tr>\n",
              "    <tr>\n",
              "      <th>Нарушение правил погрузки, выгрузки и крепления грузов</th>\n",
              "      <td>133.250000</td>\n",
              "      <td>3.000000</td>\n",
              "    </tr>\n",
              "    <tr>\n",
              "      <th>Нарушение правил пользования общественным транспортом</th>\n",
              "      <td>160.000000</td>\n",
              "      <td>10.565116</td>\n",
              "    </tr>\n",
              "    <tr>\n",
              "      <th>Нарушение правил при круговом движении</th>\n",
              "      <td>256.000000</td>\n",
              "      <td>3.500000</td>\n",
              "    </tr>\n",
              "    <tr>\n",
              "      <th>Нарушение правил проезда ж/д переездов</th>\n",
              "      <td>426.250000</td>\n",
              "      <td>254.000000</td>\n",
              "    </tr>\n",
              "    <tr>\n",
              "      <th>Нарушение правил проезда остановок трамвая</th>\n",
              "      <td>153.250000</td>\n",
              "      <td>3.500000</td>\n",
              "    </tr>\n",
              "    <tr>\n",
              "      <th>Нарушение правил проезда пешеходного перехода</th>\n",
              "      <td>196.943814</td>\n",
              "      <td>21.068041</td>\n",
              "    </tr>\n",
              "    <tr>\n",
              "      <th>Нарушение правил расположения ТС на проезжей части</th>\n",
              "      <td>241.468750</td>\n",
              "      <td>23.394531</td>\n",
              "    </tr>\n",
              "    <tr>\n",
              "      <th>Нарушение требований дорожных знаков</th>\n",
              "      <td>303.013889</td>\n",
              "      <td>4.305556</td>\n",
              "    </tr>\n",
              "    <tr>\n",
              "      <th>Нарушение требований линий разметки</th>\n",
              "      <td>383.625000</td>\n",
              "      <td>128.375000</td>\n",
              "    </tr>\n",
              "    <tr>\n",
              "      <th>Нарушение требований сигналов регулировщика</th>\n",
              "      <td>178.500000</td>\n",
              "      <td>3.500000</td>\n",
              "    </tr>\n",
              "    <tr>\n",
              "      <th>Нарушение требований сигналов светофора</th>\n",
              "      <td>287.262069</td>\n",
              "      <td>23.491379</td>\n",
              "    </tr>\n",
              "    <tr>\n",
              "      <th>Нарушение правил движения тяжеловесного и(или) крупногабаритного ТС(превышение допустимых габаритов ТС, превышением допустимой массы ТС или допустимой нагрузки на ось ТС)</th>\n",
              "      <td>126.000000</td>\n",
              "      <td>3.500000</td>\n",
              "    </tr>\n",
              "    <tr>\n",
              "      <th>Невыполнение требований обеспечения безопасности при начале движения</th>\n",
              "      <td>157.333333</td>\n",
              "      <td>3.388889</td>\n",
              "    </tr>\n",
              "    <tr>\n",
              "      <th>Неподчинение сигналам регулирования</th>\n",
              "      <td>436.500000</td>\n",
              "      <td>4.500000</td>\n",
              "    </tr>\n",
              "    <tr>\n",
              "      <th>Неправильный выбор дистанции</th>\n",
              "      <td>328.451187</td>\n",
              "      <td>18.255497</td>\n",
              "    </tr>\n",
              "    <tr>\n",
              "      <th>Непредоставление преимущества в движении ТС, имеющему нанесенные на наружные поверхности специальные цветографические схемы, надписи и обозначения, с одновременно включённым проблесковым маячком синего цвета и специальным звуковым сигналом</th>\n",
              "      <td>363.428571</td>\n",
              "      <td>5.428571</td>\n",
              "    </tr>\n",
              "    <tr>\n",
              "      <th>Непредоставление преимущества в движении пешеходу</th>\n",
              "      <td>169.212644</td>\n",
              "      <td>3.614943</td>\n",
              "    </tr>\n",
              "    <tr>\n",
              "      <th>Несоблюдение бокового интервала</th>\n",
              "      <td>272.047619</td>\n",
              "      <td>27.684524</td>\n",
              "    </tr>\n",
              "    <tr>\n",
              "      <th>Несоблюдение очередности проезда</th>\n",
              "      <td>282.273389</td>\n",
              "      <td>13.544699</td>\n",
              "    </tr>\n",
              "    <tr>\n",
              "      <th>Несоблюдение условий, разрешающих движение транспорта задним ходом</th>\n",
              "      <td>212.687697</td>\n",
              "      <td>25.600946</td>\n",
              "    </tr>\n",
              "    <tr>\n",
              "      <th>Несоответствие скорости конкретным условиям движения</th>\n",
              "      <td>272.696335</td>\n",
              "      <td>54.642670</td>\n",
              "    </tr>\n",
              "    <tr>\n",
              "      <th>Нет нарушений</th>\n",
              "      <td>304.511905</td>\n",
              "      <td>33.750229</td>\n",
              "    </tr>\n",
              "    <tr>\n",
              "      <th>Оставление движущегося транспортного средства (выход или выпрыгивание на ходу и т.д.)</th>\n",
              "      <td>204.666667</td>\n",
              "      <td>59.000000</td>\n",
              "    </tr>\n",
              "    <tr>\n",
              "      <th>Передвижение по проезжей части на скейтборде (роликовых коньках и т.д.)</th>\n",
              "      <td>267.875000</td>\n",
              "      <td>3.500000</td>\n",
              "    </tr>\n",
              "    <tr>\n",
              "      <th>Пересечение велосипедистом проезжей части по пешеходному переходу</th>\n",
              "      <td>265.545455</td>\n",
              "      <td>3.500000</td>\n",
              "    </tr>\n",
              "    <tr>\n",
              "      <th>Превышение установленной скорости движения</th>\n",
              "      <td>121.000000</td>\n",
              "      <td>3.500000</td>\n",
              "    </tr>\n",
              "    <tr>\n",
              "      <th>Разворот в местах, где разворот запрещён</th>\n",
              "      <td>324.400000</td>\n",
              "      <td>5.200000</td>\n",
              "    </tr>\n",
              "    <tr>\n",
              "      <th>Эксплуатация ТС с техническими неисправностями, при которых запрещается их эксплуатация</th>\n",
              "      <td>146.000000</td>\n",
              "      <td>3.500000</td>\n",
              "    </tr>\n",
              "  </tbody>\n",
              "</table>\n",
              "</div>"
            ],
            "text/plain": [
              "                                                          RITA        FAIL\n",
              "violations                                                                \n",
              "Выезд на полосу встречного движения                 419.367424   81.178030\n",
              "Выезд на полосу встречного движения в местах, г...  370.916667    4.916667\n",
              "Выезд на полосу встречного движения с разворото...  298.333333    3.722222\n",
              "Движение во встречном направлении по дороге с о...  289.750000    3.500000\n",
              "Другие нарушения ПДД водителем                      205.047619   39.142857\n",
              "Другие нарушения ПДД водителями (не применяется...  173.333333    3.166667\n",
              "Иные нарушения                                      421.250000  254.000000\n",
              "Нарушение правил буксировки                         332.000000    5.500000\n",
              "Нарушение правил обгона                             388.500000    3.500000\n",
              "Нарушение правил остановки и стоянки                289.500000   45.375000\n",
              "Нарушение правил перевозки людей                    151.000000    3.500000\n",
              "Нарушение правил перестроения                       309.765432   16.698765\n",
              "Нарушение правил погрузки, выгрузки и крепления...  133.250000    3.000000\n",
              "Нарушение правил пользования общественным транс...  160.000000   10.565116\n",
              "Нарушение правил при круговом движении              256.000000    3.500000\n",
              "Нарушение правил проезда ж/д переездов              426.250000  254.000000\n",
              "Нарушение правил проезда остановок трамвая          153.250000    3.500000\n",
              "Нарушение правил проезда пешеходного перехода       196.943814   21.068041\n",
              "Нарушение правил расположения ТС на проезжей части  241.468750   23.394531\n",
              "Нарушение требований дорожных знаков                303.013889    4.305556\n",
              "Нарушение требований линий разметки                 383.625000  128.375000\n",
              "Нарушение требований сигналов регулировщика         178.500000    3.500000\n",
              "Нарушение требований сигналов светофора             287.262069   23.491379\n",
              "Нарушение правил движения тяжеловесного и(или) ...  126.000000    3.500000\n",
              "Невыполнение требований обеспечения безопасност...  157.333333    3.388889\n",
              "Неподчинение сигналам регулирования                 436.500000    4.500000\n",
              "Неправильный выбор дистанции                        328.451187   18.255497\n",
              "Непредоставление преимущества в движении ТС, им...  363.428571    5.428571\n",
              "Непредоставление преимущества в движении пешеходу   169.212644    3.614943\n",
              "Несоблюдение бокового интервала                     272.047619   27.684524\n",
              "Несоблюдение очередности проезда                    282.273389   13.544699\n",
              "Несоблюдение условий, разрешающих движение тран...  212.687697   25.600946\n",
              "Несоответствие скорости конкретным условиям дви...  272.696335   54.642670\n",
              "Нет нарушений                                       304.511905   33.750229\n",
              "Оставление движущегося транспортного средства (...  204.666667   59.000000\n",
              "Передвижение по проезжей части на скейтборде (р...  267.875000    3.500000\n",
              "Пересечение велосипедистом проезжей части по пе...  265.545455    3.500000\n",
              "Превышение установленной скорости движения          121.000000    3.500000\n",
              "Разворот в местах, где разворот запрещён            324.400000    5.200000\n",
              "Эксплуатация ТС с техническими неисправностями,...  146.000000    3.500000"
            ]
          },
          "metadata": {},
          "execution_count": 117
        }
      ]
    },
    {
      "cell_type": "code",
      "source": [
        "df.to_excel('accidents_with_RITA.xlsx')"
      ],
      "metadata": {
        "id": "k7OYQZd4MVP4"
      },
      "execution_count": null,
      "outputs": []
    },
    {
      "cell_type": "markdown",
      "source": [
        "## продолжение "
      ],
      "metadata": {
        "id": "LX5dC2dAPjT2"
      }
    },
    {
      "cell_type": "code",
      "source": [
        "df = df.sort_values(by='RITA')\n",
        "df.head()"
      ],
      "metadata": {
        "colab": {
          "base_uri": "https://localhost:8080/",
          "height": 492
        },
        "id": "VIaOZnUOxsy5",
        "outputId": "fe3a5cb6-9037-4a36-f9fd-8c0f2152a937"
      },
      "execution_count": null,
      "outputs": [
        {
          "output_type": "execute_result",
          "data": {
            "text/html": [
              "<div>\n",
              "<style scoped>\n",
              "    .dataframe tbody tr th:only-of-type {\n",
              "        vertical-align: middle;\n",
              "    }\n",
              "\n",
              "    .dataframe tbody tr th {\n",
              "        vertical-align: top;\n",
              "    }\n",
              "\n",
              "    .dataframe thead th {\n",
              "        text-align: right;\n",
              "    }\n",
              "</style>\n",
              "<table border=\"1\" class=\"dataframe\">\n",
              "  <thead>\n",
              "    <tr style=\"text-align: right;\">\n",
              "      <th></th>\n",
              "      <th>coordL</th>\n",
              "      <th>coordW</th>\n",
              "      <th>place</th>\n",
              "      <th>district</th>\n",
              "      <th>DTPType</th>\n",
              "      <th>date</th>\n",
              "      <th>real_date</th>\n",
              "      <th>month</th>\n",
              "      <th>season</th>\n",
              "      <th>NVehicles</th>\n",
              "      <th>NPatricipants</th>\n",
              "      <th>NInjured</th>\n",
              "      <th>NFatal</th>\n",
              "      <th>additionalFactor</th>\n",
              "      <th>lightConditions</th>\n",
              "      <th>weatherConditions</th>\n",
              "      <th>placeConditions</th>\n",
              "      <th>closeObjects</th>\n",
              "      <th>violations</th>\n",
              "      <th>violationsAdditional</th>\n",
              "      <th>privod</th>\n",
              "      <th>traffic_regime</th>\n",
              "      <th>pokritie</th>\n",
              "      <th>neispravnosti</th>\n",
              "      <th>safety_belt</th>\n",
              "      <th>sublocality</th>\n",
              "      <th>traffic_regime_index</th>\n",
              "      <th>neispravnosti_index</th>\n",
              "      <th>privod_index</th>\n",
              "      <th>RITA</th>\n",
              "      <th>FAIL</th>\n",
              "    </tr>\n",
              "  </thead>\n",
              "  <tbody>\n",
              "    <tr>\n",
              "      <th>716</th>\n",
              "      <td>37.316040</td>\n",
              "      <td>55.476567</td>\n",
              "      <td>Калужское ш.</td>\n",
              "      <td>Троицк</td>\n",
              "      <td>Наезд на препятствие</td>\n",
              "      <td>29.01.2020</td>\n",
              "      <td>2020-01-29</td>\n",
              "      <td>1</td>\n",
              "      <td>Winter</td>\n",
              "      <td>1</td>\n",
              "      <td>1</td>\n",
              "      <td>1</td>\n",
              "      <td>0</td>\n",
              "      <td>Сведения отсутствуют</td>\n",
              "      <td>1.0</td>\n",
              "      <td>Пасмурно</td>\n",
              "      <td>Перегон (нет объектов на месте ДТП)</td>\n",
              "      <td>АЗС</td>\n",
              "      <td>Нарушение правил расположения ТС на проезжей ч...</td>\n",
              "      <td>Нет нарушений</td>\n",
              "      <td>полный</td>\n",
              "      <td>Режим движения не изменялся</td>\n",
              "      <td>Мокрое</td>\n",
              "      <td>Технические неисправности отсутствуют</td>\n",
              "      <td>Нет</td>\n",
              "      <td>Троицкий Адм. округ</td>\n",
              "      <td>0.0</td>\n",
              "      <td>0</td>\n",
              "      <td>-5</td>\n",
              "      <td>110.5</td>\n",
              "      <td>2.5</td>\n",
              "    </tr>\n",
              "    <tr>\n",
              "      <th>1046</th>\n",
              "      <td>37.288510</td>\n",
              "      <td>55.591903</td>\n",
              "      <td>M3</td>\n",
              "      <td>Филимонковское, Поселение</td>\n",
              "      <td>Наезд на препятствие</td>\n",
              "      <td>11.02.2020</td>\n",
              "      <td>2020-11-02</td>\n",
              "      <td>11</td>\n",
              "      <td>Autumn</td>\n",
              "      <td>1</td>\n",
              "      <td>1</td>\n",
              "      <td>1</td>\n",
              "      <td>0</td>\n",
              "      <td>Сведения отсутствуют</td>\n",
              "      <td>1.0</td>\n",
              "      <td>Снегопад(туман)</td>\n",
              "      <td>Перегон (нет объектов на месте ДТП)</td>\n",
              "      <td>Аэропорт, ж/д вокзал (ж/д станция), речной или...</td>\n",
              "      <td>Несоответствие скорости конкретным условиям дв...</td>\n",
              "      <td>Нет нарушений</td>\n",
              "      <td>полный</td>\n",
              "      <td>Режим движения не изменялся</td>\n",
              "      <td>Снег и/или лёд</td>\n",
              "      <td>Технические неисправности отсутствуют</td>\n",
              "      <td>Нет</td>\n",
              "      <td>Новомосковский Адм. округ</td>\n",
              "      <td>0.0</td>\n",
              "      <td>0</td>\n",
              "      <td>-5</td>\n",
              "      <td>110.5</td>\n",
              "      <td>2.5</td>\n",
              "    </tr>\n",
              "    <tr>\n",
              "      <th>2327</th>\n",
              "      <td>37.585140</td>\n",
              "      <td>55.792759</td>\n",
              "      <td>ул Бутырская</td>\n",
              "      <td>Савеловский</td>\n",
              "      <td>Наезд на препятствие</td>\n",
              "      <td>19.04.2020</td>\n",
              "      <td>2020-04-19</td>\n",
              "      <td>4</td>\n",
              "      <td>Spring</td>\n",
              "      <td>1</td>\n",
              "      <td>1</td>\n",
              "      <td>1</td>\n",
              "      <td>0</td>\n",
              "      <td>Сведения отсутствуют</td>\n",
              "      <td>0.5</td>\n",
              "      <td>Пасмурно</td>\n",
              "      <td>Мост, эстакада, путепровод</td>\n",
              "      <td>АЗС</td>\n",
              "      <td>Несоответствие скорости конкретным условиям дв...</td>\n",
              "      <td>Нет нарушений</td>\n",
              "      <td>полный</td>\n",
              "      <td>Режим движения не изменялся</td>\n",
              "      <td>Мокрое</td>\n",
              "      <td>Технические неисправности отсутствуют</td>\n",
              "      <td>Нет</td>\n",
              "      <td>Северный административный округ</td>\n",
              "      <td>0.0</td>\n",
              "      <td>0</td>\n",
              "      <td>-5</td>\n",
              "      <td>110.5</td>\n",
              "      <td>2.5</td>\n",
              "    </tr>\n",
              "    <tr>\n",
              "      <th>6522</th>\n",
              "      <td>37.704724</td>\n",
              "      <td>55.642458</td>\n",
              "      <td>ул Донецкая</td>\n",
              "      <td>Марьино</td>\n",
              "      <td>Наезд на препятствие</td>\n",
              "      <td>05.11.2020</td>\n",
              "      <td>2020-05-11</td>\n",
              "      <td>5</td>\n",
              "      <td>Spring</td>\n",
              "      <td>1</td>\n",
              "      <td>1</td>\n",
              "      <td>1</td>\n",
              "      <td>0</td>\n",
              "      <td>Сведения отсутствуют</td>\n",
              "      <td>1.0</td>\n",
              "      <td>Пасмурно</td>\n",
              "      <td>Перегон (нет объектов на месте ДТП)</td>\n",
              "      <td>Остановка общественного транспорта</td>\n",
              "      <td>Несоответствие скорости конкретным условиям дв...</td>\n",
              "      <td>Нет нарушений</td>\n",
              "      <td>полный</td>\n",
              "      <td>Режим движения не изменялся</td>\n",
              "      <td>Мокрое</td>\n",
              "      <td>Технические неисправности отсутствуют</td>\n",
              "      <td>Нет</td>\n",
              "      <td>Юго-Восточный административный округ</td>\n",
              "      <td>0.0</td>\n",
              "      <td>0</td>\n",
              "      <td>-5</td>\n",
              "      <td>110.5</td>\n",
              "      <td>2.5</td>\n",
              "    </tr>\n",
              "    <tr>\n",
              "      <th>6889</th>\n",
              "      <td>37.619344</td>\n",
              "      <td>55.804477</td>\n",
              "      <td>12-й пр. Марьиной Рощи</td>\n",
              "      <td>Марьина Роща</td>\n",
              "      <td>Наезд на препятствие</td>\n",
              "      <td>21.11.2020</td>\n",
              "      <td>2020-11-21</td>\n",
              "      <td>11</td>\n",
              "      <td>Autumn</td>\n",
              "      <td>1</td>\n",
              "      <td>1</td>\n",
              "      <td>1</td>\n",
              "      <td>0</td>\n",
              "      <td>Сведения отсутствуют</td>\n",
              "      <td>0.5</td>\n",
              "      <td>Пасмурно</td>\n",
              "      <td>Внутридворовая территория</td>\n",
              "      <td>Административные здания</td>\n",
              "      <td>Несоответствие скорости конкретным условиям дв...</td>\n",
              "      <td>Нет нарушений</td>\n",
              "      <td>полный</td>\n",
              "      <td>Режим движения не изменялся</td>\n",
              "      <td>Мокрое</td>\n",
              "      <td>Технические неисправности отсутствуют</td>\n",
              "      <td>Нет</td>\n",
              "      <td>Северо-Восточный административный округ</td>\n",
              "      <td>0.0</td>\n",
              "      <td>0</td>\n",
              "      <td>-5</td>\n",
              "      <td>110.5</td>\n",
              "      <td>2.5</td>\n",
              "    </tr>\n",
              "  </tbody>\n",
              "</table>\n",
              "</div>"
            ],
            "text/plain": [
              "         coordL     coordW                   place  ... privod_index   RITA FAIL\n",
              "716   37.316040  55.476567            Калужское ш.  ...           -5  110.5  2.5\n",
              "1046  37.288510  55.591903                      M3  ...           -5  110.5  2.5\n",
              "2327  37.585140  55.792759            ул Бутырская  ...           -5  110.5  2.5\n",
              "6522  37.704724  55.642458             ул Донецкая  ...           -5  110.5  2.5\n",
              "6889  37.619344  55.804477  12-й пр. Марьиной Рощи  ...           -5  110.5  2.5\n",
              "\n",
              "[5 rows x 31 columns]"
            ]
          },
          "metadata": {},
          "execution_count": 120
        }
      ]
    },
    {
      "cell_type": "code",
      "source": [
        "df['indexes'] = range(7888)\n",
        "df.head()"
      ],
      "metadata": {
        "colab": {
          "base_uri": "https://localhost:8080/",
          "height": 492
        },
        "id": "spD5KnS34oBX",
        "outputId": "ca46a213-7648-4119-d51d-bfa2b9d8b1ee"
      },
      "execution_count": null,
      "outputs": [
        {
          "output_type": "execute_result",
          "data": {
            "text/html": [
              "<div>\n",
              "<style scoped>\n",
              "    .dataframe tbody tr th:only-of-type {\n",
              "        vertical-align: middle;\n",
              "    }\n",
              "\n",
              "    .dataframe tbody tr th {\n",
              "        vertical-align: top;\n",
              "    }\n",
              "\n",
              "    .dataframe thead th {\n",
              "        text-align: right;\n",
              "    }\n",
              "</style>\n",
              "<table border=\"1\" class=\"dataframe\">\n",
              "  <thead>\n",
              "    <tr style=\"text-align: right;\">\n",
              "      <th></th>\n",
              "      <th>coordL</th>\n",
              "      <th>coordW</th>\n",
              "      <th>place</th>\n",
              "      <th>district</th>\n",
              "      <th>DTPType</th>\n",
              "      <th>date</th>\n",
              "      <th>real_date</th>\n",
              "      <th>month</th>\n",
              "      <th>season</th>\n",
              "      <th>NVehicles</th>\n",
              "      <th>NPatricipants</th>\n",
              "      <th>NInjured</th>\n",
              "      <th>NFatal</th>\n",
              "      <th>additionalFactor</th>\n",
              "      <th>lightConditions</th>\n",
              "      <th>weatherConditions</th>\n",
              "      <th>placeConditions</th>\n",
              "      <th>closeObjects</th>\n",
              "      <th>violations</th>\n",
              "      <th>violationsAdditional</th>\n",
              "      <th>privod</th>\n",
              "      <th>traffic_regime</th>\n",
              "      <th>pokritie</th>\n",
              "      <th>neispravnosti</th>\n",
              "      <th>safety_belt</th>\n",
              "      <th>sublocality</th>\n",
              "      <th>traffic_regime_index</th>\n",
              "      <th>neispravnosti_index</th>\n",
              "      <th>privod_index</th>\n",
              "      <th>RITA</th>\n",
              "      <th>FAIL</th>\n",
              "      <th>indexes</th>\n",
              "    </tr>\n",
              "  </thead>\n",
              "  <tbody>\n",
              "    <tr>\n",
              "      <th>716</th>\n",
              "      <td>37.316040</td>\n",
              "      <td>55.476567</td>\n",
              "      <td>Калужское ш.</td>\n",
              "      <td>Троицк</td>\n",
              "      <td>Наезд на препятствие</td>\n",
              "      <td>29.01.2020</td>\n",
              "      <td>2020-01-29</td>\n",
              "      <td>1</td>\n",
              "      <td>Winter</td>\n",
              "      <td>1</td>\n",
              "      <td>1</td>\n",
              "      <td>1</td>\n",
              "      <td>0</td>\n",
              "      <td>Сведения отсутствуют</td>\n",
              "      <td>1.0</td>\n",
              "      <td>Пасмурно</td>\n",
              "      <td>Перегон (нет объектов на месте ДТП)</td>\n",
              "      <td>АЗС</td>\n",
              "      <td>Нарушение правил расположения ТС на проезжей ч...</td>\n",
              "      <td>Нет нарушений</td>\n",
              "      <td>полный</td>\n",
              "      <td>Режим движения не изменялся</td>\n",
              "      <td>Мокрое</td>\n",
              "      <td>Технические неисправности отсутствуют</td>\n",
              "      <td>Нет</td>\n",
              "      <td>Троицкий Адм. округ</td>\n",
              "      <td>0.0</td>\n",
              "      <td>0</td>\n",
              "      <td>-5</td>\n",
              "      <td>110.5</td>\n",
              "      <td>2.5</td>\n",
              "      <td>0</td>\n",
              "    </tr>\n",
              "    <tr>\n",
              "      <th>1046</th>\n",
              "      <td>37.288510</td>\n",
              "      <td>55.591903</td>\n",
              "      <td>M3</td>\n",
              "      <td>Филимонковское, Поселение</td>\n",
              "      <td>Наезд на препятствие</td>\n",
              "      <td>11.02.2020</td>\n",
              "      <td>2020-11-02</td>\n",
              "      <td>11</td>\n",
              "      <td>Autumn</td>\n",
              "      <td>1</td>\n",
              "      <td>1</td>\n",
              "      <td>1</td>\n",
              "      <td>0</td>\n",
              "      <td>Сведения отсутствуют</td>\n",
              "      <td>1.0</td>\n",
              "      <td>Снегопад(туман)</td>\n",
              "      <td>Перегон (нет объектов на месте ДТП)</td>\n",
              "      <td>Аэропорт, ж/д вокзал (ж/д станция), речной или...</td>\n",
              "      <td>Несоответствие скорости конкретным условиям дв...</td>\n",
              "      <td>Нет нарушений</td>\n",
              "      <td>полный</td>\n",
              "      <td>Режим движения не изменялся</td>\n",
              "      <td>Снег и/или лёд</td>\n",
              "      <td>Технические неисправности отсутствуют</td>\n",
              "      <td>Нет</td>\n",
              "      <td>Новомосковский Адм. округ</td>\n",
              "      <td>0.0</td>\n",
              "      <td>0</td>\n",
              "      <td>-5</td>\n",
              "      <td>110.5</td>\n",
              "      <td>2.5</td>\n",
              "      <td>1</td>\n",
              "    </tr>\n",
              "    <tr>\n",
              "      <th>2327</th>\n",
              "      <td>37.585140</td>\n",
              "      <td>55.792759</td>\n",
              "      <td>ул Бутырская</td>\n",
              "      <td>Савеловский</td>\n",
              "      <td>Наезд на препятствие</td>\n",
              "      <td>19.04.2020</td>\n",
              "      <td>2020-04-19</td>\n",
              "      <td>4</td>\n",
              "      <td>Spring</td>\n",
              "      <td>1</td>\n",
              "      <td>1</td>\n",
              "      <td>1</td>\n",
              "      <td>0</td>\n",
              "      <td>Сведения отсутствуют</td>\n",
              "      <td>0.5</td>\n",
              "      <td>Пасмурно</td>\n",
              "      <td>Мост, эстакада, путепровод</td>\n",
              "      <td>АЗС</td>\n",
              "      <td>Несоответствие скорости конкретным условиям дв...</td>\n",
              "      <td>Нет нарушений</td>\n",
              "      <td>полный</td>\n",
              "      <td>Режим движения не изменялся</td>\n",
              "      <td>Мокрое</td>\n",
              "      <td>Технические неисправности отсутствуют</td>\n",
              "      <td>Нет</td>\n",
              "      <td>Северный административный округ</td>\n",
              "      <td>0.0</td>\n",
              "      <td>0</td>\n",
              "      <td>-5</td>\n",
              "      <td>110.5</td>\n",
              "      <td>2.5</td>\n",
              "      <td>2</td>\n",
              "    </tr>\n",
              "    <tr>\n",
              "      <th>6522</th>\n",
              "      <td>37.704724</td>\n",
              "      <td>55.642458</td>\n",
              "      <td>ул Донецкая</td>\n",
              "      <td>Марьино</td>\n",
              "      <td>Наезд на препятствие</td>\n",
              "      <td>05.11.2020</td>\n",
              "      <td>2020-05-11</td>\n",
              "      <td>5</td>\n",
              "      <td>Spring</td>\n",
              "      <td>1</td>\n",
              "      <td>1</td>\n",
              "      <td>1</td>\n",
              "      <td>0</td>\n",
              "      <td>Сведения отсутствуют</td>\n",
              "      <td>1.0</td>\n",
              "      <td>Пасмурно</td>\n",
              "      <td>Перегон (нет объектов на месте ДТП)</td>\n",
              "      <td>Остановка общественного транспорта</td>\n",
              "      <td>Несоответствие скорости конкретным условиям дв...</td>\n",
              "      <td>Нет нарушений</td>\n",
              "      <td>полный</td>\n",
              "      <td>Режим движения не изменялся</td>\n",
              "      <td>Мокрое</td>\n",
              "      <td>Технические неисправности отсутствуют</td>\n",
              "      <td>Нет</td>\n",
              "      <td>Юго-Восточный административный округ</td>\n",
              "      <td>0.0</td>\n",
              "      <td>0</td>\n",
              "      <td>-5</td>\n",
              "      <td>110.5</td>\n",
              "      <td>2.5</td>\n",
              "      <td>3</td>\n",
              "    </tr>\n",
              "    <tr>\n",
              "      <th>6889</th>\n",
              "      <td>37.619344</td>\n",
              "      <td>55.804477</td>\n",
              "      <td>12-й пр. Марьиной Рощи</td>\n",
              "      <td>Марьина Роща</td>\n",
              "      <td>Наезд на препятствие</td>\n",
              "      <td>21.11.2020</td>\n",
              "      <td>2020-11-21</td>\n",
              "      <td>11</td>\n",
              "      <td>Autumn</td>\n",
              "      <td>1</td>\n",
              "      <td>1</td>\n",
              "      <td>1</td>\n",
              "      <td>0</td>\n",
              "      <td>Сведения отсутствуют</td>\n",
              "      <td>0.5</td>\n",
              "      <td>Пасмурно</td>\n",
              "      <td>Внутридворовая территория</td>\n",
              "      <td>Административные здания</td>\n",
              "      <td>Несоответствие скорости конкретным условиям дв...</td>\n",
              "      <td>Нет нарушений</td>\n",
              "      <td>полный</td>\n",
              "      <td>Режим движения не изменялся</td>\n",
              "      <td>Мокрое</td>\n",
              "      <td>Технические неисправности отсутствуют</td>\n",
              "      <td>Нет</td>\n",
              "      <td>Северо-Восточный административный округ</td>\n",
              "      <td>0.0</td>\n",
              "      <td>0</td>\n",
              "      <td>-5</td>\n",
              "      <td>110.5</td>\n",
              "      <td>2.5</td>\n",
              "      <td>4</td>\n",
              "    </tr>\n",
              "  </tbody>\n",
              "</table>\n",
              "</div>"
            ],
            "text/plain": [
              "         coordL     coordW                   place  ...   RITA FAIL indexes\n",
              "716   37.316040  55.476567            Калужское ш.  ...  110.5  2.5       0\n",
              "1046  37.288510  55.591903                      M3  ...  110.5  2.5       1\n",
              "2327  37.585140  55.792759            ул Бутырская  ...  110.5  2.5       2\n",
              "6522  37.704724  55.642458             ул Донецкая  ...  110.5  2.5       3\n",
              "6889  37.619344  55.804477  12-й пр. Марьиной Рощи  ...  110.5  2.5       4\n",
              "\n",
              "[5 rows x 32 columns]"
            ]
          },
          "metadata": {},
          "execution_count": 121
        }
      ]
    },
    {
      "cell_type": "markdown",
      "source": [
        "# доп для анализа"
      ],
      "metadata": {
        "id": "aDItpsbrNy-f"
      }
    },
    {
      "cell_type": "code",
      "source": [
        "df1 = pd.read_excel('/content/drive/MyDrive/merge_preprocessing_dano/files/violations_brief.xlsx')\n",
        "df1.head()"
      ],
      "metadata": {
        "colab": {
          "base_uri": "https://localhost:8080/",
          "height": 475
        },
        "id": "W4vnsrMCXBb1",
        "outputId": "aefca953-f945-4176-efee-38e35360d8fe"
      },
      "execution_count": 2,
      "outputs": [
        {
          "output_type": "execute_result",
          "data": {
            "text/html": [
              "<div>\n",
              "<style scoped>\n",
              "    .dataframe tbody tr th:only-of-type {\n",
              "        vertical-align: middle;\n",
              "    }\n",
              "\n",
              "    .dataframe tbody tr th {\n",
              "        vertical-align: top;\n",
              "    }\n",
              "\n",
              "    .dataframe thead th {\n",
              "        text-align: right;\n",
              "    }\n",
              "</style>\n",
              "<table border=\"1\" class=\"dataframe\">\n",
              "  <thead>\n",
              "    <tr style=\"text-align: right;\">\n",
              "      <th></th>\n",
              "      <th>Unnamed: 0</th>\n",
              "      <th>index</th>\n",
              "      <th>coordL</th>\n",
              "      <th>coordW</th>\n",
              "      <th>place</th>\n",
              "      <th>district</th>\n",
              "      <th>DTPType</th>\n",
              "      <th>date</th>\n",
              "      <th>real_date</th>\n",
              "      <th>month</th>\n",
              "      <th>season</th>\n",
              "      <th>NVehicles</th>\n",
              "      <th>NPatricipants</th>\n",
              "      <th>NInjured</th>\n",
              "      <th>NFatal</th>\n",
              "      <th>additionalFactor</th>\n",
              "      <th>lightConditions</th>\n",
              "      <th>weatherConditions</th>\n",
              "      <th>placeConditions</th>\n",
              "      <th>closeObjects</th>\n",
              "      <th>violations</th>\n",
              "      <th>violationsAdditional</th>\n",
              "      <th>privod</th>\n",
              "      <th>traffic_regime</th>\n",
              "      <th>pokritie</th>\n",
              "      <th>neispravnosti</th>\n",
              "      <th>safety_belt</th>\n",
              "      <th>sublocality</th>\n",
              "      <th>traffic_regime_index</th>\n",
              "      <th>neispravnosti_index</th>\n",
              "      <th>privod_index</th>\n",
              "      <th>RITA</th>\n",
              "      <th>FAIL</th>\n",
              "      <th>violations_brief</th>\n",
              "    </tr>\n",
              "  </thead>\n",
              "  <tbody>\n",
              "    <tr>\n",
              "      <th>0</th>\n",
              "      <td>0</td>\n",
              "      <td>0</td>\n",
              "      <td>37.464817</td>\n",
              "      <td>55.758116</td>\n",
              "      <td>ул Мнёвники Нижн.</td>\n",
              "      <td>Хорошево-мневники</td>\n",
              "      <td>Наезд на препятствие</td>\n",
              "      <td>01.01.2020</td>\n",
              "      <td>2020-01-01</td>\n",
              "      <td>1</td>\n",
              "      <td>Winter</td>\n",
              "      <td>1</td>\n",
              "      <td>1</td>\n",
              "      <td>1</td>\n",
              "      <td>0</td>\n",
              "      <td>Сведения отсутствуют</td>\n",
              "      <td>0.5</td>\n",
              "      <td>Пасмурно</td>\n",
              "      <td>Перегон (нет объектов на месте ДТП)</td>\n",
              "      <td>Остановка общественного транспорта</td>\n",
              "      <td>Несоответствие скорости конкретным условиям дв...</td>\n",
              "      <td>Нет нарушений</td>\n",
              "      <td>передний</td>\n",
              "      <td>Режим движения не изменялся</td>\n",
              "      <td>Мокрое</td>\n",
              "      <td>Технические неисправности отсутствуют</td>\n",
              "      <td>Нет</td>\n",
              "      <td>Северо-Западный административный округ</td>\n",
              "      <td>0.0</td>\n",
              "      <td>0</td>\n",
              "      <td>10</td>\n",
              "      <td>125.5</td>\n",
              "      <td>2.5</td>\n",
              "      <td>Скоростной режим</td>\n",
              "    </tr>\n",
              "    <tr>\n",
              "      <th>1</th>\n",
              "      <td>1</td>\n",
              "      <td>1</td>\n",
              "      <td>37.388953</td>\n",
              "      <td>55.811338</td>\n",
              "      <td>Московская кольцевая автомобильная дорога (МКА...</td>\n",
              "      <td>Строгино</td>\n",
              "      <td>Наезд на стоящее ТС</td>\n",
              "      <td>01.01.2020</td>\n",
              "      <td>2020-01-01</td>\n",
              "      <td>1</td>\n",
              "      <td>Winter</td>\n",
              "      <td>2</td>\n",
              "      <td>2</td>\n",
              "      <td>1</td>\n",
              "      <td>0</td>\n",
              "      <td>Наличие на дороге объектов, мешающих движению</td>\n",
              "      <td>1.0</td>\n",
              "      <td>Ясно</td>\n",
              "      <td>Перегон (нет объектов на месте ДТП)</td>\n",
              "      <td>Отсутствие в непосредственной близости объекто...</td>\n",
              "      <td>Несоответствие скорости конкретным условиям дв...</td>\n",
              "      <td>Нет нарушений</td>\n",
              "      <td>передний</td>\n",
              "      <td>Движение частично перекрыто</td>\n",
              "      <td>Сухое</td>\n",
              "      <td>Технические неисправности отсутствуют</td>\n",
              "      <td>Нет</td>\n",
              "      <td>Северо-Западный административный округ</td>\n",
              "      <td>165.0</td>\n",
              "      <td>0</td>\n",
              "      <td>10</td>\n",
              "      <td>391.0</td>\n",
              "      <td>3.5</td>\n",
              "      <td>Скоростной режим</td>\n",
              "    </tr>\n",
              "    <tr>\n",
              "      <th>2</th>\n",
              "      <td>2</td>\n",
              "      <td>2</td>\n",
              "      <td>37.623153</td>\n",
              "      <td>55.866787</td>\n",
              "      <td>Юрловский пр-д</td>\n",
              "      <td>Отрадное</td>\n",
              "      <td>Наезд на пешехода</td>\n",
              "      <td>01.01.2020</td>\n",
              "      <td>2020-01-01</td>\n",
              "      <td>1</td>\n",
              "      <td>Winter</td>\n",
              "      <td>1</td>\n",
              "      <td>2</td>\n",
              "      <td>1</td>\n",
              "      <td>0</td>\n",
              "      <td>Сужение проезжей части</td>\n",
              "      <td>1.0</td>\n",
              "      <td>Пасмурно</td>\n",
              "      <td>Внутридворовая территория</td>\n",
              "      <td>Административные здания</td>\n",
              "      <td>Несоблюдение очередности проезда</td>\n",
              "      <td>Другие нарушения ПДД водителем</td>\n",
              "      <td>праворукий</td>\n",
              "      <td>Режим движения не изменялся</td>\n",
              "      <td>Сухое</td>\n",
              "      <td>Технические неисправности отсутствуют</td>\n",
              "      <td>Нет</td>\n",
              "      <td>Северо-Восточный административный округ</td>\n",
              "      <td>0.0</td>\n",
              "      <td>0</td>\n",
              "      <td>15</td>\n",
              "      <td>131.0</td>\n",
              "      <td>3.5</td>\n",
              "      <td>Очередь проезда</td>\n",
              "    </tr>\n",
              "    <tr>\n",
              "      <th>3</th>\n",
              "      <td>3</td>\n",
              "      <td>3</td>\n",
              "      <td>37.588413</td>\n",
              "      <td>55.660576</td>\n",
              "      <td>ул Болотниковская</td>\n",
              "      <td>Зюзино</td>\n",
              "      <td>Столкновение</td>\n",
              "      <td>01.01.2020</td>\n",
              "      <td>2020-01-01</td>\n",
              "      <td>1</td>\n",
              "      <td>Winter</td>\n",
              "      <td>2</td>\n",
              "      <td>3</td>\n",
              "      <td>1</td>\n",
              "      <td>0</td>\n",
              "      <td>Сведения отсутствуют</td>\n",
              "      <td>0.5</td>\n",
              "      <td>Пасмурно</td>\n",
              "      <td>Регулируемый пешеходный переход</td>\n",
              "      <td>Остановка общественного транспорта</td>\n",
              "      <td>Несоблюдение очередности проезда</td>\n",
              "      <td>Нет нарушений</td>\n",
              "      <td>передний</td>\n",
              "      <td>Движение частично перекрыто</td>\n",
              "      <td>Мокрое</td>\n",
              "      <td>Технические неисправности отсутствуют</td>\n",
              "      <td>Нет</td>\n",
              "      <td>Юго-Западный административный округ</td>\n",
              "      <td>195.0</td>\n",
              "      <td>0</td>\n",
              "      <td>10</td>\n",
              "      <td>421.5</td>\n",
              "      <td>4.5</td>\n",
              "      <td>Очередь проезда</td>\n",
              "    </tr>\n",
              "    <tr>\n",
              "      <th>4</th>\n",
              "      <td>4</td>\n",
              "      <td>4</td>\n",
              "      <td>37.636467</td>\n",
              "      <td>55.805098</td>\n",
              "      <td>пр-кт Мира</td>\n",
              "      <td>Алексеевский</td>\n",
              "      <td>Падение чего-либо</td>\n",
              "      <td>01.01.2020</td>\n",
              "      <td>2020-01-01</td>\n",
              "      <td>1</td>\n",
              "      <td>Winter</td>\n",
              "      <td>1</td>\n",
              "      <td>2</td>\n",
              "      <td>1</td>\n",
              "      <td>0</td>\n",
              "      <td>Участок, контролируемый камерой</td>\n",
              "      <td>0.5</td>\n",
              "      <td>Ясно</td>\n",
              "      <td>Остановка общественного транспорта</td>\n",
              "      <td>Остановка общественного транспорта</td>\n",
              "      <td>Нарушение правил пользования общественным тран...</td>\n",
              "      <td>Нарушение правил перевозки людей</td>\n",
              "      <td>передний</td>\n",
              "      <td>Режим движения не изменялся</td>\n",
              "      <td>Сухое</td>\n",
              "      <td>Технические неисправности отсутствуют</td>\n",
              "      <td>Нет</td>\n",
              "      <td>Северо-Восточный административный округ</td>\n",
              "      <td>0.0</td>\n",
              "      <td>0</td>\n",
              "      <td>10</td>\n",
              "      <td>126.0</td>\n",
              "      <td>3.5</td>\n",
              "      <td>Общ. транспорт</td>\n",
              "    </tr>\n",
              "  </tbody>\n",
              "</table>\n",
              "</div>"
            ],
            "text/plain": [
              "   Unnamed: 0  index     coordL  ...   RITA FAIL  violations_brief\n",
              "0           0      0  37.464817  ...  125.5  2.5  Скоростной режим\n",
              "1           1      1  37.388953  ...  391.0  3.5  Скоростной режим\n",
              "2           2      2  37.623153  ...  131.0  3.5   Очередь проезда\n",
              "3           3      3  37.588413  ...  421.5  4.5   Очередь проезда\n",
              "4           4      4  37.636467  ...  126.0  3.5    Общ. транспорт\n",
              "\n",
              "[5 rows x 34 columns]"
            ]
          },
          "metadata": {},
          "execution_count": 2
        }
      ]
    },
    {
      "cell_type": "code",
      "source": [
        "df1.violations.value_counts()"
      ],
      "metadata": {
        "colab": {
          "base_uri": "https://localhost:8080/"
        },
        "id": "ZwT2hd_5NhRl",
        "outputId": "17ea7856-308c-4c9d-e450-7f6aa96f7708"
      },
      "execution_count": 3,
      "outputs": [
        {
          "output_type": "execute_result",
          "data": {
            "text/plain": [
              "Неправильный выбор дистанции                                          1137\n",
              "Нарушение правил проезда пешеходного перехода                          970\n",
              "Несоблюдение очередности проезда                                       962\n",
              "Несоответствие скорости конкретным условиям движения                   764\n",
              "Нарушение правил перестроения                                          405\n",
              "Несоблюдение условий, разрешающих движение транспорта задним ходом     317\n",
              "Нарушение требований сигналов светофора                                290\n",
              "Нарушение правил пользования общественным транспортом                  215\n",
              "Иные нарушения                                                         213\n",
              "Выезд на полосу встречного движения                                    132\n",
              "Нарушение правил расположения ТС на проезжей части                     128\n",
              "Непредоставление преимущества в движении пешеходу                       87\n",
              "Несоблюдение бокового интервала                                         84\n",
              "Name: violations, dtype: int64"
            ]
          },
          "metadata": {},
          "execution_count": 3
        }
      ]
    },
    {
      "cell_type": "code",
      "source": [
        "# стремление сделать лаконичную запись ошибок\n",
        "def zamena(string):\n",
        "  if string == 'Неправильный выбор дистанции':\n",
        "    return 'Выбор дистанции'\n",
        "  elif string == 'Нарушение правил проезда пешеходного перехода':\n",
        "    return 'Пешеходный переход'\n",
        "  elif string == 'Несоблюдение очередности проезда':\n",
        "    return 'Очередь проезда'\n",
        "  elif string == 'Несоответствие скорости конкретным условиям движения':\n",
        "    return 'Скоростной режим'\n",
        "  elif string == 'Нарушение правил перестроения':\n",
        "    return 'Правила перестроения'\n",
        "  elif string == 'Несоблюдение условий, разрешающих движение транспорта задним ходом':\n",
        "    return 'Задний ход'\n",
        "  elif string == 'Нарушение требований сигналов светофора':\n",
        "    return 'Игнор светофора'\n",
        "  elif string == 'Нарушение правил пользования общественным транспортом':\n",
        "    return 'Общ. транспорт'\n",
        "  elif string == 'Выезд на полосу встречного движения':\n",
        "    return 'Выезд на встречку'\n",
        "  elif string == 'Нарушение правил расположения ТС на проезжей части':\n",
        "    return 'Расположение ТС'\n",
        "  elif string == 'Непредоставление преимущества в движении пешеходу':\n",
        "    return 'Игнор пешехода'\n",
        "  elif string == 'Несоблюдение бокового интервала':\n",
        "    return 'Боковой интервал'\n",
        "  else:\n",
        "    return string"
      ],
      "metadata": {
        "id": "qlvenpOVPLDl"
      },
      "execution_count": null,
      "outputs": []
    },
    {
      "cell_type": "code",
      "source": [
        "del df1['violations_brif']"
      ],
      "metadata": {
        "id": "MMIN3-y2Wy8d"
      },
      "execution_count": null,
      "outputs": []
    },
    {
      "cell_type": "code",
      "source": [
        "df1['violations_brief'] = [zamena(i) for i in df1['violations']]\n",
        "df1.head()"
      ],
      "metadata": {
        "colab": {
          "base_uri": "https://localhost:8080/",
          "height": 475
        },
        "id": "8JgqBtALS69V",
        "outputId": "06721303-04f6-4877-f244-c4e174b3cf50"
      },
      "execution_count": null,
      "outputs": [
        {
          "output_type": "execute_result",
          "data": {
            "text/html": [
              "<div>\n",
              "<style scoped>\n",
              "    .dataframe tbody tr th:only-of-type {\n",
              "        vertical-align: middle;\n",
              "    }\n",
              "\n",
              "    .dataframe tbody tr th {\n",
              "        vertical-align: top;\n",
              "    }\n",
              "\n",
              "    .dataframe thead th {\n",
              "        text-align: right;\n",
              "    }\n",
              "</style>\n",
              "<table border=\"1\" class=\"dataframe\">\n",
              "  <thead>\n",
              "    <tr style=\"text-align: right;\">\n",
              "      <th></th>\n",
              "      <th>Unnamed: 0</th>\n",
              "      <th>index</th>\n",
              "      <th>coordL</th>\n",
              "      <th>coordW</th>\n",
              "      <th>place</th>\n",
              "      <th>district</th>\n",
              "      <th>DTPType</th>\n",
              "      <th>date</th>\n",
              "      <th>real_date</th>\n",
              "      <th>month</th>\n",
              "      <th>season</th>\n",
              "      <th>NVehicles</th>\n",
              "      <th>NPatricipants</th>\n",
              "      <th>NInjured</th>\n",
              "      <th>NFatal</th>\n",
              "      <th>additionalFactor</th>\n",
              "      <th>lightConditions</th>\n",
              "      <th>weatherConditions</th>\n",
              "      <th>placeConditions</th>\n",
              "      <th>closeObjects</th>\n",
              "      <th>violations</th>\n",
              "      <th>violationsAdditional</th>\n",
              "      <th>privod</th>\n",
              "      <th>traffic_regime</th>\n",
              "      <th>pokritie</th>\n",
              "      <th>neispravnosti</th>\n",
              "      <th>safety_belt</th>\n",
              "      <th>sublocality</th>\n",
              "      <th>traffic_regime_index</th>\n",
              "      <th>neispravnosti_index</th>\n",
              "      <th>privod_index</th>\n",
              "      <th>RITA</th>\n",
              "      <th>FAIL</th>\n",
              "      <th>violations_brief</th>\n",
              "    </tr>\n",
              "  </thead>\n",
              "  <tbody>\n",
              "    <tr>\n",
              "      <th>0</th>\n",
              "      <td>0</td>\n",
              "      <td>0</td>\n",
              "      <td>37.464817</td>\n",
              "      <td>55.758116</td>\n",
              "      <td>ул Мнёвники Нижн.</td>\n",
              "      <td>Хорошево-мневники</td>\n",
              "      <td>Наезд на препятствие</td>\n",
              "      <td>01.01.2020</td>\n",
              "      <td>2020-01-01</td>\n",
              "      <td>1</td>\n",
              "      <td>Winter</td>\n",
              "      <td>1</td>\n",
              "      <td>1</td>\n",
              "      <td>1</td>\n",
              "      <td>0</td>\n",
              "      <td>Сведения отсутствуют</td>\n",
              "      <td>0.5</td>\n",
              "      <td>Пасмурно</td>\n",
              "      <td>Перегон (нет объектов на месте ДТП)</td>\n",
              "      <td>Остановка общественного транспорта</td>\n",
              "      <td>Несоответствие скорости конкретным условиям дв...</td>\n",
              "      <td>Нет нарушений</td>\n",
              "      <td>передний</td>\n",
              "      <td>Режим движения не изменялся</td>\n",
              "      <td>Мокрое</td>\n",
              "      <td>Технические неисправности отсутствуют</td>\n",
              "      <td>Нет</td>\n",
              "      <td>Северо-Западный административный округ</td>\n",
              "      <td>0.0</td>\n",
              "      <td>0</td>\n",
              "      <td>10</td>\n",
              "      <td>125.5</td>\n",
              "      <td>2.5</td>\n",
              "      <td>Скоростной режим</td>\n",
              "    </tr>\n",
              "    <tr>\n",
              "      <th>1</th>\n",
              "      <td>1</td>\n",
              "      <td>1</td>\n",
              "      <td>37.388953</td>\n",
              "      <td>55.811338</td>\n",
              "      <td>Московская кольцевая автомобильная дорога (МКА...</td>\n",
              "      <td>Строгино</td>\n",
              "      <td>Наезд на стоящее ТС</td>\n",
              "      <td>01.01.2020</td>\n",
              "      <td>2020-01-01</td>\n",
              "      <td>1</td>\n",
              "      <td>Winter</td>\n",
              "      <td>2</td>\n",
              "      <td>2</td>\n",
              "      <td>1</td>\n",
              "      <td>0</td>\n",
              "      <td>Наличие на дороге объектов, мешающих движению</td>\n",
              "      <td>1.0</td>\n",
              "      <td>Ясно</td>\n",
              "      <td>Перегон (нет объектов на месте ДТП)</td>\n",
              "      <td>Отсутствие в непосредственной близости объекто...</td>\n",
              "      <td>Несоответствие скорости конкретным условиям дв...</td>\n",
              "      <td>Нет нарушений</td>\n",
              "      <td>передний</td>\n",
              "      <td>Движение частично перекрыто</td>\n",
              "      <td>Сухое</td>\n",
              "      <td>Технические неисправности отсутствуют</td>\n",
              "      <td>Нет</td>\n",
              "      <td>Северо-Западный административный округ</td>\n",
              "      <td>165.0</td>\n",
              "      <td>0</td>\n",
              "      <td>10</td>\n",
              "      <td>391.0</td>\n",
              "      <td>3.5</td>\n",
              "      <td>Скоростной режим</td>\n",
              "    </tr>\n",
              "    <tr>\n",
              "      <th>2</th>\n",
              "      <td>2</td>\n",
              "      <td>2</td>\n",
              "      <td>37.623153</td>\n",
              "      <td>55.866787</td>\n",
              "      <td>Юрловский пр-д</td>\n",
              "      <td>Отрадное</td>\n",
              "      <td>Наезд на пешехода</td>\n",
              "      <td>01.01.2020</td>\n",
              "      <td>2020-01-01</td>\n",
              "      <td>1</td>\n",
              "      <td>Winter</td>\n",
              "      <td>1</td>\n",
              "      <td>2</td>\n",
              "      <td>1</td>\n",
              "      <td>0</td>\n",
              "      <td>Сужение проезжей части</td>\n",
              "      <td>1.0</td>\n",
              "      <td>Пасмурно</td>\n",
              "      <td>Внутридворовая территория</td>\n",
              "      <td>Административные здания</td>\n",
              "      <td>Несоблюдение очередности проезда</td>\n",
              "      <td>Другие нарушения ПДД водителем</td>\n",
              "      <td>праворукий</td>\n",
              "      <td>Режим движения не изменялся</td>\n",
              "      <td>Сухое</td>\n",
              "      <td>Технические неисправности отсутствуют</td>\n",
              "      <td>Нет</td>\n",
              "      <td>Северо-Восточный административный округ</td>\n",
              "      <td>0.0</td>\n",
              "      <td>0</td>\n",
              "      <td>15</td>\n",
              "      <td>131.0</td>\n",
              "      <td>3.5</td>\n",
              "      <td>Очередь проезда</td>\n",
              "    </tr>\n",
              "    <tr>\n",
              "      <th>3</th>\n",
              "      <td>3</td>\n",
              "      <td>3</td>\n",
              "      <td>37.588413</td>\n",
              "      <td>55.660576</td>\n",
              "      <td>ул Болотниковская</td>\n",
              "      <td>Зюзино</td>\n",
              "      <td>Столкновение</td>\n",
              "      <td>01.01.2020</td>\n",
              "      <td>2020-01-01</td>\n",
              "      <td>1</td>\n",
              "      <td>Winter</td>\n",
              "      <td>2</td>\n",
              "      <td>3</td>\n",
              "      <td>1</td>\n",
              "      <td>0</td>\n",
              "      <td>Сведения отсутствуют</td>\n",
              "      <td>0.5</td>\n",
              "      <td>Пасмурно</td>\n",
              "      <td>Регулируемый пешеходный переход</td>\n",
              "      <td>Остановка общественного транспорта</td>\n",
              "      <td>Несоблюдение очередности проезда</td>\n",
              "      <td>Нет нарушений</td>\n",
              "      <td>передний</td>\n",
              "      <td>Движение частично перекрыто</td>\n",
              "      <td>Мокрое</td>\n",
              "      <td>Технические неисправности отсутствуют</td>\n",
              "      <td>Нет</td>\n",
              "      <td>Юго-Западный административный округ</td>\n",
              "      <td>195.0</td>\n",
              "      <td>0</td>\n",
              "      <td>10</td>\n",
              "      <td>421.5</td>\n",
              "      <td>4.5</td>\n",
              "      <td>Очередь проезда</td>\n",
              "    </tr>\n",
              "    <tr>\n",
              "      <th>4</th>\n",
              "      <td>4</td>\n",
              "      <td>4</td>\n",
              "      <td>37.636467</td>\n",
              "      <td>55.805098</td>\n",
              "      <td>пр-кт Мира</td>\n",
              "      <td>Алексеевский</td>\n",
              "      <td>Падение чего-либо</td>\n",
              "      <td>01.01.2020</td>\n",
              "      <td>2020-01-01</td>\n",
              "      <td>1</td>\n",
              "      <td>Winter</td>\n",
              "      <td>1</td>\n",
              "      <td>2</td>\n",
              "      <td>1</td>\n",
              "      <td>0</td>\n",
              "      <td>Участок, контролируемый камерой</td>\n",
              "      <td>0.5</td>\n",
              "      <td>Ясно</td>\n",
              "      <td>Остановка общественного транспорта</td>\n",
              "      <td>Остановка общественного транспорта</td>\n",
              "      <td>Нарушение правил пользования общественным тран...</td>\n",
              "      <td>Нарушение правил перевозки людей</td>\n",
              "      <td>передний</td>\n",
              "      <td>Режим движения не изменялся</td>\n",
              "      <td>Сухое</td>\n",
              "      <td>Технические неисправности отсутствуют</td>\n",
              "      <td>Нет</td>\n",
              "      <td>Северо-Восточный административный округ</td>\n",
              "      <td>0.0</td>\n",
              "      <td>0</td>\n",
              "      <td>10</td>\n",
              "      <td>126.0</td>\n",
              "      <td>3.5</td>\n",
              "      <td>Общ. транспорт</td>\n",
              "    </tr>\n",
              "  </tbody>\n",
              "</table>\n",
              "</div>"
            ],
            "text/plain": [
              "   Unnamed: 0  index     coordL  ...   RITA FAIL  violations_brief\n",
              "0           0      0  37.464817  ...  125.5  2.5  Скоростной режим\n",
              "1           1      1  37.388953  ...  391.0  3.5  Скоростной режим\n",
              "2           2      2  37.623153  ...  131.0  3.5   Очередь проезда\n",
              "3           3      3  37.588413  ...  421.5  4.5   Очередь проезда\n",
              "4           4      4  37.636467  ...  126.0  3.5    Общ. транспорт\n",
              "\n",
              "[5 rows x 34 columns]"
            ]
          },
          "metadata": {},
          "execution_count": 146
        }
      ]
    },
    {
      "cell_type": "code",
      "source": [
        "df1.to_excel('violations_brief.xlsx', index=False)"
      ],
      "metadata": {
        "id": "fc6eGgj9ULC0"
      },
      "execution_count": null,
      "outputs": []
    },
    {
      "cell_type": "markdown",
      "source": [
        "# регрессии и CatBoost"
      ],
      "metadata": {
        "id": "UxspdvjYE6TF"
      }
    },
    {
      "cell_type": "code",
      "source": [
        "!pip install catboost"
      ],
      "metadata": {
        "colab": {
          "base_uri": "https://localhost:8080/"
        },
        "id": "wjGB1qN0E5ze",
        "outputId": "78f339de-3bd2-4e66-a84e-0a5fbb1a2afc"
      },
      "execution_count": 6,
      "outputs": [
        {
          "output_type": "stream",
          "name": "stdout",
          "text": [
            "Collecting catboost\n",
            "  Downloading catboost-1.0.3-cp37-none-manylinux1_x86_64.whl (76.3 MB)\n",
            "\u001b[K     |████████████████████████████████| 76.3 MB 1.2 MB/s \n",
            "\u001b[?25hRequirement already satisfied: six in /usr/local/lib/python3.7/dist-packages (from catboost) (1.15.0)\n",
            "Requirement already satisfied: plotly in /usr/local/lib/python3.7/dist-packages (from catboost) (4.4.1)\n",
            "Requirement already satisfied: numpy>=1.16.0 in /usr/local/lib/python3.7/dist-packages (from catboost) (1.19.5)\n",
            "Requirement already satisfied: scipy in /usr/local/lib/python3.7/dist-packages (from catboost) (1.4.1)\n",
            "Requirement already satisfied: pandas>=0.24.0 in /usr/local/lib/python3.7/dist-packages (from catboost) (1.1.5)\n",
            "Requirement already satisfied: matplotlib in /usr/local/lib/python3.7/dist-packages (from catboost) (3.2.2)\n",
            "Requirement already satisfied: graphviz in /usr/local/lib/python3.7/dist-packages (from catboost) (0.10.1)\n",
            "Requirement already satisfied: python-dateutil>=2.7.3 in /usr/local/lib/python3.7/dist-packages (from pandas>=0.24.0->catboost) (2.8.2)\n",
            "Requirement already satisfied: pytz>=2017.2 in /usr/local/lib/python3.7/dist-packages (from pandas>=0.24.0->catboost) (2018.9)\n",
            "Requirement already satisfied: cycler>=0.10 in /usr/local/lib/python3.7/dist-packages (from matplotlib->catboost) (0.11.0)\n",
            "Requirement already satisfied: kiwisolver>=1.0.1 in /usr/local/lib/python3.7/dist-packages (from matplotlib->catboost) (1.3.2)\n",
            "Requirement already satisfied: pyparsing!=2.0.4,!=2.1.2,!=2.1.6,>=2.0.1 in /usr/local/lib/python3.7/dist-packages (from matplotlib->catboost) (3.0.6)\n",
            "Requirement already satisfied: retrying>=1.3.3 in /usr/local/lib/python3.7/dist-packages (from plotly->catboost) (1.3.3)\n",
            "Installing collected packages: catboost\n",
            "Successfully installed catboost-1.0.3\n"
          ]
        }
      ]
    },
    {
      "cell_type": "code",
      "source": [
        "from catboost import CatBoostRegressor, Pool, cv"
      ],
      "metadata": {
        "id": "ddS9Z1qaFOPR"
      },
      "execution_count": 10,
      "outputs": []
    },
    {
      "cell_type": "code",
      "source": [
        "viol = pd.read_excel('/content/drive/MyDrive/merge_preprocessing_dano/files/violations_brief.xlsx')\n",
        "viol.head()"
      ],
      "metadata": {
        "colab": {
          "base_uri": "https://localhost:8080/",
          "height": 475
        },
        "id": "Zy-QyibjFRoC",
        "outputId": "dd4a317c-28f7-48e9-d44e-a4dd07b87593"
      },
      "execution_count": 12,
      "outputs": [
        {
          "output_type": "execute_result",
          "data": {
            "text/html": [
              "<div>\n",
              "<style scoped>\n",
              "    .dataframe tbody tr th:only-of-type {\n",
              "        vertical-align: middle;\n",
              "    }\n",
              "\n",
              "    .dataframe tbody tr th {\n",
              "        vertical-align: top;\n",
              "    }\n",
              "\n",
              "    .dataframe thead th {\n",
              "        text-align: right;\n",
              "    }\n",
              "</style>\n",
              "<table border=\"1\" class=\"dataframe\">\n",
              "  <thead>\n",
              "    <tr style=\"text-align: right;\">\n",
              "      <th></th>\n",
              "      <th>Unnamed: 0</th>\n",
              "      <th>index</th>\n",
              "      <th>coordL</th>\n",
              "      <th>coordW</th>\n",
              "      <th>place</th>\n",
              "      <th>district</th>\n",
              "      <th>DTPType</th>\n",
              "      <th>date</th>\n",
              "      <th>real_date</th>\n",
              "      <th>month</th>\n",
              "      <th>season</th>\n",
              "      <th>NVehicles</th>\n",
              "      <th>NPatricipants</th>\n",
              "      <th>NInjured</th>\n",
              "      <th>NFatal</th>\n",
              "      <th>additionalFactor</th>\n",
              "      <th>lightConditions</th>\n",
              "      <th>weatherConditions</th>\n",
              "      <th>placeConditions</th>\n",
              "      <th>closeObjects</th>\n",
              "      <th>violations</th>\n",
              "      <th>violationsAdditional</th>\n",
              "      <th>privod</th>\n",
              "      <th>traffic_regime</th>\n",
              "      <th>pokritie</th>\n",
              "      <th>neispravnosti</th>\n",
              "      <th>safety_belt</th>\n",
              "      <th>sublocality</th>\n",
              "      <th>traffic_regime_index</th>\n",
              "      <th>neispravnosti_index</th>\n",
              "      <th>privod_index</th>\n",
              "      <th>RITA</th>\n",
              "      <th>FAIL</th>\n",
              "      <th>violations_brief</th>\n",
              "    </tr>\n",
              "  </thead>\n",
              "  <tbody>\n",
              "    <tr>\n",
              "      <th>0</th>\n",
              "      <td>0</td>\n",
              "      <td>0</td>\n",
              "      <td>37.464817</td>\n",
              "      <td>55.758116</td>\n",
              "      <td>ул Мнёвники Нижн.</td>\n",
              "      <td>Хорошево-мневники</td>\n",
              "      <td>Наезд на препятствие</td>\n",
              "      <td>01.01.2020</td>\n",
              "      <td>2020-01-01</td>\n",
              "      <td>1</td>\n",
              "      <td>Winter</td>\n",
              "      <td>1</td>\n",
              "      <td>1</td>\n",
              "      <td>1</td>\n",
              "      <td>0</td>\n",
              "      <td>Сведения отсутствуют</td>\n",
              "      <td>0.5</td>\n",
              "      <td>Пасмурно</td>\n",
              "      <td>Перегон (нет объектов на месте ДТП)</td>\n",
              "      <td>Остановка общественного транспорта</td>\n",
              "      <td>Несоответствие скорости конкретным условиям дв...</td>\n",
              "      <td>Нет нарушений</td>\n",
              "      <td>передний</td>\n",
              "      <td>Режим движения не изменялся</td>\n",
              "      <td>Мокрое</td>\n",
              "      <td>Технические неисправности отсутствуют</td>\n",
              "      <td>Нет</td>\n",
              "      <td>Северо-Западный административный округ</td>\n",
              "      <td>0.0</td>\n",
              "      <td>0</td>\n",
              "      <td>10</td>\n",
              "      <td>125.5</td>\n",
              "      <td>2.5</td>\n",
              "      <td>Скоростной режим</td>\n",
              "    </tr>\n",
              "    <tr>\n",
              "      <th>1</th>\n",
              "      <td>1</td>\n",
              "      <td>1</td>\n",
              "      <td>37.388953</td>\n",
              "      <td>55.811338</td>\n",
              "      <td>Московская кольцевая автомобильная дорога (МКА...</td>\n",
              "      <td>Строгино</td>\n",
              "      <td>Наезд на стоящее ТС</td>\n",
              "      <td>01.01.2020</td>\n",
              "      <td>2020-01-01</td>\n",
              "      <td>1</td>\n",
              "      <td>Winter</td>\n",
              "      <td>2</td>\n",
              "      <td>2</td>\n",
              "      <td>1</td>\n",
              "      <td>0</td>\n",
              "      <td>Наличие на дороге объектов, мешающих движению</td>\n",
              "      <td>1.0</td>\n",
              "      <td>Ясно</td>\n",
              "      <td>Перегон (нет объектов на месте ДТП)</td>\n",
              "      <td>Отсутствие в непосредственной близости объекто...</td>\n",
              "      <td>Несоответствие скорости конкретным условиям дв...</td>\n",
              "      <td>Нет нарушений</td>\n",
              "      <td>передний</td>\n",
              "      <td>Движение частично перекрыто</td>\n",
              "      <td>Сухое</td>\n",
              "      <td>Технические неисправности отсутствуют</td>\n",
              "      <td>Нет</td>\n",
              "      <td>Северо-Западный административный округ</td>\n",
              "      <td>165.0</td>\n",
              "      <td>0</td>\n",
              "      <td>10</td>\n",
              "      <td>391.0</td>\n",
              "      <td>3.5</td>\n",
              "      <td>Скоростной режим</td>\n",
              "    </tr>\n",
              "    <tr>\n",
              "      <th>2</th>\n",
              "      <td>2</td>\n",
              "      <td>2</td>\n",
              "      <td>37.623153</td>\n",
              "      <td>55.866787</td>\n",
              "      <td>Юрловский пр-д</td>\n",
              "      <td>Отрадное</td>\n",
              "      <td>Наезд на пешехода</td>\n",
              "      <td>01.01.2020</td>\n",
              "      <td>2020-01-01</td>\n",
              "      <td>1</td>\n",
              "      <td>Winter</td>\n",
              "      <td>1</td>\n",
              "      <td>2</td>\n",
              "      <td>1</td>\n",
              "      <td>0</td>\n",
              "      <td>Сужение проезжей части</td>\n",
              "      <td>1.0</td>\n",
              "      <td>Пасмурно</td>\n",
              "      <td>Внутридворовая территория</td>\n",
              "      <td>Административные здания</td>\n",
              "      <td>Несоблюдение очередности проезда</td>\n",
              "      <td>Другие нарушения ПДД водителем</td>\n",
              "      <td>праворукий</td>\n",
              "      <td>Режим движения не изменялся</td>\n",
              "      <td>Сухое</td>\n",
              "      <td>Технические неисправности отсутствуют</td>\n",
              "      <td>Нет</td>\n",
              "      <td>Северо-Восточный административный округ</td>\n",
              "      <td>0.0</td>\n",
              "      <td>0</td>\n",
              "      <td>15</td>\n",
              "      <td>131.0</td>\n",
              "      <td>3.5</td>\n",
              "      <td>Очередь проезда</td>\n",
              "    </tr>\n",
              "    <tr>\n",
              "      <th>3</th>\n",
              "      <td>3</td>\n",
              "      <td>3</td>\n",
              "      <td>37.588413</td>\n",
              "      <td>55.660576</td>\n",
              "      <td>ул Болотниковская</td>\n",
              "      <td>Зюзино</td>\n",
              "      <td>Столкновение</td>\n",
              "      <td>01.01.2020</td>\n",
              "      <td>2020-01-01</td>\n",
              "      <td>1</td>\n",
              "      <td>Winter</td>\n",
              "      <td>2</td>\n",
              "      <td>3</td>\n",
              "      <td>1</td>\n",
              "      <td>0</td>\n",
              "      <td>Сведения отсутствуют</td>\n",
              "      <td>0.5</td>\n",
              "      <td>Пасмурно</td>\n",
              "      <td>Регулируемый пешеходный переход</td>\n",
              "      <td>Остановка общественного транспорта</td>\n",
              "      <td>Несоблюдение очередности проезда</td>\n",
              "      <td>Нет нарушений</td>\n",
              "      <td>передний</td>\n",
              "      <td>Движение частично перекрыто</td>\n",
              "      <td>Мокрое</td>\n",
              "      <td>Технические неисправности отсутствуют</td>\n",
              "      <td>Нет</td>\n",
              "      <td>Юго-Западный административный округ</td>\n",
              "      <td>195.0</td>\n",
              "      <td>0</td>\n",
              "      <td>10</td>\n",
              "      <td>421.5</td>\n",
              "      <td>4.5</td>\n",
              "      <td>Очередь проезда</td>\n",
              "    </tr>\n",
              "    <tr>\n",
              "      <th>4</th>\n",
              "      <td>4</td>\n",
              "      <td>4</td>\n",
              "      <td>37.636467</td>\n",
              "      <td>55.805098</td>\n",
              "      <td>пр-кт Мира</td>\n",
              "      <td>Алексеевский</td>\n",
              "      <td>Падение чего-либо</td>\n",
              "      <td>01.01.2020</td>\n",
              "      <td>2020-01-01</td>\n",
              "      <td>1</td>\n",
              "      <td>Winter</td>\n",
              "      <td>1</td>\n",
              "      <td>2</td>\n",
              "      <td>1</td>\n",
              "      <td>0</td>\n",
              "      <td>Участок, контролируемый камерой</td>\n",
              "      <td>0.5</td>\n",
              "      <td>Ясно</td>\n",
              "      <td>Остановка общественного транспорта</td>\n",
              "      <td>Остановка общественного транспорта</td>\n",
              "      <td>Нарушение правил пользования общественным тран...</td>\n",
              "      <td>Нарушение правил перевозки людей</td>\n",
              "      <td>передний</td>\n",
              "      <td>Режим движения не изменялся</td>\n",
              "      <td>Сухое</td>\n",
              "      <td>Технические неисправности отсутствуют</td>\n",
              "      <td>Нет</td>\n",
              "      <td>Северо-Восточный административный округ</td>\n",
              "      <td>0.0</td>\n",
              "      <td>0</td>\n",
              "      <td>10</td>\n",
              "      <td>126.0</td>\n",
              "      <td>3.5</td>\n",
              "      <td>Общ. транспорт</td>\n",
              "    </tr>\n",
              "  </tbody>\n",
              "</table>\n",
              "</div>"
            ],
            "text/plain": [
              "   Unnamed: 0  index     coordL  ...   RITA FAIL  violations_brief\n",
              "0           0      0  37.464817  ...  125.5  2.5  Скоростной режим\n",
              "1           1      1  37.388953  ...  391.0  3.5  Скоростной режим\n",
              "2           2      2  37.623153  ...  131.0  3.5   Очередь проезда\n",
              "3           3      3  37.588413  ...  421.5  4.5   Очередь проезда\n",
              "4           4      4  37.636467  ...  126.0  3.5    Общ. транспорт\n",
              "\n",
              "[5 rows x 34 columns]"
            ]
          },
          "metadata": {},
          "execution_count": 12
        }
      ]
    },
    {
      "cell_type": "code",
      "source": [
        "y = viol.RITA\n",
        "x = viol[['violations_brief', 'DTPType', 'district', 'month', 'season', 'closeObjects']]"
      ],
      "metadata": {
        "id": "sxIc0GzIHFzI"
      },
      "execution_count": 22,
      "outputs": []
    },
    {
      "cell_type": "code",
      "source": [
        "params = {\"iterations\": 300,\n",
        "          \"depth\": 3,\n",
        "          \"loss_function\": \"RMSE\",\n",
        "          \"verbose\": False}"
      ],
      "metadata": {
        "id": "yFRcvyo5It1u"
      },
      "execution_count": 26,
      "outputs": []
    },
    {
      "cell_type": "code",
      "source": [
        "cv_dataset = Pool(data=x, label=y, cat_features=['violations_brief', 'DTPType', 'district', 'season', 'closeObjects'])"
      ],
      "metadata": {
        "id": "NGYw7l7QIfpP"
      },
      "execution_count": 24,
      "outputs": []
    },
    {
      "cell_type": "code",
      "source": [
        "model = cv(cv_dataset, params=params, fold_count=5, plot=True)"
      ],
      "metadata": {
        "colab": {
          "base_uri": "https://localhost:8080/",
          "height": 437,
          "referenced_widgets": [
            "16e2aa47b31441b6973f601628e24983"
          ]
        },
        "id": "8JkWElmaJwev",
        "outputId": "20007fb4-b161-4224-d005-0f6aaf64e2be"
      },
      "execution_count": 27,
      "outputs": [
        {
          "output_type": "display_data",
          "data": {
            "application/vnd.jupyter.widget-view+json": {
              "model_id": "16e2aa47b31441b6973f601628e24983",
              "version_minor": 0,
              "version_major": 2
            },
            "text/plain": [
              "MetricVisualizer(layout=Layout(align_self='stretch', height='500px'))"
            ]
          },
          "metadata": {}
        },
        {
          "output_type": "stream",
          "name": "stdout",
          "text": [
            "Training on fold [0/5]\n",
            "\n",
            "bestTest = 194.779167\n",
            "bestIteration = 295\n",
            "\n",
            "Training on fold [1/5]\n",
            "\n",
            "bestTest = 146.9700557\n",
            "bestIteration = 299\n",
            "\n",
            "Training on fold [2/5]\n",
            "\n",
            "bestTest = 225.7359315\n",
            "bestIteration = 271\n",
            "\n",
            "Training on fold [3/5]\n",
            "\n",
            "bestTest = 154.6428251\n",
            "bestIteration = 259\n",
            "\n",
            "Training on fold [4/5]\n",
            "\n",
            "bestTest = 175.6633161\n",
            "bestIteration = 266\n",
            "\n"
          ]
        }
      ]
    },
    {
      "cell_type": "code",
      "source": [
        "model"
      ],
      "metadata": {
        "colab": {
          "base_uri": "https://localhost:8080/",
          "height": 417
        },
        "id": "WulDtcT1LYr2",
        "outputId": "1ee2c4fe-ff74-46ca-c465-2f2dc184b50b"
      },
      "execution_count": 33,
      "outputs": [
        {
          "output_type": "execute_result",
          "data": {
            "text/html": [
              "<div>\n",
              "<style scoped>\n",
              "    .dataframe tbody tr th:only-of-type {\n",
              "        vertical-align: middle;\n",
              "    }\n",
              "\n",
              "    .dataframe tbody tr th {\n",
              "        vertical-align: top;\n",
              "    }\n",
              "\n",
              "    .dataframe thead th {\n",
              "        text-align: right;\n",
              "    }\n",
              "</style>\n",
              "<table border=\"1\" class=\"dataframe\">\n",
              "  <thead>\n",
              "    <tr style=\"text-align: right;\">\n",
              "      <th></th>\n",
              "      <th>iterations</th>\n",
              "      <th>test-RMSE-mean</th>\n",
              "      <th>test-RMSE-std</th>\n",
              "      <th>train-RMSE-mean</th>\n",
              "      <th>train-RMSE-std</th>\n",
              "    </tr>\n",
              "  </thead>\n",
              "  <tbody>\n",
              "    <tr>\n",
              "      <th>0</th>\n",
              "      <td>0</td>\n",
              "      <td>326.343593</td>\n",
              "      <td>18.476553</td>\n",
              "      <td>326.735662</td>\n",
              "      <td>4.653933</td>\n",
              "    </tr>\n",
              "    <tr>\n",
              "      <th>1</th>\n",
              "      <td>1</td>\n",
              "      <td>319.787179</td>\n",
              "      <td>18.809603</td>\n",
              "      <td>320.185092</td>\n",
              "      <td>4.734632</td>\n",
              "    </tr>\n",
              "    <tr>\n",
              "      <th>2</th>\n",
              "      <td>2</td>\n",
              "      <td>313.454739</td>\n",
              "      <td>19.159768</td>\n",
              "      <td>313.893873</td>\n",
              "      <td>4.808720</td>\n",
              "    </tr>\n",
              "    <tr>\n",
              "      <th>3</th>\n",
              "      <td>3</td>\n",
              "      <td>307.411649</td>\n",
              "      <td>19.501635</td>\n",
              "      <td>307.862413</td>\n",
              "      <td>4.896732</td>\n",
              "    </tr>\n",
              "    <tr>\n",
              "      <th>4</th>\n",
              "      <td>4</td>\n",
              "      <td>301.603773</td>\n",
              "      <td>19.875844</td>\n",
              "      <td>302.102256</td>\n",
              "      <td>4.955722</td>\n",
              "    </tr>\n",
              "    <tr>\n",
              "      <th>...</th>\n",
              "      <td>...</td>\n",
              "      <td>...</td>\n",
              "      <td>...</td>\n",
              "      <td>...</td>\n",
              "      <td>...</td>\n",
              "    </tr>\n",
              "    <tr>\n",
              "      <th>295</th>\n",
              "      <td>295</td>\n",
              "      <td>179.594069</td>\n",
              "      <td>31.860527</td>\n",
              "      <td>180.292624</td>\n",
              "      <td>7.765291</td>\n",
              "    </tr>\n",
              "    <tr>\n",
              "      <th>296</th>\n",
              "      <td>296</td>\n",
              "      <td>179.590628</td>\n",
              "      <td>31.866149</td>\n",
              "      <td>180.283112</td>\n",
              "      <td>7.764705</td>\n",
              "    </tr>\n",
              "    <tr>\n",
              "      <th>297</th>\n",
              "      <td>297</td>\n",
              "      <td>179.590486</td>\n",
              "      <td>31.864595</td>\n",
              "      <td>180.276385</td>\n",
              "      <td>7.764871</td>\n",
              "    </tr>\n",
              "    <tr>\n",
              "      <th>298</th>\n",
              "      <td>298</td>\n",
              "      <td>179.591756</td>\n",
              "      <td>31.861725</td>\n",
              "      <td>180.266153</td>\n",
              "      <td>7.759472</td>\n",
              "    </tr>\n",
              "    <tr>\n",
              "      <th>299</th>\n",
              "      <td>299</td>\n",
              "      <td>179.590983</td>\n",
              "      <td>31.861776</td>\n",
              "      <td>180.261953</td>\n",
              "      <td>7.758007</td>\n",
              "    </tr>\n",
              "  </tbody>\n",
              "</table>\n",
              "<p>300 rows × 5 columns</p>\n",
              "</div>"
            ],
            "text/plain": [
              "     iterations  test-RMSE-mean  test-RMSE-std  train-RMSE-mean  train-RMSE-std\n",
              "0             0      326.343593      18.476553       326.735662        4.653933\n",
              "1             1      319.787179      18.809603       320.185092        4.734632\n",
              "2             2      313.454739      19.159768       313.893873        4.808720\n",
              "3             3      307.411649      19.501635       307.862413        4.896732\n",
              "4             4      301.603773      19.875844       302.102256        4.955722\n",
              "..          ...             ...            ...              ...             ...\n",
              "295         295      179.594069      31.860527       180.292624        7.765291\n",
              "296         296      179.590628      31.866149       180.283112        7.764705\n",
              "297         297      179.590486      31.864595       180.276385        7.764871\n",
              "298         298      179.591756      31.861725       180.266153        7.759472\n",
              "299         299      179.590983      31.861776       180.261953        7.758007\n",
              "\n",
              "[300 rows x 5 columns]"
            ]
          },
          "metadata": {},
          "execution_count": 33
        }
      ]
    },
    {
      "cell_type": "code",
      "source": [
        "model.get_all_params()"
      ],
      "metadata": {
        "colab": {
          "base_uri": "https://localhost:8080/",
          "height": 279
        },
        "id": "fyIHxlRWJWm_",
        "outputId": "496a3493-f309-45c3-d813-4a336d2899db"
      },
      "execution_count": 29,
      "outputs": [
        {
          "output_type": "error",
          "ename": "AttributeError",
          "evalue": "ignored",
          "traceback": [
            "\u001b[0;31m---------------------------------------------------------------------------\u001b[0m",
            "\u001b[0;31mAttributeError\u001b[0m                            Traceback (most recent call last)",
            "\u001b[0;32m<ipython-input-29-1588c07b4d01>\u001b[0m in \u001b[0;36m<module>\u001b[0;34m()\u001b[0m\n\u001b[0;32m----> 1\u001b[0;31m \u001b[0mmodel\u001b[0m\u001b[0;34m.\u001b[0m\u001b[0mget_all_params\u001b[0m\u001b[0;34m(\u001b[0m\u001b[0;34m)\u001b[0m\u001b[0;34m\u001b[0m\u001b[0;34m\u001b[0m\u001b[0m\n\u001b[0m",
            "\u001b[0;32m/usr/local/lib/python3.7/dist-packages/pandas/core/generic.py\u001b[0m in \u001b[0;36m__getattr__\u001b[0;34m(self, name)\u001b[0m\n\u001b[1;32m   5139\u001b[0m             \u001b[0;32mif\u001b[0m \u001b[0mself\u001b[0m\u001b[0;34m.\u001b[0m\u001b[0m_info_axis\u001b[0m\u001b[0;34m.\u001b[0m\u001b[0m_can_hold_identifiers_and_holds_name\u001b[0m\u001b[0;34m(\u001b[0m\u001b[0mname\u001b[0m\u001b[0;34m)\u001b[0m\u001b[0;34m:\u001b[0m\u001b[0;34m\u001b[0m\u001b[0;34m\u001b[0m\u001b[0m\n\u001b[1;32m   5140\u001b[0m                 \u001b[0;32mreturn\u001b[0m \u001b[0mself\u001b[0m\u001b[0;34m[\u001b[0m\u001b[0mname\u001b[0m\u001b[0;34m]\u001b[0m\u001b[0;34m\u001b[0m\u001b[0;34m\u001b[0m\u001b[0m\n\u001b[0;32m-> 5141\u001b[0;31m             \u001b[0;32mreturn\u001b[0m \u001b[0mobject\u001b[0m\u001b[0;34m.\u001b[0m\u001b[0m__getattribute__\u001b[0m\u001b[0;34m(\u001b[0m\u001b[0mself\u001b[0m\u001b[0;34m,\u001b[0m \u001b[0mname\u001b[0m\u001b[0;34m)\u001b[0m\u001b[0;34m\u001b[0m\u001b[0;34m\u001b[0m\u001b[0m\n\u001b[0m\u001b[1;32m   5142\u001b[0m \u001b[0;34m\u001b[0m\u001b[0m\n\u001b[1;32m   5143\u001b[0m     \u001b[0;32mdef\u001b[0m \u001b[0m__setattr__\u001b[0m\u001b[0;34m(\u001b[0m\u001b[0mself\u001b[0m\u001b[0;34m,\u001b[0m \u001b[0mname\u001b[0m\u001b[0;34m:\u001b[0m \u001b[0mstr\u001b[0m\u001b[0;34m,\u001b[0m \u001b[0mvalue\u001b[0m\u001b[0;34m)\u001b[0m \u001b[0;34m->\u001b[0m \u001b[0;32mNone\u001b[0m\u001b[0;34m:\u001b[0m\u001b[0;34m\u001b[0m\u001b[0;34m\u001b[0m\u001b[0m\n",
            "\u001b[0;31mAttributeError\u001b[0m: 'DataFrame' object has no attribute 'get_all_params'"
          ]
        }
      ]
    }
  ]
}