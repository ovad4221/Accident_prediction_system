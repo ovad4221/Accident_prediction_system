{
  "nbformat": 4,
  "nbformat_minor": 0,
  "metadata": {
    "colab": {
      "name": "Avarii_project.ipynb",
      "provenance": [],
      "collapsed_sections": []
    },
    "kernelspec": {
      "name": "python3",
      "display_name": "Python 3"
    },
    "language_info": {
      "name": "python"
    }
  },
  "cells": [
    {
      "cell_type": "markdown",
      "metadata": {
        "id": "KAnonsXSCbNI"
      },
      "source": [
        "# analitics"
      ]
    },
    {
      "cell_type": "code",
      "metadata": {
        "id": "K-My6gPhJQuB"
      },
      "source": [
        "import pandas as pd\n",
        "import numpy as np\n",
        "import matplotlib.pyplot as plt\n",
        "from mpl_toolkits.mplot3d import Axes3D\n",
        "\n",
        "%matplotlib inline"
      ],
      "execution_count": 1,
      "outputs": []
    },
    {
      "cell_type": "code",
      "metadata": {
        "colab": {
          "base_uri": "https://localhost:8080/",
          "height": 458
        },
        "id": "lf6q3QCYKHtw",
        "outputId": "3947624a-f64a-434c-932f-0bdf882be4fa"
      },
      "source": [
        "df = pd.read_excel('/content/drive/MyDrive/Аварии - датасет.xlsx')\n",
        "df.head(5)"
      ],
      "execution_count": 2,
      "outputs": [
        {
          "output_type": "execute_result",
          "data": {
            "text/html": [
              "<div>\n",
              "<style scoped>\n",
              "    .dataframe tbody tr th:only-of-type {\n",
              "        vertical-align: middle;\n",
              "    }\n",
              "\n",
              "    .dataframe tbody tr th {\n",
              "        vertical-align: top;\n",
              "    }\n",
              "\n",
              "    .dataframe thead th {\n",
              "        text-align: right;\n",
              "    }\n",
              "</style>\n",
              "<table border=\"1\" class=\"dataframe\">\n",
              "  <thead>\n",
              "    <tr style=\"text-align: right;\">\n",
              "      <th></th>\n",
              "      <th>coordL</th>\n",
              "      <th>coordW</th>\n",
              "      <th>DTPType</th>\n",
              "      <th>date</th>\n",
              "      <th>street</th>\n",
              "      <th>road</th>\n",
              "      <th>NVehicles</th>\n",
              "      <th>NPatricipants</th>\n",
              "      <th>NInjured</th>\n",
              "      <th>NFatal</th>\n",
              "      <th>additionalFactor</th>\n",
              "      <th>lightConditions</th>\n",
              "      <th>weatherConditions</th>\n",
              "      <th>placeConditions</th>\n",
              "      <th>closeObjects</th>\n",
              "      <th>violations</th>\n",
              "      <th>violationsAdditional</th>\n",
              "      <th>alco</th>\n",
              "      <th>privod</th>\n",
              "      <th>traffic_regime</th>\n",
              "      <th>pokritie</th>\n",
              "      <th>neispravnosti</th>\n",
              "      <th>safety_belt</th>\n",
              "    </tr>\n",
              "  </thead>\n",
              "  <tbody>\n",
              "    <tr>\n",
              "      <th>0</th>\n",
              "      <td>37.464817</td>\n",
              "      <td>55.758116</td>\n",
              "      <td>Наезд на препятствие</td>\n",
              "      <td>01.01.2020</td>\n",
              "      <td>ул Мнёвники Нижн.</td>\n",
              "      <td>NaN</td>\n",
              "      <td>1</td>\n",
              "      <td>1</td>\n",
              "      <td>1</td>\n",
              "      <td>0</td>\n",
              "      <td>Сведения отсутствуют</td>\n",
              "      <td>В темное время суток, освещение включено</td>\n",
              "      <td>Пасмурно</td>\n",
              "      <td>Перегон (нет объектов на месте ДТП)</td>\n",
              "      <td>Остановка общественного транспорта</td>\n",
              "      <td>Несоответствие скорости конкретным условиям дв...</td>\n",
              "      <td>Нет нарушений</td>\n",
              "      <td>NaN</td>\n",
              "      <td>С передним приводом</td>\n",
              "      <td>Режим движения не изменялся</td>\n",
              "      <td>Обработанное противогололедными материалами</td>\n",
              "      <td>Технические неисправности отсутствуют</td>\n",
              "      <td>Нет</td>\n",
              "    </tr>\n",
              "    <tr>\n",
              "      <th>1</th>\n",
              "      <td>37.388953</td>\n",
              "      <td>55.811338</td>\n",
              "      <td>Наезд на стоящее ТС</td>\n",
              "      <td>01.01.2020</td>\n",
              "      <td>NaN</td>\n",
              "      <td>Московская кольцевая автомобильная дорога (МКА...</td>\n",
              "      <td>2</td>\n",
              "      <td>2</td>\n",
              "      <td>1</td>\n",
              "      <td>0</td>\n",
              "      <td>Наличие на проезжей части неисправного ТС, меш...</td>\n",
              "      <td>Светлое время суток</td>\n",
              "      <td>Ясно</td>\n",
              "      <td>Перегон (нет объектов на месте ДТП)</td>\n",
              "      <td>Отсутствие в непосредственной близости объекто...</td>\n",
              "      <td>Несоответствие скорости конкретным условиям дв...</td>\n",
              "      <td>Нет нарушений</td>\n",
              "      <td>NaN</td>\n",
              "      <td>С передним приводом;С передним приводом</td>\n",
              "      <td>Движение частично перекрыто</td>\n",
              "      <td>Сухое</td>\n",
              "      <td>Технические неисправности отсутствуют;Техничес...</td>\n",
              "      <td>Нет</td>\n",
              "    </tr>\n",
              "    <tr>\n",
              "      <th>2</th>\n",
              "      <td>37.623153</td>\n",
              "      <td>55.866787</td>\n",
              "      <td>Наезд на пешехода</td>\n",
              "      <td>01.01.2020</td>\n",
              "      <td>NaN</td>\n",
              "      <td>NaN</td>\n",
              "      <td>1</td>\n",
              "      <td>2</td>\n",
              "      <td>1</td>\n",
              "      <td>0</td>\n",
              "      <td>Сужение проезжей части припаркованным транспортом</td>\n",
              "      <td>Светлое время суток</td>\n",
              "      <td>Пасмурно</td>\n",
              "      <td>Внутридворовая территория</td>\n",
              "      <td>Административные здания</td>\n",
              "      <td>Несоблюдение очередности проезда</td>\n",
              "      <td>Другие нарушения ПДД водителем</td>\n",
              "      <td>NaN</td>\n",
              "      <td>Иное расположение рулевого управления</td>\n",
              "      <td>Режим движения не изменялся</td>\n",
              "      <td>Сухое</td>\n",
              "      <td>Технические неисправности отсутствуют</td>\n",
              "      <td>Нет</td>\n",
              "    </tr>\n",
              "    <tr>\n",
              "      <th>3</th>\n",
              "      <td>37.588413</td>\n",
              "      <td>55.660576</td>\n",
              "      <td>Столкновение</td>\n",
              "      <td>01.01.2020</td>\n",
              "      <td>ул Болотниковская</td>\n",
              "      <td>NaN</td>\n",
              "      <td>2</td>\n",
              "      <td>3</td>\n",
              "      <td>1</td>\n",
              "      <td>0</td>\n",
              "      <td>Сведения отсутствуют</td>\n",
              "      <td>В темное время суток, освещение включено</td>\n",
              "      <td>Пасмурно</td>\n",
              "      <td>Регулируемый пешеходный переход</td>\n",
              "      <td>Остановка общественного транспорта</td>\n",
              "      <td>Нет нарушений;Несоблюдение очередности проезда</td>\n",
              "      <td>Нет нарушений;Нет нарушений</td>\n",
              "      <td>;</td>\n",
              "      <td>С передним приводом;С передним приводом</td>\n",
              "      <td>Движение частично перекрыто</td>\n",
              "      <td>Мокрое</td>\n",
              "      <td>Технические неисправности отсутствуют;Техничес...</td>\n",
              "      <td>Нет;Нет</td>\n",
              "    </tr>\n",
              "    <tr>\n",
              "      <th>4</th>\n",
              "      <td>37.636467</td>\n",
              "      <td>55.805098</td>\n",
              "      <td>Падение пассажира</td>\n",
              "      <td>01.01.2020</td>\n",
              "      <td>пр-кт Мира</td>\n",
              "      <td>NaN</td>\n",
              "      <td>1</td>\n",
              "      <td>2</td>\n",
              "      <td>1</td>\n",
              "      <td>0</td>\n",
              "      <td>Участок, контролируемый камерой автоматической...</td>\n",
              "      <td>В темное время суток, освещение включено</td>\n",
              "      <td>Ясно</td>\n",
              "      <td>Остановка общественного транспорта</td>\n",
              "      <td>Остановка общественного транспорта</td>\n",
              "      <td>Неподача или неправильная подача сигналов пово...</td>\n",
              "      <td>Нарушение правил перевозки людей;Нет нарушений</td>\n",
              "      <td>;</td>\n",
              "      <td>С передним приводом</td>\n",
              "      <td>Режим движения не изменялся</td>\n",
              "      <td>Сухое</td>\n",
              "      <td>Технические неисправности отсутствуют</td>\n",
              "      <td>Нет;Нет</td>\n",
              "    </tr>\n",
              "  </tbody>\n",
              "</table>\n",
              "</div>"
            ],
            "text/plain": [
              "      coordL  ...  safety_belt\n",
              "0  37.464817  ...          Нет\n",
              "1  37.388953  ...          Нет\n",
              "2  37.623153  ...          Нет\n",
              "3  37.588413  ...      Нет;Нет\n",
              "4  37.636467  ...      Нет;Нет\n",
              "\n",
              "[5 rows x 23 columns]"
            ]
          },
          "metadata": {},
          "execution_count": 2
        }
      ]
    },
    {
      "cell_type": "code",
      "metadata": {
        "colab": {
          "base_uri": "https://localhost:8080/"
        },
        "id": "uPBE0i71jVBU",
        "outputId": "9c150d03-83e4-40d5-b08e-4243a6857ee6"
      },
      "source": [
        "df.info()"
      ],
      "execution_count": 3,
      "outputs": [
        {
          "output_type": "stream",
          "name": "stdout",
          "text": [
            "<class 'pandas.core.frame.DataFrame'>\n",
            "RangeIndex: 7964 entries, 0 to 7963\n",
            "Data columns (total 23 columns):\n",
            " #   Column                Non-Null Count  Dtype  \n",
            "---  ------                --------------  -----  \n",
            " 0   coordL                7964 non-null   float64\n",
            " 1   coordW                7964 non-null   float64\n",
            " 2   DTPType               7964 non-null   object \n",
            " 3   date                  7964 non-null   object \n",
            " 4   street                5996 non-null   object \n",
            " 5   road                  1096 non-null   object \n",
            " 6   NVehicles             7964 non-null   int64  \n",
            " 7   NPatricipants         7964 non-null   int64  \n",
            " 8   NInjured              7964 non-null   int64  \n",
            " 9   NFatal                7964 non-null   int64  \n",
            " 10  additionalFactor      7964 non-null   object \n",
            " 11  lightConditions       7964 non-null   object \n",
            " 12  weatherConditions     7964 non-null   object \n",
            " 13  placeConditions       7964 non-null   object \n",
            " 14  closeObjects          7964 non-null   object \n",
            " 15  violations            7888 non-null   object \n",
            " 16  violationsAdditional  7888 non-null   object \n",
            " 17  alco                  1595 non-null   object \n",
            " 18  privod                7921 non-null   object \n",
            " 19  traffic_regime        7964 non-null   object \n",
            " 20  pokritie              7964 non-null   object \n",
            " 21  neispravnosti         7964 non-null   object \n",
            " 22  safety_belt           7888 non-null   object \n",
            "dtypes: float64(2), int64(4), object(17)\n",
            "memory usage: 1.4+ MB\n"
          ]
        }
      ]
    },
    {
      "cell_type": "code",
      "metadata": {
        "colab": {
          "base_uri": "https://localhost:8080/",
          "height": 458
        },
        "id": "R6xxuRAJDwkO",
        "outputId": "d567d8bb-c8a4-4f03-d1db-6049d670600d"
      },
      "source": [
        "funk = lambda x: 1 if type(x) == str else x\n",
        "\n",
        "df['place'] = [df.loc[i, 'street'] if not(np.isnan(funk(df.loc[i, 'street']))) else df.loc[i, 'road'] for i in range(7964)]\n",
        "df.head(5)"
      ],
      "execution_count": 4,
      "outputs": [
        {
          "output_type": "execute_result",
          "data": {
            "text/html": [
              "<div>\n",
              "<style scoped>\n",
              "    .dataframe tbody tr th:only-of-type {\n",
              "        vertical-align: middle;\n",
              "    }\n",
              "\n",
              "    .dataframe tbody tr th {\n",
              "        vertical-align: top;\n",
              "    }\n",
              "\n",
              "    .dataframe thead th {\n",
              "        text-align: right;\n",
              "    }\n",
              "</style>\n",
              "<table border=\"1\" class=\"dataframe\">\n",
              "  <thead>\n",
              "    <tr style=\"text-align: right;\">\n",
              "      <th></th>\n",
              "      <th>coordL</th>\n",
              "      <th>coordW</th>\n",
              "      <th>DTPType</th>\n",
              "      <th>date</th>\n",
              "      <th>street</th>\n",
              "      <th>road</th>\n",
              "      <th>NVehicles</th>\n",
              "      <th>NPatricipants</th>\n",
              "      <th>NInjured</th>\n",
              "      <th>NFatal</th>\n",
              "      <th>additionalFactor</th>\n",
              "      <th>lightConditions</th>\n",
              "      <th>weatherConditions</th>\n",
              "      <th>placeConditions</th>\n",
              "      <th>closeObjects</th>\n",
              "      <th>violations</th>\n",
              "      <th>violationsAdditional</th>\n",
              "      <th>alco</th>\n",
              "      <th>privod</th>\n",
              "      <th>traffic_regime</th>\n",
              "      <th>pokritie</th>\n",
              "      <th>neispravnosti</th>\n",
              "      <th>safety_belt</th>\n",
              "      <th>place</th>\n",
              "    </tr>\n",
              "  </thead>\n",
              "  <tbody>\n",
              "    <tr>\n",
              "      <th>0</th>\n",
              "      <td>37.464817</td>\n",
              "      <td>55.758116</td>\n",
              "      <td>Наезд на препятствие</td>\n",
              "      <td>01.01.2020</td>\n",
              "      <td>ул Мнёвники Нижн.</td>\n",
              "      <td>NaN</td>\n",
              "      <td>1</td>\n",
              "      <td>1</td>\n",
              "      <td>1</td>\n",
              "      <td>0</td>\n",
              "      <td>Сведения отсутствуют</td>\n",
              "      <td>В темное время суток, освещение включено</td>\n",
              "      <td>Пасмурно</td>\n",
              "      <td>Перегон (нет объектов на месте ДТП)</td>\n",
              "      <td>Остановка общественного транспорта</td>\n",
              "      <td>Несоответствие скорости конкретным условиям дв...</td>\n",
              "      <td>Нет нарушений</td>\n",
              "      <td>NaN</td>\n",
              "      <td>С передним приводом</td>\n",
              "      <td>Режим движения не изменялся</td>\n",
              "      <td>Обработанное противогололедными материалами</td>\n",
              "      <td>Технические неисправности отсутствуют</td>\n",
              "      <td>Нет</td>\n",
              "      <td>ул Мнёвники Нижн.</td>\n",
              "    </tr>\n",
              "    <tr>\n",
              "      <th>1</th>\n",
              "      <td>37.388953</td>\n",
              "      <td>55.811338</td>\n",
              "      <td>Наезд на стоящее ТС</td>\n",
              "      <td>01.01.2020</td>\n",
              "      <td>NaN</td>\n",
              "      <td>Московская кольцевая автомобильная дорога (МКА...</td>\n",
              "      <td>2</td>\n",
              "      <td>2</td>\n",
              "      <td>1</td>\n",
              "      <td>0</td>\n",
              "      <td>Наличие на проезжей части неисправного ТС, меш...</td>\n",
              "      <td>Светлое время суток</td>\n",
              "      <td>Ясно</td>\n",
              "      <td>Перегон (нет объектов на месте ДТП)</td>\n",
              "      <td>Отсутствие в непосредственной близости объекто...</td>\n",
              "      <td>Несоответствие скорости конкретным условиям дв...</td>\n",
              "      <td>Нет нарушений</td>\n",
              "      <td>NaN</td>\n",
              "      <td>С передним приводом;С передним приводом</td>\n",
              "      <td>Движение частично перекрыто</td>\n",
              "      <td>Сухое</td>\n",
              "      <td>Технические неисправности отсутствуют;Техничес...</td>\n",
              "      <td>Нет</td>\n",
              "      <td>Московская кольцевая автомобильная дорога (МКА...</td>\n",
              "    </tr>\n",
              "    <tr>\n",
              "      <th>2</th>\n",
              "      <td>37.623153</td>\n",
              "      <td>55.866787</td>\n",
              "      <td>Наезд на пешехода</td>\n",
              "      <td>01.01.2020</td>\n",
              "      <td>NaN</td>\n",
              "      <td>NaN</td>\n",
              "      <td>1</td>\n",
              "      <td>2</td>\n",
              "      <td>1</td>\n",
              "      <td>0</td>\n",
              "      <td>Сужение проезжей части припаркованным транспортом</td>\n",
              "      <td>Светлое время суток</td>\n",
              "      <td>Пасмурно</td>\n",
              "      <td>Внутридворовая территория</td>\n",
              "      <td>Административные здания</td>\n",
              "      <td>Несоблюдение очередности проезда</td>\n",
              "      <td>Другие нарушения ПДД водителем</td>\n",
              "      <td>NaN</td>\n",
              "      <td>Иное расположение рулевого управления</td>\n",
              "      <td>Режим движения не изменялся</td>\n",
              "      <td>Сухое</td>\n",
              "      <td>Технические неисправности отсутствуют</td>\n",
              "      <td>Нет</td>\n",
              "      <td>NaN</td>\n",
              "    </tr>\n",
              "    <tr>\n",
              "      <th>3</th>\n",
              "      <td>37.588413</td>\n",
              "      <td>55.660576</td>\n",
              "      <td>Столкновение</td>\n",
              "      <td>01.01.2020</td>\n",
              "      <td>ул Болотниковская</td>\n",
              "      <td>NaN</td>\n",
              "      <td>2</td>\n",
              "      <td>3</td>\n",
              "      <td>1</td>\n",
              "      <td>0</td>\n",
              "      <td>Сведения отсутствуют</td>\n",
              "      <td>В темное время суток, освещение включено</td>\n",
              "      <td>Пасмурно</td>\n",
              "      <td>Регулируемый пешеходный переход</td>\n",
              "      <td>Остановка общественного транспорта</td>\n",
              "      <td>Нет нарушений;Несоблюдение очередности проезда</td>\n",
              "      <td>Нет нарушений;Нет нарушений</td>\n",
              "      <td>;</td>\n",
              "      <td>С передним приводом;С передним приводом</td>\n",
              "      <td>Движение частично перекрыто</td>\n",
              "      <td>Мокрое</td>\n",
              "      <td>Технические неисправности отсутствуют;Техничес...</td>\n",
              "      <td>Нет;Нет</td>\n",
              "      <td>ул Болотниковская</td>\n",
              "    </tr>\n",
              "    <tr>\n",
              "      <th>4</th>\n",
              "      <td>37.636467</td>\n",
              "      <td>55.805098</td>\n",
              "      <td>Падение пассажира</td>\n",
              "      <td>01.01.2020</td>\n",
              "      <td>пр-кт Мира</td>\n",
              "      <td>NaN</td>\n",
              "      <td>1</td>\n",
              "      <td>2</td>\n",
              "      <td>1</td>\n",
              "      <td>0</td>\n",
              "      <td>Участок, контролируемый камерой автоматической...</td>\n",
              "      <td>В темное время суток, освещение включено</td>\n",
              "      <td>Ясно</td>\n",
              "      <td>Остановка общественного транспорта</td>\n",
              "      <td>Остановка общественного транспорта</td>\n",
              "      <td>Неподача или неправильная подача сигналов пово...</td>\n",
              "      <td>Нарушение правил перевозки людей;Нет нарушений</td>\n",
              "      <td>;</td>\n",
              "      <td>С передним приводом</td>\n",
              "      <td>Режим движения не изменялся</td>\n",
              "      <td>Сухое</td>\n",
              "      <td>Технические неисправности отсутствуют</td>\n",
              "      <td>Нет;Нет</td>\n",
              "      <td>пр-кт Мира</td>\n",
              "    </tr>\n",
              "  </tbody>\n",
              "</table>\n",
              "</div>"
            ],
            "text/plain": [
              "      coordL  ...                                              place\n",
              "0  37.464817  ...                                  ул Мнёвники Нижн.\n",
              "1  37.388953  ...  Московская кольцевая автомобильная дорога (МКА...\n",
              "2  37.623153  ...                                                NaN\n",
              "3  37.588413  ...                                  ул Болотниковская\n",
              "4  37.636467  ...                                         пр-кт Мира\n",
              "\n",
              "[5 rows x 24 columns]"
            ]
          },
          "metadata": {},
          "execution_count": 4
        }
      ]
    },
    {
      "cell_type": "code",
      "metadata": {
        "id": "TqcgsoZuKM_H"
      },
      "source": [
        "del df['street']\n",
        "del df['road']"
      ],
      "execution_count": 5,
      "outputs": []
    },
    {
      "cell_type": "code",
      "metadata": {
        "id": "O-vnTFXrEVKV"
      },
      "source": [
        "df = df.dropna(axis='index', how='any', subset=['violations'])"
      ],
      "execution_count": 6,
      "outputs": []
    },
    {
      "cell_type": "code",
      "metadata": {
        "colab": {
          "base_uri": "https://localhost:8080/"
        },
        "id": "0GFgiMwITF_6",
        "outputId": "bd1dcf79-8656-4cc6-bd67-74157763828f"
      },
      "source": [
        "df.groupby('violations').count().index"
      ],
      "execution_count": 7,
      "outputs": [
        {
          "output_type": "execute_result",
          "data": {
            "text/plain": [
              "Index(['Выезд на полосу встречного движения',\n",
              "       'Выезд на полосу встречного движения в местах, где это запрещено',\n",
              "       'Выезд на полосу встречного движения с разворотом, поворотом налево или объездом препятствия',\n",
              "       'Выезд на полосу встречного движения;Нет нарушений',\n",
              "       'Выезд на полосу встречного движения;Нет нарушений;Нет нарушений',\n",
              "       'Выезд на полосу встречного движения;Нет нарушений;Нет нарушений;Нет нарушений;Нет нарушений',\n",
              "       'Движение во встречном направлении по дороге с односторонним движением',\n",
              "       'Другие нарушения ПДД водителем',\n",
              "       'Другие нарушения ПДД водителем;Нет нарушений',\n",
              "       'Другие нарушения ПДД водителями (не применяется с 12.2020)',\n",
              "       ...\n",
              "       'Нет нарушений;Нет нарушений;Нет нарушений;Нет нарушений;Выезд на полосу встречного движения;Нет нарушений',\n",
              "       'Нет нарушений;Нет нарушений;Нет нарушений;Нет нарушений;Нарушение требований сигналов светофора',\n",
              "       'Нет нарушений;Оставление движущегося транспортного средства (выход или выпрыгивание на ходу и т.д.)',\n",
              "       'Нет нарушений;Оставление движущегося транспортного средства (выход или выпрыгивание на ходу и т.д.);Нет нарушений',\n",
              "       'Нет нарушений;Эксплуатация ТС с техническими неисправностями, при которых запрещается их эксплуатация',\n",
              "       'Оставление движущегося транспортного средства (выход или выпрыгивание на ходу и т.д.);Нет нарушений',\n",
              "       'Передвижение по проезжей части на скейтборде (роликовых коньках и т.д.)',\n",
              "       'Пересечение велосипедистом проезжей части по пешеходному переходу',\n",
              "       'Превышение установленной скорости движения;Нет нарушений',\n",
              "       'Разворот в местах, где разворот запрещён'],\n",
              "      dtype='object', name='violations', length=127)"
            ]
          },
          "metadata": {},
          "execution_count": 7
        }
      ]
    },
    {
      "cell_type": "code",
      "metadata": {
        "colab": {
          "base_uri": "https://localhost:8080/"
        },
        "id": "UDZP7tKfDaJ3",
        "outputId": "6b6858cf-c461-4d8e-9622-ac9bd223754b"
      },
      "source": [
        "def func(arr):\n",
        "  for i in arr:\n",
        "    if i != 'Нет нарушений':\n",
        "      return i\n",
        "\n",
        "n = 0\n",
        "for i in df['violations']:\n",
        "  if func(i.split(';')) == None:\n",
        "    # print(i)\n",
        "    n += 1\n",
        "n\n",
        "\n",
        "\n",
        "# df['violations_vodi'] = [func(i.split(';')) for i in df['violations']]"
      ],
      "execution_count": 8,
      "outputs": [
        {
          "output_type": "execute_result",
          "data": {
            "text/plain": [
              "2184"
            ]
          },
          "metadata": {},
          "execution_count": 8
        }
      ]
    },
    {
      "cell_type": "markdown",
      "metadata": {
        "id": "9gX7ZES0TYZK"
      },
      "source": [
        "далее в разработке"
      ]
    },
    {
      "cell_type": "code",
      "metadata": {
        "id": "IfOYlYvEpRfD"
      },
      "source": [
        "ser = df.groupby('violations_vodi').count()['date']"
      ],
      "execution_count": null,
      "outputs": []
    },
    {
      "cell_type": "code",
      "metadata": {
        "colab": {
          "base_uri": "https://localhost:8080/"
        },
        "id": "E0yGna04ME4T",
        "outputId": "3a2da652-a24c-4c85-b00c-ed513c5a7681"
      },
      "source": [
        "ser['Иные нарушения']"
      ],
      "execution_count": null,
      "outputs": [
        {
          "output_type": "execute_result",
          "data": {
            "text/plain": [
              "2"
            ]
          },
          "metadata": {},
          "execution_count": 51
        }
      ]
    },
    {
      "cell_type": "code",
      "metadata": {
        "colab": {
          "base_uri": "https://localhost:8080/"
        },
        "id": "NoKm262XOpaz",
        "outputId": "82c3811b-8186-473a-8254-6aa94f72b1cf"
      },
      "source": [
        "n = 0\n",
        "for i in df['violations_vodi']:\n",
        "  if type(i) != str:\n",
        "    n += 1\n",
        "n"
      ],
      "execution_count": null,
      "outputs": [
        {
          "output_type": "execute_result",
          "data": {
            "text/plain": [
              "2184"
            ]
          },
          "metadata": {},
          "execution_count": 55
        }
      ]
    },
    {
      "cell_type": "code",
      "metadata": {
        "colab": {
          "base_uri": "https://localhost:8080/",
          "height": 555
        },
        "id": "EeHiTpjeNZy7",
        "outputId": "e4b75b5a-cba3-4b90-a738-5ad58e639cb1"
      },
      "source": [
        "df['violations_vodi'] = [i if ser[i] > 5 else 'Иные нарушения' for i in df['violations_vodi']]"
      ],
      "execution_count": null,
      "outputs": [
        {
          "output_type": "error",
          "ename": "KeyError",
          "evalue": "ignored",
          "traceback": [
            "\u001b[0;31m---------------------------------------------------------------------------\u001b[0m",
            "\u001b[0;31mKeyError\u001b[0m                                  Traceback (most recent call last)",
            "\u001b[0;32m/usr/local/lib/python3.7/dist-packages/pandas/core/indexes/base.py\u001b[0m in \u001b[0;36mget_loc\u001b[0;34m(self, key, method, tolerance)\u001b[0m\n\u001b[1;32m   2897\u001b[0m             \u001b[0;32mtry\u001b[0m\u001b[0;34m:\u001b[0m\u001b[0;34m\u001b[0m\u001b[0;34m\u001b[0m\u001b[0m\n\u001b[0;32m-> 2898\u001b[0;31m                 \u001b[0;32mreturn\u001b[0m \u001b[0mself\u001b[0m\u001b[0;34m.\u001b[0m\u001b[0m_engine\u001b[0m\u001b[0;34m.\u001b[0m\u001b[0mget_loc\u001b[0m\u001b[0;34m(\u001b[0m\u001b[0mcasted_key\u001b[0m\u001b[0;34m)\u001b[0m\u001b[0;34m\u001b[0m\u001b[0;34m\u001b[0m\u001b[0m\n\u001b[0m\u001b[1;32m   2899\u001b[0m             \u001b[0;32mexcept\u001b[0m \u001b[0mKeyError\u001b[0m \u001b[0;32mas\u001b[0m \u001b[0merr\u001b[0m\u001b[0;34m:\u001b[0m\u001b[0;34m\u001b[0m\u001b[0;34m\u001b[0m\u001b[0m\n",
            "\u001b[0;32mpandas/_libs/index.pyx\u001b[0m in \u001b[0;36mpandas._libs.index.IndexEngine.get_loc\u001b[0;34m()\u001b[0m\n",
            "\u001b[0;32mpandas/_libs/index.pyx\u001b[0m in \u001b[0;36mpandas._libs.index.IndexEngine.get_loc\u001b[0;34m()\u001b[0m\n",
            "\u001b[0;32mpandas/_libs/hashtable_class_helper.pxi\u001b[0m in \u001b[0;36mpandas._libs.hashtable.PyObjectHashTable.get_item\u001b[0;34m()\u001b[0m\n",
            "\u001b[0;32mpandas/_libs/hashtable_class_helper.pxi\u001b[0m in \u001b[0;36mpandas._libs.hashtable.PyObjectHashTable.get_item\u001b[0;34m()\u001b[0m\n",
            "\u001b[0;31mKeyError\u001b[0m: None",
            "\nThe above exception was the direct cause of the following exception:\n",
            "\u001b[0;31mKeyError\u001b[0m                                  Traceback (most recent call last)",
            "\u001b[0;32m<ipython-input-52-6efe03f92704>\u001b[0m in \u001b[0;36m<module>\u001b[0;34m()\u001b[0m\n\u001b[0;32m----> 1\u001b[0;31m \u001b[0mdf\u001b[0m\u001b[0;34m[\u001b[0m\u001b[0;34m'violations_vodi'\u001b[0m\u001b[0;34m]\u001b[0m \u001b[0;34m=\u001b[0m \u001b[0;34m[\u001b[0m\u001b[0mi\u001b[0m \u001b[0;32mif\u001b[0m \u001b[0mser\u001b[0m\u001b[0;34m[\u001b[0m\u001b[0mi\u001b[0m\u001b[0;34m]\u001b[0m \u001b[0;34m>\u001b[0m \u001b[0;36m5\u001b[0m \u001b[0;32melse\u001b[0m \u001b[0;34m'Иные нарушения'\u001b[0m \u001b[0;32mfor\u001b[0m \u001b[0mi\u001b[0m \u001b[0;32min\u001b[0m \u001b[0mdf\u001b[0m\u001b[0;34m[\u001b[0m\u001b[0;34m'violations_vodi'\u001b[0m\u001b[0;34m]\u001b[0m\u001b[0;34m]\u001b[0m\u001b[0;34m\u001b[0m\u001b[0;34m\u001b[0m\u001b[0m\n\u001b[0m",
            "\u001b[0;32m<ipython-input-52-6efe03f92704>\u001b[0m in \u001b[0;36m<listcomp>\u001b[0;34m(.0)\u001b[0m\n\u001b[0;32m----> 1\u001b[0;31m \u001b[0mdf\u001b[0m\u001b[0;34m[\u001b[0m\u001b[0;34m'violations_vodi'\u001b[0m\u001b[0;34m]\u001b[0m \u001b[0;34m=\u001b[0m \u001b[0;34m[\u001b[0m\u001b[0mi\u001b[0m \u001b[0;32mif\u001b[0m \u001b[0mser\u001b[0m\u001b[0;34m[\u001b[0m\u001b[0mi\u001b[0m\u001b[0;34m]\u001b[0m \u001b[0;34m>\u001b[0m \u001b[0;36m5\u001b[0m \u001b[0;32melse\u001b[0m \u001b[0;34m'Иные нарушения'\u001b[0m \u001b[0;32mfor\u001b[0m \u001b[0mi\u001b[0m \u001b[0;32min\u001b[0m \u001b[0mdf\u001b[0m\u001b[0;34m[\u001b[0m\u001b[0;34m'violations_vodi'\u001b[0m\u001b[0;34m]\u001b[0m\u001b[0;34m]\u001b[0m\u001b[0;34m\u001b[0m\u001b[0;34m\u001b[0m\u001b[0m\n\u001b[0m",
            "\u001b[0;32m/usr/local/lib/python3.7/dist-packages/pandas/core/series.py\u001b[0m in \u001b[0;36m__getitem__\u001b[0;34m(self, key)\u001b[0m\n\u001b[1;32m    880\u001b[0m \u001b[0;34m\u001b[0m\u001b[0m\n\u001b[1;32m    881\u001b[0m         \u001b[0;32melif\u001b[0m \u001b[0mkey_is_scalar\u001b[0m\u001b[0;34m:\u001b[0m\u001b[0;34m\u001b[0m\u001b[0;34m\u001b[0m\u001b[0m\n\u001b[0;32m--> 882\u001b[0;31m             \u001b[0;32mreturn\u001b[0m \u001b[0mself\u001b[0m\u001b[0;34m.\u001b[0m\u001b[0m_get_value\u001b[0m\u001b[0;34m(\u001b[0m\u001b[0mkey\u001b[0m\u001b[0;34m)\u001b[0m\u001b[0;34m\u001b[0m\u001b[0;34m\u001b[0m\u001b[0m\n\u001b[0m\u001b[1;32m    883\u001b[0m \u001b[0;34m\u001b[0m\u001b[0m\n\u001b[1;32m    884\u001b[0m         \u001b[0;32mif\u001b[0m \u001b[0mis_hashable\u001b[0m\u001b[0;34m(\u001b[0m\u001b[0mkey\u001b[0m\u001b[0;34m)\u001b[0m\u001b[0;34m:\u001b[0m\u001b[0;34m\u001b[0m\u001b[0;34m\u001b[0m\u001b[0m\n",
            "\u001b[0;32m/usr/local/lib/python3.7/dist-packages/pandas/core/series.py\u001b[0m in \u001b[0;36m_get_value\u001b[0;34m(self, label, takeable)\u001b[0m\n\u001b[1;32m    988\u001b[0m \u001b[0;34m\u001b[0m\u001b[0m\n\u001b[1;32m    989\u001b[0m         \u001b[0;31m# Similar to Index.get_value, but we do not fall back to positional\u001b[0m\u001b[0;34m\u001b[0m\u001b[0;34m\u001b[0m\u001b[0;34m\u001b[0m\u001b[0m\n\u001b[0;32m--> 990\u001b[0;31m         \u001b[0mloc\u001b[0m \u001b[0;34m=\u001b[0m \u001b[0mself\u001b[0m\u001b[0;34m.\u001b[0m\u001b[0mindex\u001b[0m\u001b[0;34m.\u001b[0m\u001b[0mget_loc\u001b[0m\u001b[0;34m(\u001b[0m\u001b[0mlabel\u001b[0m\u001b[0;34m)\u001b[0m\u001b[0;34m\u001b[0m\u001b[0;34m\u001b[0m\u001b[0m\n\u001b[0m\u001b[1;32m    991\u001b[0m         \u001b[0;32mreturn\u001b[0m \u001b[0mself\u001b[0m\u001b[0;34m.\u001b[0m\u001b[0mindex\u001b[0m\u001b[0;34m.\u001b[0m\u001b[0m_get_values_for_loc\u001b[0m\u001b[0;34m(\u001b[0m\u001b[0mself\u001b[0m\u001b[0;34m,\u001b[0m \u001b[0mloc\u001b[0m\u001b[0;34m,\u001b[0m \u001b[0mlabel\u001b[0m\u001b[0;34m)\u001b[0m\u001b[0;34m\u001b[0m\u001b[0;34m\u001b[0m\u001b[0m\n\u001b[1;32m    992\u001b[0m \u001b[0;34m\u001b[0m\u001b[0m\n",
            "\u001b[0;32m/usr/local/lib/python3.7/dist-packages/pandas/core/indexes/base.py\u001b[0m in \u001b[0;36mget_loc\u001b[0;34m(self, key, method, tolerance)\u001b[0m\n\u001b[1;32m   2898\u001b[0m                 \u001b[0;32mreturn\u001b[0m \u001b[0mself\u001b[0m\u001b[0;34m.\u001b[0m\u001b[0m_engine\u001b[0m\u001b[0;34m.\u001b[0m\u001b[0mget_loc\u001b[0m\u001b[0;34m(\u001b[0m\u001b[0mcasted_key\u001b[0m\u001b[0;34m)\u001b[0m\u001b[0;34m\u001b[0m\u001b[0;34m\u001b[0m\u001b[0m\n\u001b[1;32m   2899\u001b[0m             \u001b[0;32mexcept\u001b[0m \u001b[0mKeyError\u001b[0m \u001b[0;32mas\u001b[0m \u001b[0merr\u001b[0m\u001b[0;34m:\u001b[0m\u001b[0;34m\u001b[0m\u001b[0;34m\u001b[0m\u001b[0m\n\u001b[0;32m-> 2900\u001b[0;31m                 \u001b[0;32mraise\u001b[0m \u001b[0mKeyError\u001b[0m\u001b[0;34m(\u001b[0m\u001b[0mkey\u001b[0m\u001b[0;34m)\u001b[0m \u001b[0;32mfrom\u001b[0m \u001b[0merr\u001b[0m\u001b[0;34m\u001b[0m\u001b[0;34m\u001b[0m\u001b[0m\n\u001b[0m\u001b[1;32m   2901\u001b[0m \u001b[0;34m\u001b[0m\u001b[0m\n\u001b[1;32m   2902\u001b[0m         \u001b[0;32mif\u001b[0m \u001b[0mtolerance\u001b[0m \u001b[0;32mis\u001b[0m \u001b[0;32mnot\u001b[0m \u001b[0;32mNone\u001b[0m\u001b[0;34m:\u001b[0m\u001b[0;34m\u001b[0m\u001b[0;34m\u001b[0m\u001b[0m\n",
            "\u001b[0;31mKeyError\u001b[0m: None"
          ]
        }
      ]
    }
  ]
}