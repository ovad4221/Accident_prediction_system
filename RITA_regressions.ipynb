{
 "cells": [
  {
   "cell_type": "code",
   "execution_count": 1,
   "metadata": {
    "id": "4Jxw9qMghw37"
   },
   "outputs": [],
   "source": [
    "import pandas as pd\n",
    "import numpy as np\n",
    "import matplotlib.pyplot as plt\n",
    "from mpl_toolkits.mplot3d import Axes3D\n",
    "\n",
    "%matplotlib inline"
   ]
  },
  {
   "cell_type": "markdown",
   "metadata": {
    "id": "apUiHoOgN3eu"
   },
   "source": [
    "# основная часть"
   ]
  },
  {
   "cell_type": "code",
   "execution_count": null,
   "metadata": {
    "colab": {
     "base_uri": "https://localhost:8080/",
     "height": 458
    },
    "id": "rtt5ytV1o0LT",
    "outputId": "d2d8356c-d119-42ea-901a-e9b2252e9457"
   },
   "outputs": [
    {
     "data": {
      "text/html": [
       "<div>\n",
       "<style scoped>\n",
       "    .dataframe tbody tr th:only-of-type {\n",
       "        vertical-align: middle;\n",
       "    }\n",
       "\n",
       "    .dataframe tbody tr th {\n",
       "        vertical-align: top;\n",
       "    }\n",
       "\n",
       "    .dataframe thead th {\n",
       "        text-align: right;\n",
       "    }\n",
       "</style>\n",
       "<table border=\"1\" class=\"dataframe\">\n",
       "  <thead>\n",
       "    <tr style=\"text-align: right;\">\n",
       "      <th></th>\n",
       "      <th>coordL</th>\n",
       "      <th>coordW</th>\n",
       "      <th>place</th>\n",
       "      <th>district</th>\n",
       "      <th>DTPType</th>\n",
       "      <th>date</th>\n",
       "      <th>real_date</th>\n",
       "      <th>month</th>\n",
       "      <th>season</th>\n",
       "      <th>NVehicles</th>\n",
       "      <th>NPatricipants</th>\n",
       "      <th>NInjured</th>\n",
       "      <th>NFatal</th>\n",
       "      <th>additionalFactor</th>\n",
       "      <th>lightConditions</th>\n",
       "      <th>weatherConditions</th>\n",
       "      <th>placeConditions</th>\n",
       "      <th>closeObjects</th>\n",
       "      <th>violations</th>\n",
       "      <th>violationsAdditional</th>\n",
       "      <th>privod</th>\n",
       "      <th>traffic_regime</th>\n",
       "      <th>pokritie</th>\n",
       "      <th>neispravnosti</th>\n",
       "      <th>safety_belt</th>\n",
       "      <th>sublocality</th>\n",
       "    </tr>\n",
       "  </thead>\n",
       "  <tbody>\n",
       "    <tr>\n",
       "      <th>0</th>\n",
       "      <td>37.464817</td>\n",
       "      <td>55.758116</td>\n",
       "      <td>ул Мнёвники Нижн.</td>\n",
       "      <td>Хорошево-мневники</td>\n",
       "      <td>Наезд на препятствие</td>\n",
       "      <td>01.01.2020</td>\n",
       "      <td>2020-01-01</td>\n",
       "      <td>1</td>\n",
       "      <td>Winter</td>\n",
       "      <td>1</td>\n",
       "      <td>1</td>\n",
       "      <td>1</td>\n",
       "      <td>0</td>\n",
       "      <td>Сведения отсутствуют</td>\n",
       "      <td>0.5</td>\n",
       "      <td>Пасмурно</td>\n",
       "      <td>Перегон (нет объектов на месте ДТП)</td>\n",
       "      <td>Остановка общественного транспорта</td>\n",
       "      <td>Несоответствие скорости конкретным условиям дв...</td>\n",
       "      <td>Нет нарушений</td>\n",
       "      <td>передний</td>\n",
       "      <td>Режим движения не изменялся</td>\n",
       "      <td>Мокрое</td>\n",
       "      <td>Технические неисправности отсутствуют</td>\n",
       "      <td>Нет</td>\n",
       "      <td>Северо-Западный административный округ</td>\n",
       "    </tr>\n",
       "    <tr>\n",
       "      <th>1</th>\n",
       "      <td>37.388953</td>\n",
       "      <td>55.811338</td>\n",
       "      <td>Московская кольцевая автомобильная дорога (МКА...</td>\n",
       "      <td>Строгино</td>\n",
       "      <td>Наезд на стоящее ТС</td>\n",
       "      <td>01.01.2020</td>\n",
       "      <td>2020-01-01</td>\n",
       "      <td>1</td>\n",
       "      <td>Winter</td>\n",
       "      <td>2</td>\n",
       "      <td>2</td>\n",
       "      <td>1</td>\n",
       "      <td>0</td>\n",
       "      <td>Наличие на дороге объектов, мешающих движению</td>\n",
       "      <td>1.0</td>\n",
       "      <td>Ясно</td>\n",
       "      <td>Перегон (нет объектов на месте ДТП)</td>\n",
       "      <td>Отсутствие в непосредственной близости объекто...</td>\n",
       "      <td>Несоответствие скорости конкретным условиям дв...</td>\n",
       "      <td>Нет нарушений</td>\n",
       "      <td>передний</td>\n",
       "      <td>Движение частично перекрыто</td>\n",
       "      <td>Сухое</td>\n",
       "      <td>Технические неисправности отсутствуют</td>\n",
       "      <td>Нет</td>\n",
       "      <td>Северо-Западный административный округ</td>\n",
       "    </tr>\n",
       "    <tr>\n",
       "      <th>2</th>\n",
       "      <td>37.623153</td>\n",
       "      <td>55.866787</td>\n",
       "      <td>Юрловский пр-д</td>\n",
       "      <td>Отрадное</td>\n",
       "      <td>Наезд на пешехода</td>\n",
       "      <td>01.01.2020</td>\n",
       "      <td>2020-01-01</td>\n",
       "      <td>1</td>\n",
       "      <td>Winter</td>\n",
       "      <td>1</td>\n",
       "      <td>2</td>\n",
       "      <td>1</td>\n",
       "      <td>0</td>\n",
       "      <td>Сужение проезжей части</td>\n",
       "      <td>1.0</td>\n",
       "      <td>Пасмурно</td>\n",
       "      <td>Внутридворовая территория</td>\n",
       "      <td>Административные здания</td>\n",
       "      <td>Несоблюдение очередности проезда</td>\n",
       "      <td>Другие нарушения ПДД водителем</td>\n",
       "      <td>праворукий</td>\n",
       "      <td>Режим движения не изменялся</td>\n",
       "      <td>Сухое</td>\n",
       "      <td>Технические неисправности отсутствуют</td>\n",
       "      <td>Нет</td>\n",
       "      <td>Северо-Восточный административный округ</td>\n",
       "    </tr>\n",
       "    <tr>\n",
       "      <th>3</th>\n",
       "      <td>37.588413</td>\n",
       "      <td>55.660576</td>\n",
       "      <td>ул Болотниковская</td>\n",
       "      <td>Зюзино</td>\n",
       "      <td>Столкновение</td>\n",
       "      <td>01.01.2020</td>\n",
       "      <td>2020-01-01</td>\n",
       "      <td>1</td>\n",
       "      <td>Winter</td>\n",
       "      <td>2</td>\n",
       "      <td>3</td>\n",
       "      <td>1</td>\n",
       "      <td>0</td>\n",
       "      <td>Сведения отсутствуют</td>\n",
       "      <td>0.5</td>\n",
       "      <td>Пасмурно</td>\n",
       "      <td>Регулируемый пешеходный переход</td>\n",
       "      <td>Остановка общественного транспорта</td>\n",
       "      <td>Несоблюдение очередности проезда</td>\n",
       "      <td>Нет нарушений</td>\n",
       "      <td>передний</td>\n",
       "      <td>Движение частично перекрыто</td>\n",
       "      <td>Мокрое</td>\n",
       "      <td>Технические неисправности отсутствуют</td>\n",
       "      <td>Нет</td>\n",
       "      <td>Юго-Западный административный округ</td>\n",
       "    </tr>\n",
       "    <tr>\n",
       "      <th>4</th>\n",
       "      <td>37.636467</td>\n",
       "      <td>55.805098</td>\n",
       "      <td>пр-кт Мира</td>\n",
       "      <td>Алексеевский</td>\n",
       "      <td>Падение чего-либо</td>\n",
       "      <td>01.01.2020</td>\n",
       "      <td>2020-01-01</td>\n",
       "      <td>1</td>\n",
       "      <td>Winter</td>\n",
       "      <td>1</td>\n",
       "      <td>2</td>\n",
       "      <td>1</td>\n",
       "      <td>0</td>\n",
       "      <td>Участок, контролируемый камерой</td>\n",
       "      <td>0.5</td>\n",
       "      <td>Ясно</td>\n",
       "      <td>Остановка общественного транспорта</td>\n",
       "      <td>Остановка общественного транспорта</td>\n",
       "      <td>Нарушение правил пользования общественным тран...</td>\n",
       "      <td>Нарушение правил перевозки людей</td>\n",
       "      <td>передний</td>\n",
       "      <td>Режим движения не изменялся</td>\n",
       "      <td>Сухое</td>\n",
       "      <td>Технические неисправности отсутствуют</td>\n",
       "      <td>Нет</td>\n",
       "      <td>Северо-Восточный административный округ</td>\n",
       "    </tr>\n",
       "  </tbody>\n",
       "</table>\n",
       "</div>"
      ],
      "text/plain": [
       "      coordL     coordW  ... safety_belt                              sublocality\n",
       "0  37.464817  55.758116  ...         Нет   Северо-Западный административный округ\n",
       "1  37.388953  55.811338  ...         Нет   Северо-Западный административный округ\n",
       "2  37.623153  55.866787  ...         Нет  Северо-Восточный административный округ\n",
       "3  37.588413  55.660576  ...         Нет      Юго-Западный административный округ\n",
       "4  37.636467  55.805098  ...         Нет  Северо-Восточный административный округ\n",
       "\n",
       "[5 rows x 26 columns]"
      ]
     },
     "execution_count": 100,
     "metadata": {},
     "output_type": "execute_result"
    }
   ],
   "source": [
    "df = pd.read_excel('/content/drive/MyDrive/merge_preprocessing_dano/files/final_accidents_data.xlsx')\n",
    "df.head(5)"
   ]
  },
  {
   "cell_type": "code",
   "execution_count": null,
   "metadata": {
    "colab": {
     "base_uri": "https://localhost:8080/"
    },
    "id": "4DuCL-YHq71z",
    "outputId": "eb5e6fc7-1a8a-4cdc-e4f6-3d0395a46d45"
   },
   "outputs": [
    {
     "name": "stdout",
     "output_type": "stream",
     "text": [
      "<class 'pandas.core.frame.DataFrame'>\n",
      "RangeIndex: 7888 entries, 0 to 7887\n",
      "Data columns (total 26 columns):\n",
      " #   Column                Non-Null Count  Dtype         \n",
      "---  ------                --------------  -----         \n",
      " 0   coordL                7888 non-null   float64       \n",
      " 1   coordW                7888 non-null   float64       \n",
      " 2   place                 7888 non-null   object        \n",
      " 3   district              7888 non-null   object        \n",
      " 4   DTPType               7888 non-null   object        \n",
      " 5   date                  7888 non-null   object        \n",
      " 6   real_date             7888 non-null   datetime64[ns]\n",
      " 7   month                 7888 non-null   int64         \n",
      " 8   season                7888 non-null   object        \n",
      " 9   NVehicles             7888 non-null   int64         \n",
      " 10  NPatricipants         7888 non-null   int64         \n",
      " 11  NInjured              7888 non-null   int64         \n",
      " 12  NFatal                7888 non-null   int64         \n",
      " 13  additionalFactor      7888 non-null   object        \n",
      " 14  lightConditions       7888 non-null   float64       \n",
      " 15  weatherConditions     7888 non-null   object        \n",
      " 16  placeConditions       7888 non-null   object        \n",
      " 17  closeObjects          7888 non-null   object        \n",
      " 18  violations            7888 non-null   object        \n",
      " 19  violationsAdditional  7888 non-null   object        \n",
      " 20  privod                7888 non-null   object        \n",
      " 21  traffic_regime        7888 non-null   object        \n",
      " 22  pokritie              7888 non-null   object        \n",
      " 23  neispravnosti         7888 non-null   object        \n",
      " 24  safety_belt           7888 non-null   object        \n",
      " 25  sublocality           7888 non-null   object        \n",
      "dtypes: datetime64[ns](1), float64(3), int64(5), object(17)\n",
      "memory usage: 1.6+ MB\n"
     ]
    }
   ],
   "source": [
    "df.info()"
   ]
  },
  {
   "cell_type": "markdown",
   "metadata": {
    "id": "L4XCSW-4Pf0u"
   },
   "source": [
    "## все о РИТА"
   ]
  },
  {
   "cell_type": "markdown",
   "metadata": {
    "id": "G0mn9XSbLamk"
   },
   "source": [
    "В России существуют множество статей и гостов по определению материального ущерба от ДТП, например, есть структура EMPY для оценки вреда ТС, в которой содержаться статьи:\n",
    "\n",
    "  * «О единой методике определения размера расходов на восстановительный ремонт в отношении поврежденного транспортного средства» N 432-П.\n",
    "  * «О правилах проведения независимой технической экспертизы транспортного средства» N 433-П.\n",
    "  * Электронная база стоимости запчастей.\n",
    "Всего в документе 7 глав и 10 приложений-справочников. В главах подробно изложен порядок экспертиз после ДТП, процесс установки характера дефектов, описаны алгоритмы расчетов стоимости ремонта. В справочниках изложены:\n",
    "\n",
    "1. — требования к проведению фотосъемки;\n",
    "2. ⬇⬇⬇⬇⬇\n",
    "3. — перечень типовых повреждений и рекомендации производителей по ремонту кузова (иномарки);\n",
    "4. — цены на запасные части по регионам. Всего определено 13 зон, в каждой из которых действуют свои цены. Например, запчасти в Санкт-Петербурге и Москве значительно дороже, чем в среднем по России;\n",
    "5. ⬇⬇⬇⬇⬇\n",
    "6. — коэффициенты износа, дополнительные сведения;\n",
    "7. — детали, для которых износ не предусмотрен (показатель износа — 0);\n",
    "8. — данные по среднегодовому пробегу машины по регионам;\n",
    "9. — коэффициенты эксплуатации;\n",
    "10. — коэффициенты механических повреждений.\n",
    "\n",
    "Или так же есть много других статей по поводу возмещения матереального ущерба, например, \"Федеральный закон \"Об обязательном страховании гражданской ответственности владельцев транспортных средств\", но в нашем датсете данных для полной оценки материального ущерба от аварии нет. \n",
    "___\n",
    "Изначально планировалось составить 2 индекса, индекс оценки материального ущерба, и индекс оценки тяжести аварии, но после попыток их создать оказалось, что такие индексы будут сильно влиять друг на друга и нельзя составить индекс материального ущерба, без учета человеческих потерь и травм. Исходя из этого мы решили объединить индексы в один общий индекс ущерба аварии, который назовем Рассчетный Индекс Тяжести Аварии или РИТА.\n",
    "___\n",
    "По поводу оценки человеческих потерь в РИТА-е мы опираемся на ОСАГО. Например, возьмем статью 12 п7. Там сказано \n",
    "\n",
    "\"Размер страховой выплаты за причинение вреда жизни потерпевшего составляет:\n",
    "475 тысяч рублей - выгодоприобретателям, указанным в пункте 6 настоящей статьи;\n",
    "не более 25 тысяч рублей в счет возмещения расходов на погребение - лицам, понесшим такие расходы.\"\n",
    "___\n",
    "Для каждого пункта будем подсчитывать примерную стоимость единицы, если такое возможно.\n",
    "\n",
    "в РИТА-е учтем столбцы:\n",
    "  * NVehicles (число автомобилей участников) 100000;\n",
    "  * NPatricipants (число участников) с малым коэф. из-за моральных компенсаций 500;\n",
    "  * NInjured (число пострадавших) 15000;\n",
    "  * NFatal (число погибших) 500000;\n",
    "  * traffic_regime (изменение режима движения в результате ДТП) ;\n",
    "  * neispravnosti;\n",
    "  * privod, как еще однин столбец про сами ТС, скажем, что 4 колеса тормозят лучше 2.\n",
    "\n",
    "\n",
    "Далее зададим коэффициенты этой регрессии."
   ]
  },
  {
   "cell_type": "markdown",
   "metadata": {
    "id": "hS1dQvp0lInr"
   },
   "source": [
    "Коэффициенты регрессии:\n",
    "  * NVehicles  --  100;\n",
    "  * NPatricipants  --  0.5;\n",
    "  * NInjured  --  15;\n",
    "  * NFatal  --  500;\n",
    "  * traffic_regime  --  traffic_regime_index;\n",
    "  * neispravnosti  --  neispravnosti_index;\n",
    "  * privod  --  privod_index."
   ]
  },
  {
   "cell_type": "markdown",
   "metadata": {
    "id": "ExJ-u0kUn8f7"
   },
   "source": [
    "### traffic_regime_index"
   ]
  },
  {
   "cell_type": "markdown",
   "metadata": {
    "id": "5MLf56W553KA"
   },
   "source": [
    "https://yandex.ru/company/researches/2017/moscow_districts"
   ]
  },
  {
   "cell_type": "code",
   "execution_count": null,
   "metadata": {
    "colab": {
     "base_uri": "https://localhost:8080/"
    },
    "id": "5YRlgfDe8dr_",
    "outputId": "99d3942d-0e92-4f62-efc9-95449067d9e1"
   },
   "outputs": [
    {
     "data": {
      "text/html": [
       "<div>\n",
       "<style scoped>\n",
       "    .dataframe tbody tr th:only-of-type {\n",
       "        vertical-align: middle;\n",
       "    }\n",
       "\n",
       "    .dataframe tbody tr th {\n",
       "        vertical-align: top;\n",
       "    }\n",
       "\n",
       "    .dataframe thead th {\n",
       "        text-align: right;\n",
       "    }\n",
       "</style>\n",
       "<table border=\"1\" class=\"dataframe\">\n",
       "  <thead>\n",
       "    <tr style=\"text-align: right;\">\n",
       "      <th></th>\n",
       "      <th>district</th>\n",
       "      <th>little_infra</th>\n",
       "      <th>comfort_for_life</th>\n",
       "      <th>wery_comfort_for_life</th>\n",
       "      <th>not_happy</th>\n",
       "      <th>colture</th>\n",
       "      <th>happynass</th>\n",
       "      <th>culture-happy</th>\n",
       "      <th>place_in_life_infra</th>\n",
       "      <th>place_in_happy</th>\n",
       "      <th>raiting_of_life</th>\n",
       "      <th>raiting_of_happy</th>\n",
       "    </tr>\n",
       "  </thead>\n",
       "  <tbody>\n",
       "    <tr>\n",
       "      <th>0</th>\n",
       "      <td>Академический</td>\n",
       "      <td>4</td>\n",
       "      <td>31</td>\n",
       "      <td>65</td>\n",
       "      <td>16</td>\n",
       "      <td>2</td>\n",
       "      <td>51</td>\n",
       "      <td>31</td>\n",
       "      <td>7</td>\n",
       "      <td>25</td>\n",
       "      <td>91</td>\n",
       "      <td>76</td>\n",
       "    </tr>\n",
       "    <tr>\n",
       "      <th>1</th>\n",
       "      <td>Алексеевский</td>\n",
       "      <td>17</td>\n",
       "      <td>57</td>\n",
       "      <td>26</td>\n",
       "      <td>6</td>\n",
       "      <td>3</td>\n",
       "      <td>54</td>\n",
       "      <td>37</td>\n",
       "      <td>72</td>\n",
       "      <td>16</td>\n",
       "      <td>74</td>\n",
       "      <td>85</td>\n",
       "    </tr>\n",
       "    <tr>\n",
       "      <th>2</th>\n",
       "      <td>Алтуфьевский</td>\n",
       "      <td>15</td>\n",
       "      <td>45</td>\n",
       "      <td>40</td>\n",
       "      <td>50</td>\n",
       "      <td>0</td>\n",
       "      <td>50</td>\n",
       "      <td>0</td>\n",
       "      <td>55</td>\n",
       "      <td>66</td>\n",
       "      <td>78</td>\n",
       "      <td>42</td>\n",
       "    </tr>\n",
       "    <tr>\n",
       "      <th>3</th>\n",
       "      <td>Арбат</td>\n",
       "      <td>0</td>\n",
       "      <td>0</td>\n",
       "      <td>100</td>\n",
       "      <td>0</td>\n",
       "      <td>0</td>\n",
       "      <td>0</td>\n",
       "      <td>100</td>\n",
       "      <td>1</td>\n",
       "      <td>3</td>\n",
       "      <td>100</td>\n",
       "      <td>100</td>\n",
       "    </tr>\n",
       "    <tr>\n",
       "      <th>4</th>\n",
       "      <td>Аэропорт</td>\n",
       "      <td>3</td>\n",
       "      <td>32</td>\n",
       "      <td>65</td>\n",
       "      <td>16</td>\n",
       "      <td>0</td>\n",
       "      <td>49</td>\n",
       "      <td>35</td>\n",
       "      <td>5</td>\n",
       "      <td>23</td>\n",
       "      <td>92</td>\n",
       "      <td>76</td>\n",
       "    </tr>\n",
       "  </tbody>\n",
       "</table>\n",
       "</div>"
      ],
      "text/plain": [
       "        district  little_infra  ...  raiting_of_life  raiting_of_happy\n",
       "0  Академический             4  ...               91                76\n",
       "1   Алексеевский            17  ...               74                85\n",
       "2   Алтуфьевский            15  ...               78                42\n",
       "3          Арбат             0  ...              100               100\n",
       "4       Аэропорт             3  ...               92                76\n",
       "\n",
       "[5 rows x 12 columns]"
      ]
     },
     "execution_count": 102,
     "metadata": {},
     "output_type": "execute_result"
    }
   ],
   "source": [
    "reiting_yandex = pd.read_csv('/content/drive/MyDrive/merge_preprocessing_dano/files/raiting_yandex.csv', sep=\";\")\n",
    "reiting_yandex.head()"
   ]
  },
  {
   "cell_type": "markdown",
   "metadata": {
    "id": "IRV-SksqDgKW"
   },
   "source": [
    "отсюда нам нужен только рейтинг жизни в районах, используем его как коэффициент"
   ]
  },
  {
   "cell_type": "code",
   "execution_count": null,
   "metadata": {
    "colab": {
     "base_uri": "https://localhost:8080/"
    },
    "id": "fs1qk86dDfSm",
    "outputId": "ad3b267f-fff3-4259-f282-c60e8c769333"
   },
   "outputs": [
    {
     "name": "stdout",
     "output_type": "stream",
     "text": [
      "{'Академический': 91, 'Алексеевский': 74, 'Алтуфьевский': 78, 'Арбат': 100, 'Аэропорт': 92, 'Бабушкинский': 80, 'Басманный': 91, 'Беговой': 85, 'Бескудниковский': 79, 'Бибирево': 84, 'Бирюлёво Восточное': 62, 'Бирюлёво Западное': 72, 'Богородское': 79, 'Братеево': 80, 'Бутырский': 87, 'Вешняки': 75, 'Войковский': 58, 'Восточное Дегунино': 67, 'Восточное Измайлово': 85, 'Выхино-Жулебино': 74, 'Гагаринский': 75, 'Головинский': 59, 'Гольяново': 68, 'Даниловский': 36, 'Дмитровский': 67, 'Донской': 55, 'Дорогомилово': 86, 'Замоскворечье': 87, 'Западное Дегунино': 82, 'Зюзино': 78, 'Зябликово': 81, 'Ивановское': 73, 'Измайлово': 82, 'Капотня': 42, 'Коньково': 88, 'Коптево': 80, 'Косино-Ухтомский': 60, 'Котловка': 87, 'Красносельский': 80, 'Крылатское': 79, 'Кузьминки': 77, 'Кунцево': 76, 'Куркино': 46, 'Левобережный': 54, 'Лефортово': 84, 'Лианозово': 85, 'Ломоносовский': 86, 'Лосиноостровский': 73, 'Люблино': 61, 'Марфино': 56, 'Марьина Роща': 93, 'Марьино': 78, 'Метрогородок': 85, 'Мещанский': 86, 'Митино': 76, 'Можайский': 63, 'Молжаниновский': 14, 'Москворечье-Сабурово': 51, 'Нагатино-Садовники': 52, 'Нагатинский Затон': 66, 'Нагорный': 85, 'Некрасовка': 28, 'Нижегородский': 66, 'Ново-Переделкино': 70, 'Новогиреево': 85, 'Новокосино': 85, 'Обручевский': 78, 'Орехово-Борисово Северное': 74, 'Орехово-Борисово Южное': 70, 'Останкинский': 82, 'Отрадное': 85, 'Очаково-Матвеевское': 50, 'Перово': 69, 'Печатники': 75, 'Покровское-Стрешнево': 63, 'Преображенское': 72, 'Пресненский': 79, 'Проспект Вернадского': 76, 'Раменки': 64, 'Ростокино': 44, 'Рязанский': 85, 'Савёловский': 92, 'Свиблово': 81, 'Северное Бутово': 84, 'Северное Измайлово': 85, 'Северное Медведково': 91, 'Северное Тушино': 76, 'Северный': 0, 'Сокол': 84, 'Соколиная Гора': 75, 'Сокольники': 85, 'Солнцево': 60, 'Строгино': 66, 'Таганский': 93, 'Тверской': 98, 'Текстильщики': 78, 'Тёплый Стан': 77, 'Тимирязевский': 65, 'Тропарёво-Никулино': 62, 'Филёвский Парк': 57, 'Фили-Давыдково': 75, 'Хамовники': 87, 'Ховрино': 77, 'Хорошёво-Мнёвники': 78, 'Хорошёвский': 82, 'Царицыно': 73, 'Черёмушки': 90, 'Чертаново Северное': 76, 'Чертаново Центральное': 85, 'Чертаново Южное': 63, 'Щукино': 86, 'Южное Бутово': 72, 'Южное Медведково': 55, 'Южное Тушино': 53, 'Южнопортовый': 58, 'Якиманка': 84, 'Ярославский': 52, 'Ясенево': 77}\n"
     ]
    }
   ],
   "source": [
    "life_raiting = dict()\n",
    "for i in range(len(reiting_yandex)):\n",
    "  life_raiting[reiting_yandex.loc[i, 'district']] = reiting_yandex.loc[i, 'raiting_of_life']\n",
    "print(life_raiting)"
   ]
  },
  {
   "cell_type": "code",
   "execution_count": null,
   "metadata": {
    "colab": {
     "base_uri": "https://localhost:8080/"
    },
    "id": "3IF-CICfkswk",
    "outputId": "d42d0433-ae30-4c3c-c800-f2541c0125d3"
   },
   "outputs": [
    {
     "data": {
      "text/html": [
       "<div>\n",
       "<style scoped>\n",
       "    .dataframe tbody tr th:only-of-type {\n",
       "        vertical-align: middle;\n",
       "    }\n",
       "\n",
       "    .dataframe tbody tr th {\n",
       "        vertical-align: top;\n",
       "    }\n",
       "\n",
       "    .dataframe thead th {\n",
       "        text-align: right;\n",
       "    }\n",
       "</style>\n",
       "<table border=\"1\" class=\"dataframe\">\n",
       "  <thead>\n",
       "    <tr style=\"text-align: right;\">\n",
       "      <th></th>\n",
       "      <th>coordL</th>\n",
       "      <th>coordW</th>\n",
       "      <th>place</th>\n",
       "      <th>district</th>\n",
       "      <th>DTPType</th>\n",
       "      <th>date</th>\n",
       "      <th>real_date</th>\n",
       "      <th>month</th>\n",
       "      <th>season</th>\n",
       "      <th>NVehicles</th>\n",
       "      <th>NPatricipants</th>\n",
       "      <th>NInjured</th>\n",
       "      <th>NFatal</th>\n",
       "      <th>additionalFactor</th>\n",
       "      <th>lightConditions</th>\n",
       "      <th>weatherConditions</th>\n",
       "      <th>placeConditions</th>\n",
       "      <th>closeObjects</th>\n",
       "      <th>violations</th>\n",
       "      <th>violationsAdditional</th>\n",
       "      <th>privod</th>\n",
       "      <th>traffic_regime</th>\n",
       "      <th>pokritie</th>\n",
       "      <th>neispravnosti</th>\n",
       "      <th>safety_belt</th>\n",
       "      <th>sublocality</th>\n",
       "      <th>traffic_regime_index</th>\n",
       "    </tr>\n",
       "  </thead>\n",
       "  <tbody>\n",
       "    <tr>\n",
       "      <th>0</th>\n",
       "      <td>37.464817</td>\n",
       "      <td>55.758116</td>\n",
       "      <td>ул Мнёвники Нижн.</td>\n",
       "      <td>Хорошево-мневники</td>\n",
       "      <td>Наезд на препятствие</td>\n",
       "      <td>01.01.2020</td>\n",
       "      <td>2020-01-01</td>\n",
       "      <td>1</td>\n",
       "      <td>Winter</td>\n",
       "      <td>1</td>\n",
       "      <td>1</td>\n",
       "      <td>1</td>\n",
       "      <td>0</td>\n",
       "      <td>Сведения отсутствуют</td>\n",
       "      <td>0.5</td>\n",
       "      <td>Пасмурно</td>\n",
       "      <td>Перегон (нет объектов на месте ДТП)</td>\n",
       "      <td>Остановка общественного транспорта</td>\n",
       "      <td>Несоответствие скорости конкретным условиям дв...</td>\n",
       "      <td>Нет нарушений</td>\n",
       "      <td>передний</td>\n",
       "      <td>Режим движения не изменялся</td>\n",
       "      <td>Мокрое</td>\n",
       "      <td>Технические неисправности отсутствуют</td>\n",
       "      <td>Нет</td>\n",
       "      <td>Северо-Западный административный округ</td>\n",
       "      <td>0.0</td>\n",
       "    </tr>\n",
       "    <tr>\n",
       "      <th>1</th>\n",
       "      <td>37.388953</td>\n",
       "      <td>55.811338</td>\n",
       "      <td>Московская кольцевая автомобильная дорога (МКА...</td>\n",
       "      <td>Строгино</td>\n",
       "      <td>Наезд на стоящее ТС</td>\n",
       "      <td>01.01.2020</td>\n",
       "      <td>2020-01-01</td>\n",
       "      <td>1</td>\n",
       "      <td>Winter</td>\n",
       "      <td>2</td>\n",
       "      <td>2</td>\n",
       "      <td>1</td>\n",
       "      <td>0</td>\n",
       "      <td>Наличие на дороге объектов, мешающих движению</td>\n",
       "      <td>1.0</td>\n",
       "      <td>Ясно</td>\n",
       "      <td>Перегон (нет объектов на месте ДТП)</td>\n",
       "      <td>Отсутствие в непосредственной близости объекто...</td>\n",
       "      <td>Несоответствие скорости конкретным условиям дв...</td>\n",
       "      <td>Нет нарушений</td>\n",
       "      <td>передний</td>\n",
       "      <td>Движение частично перекрыто</td>\n",
       "      <td>Сухое</td>\n",
       "      <td>Технические неисправности отсутствуют</td>\n",
       "      <td>Нет</td>\n",
       "      <td>Северо-Западный административный округ</td>\n",
       "      <td>165.0</td>\n",
       "    </tr>\n",
       "    <tr>\n",
       "      <th>2</th>\n",
       "      <td>37.623153</td>\n",
       "      <td>55.866787</td>\n",
       "      <td>Юрловский пр-д</td>\n",
       "      <td>Отрадное</td>\n",
       "      <td>Наезд на пешехода</td>\n",
       "      <td>01.01.2020</td>\n",
       "      <td>2020-01-01</td>\n",
       "      <td>1</td>\n",
       "      <td>Winter</td>\n",
       "      <td>1</td>\n",
       "      <td>2</td>\n",
       "      <td>1</td>\n",
       "      <td>0</td>\n",
       "      <td>Сужение проезжей части</td>\n",
       "      <td>1.0</td>\n",
       "      <td>Пасмурно</td>\n",
       "      <td>Внутридворовая территория</td>\n",
       "      <td>Административные здания</td>\n",
       "      <td>Несоблюдение очередности проезда</td>\n",
       "      <td>Другие нарушения ПДД водителем</td>\n",
       "      <td>праворукий</td>\n",
       "      <td>Режим движения не изменялся</td>\n",
       "      <td>Сухое</td>\n",
       "      <td>Технические неисправности отсутствуют</td>\n",
       "      <td>Нет</td>\n",
       "      <td>Северо-Восточный административный округ</td>\n",
       "      <td>0.0</td>\n",
       "    </tr>\n",
       "    <tr>\n",
       "      <th>3</th>\n",
       "      <td>37.588413</td>\n",
       "      <td>55.660576</td>\n",
       "      <td>ул Болотниковская</td>\n",
       "      <td>Зюзино</td>\n",
       "      <td>Столкновение</td>\n",
       "      <td>01.01.2020</td>\n",
       "      <td>2020-01-01</td>\n",
       "      <td>1</td>\n",
       "      <td>Winter</td>\n",
       "      <td>2</td>\n",
       "      <td>3</td>\n",
       "      <td>1</td>\n",
       "      <td>0</td>\n",
       "      <td>Сведения отсутствуют</td>\n",
       "      <td>0.5</td>\n",
       "      <td>Пасмурно</td>\n",
       "      <td>Регулируемый пешеходный переход</td>\n",
       "      <td>Остановка общественного транспорта</td>\n",
       "      <td>Несоблюдение очередности проезда</td>\n",
       "      <td>Нет нарушений</td>\n",
       "      <td>передний</td>\n",
       "      <td>Движение частично перекрыто</td>\n",
       "      <td>Мокрое</td>\n",
       "      <td>Технические неисправности отсутствуют</td>\n",
       "      <td>Нет</td>\n",
       "      <td>Юго-Западный административный округ</td>\n",
       "      <td>195.0</td>\n",
       "    </tr>\n",
       "    <tr>\n",
       "      <th>4</th>\n",
       "      <td>37.636467</td>\n",
       "      <td>55.805098</td>\n",
       "      <td>пр-кт Мира</td>\n",
       "      <td>Алексеевский</td>\n",
       "      <td>Падение чего-либо</td>\n",
       "      <td>01.01.2020</td>\n",
       "      <td>2020-01-01</td>\n",
       "      <td>1</td>\n",
       "      <td>Winter</td>\n",
       "      <td>1</td>\n",
       "      <td>2</td>\n",
       "      <td>1</td>\n",
       "      <td>0</td>\n",
       "      <td>Участок, контролируемый камерой</td>\n",
       "      <td>0.5</td>\n",
       "      <td>Ясно</td>\n",
       "      <td>Остановка общественного транспорта</td>\n",
       "      <td>Остановка общественного транспорта</td>\n",
       "      <td>Нарушение правил пользования общественным тран...</td>\n",
       "      <td>Нарушение правил перевозки людей</td>\n",
       "      <td>передний</td>\n",
       "      <td>Режим движения не изменялся</td>\n",
       "      <td>Сухое</td>\n",
       "      <td>Технические неисправности отсутствуют</td>\n",
       "      <td>Нет</td>\n",
       "      <td>Северо-Восточный административный округ</td>\n",
       "      <td>0.0</td>\n",
       "    </tr>\n",
       "  </tbody>\n",
       "</table>\n",
       "</div>"
      ],
      "text/plain": [
       "      coordL  ...  traffic_regime_index\n",
       "0  37.464817  ...                   0.0\n",
       "1  37.388953  ...                 165.0\n",
       "2  37.623153  ...                   0.0\n",
       "3  37.588413  ...                 195.0\n",
       "4  37.636467  ...                   0.0\n",
       "\n",
       "[5 rows x 27 columns]"
      ]
     },
     "execution_count": 104,
     "metadata": {},
     "output_type": "execute_result"
    }
   ],
   "source": [
    "def find_reit(district):\n",
    "  if district in life_raiting:\n",
    "    return life_raiting[district] / 10\n",
    "  else:\n",
    "    return 1\n",
    "\n",
    "\n",
    "def replace_traf(string, koef_dist):\n",
    "  if string == 'Режим движения не изменялся':\n",
    "    return 0\n",
    "  elif string == 'Движение частично перекрыто':\n",
    "    return 25 * koef_dist\n",
    "  else:\n",
    "    return 300 * koef_dist\n",
    "\n",
    "df['traffic_regime_index'] = [replace_traf(df.loc[i, 'traffic_regime'], find_reit(df.loc[i, 'district'])) for i in range(len(df))]\n",
    "df.head()"
   ]
  },
  {
   "cell_type": "markdown",
   "metadata": {
    "id": "T7Zn1vsIoAqL"
   },
   "source": [
    "### neispravnosti_index"
   ]
  },
  {
   "cell_type": "code",
   "execution_count": null,
   "metadata": {
    "colab": {
     "base_uri": "https://localhost:8080/"
    },
    "id": "pRgUtZ6goTZc",
    "outputId": "0bf4658d-e29f-4ac0-80d7-5ca72870e54e"
   },
   "outputs": [
    {
     "data": {
      "text/plain": [
       "Технические неисправности отсутствуют    7554\n",
       "Имеются неисправности                     334\n",
       "Name: neispravnosti, dtype: int64"
      ]
     },
     "execution_count": 105,
     "metadata": {},
     "output_type": "execute_result"
    }
   ],
   "source": [
    "df.neispravnosti.value_counts()"
   ]
  },
  {
   "cell_type": "code",
   "execution_count": null,
   "metadata": {
    "colab": {
     "base_uri": "https://localhost:8080/"
    },
    "id": "x5dDxSC3oGbJ",
    "outputId": "f7bdfd3c-e26c-4d25-bcb5-bca2af46f3c3"
   },
   "outputs": [
    {
     "data": {
      "text/html": [
       "<div>\n",
       "<style scoped>\n",
       "    .dataframe tbody tr th:only-of-type {\n",
       "        vertical-align: middle;\n",
       "    }\n",
       "\n",
       "    .dataframe tbody tr th {\n",
       "        vertical-align: top;\n",
       "    }\n",
       "\n",
       "    .dataframe thead th {\n",
       "        text-align: right;\n",
       "    }\n",
       "</style>\n",
       "<table border=\"1\" class=\"dataframe\">\n",
       "  <thead>\n",
       "    <tr style=\"text-align: right;\">\n",
       "      <th></th>\n",
       "      <th>coordL</th>\n",
       "      <th>coordW</th>\n",
       "      <th>place</th>\n",
       "      <th>district</th>\n",
       "      <th>DTPType</th>\n",
       "      <th>date</th>\n",
       "      <th>real_date</th>\n",
       "      <th>month</th>\n",
       "      <th>season</th>\n",
       "      <th>NVehicles</th>\n",
       "      <th>NPatricipants</th>\n",
       "      <th>NInjured</th>\n",
       "      <th>NFatal</th>\n",
       "      <th>additionalFactor</th>\n",
       "      <th>lightConditions</th>\n",
       "      <th>weatherConditions</th>\n",
       "      <th>placeConditions</th>\n",
       "      <th>closeObjects</th>\n",
       "      <th>violations</th>\n",
       "      <th>violationsAdditional</th>\n",
       "      <th>privod</th>\n",
       "      <th>traffic_regime</th>\n",
       "      <th>pokritie</th>\n",
       "      <th>neispravnosti</th>\n",
       "      <th>safety_belt</th>\n",
       "      <th>sublocality</th>\n",
       "      <th>traffic_regime_index</th>\n",
       "      <th>neispravnosti_index</th>\n",
       "    </tr>\n",
       "  </thead>\n",
       "  <tbody>\n",
       "    <tr>\n",
       "      <th>0</th>\n",
       "      <td>37.464817</td>\n",
       "      <td>55.758116</td>\n",
       "      <td>ул Мнёвники Нижн.</td>\n",
       "      <td>Хорошево-мневники</td>\n",
       "      <td>Наезд на препятствие</td>\n",
       "      <td>01.01.2020</td>\n",
       "      <td>2020-01-01</td>\n",
       "      <td>1</td>\n",
       "      <td>Winter</td>\n",
       "      <td>1</td>\n",
       "      <td>1</td>\n",
       "      <td>1</td>\n",
       "      <td>0</td>\n",
       "      <td>Сведения отсутствуют</td>\n",
       "      <td>0.5</td>\n",
       "      <td>Пасмурно</td>\n",
       "      <td>Перегон (нет объектов на месте ДТП)</td>\n",
       "      <td>Остановка общественного транспорта</td>\n",
       "      <td>Несоответствие скорости конкретным условиям дв...</td>\n",
       "      <td>Нет нарушений</td>\n",
       "      <td>передний</td>\n",
       "      <td>Режим движения не изменялся</td>\n",
       "      <td>Мокрое</td>\n",
       "      <td>Технические неисправности отсутствуют</td>\n",
       "      <td>Нет</td>\n",
       "      <td>Северо-Западный административный округ</td>\n",
       "      <td>0.0</td>\n",
       "      <td>0</td>\n",
       "    </tr>\n",
       "    <tr>\n",
       "      <th>1</th>\n",
       "      <td>37.388953</td>\n",
       "      <td>55.811338</td>\n",
       "      <td>Московская кольцевая автомобильная дорога (МКА...</td>\n",
       "      <td>Строгино</td>\n",
       "      <td>Наезд на стоящее ТС</td>\n",
       "      <td>01.01.2020</td>\n",
       "      <td>2020-01-01</td>\n",
       "      <td>1</td>\n",
       "      <td>Winter</td>\n",
       "      <td>2</td>\n",
       "      <td>2</td>\n",
       "      <td>1</td>\n",
       "      <td>0</td>\n",
       "      <td>Наличие на дороге объектов, мешающих движению</td>\n",
       "      <td>1.0</td>\n",
       "      <td>Ясно</td>\n",
       "      <td>Перегон (нет объектов на месте ДТП)</td>\n",
       "      <td>Отсутствие в непосредственной близости объекто...</td>\n",
       "      <td>Несоответствие скорости конкретным условиям дв...</td>\n",
       "      <td>Нет нарушений</td>\n",
       "      <td>передний</td>\n",
       "      <td>Движение частично перекрыто</td>\n",
       "      <td>Сухое</td>\n",
       "      <td>Технические неисправности отсутствуют</td>\n",
       "      <td>Нет</td>\n",
       "      <td>Северо-Западный административный округ</td>\n",
       "      <td>165.0</td>\n",
       "      <td>0</td>\n",
       "    </tr>\n",
       "    <tr>\n",
       "      <th>2</th>\n",
       "      <td>37.623153</td>\n",
       "      <td>55.866787</td>\n",
       "      <td>Юрловский пр-д</td>\n",
       "      <td>Отрадное</td>\n",
       "      <td>Наезд на пешехода</td>\n",
       "      <td>01.01.2020</td>\n",
       "      <td>2020-01-01</td>\n",
       "      <td>1</td>\n",
       "      <td>Winter</td>\n",
       "      <td>1</td>\n",
       "      <td>2</td>\n",
       "      <td>1</td>\n",
       "      <td>0</td>\n",
       "      <td>Сужение проезжей части</td>\n",
       "      <td>1.0</td>\n",
       "      <td>Пасмурно</td>\n",
       "      <td>Внутридворовая территория</td>\n",
       "      <td>Административные здания</td>\n",
       "      <td>Несоблюдение очередности проезда</td>\n",
       "      <td>Другие нарушения ПДД водителем</td>\n",
       "      <td>праворукий</td>\n",
       "      <td>Режим движения не изменялся</td>\n",
       "      <td>Сухое</td>\n",
       "      <td>Технические неисправности отсутствуют</td>\n",
       "      <td>Нет</td>\n",
       "      <td>Северо-Восточный административный округ</td>\n",
       "      <td>0.0</td>\n",
       "      <td>0</td>\n",
       "    </tr>\n",
       "    <tr>\n",
       "      <th>3</th>\n",
       "      <td>37.588413</td>\n",
       "      <td>55.660576</td>\n",
       "      <td>ул Болотниковская</td>\n",
       "      <td>Зюзино</td>\n",
       "      <td>Столкновение</td>\n",
       "      <td>01.01.2020</td>\n",
       "      <td>2020-01-01</td>\n",
       "      <td>1</td>\n",
       "      <td>Winter</td>\n",
       "      <td>2</td>\n",
       "      <td>3</td>\n",
       "      <td>1</td>\n",
       "      <td>0</td>\n",
       "      <td>Сведения отсутствуют</td>\n",
       "      <td>0.5</td>\n",
       "      <td>Пасмурно</td>\n",
       "      <td>Регулируемый пешеходный переход</td>\n",
       "      <td>Остановка общественного транспорта</td>\n",
       "      <td>Несоблюдение очередности проезда</td>\n",
       "      <td>Нет нарушений</td>\n",
       "      <td>передний</td>\n",
       "      <td>Движение частично перекрыто</td>\n",
       "      <td>Мокрое</td>\n",
       "      <td>Технические неисправности отсутствуют</td>\n",
       "      <td>Нет</td>\n",
       "      <td>Юго-Западный административный округ</td>\n",
       "      <td>195.0</td>\n",
       "      <td>0</td>\n",
       "    </tr>\n",
       "    <tr>\n",
       "      <th>4</th>\n",
       "      <td>37.636467</td>\n",
       "      <td>55.805098</td>\n",
       "      <td>пр-кт Мира</td>\n",
       "      <td>Алексеевский</td>\n",
       "      <td>Падение чего-либо</td>\n",
       "      <td>01.01.2020</td>\n",
       "      <td>2020-01-01</td>\n",
       "      <td>1</td>\n",
       "      <td>Winter</td>\n",
       "      <td>1</td>\n",
       "      <td>2</td>\n",
       "      <td>1</td>\n",
       "      <td>0</td>\n",
       "      <td>Участок, контролируемый камерой</td>\n",
       "      <td>0.5</td>\n",
       "      <td>Ясно</td>\n",
       "      <td>Остановка общественного транспорта</td>\n",
       "      <td>Остановка общественного транспорта</td>\n",
       "      <td>Нарушение правил пользования общественным тран...</td>\n",
       "      <td>Нарушение правил перевозки людей</td>\n",
       "      <td>передний</td>\n",
       "      <td>Режим движения не изменялся</td>\n",
       "      <td>Сухое</td>\n",
       "      <td>Технические неисправности отсутствуют</td>\n",
       "      <td>Нет</td>\n",
       "      <td>Северо-Восточный административный округ</td>\n",
       "      <td>0.0</td>\n",
       "      <td>0</td>\n",
       "    </tr>\n",
       "  </tbody>\n",
       "</table>\n",
       "</div>"
      ],
      "text/plain": [
       "      coordL     coordW  ... traffic_regime_index neispravnosti_index\n",
       "0  37.464817  55.758116  ...                  0.0                   0\n",
       "1  37.388953  55.811338  ...                165.0                   0\n",
       "2  37.623153  55.866787  ...                  0.0                   0\n",
       "3  37.588413  55.660576  ...                195.0                   0\n",
       "4  37.636467  55.805098  ...                  0.0                   0\n",
       "\n",
       "[5 rows x 28 columns]"
      ]
     },
     "execution_count": 106,
     "metadata": {},
     "output_type": "execute_result"
    }
   ],
   "source": [
    "def replace_neis(string):\n",
    "  if string == 'Технические неисправности отсутствуют':\n",
    "    return 0\n",
    "  else:\n",
    "    return 15\n",
    "\n",
    "df['neispravnosti_index'] = [replace_neis(i) for i in df['neispravnosti']]\n",
    "df.head()"
   ]
  },
  {
   "cell_type": "code",
   "execution_count": null,
   "metadata": {
    "colab": {
     "base_uri": "https://localhost:8080/"
    },
    "id": "LZk17KHm58G0",
    "outputId": "9f1efca1-a821-4705-b92d-4368cbc45ec9"
   },
   "outputs": [
    {
     "data": {
      "text/plain": [
       "0     7554\n",
       "15     334\n",
       "Name: neispravnosti_index, dtype: int64"
      ]
     },
     "execution_count": 107,
     "metadata": {},
     "output_type": "execute_result"
    }
   ],
   "source": [
    "df.neispravnosti_index.value_counts()"
   ]
  },
  {
   "cell_type": "markdown",
   "metadata": {
    "id": "ph82BKqno5zD"
   },
   "source": [
    "### privod_index"
   ]
  },
  {
   "cell_type": "code",
   "execution_count": null,
   "metadata": {
    "colab": {
     "base_uri": "https://localhost:8080/"
    },
    "id": "ugLMPE6EpWh7",
    "outputId": "bdac4631-b265-4797-8e45-7c980ac69fd3"
   },
   "outputs": [
    {
     "data": {
      "text/plain": [
       "передний                             3913\n",
       "задний,передний                       733\n",
       "полный,передний                       706\n",
       "задний                                652\n",
       "передний,праворукий                   579\n",
       "полный                                513\n",
       "праворукий                            302\n",
       "полный,праворукий                     120\n",
       "полный,задний                          91\n",
       "задний,праворукий                      79\n",
       "полный,задний,передний                 61\n",
       "Нет информации                         60\n",
       "полный,передний,праворукий             42\n",
       "задний,передний,праворукий             29\n",
       "полный,задний,передний,праворукий       5\n",
       "полный,задний,праворукий                3\n",
       "Name: privod, dtype: int64"
      ]
     },
     "execution_count": 108,
     "metadata": {},
     "output_type": "execute_result"
    }
   ],
   "source": [
    "df.privod.value_counts()"
   ]
  },
  {
   "cell_type": "code",
   "execution_count": null,
   "metadata": {
    "colab": {
     "base_uri": "https://localhost:8080/"
    },
    "id": "5WB4QLCBo8aC",
    "outputId": "bc743ca8-dbfd-4949-a840-5805388aaf7b"
   },
   "outputs": [
    {
     "data": {
      "text/html": [
       "<div>\n",
       "<style scoped>\n",
       "    .dataframe tbody tr th:only-of-type {\n",
       "        vertical-align: middle;\n",
       "    }\n",
       "\n",
       "    .dataframe tbody tr th {\n",
       "        vertical-align: top;\n",
       "    }\n",
       "\n",
       "    .dataframe thead th {\n",
       "        text-align: right;\n",
       "    }\n",
       "</style>\n",
       "<table border=\"1\" class=\"dataframe\">\n",
       "  <thead>\n",
       "    <tr style=\"text-align: right;\">\n",
       "      <th></th>\n",
       "      <th>coordL</th>\n",
       "      <th>coordW</th>\n",
       "      <th>place</th>\n",
       "      <th>district</th>\n",
       "      <th>DTPType</th>\n",
       "      <th>date</th>\n",
       "      <th>real_date</th>\n",
       "      <th>month</th>\n",
       "      <th>season</th>\n",
       "      <th>NVehicles</th>\n",
       "      <th>NPatricipants</th>\n",
       "      <th>NInjured</th>\n",
       "      <th>NFatal</th>\n",
       "      <th>additionalFactor</th>\n",
       "      <th>lightConditions</th>\n",
       "      <th>weatherConditions</th>\n",
       "      <th>placeConditions</th>\n",
       "      <th>closeObjects</th>\n",
       "      <th>violations</th>\n",
       "      <th>violationsAdditional</th>\n",
       "      <th>privod</th>\n",
       "      <th>traffic_regime</th>\n",
       "      <th>pokritie</th>\n",
       "      <th>neispravnosti</th>\n",
       "      <th>safety_belt</th>\n",
       "      <th>sublocality</th>\n",
       "      <th>traffic_regime_index</th>\n",
       "      <th>neispravnosti_index</th>\n",
       "      <th>privod_index</th>\n",
       "    </tr>\n",
       "  </thead>\n",
       "  <tbody>\n",
       "    <tr>\n",
       "      <th>0</th>\n",
       "      <td>37.464817</td>\n",
       "      <td>55.758116</td>\n",
       "      <td>ул Мнёвники Нижн.</td>\n",
       "      <td>Хорошево-мневники</td>\n",
       "      <td>Наезд на препятствие</td>\n",
       "      <td>01.01.2020</td>\n",
       "      <td>2020-01-01</td>\n",
       "      <td>1</td>\n",
       "      <td>Winter</td>\n",
       "      <td>1</td>\n",
       "      <td>1</td>\n",
       "      <td>1</td>\n",
       "      <td>0</td>\n",
       "      <td>Сведения отсутствуют</td>\n",
       "      <td>0.5</td>\n",
       "      <td>Пасмурно</td>\n",
       "      <td>Перегон (нет объектов на месте ДТП)</td>\n",
       "      <td>Остановка общественного транспорта</td>\n",
       "      <td>Несоответствие скорости конкретным условиям дв...</td>\n",
       "      <td>Нет нарушений</td>\n",
       "      <td>передний</td>\n",
       "      <td>Режим движения не изменялся</td>\n",
       "      <td>Мокрое</td>\n",
       "      <td>Технические неисправности отсутствуют</td>\n",
       "      <td>Нет</td>\n",
       "      <td>Северо-Западный административный округ</td>\n",
       "      <td>0.0</td>\n",
       "      <td>0</td>\n",
       "      <td>10</td>\n",
       "    </tr>\n",
       "    <tr>\n",
       "      <th>1</th>\n",
       "      <td>37.388953</td>\n",
       "      <td>55.811338</td>\n",
       "      <td>Московская кольцевая автомобильная дорога (МКА...</td>\n",
       "      <td>Строгино</td>\n",
       "      <td>Наезд на стоящее ТС</td>\n",
       "      <td>01.01.2020</td>\n",
       "      <td>2020-01-01</td>\n",
       "      <td>1</td>\n",
       "      <td>Winter</td>\n",
       "      <td>2</td>\n",
       "      <td>2</td>\n",
       "      <td>1</td>\n",
       "      <td>0</td>\n",
       "      <td>Наличие на дороге объектов, мешающих движению</td>\n",
       "      <td>1.0</td>\n",
       "      <td>Ясно</td>\n",
       "      <td>Перегон (нет объектов на месте ДТП)</td>\n",
       "      <td>Отсутствие в непосредственной близости объекто...</td>\n",
       "      <td>Несоответствие скорости конкретным условиям дв...</td>\n",
       "      <td>Нет нарушений</td>\n",
       "      <td>передний</td>\n",
       "      <td>Движение частично перекрыто</td>\n",
       "      <td>Сухое</td>\n",
       "      <td>Технические неисправности отсутствуют</td>\n",
       "      <td>Нет</td>\n",
       "      <td>Северо-Западный административный округ</td>\n",
       "      <td>165.0</td>\n",
       "      <td>0</td>\n",
       "      <td>10</td>\n",
       "    </tr>\n",
       "    <tr>\n",
       "      <th>2</th>\n",
       "      <td>37.623153</td>\n",
       "      <td>55.866787</td>\n",
       "      <td>Юрловский пр-д</td>\n",
       "      <td>Отрадное</td>\n",
       "      <td>Наезд на пешехода</td>\n",
       "      <td>01.01.2020</td>\n",
       "      <td>2020-01-01</td>\n",
       "      <td>1</td>\n",
       "      <td>Winter</td>\n",
       "      <td>1</td>\n",
       "      <td>2</td>\n",
       "      <td>1</td>\n",
       "      <td>0</td>\n",
       "      <td>Сужение проезжей части</td>\n",
       "      <td>1.0</td>\n",
       "      <td>Пасмурно</td>\n",
       "      <td>Внутридворовая территория</td>\n",
       "      <td>Административные здания</td>\n",
       "      <td>Несоблюдение очередности проезда</td>\n",
       "      <td>Другие нарушения ПДД водителем</td>\n",
       "      <td>праворукий</td>\n",
       "      <td>Режим движения не изменялся</td>\n",
       "      <td>Сухое</td>\n",
       "      <td>Технические неисправности отсутствуют</td>\n",
       "      <td>Нет</td>\n",
       "      <td>Северо-Восточный административный округ</td>\n",
       "      <td>0.0</td>\n",
       "      <td>0</td>\n",
       "      <td>15</td>\n",
       "    </tr>\n",
       "    <tr>\n",
       "      <th>3</th>\n",
       "      <td>37.588413</td>\n",
       "      <td>55.660576</td>\n",
       "      <td>ул Болотниковская</td>\n",
       "      <td>Зюзино</td>\n",
       "      <td>Столкновение</td>\n",
       "      <td>01.01.2020</td>\n",
       "      <td>2020-01-01</td>\n",
       "      <td>1</td>\n",
       "      <td>Winter</td>\n",
       "      <td>2</td>\n",
       "      <td>3</td>\n",
       "      <td>1</td>\n",
       "      <td>0</td>\n",
       "      <td>Сведения отсутствуют</td>\n",
       "      <td>0.5</td>\n",
       "      <td>Пасмурно</td>\n",
       "      <td>Регулируемый пешеходный переход</td>\n",
       "      <td>Остановка общественного транспорта</td>\n",
       "      <td>Несоблюдение очередности проезда</td>\n",
       "      <td>Нет нарушений</td>\n",
       "      <td>передний</td>\n",
       "      <td>Движение частично перекрыто</td>\n",
       "      <td>Мокрое</td>\n",
       "      <td>Технические неисправности отсутствуют</td>\n",
       "      <td>Нет</td>\n",
       "      <td>Юго-Западный административный округ</td>\n",
       "      <td>195.0</td>\n",
       "      <td>0</td>\n",
       "      <td>10</td>\n",
       "    </tr>\n",
       "    <tr>\n",
       "      <th>4</th>\n",
       "      <td>37.636467</td>\n",
       "      <td>55.805098</td>\n",
       "      <td>пр-кт Мира</td>\n",
       "      <td>Алексеевский</td>\n",
       "      <td>Падение чего-либо</td>\n",
       "      <td>01.01.2020</td>\n",
       "      <td>2020-01-01</td>\n",
       "      <td>1</td>\n",
       "      <td>Winter</td>\n",
       "      <td>1</td>\n",
       "      <td>2</td>\n",
       "      <td>1</td>\n",
       "      <td>0</td>\n",
       "      <td>Участок, контролируемый камерой</td>\n",
       "      <td>0.5</td>\n",
       "      <td>Ясно</td>\n",
       "      <td>Остановка общественного транспорта</td>\n",
       "      <td>Остановка общественного транспорта</td>\n",
       "      <td>Нарушение правил пользования общественным тран...</td>\n",
       "      <td>Нарушение правил перевозки людей</td>\n",
       "      <td>передний</td>\n",
       "      <td>Режим движения не изменялся</td>\n",
       "      <td>Сухое</td>\n",
       "      <td>Технические неисправности отсутствуют</td>\n",
       "      <td>Нет</td>\n",
       "      <td>Северо-Восточный административный округ</td>\n",
       "      <td>0.0</td>\n",
       "      <td>0</td>\n",
       "      <td>10</td>\n",
       "    </tr>\n",
       "  </tbody>\n",
       "</table>\n",
       "</div>"
      ],
      "text/plain": [
       "      coordL     coordW  ... neispravnosti_index privod_index\n",
       "0  37.464817  55.758116  ...                   0           10\n",
       "1  37.388953  55.811338  ...                   0           10\n",
       "2  37.623153  55.866787  ...                   0           15\n",
       "3  37.588413  55.660576  ...                   0           10\n",
       "4  37.636467  55.805098  ...                   0           10\n",
       "\n",
       "[5 rows x 29 columns]"
      ]
     },
     "execution_count": 109,
     "metadata": {},
     "output_type": "execute_result"
    }
   ],
   "source": [
    "def replace_privod(string):\n",
    "  index = 0\n",
    "  if 'полный' in string:\n",
    "    index += -5\n",
    "  if 'задний' in string:\n",
    "    index += 5\n",
    "  if 'передний' in string:\n",
    "    index += 10\n",
    "  if 'праворукий' in string:\n",
    "    index += 15\n",
    "  return index\n",
    "\n",
    "df['privod_index'] = [replace_privod(i) for i in df['privod']]\n",
    "df.head()"
   ]
  },
  {
   "cell_type": "code",
   "execution_count": null,
   "metadata": {
    "colab": {
     "base_uri": "https://localhost:8080/"
    },
    "id": "B0GwHXF03CiF",
    "outputId": "aa168a67-5bcc-40bb-8c93-8e8c25406a8d"
   },
   "outputs": [
    {
     "data": {
      "image/png": "[encoded data removed]",
      "text/plain": [
       "<Figure size 432x288 with 1 Axes>"
      ]
     },
     "metadata": {
      "needs_background": "light"
     },
     "output_type": "display_data"
    }
   ],
   "source": [
    "from copy import deepcopy\n",
    "df1 = deepcopy(df)\n",
    "plt.plot(range(7888), df1.sort_values(by='privod_index')['privod_index'].values)\n",
    "plt.show()"
   ]
  },
  {
   "cell_type": "markdown",
   "metadata": {
    "id": "BDgy0eJZJ2u7"
   },
   "source": [
    "## рассчет РИТА-а"
   ]
  },
  {
   "cell_type": "markdown",
   "metadata": {
    "id": "wgOq89KTYDec"
   },
   "source": [
    "добавить в риту коэффициент инфляции и стоимости по районам"
   ]
  },
  {
   "cell_type": "code",
   "execution_count": null,
   "metadata": {
    "id": "DzgxLrigKSOy"
   },
   "outputs": [],
   "source": [
    "def for_rita(NVehicles, NPatricipants, NInjured, NFatal, traffic_regime_index, neispravnosti_index, privod_index):\n",
    "  return NPatricipants * 0.5 + NInjured * 15 + NFatal * 500 + traffic_regime_index + neispravnosti_index + privod_index + NVehicles * 100"
   ]
  },
  {
   "cell_type": "code",
   "execution_count": null,
   "metadata": {
    "colab": {
     "base_uri": "https://localhost:8080/"
    },
    "id": "W9GcmVEFL_iD",
    "outputId": "7c8776be-2076-4328-bea6-63317195762d"
   },
   "outputs": [
    {
     "data": {
      "text/plain": [
       "10"
      ]
     },
     "execution_count": 112,
     "metadata": {},
     "output_type": "execute_result"
    }
   ],
   "source": [
    "df.loc[6974, 'privod_index']"
   ]
  },
  {
   "cell_type": "code",
   "execution_count": null,
   "metadata": {
    "id": "fm2y3NQkJ8Ic"
   },
   "outputs": [],
   "source": [
    "df['RITA'] = [for_rita(df.loc[i, 'NVehicles'], df.loc[i, 'NPatricipants'], df.loc[i, 'NInjured'], df.loc[i, 'NFatal'], df.loc[i, 'traffic_regime_index'], df.loc[i, 'neispravnosti_index'], df.loc[i, 'privod_index']) for i in range(len(df))]"
   ]
  },
  {
   "cell_type": "code",
   "execution_count": null,
   "metadata": {
    "colab": {
     "base_uri": "https://localhost:8080/",
     "height": 282
    },
    "id": "nU_xr4APMk6C",
    "outputId": "0484fae0-d1f3-4531-c8c5-14d2fcea6a57"
   },
   "outputs": [
    {
     "data": {
      "text/plain": [
       "[<matplotlib.lines.Line2D at 0x7f3fc260e5d0>]"
      ]
     },
     "execution_count": 114,
     "metadata": {},
     "output_type": "execute_result"
    },
    {
     "data": {
      "image/png": "[encoded data removed]",
      "text/plain": [
       "<Figure size 432x288 with 1 Axes>"
      ]
     },
     "metadata": {
      "needs_background": "light"
     },
     "output_type": "display_data"
    }
   ],
   "source": [
    "plt.plot(range(7888), df.sort_values(by='RITA')['RITA'].values)"
   ]
  },
  {
   "cell_type": "code",
   "execution_count": null,
   "metadata": {
    "id": "-hMIzbifNFVK"
   },
   "outputs": [],
   "source": [
    "df['FAIL'] = [df.loc[i, 'NPatricipants'] +  df.loc[i, 'NInjured'] * 1.5 +  df.loc[i, 'NFatal'] * 500 for i in range(len(df))]"
   ]
  },
  {
   "cell_type": "code",
   "execution_count": null,
   "metadata": {
    "colab": {
     "base_uri": "https://localhost:8080/",
     "height": 282
    },
    "id": "2DZVQXk-NZa7",
    "outputId": "dad72783-361a-47ee-8677-5a1b7c73c77a"
   },
   "outputs": [
    {
     "data": {
      "text/plain": [
       "[<matplotlib.lines.Line2D at 0x7f3fc37b7c10>]"
      ]
     },
     "execution_count": 116,
     "metadata": {},
     "output_type": "execute_result"
    },
    {
     "data": {
      "image/png": "[encoded data removed]",
      "text/plain": [
       "<Figure size 432x288 with 1 Axes>"
      ]
     },
     "metadata": {
      "needs_background": "light"
     },
     "output_type": "display_data"
    }
   ],
   "source": [
    "plt.plot(range(7888), df.sort_values(by='FAIL')['FAIL'].values)"
   ]
  },
  {
   "cell_type": "code",
   "execution_count": null,
   "metadata": {
    "colab": {
     "base_uri": "https://localhost:8080/",
     "height": 1000
    },
    "id": "X5Oce1GFP3lC",
    "outputId": "b609094c-3e64-463a-a455-c7b1332da8e6"
   },
   "outputs": [
    {
     "data": {
      "text/html": [
       "<div>\n",
       "<style scoped>\n",
       "    .dataframe tbody tr th:only-of-type {\n",
       "        vertical-align: middle;\n",
       "    }\n",
       "\n",
       "    .dataframe tbody tr th {\n",
       "        vertical-align: top;\n",
       "    }\n",
       "\n",
       "    .dataframe thead th {\n",
       "        text-align: right;\n",
       "    }\n",
       "</style>\n",
       "<table border=\"1\" class=\"dataframe\">\n",
       "  <thead>\n",
       "    <tr style=\"text-align: right;\">\n",
       "      <th></th>\n",
       "      <th>RITA</th>\n",
       "      <th>FAIL</th>\n",
       "    </tr>\n",
       "    <tr>\n",
       "      <th>violations</th>\n",
       "      <th></th>\n",
       "      <th></th>\n",
       "    </tr>\n",
       "  </thead>\n",
       "  <tbody>\n",
       "    <tr>\n",
       "      <th>Выезд на полосу встречного движения</th>\n",
       "      <td>419.367424</td>\n",
       "      <td>81.178030</td>\n",
       "    </tr>\n",
       "    <tr>\n",
       "      <th>Выезд на полосу встречного движения в местах, где это запрещено</th>\n",
       "      <td>370.916667</td>\n",
       "      <td>4.916667</td>\n",
       "    </tr>\n",
       "    <tr>\n",
       "      <th>Выезд на полосу встречного движения с разворотом, поворотом налево или объездом препятствия</th>\n",
       "      <td>298.333333</td>\n",
       "      <td>3.722222</td>\n",
       "    </tr>\n",
       "    <tr>\n",
       "      <th>Движение во встречном направлении по дороге с односторонним движением</th>\n",
       "      <td>289.750000</td>\n",
       "      <td>3.500000</td>\n",
       "    </tr>\n",
       "    <tr>\n",
       "      <th>Другие нарушения ПДД водителем</th>\n",
       "      <td>205.047619</td>\n",
       "      <td>39.142857</td>\n",
       "    </tr>\n",
       "    <tr>\n",
       "      <th>Другие нарушения ПДД водителями (не применяется с 12.2020)</th>\n",
       "      <td>173.333333</td>\n",
       "      <td>3.166667</td>\n",
       "    </tr>\n",
       "    <tr>\n",
       "      <th>Иные нарушения</th>\n",
       "      <td>421.250000</td>\n",
       "      <td>254.000000</td>\n",
       "    </tr>\n",
       "    <tr>\n",
       "      <th>Нарушение правил буксировки</th>\n",
       "      <td>332.000000</td>\n",
       "      <td>5.500000</td>\n",
       "    </tr>\n",
       "    <tr>\n",
       "      <th>Нарушение правил обгона</th>\n",
       "      <td>388.500000</td>\n",
       "      <td>3.500000</td>\n",
       "    </tr>\n",
       "    <tr>\n",
       "      <th>Нарушение правил остановки и стоянки</th>\n",
       "      <td>289.500000</td>\n",
       "      <td>45.375000</td>\n",
       "    </tr>\n",
       "    <tr>\n",
       "      <th>Нарушение правил перевозки людей</th>\n",
       "      <td>151.000000</td>\n",
       "      <td>3.500000</td>\n",
       "    </tr>\n",
       "    <tr>\n",
       "      <th>Нарушение правил перестроения</th>\n",
       "      <td>309.765432</td>\n",
       "      <td>16.698765</td>\n",
       "    </tr>\n",
       "    <tr>\n",
       "      <th>Нарушение правил погрузки, выгрузки и крепления грузов</th>\n",
       "      <td>133.250000</td>\n",
       "      <td>3.000000</td>\n",
       "    </tr>\n",
       "    <tr>\n",
       "      <th>Нарушение правил пользования общественным транспортом</th>\n",
       "      <td>160.000000</td>\n",
       "      <td>10.565116</td>\n",
       "    </tr>\n",
       "    <tr>\n",
       "      <th>Нарушение правил при круговом движении</th>\n",
       "      <td>256.000000</td>\n",
       "      <td>3.500000</td>\n",
       "    </tr>\n",
       "    <tr>\n",
       "      <th>Нарушение правил проезда ж/д переездов</th>\n",
       "      <td>426.250000</td>\n",
       "      <td>254.000000</td>\n",
       "    </tr>\n",
       "    <tr>\n",
       "      <th>Нарушение правил проезда остановок трамвая</th>\n",
       "      <td>153.250000</td>\n",
       "      <td>3.500000</td>\n",
       "    </tr>\n",
       "    <tr>\n",
       "      <th>Нарушение правил проезда пешеходного перехода</th>\n",
       "      <td>196.943814</td>\n",
       "      <td>21.068041</td>\n",
       "    </tr>\n",
       "    <tr>\n",
       "      <th>Нарушение правил расположения ТС на проезжей части</th>\n",
       "      <td>241.468750</td>\n",
       "      <td>23.394531</td>\n",
       "    </tr>\n",
       "    <tr>\n",
       "      <th>Нарушение требований дорожных знаков</th>\n",
       "      <td>303.013889</td>\n",
       "      <td>4.305556</td>\n",
       "    </tr>\n",
       "    <tr>\n",
       "      <th>Нарушение требований линий разметки</th>\n",
       "      <td>383.625000</td>\n",
       "      <td>128.375000</td>\n",
       "    </tr>\n",
       "    <tr>\n",
       "      <th>Нарушение требований сигналов регулировщика</th>\n",
       "      <td>178.500000</td>\n",
       "      <td>3.500000</td>\n",
       "    </tr>\n",
       "    <tr>\n",
       "      <th>Нарушение требований сигналов светофора</th>\n",
       "      <td>287.262069</td>\n",
       "      <td>23.491379</td>\n",
       "    </tr>\n",
       "    <tr>\n",
       "      <th>Нарушение правил движения тяжеловесного и(или) крупногабаритного ТС(превышение допустимых габаритов ТС, превышением допустимой массы ТС или допустимой нагрузки на ось ТС)</th>\n",
       "      <td>126.000000</td>\n",
       "      <td>3.500000</td>\n",
       "    </tr>\n",
       "    <tr>\n",
       "      <th>Невыполнение требований обеспечения безопасности при начале движения</th>\n",
       "      <td>157.333333</td>\n",
       "      <td>3.388889</td>\n",
       "    </tr>\n",
       "    <tr>\n",
       "      <th>Неподчинение сигналам регулирования</th>\n",
       "      <td>436.500000</td>\n",
       "      <td>4.500000</td>\n",
       "    </tr>\n",
       "    <tr>\n",
       "      <th>Неправильный выбор дистанции</th>\n",
       "      <td>328.451187</td>\n",
       "      <td>18.255497</td>\n",
       "    </tr>\n",
       "    <tr>\n",
       "      <th>Непредоставление преимущества в движении ТС, имеющему нанесенные на наружные поверхности специальные цветографические схемы, надписи и обозначения, с одновременно включённым проблесковым маячком синего цвета и специальным звуковым сигналом</th>\n",
       "      <td>363.428571</td>\n",
       "      <td>5.428571</td>\n",
       "    </tr>\n",
       "    <tr>\n",
       "      <th>Непредоставление преимущества в движении пешеходу</th>\n",
       "      <td>169.212644</td>\n",
       "      <td>3.614943</td>\n",
       "    </tr>\n",
       "    <tr>\n",
       "      <th>Несоблюдение бокового интервала</th>\n",
       "      <td>272.047619</td>\n",
       "      <td>27.684524</td>\n",
       "    </tr>\n",
       "    <tr>\n",
       "      <th>Несоблюдение очередности проезда</th>\n",
       "      <td>282.273389</td>\n",
       "      <td>13.544699</td>\n",
       "    </tr>\n",
       "    <tr>\n",
       "      <th>Несоблюдение условий, разрешающих движение транспорта задним ходом</th>\n",
       "      <td>212.687697</td>\n",
       "      <td>25.600946</td>\n",
       "    </tr>\n",
       "    <tr>\n",
       "      <th>Несоответствие скорости конкретным условиям движения</th>\n",
       "      <td>272.696335</td>\n",
       "      <td>54.642670</td>\n",
       "    </tr>\n",
       "    <tr>\n",
       "      <th>Нет нарушений</th>\n",
       "      <td>304.511905</td>\n",
       "      <td>33.750229</td>\n",
       "    </tr>\n",
       "    <tr>\n",
       "      <th>Оставление движущегося транспортного средства (выход или выпрыгивание на ходу и т.д.)</th>\n",
       "      <td>204.666667</td>\n",
       "      <td>59.000000</td>\n",
       "    </tr>\n",
       "    <tr>\n",
       "      <th>Передвижение по проезжей части на скейтборде (роликовых коньках и т.д.)</th>\n",
       "      <td>267.875000</td>\n",
       "      <td>3.500000</td>\n",
       "    </tr>\n",
       "    <tr>\n",
       "      <th>Пересечение велосипедистом проезжей части по пешеходному переходу</th>\n",
       "      <td>265.545455</td>\n",
       "      <td>3.500000</td>\n",
       "    </tr>\n",
       "    <tr>\n",
       "      <th>Превышение установленной скорости движения</th>\n",
       "      <td>121.000000</td>\n",
       "      <td>3.500000</td>\n",
       "    </tr>\n",
       "    <tr>\n",
       "      <th>Разворот в местах, где разворот запрещён</th>\n",
       "      <td>324.400000</td>\n",
       "      <td>5.200000</td>\n",
       "    </tr>\n",
       "    <tr>\n",
       "      <th>Эксплуатация ТС с техническими неисправностями, при которых запрещается их эксплуатация</th>\n",
       "      <td>146.000000</td>\n",
       "      <td>3.500000</td>\n",
       "    </tr>\n",
       "  </tbody>\n",
       "</table>\n",
       "</div>"
      ],
      "text/plain": [
       "                                                          RITA        FAIL\n",
       "violations                                                                \n",
       "Выезд на полосу встречного движения                 419.367424   81.178030\n",
       "Выезд на полосу встречного движения в местах, г...  370.916667    4.916667\n",
       "Выезд на полосу встречного движения с разворото...  298.333333    3.722222\n",
       "Движение во встречном направлении по дороге с о...  289.750000    3.500000\n",
       "Другие нарушения ПДД водителем                      205.047619   39.142857\n",
       "Другие нарушения ПДД водителями (не применяется...  173.333333    3.166667\n",
       "Иные нарушения                                      421.250000  254.000000\n",
       "Нарушение правил буксировки                         332.000000    5.500000\n",
       "Нарушение правил обгона                             388.500000    3.500000\n",
       "Нарушение правил остановки и стоянки                289.500000   45.375000\n",
       "Нарушение правил перевозки людей                    151.000000    3.500000\n",
       "Нарушение правил перестроения                       309.765432   16.698765\n",
       "Нарушение правил погрузки, выгрузки и крепления...  133.250000    3.000000\n",
       "Нарушение правил пользования общественным транс...  160.000000   10.565116\n",
       "Нарушение правил при круговом движении              256.000000    3.500000\n",
       "Нарушение правил проезда ж/д переездов              426.250000  254.000000\n",
       "Нарушение правил проезда остановок трамвая          153.250000    3.500000\n",
       "Нарушение правил проезда пешеходного перехода       196.943814   21.068041\n",
       "Нарушение правил расположения ТС на проезжей части  241.468750   23.394531\n",
       "Нарушение требований дорожных знаков                303.013889    4.305556\n",
       "Нарушение требований линий разметки                 383.625000  128.375000\n",
       "Нарушение требований сигналов регулировщика         178.500000    3.500000\n",
       "Нарушение требований сигналов светофора             287.262069   23.491379\n",
       "Нарушение правил движения тяжеловесного и(или) ...  126.000000    3.500000\n",
       "Невыполнение требований обеспечения безопасност...  157.333333    3.388889\n",
       "Неподчинение сигналам регулирования                 436.500000    4.500000\n",
       "Неправильный выбор дистанции                        328.451187   18.255497\n",
       "Непредоставление преимущества в движении ТС, им...  363.428571    5.428571\n",
       "Непредоставление преимущества в движении пешеходу   169.212644    3.614943\n",
       "Несоблюдение бокового интервала                     272.047619   27.684524\n",
       "Несоблюдение очередности проезда                    282.273389   13.544699\n",
       "Несоблюдение условий, разрешающих движение тран...  212.687697   25.600946\n",
       "Несоответствие скорости конкретным условиям дви...  272.696335   54.642670\n",
       "Нет нарушений                                       304.511905   33.750229\n",
       "Оставление движущегося транспортного средства (...  204.666667   59.000000\n",
       "Передвижение по проезжей части на скейтборде (р...  267.875000    3.500000\n",
       "Пересечение велосипедистом проезжей части по пе...  265.545455    3.500000\n",
       "Превышение установленной скорости движения          121.000000    3.500000\n",
       "Разворот в местах, где разворот запрещён            324.400000    5.200000\n",
       "Эксплуатация ТС с техническими неисправностями,...  146.000000    3.500000"
      ]
     },
     "execution_count": 117,
     "metadata": {},
     "output_type": "execute_result"
    }
   ],
   "source": [
    "df.groupby('violations').agg({'RITA':'mean', 'FAIL': 'mean'})"
   ]
  },
  {
   "cell_type": "code",
   "execution_count": null,
   "metadata": {
    "id": "k7OYQZd4MVP4"
   },
   "outputs": [],
   "source": [
    "df.to_excel('accidents_with_RITA.xlsx')"
   ]
  },
  {
   "cell_type": "markdown",
   "metadata": {
    "id": "LX5dC2dAPjT2"
   },
   "source": [
    "## продолжение "
   ]
  },
  {
   "cell_type": "code",
   "execution_count": null,
   "metadata": {
    "colab": {
     "base_uri": "https://localhost:8080/",
     "height": 492
    },
    "id": "VIaOZnUOxsy5",
    "outputId": "fe3a5cb6-9037-4a36-f9fd-8c0f2152a937"
   },
   "outputs": [
    {
     "data": {
      "text/html": [
       "<div>\n",
       "<style scoped>\n",
       "    .dataframe tbody tr th:only-of-type {\n",
       "        vertical-align: middle;\n",
       "    }\n",
       "\n",
       "    .dataframe tbody tr th {\n",
       "        vertical-align: top;\n",
       "    }\n",
       "\n",
       "    .dataframe thead th {\n",
       "        text-align: right;\n",
       "    }\n",
       "</style>\n",
       "<table border=\"1\" class=\"dataframe\">\n",
       "  <thead>\n",
       "    <tr style=\"text-align: right;\">\n",
       "      <th></th>\n",
       "      <th>coordL</th>\n",
       "      <th>coordW</th>\n",
       "      <th>place</th>\n",
       "      <th>district</th>\n",
       "      <th>DTPType</th>\n",
       "      <th>date</th>\n",
       "      <th>real_date</th>\n",
       "      <th>month</th>\n",
       "      <th>season</th>\n",
       "      <th>NVehicles</th>\n",
       "      <th>NPatricipants</th>\n",
       "      <th>NInjured</th>\n",
       "      <th>NFatal</th>\n",
       "      <th>additionalFactor</th>\n",
       "      <th>lightConditions</th>\n",
       "      <th>weatherConditions</th>\n",
       "      <th>placeConditions</th>\n",
       "      <th>closeObjects</th>\n",
       "      <th>violations</th>\n",
       "      <th>violationsAdditional</th>\n",
       "      <th>privod</th>\n",
       "      <th>traffic_regime</th>\n",
       "      <th>pokritie</th>\n",
       "      <th>neispravnosti</th>\n",
       "      <th>safety_belt</th>\n",
       "      <th>sublocality</th>\n",
       "      <th>traffic_regime_index</th>\n",
       "      <th>neispravnosti_index</th>\n",
       "      <th>privod_index</th>\n",
       "      <th>RITA</th>\n",
       "      <th>FAIL</th>\n",
       "    </tr>\n",
       "  </thead>\n",
       "  <tbody>\n",
       "    <tr>\n",
       "      <th>716</th>\n",
       "      <td>37.316040</td>\n",
       "      <td>55.476567</td>\n",
       "      <td>Калужское ш.</td>\n",
       "      <td>Троицк</td>\n",
       "      <td>Наезд на препятствие</td>\n",
       "      <td>29.01.2020</td>\n",
       "      <td>2020-01-29</td>\n",
       "      <td>1</td>\n",
       "      <td>Winter</td>\n",
       "      <td>1</td>\n",
       "      <td>1</td>\n",
       "      <td>1</td>\n",
       "      <td>0</td>\n",
       "      <td>Сведения отсутствуют</td>\n",
       "      <td>1.0</td>\n",
       "      <td>Пасмурно</td>\n",
       "      <td>Перегон (нет объектов на месте ДТП)</td>\n",
       "      <td>АЗС</td>\n",
       "      <td>Нарушение правил расположения ТС на проезжей ч...</td>\n",
       "      <td>Нет нарушений</td>\n",
       "      <td>полный</td>\n",
       "      <td>Режим движения не изменялся</td>\n",
       "      <td>Мокрое</td>\n",
       "      <td>Технические неисправности отсутствуют</td>\n",
       "      <td>Нет</td>\n",
       "      <td>Троицкий Адм. округ</td>\n",
       "      <td>0.0</td>\n",
       "      <td>0</td>\n",
       "      <td>-5</td>\n",
       "      <td>110.5</td>\n",
       "      <td>2.5</td>\n",
       "    </tr>\n",
       "    <tr>\n",
       "      <th>1046</th>\n",
       "      <td>37.288510</td>\n",
       "      <td>55.591903</td>\n",
       "      <td>M3</td>\n",
       "      <td>Филимонковское, Поселение</td>\n",
       "      <td>Наезд на препятствие</td>\n",
       "      <td>11.02.2020</td>\n",
       "      <td>2020-11-02</td>\n",
       "      <td>11</td>\n",
       "      <td>Autumn</td>\n",
       "      <td>1</td>\n",
       "      <td>1</td>\n",
       "      <td>1</td>\n",
       "      <td>0</td>\n",
       "      <td>Сведения отсутствуют</td>\n",
       "      <td>1.0</td>\n",
       "      <td>Снегопад(туман)</td>\n",
       "      <td>Перегон (нет объектов на месте ДТП)</td>\n",
       "      <td>Аэропорт, ж/д вокзал (ж/д станция), речной или...</td>\n",
       "      <td>Несоответствие скорости конкретным условиям дв...</td>\n",
       "      <td>Нет нарушений</td>\n",
       "      <td>полный</td>\n",
       "      <td>Режим движения не изменялся</td>\n",
       "      <td>Снег и/или лёд</td>\n",
       "      <td>Технические неисправности отсутствуют</td>\n",
       "      <td>Нет</td>\n",
       "      <td>Новомосковский Адм. округ</td>\n",
       "      <td>0.0</td>\n",
       "      <td>0</td>\n",
       "      <td>-5</td>\n",
       "      <td>110.5</td>\n",
       "      <td>2.5</td>\n",
       "    </tr>\n",
       "    <tr>\n",
       "      <th>2327</th>\n",
       "      <td>37.585140</td>\n",
       "      <td>55.792759</td>\n",
       "      <td>ул Бутырская</td>\n",
       "      <td>Савеловский</td>\n",
       "      <td>Наезд на препятствие</td>\n",
       "      <td>19.04.2020</td>\n",
       "      <td>2020-04-19</td>\n",
       "      <td>4</td>\n",
       "      <td>Spring</td>\n",
       "      <td>1</td>\n",
       "      <td>1</td>\n",
       "      <td>1</td>\n",
       "      <td>0</td>\n",
       "      <td>Сведения отсутствуют</td>\n",
       "      <td>0.5</td>\n",
       "      <td>Пасмурно</td>\n",
       "      <td>Мост, эстакада, путепровод</td>\n",
       "      <td>АЗС</td>\n",
       "      <td>Несоответствие скорости конкретным условиям дв...</td>\n",
       "      <td>Нет нарушений</td>\n",
       "      <td>полный</td>\n",
       "      <td>Режим движения не изменялся</td>\n",
       "      <td>Мокрое</td>\n",
       "      <td>Технические неисправности отсутствуют</td>\n",
       "      <td>Нет</td>\n",
       "      <td>Северный административный округ</td>\n",
       "      <td>0.0</td>\n",
       "      <td>0</td>\n",
       "      <td>-5</td>\n",
       "      <td>110.5</td>\n",
       "      <td>2.5</td>\n",
       "    </tr>\n",
       "    <tr>\n",
       "      <th>6522</th>\n",
       "      <td>37.704724</td>\n",
       "      <td>55.642458</td>\n",
       "      <td>ул Донецкая</td>\n",
       "      <td>Марьино</td>\n",
       "      <td>Наезд на препятствие</td>\n",
       "      <td>05.11.2020</td>\n",
       "      <td>2020-05-11</td>\n",
       "      <td>5</td>\n",
       "      <td>Spring</td>\n",
       "      <td>1</td>\n",
       "      <td>1</td>\n",
       "      <td>1</td>\n",
       "      <td>0</td>\n",
       "      <td>Сведения отсутствуют</td>\n",
       "      <td>1.0</td>\n",
       "      <td>Пасмурно</td>\n",
       "      <td>Перегон (нет объектов на месте ДТП)</td>\n",
       "      <td>Остановка общественного транспорта</td>\n",
       "      <td>Несоответствие скорости конкретным условиям дв...</td>\n",
       "      <td>Нет нарушений</td>\n",
       "      <td>полный</td>\n",
       "      <td>Режим движения не изменялся</td>\n",
       "      <td>Мокрое</td>\n",
       "      <td>Технические неисправности отсутствуют</td>\n",
       "      <td>Нет</td>\n",
       "      <td>Юго-Восточный административный округ</td>\n",
       "      <td>0.0</td>\n",
       "      <td>0</td>\n",
       "      <td>-5</td>\n",
       "      <td>110.5</td>\n",
       "      <td>2.5</td>\n",
       "    </tr>\n",
       "    <tr>\n",
       "      <th>6889</th>\n",
       "      <td>37.619344</td>\n",
       "      <td>55.804477</td>\n",
       "      <td>12-й пр. Марьиной Рощи</td>\n",
       "      <td>Марьина Роща</td>\n",
       "      <td>Наезд на препятствие</td>\n",
       "      <td>21.11.2020</td>\n",
       "      <td>2020-11-21</td>\n",
       "      <td>11</td>\n",
       "      <td>Autumn</td>\n",
       "      <td>1</td>\n",
       "      <td>1</td>\n",
       "      <td>1</td>\n",
       "      <td>0</td>\n",
       "      <td>Сведения отсутствуют</td>\n",
       "      <td>0.5</td>\n",
       "      <td>Пасмурно</td>\n",
       "      <td>Внутридворовая территория</td>\n",
       "      <td>Административные здания</td>\n",
       "      <td>Несоответствие скорости конкретным условиям дв...</td>\n",
       "      <td>Нет нарушений</td>\n",
       "      <td>полный</td>\n",
       "      <td>Режим движения не изменялся</td>\n",
       "      <td>Мокрое</td>\n",
       "      <td>Технические неисправности отсутствуют</td>\n",
       "      <td>Нет</td>\n",
       "      <td>Северо-Восточный административный округ</td>\n",
       "      <td>0.0</td>\n",
       "      <td>0</td>\n",
       "      <td>-5</td>\n",
       "      <td>110.5</td>\n",
       "      <td>2.5</td>\n",
       "    </tr>\n",
       "  </tbody>\n",
       "</table>\n",
       "</div>"
      ],
      "text/plain": [
       "         coordL     coordW                   place  ... privod_index   RITA FAIL\n",
       "716   37.316040  55.476567            Калужское ш.  ...           -5  110.5  2.5\n",
       "1046  37.288510  55.591903                      M3  ...           -5  110.5  2.5\n",
       "2327  37.585140  55.792759            ул Бутырская  ...           -5  110.5  2.5\n",
       "6522  37.704724  55.642458             ул Донецкая  ...           -5  110.5  2.5\n",
       "6889  37.619344  55.804477  12-й пр. Марьиной Рощи  ...           -5  110.5  2.5\n",
       "\n",
       "[5 rows x 31 columns]"
      ]
     },
     "execution_count": 120,
     "metadata": {},
     "output_type": "execute_result"
    }
   ],
   "source": [
    "df = df.sort_values(by='RITA')\n",
    "df.head()"
   ]
  },
  {
   "cell_type": "code",
   "execution_count": null,
   "metadata": {
    "colab": {
     "base_uri": "https://localhost:8080/",
     "height": 492
    },
    "id": "spD5KnS34oBX",
    "outputId": "ca46a213-7648-4119-d51d-bfa2b9d8b1ee"
   },
   "outputs": [
    {
     "data": {
      "text/html": [
       "<div>\n",
       "<style scoped>\n",
       "    .dataframe tbody tr th:only-of-type {\n",
       "        vertical-align: middle;\n",
       "    }\n",
       "\n",
       "    .dataframe tbody tr th {\n",
       "        vertical-align: top;\n",
       "    }\n",
       "\n",
       "    .dataframe thead th {\n",
       "        text-align: right;\n",
       "    }\n",
       "</style>\n",
       "<table border=\"1\" class=\"dataframe\">\n",
       "  <thead>\n",
       "    <tr style=\"text-align: right;\">\n",
       "      <th></th>\n",
       "      <th>coordL</th>\n",
       "      <th>coordW</th>\n",
       "      <th>place</th>\n",
       "      <th>district</th>\n",
       "      <th>DTPType</th>\n",
       "      <th>date</th>\n",
       "      <th>real_date</th>\n",
       "      <th>month</th>\n",
       "      <th>season</th>\n",
       "      <th>NVehicles</th>\n",
       "      <th>NPatricipants</th>\n",
       "      <th>NInjured</th>\n",
       "      <th>NFatal</th>\n",
       "      <th>additionalFactor</th>\n",
       "      <th>lightConditions</th>\n",
       "      <th>weatherConditions</th>\n",
       "      <th>placeConditions</th>\n",
       "      <th>closeObjects</th>\n",
       "      <th>violations</th>\n",
       "      <th>violationsAdditional</th>\n",
       "      <th>privod</th>\n",
       "      <th>traffic_regime</th>\n",
       "      <th>pokritie</th>\n",
       "      <th>neispravnosti</th>\n",
       "      <th>safety_belt</th>\n",
       "      <th>sublocality</th>\n",
       "      <th>traffic_regime_index</th>\n",
       "      <th>neispravnosti_index</th>\n",
       "      <th>privod_index</th>\n",
       "      <th>RITA</th>\n",
       "      <th>FAIL</th>\n",
       "      <th>indexes</th>\n",
       "    </tr>\n",
       "  </thead>\n",
       "  <tbody>\n",
       "    <tr>\n",
       "      <th>716</th>\n",
       "      <td>37.316040</td>\n",
       "      <td>55.476567</td>\n",
       "      <td>Калужское ш.</td>\n",
       "      <td>Троицк</td>\n",
       "      <td>Наезд на препятствие</td>\n",
       "      <td>29.01.2020</td>\n",
       "      <td>2020-01-29</td>\n",
       "      <td>1</td>\n",
       "      <td>Winter</td>\n",
       "      <td>1</td>\n",
       "      <td>1</td>\n",
       "      <td>1</td>\n",
       "      <td>0</td>\n",
       "      <td>Сведения отсутствуют</td>\n",
       "      <td>1.0</td>\n",
       "      <td>Пасмурно</td>\n",
       "      <td>Перегон (нет объектов на месте ДТП)</td>\n",
       "      <td>АЗС</td>\n",
       "      <td>Нарушение правил расположения ТС на проезжей ч...</td>\n",
       "      <td>Нет нарушений</td>\n",
       "      <td>полный</td>\n",
       "      <td>Режим движения не изменялся</td>\n",
       "      <td>Мокрое</td>\n",
       "      <td>Технические неисправности отсутствуют</td>\n",
       "      <td>Нет</td>\n",
       "      <td>Троицкий Адм. округ</td>\n",
       "      <td>0.0</td>\n",
       "      <td>0</td>\n",
       "      <td>-5</td>\n",
       "      <td>110.5</td>\n",
       "      <td>2.5</td>\n",
       "      <td>0</td>\n",
       "    </tr>\n",
       "    <tr>\n",
       "      <th>1046</th>\n",
       "      <td>37.288510</td>\n",
       "      <td>55.591903</td>\n",
       "      <td>M3</td>\n",
       "      <td>Филимонковское, Поселение</td>\n",
       "      <td>Наезд на препятствие</td>\n",
       "      <td>11.02.2020</td>\n",
       "      <td>2020-11-02</td>\n",
       "      <td>11</td>\n",
       "      <td>Autumn</td>\n",
       "      <td>1</td>\n",
       "      <td>1</td>\n",
       "      <td>1</td>\n",
       "      <td>0</td>\n",
       "      <td>Сведения отсутствуют</td>\n",
       "      <td>1.0</td>\n",
       "      <td>Снегопад(туман)</td>\n",
       "      <td>Перегон (нет объектов на месте ДТП)</td>\n",
       "      <td>Аэропорт, ж/д вокзал (ж/д станция), речной или...</td>\n",
       "      <td>Несоответствие скорости конкретным условиям дв...</td>\n",
       "      <td>Нет нарушений</td>\n",
       "      <td>полный</td>\n",
       "      <td>Режим движения не изменялся</td>\n",
       "      <td>Снег и/или лёд</td>\n",
       "      <td>Технические неисправности отсутствуют</td>\n",
       "      <td>Нет</td>\n",
       "      <td>Новомосковский Адм. округ</td>\n",
       "      <td>0.0</td>\n",
       "      <td>0</td>\n",
       "      <td>-5</td>\n",
       "      <td>110.5</td>\n",
       "      <td>2.5</td>\n",
       "      <td>1</td>\n",
       "    </tr>\n",
       "    <tr>\n",
       "      <th>2327</th>\n",
       "      <td>37.585140</td>\n",
       "      <td>55.792759</td>\n",
       "      <td>ул Бутырская</td>\n",
       "      <td>Савеловский</td>\n",
       "      <td>Наезд на препятствие</td>\n",
       "      <td>19.04.2020</td>\n",
       "      <td>2020-04-19</td>\n",
       "      <td>4</td>\n",
       "      <td>Spring</td>\n",
       "      <td>1</td>\n",
       "      <td>1</td>\n",
       "      <td>1</td>\n",
       "      <td>0</td>\n",
       "      <td>Сведения отсутствуют</td>\n",
       "      <td>0.5</td>\n",
       "      <td>Пасмурно</td>\n",
       "      <td>Мост, эстакада, путепровод</td>\n",
       "      <td>АЗС</td>\n",
       "      <td>Несоответствие скорости конкретным условиям дв...</td>\n",
       "      <td>Нет нарушений</td>\n",
       "      <td>полный</td>\n",
       "      <td>Режим движения не изменялся</td>\n",
       "      <td>Мокрое</td>\n",
       "      <td>Технические неисправности отсутствуют</td>\n",
       "      <td>Нет</td>\n",
       "      <td>Северный административный округ</td>\n",
       "      <td>0.0</td>\n",
       "      <td>0</td>\n",
       "      <td>-5</td>\n",
       "      <td>110.5</td>\n",
       "      <td>2.5</td>\n",
       "      <td>2</td>\n",
       "    </tr>\n",
       "    <tr>\n",
       "      <th>6522</th>\n",
       "      <td>37.704724</td>\n",
       "      <td>55.642458</td>\n",
       "      <td>ул Донецкая</td>\n",
       "      <td>Марьино</td>\n",
       "      <td>Наезд на препятствие</td>\n",
       "      <td>05.11.2020</td>\n",
       "      <td>2020-05-11</td>\n",
       "      <td>5</td>\n",
       "      <td>Spring</td>\n",
       "      <td>1</td>\n",
       "      <td>1</td>\n",
       "      <td>1</td>\n",
       "      <td>0</td>\n",
       "      <td>Сведения отсутствуют</td>\n",
       "      <td>1.0</td>\n",
       "      <td>Пасмурно</td>\n",
       "      <td>Перегон (нет объектов на месте ДТП)</td>\n",
       "      <td>Остановка общественного транспорта</td>\n",
       "      <td>Несоответствие скорости конкретным условиям дв...</td>\n",
       "      <td>Нет нарушений</td>\n",
       "      <td>полный</td>\n",
       "      <td>Режим движения не изменялся</td>\n",
       "      <td>Мокрое</td>\n",
       "      <td>Технические неисправности отсутствуют</td>\n",
       "      <td>Нет</td>\n",
       "      <td>Юго-Восточный административный округ</td>\n",
       "      <td>0.0</td>\n",
       "      <td>0</td>\n",
       "      <td>-5</td>\n",
       "      <td>110.5</td>\n",
       "      <td>2.5</td>\n",
       "      <td>3</td>\n",
       "    </tr>\n",
       "    <tr>\n",
       "      <th>6889</th>\n",
       "      <td>37.619344</td>\n",
       "      <td>55.804477</td>\n",
       "      <td>12-й пр. Марьиной Рощи</td>\n",
       "      <td>Марьина Роща</td>\n",
       "      <td>Наезд на препятствие</td>\n",
       "      <td>21.11.2020</td>\n",
       "      <td>2020-11-21</td>\n",
       "      <td>11</td>\n",
       "      <td>Autumn</td>\n",
       "      <td>1</td>\n",
       "      <td>1</td>\n",
       "      <td>1</td>\n",
       "      <td>0</td>\n",
       "      <td>Сведения отсутствуют</td>\n",
       "      <td>0.5</td>\n",
       "      <td>Пасмурно</td>\n",
       "      <td>Внутридворовая территория</td>\n",
       "      <td>Административные здания</td>\n",
       "      <td>Несоответствие скорости конкретным условиям дв...</td>\n",
       "      <td>Нет нарушений</td>\n",
       "      <td>полный</td>\n",
       "      <td>Режим движения не изменялся</td>\n",
       "      <td>Мокрое</td>\n",
       "      <td>Технические неисправности отсутствуют</td>\n",
       "      <td>Нет</td>\n",
       "      <td>Северо-Восточный административный округ</td>\n",
       "      <td>0.0</td>\n",
       "      <td>0</td>\n",
       "      <td>-5</td>\n",
       "      <td>110.5</td>\n",
       "      <td>2.5</td>\n",
       "      <td>4</td>\n",
       "    </tr>\n",
       "  </tbody>\n",
       "</table>\n",
       "</div>"
      ],
      "text/plain": [
       "         coordL     coordW                   place  ...   RITA FAIL indexes\n",
       "716   37.316040  55.476567            Калужское ш.  ...  110.5  2.5       0\n",
       "1046  37.288510  55.591903                      M3  ...  110.5  2.5       1\n",
       "2327  37.585140  55.792759            ул Бутырская  ...  110.5  2.5       2\n",
       "6522  37.704724  55.642458             ул Донецкая  ...  110.5  2.5       3\n",
       "6889  37.619344  55.804477  12-й пр. Марьиной Рощи  ...  110.5  2.5       4\n",
       "\n",
       "[5 rows x 32 columns]"
      ]
     },
     "execution_count": 121,
     "metadata": {},
     "output_type": "execute_result"
    }
   ],
   "source": [
    "df['indexes'] = range(7888)\n",
    "df.head()"
   ]
  },
  {
   "cell_type": "markdown",
   "metadata": {
    "id": "aDItpsbrNy-f"
   },
   "source": [
    "# доп для анализа"
   ]
  },
  {
   "cell_type": "code",
   "execution_count": null,
   "metadata": {
    "colab": {
     "base_uri": "https://localhost:8080/",
     "height": 475
    },
    "id": "W4vnsrMCXBb1",
    "outputId": "aefca953-f945-4176-efee-38e35360d8fe"
   },
   "outputs": [
    {
     "data": {
      "text/html": [
       "<div>\n",
       "<style scoped>\n",
       "    .dataframe tbody tr th:only-of-type {\n",
       "        vertical-align: middle;\n",
       "    }\n",
       "\n",
       "    .dataframe tbody tr th {\n",
       "        vertical-align: top;\n",
       "    }\n",
       "\n",
       "    .dataframe thead th {\n",
       "        text-align: right;\n",
       "    }\n",
       "</style>\n",
       "<table border=\"1\" class=\"dataframe\">\n",
       "  <thead>\n",
       "    <tr style=\"text-align: right;\">\n",
       "      <th></th>\n",
       "      <th>Unnamed: 0</th>\n",
       "      <th>index</th>\n",
       "      <th>coordL</th>\n",
       "      <th>coordW</th>\n",
       "      <th>place</th>\n",
       "      <th>district</th>\n",
       "      <th>DTPType</th>\n",
       "      <th>date</th>\n",
       "      <th>real_date</th>\n",
       "      <th>month</th>\n",
       "      <th>season</th>\n",
       "      <th>NVehicles</th>\n",
       "      <th>NPatricipants</th>\n",
       "      <th>NInjured</th>\n",
       "      <th>NFatal</th>\n",
       "      <th>additionalFactor</th>\n",
       "      <th>lightConditions</th>\n",
       "      <th>weatherConditions</th>\n",
       "      <th>placeConditions</th>\n",
       "      <th>closeObjects</th>\n",
       "      <th>violations</th>\n",
       "      <th>violationsAdditional</th>\n",
       "      <th>privod</th>\n",
       "      <th>traffic_regime</th>\n",
       "      <th>pokritie</th>\n",
       "      <th>neispravnosti</th>\n",
       "      <th>safety_belt</th>\n",
       "      <th>sublocality</th>\n",
       "      <th>traffic_regime_index</th>\n",
       "      <th>neispravnosti_index</th>\n",
       "      <th>privod_index</th>\n",
       "      <th>RITA</th>\n",
       "      <th>FAIL</th>\n",
       "      <th>violations_brief</th>\n",
       "    </tr>\n",
       "  </thead>\n",
       "  <tbody>\n",
       "    <tr>\n",
       "      <th>0</th>\n",
       "      <td>0</td>\n",
       "      <td>0</td>\n",
       "      <td>37.464817</td>\n",
       "      <td>55.758116</td>\n",
       "      <td>ул Мнёвники Нижн.</td>\n",
       "      <td>Хорошево-мневники</td>\n",
       "      <td>Наезд на препятствие</td>\n",
       "      <td>01.01.2020</td>\n",
       "      <td>2020-01-01</td>\n",
       "      <td>1</td>\n",
       "      <td>Winter</td>\n",
       "      <td>1</td>\n",
       "      <td>1</td>\n",
       "      <td>1</td>\n",
       "      <td>0</td>\n",
       "      <td>Сведения отсутствуют</td>\n",
       "      <td>0.5</td>\n",
       "      <td>Пасмурно</td>\n",
       "      <td>Перегон (нет объектов на месте ДТП)</td>\n",
       "      <td>Остановка общественного транспорта</td>\n",
       "      <td>Несоответствие скорости конкретным условиям дв...</td>\n",
       "      <td>Нет нарушений</td>\n",
       "      <td>передний</td>\n",
       "      <td>Режим движения не изменялся</td>\n",
       "      <td>Мокрое</td>\n",
       "      <td>Технические неисправности отсутствуют</td>\n",
       "      <td>Нет</td>\n",
       "      <td>Северо-Западный административный округ</td>\n",
       "      <td>0.0</td>\n",
       "      <td>0</td>\n",
       "      <td>10</td>\n",
       "      <td>125.5</td>\n",
       "      <td>2.5</td>\n",
       "      <td>Скоростной режим</td>\n",
       "    </tr>\n",
       "    <tr>\n",
       "      <th>1</th>\n",
       "      <td>1</td>\n",
       "      <td>1</td>\n",
       "      <td>37.388953</td>\n",
       "      <td>55.811338</td>\n",
       "      <td>Московская кольцевая автомобильная дорога (МКА...</td>\n",
       "      <td>Строгино</td>\n",
       "      <td>Наезд на стоящее ТС</td>\n",
       "      <td>01.01.2020</td>\n",
       "      <td>2020-01-01</td>\n",
       "      <td>1</td>\n",
       "      <td>Winter</td>\n",
       "      <td>2</td>\n",
       "      <td>2</td>\n",
       "      <td>1</td>\n",
       "      <td>0</td>\n",
       "      <td>Наличие на дороге объектов, мешающих движению</td>\n",
       "      <td>1.0</td>\n",
       "      <td>Ясно</td>\n",
       "      <td>Перегон (нет объектов на месте ДТП)</td>\n",
       "      <td>Отсутствие в непосредственной близости объекто...</td>\n",
       "      <td>Несоответствие скорости конкретным условиям дв...</td>\n",
       "      <td>Нет нарушений</td>\n",
       "      <td>передний</td>\n",
       "      <td>Движение частично перекрыто</td>\n",
       "      <td>Сухое</td>\n",
       "      <td>Технические неисправности отсутствуют</td>\n",
       "      <td>Нет</td>\n",
       "      <td>Северо-Западный административный округ</td>\n",
       "      <td>165.0</td>\n",
       "      <td>0</td>\n",
       "      <td>10</td>\n",
       "      <td>391.0</td>\n",
       "      <td>3.5</td>\n",
       "      <td>Скоростной режим</td>\n",
       "    </tr>\n",
       "    <tr>\n",
       "      <th>2</th>\n",
       "      <td>2</td>\n",
       "      <td>2</td>\n",
       "      <td>37.623153</td>\n",
       "      <td>55.866787</td>\n",
       "      <td>Юрловский пр-д</td>\n",
       "      <td>Отрадное</td>\n",
       "      <td>Наезд на пешехода</td>\n",
       "      <td>01.01.2020</td>\n",
       "      <td>2020-01-01</td>\n",
       "      <td>1</td>\n",
       "      <td>Winter</td>\n",
       "      <td>1</td>\n",
       "      <td>2</td>\n",
       "      <td>1</td>\n",
       "      <td>0</td>\n",
       "      <td>Сужение проезжей части</td>\n",
       "      <td>1.0</td>\n",
       "      <td>Пасмурно</td>\n",
       "      <td>Внутридворовая территория</td>\n",
       "      <td>Административные здания</td>\n",
       "      <td>Несоблюдение очередности проезда</td>\n",
       "      <td>Другие нарушения ПДД водителем</td>\n",
       "      <td>праворукий</td>\n",
       "      <td>Режим движения не изменялся</td>\n",
       "      <td>Сухое</td>\n",
       "      <td>Технические неисправности отсутствуют</td>\n",
       "      <td>Нет</td>\n",
       "      <td>Северо-Восточный административный округ</td>\n",
       "      <td>0.0</td>\n",
       "      <td>0</td>\n",
       "      <td>15</td>\n",
       "      <td>131.0</td>\n",
       "      <td>3.5</td>\n",
       "      <td>Очередь проезда</td>\n",
       "    </tr>\n",
       "    <tr>\n",
       "      <th>3</th>\n",
       "      <td>3</td>\n",
       "      <td>3</td>\n",
       "      <td>37.588413</td>\n",
       "      <td>55.660576</td>\n",
       "      <td>ул Болотниковская</td>\n",
       "      <td>Зюзино</td>\n",
       "      <td>Столкновение</td>\n",
       "      <td>01.01.2020</td>\n",
       "      <td>2020-01-01</td>\n",
       "      <td>1</td>\n",
       "      <td>Winter</td>\n",
       "      <td>2</td>\n",
       "      <td>3</td>\n",
       "      <td>1</td>\n",
       "      <td>0</td>\n",
       "      <td>Сведения отсутствуют</td>\n",
       "      <td>0.5</td>\n",
       "      <td>Пасмурно</td>\n",
       "      <td>Регулируемый пешеходный переход</td>\n",
       "      <td>Остановка общественного транспорта</td>\n",
       "      <td>Несоблюдение очередности проезда</td>\n",
       "      <td>Нет нарушений</td>\n",
       "      <td>передний</td>\n",
       "      <td>Движение частично перекрыто</td>\n",
       "      <td>Мокрое</td>\n",
       "      <td>Технические неисправности отсутствуют</td>\n",
       "      <td>Нет</td>\n",
       "      <td>Юго-Западный административный округ</td>\n",
       "      <td>195.0</td>\n",
       "      <td>0</td>\n",
       "      <td>10</td>\n",
       "      <td>421.5</td>\n",
       "      <td>4.5</td>\n",
       "      <td>Очередь проезда</td>\n",
       "    </tr>\n",
       "    <tr>\n",
       "      <th>4</th>\n",
       "      <td>4</td>\n",
       "      <td>4</td>\n",
       "      <td>37.636467</td>\n",
       "      <td>55.805098</td>\n",
       "      <td>пр-кт Мира</td>\n",
       "      <td>Алексеевский</td>\n",
       "      <td>Падение чего-либо</td>\n",
       "      <td>01.01.2020</td>\n",
       "      <td>2020-01-01</td>\n",
       "      <td>1</td>\n",
       "      <td>Winter</td>\n",
       "      <td>1</td>\n",
       "      <td>2</td>\n",
       "      <td>1</td>\n",
       "      <td>0</td>\n",
       "      <td>Участок, контролируемый камерой</td>\n",
       "      <td>0.5</td>\n",
       "      <td>Ясно</td>\n",
       "      <td>Остановка общественного транспорта</td>\n",
       "      <td>Остановка общественного транспорта</td>\n",
       "      <td>Нарушение правил пользования общественным тран...</td>\n",
       "      <td>Нарушение правил перевозки людей</td>\n",
       "      <td>передний</td>\n",
       "      <td>Режим движения не изменялся</td>\n",
       "      <td>Сухое</td>\n",
       "      <td>Технические неисправности отсутствуют</td>\n",
       "      <td>Нет</td>\n",
       "      <td>Северо-Восточный административный округ</td>\n",
       "      <td>0.0</td>\n",
       "      <td>0</td>\n",
       "      <td>10</td>\n",
       "      <td>126.0</td>\n",
       "      <td>3.5</td>\n",
       "      <td>Общ. транспорт</td>\n",
       "    </tr>\n",
       "  </tbody>\n",
       "</table>\n",
       "</div>"
      ],
      "text/plain": [
       "   Unnamed: 0  index     coordL  ...   RITA FAIL  violations_brief\n",
       "0           0      0  37.464817  ...  125.5  2.5  Скоростной режим\n",
       "1           1      1  37.388953  ...  391.0  3.5  Скоростной режим\n",
       "2           2      2  37.623153  ...  131.0  3.5   Очередь проезда\n",
       "3           3      3  37.588413  ...  421.5  4.5   Очередь проезда\n",
       "4           4      4  37.636467  ...  126.0  3.5    Общ. транспорт\n",
       "\n",
       "[5 rows x 34 columns]"
      ]
     },
     "execution_count": 2,
     "metadata": {},
     "output_type": "execute_result"
    }
   ],
   "source": [
    "df1 = pd.read_excel('/content/drive/MyDrive/merge_preprocessing_dano/files/violations_brief.xlsx')\n",
    "df1.head()"
   ]
  },
  {
   "cell_type": "code",
   "execution_count": null,
   "metadata": {
    "colab": {
     "base_uri": "https://localhost:8080/"
    },
    "id": "ZwT2hd_5NhRl",
    "outputId": "17ea7856-308c-4c9d-e450-7f6aa96f7708"
   },
   "outputs": [
    {
     "data": {
      "text/plain": [
       "Неправильный выбор дистанции                                          1137\n",
       "Нарушение правил проезда пешеходного перехода                          970\n",
       "Несоблюдение очередности проезда                                       962\n",
       "Несоответствие скорости конкретным условиям движения                   764\n",
       "Нарушение правил перестроения                                          405\n",
       "Несоблюдение условий, разрешающих движение транспорта задним ходом     317\n",
       "Нарушение требований сигналов светофора                                290\n",
       "Нарушение правил пользования общественным транспортом                  215\n",
       "Иные нарушения                                                         213\n",
       "Выезд на полосу встречного движения                                    132\n",
       "Нарушение правил расположения ТС на проезжей части                     128\n",
       "Непредоставление преимущества в движении пешеходу                       87\n",
       "Несоблюдение бокового интервала                                         84\n",
       "Name: violations, dtype: int64"
      ]
     },
     "execution_count": 3,
     "metadata": {},
     "output_type": "execute_result"
    }
   ],
   "source": [
    "df1.violations.value_counts()"
   ]
  },
  {
   "cell_type": "code",
   "execution_count": null,
   "metadata": {
    "id": "qlvenpOVPLDl"
   },
   "outputs": [],
   "source": [
    "# стремление сделать лаконичную запись ошибок\n",
    "def zamena(string):\n",
    "  if string == 'Неправильный выбор дистанции':\n",
    "    return 'Выбор дистанции'\n",
    "  elif string == 'Нарушение правил проезда пешеходного перехода':\n",
    "    return 'Пешеходный переход'\n",
    "  elif string == 'Несоблюдение очередности проезда':\n",
    "    return 'Очередь проезда'\n",
    "  elif string == 'Несоответствие скорости конкретным условиям движения':\n",
    "    return 'Скоростной режим'\n",
    "  elif string == 'Нарушение правил перестроения':\n",
    "    return 'Правила перестроения'\n",
    "  elif string == 'Несоблюдение условий, разрешающих движение транспорта задним ходом':\n",
    "    return 'Задний ход'\n",
    "  elif string == 'Нарушение требований сигналов светофора':\n",
    "    return 'Игнор светофора'\n",
    "  elif string == 'Нарушение правил пользования общественным транспортом':\n",
    "    return 'Общ. транспорт'\n",
    "  elif string == 'Выезд на полосу встречного движения':\n",
    "    return 'Выезд на встречку'\n",
    "  elif string == 'Нарушение правил расположения ТС на проезжей части':\n",
    "    return 'Расположение ТС'\n",
    "  elif string == 'Непредоставление преимущества в движении пешеходу':\n",
    "    return 'Игнор пешехода'\n",
    "  elif string == 'Несоблюдение бокового интервала':\n",
    "    return 'Боковой интервал'\n",
    "  else:\n",
    "    return string"
   ]
  },
  {
   "cell_type": "code",
   "execution_count": null,
   "metadata": {
    "id": "MMIN3-y2Wy8d"
   },
   "outputs": [],
   "source": [
    "del df1['violations_brif']"
   ]
  },
  {
   "cell_type": "code",
   "execution_count": null,
   "metadata": {
    "colab": {
     "base_uri": "https://localhost:8080/",
     "height": 475
    },
    "id": "8JgqBtALS69V",
    "outputId": "06721303-04f6-4877-f244-c4e174b3cf50"
   },
   "outputs": [
    {
     "data": {
      "text/html": [
       "<div>\n",
       "<style scoped>\n",
       "    .dataframe tbody tr th:only-of-type {\n",
       "        vertical-align: middle;\n",
       "    }\n",
       "\n",
       "    .dataframe tbody tr th {\n",
       "        vertical-align: top;\n",
       "    }\n",
       "\n",
       "    .dataframe thead th {\n",
       "        text-align: right;\n",
       "    }\n",
       "</style>\n",
       "<table border=\"1\" class=\"dataframe\">\n",
       "  <thead>\n",
       "    <tr style=\"text-align: right;\">\n",
       "      <th></th>\n",
       "      <th>Unnamed: 0</th>\n",
       "      <th>index</th>\n",
       "      <th>coordL</th>\n",
       "      <th>coordW</th>\n",
       "      <th>place</th>\n",
       "      <th>district</th>\n",
       "      <th>DTPType</th>\n",
       "      <th>date</th>\n",
       "      <th>real_date</th>\n",
       "      <th>month</th>\n",
       "      <th>season</th>\n",
       "      <th>NVehicles</th>\n",
       "      <th>NPatricipants</th>\n",
       "      <th>NInjured</th>\n",
       "      <th>NFatal</th>\n",
       "      <th>additionalFactor</th>\n",
       "      <th>lightConditions</th>\n",
       "      <th>weatherConditions</th>\n",
       "      <th>placeConditions</th>\n",
       "      <th>closeObjects</th>\n",
       "      <th>violations</th>\n",
       "      <th>violationsAdditional</th>\n",
       "      <th>privod</th>\n",
       "      <th>traffic_regime</th>\n",
       "      <th>pokritie</th>\n",
       "      <th>neispravnosti</th>\n",
       "      <th>safety_belt</th>\n",
       "      <th>sublocality</th>\n",
       "      <th>traffic_regime_index</th>\n",
       "      <th>neispravnosti_index</th>\n",
       "      <th>privod_index</th>\n",
       "      <th>RITA</th>\n",
       "      <th>FAIL</th>\n",
       "      <th>violations_brief</th>\n",
       "    </tr>\n",
       "  </thead>\n",
       "  <tbody>\n",
       "    <tr>\n",
       "      <th>0</th>\n",
       "      <td>0</td>\n",
       "      <td>0</td>\n",
       "      <td>37.464817</td>\n",
       "      <td>55.758116</td>\n",
       "      <td>ул Мнёвники Нижн.</td>\n",
       "      <td>Хорошево-мневники</td>\n",
       "      <td>Наезд на препятствие</td>\n",
       "      <td>01.01.2020</td>\n",
       "      <td>2020-01-01</td>\n",
       "      <td>1</td>\n",
       "      <td>Winter</td>\n",
       "      <td>1</td>\n",
       "      <td>1</td>\n",
       "      <td>1</td>\n",
       "      <td>0</td>\n",
       "      <td>Сведения отсутствуют</td>\n",
       "      <td>0.5</td>\n",
       "      <td>Пасмурно</td>\n",
       "      <td>Перегон (нет объектов на месте ДТП)</td>\n",
       "      <td>Остановка общественного транспорта</td>\n",
       "      <td>Несоответствие скорости конкретным условиям дв...</td>\n",
       "      <td>Нет нарушений</td>\n",
       "      <td>передний</td>\n",
       "      <td>Режим движения не изменялся</td>\n",
       "      <td>Мокрое</td>\n",
       "      <td>Технические неисправности отсутствуют</td>\n",
       "      <td>Нет</td>\n",
       "      <td>Северо-Западный административный округ</td>\n",
       "      <td>0.0</td>\n",
       "      <td>0</td>\n",
       "      <td>10</td>\n",
       "      <td>125.5</td>\n",
       "      <td>2.5</td>\n",
       "      <td>Скоростной режим</td>\n",
       "    </tr>\n",
       "    <tr>\n",
       "      <th>1</th>\n",
       "      <td>1</td>\n",
       "      <td>1</td>\n",
       "      <td>37.388953</td>\n",
       "      <td>55.811338</td>\n",
       "      <td>Московская кольцевая автомобильная дорога (МКА...</td>\n",
       "      <td>Строгино</td>\n",
       "      <td>Наезд на стоящее ТС</td>\n",
       "      <td>01.01.2020</td>\n",
       "      <td>2020-01-01</td>\n",
       "      <td>1</td>\n",
       "      <td>Winter</td>\n",
       "      <td>2</td>\n",
       "      <td>2</td>\n",
       "      <td>1</td>\n",
       "      <td>0</td>\n",
       "      <td>Наличие на дороге объектов, мешающих движению</td>\n",
       "      <td>1.0</td>\n",
       "      <td>Ясно</td>\n",
       "      <td>Перегон (нет объектов на месте ДТП)</td>\n",
       "      <td>Отсутствие в непосредственной близости объекто...</td>\n",
       "      <td>Несоответствие скорости конкретным условиям дв...</td>\n",
       "      <td>Нет нарушений</td>\n",
       "      <td>передний</td>\n",
       "      <td>Движение частично перекрыто</td>\n",
       "      <td>Сухое</td>\n",
       "      <td>Технические неисправности отсутствуют</td>\n",
       "      <td>Нет</td>\n",
       "      <td>Северо-Западный административный округ</td>\n",
       "      <td>165.0</td>\n",
       "      <td>0</td>\n",
       "      <td>10</td>\n",
       "      <td>391.0</td>\n",
       "      <td>3.5</td>\n",
       "      <td>Скоростной режим</td>\n",
       "    </tr>\n",
       "    <tr>\n",
       "      <th>2</th>\n",
       "      <td>2</td>\n",
       "      <td>2</td>\n",
       "      <td>37.623153</td>\n",
       "      <td>55.866787</td>\n",
       "      <td>Юрловский пр-д</td>\n",
       "      <td>Отрадное</td>\n",
       "      <td>Наезд на пешехода</td>\n",
       "      <td>01.01.2020</td>\n",
       "      <td>2020-01-01</td>\n",
       "      <td>1</td>\n",
       "      <td>Winter</td>\n",
       "      <td>1</td>\n",
       "      <td>2</td>\n",
       "      <td>1</td>\n",
       "      <td>0</td>\n",
       "      <td>Сужение проезжей части</td>\n",
       "      <td>1.0</td>\n",
       "      <td>Пасмурно</td>\n",
       "      <td>Внутридворовая территория</td>\n",
       "      <td>Административные здания</td>\n",
       "      <td>Несоблюдение очередности проезда</td>\n",
       "      <td>Другие нарушения ПДД водителем</td>\n",
       "      <td>праворукий</td>\n",
       "      <td>Режим движения не изменялся</td>\n",
       "      <td>Сухое</td>\n",
       "      <td>Технические неисправности отсутствуют</td>\n",
       "      <td>Нет</td>\n",
       "      <td>Северо-Восточный административный округ</td>\n",
       "      <td>0.0</td>\n",
       "      <td>0</td>\n",
       "      <td>15</td>\n",
       "      <td>131.0</td>\n",
       "      <td>3.5</td>\n",
       "      <td>Очередь проезда</td>\n",
       "    </tr>\n",
       "    <tr>\n",
       "      <th>3</th>\n",
       "      <td>3</td>\n",
       "      <td>3</td>\n",
       "      <td>37.588413</td>\n",
       "      <td>55.660576</td>\n",
       "      <td>ул Болотниковская</td>\n",
       "      <td>Зюзино</td>\n",
       "      <td>Столкновение</td>\n",
       "      <td>01.01.2020</td>\n",
       "      <td>2020-01-01</td>\n",
       "      <td>1</td>\n",
       "      <td>Winter</td>\n",
       "      <td>2</td>\n",
       "      <td>3</td>\n",
       "      <td>1</td>\n",
       "      <td>0</td>\n",
       "      <td>Сведения отсутствуют</td>\n",
       "      <td>0.5</td>\n",
       "      <td>Пасмурно</td>\n",
       "      <td>Регулируемый пешеходный переход</td>\n",
       "      <td>Остановка общественного транспорта</td>\n",
       "      <td>Несоблюдение очередности проезда</td>\n",
       "      <td>Нет нарушений</td>\n",
       "      <td>передний</td>\n",
       "      <td>Движение частично перекрыто</td>\n",
       "      <td>Мокрое</td>\n",
       "      <td>Технические неисправности отсутствуют</td>\n",
       "      <td>Нет</td>\n",
       "      <td>Юго-Западный административный округ</td>\n",
       "      <td>195.0</td>\n",
       "      <td>0</td>\n",
       "      <td>10</td>\n",
       "      <td>421.5</td>\n",
       "      <td>4.5</td>\n",
       "      <td>Очередь проезда</td>\n",
       "    </tr>\n",
       "    <tr>\n",
       "      <th>4</th>\n",
       "      <td>4</td>\n",
       "      <td>4</td>\n",
       "      <td>37.636467</td>\n",
       "      <td>55.805098</td>\n",
       "      <td>пр-кт Мира</td>\n",
       "      <td>Алексеевский</td>\n",
       "      <td>Падение чего-либо</td>\n",
       "      <td>01.01.2020</td>\n",
       "      <td>2020-01-01</td>\n",
       "      <td>1</td>\n",
       "      <td>Winter</td>\n",
       "      <td>1</td>\n",
       "      <td>2</td>\n",
       "      <td>1</td>\n",
       "      <td>0</td>\n",
       "      <td>Участок, контролируемый камерой</td>\n",
       "      <td>0.5</td>\n",
       "      <td>Ясно</td>\n",
       "      <td>Остановка общественного транспорта</td>\n",
       "      <td>Остановка общественного транспорта</td>\n",
       "      <td>Нарушение правил пользования общественным тран...</td>\n",
       "      <td>Нарушение правил перевозки людей</td>\n",
       "      <td>передний</td>\n",
       "      <td>Режим движения не изменялся</td>\n",
       "      <td>Сухое</td>\n",
       "      <td>Технические неисправности отсутствуют</td>\n",
       "      <td>Нет</td>\n",
       "      <td>Северо-Восточный административный округ</td>\n",
       "      <td>0.0</td>\n",
       "      <td>0</td>\n",
       "      <td>10</td>\n",
       "      <td>126.0</td>\n",
       "      <td>3.5</td>\n",
       "      <td>Общ. транспорт</td>\n",
       "    </tr>\n",
       "  </tbody>\n",
       "</table>\n",
       "</div>"
      ],
      "text/plain": [
       "   Unnamed: 0  index     coordL  ...   RITA FAIL  violations_brief\n",
       "0           0      0  37.464817  ...  125.5  2.5  Скоростной режим\n",
       "1           1      1  37.388953  ...  391.0  3.5  Скоростной режим\n",
       "2           2      2  37.623153  ...  131.0  3.5   Очередь проезда\n",
       "3           3      3  37.588413  ...  421.5  4.5   Очередь проезда\n",
       "4           4      4  37.636467  ...  126.0  3.5    Общ. транспорт\n",
       "\n",
       "[5 rows x 34 columns]"
      ]
     },
     "execution_count": 146,
     "metadata": {},
     "output_type": "execute_result"
    }
   ],
   "source": [
    "df1['violations_brief'] = [zamena(i) for i in df1['violations']]\n",
    "df1.head()"
   ]
  },
  {
   "cell_type": "code",
   "execution_count": null,
   "metadata": {
    "id": "fc6eGgj9ULC0"
   },
   "outputs": [],
   "source": [
    "df1.to_excel('violations_brief.xlsx', index=False)"
   ]
  },
  {
   "cell_type": "markdown",
   "metadata": {
    "id": "UxspdvjYE6TF"
   },
   "source": [
    "# регрессии и CatBoost"
   ]
  },
  {
   "cell_type": "code",
   "execution_count": 2,
   "metadata": {
    "colab": {
     "base_uri": "https://localhost:8080/"
    },
    "id": "wjGB1qN0E5ze",
    "outputId": "78f339de-3bd2-4e66-a84e-0a5fbb1a2afc"
   },
   "outputs": [
    {
     "name": "stdout",
     "output_type": "stream",
     "text": [
      "Requirement already satisfied: catboost in c:\\users\\user\\anaconda3\\lib\\site-packages (1.0.3)\n",
      "Requirement already satisfied: six in c:\\users\\user\\anaconda3\\lib\\site-packages (from catboost) (1.15.0)\n",
      "Requirement already satisfied: matplotlib in c:\\users\\user\\anaconda3\\lib\\site-packages (from catboost) (3.3.4)\n",
      "Requirement already satisfied: graphviz in c:\\users\\user\\anaconda3\\lib\\site-packages (from catboost) (0.18.2)\n",
      "Requirement already satisfied: scipy in c:\\users\\user\\anaconda3\\lib\\site-packages (from catboost) (1.6.2)\n",
      "Requirement already satisfied: numpy>=1.16.0 in c:\\users\\user\\anaconda3\\lib\\site-packages (from catboost) (1.20.1)\n",
      "Requirement already satisfied: pandas>=0.24.0 in c:\\users\\user\\anaconda3\\lib\\site-packages (from catboost) (1.2.4)\n",
      "Requirement already satisfied: plotly in c:\\users\\user\\anaconda3\\lib\\site-packages (from catboost) (5.4.0)\n",
      "Requirement already satisfied: python-dateutil>=2.7.3 in c:\\users\\user\\anaconda3\\lib\\site-packages (from pandas>=0.24.0->catboost) (2.8.1)\n",
      "Requirement already satisfied: pytz>=2017.3 in c:\\users\\user\\anaconda3\\lib\\site-packages (from pandas>=0.24.0->catboost) (2021.1)\n",
      "Requirement already satisfied: kiwisolver>=1.0.1 in c:\\users\\user\\anaconda3\\lib\\site-packages (from matplotlib->catboost) (1.3.1)\n",
      "Requirement already satisfied: pillow>=6.2.0 in c:\\users\\user\\anaconda3\\lib\\site-packages (from matplotlib->catboost) (8.2.0)\n",
      "Requirement already satisfied: pyparsing!=2.0.4,!=2.1.2,!=2.1.6,>=2.0.3 in c:\\users\\user\\anaconda3\\lib\\site-packages (from matplotlib->catboost) (2.4.7)\n",
      "Requirement already satisfied: cycler>=0.10 in c:\\users\\user\\anaconda3\\lib\\site-packages (from matplotlib->catboost) (0.10.0)\n",
      "Requirement already satisfied: tenacity>=6.2.0 in c:\\users\\user\\anaconda3\\lib\\site-packages (from plotly->catboost) (8.0.1)\n"
     ]
    }
   ],
   "source": [
    "!pip install catboost"
   ]
  },
  {
   "cell_type": "code",
   "execution_count": 3,
   "metadata": {
    "id": "ddS9Z1qaFOPR"
   },
   "outputs": [],
   "source": [
    "from catboost import CatBoostRegressor, Pool, cv"
   ]
  },
  {
   "cell_type": "code",
   "execution_count": 5,
   "metadata": {
    "colab": {
     "base_uri": "https://localhost:8080/",
     "height": 475
    },
    "id": "Zy-QyibjFRoC",
    "outputId": "dd4a317c-28f7-48e9-d44e-a4dd07b87593"
   },
   "outputs": [
    {
     "data": {
      "text/html": [
       "<div>\n",
       "<style scoped>\n",
       "    .dataframe tbody tr th:only-of-type {\n",
       "        vertical-align: middle;\n",
       "    }\n",
       "\n",
       "    .dataframe tbody tr th {\n",
       "        vertical-align: top;\n",
       "    }\n",
       "\n",
       "    .dataframe thead th {\n",
       "        text-align: right;\n",
       "    }\n",
       "</style>\n",
       "<table border=\"1\" class=\"dataframe\">\n",
       "  <thead>\n",
       "    <tr style=\"text-align: right;\">\n",
       "      <th></th>\n",
       "      <th>Unnamed: 0</th>\n",
       "      <th>Unnamed: 0.1</th>\n",
       "      <th>index</th>\n",
       "      <th>coordL</th>\n",
       "      <th>coordW</th>\n",
       "      <th>place</th>\n",
       "      <th>district</th>\n",
       "      <th>DTPType</th>\n",
       "      <th>date</th>\n",
       "      <th>real_date</th>\n",
       "      <th>...</th>\n",
       "      <th>pokritie</th>\n",
       "      <th>neispravnosti</th>\n",
       "      <th>safety_belt</th>\n",
       "      <th>sublocality</th>\n",
       "      <th>traffic_regime_index</th>\n",
       "      <th>neispravnosti_index</th>\n",
       "      <th>privod_index</th>\n",
       "      <th>RITA</th>\n",
       "      <th>FAIL</th>\n",
       "      <th>violations_brif</th>\n",
       "    </tr>\n",
       "  </thead>\n",
       "  <tbody>\n",
       "    <tr>\n",
       "      <th>0</th>\n",
       "      <td>0</td>\n",
       "      <td>0</td>\n",
       "      <td>0</td>\n",
       "      <td>37.464817</td>\n",
       "      <td>55.758116</td>\n",
       "      <td>ул Мнёвники Нижн.</td>\n",
       "      <td>Хорошево-мневники</td>\n",
       "      <td>Наезд на препятствие</td>\n",
       "      <td>01.01.2020</td>\n",
       "      <td>2020-01-01</td>\n",
       "      <td>...</td>\n",
       "      <td>Мокрое</td>\n",
       "      <td>Технические неисправности отсутствуют</td>\n",
       "      <td>Нет</td>\n",
       "      <td>Северо-Западный административный округ</td>\n",
       "      <td>0.0</td>\n",
       "      <td>0</td>\n",
       "      <td>10</td>\n",
       "      <td>125.5</td>\n",
       "      <td>2.5</td>\n",
       "      <td>Скоростной режим</td>\n",
       "    </tr>\n",
       "    <tr>\n",
       "      <th>1</th>\n",
       "      <td>1</td>\n",
       "      <td>1</td>\n",
       "      <td>1</td>\n",
       "      <td>37.388953</td>\n",
       "      <td>55.811338</td>\n",
       "      <td>Московская кольцевая автомобильная дорога (МКА...</td>\n",
       "      <td>Строгино</td>\n",
       "      <td>Наезд на стоящее ТС</td>\n",
       "      <td>01.01.2020</td>\n",
       "      <td>2020-01-01</td>\n",
       "      <td>...</td>\n",
       "      <td>Сухое</td>\n",
       "      <td>Технические неисправности отсутствуют</td>\n",
       "      <td>Нет</td>\n",
       "      <td>Северо-Западный административный округ</td>\n",
       "      <td>165.0</td>\n",
       "      <td>0</td>\n",
       "      <td>10</td>\n",
       "      <td>391.0</td>\n",
       "      <td>3.5</td>\n",
       "      <td>Скоростной режим</td>\n",
       "    </tr>\n",
       "    <tr>\n",
       "      <th>2</th>\n",
       "      <td>2</td>\n",
       "      <td>2</td>\n",
       "      <td>2</td>\n",
       "      <td>37.623153</td>\n",
       "      <td>55.866787</td>\n",
       "      <td>Юрловский пр-д</td>\n",
       "      <td>Отрадное</td>\n",
       "      <td>Наезд на пешехода</td>\n",
       "      <td>01.01.2020</td>\n",
       "      <td>2020-01-01</td>\n",
       "      <td>...</td>\n",
       "      <td>Сухое</td>\n",
       "      <td>Технические неисправности отсутствуют</td>\n",
       "      <td>Нет</td>\n",
       "      <td>Северо-Восточный административный округ</td>\n",
       "      <td>0.0</td>\n",
       "      <td>0</td>\n",
       "      <td>15</td>\n",
       "      <td>131.0</td>\n",
       "      <td>3.5</td>\n",
       "      <td>Очередь проезда</td>\n",
       "    </tr>\n",
       "    <tr>\n",
       "      <th>3</th>\n",
       "      <td>3</td>\n",
       "      <td>3</td>\n",
       "      <td>3</td>\n",
       "      <td>37.588413</td>\n",
       "      <td>55.660576</td>\n",
       "      <td>ул Болотниковская</td>\n",
       "      <td>Зюзино</td>\n",
       "      <td>Столкновение</td>\n",
       "      <td>01.01.2020</td>\n",
       "      <td>2020-01-01</td>\n",
       "      <td>...</td>\n",
       "      <td>Мокрое</td>\n",
       "      <td>Технические неисправности отсутствуют</td>\n",
       "      <td>Нет</td>\n",
       "      <td>Юго-Западный административный округ</td>\n",
       "      <td>195.0</td>\n",
       "      <td>0</td>\n",
       "      <td>10</td>\n",
       "      <td>421.5</td>\n",
       "      <td>4.5</td>\n",
       "      <td>Очередь проезда</td>\n",
       "    </tr>\n",
       "    <tr>\n",
       "      <th>4</th>\n",
       "      <td>4</td>\n",
       "      <td>4</td>\n",
       "      <td>4</td>\n",
       "      <td>37.636467</td>\n",
       "      <td>55.805098</td>\n",
       "      <td>пр-кт Мира</td>\n",
       "      <td>Алексеевский</td>\n",
       "      <td>Падение чего-либо</td>\n",
       "      <td>01.01.2020</td>\n",
       "      <td>2020-01-01</td>\n",
       "      <td>...</td>\n",
       "      <td>Сухое</td>\n",
       "      <td>Технические неисправности отсутствуют</td>\n",
       "      <td>Нет</td>\n",
       "      <td>Северо-Восточный административный округ</td>\n",
       "      <td>0.0</td>\n",
       "      <td>0</td>\n",
       "      <td>10</td>\n",
       "      <td>126.0</td>\n",
       "      <td>3.5</td>\n",
       "      <td>Общ. транспорт</td>\n",
       "    </tr>\n",
       "  </tbody>\n",
       "</table>\n",
       "<p>5 rows × 35 columns</p>\n",
       "</div>"
      ],
      "text/plain": [
       "   Unnamed: 0  Unnamed: 0.1  index     coordL     coordW  \\\n",
       "0           0             0      0  37.464817  55.758116   \n",
       "1           1             1      1  37.388953  55.811338   \n",
       "2           2             2      2  37.623153  55.866787   \n",
       "3           3             3      3  37.588413  55.660576   \n",
       "4           4             4      4  37.636467  55.805098   \n",
       "\n",
       "                                               place           district  \\\n",
       "0                                  ул Мнёвники Нижн.  Хорошево-мневники   \n",
       "1  Московская кольцевая автомобильная дорога (МКА...           Строгино   \n",
       "2                                     Юрловский пр-д           Отрадное   \n",
       "3                                  ул Болотниковская             Зюзино   \n",
       "4                                         пр-кт Мира       Алексеевский   \n",
       "\n",
       "                DTPType        date  real_date  ...  pokritie  \\\n",
       "0  Наезд на препятствие  01.01.2020 2020-01-01  ...    Мокрое   \n",
       "1   Наезд на стоящее ТС  01.01.2020 2020-01-01  ...     Сухое   \n",
       "2     Наезд на пешехода  01.01.2020 2020-01-01  ...     Сухое   \n",
       "3          Столкновение  01.01.2020 2020-01-01  ...    Мокрое   \n",
       "4     Падение чего-либо  01.01.2020 2020-01-01  ...     Сухое   \n",
       "\n",
       "                           neispravnosti  safety_belt  \\\n",
       "0  Технические неисправности отсутствуют          Нет   \n",
       "1  Технические неисправности отсутствуют          Нет   \n",
       "2  Технические неисправности отсутствуют          Нет   \n",
       "3  Технические неисправности отсутствуют          Нет   \n",
       "4  Технические неисправности отсутствуют          Нет   \n",
       "\n",
       "                               sublocality  traffic_regime_index  \\\n",
       "0   Северо-Западный административный округ                   0.0   \n",
       "1   Северо-Западный административный округ                 165.0   \n",
       "2  Северо-Восточный административный округ                   0.0   \n",
       "3      Юго-Западный административный округ                 195.0   \n",
       "4  Северо-Восточный административный округ                   0.0   \n",
       "\n",
       "   neispravnosti_index privod_index   RITA FAIL   violations_brif  \n",
       "0                    0           10  125.5  2.5  Скоростной режим  \n",
       "1                    0           10  391.0  3.5  Скоростной режим  \n",
       "2                    0           15  131.0  3.5   Очередь проезда  \n",
       "3                    0           10  421.5  4.5   Очередь проезда  \n",
       "4                    0           10  126.0  3.5    Общ. транспорт  \n",
       "\n",
       "[5 rows x 35 columns]"
      ]
     },
     "execution_count": 5,
     "metadata": {},
     "output_type": "execute_result"
    }
   ],
   "source": [
    "viol = pd.read_excel('violations_brif.xlsx')\n",
    "viol.head()"
   ]
  },
  {
   "cell_type": "code",
   "execution_count": 34,
   "metadata": {
    "id": "sxIc0GzIHFzI"
   },
   "outputs": [],
   "source": [
    "y = viol.RITA\n",
    "x = viol[['violations_brif', 'DTPType', 'district', 'month', 'season', 'closeObjects']]"
   ]
  },
  {
   "cell_type": "code",
   "execution_count": 9,
   "metadata": {},
   "outputs": [
    {
     "data": {
      "text/plain": [
       "0    125.5\n",
       "1    391.0\n",
       "2    131.0\n",
       "3    421.5\n",
       "4    126.0\n",
       "5    414.0\n",
       "6    116.0\n",
       "7    110.5\n",
       "8    126.0\n",
       "9    353.5\n",
       "Name: RITA, dtype: float64"
      ]
     },
     "execution_count": 9,
     "metadata": {},
     "output_type": "execute_result"
    }
   ],
   "source": [
    "y.head(10)"
   ]
  },
  {
   "cell_type": "code",
   "execution_count": 10,
   "metadata": {
    "id": "yFRcvyo5It1u"
   },
   "outputs": [],
   "source": [
    "params = {\"iterations\": 300,\n",
    "          \"depth\": 3,\n",
    "          \"loss_function\": \"RMSE\",\n",
    "          \"verbose\": False}"
   ]
  },
  {
   "cell_type": "code",
   "execution_count": 12,
   "metadata": {
    "id": "NGYw7l7QIfpP"
   },
   "outputs": [],
   "source": [
    "cv_dataset = Pool(data=x, label=y, cat_features=['violations_brif', 'DTPType', 'district', 'season', 'closeObjects'])"
   ]
  },
  {
   "cell_type": "code",
   "execution_count": 13,
   "metadata": {
    "colab": {
     "base_uri": "https://localhost:8080/",
     "height": 437,
     "referenced_widgets": [
      "16e2aa47b31441b6973f601628e24983"
     ]
    },
    "id": "8JkWElmaJwev",
    "outputId": "20007fb4-b161-4224-d005-0f6aaf64e2be"
   },
   "outputs": [
    {
     "data": {
      "application/vnd.jupyter.widget-view+json": {
       "model_id": "c79c1ec374b6495dbe58634897b3c57f",
       "version_major": 2,
       "version_minor": 0
      },
      "text/plain": [
       "MetricVisualizer(layout=Layout(align_self='stretch', height='500px'))"
      ]
     },
     "metadata": {},
     "output_type": "display_data"
    },
    {
     "name": "stdout",
     "output_type": "stream",
     "text": [
      "Training on fold [0/5]\n",
      "\n",
      "bestTest = 194.779167\n",
      "bestIteration = 295\n",
      "\n",
      "Training on fold [1/5]\n",
      "\n",
      "bestTest = 146.9700557\n",
      "bestIteration = 299\n",
      "\n",
      "Training on fold [2/5]\n",
      "\n",
      "bestTest = 225.7359315\n",
      "bestIteration = 271\n",
      "\n",
      "Training on fold [3/5]\n",
      "\n",
      "bestTest = 154.6428251\n",
      "bestIteration = 259\n",
      "\n",
      "Training on fold [4/5]\n",
      "\n",
      "bestTest = 175.6633161\n",
      "bestIteration = 266\n",
      "\n"
     ]
    }
   ],
   "source": [
    "model = cv(cv_dataset, params=params, fold_count=5, plot=True)"
   ]
  },
  {
   "cell_type": "code",
   "execution_count": 14,
   "metadata": {
    "colab": {
     "base_uri": "https://localhost:8080/",
     "height": 417
    },
    "id": "WulDtcT1LYr2",
    "outputId": "1ee2c4fe-ff74-46ca-c465-2f2dc184b50b"
   },
   "outputs": [
    {
     "data": {
      "text/html": [
       "<div>\n",
       "<style scoped>\n",
       "    .dataframe tbody tr th:only-of-type {\n",
       "        vertical-align: middle;\n",
       "    }\n",
       "\n",
       "    .dataframe tbody tr th {\n",
       "        vertical-align: top;\n",
       "    }\n",
       "\n",
       "    .dataframe thead th {\n",
       "        text-align: right;\n",
       "    }\n",
       "</style>\n",
       "<table border=\"1\" class=\"dataframe\">\n",
       "  <thead>\n",
       "    <tr style=\"text-align: right;\">\n",
       "      <th></th>\n",
       "      <th>iterations</th>\n",
       "      <th>test-RMSE-mean</th>\n",
       "      <th>test-RMSE-std</th>\n",
       "      <th>train-RMSE-mean</th>\n",
       "      <th>train-RMSE-std</th>\n",
       "    </tr>\n",
       "  </thead>\n",
       "  <tbody>\n",
       "    <tr>\n",
       "      <th>0</th>\n",
       "      <td>0</td>\n",
       "      <td>326.343593</td>\n",
       "      <td>18.476553</td>\n",
       "      <td>326.735662</td>\n",
       "      <td>4.653933</td>\n",
       "    </tr>\n",
       "    <tr>\n",
       "      <th>1</th>\n",
       "      <td>1</td>\n",
       "      <td>319.787179</td>\n",
       "      <td>18.809603</td>\n",
       "      <td>320.185092</td>\n",
       "      <td>4.734632</td>\n",
       "    </tr>\n",
       "    <tr>\n",
       "      <th>2</th>\n",
       "      <td>2</td>\n",
       "      <td>313.454739</td>\n",
       "      <td>19.159768</td>\n",
       "      <td>313.893873</td>\n",
       "      <td>4.808720</td>\n",
       "    </tr>\n",
       "    <tr>\n",
       "      <th>3</th>\n",
       "      <td>3</td>\n",
       "      <td>307.411649</td>\n",
       "      <td>19.501635</td>\n",
       "      <td>307.862413</td>\n",
       "      <td>4.896732</td>\n",
       "    </tr>\n",
       "    <tr>\n",
       "      <th>4</th>\n",
       "      <td>4</td>\n",
       "      <td>301.603773</td>\n",
       "      <td>19.875844</td>\n",
       "      <td>302.102256</td>\n",
       "      <td>4.955722</td>\n",
       "    </tr>\n",
       "    <tr>\n",
       "      <th>...</th>\n",
       "      <td>...</td>\n",
       "      <td>...</td>\n",
       "      <td>...</td>\n",
       "      <td>...</td>\n",
       "      <td>...</td>\n",
       "    </tr>\n",
       "    <tr>\n",
       "      <th>295</th>\n",
       "      <td>295</td>\n",
       "      <td>179.594069</td>\n",
       "      <td>31.860527</td>\n",
       "      <td>180.292624</td>\n",
       "      <td>7.765291</td>\n",
       "    </tr>\n",
       "    <tr>\n",
       "      <th>296</th>\n",
       "      <td>296</td>\n",
       "      <td>179.590628</td>\n",
       "      <td>31.866149</td>\n",
       "      <td>180.283112</td>\n",
       "      <td>7.764705</td>\n",
       "    </tr>\n",
       "    <tr>\n",
       "      <th>297</th>\n",
       "      <td>297</td>\n",
       "      <td>179.590486</td>\n",
       "      <td>31.864595</td>\n",
       "      <td>180.276385</td>\n",
       "      <td>7.764871</td>\n",
       "    </tr>\n",
       "    <tr>\n",
       "      <th>298</th>\n",
       "      <td>298</td>\n",
       "      <td>179.591756</td>\n",
       "      <td>31.861725</td>\n",
       "      <td>180.266153</td>\n",
       "      <td>7.759472</td>\n",
       "    </tr>\n",
       "    <tr>\n",
       "      <th>299</th>\n",
       "      <td>299</td>\n",
       "      <td>179.590983</td>\n",
       "      <td>31.861776</td>\n",
       "      <td>180.261953</td>\n",
       "      <td>7.758007</td>\n",
       "    </tr>\n",
       "  </tbody>\n",
       "</table>\n",
       "<p>300 rows × 5 columns</p>\n",
       "</div>"
      ],
      "text/plain": [
       "     iterations  test-RMSE-mean  test-RMSE-std  train-RMSE-mean  \\\n",
       "0             0      326.343593      18.476553       326.735662   \n",
       "1             1      319.787179      18.809603       320.185092   \n",
       "2             2      313.454739      19.159768       313.893873   \n",
       "3             3      307.411649      19.501635       307.862413   \n",
       "4             4      301.603773      19.875844       302.102256   \n",
       "..          ...             ...            ...              ...   \n",
       "295         295      179.594069      31.860527       180.292624   \n",
       "296         296      179.590628      31.866149       180.283112   \n",
       "297         297      179.590486      31.864595       180.276385   \n",
       "298         298      179.591756      31.861725       180.266153   \n",
       "299         299      179.590983      31.861776       180.261953   \n",
       "\n",
       "     train-RMSE-std  \n",
       "0          4.653933  \n",
       "1          4.734632  \n",
       "2          4.808720  \n",
       "3          4.896732  \n",
       "4          4.955722  \n",
       "..              ...  \n",
       "295        7.765291  \n",
       "296        7.764705  \n",
       "297        7.764871  \n",
       "298        7.759472  \n",
       "299        7.758007  \n",
       "\n",
       "[300 rows x 5 columns]"
      ]
     },
     "execution_count": 14,
     "metadata": {},
     "output_type": "execute_result"
    }
   ],
   "source": [
    "model"
   ]
  },
  {
   "cell_type": "code",
   "execution_count": 20,
   "metadata": {
    "colab": {
     "base_uri": "https://localhost:8080/",
     "height": 279
    },
    "id": "fyIHxlRWJWm_",
    "outputId": "496a3493-f309-45c3-d813-4a336d2899db"
   },
   "outputs": [],
   "source": [
    "cbr = CatBoostRegressor(random_seed=42)"
   ]
  },
  {
   "cell_type": "code",
   "execution_count": 35,
   "metadata": {},
   "outputs": [],
   "source": [
    "x = Pool(x, label=y, cat_features=['violations_brif', 'DTPType', 'district', 'season', 'closeObjects'])"
   ]
  },
  {
   "cell_type": "code",
   "execution_count": 19,
   "metadata": {},
   "outputs": [
    {
     "name": "stdout",
     "output_type": "stream",
     "text": [
      "0:\tlearn: 194.8840437\ttotal: 36.7ms\tremaining: 22s\n",
      "1:\tlearn: 192.9192897\ttotal: 83.4ms\tremaining: 24.9s\n",
      "2:\tlearn: 191.0695393\ttotal: 118ms\tremaining: 23.4s\n",
      "3:\tlearn: 189.7870433\ttotal: 138ms\tremaining: 20.6s\n",
      "4:\tlearn: 188.6581484\ttotal: 165ms\tremaining: 19.7s\n",
      "5:\tlearn: 187.3963110\ttotal: 209ms\tremaining: 20.7s\n",
      "6:\tlearn: 186.3958555\ttotal: 241ms\tremaining: 20.4s\n",
      "7:\tlearn: 185.9102751\ttotal: 254ms\tremaining: 18.8s\n",
      "8:\tlearn: 185.3025385\ttotal: 287ms\tremaining: 18.8s\n",
      "9:\tlearn: 184.8655197\ttotal: 307ms\tremaining: 18.1s\n",
      "10:\tlearn: 184.2165938\ttotal: 350ms\tremaining: 18.7s\n",
      "11:\tlearn: 183.7827828\ttotal: 384ms\tremaining: 18.8s\n",
      "12:\tlearn: 183.3559628\ttotal: 418ms\tremaining: 18.9s\n",
      "13:\tlearn: 182.8428094\ttotal: 454ms\tremaining: 19s\n",
      "14:\tlearn: 182.5507520\ttotal: 506ms\tremaining: 19.7s\n",
      "15:\tlearn: 182.1782496\ttotal: 540ms\tremaining: 19.7s\n",
      "16:\tlearn: 182.0451701\ttotal: 556ms\tremaining: 19.1s\n",
      "17:\tlearn: 181.8982769\ttotal: 614ms\tremaining: 19.8s\n",
      "18:\tlearn: 181.8409278\ttotal: 624ms\tremaining: 19.1s\n",
      "19:\tlearn: 181.7833542\ttotal: 646ms\tremaining: 18.7s\n",
      "20:\tlearn: 181.4678871\ttotal: 683ms\tremaining: 18.8s\n",
      "21:\tlearn: 181.3447900\ttotal: 715ms\tremaining: 18.8s\n",
      "22:\tlearn: 181.1987632\ttotal: 760ms\tremaining: 19.1s\n",
      "23:\tlearn: 181.0700401\ttotal: 808ms\tremaining: 19.4s\n",
      "24:\tlearn: 180.7679578\ttotal: 872ms\tremaining: 20s\n",
      "25:\tlearn: 180.5660052\ttotal: 919ms\tremaining: 20.3s\n",
      "26:\tlearn: 180.3659122\ttotal: 966ms\tremaining: 20.5s\n",
      "27:\tlearn: 180.2049065\ttotal: 1.01s\tremaining: 20.7s\n",
      "28:\tlearn: 180.0224233\ttotal: 1.06s\tremaining: 20.9s\n",
      "29:\tlearn: 179.7915135\ttotal: 1.1s\tremaining: 21s\n",
      "30:\tlearn: 179.6789367\ttotal: 1.14s\tremaining: 21s\n",
      "31:\tlearn: 179.4928248\ttotal: 1.19s\tremaining: 21.2s\n",
      "32:\tlearn: 179.3675613\ttotal: 1.25s\tremaining: 21.5s\n",
      "33:\tlearn: 179.1648645\ttotal: 1.3s\tremaining: 21.7s\n",
      "34:\tlearn: 179.1094416\ttotal: 1.35s\tremaining: 21.8s\n",
      "35:\tlearn: 179.0585808\ttotal: 1.39s\tremaining: 21.8s\n",
      "36:\tlearn: 178.8523903\ttotal: 1.46s\tremaining: 22.2s\n",
      "37:\tlearn: 178.8334395\ttotal: 1.49s\tremaining: 22.1s\n",
      "38:\tlearn: 178.7978916\ttotal: 1.53s\tremaining: 22s\n",
      "39:\tlearn: 178.7231503\ttotal: 1.56s\tremaining: 21.9s\n",
      "40:\tlearn: 178.6318611\ttotal: 1.6s\tremaining: 21.8s\n",
      "41:\tlearn: 178.5122579\ttotal: 1.63s\tremaining: 21.7s\n",
      "42:\tlearn: 178.4920869\ttotal: 1.67s\tremaining: 21.6s\n",
      "43:\tlearn: 178.3696601\ttotal: 1.71s\tremaining: 21.6s\n",
      "44:\tlearn: 178.2751355\ttotal: 1.74s\tremaining: 21.5s\n",
      "45:\tlearn: 178.2391833\ttotal: 1.77s\tremaining: 21.3s\n",
      "46:\tlearn: 178.1793032\ttotal: 1.81s\tremaining: 21.4s\n",
      "47:\tlearn: 178.0828693\ttotal: 1.85s\tremaining: 21.2s\n",
      "48:\tlearn: 178.0365467\ttotal: 1.88s\tremaining: 21.2s\n",
      "49:\tlearn: 177.9870383\ttotal: 1.92s\tremaining: 21.1s\n",
      "50:\tlearn: 177.9021681\ttotal: 1.95s\tremaining: 21s\n",
      "51:\tlearn: 177.8081255\ttotal: 1.98s\tremaining: 20.9s\n",
      "52:\tlearn: 177.5786913\ttotal: 2.01s\tremaining: 20.8s\n",
      "53:\tlearn: 177.5217199\ttotal: 2.07s\tremaining: 20.9s\n",
      "54:\tlearn: 177.5137486\ttotal: 2.1s\tremaining: 20.8s\n",
      "55:\tlearn: 177.4543905\ttotal: 2.13s\tremaining: 20.7s\n",
      "56:\tlearn: 177.3920202\ttotal: 2.18s\tremaining: 20.8s\n",
      "57:\tlearn: 177.3406725\ttotal: 2.21s\tremaining: 20.7s\n",
      "58:\tlearn: 177.2659696\ttotal: 2.25s\tremaining: 20.6s\n",
      "59:\tlearn: 177.1833711\ttotal: 2.28s\tremaining: 20.5s\n",
      "60:\tlearn: 177.1496752\ttotal: 2.31s\tremaining: 20.4s\n",
      "61:\tlearn: 177.0979695\ttotal: 2.35s\tremaining: 20.4s\n",
      "62:\tlearn: 177.0886254\ttotal: 2.38s\tremaining: 20.3s\n",
      "63:\tlearn: 176.8789687\ttotal: 2.42s\tremaining: 20.3s\n",
      "64:\tlearn: 176.8556650\ttotal: 2.48s\tremaining: 20.4s\n",
      "65:\tlearn: 176.7958979\ttotal: 2.51s\tremaining: 20.3s\n",
      "66:\tlearn: 176.7386995\ttotal: 2.55s\tremaining: 20.3s\n",
      "67:\tlearn: 176.7068715\ttotal: 2.59s\tremaining: 20.2s\n",
      "68:\tlearn: 176.6841125\ttotal: 2.62s\tremaining: 20.2s\n",
      "69:\tlearn: 176.5772106\ttotal: 2.66s\tremaining: 20.2s\n",
      "70:\tlearn: 176.5206416\ttotal: 2.7s\tremaining: 20.1s\n",
      "71:\tlearn: 176.5034214\ttotal: 2.73s\tremaining: 20s\n",
      "72:\tlearn: 176.4105200\ttotal: 2.77s\tremaining: 20s\n",
      "73:\tlearn: 176.3575861\ttotal: 2.81s\tremaining: 20s\n",
      "74:\tlearn: 176.3274253\ttotal: 2.85s\tremaining: 20s\n",
      "75:\tlearn: 176.1666466\ttotal: 2.89s\tremaining: 19.9s\n",
      "76:\tlearn: 176.1420718\ttotal: 2.93s\tremaining: 19.9s\n",
      "77:\tlearn: 176.0936174\ttotal: 2.98s\tremaining: 20s\n",
      "78:\tlearn: 176.0664967\ttotal: 3.02s\tremaining: 19.9s\n",
      "79:\tlearn: 175.9049435\ttotal: 3.06s\tremaining: 19.9s\n",
      "80:\tlearn: 175.8599481\ttotal: 3.09s\tremaining: 19.8s\n",
      "81:\tlearn: 175.8184789\ttotal: 3.12s\tremaining: 19.7s\n",
      "82:\tlearn: 175.7866401\ttotal: 3.15s\tremaining: 19.6s\n",
      "83:\tlearn: 175.7677089\ttotal: 3.17s\tremaining: 19.5s\n",
      "84:\tlearn: 175.7282396\ttotal: 3.21s\tremaining: 19.5s\n",
      "85:\tlearn: 175.4333306\ttotal: 3.25s\tremaining: 19.4s\n",
      "86:\tlearn: 175.3676767\ttotal: 3.28s\tremaining: 19.4s\n",
      "87:\tlearn: 175.3592540\ttotal: 3.33s\tremaining: 19.4s\n",
      "88:\tlearn: 175.2734660\ttotal: 3.36s\tremaining: 19.3s\n",
      "89:\tlearn: 175.2040500\ttotal: 3.41s\tremaining: 19.3s\n",
      "90:\tlearn: 175.1777175\ttotal: 3.45s\tremaining: 19.3s\n",
      "91:\tlearn: 175.1527880\ttotal: 3.49s\tremaining: 19.3s\n",
      "92:\tlearn: 175.0950557\ttotal: 3.55s\tremaining: 19.3s\n",
      "93:\tlearn: 174.8947107\ttotal: 3.58s\tremaining: 19.3s\n",
      "94:\tlearn: 174.8679198\ttotal: 3.63s\tremaining: 19.3s\n",
      "95:\tlearn: 174.8229742\ttotal: 3.67s\tremaining: 19.3s\n",
      "96:\tlearn: 174.7859511\ttotal: 3.72s\tremaining: 19.3s\n",
      "97:\tlearn: 174.7103929\ttotal: 3.76s\tremaining: 19.2s\n",
      "98:\tlearn: 174.6538839\ttotal: 3.79s\tremaining: 19.2s\n",
      "99:\tlearn: 174.4161156\ttotal: 3.83s\tremaining: 19.1s\n",
      "100:\tlearn: 174.3572343\ttotal: 3.86s\tremaining: 19.1s\n",
      "101:\tlearn: 174.3424486\ttotal: 3.91s\tremaining: 19.1s\n",
      "102:\tlearn: 174.3090368\ttotal: 3.94s\tremaining: 19s\n",
      "103:\tlearn: 174.3010150\ttotal: 3.98s\tremaining: 19s\n",
      "104:\tlearn: 174.2546918\ttotal: 4.03s\tremaining: 19s\n",
      "105:\tlearn: 174.0479410\ttotal: 4.07s\tremaining: 18.9s\n",
      "106:\tlearn: 173.9758465\ttotal: 4.11s\tremaining: 18.9s\n",
      "107:\tlearn: 173.8022429\ttotal: 4.16s\tremaining: 18.9s\n",
      "108:\tlearn: 173.7408098\ttotal: 4.2s\tremaining: 18.9s\n",
      "109:\tlearn: 173.5411781\ttotal: 4.25s\tremaining: 18.9s\n",
      "110:\tlearn: 173.4317661\ttotal: 4.3s\tremaining: 18.9s\n",
      "111:\tlearn: 173.4072119\ttotal: 4.34s\tremaining: 18.9s\n",
      "112:\tlearn: 173.1512553\ttotal: 4.39s\tremaining: 18.9s\n",
      "113:\tlearn: 173.0736630\ttotal: 4.42s\tremaining: 18.9s\n",
      "114:\tlearn: 173.0425801\ttotal: 4.46s\tremaining: 18.8s\n",
      "115:\tlearn: 173.0269276\ttotal: 4.5s\tremaining: 18.8s\n",
      "116:\tlearn: 172.9824031\ttotal: 4.53s\tremaining: 18.7s\n",
      "117:\tlearn: 172.9687304\ttotal: 4.57s\tremaining: 18.7s\n",
      "118:\tlearn: 172.9079104\ttotal: 4.61s\tremaining: 18.6s\n",
      "119:\tlearn: 172.8164079\ttotal: 4.66s\tremaining: 18.6s\n",
      "120:\tlearn: 172.7726906\ttotal: 4.69s\tremaining: 18.6s\n",
      "121:\tlearn: 172.6999147\ttotal: 4.72s\tremaining: 18.5s\n",
      "122:\tlearn: 172.6871796\ttotal: 4.76s\tremaining: 18.4s\n",
      "123:\tlearn: 172.6080992\ttotal: 4.8s\tremaining: 18.4s\n",
      "124:\tlearn: 172.5045940\ttotal: 4.85s\tremaining: 18.4s\n",
      "125:\tlearn: 172.4389917\ttotal: 4.89s\tremaining: 18.4s\n",
      "126:\tlearn: 172.4242448\ttotal: 4.93s\tremaining: 18.4s\n",
      "127:\tlearn: 172.4118924\ttotal: 4.98s\tremaining: 18.3s\n",
      "128:\tlearn: 172.3982802\ttotal: 5.02s\tremaining: 18.3s\n",
      "129:\tlearn: 172.3748762\ttotal: 5.07s\tremaining: 18.3s\n",
      "130:\tlearn: 172.2970270\ttotal: 5.1s\tremaining: 18.3s\n",
      "131:\tlearn: 172.2868109\ttotal: 5.15s\tremaining: 18.3s\n",
      "132:\tlearn: 172.2731188\ttotal: 5.2s\tremaining: 18.3s\n",
      "133:\tlearn: 172.2152231\ttotal: 5.26s\tremaining: 18.3s\n",
      "134:\tlearn: 172.1513416\ttotal: 5.31s\tremaining: 18.3s\n",
      "135:\tlearn: 172.1441596\ttotal: 5.36s\tremaining: 18.3s\n",
      "136:\tlearn: 172.0679545\ttotal: 5.39s\tremaining: 18.2s\n",
      "137:\tlearn: 172.0605511\ttotal: 5.44s\tremaining: 18.2s\n",
      "138:\tlearn: 171.9817099\ttotal: 5.47s\tremaining: 18.1s\n",
      "139:\tlearn: 171.9276700\ttotal: 5.53s\tremaining: 18.2s\n",
      "140:\tlearn: 171.7384344\ttotal: 5.56s\tremaining: 18.1s\n",
      "141:\tlearn: 171.6673830\ttotal: 5.6s\tremaining: 18.1s\n",
      "142:\tlearn: 171.5267517\ttotal: 5.64s\tremaining: 18s\n",
      "143:\tlearn: 171.4933089\ttotal: 5.69s\tremaining: 18s\n",
      "144:\tlearn: 171.4124302\ttotal: 5.74s\tremaining: 18s\n",
      "145:\tlearn: 171.3816045\ttotal: 5.78s\tremaining: 18s\n",
      "146:\tlearn: 171.2689542\ttotal: 5.82s\tremaining: 17.9s\n",
      "147:\tlearn: 171.2428190\ttotal: 5.87s\tremaining: 17.9s\n",
      "148:\tlearn: 171.2227626\ttotal: 5.91s\tremaining: 17.9s\n",
      "149:\tlearn: 171.1328624\ttotal: 5.95s\tremaining: 17.9s\n",
      "150:\tlearn: 171.1211252\ttotal: 5.99s\tremaining: 17.8s\n",
      "151:\tlearn: 170.9646374\ttotal: 6.03s\tremaining: 17.8s\n",
      "152:\tlearn: 170.8976786\ttotal: 6.08s\tremaining: 17.8s\n",
      "153:\tlearn: 170.8770586\ttotal: 6.12s\tremaining: 17.7s\n",
      "154:\tlearn: 170.6811298\ttotal: 6.16s\tremaining: 17.7s\n"
     ]
    },
    {
     "name": "stdout",
     "output_type": "stream",
     "text": [
      "155:\tlearn: 170.6349410\ttotal: 6.2s\tremaining: 17.6s\n",
      "156:\tlearn: 170.4737939\ttotal: 6.25s\tremaining: 17.6s\n",
      "157:\tlearn: 170.4669420\ttotal: 6.29s\tremaining: 17.6s\n",
      "158:\tlearn: 170.4221404\ttotal: 6.32s\tremaining: 17.5s\n",
      "159:\tlearn: 170.4165003\ttotal: 6.35s\tremaining: 17.5s\n",
      "160:\tlearn: 170.3619914\ttotal: 6.39s\tremaining: 17.4s\n",
      "161:\tlearn: 170.3057183\ttotal: 6.44s\tremaining: 17.4s\n",
      "162:\tlearn: 170.2848796\ttotal: 6.49s\tremaining: 17.4s\n",
      "163:\tlearn: 170.2614396\ttotal: 6.53s\tremaining: 17.4s\n",
      "164:\tlearn: 170.2435604\ttotal: 6.57s\tremaining: 17.3s\n",
      "165:\tlearn: 170.2150437\ttotal: 6.61s\tremaining: 17.3s\n",
      "166:\tlearn: 170.0787323\ttotal: 6.67s\tremaining: 17.3s\n",
      "167:\tlearn: 170.0413646\ttotal: 6.71s\tremaining: 17.2s\n",
      "168:\tlearn: 170.0240437\ttotal: 6.74s\tremaining: 17.2s\n",
      "169:\tlearn: 169.9617922\ttotal: 6.77s\tremaining: 17.1s\n",
      "170:\tlearn: 169.9055226\ttotal: 6.81s\tremaining: 17.1s\n",
      "171:\tlearn: 169.7755809\ttotal: 6.85s\tremaining: 17s\n",
      "172:\tlearn: 169.6887835\ttotal: 6.88s\tremaining: 17s\n",
      "173:\tlearn: 169.5610287\ttotal: 6.92s\tremaining: 16.9s\n",
      "174:\tlearn: 169.5230273\ttotal: 6.95s\tremaining: 16.9s\n",
      "175:\tlearn: 169.4834290\ttotal: 6.99s\tremaining: 16.8s\n",
      "176:\tlearn: 169.3597197\ttotal: 7.03s\tremaining: 16.8s\n",
      "177:\tlearn: 169.3187052\ttotal: 7.07s\tremaining: 16.8s\n",
      "178:\tlearn: 169.2890718\ttotal: 7.12s\tremaining: 16.8s\n",
      "179:\tlearn: 169.2426705\ttotal: 7.16s\tremaining: 16.7s\n",
      "180:\tlearn: 169.2204595\ttotal: 7.19s\tremaining: 16.6s\n",
      "181:\tlearn: 169.1795177\ttotal: 7.23s\tremaining: 16.6s\n",
      "182:\tlearn: 169.1110662\ttotal: 7.28s\tremaining: 16.6s\n",
      "183:\tlearn: 169.0880547\ttotal: 7.32s\tremaining: 16.5s\n",
      "184:\tlearn: 169.0046078\ttotal: 7.37s\tremaining: 16.5s\n",
      "185:\tlearn: 168.7468189\ttotal: 7.41s\tremaining: 16.5s\n",
      "186:\tlearn: 168.6946321\ttotal: 7.45s\tremaining: 16.5s\n",
      "187:\tlearn: 168.6897886\ttotal: 7.48s\tremaining: 16.4s\n",
      "188:\tlearn: 168.5761668\ttotal: 7.51s\tremaining: 16.3s\n",
      "189:\tlearn: 168.5179554\ttotal: 7.56s\tremaining: 16.3s\n",
      "190:\tlearn: 168.4903793\ttotal: 7.59s\tremaining: 16.3s\n",
      "191:\tlearn: 168.4671084\ttotal: 7.64s\tremaining: 16.2s\n",
      "192:\tlearn: 168.4407860\ttotal: 7.68s\tremaining: 16.2s\n",
      "193:\tlearn: 168.4259854\ttotal: 7.72s\tremaining: 16.2s\n",
      "194:\tlearn: 168.4132214\ttotal: 7.77s\tremaining: 16.1s\n",
      "195:\tlearn: 168.3034034\ttotal: 7.82s\tremaining: 16.1s\n",
      "196:\tlearn: 168.2348087\ttotal: 7.87s\tremaining: 16.1s\n",
      "197:\tlearn: 168.1060905\ttotal: 7.9s\tremaining: 16s\n",
      "198:\tlearn: 168.0356057\ttotal: 7.94s\tremaining: 16s\n",
      "199:\tlearn: 167.9867860\ttotal: 7.98s\tremaining: 16s\n",
      "200:\tlearn: 167.9424614\ttotal: 8.02s\tremaining: 15.9s\n",
      "201:\tlearn: 167.8755264\ttotal: 8.05s\tremaining: 15.9s\n",
      "202:\tlearn: 167.8686692\ttotal: 8.09s\tremaining: 15.8s\n",
      "203:\tlearn: 167.7889005\ttotal: 8.13s\tremaining: 15.8s\n",
      "204:\tlearn: 167.7591323\ttotal: 8.16s\tremaining: 15.7s\n",
      "205:\tlearn: 167.5765767\ttotal: 8.2s\tremaining: 15.7s\n",
      "206:\tlearn: 167.5573526\ttotal: 8.24s\tremaining: 15.6s\n",
      "207:\tlearn: 167.4989246\ttotal: 8.27s\tremaining: 15.6s\n",
      "208:\tlearn: 167.4383883\ttotal: 8.3s\tremaining: 15.5s\n",
      "209:\tlearn: 167.4140058\ttotal: 8.34s\tremaining: 15.5s\n",
      "210:\tlearn: 167.3812943\ttotal: 8.37s\tremaining: 15.4s\n",
      "211:\tlearn: 167.3417095\ttotal: 8.41s\tremaining: 15.4s\n",
      "212:\tlearn: 167.2808818\ttotal: 8.44s\tremaining: 15.3s\n",
      "213:\tlearn: 167.1520522\ttotal: 8.49s\tremaining: 15.3s\n",
      "214:\tlearn: 167.1131647\ttotal: 8.53s\tremaining: 15.3s\n",
      "215:\tlearn: 167.0309076\ttotal: 8.57s\tremaining: 15.2s\n",
      "216:\tlearn: 166.8895659\ttotal: 8.61s\tremaining: 15.2s\n",
      "217:\tlearn: 166.8056099\ttotal: 8.65s\tremaining: 15.2s\n",
      "218:\tlearn: 166.7589423\ttotal: 8.69s\tremaining: 15.1s\n",
      "219:\tlearn: 166.7013407\ttotal: 8.72s\tremaining: 15.1s\n",
      "220:\tlearn: 166.6986637\ttotal: 8.76s\tremaining: 15s\n",
      "221:\tlearn: 166.6695326\ttotal: 8.8s\tremaining: 15s\n",
      "222:\tlearn: 166.6544185\ttotal: 8.85s\tremaining: 15s\n",
      "223:\tlearn: 166.6148865\ttotal: 8.89s\tremaining: 14.9s\n",
      "224:\tlearn: 166.5616802\ttotal: 8.92s\tremaining: 14.9s\n",
      "225:\tlearn: 166.5261275\ttotal: 8.96s\tremaining: 14.8s\n",
      "226:\tlearn: 166.5219122\ttotal: 9s\tremaining: 14.8s\n",
      "227:\tlearn: 166.5130379\ttotal: 9.03s\tremaining: 14.7s\n",
      "228:\tlearn: 166.3975785\ttotal: 9.08s\tremaining: 14.7s\n",
      "229:\tlearn: 166.3819570\ttotal: 9.14s\tremaining: 14.7s\n",
      "230:\tlearn: 166.3584871\ttotal: 9.18s\tremaining: 14.7s\n",
      "231:\tlearn: 166.1750269\ttotal: 9.23s\tremaining: 14.6s\n",
      "232:\tlearn: 166.1479900\ttotal: 9.27s\tremaining: 14.6s\n",
      "233:\tlearn: 166.0595873\ttotal: 9.31s\tremaining: 14.6s\n",
      "234:\tlearn: 165.9945161\ttotal: 9.35s\tremaining: 14.5s\n",
      "235:\tlearn: 165.9352891\ttotal: 9.4s\tremaining: 14.5s\n",
      "236:\tlearn: 165.9023419\ttotal: 9.44s\tremaining: 14.5s\n",
      "237:\tlearn: 165.8563261\ttotal: 9.48s\tremaining: 14.4s\n",
      "238:\tlearn: 165.8015811\ttotal: 9.52s\tremaining: 14.4s\n",
      "239:\tlearn: 165.7565775\ttotal: 9.56s\tremaining: 14.3s\n",
      "240:\tlearn: 165.7454702\ttotal: 9.61s\tremaining: 14.3s\n",
      "241:\tlearn: 165.7151688\ttotal: 9.67s\tremaining: 14.3s\n",
      "242:\tlearn: 165.6771832\ttotal: 9.71s\tremaining: 14.3s\n",
      "243:\tlearn: 165.6226947\ttotal: 9.75s\tremaining: 14.2s\n",
      "244:\tlearn: 165.5683144\ttotal: 9.8s\tremaining: 14.2s\n",
      "245:\tlearn: 165.4881666\ttotal: 9.85s\tremaining: 14.2s\n",
      "246:\tlearn: 165.3910678\ttotal: 9.9s\tremaining: 14.1s\n",
      "247:\tlearn: 165.3688917\ttotal: 9.93s\tremaining: 14.1s\n",
      "248:\tlearn: 165.3489731\ttotal: 9.97s\tremaining: 14.1s\n",
      "249:\tlearn: 165.2911046\ttotal: 10s\tremaining: 14s\n",
      "250:\tlearn: 165.2666857\ttotal: 10.1s\tremaining: 14s\n",
      "251:\tlearn: 165.1043260\ttotal: 10.1s\tremaining: 13.9s\n",
      "252:\tlearn: 165.0410458\ttotal: 10.1s\tremaining: 13.9s\n",
      "253:\tlearn: 164.9177177\ttotal: 10.2s\tremaining: 13.9s\n",
      "254:\tlearn: 164.8743586\ttotal: 10.2s\tremaining: 13.9s\n",
      "255:\tlearn: 164.6683935\ttotal: 10.3s\tremaining: 13.8s\n",
      "256:\tlearn: 164.6016938\ttotal: 10.3s\tremaining: 13.8s\n",
      "257:\tlearn: 164.5657973\ttotal: 10.4s\tremaining: 13.8s\n",
      "258:\tlearn: 164.5344082\ttotal: 10.4s\tremaining: 13.7s\n",
      "259:\tlearn: 164.4980902\ttotal: 10.5s\tremaining: 13.7s\n",
      "260:\tlearn: 164.4657645\ttotal: 10.5s\tremaining: 13.7s\n",
      "261:\tlearn: 164.4323247\ttotal: 10.6s\tremaining: 13.7s\n",
      "262:\tlearn: 164.3673779\ttotal: 10.6s\tremaining: 13.6s\n",
      "263:\tlearn: 164.3465647\ttotal: 10.7s\tremaining: 13.6s\n",
      "264:\tlearn: 164.3389251\ttotal: 10.7s\tremaining: 13.6s\n",
      "265:\tlearn: 164.1036102\ttotal: 10.8s\tremaining: 13.5s\n",
      "266:\tlearn: 164.0632099\ttotal: 10.8s\tremaining: 13.5s\n",
      "267:\tlearn: 164.0101946\ttotal: 10.9s\tremaining: 13.4s\n",
      "268:\tlearn: 163.9616545\ttotal: 10.9s\tremaining: 13.4s\n",
      "269:\tlearn: 163.9134503\ttotal: 10.9s\tremaining: 13.4s\n",
      "270:\tlearn: 163.6582641\ttotal: 11s\tremaining: 13.3s\n",
      "271:\tlearn: 163.6253535\ttotal: 11s\tremaining: 13.3s\n",
      "272:\tlearn: 163.5786406\ttotal: 11.1s\tremaining: 13.2s\n",
      "273:\tlearn: 163.5664515\ttotal: 11.1s\tremaining: 13.2s\n",
      "274:\tlearn: 163.5378946\ttotal: 11.1s\tremaining: 13.2s\n",
      "275:\tlearn: 163.5208564\ttotal: 11.2s\tremaining: 13.1s\n",
      "276:\tlearn: 163.4848692\ttotal: 11.2s\tremaining: 13.1s\n",
      "277:\tlearn: 163.4725175\ttotal: 11.3s\tremaining: 13s\n",
      "278:\tlearn: 163.4019702\ttotal: 11.3s\tremaining: 13s\n",
      "279:\tlearn: 163.3094053\ttotal: 11.4s\tremaining: 13s\n",
      "280:\tlearn: 163.2715459\ttotal: 11.4s\tremaining: 13s\n",
      "281:\tlearn: 163.1644234\ttotal: 11.5s\tremaining: 12.9s\n",
      "282:\tlearn: 163.1486475\ttotal: 11.5s\tremaining: 12.9s\n",
      "283:\tlearn: 163.0759745\ttotal: 11.5s\tremaining: 12.8s\n",
      "284:\tlearn: 163.0690092\ttotal: 11.6s\tremaining: 12.8s\n",
      "285:\tlearn: 163.0561955\ttotal: 11.6s\tremaining: 12.8s\n",
      "286:\tlearn: 163.0306120\ttotal: 11.7s\tremaining: 12.7s\n",
      "287:\tlearn: 162.8875449\ttotal: 11.7s\tremaining: 12.7s\n",
      "288:\tlearn: 162.8618336\ttotal: 11.8s\tremaining: 12.6s\n",
      "289:\tlearn: 162.8279992\ttotal: 11.8s\tremaining: 12.6s\n",
      "290:\tlearn: 162.8092385\ttotal: 11.9s\tremaining: 12.6s\n",
      "291:\tlearn: 162.6720461\ttotal: 11.9s\tremaining: 12.5s\n",
      "292:\tlearn: 162.6472718\ttotal: 11.9s\tremaining: 12.5s\n",
      "293:\tlearn: 162.6110001\ttotal: 12s\tremaining: 12.5s\n",
      "294:\tlearn: 162.5675027\ttotal: 12s\tremaining: 12.4s\n",
      "295:\tlearn: 162.5063070\ttotal: 12.1s\tremaining: 12.4s\n",
      "296:\tlearn: 162.4302346\ttotal: 12.1s\tremaining: 12.4s\n",
      "297:\tlearn: 162.4222893\ttotal: 12.2s\tremaining: 12.3s\n",
      "298:\tlearn: 162.3511754\ttotal: 12.2s\tremaining: 12.3s\n",
      "299:\tlearn: 162.3120614\ttotal: 12.2s\tremaining: 12.2s\n",
      "300:\tlearn: 162.2427065\ttotal: 12.3s\tremaining: 12.2s\n",
      "301:\tlearn: 162.1631403\ttotal: 12.3s\tremaining: 12.2s\n",
      "302:\tlearn: 162.1265773\ttotal: 12.4s\tremaining: 12.1s\n",
      "303:\tlearn: 162.0819846\ttotal: 12.4s\tremaining: 12.1s\n",
      "304:\tlearn: 162.0761274\ttotal: 12.4s\tremaining: 12s\n",
      "305:\tlearn: 162.0228646\ttotal: 12.4s\tremaining: 12s\n",
      "306:\tlearn: 162.0033714\ttotal: 12.5s\tremaining: 11.9s\n",
      "307:\tlearn: 161.9463338\ttotal: 12.5s\tremaining: 11.9s\n",
      "308:\tlearn: 161.8629198\ttotal: 12.6s\tremaining: 11.8s\n",
      "309:\tlearn: 161.8583644\ttotal: 12.6s\tremaining: 11.8s\n",
      "310:\tlearn: 161.7703895\ttotal: 12.6s\tremaining: 11.7s\n",
      "311:\tlearn: 161.7096255\ttotal: 12.7s\tremaining: 11.7s\n",
      "312:\tlearn: 161.6995337\ttotal: 12.7s\tremaining: 11.6s\n"
     ]
    },
    {
     "name": "stdout",
     "output_type": "stream",
     "text": [
      "313:\tlearn: 161.6724063\ttotal: 12.7s\tremaining: 11.6s\n",
      "314:\tlearn: 161.6134334\ttotal: 12.8s\tremaining: 11.6s\n",
      "315:\tlearn: 161.5371830\ttotal: 12.8s\tremaining: 11.5s\n",
      "316:\tlearn: 161.5130967\ttotal: 12.8s\tremaining: 11.5s\n",
      "317:\tlearn: 161.4861844\ttotal: 12.9s\tremaining: 11.4s\n",
      "318:\tlearn: 161.4016157\ttotal: 12.9s\tremaining: 11.4s\n",
      "319:\tlearn: 161.3812307\ttotal: 13s\tremaining: 11.3s\n",
      "320:\tlearn: 161.3773058\ttotal: 13s\tremaining: 11.3s\n",
      "321:\tlearn: 161.3395979\ttotal: 13s\tremaining: 11.2s\n",
      "322:\tlearn: 161.3187470\ttotal: 13.1s\tremaining: 11.2s\n",
      "323:\tlearn: 161.2997880\ttotal: 13.1s\tremaining: 11.2s\n",
      "324:\tlearn: 161.2448412\ttotal: 13.1s\tremaining: 11.1s\n",
      "325:\tlearn: 161.1883498\ttotal: 13.2s\tremaining: 11.1s\n",
      "326:\tlearn: 161.0433618\ttotal: 13.2s\tremaining: 11s\n",
      "327:\tlearn: 161.0288564\ttotal: 13.3s\tremaining: 11s\n",
      "328:\tlearn: 161.0139411\ttotal: 13.3s\tremaining: 10.9s\n",
      "329:\tlearn: 160.9733285\ttotal: 13.3s\tremaining: 10.9s\n",
      "330:\tlearn: 160.9137114\ttotal: 13.4s\tremaining: 10.9s\n",
      "331:\tlearn: 160.8522455\ttotal: 13.4s\tremaining: 10.8s\n",
      "332:\tlearn: 160.8356636\ttotal: 13.4s\tremaining: 10.8s\n",
      "333:\tlearn: 160.8230201\ttotal: 13.5s\tremaining: 10.7s\n",
      "334:\tlearn: 160.8151159\ttotal: 13.5s\tremaining: 10.7s\n",
      "335:\tlearn: 160.7780390\ttotal: 13.6s\tremaining: 10.7s\n",
      "336:\tlearn: 160.7088992\ttotal: 13.6s\tremaining: 10.6s\n",
      "337:\tlearn: 160.6884043\ttotal: 13.6s\tremaining: 10.6s\n",
      "338:\tlearn: 160.6485150\ttotal: 13.7s\tremaining: 10.5s\n",
      "339:\tlearn: 160.5532617\ttotal: 13.7s\tremaining: 10.5s\n",
      "340:\tlearn: 160.4439149\ttotal: 13.8s\tremaining: 10.5s\n",
      "341:\tlearn: 160.4118912\ttotal: 13.8s\tremaining: 10.4s\n",
      "342:\tlearn: 160.3527439\ttotal: 13.9s\tremaining: 10.4s\n",
      "343:\tlearn: 160.3261402\ttotal: 13.9s\tremaining: 10.3s\n",
      "344:\tlearn: 160.2869451\ttotal: 14s\tremaining: 10.3s\n",
      "345:\tlearn: 160.1439536\ttotal: 14s\tremaining: 10.3s\n",
      "346:\tlearn: 160.0771118\ttotal: 14.1s\tremaining: 10.2s\n",
      "347:\tlearn: 160.0382643\ttotal: 14.1s\tremaining: 10.2s\n",
      "348:\tlearn: 159.9886687\ttotal: 14.1s\tremaining: 10.2s\n",
      "349:\tlearn: 159.9492793\ttotal: 14.2s\tremaining: 10.1s\n",
      "350:\tlearn: 159.8896583\ttotal: 14.2s\tremaining: 10.1s\n",
      "351:\tlearn: 159.8635413\ttotal: 14.3s\tremaining: 10.1s\n",
      "352:\tlearn: 159.8402796\ttotal: 14.3s\tremaining: 10s\n",
      "353:\tlearn: 159.7666084\ttotal: 14.3s\tremaining: 9.97s\n",
      "354:\tlearn: 159.6581034\ttotal: 14.4s\tremaining: 9.94s\n",
      "355:\tlearn: 159.6178707\ttotal: 14.5s\tremaining: 9.92s\n",
      "356:\tlearn: 159.5962931\ttotal: 14.5s\tremaining: 9.88s\n",
      "357:\tlearn: 159.5499586\ttotal: 14.6s\tremaining: 9.84s\n",
      "358:\tlearn: 159.3365968\ttotal: 14.6s\tremaining: 9.79s\n",
      "359:\tlearn: 159.3027752\ttotal: 14.7s\tremaining: 9.77s\n",
      "360:\tlearn: 159.2873518\ttotal: 14.7s\tremaining: 9.73s\n",
      "361:\tlearn: 159.2641537\ttotal: 14.7s\tremaining: 9.69s\n",
      "362:\tlearn: 159.0984940\ttotal: 14.8s\tremaining: 9.66s\n",
      "363:\tlearn: 159.0271923\ttotal: 14.8s\tremaining: 9.62s\n",
      "364:\tlearn: 158.9238707\ttotal: 14.9s\tremaining: 9.58s\n",
      "365:\tlearn: 158.8735346\ttotal: 14.9s\tremaining: 9.54s\n",
      "366:\tlearn: 158.8556466\ttotal: 15s\tremaining: 9.5s\n",
      "367:\tlearn: 158.7488129\ttotal: 15s\tremaining: 9.47s\n",
      "368:\tlearn: 158.7315717\ttotal: 15.1s\tremaining: 9.44s\n",
      "369:\tlearn: 158.7042120\ttotal: 15.1s\tremaining: 9.39s\n",
      "370:\tlearn: 158.6670863\ttotal: 15.2s\tremaining: 9.36s\n",
      "371:\tlearn: 158.5201255\ttotal: 15.2s\tremaining: 9.31s\n",
      "372:\tlearn: 158.5082931\ttotal: 15.2s\tremaining: 9.27s\n",
      "373:\tlearn: 158.4858912\ttotal: 15.3s\tremaining: 9.22s\n",
      "374:\tlearn: 158.4671634\ttotal: 15.3s\tremaining: 9.18s\n",
      "375:\tlearn: 158.4545434\ttotal: 15.3s\tremaining: 9.13s\n",
      "376:\tlearn: 158.4317239\ttotal: 15.4s\tremaining: 9.09s\n",
      "377:\tlearn: 158.3960393\ttotal: 15.4s\tremaining: 9.05s\n",
      "378:\tlearn: 158.2979412\ttotal: 15.4s\tremaining: 9s\n",
      "379:\tlearn: 158.2867303\ttotal: 15.5s\tremaining: 8.97s\n",
      "380:\tlearn: 158.2604912\ttotal: 15.5s\tremaining: 8.92s\n",
      "381:\tlearn: 158.1724229\ttotal: 15.6s\tremaining: 8.88s\n",
      "382:\tlearn: 158.1556168\ttotal: 15.6s\tremaining: 8.84s\n",
      "383:\tlearn: 158.0246644\ttotal: 15.6s\tremaining: 8.79s\n",
      "384:\tlearn: 157.9961508\ttotal: 15.7s\tremaining: 8.75s\n",
      "385:\tlearn: 157.9513732\ttotal: 15.7s\tremaining: 8.71s\n",
      "386:\tlearn: 157.9169562\ttotal: 15.8s\tremaining: 8.68s\n",
      "387:\tlearn: 157.7667275\ttotal: 15.8s\tremaining: 8.64s\n",
      "388:\tlearn: 157.6540864\ttotal: 15.9s\tremaining: 8.6s\n",
      "389:\tlearn: 157.6017046\ttotal: 15.9s\tremaining: 8.56s\n",
      "390:\tlearn: 157.5871506\ttotal: 15.9s\tremaining: 8.52s\n",
      "391:\tlearn: 157.5763969\ttotal: 16s\tremaining: 8.48s\n",
      "392:\tlearn: 157.5641516\ttotal: 16s\tremaining: 8.44s\n",
      "393:\tlearn: 157.4531115\ttotal: 16.1s\tremaining: 8.39s\n",
      "394:\tlearn: 157.4212858\ttotal: 16.1s\tremaining: 8.35s\n",
      "395:\tlearn: 157.3982283\ttotal: 16.1s\tremaining: 8.31s\n",
      "396:\tlearn: 157.3104017\ttotal: 16.2s\tremaining: 8.26s\n",
      "397:\tlearn: 157.2715306\ttotal: 16.2s\tremaining: 8.24s\n",
      "398:\tlearn: 157.2404146\ttotal: 16.3s\tremaining: 8.19s\n",
      "399:\tlearn: 157.1443354\ttotal: 16.3s\tremaining: 8.15s\n",
      "400:\tlearn: 157.1194685\ttotal: 16.4s\tremaining: 8.12s\n",
      "401:\tlearn: 157.0779212\ttotal: 16.4s\tremaining: 8.08s\n",
      "402:\tlearn: 157.0686588\ttotal: 16.5s\tremaining: 8.05s\n",
      "403:\tlearn: 157.0606397\ttotal: 16.5s\tremaining: 8s\n",
      "404:\tlearn: 157.0359386\ttotal: 16.5s\tremaining: 7.96s\n",
      "405:\tlearn: 157.0189593\ttotal: 16.6s\tremaining: 7.92s\n",
      "406:\tlearn: 156.9543387\ttotal: 16.6s\tremaining: 7.88s\n",
      "407:\tlearn: 156.8984274\ttotal: 16.7s\tremaining: 7.84s\n",
      "408:\tlearn: 156.8865801\ttotal: 16.7s\tremaining: 7.8s\n",
      "409:\tlearn: 156.8401364\ttotal: 16.7s\tremaining: 7.76s\n",
      "410:\tlearn: 156.8055670\ttotal: 16.8s\tremaining: 7.72s\n",
      "411:\tlearn: 156.7606591\ttotal: 16.8s\tremaining: 7.67s\n",
      "412:\tlearn: 156.7476191\ttotal: 16.9s\tremaining: 7.63s\n",
      "413:\tlearn: 156.7262797\ttotal: 16.9s\tremaining: 7.58s\n",
      "414:\tlearn: 156.7082886\ttotal: 16.9s\tremaining: 7.54s\n",
      "415:\tlearn: 156.7014325\ttotal: 17s\tremaining: 7.5s\n",
      "416:\tlearn: 156.6231630\ttotal: 17s\tremaining: 7.46s\n",
      "417:\tlearn: 156.6105194\ttotal: 17.1s\tremaining: 7.43s\n",
      "418:\tlearn: 156.5786133\ttotal: 17.1s\tremaining: 7.39s\n",
      "419:\tlearn: 156.4559223\ttotal: 17.1s\tremaining: 7.35s\n",
      "420:\tlearn: 156.4413462\ttotal: 17.2s\tremaining: 7.3s\n",
      "421:\tlearn: 156.2780226\ttotal: 17.2s\tremaining: 7.26s\n",
      "422:\tlearn: 156.1802495\ttotal: 17.2s\tremaining: 7.22s\n",
      "423:\tlearn: 156.1690826\ttotal: 17.3s\tremaining: 7.17s\n",
      "424:\tlearn: 156.1447088\ttotal: 17.3s\tremaining: 7.13s\n",
      "425:\tlearn: 156.0730604\ttotal: 17.4s\tremaining: 7.09s\n",
      "426:\tlearn: 156.0577610\ttotal: 17.4s\tremaining: 7.06s\n",
      "427:\tlearn: 155.9655033\ttotal: 17.5s\tremaining: 7.01s\n",
      "428:\tlearn: 155.9326285\ttotal: 17.5s\tremaining: 6.97s\n",
      "429:\tlearn: 155.8399564\ttotal: 17.5s\tremaining: 6.93s\n",
      "430:\tlearn: 155.7247979\ttotal: 17.6s\tremaining: 6.89s\n",
      "431:\tlearn: 155.6667865\ttotal: 17.6s\tremaining: 6.86s\n",
      "432:\tlearn: 155.6026188\ttotal: 17.7s\tremaining: 6.81s\n",
      "433:\tlearn: 155.5826183\ttotal: 17.7s\tremaining: 6.77s\n",
      "434:\tlearn: 155.5267507\ttotal: 17.7s\tremaining: 6.73s\n",
      "435:\tlearn: 155.5060330\ttotal: 17.8s\tremaining: 6.68s\n",
      "436:\tlearn: 155.3408177\ttotal: 17.8s\tremaining: 6.65s\n",
      "437:\tlearn: 155.3293779\ttotal: 17.9s\tremaining: 6.61s\n",
      "438:\tlearn: 155.2986337\ttotal: 17.9s\tremaining: 6.57s\n",
      "439:\tlearn: 155.2619589\ttotal: 17.9s\tremaining: 6.53s\n",
      "440:\tlearn: 155.2422866\ttotal: 18s\tremaining: 6.48s\n",
      "441:\tlearn: 155.1393035\ttotal: 18s\tremaining: 6.44s\n",
      "442:\tlearn: 155.0458202\ttotal: 18.1s\tremaining: 6.4s\n",
      "443:\tlearn: 155.0334058\ttotal: 18.1s\tremaining: 6.35s\n",
      "444:\tlearn: 155.0142440\ttotal: 18.1s\tremaining: 6.31s\n",
      "445:\tlearn: 155.0050722\ttotal: 18.2s\tremaining: 6.27s\n",
      "446:\tlearn: 154.9968754\ttotal: 18.2s\tremaining: 6.23s\n",
      "447:\tlearn: 154.9715562\ttotal: 18.2s\tremaining: 6.19s\n",
      "448:\tlearn: 154.9546826\ttotal: 18.3s\tremaining: 6.15s\n",
      "449:\tlearn: 154.9035635\ttotal: 18.3s\tremaining: 6.11s\n",
      "450:\tlearn: 154.6874120\ttotal: 18.4s\tremaining: 6.07s\n",
      "451:\tlearn: 154.6618322\ttotal: 18.4s\tremaining: 6.03s\n",
      "452:\tlearn: 154.6435525\ttotal: 18.5s\tremaining: 5.99s\n",
      "453:\tlearn: 154.6209888\ttotal: 18.5s\tremaining: 5.95s\n",
      "454:\tlearn: 154.6129412\ttotal: 18.5s\tremaining: 5.91s\n",
      "455:\tlearn: 154.5725875\ttotal: 18.6s\tremaining: 5.86s\n",
      "456:\tlearn: 154.5365339\ttotal: 18.6s\tremaining: 5.82s\n",
      "457:\tlearn: 154.4856578\ttotal: 18.6s\tremaining: 5.78s\n",
      "458:\tlearn: 154.4661926\ttotal: 18.7s\tremaining: 5.74s\n",
      "459:\tlearn: 154.4359901\ttotal: 18.7s\tremaining: 5.7s\n",
      "460:\tlearn: 154.4255339\ttotal: 18.8s\tremaining: 5.65s\n",
      "461:\tlearn: 154.3871957\ttotal: 18.8s\tremaining: 5.61s\n",
      "462:\tlearn: 154.2705446\ttotal: 18.8s\tremaining: 5.57s\n",
      "463:\tlearn: 154.1888996\ttotal: 18.9s\tremaining: 5.53s\n",
      "464:\tlearn: 154.1333300\ttotal: 18.9s\tremaining: 5.49s\n",
      "465:\tlearn: 154.1091445\ttotal: 19s\tremaining: 5.45s\n",
      "466:\tlearn: 154.0540440\ttotal: 19s\tremaining: 5.41s\n",
      "467:\tlearn: 153.9560475\ttotal: 19s\tremaining: 5.37s\n"
     ]
    },
    {
     "name": "stdout",
     "output_type": "stream",
     "text": [
      "468:\tlearn: 153.9048221\ttotal: 19.1s\tremaining: 5.33s\n",
      "469:\tlearn: 153.8705771\ttotal: 19.1s\tremaining: 5.29s\n",
      "470:\tlearn: 153.8164215\ttotal: 19.2s\tremaining: 5.25s\n",
      "471:\tlearn: 153.7683165\ttotal: 19.2s\tremaining: 5.2s\n",
      "472:\tlearn: 153.7468557\ttotal: 19.2s\tremaining: 5.17s\n",
      "473:\tlearn: 153.6662017\ttotal: 19.3s\tremaining: 5.12s\n",
      "474:\tlearn: 153.6549758\ttotal: 19.3s\tremaining: 5.08s\n",
      "475:\tlearn: 153.6173332\ttotal: 19.4s\tremaining: 5.04s\n",
      "476:\tlearn: 153.6063271\ttotal: 19.4s\tremaining: 5s\n",
      "477:\tlearn: 153.5470237\ttotal: 19.4s\tremaining: 4.96s\n",
      "478:\tlearn: 153.5250676\ttotal: 19.5s\tremaining: 4.92s\n",
      "479:\tlearn: 153.4587461\ttotal: 19.5s\tremaining: 4.88s\n",
      "480:\tlearn: 153.3363366\ttotal: 19.6s\tremaining: 4.84s\n",
      "481:\tlearn: 153.2624578\ttotal: 19.6s\tremaining: 4.8s\n",
      "482:\tlearn: 153.2450792\ttotal: 19.7s\tremaining: 4.76s\n",
      "483:\tlearn: 153.2334097\ttotal: 19.7s\tremaining: 4.72s\n",
      "484:\tlearn: 153.2040915\ttotal: 19.7s\tremaining: 4.68s\n",
      "485:\tlearn: 153.1845263\ttotal: 19.8s\tremaining: 4.64s\n",
      "486:\tlearn: 153.1357269\ttotal: 19.8s\tremaining: 4.6s\n",
      "487:\tlearn: 153.0835840\ttotal: 19.9s\tremaining: 4.56s\n",
      "488:\tlearn: 153.0458167\ttotal: 19.9s\tremaining: 4.52s\n",
      "489:\tlearn: 153.0286091\ttotal: 19.9s\tremaining: 4.48s\n",
      "490:\tlearn: 152.9874144\ttotal: 20s\tremaining: 4.44s\n",
      "491:\tlearn: 152.9516302\ttotal: 20s\tremaining: 4.4s\n",
      "492:\tlearn: 152.9266981\ttotal: 20.1s\tremaining: 4.35s\n",
      "493:\tlearn: 152.8454739\ttotal: 20.1s\tremaining: 4.31s\n",
      "494:\tlearn: 152.8061298\ttotal: 20.2s\tremaining: 4.27s\n",
      "495:\tlearn: 152.7736553\ttotal: 20.2s\tremaining: 4.23s\n",
      "496:\tlearn: 152.7631285\ttotal: 20.2s\tremaining: 4.19s\n",
      "497:\tlearn: 152.6892089\ttotal: 20.3s\tremaining: 4.15s\n",
      "498:\tlearn: 152.6719220\ttotal: 20.3s\tremaining: 4.11s\n",
      "499:\tlearn: 152.6125489\ttotal: 20.4s\tremaining: 4.07s\n",
      "500:\tlearn: 152.5863588\ttotal: 20.4s\tremaining: 4.03s\n",
      "501:\tlearn: 152.5065684\ttotal: 20.5s\tremaining: 3.99s\n",
      "502:\tlearn: 152.4917917\ttotal: 20.5s\tremaining: 3.95s\n",
      "503:\tlearn: 152.4542340\ttotal: 20.5s\tremaining: 3.91s\n",
      "504:\tlearn: 152.4130344\ttotal: 20.6s\tremaining: 3.87s\n",
      "505:\tlearn: 152.3761937\ttotal: 20.6s\tremaining: 3.83s\n",
      "506:\tlearn: 152.3043547\ttotal: 20.6s\tremaining: 3.79s\n",
      "507:\tlearn: 152.0340834\ttotal: 20.7s\tremaining: 3.75s\n",
      "508:\tlearn: 152.0085403\ttotal: 20.7s\tremaining: 3.7s\n",
      "509:\tlearn: 151.9639156\ttotal: 20.8s\tremaining: 3.66s\n",
      "510:\tlearn: 151.8024751\ttotal: 20.8s\tremaining: 3.62s\n",
      "511:\tlearn: 151.7755334\ttotal: 20.8s\tremaining: 3.58s\n",
      "512:\tlearn: 151.7442610\ttotal: 20.9s\tremaining: 3.54s\n",
      "513:\tlearn: 151.7354485\ttotal: 20.9s\tremaining: 3.5s\n",
      "514:\tlearn: 151.7161618\ttotal: 20.9s\tremaining: 3.46s\n",
      "515:\tlearn: 151.6698360\ttotal: 21s\tremaining: 3.42s\n",
      "516:\tlearn: 151.6215404\ttotal: 21s\tremaining: 3.38s\n",
      "517:\tlearn: 151.6065826\ttotal: 21.1s\tremaining: 3.33s\n",
      "518:\tlearn: 151.5495021\ttotal: 21.1s\tremaining: 3.29s\n",
      "519:\tlearn: 151.5322028\ttotal: 21.1s\tremaining: 3.25s\n",
      "520:\tlearn: 151.5053596\ttotal: 21.2s\tremaining: 3.21s\n",
      "521:\tlearn: 151.4380142\ttotal: 21.2s\tremaining: 3.17s\n",
      "522:\tlearn: 151.4037525\ttotal: 21.2s\tremaining: 3.12s\n",
      "523:\tlearn: 151.3406530\ttotal: 21.3s\tremaining: 3.09s\n",
      "524:\tlearn: 151.3127489\ttotal: 21.3s\tremaining: 3.05s\n",
      "525:\tlearn: 151.2858864\ttotal: 21.4s\tremaining: 3.01s\n",
      "526:\tlearn: 151.2389668\ttotal: 21.4s\tremaining: 2.96s\n",
      "527:\tlearn: 151.2081215\ttotal: 21.4s\tremaining: 2.92s\n",
      "528:\tlearn: 151.1691752\ttotal: 21.5s\tremaining: 2.88s\n",
      "529:\tlearn: 151.0638246\ttotal: 21.5s\tremaining: 2.84s\n",
      "530:\tlearn: 151.0305781\ttotal: 21.6s\tremaining: 2.81s\n",
      "531:\tlearn: 150.9938988\ttotal: 21.6s\tremaining: 2.76s\n",
      "532:\tlearn: 150.9629777\ttotal: 21.7s\tremaining: 2.72s\n",
      "533:\tlearn: 150.9074619\ttotal: 21.7s\tremaining: 2.68s\n",
      "534:\tlearn: 150.9028414\ttotal: 21.7s\tremaining: 2.64s\n",
      "535:\tlearn: 150.8936470\ttotal: 21.8s\tremaining: 2.6s\n",
      "536:\tlearn: 150.7822597\ttotal: 21.8s\tremaining: 2.56s\n",
      "537:\tlearn: 150.7517730\ttotal: 21.9s\tremaining: 2.52s\n",
      "538:\tlearn: 150.7316946\ttotal: 21.9s\tremaining: 2.48s\n",
      "539:\tlearn: 150.6978777\ttotal: 22s\tremaining: 2.44s\n",
      "540:\tlearn: 150.6795357\ttotal: 22s\tremaining: 2.4s\n",
      "541:\tlearn: 150.6567735\ttotal: 22s\tremaining: 2.36s\n",
      "542:\tlearn: 150.6100596\ttotal: 22.1s\tremaining: 2.32s\n",
      "543:\tlearn: 150.2720606\ttotal: 22.1s\tremaining: 2.28s\n",
      "544:\tlearn: 150.2610740\ttotal: 22.2s\tremaining: 2.23s\n",
      "545:\tlearn: 150.2072522\ttotal: 22.2s\tremaining: 2.19s\n",
      "546:\tlearn: 150.1439162\ttotal: 22.2s\tremaining: 2.15s\n",
      "547:\tlearn: 150.1079605\ttotal: 22.3s\tremaining: 2.11s\n",
      "548:\tlearn: 150.0370386\ttotal: 22.3s\tremaining: 2.07s\n",
      "549:\tlearn: 150.0086959\ttotal: 22.4s\tremaining: 2.03s\n",
      "550:\tlearn: 149.9807341\ttotal: 22.4s\tremaining: 1.99s\n",
      "551:\tlearn: 149.9686677\ttotal: 22.4s\tremaining: 1.95s\n",
      "552:\tlearn: 149.9652357\ttotal: 22.5s\tremaining: 1.91s\n",
      "553:\tlearn: 149.9483301\ttotal: 22.5s\tremaining: 1.87s\n",
      "554:\tlearn: 149.6368292\ttotal: 22.5s\tremaining: 1.83s\n",
      "555:\tlearn: 149.5889638\ttotal: 22.6s\tremaining: 1.79s\n",
      "556:\tlearn: 149.5265702\ttotal: 22.6s\tremaining: 1.75s\n",
      "557:\tlearn: 149.4130238\ttotal: 22.7s\tremaining: 1.71s\n",
      "558:\tlearn: 149.3874832\ttotal: 22.7s\tremaining: 1.67s\n",
      "559:\tlearn: 149.3834329\ttotal: 22.8s\tremaining: 1.63s\n",
      "560:\tlearn: 149.3268529\ttotal: 22.8s\tremaining: 1.58s\n",
      "561:\tlearn: 149.2993562\ttotal: 22.8s\tremaining: 1.54s\n",
      "562:\tlearn: 149.1800800\ttotal: 22.9s\tremaining: 1.5s\n",
      "563:\tlearn: 149.1721003\ttotal: 22.9s\tremaining: 1.46s\n",
      "564:\tlearn: 149.1209795\ttotal: 23s\tremaining: 1.42s\n",
      "565:\tlearn: 149.0840865\ttotal: 23s\tremaining: 1.38s\n",
      "566:\tlearn: 149.0664336\ttotal: 23s\tremaining: 1.34s\n",
      "567:\tlearn: 149.0308245\ttotal: 23.1s\tremaining: 1.3s\n",
      "568:\tlearn: 148.9581398\ttotal: 23.1s\tremaining: 1.26s\n",
      "569:\tlearn: 148.9463499\ttotal: 23.2s\tremaining: 1.22s\n",
      "570:\tlearn: 148.8656699\ttotal: 23.2s\tremaining: 1.18s\n",
      "571:\tlearn: 148.8274869\ttotal: 23.3s\tremaining: 1.14s\n",
      "572:\tlearn: 148.6627475\ttotal: 23.3s\tremaining: 1.1s\n",
      "573:\tlearn: 148.6152808\ttotal: 23.4s\tremaining: 1.06s\n",
      "574:\tlearn: 148.5335726\ttotal: 23.4s\tremaining: 1.02s\n",
      "575:\tlearn: 148.5253556\ttotal: 23.5s\tremaining: 977ms\n",
      "576:\tlearn: 148.4674741\ttotal: 23.5s\tremaining: 937ms\n",
      "577:\tlearn: 148.3427497\ttotal: 23.6s\tremaining: 897ms\n",
      "578:\tlearn: 148.2251763\ttotal: 23.6s\tremaining: 856ms\n",
      "579:\tlearn: 148.1385398\ttotal: 23.6s\tremaining: 816ms\n",
      "580:\tlearn: 148.1257836\ttotal: 23.7s\tremaining: 775ms\n",
      "581:\tlearn: 148.1034075\ttotal: 23.7s\tremaining: 734ms\n",
      "582:\tlearn: 148.0741553\ttotal: 23.8s\tremaining: 693ms\n",
      "583:\tlearn: 147.9969957\ttotal: 23.8s\tremaining: 653ms\n",
      "584:\tlearn: 147.8802845\ttotal: 23.9s\tremaining: 612ms\n",
      "585:\tlearn: 147.5626398\ttotal: 23.9s\tremaining: 572ms\n",
      "586:\tlearn: 147.5199900\ttotal: 24s\tremaining: 531ms\n",
      "587:\tlearn: 147.5074347\ttotal: 24s\tremaining: 490ms\n",
      "588:\tlearn: 147.4723059\ttotal: 24.1s\tremaining: 449ms\n",
      "589:\tlearn: 147.4057746\ttotal: 24.1s\tremaining: 408ms\n",
      "590:\tlearn: 147.3914184\ttotal: 24.1s\tremaining: 367ms\n",
      "591:\tlearn: 147.3281274\ttotal: 24.1s\tremaining: 326ms\n",
      "592:\tlearn: 147.2994728\ttotal: 24.2s\tremaining: 286ms\n",
      "593:\tlearn: 147.2355853\ttotal: 24.2s\tremaining: 245ms\n",
      "594:\tlearn: 147.1926265\ttotal: 24.3s\tremaining: 204ms\n",
      "595:\tlearn: 147.1684262\ttotal: 24.3s\tremaining: 163ms\n",
      "596:\tlearn: 146.8891180\ttotal: 24.3s\tremaining: 122ms\n",
      "597:\tlearn: 146.8106541\ttotal: 24.4s\tremaining: 81.6ms\n",
      "598:\tlearn: 146.7786806\ttotal: 24.4s\tremaining: 40.8ms\n",
      "599:\tlearn: 146.7313733\ttotal: 24.5s\tremaining: 0us\n"
     ]
    },
    {
     "data": {
      "text/plain": [
       "<catboost.core.CatBoostRegressor at 0x22f6a45e4f0>"
      ]
     },
     "execution_count": 19,
     "metadata": {},
     "output_type": "execute_result"
    }
   ],
   "source": [
    "cbr.fit(x, y, cat_features=['violations_brif', 'DTPType', 'district', 'season', 'closeObjects'])"
   ]
  },
  {
   "cell_type": "code",
   "execution_count": 39,
   "metadata": {},
   "outputs": [
    {
     "name": "stdout",
     "output_type": "stream",
     "text": [
      "<catboost.core.Pool object at 0x0000022F6BA1D820>\n"
     ]
    }
   ],
   "source": [
    "grid = {'iterations': [200, 600, 1000],\n",
    "        'learning_rate': [0.03, 0.1],\n",
    "        'depth': [4, 6, 10]}\n",
    "\n",
    "cbr.grid_search(grid, X=x, plot=True)"
   ]
  },
  {
   "cell_type": "code",
   "execution_count": 46,
   "metadata": {},
   "outputs": [
    {
     "data": {
      "text/plain": [
       "array([17.01071589, 22.99340665, 26.00364404,  3.92848107, 13.37604837,\n",
       "       16.68770398])"
      ]
     },
     "execution_count": 46,
     "metadata": {},
     "output_type": "execute_result"
    }
   ],
   "source": [
    "cbr.feature_importances_"
   ]
  },
  {
   "cell_type": "code",
   "execution_count": 48,
   "metadata": {},
   "outputs": [
    {
     "data": {
      "text/plain": [
       "['violations_brif', 'DTPType', 'district', 'month', 'season', 'closeObjects']"
      ]
     },
     "execution_count": 48,
     "metadata": {},
     "output_type": "execute_result"
    }
   ],
   "source": [
    "cbr.feature_names_"
   ]
  },
  {
   "cell_type": "raw",
   "metadata": {},
   "source": [
    "features_weights = pd.Series(cbr.feature_importances_, index=cbr.feature_names_, name=\"reg coef\")"
   ]
  },
  {
   "cell_type": "code",
   "execution_count": 50,
   "metadata": {},
   "outputs": [],
   "source": [
    "features_weights = pd.Series(cbr.feature_importances_, index=cbr.feature_names_, name=\"reg coef\")"
   ]
  },
  {
   "cell_type": "code",
   "execution_count": 51,
   "metadata": {},
   "outputs": [
    {
     "data": {
      "text/plain": [
       "violations_brif    17.010716\n",
       "DTPType            22.993407\n",
       "district           26.003644\n",
       "month               3.928481\n",
       "season             13.376048\n",
       "closeObjects       16.687704\n",
       "Name: reg coef, dtype: float64"
      ]
     },
     "execution_count": 51,
     "metadata": {},
     "output_type": "execute_result"
    }
   ],
   "source": [
    "features_weights"
   ]
  }
 ],
 "metadata": {
  "colab": {
   "collapsed_sections": [
    "apUiHoOgN3eu",
    "ExJ-u0kUn8f7",
    "T7Zn1vsIoAqL",
    "ph82BKqno5zD",
    "BDgy0eJZJ2u7",
    "aDItpsbrNy-f"
   ],
   "name": "RITA_regressions.ipynb",
   "provenance": [
    {
     "file_id": "https://github.com/ovad4221/prevention_of_damage_from_accidents/blob/ovad_branch_analys/Analysis_ovad.ipynb",
     "timestamp": 1639657510099
    }
   ]
  },
  "kernelspec": {
   "display_name": "Python 3",
   "language": "python",
   "name": "python3"
  },
  "language_info": {
   "codemirror_mode": {
    "name": "ipython",
    "version": 3
   },
   "file_extension": ".py",
   "mimetype": "text/x-python",
   "name": "python",
   "nbconvert_exporter": "python",
   "pygments_lexer": "ipython3",
   "version": "3.8.8"
  },
  "widgets": {
   "application/vnd.jupyter.widget-state+json": {
    "16e2aa47b31441b6973f601628e24983": {
     "model_module": "catboost-widget",
     "model_module_version": "^1.0.0",
     "model_name": "CatboostWidgetModel",
     "state": {
      "_dom_classes": [],
      "_model_module": "catboost-widget",
      "_model_module_version": "^1.0.0",
      "_model_name": "CatboostWidgetModel",
      "_view_count": null,
      "_view_module": "catboost-widget",
      "_view_module_version": "^1.0.0",
      "_view_name": "CatboostWidgetView",
      "data": {
       "catboost_info/fold-0": {
        "content": {
         "data": {
          "iterations": [
           {
            "iteration": 0,
            "learn": [
             323.581821
            ],
            "passed_time": 0.001428626065,
            "remaining_time": 0.4271591935,
            "test": [
             339.3248402
            ]
           },
           {
            "iteration": 1,
            "learn": [
             317.0322491
            ],
            "passed_time": 0.005095396755,
            "remaining_time": 0.7592141165,
            "test": [
             332.8913411
            ]
           },
           {
            "iteration": 2,
            "learn": [
             310.764338
            ],
            "passed_time": 0.007018074127,
            "remaining_time": 0.6947893385,
            "test": [
             326.681504
            ]
           },
           {
            "iteration": 3,
            "learn": [
             304.736407
            ],
            "passed_time": 0.009582408483,
            "remaining_time": 0.7090982278,
            "test": [
             320.7906057
            ]
           },
           {
            "iteration": 4,
            "learn": [
             298.9532058
            ],
            "passed_time": 0.01098998776,
            "remaining_time": 0.648409278,
            "test": [
             315.1156096
            ]
           },
           {
            "iteration": 5,
            "learn": [
             293.4068748
            ],
            "passed_time": 0.01318147619,
            "remaining_time": 0.6458923334,
            "test": [
             309.709886
            ]
           },
           {
            "iteration": 6,
            "learn": [
             288.3690549
            ],
            "passed_time": 0.01402327037,
            "remaining_time": 0.5869740312,
            "test": [
             304.8115384
            ]
           },
           {
            "iteration": 7,
            "learn": [
             283.2400284
            ],
            "passed_time": 0.01579968749,
            "remaining_time": 0.5766885932,
            "test": [
             299.7736771
            ]
           },
           {
            "iteration": 8,
            "learn": [
             278.3321461
            ],
            "passed_time": 0.01832193372,
            "remaining_time": 0.5924091904,
            "test": [
             294.9411829
            ]
           },
           {
            "iteration": 9,
            "learn": [
             273.7142597
            ],
            "passed_time": 0.01985104201,
            "remaining_time": 0.5756802183,
            "test": [
             290.4577473
            ]
           },
           {
            "iteration": 10,
            "learn": [
             269.1966295
            ],
            "passed_time": 0.02183828789,
            "remaining_time": 0.5737513819,
            "test": [
             286.0501847
            ]
           },
           {
            "iteration": 11,
            "learn": [
             264.9135694
            ],
            "passed_time": 0.02416653134,
            "remaining_time": 0.5799967522,
            "test": [
             281.8572836
            ]
           },
           {
            "iteration": 12,
            "learn": [
             260.8036017
            ],
            "passed_time": 0.02618588557,
            "remaining_time": 0.5781037814,
            "test": [
             277.8604877
            ]
           },
           {
            "iteration": 13,
            "learn": [
             256.972741
            ],
            "passed_time": 0.02757714068,
            "remaining_time": 0.5633615882,
            "test": [
             274.1583118
            ]
           },
           {
            "iteration": 14,
            "learn": [
             253.1865919
            ],
            "passed_time": 0.02957410179,
            "remaining_time": 0.561907934,
            "test": [
             270.4606776
            ]
           },
           {
            "iteration": 15,
            "learn": [
             249.5827493
            ],
            "passed_time": 0.03093246857,
            "remaining_time": 0.5490513171,
            "test": [
             266.9423581
            ]
           },
           {
            "iteration": 16,
            "learn": [
             246.1506685
            ],
            "passed_time": 0.03354734812,
            "remaining_time": 0.5584646775,
            "test": [
             263.5999195
            ]
           },
           {
            "iteration": 17,
            "learn": [
             242.8746317
            ],
            "passed_time": 0.03536179799,
            "remaining_time": 0.5540015019,
            "test": [
             260.3820924
            ]
           },
           {
            "iteration": 18,
            "learn": [
             239.7642884
            ],
            "passed_time": 0.03728625623,
            "remaining_time": 0.5514441054,
            "test": [
             257.3222611
            ]
           },
           {
            "iteration": 19,
            "learn": [
             236.781656
            ],
            "passed_time": 0.03864103219,
            "remaining_time": 0.5409744506,
            "test": [
             254.4095484
            ]
           },
           {
            "iteration": 20,
            "learn": [
             234.1221618
            ],
            "passed_time": 0.03951306567,
            "remaining_time": 0.524959301,
            "test": [
             251.8405673
            ]
           },
           {
            "iteration": 21,
            "learn": [
             231.4049519
            ],
            "passed_time": 0.04132406926,
            "remaining_time": 0.522185966,
            "test": [
             249.1758655
            ]
           },
           {
            "iteration": 22,
            "learn": [
             228.8371404
            ],
            "passed_time": 0.04332313668,
            "remaining_time": 0.5217612548,
            "test": [
             246.6837988
            ]
           },
           {
            "iteration": 23,
            "learn": [
             226.3713752
            ],
            "passed_time": 0.04533856282,
            "remaining_time": 0.5213934724,
            "test": [
             244.2838785
            ]
           },
           {
            "iteration": 24,
            "learn": [
             224.0355897
            ],
            "passed_time": 0.04706763739,
            "remaining_time": 0.5177440113,
            "test": [
             242.0120743
            ]
           },
           {
            "iteration": 25,
            "learn": [
             221.802689
            ],
            "passed_time": 0.04883883281,
            "remaining_time": 0.5146861611,
            "test": [
             239.8298561
            ]
           },
           {
            "iteration": 26,
            "learn": [
             219.8327428
            ],
            "passed_time": 0.04967934156,
            "remaining_time": 0.5023133424,
            "test": [
             237.9254811
            ]
           },
           {
            "iteration": 27,
            "learn": [
             217.8256686
            ],
            "passed_time": 0.05102865491,
            "remaining_time": 0.4957069335,
            "test": [
             235.9644338
            ]
           },
           {
            "iteration": 28,
            "learn": [
             215.896268
            ],
            "passed_time": 0.05292444382,
            "remaining_time": 0.4945698026,
            "test": [
             234.0799792
            ]
           },
           {
            "iteration": 29,
            "learn": [
             214.0775381
            ],
            "passed_time": 0.05475440151,
            "remaining_time": 0.4927896136,
            "test": [
             232.2907859
            ]
           },
           {
            "iteration": 30,
            "learn": [
             212.3666069
            ],
            "passed_time": 0.05714564623,
            "remaining_time": 0.4958767367,
            "test": [
             230.6712053
            ]
           },
           {
            "iteration": 31,
            "learn": [
             210.7246142
            ],
            "passed_time": 0.05955032155,
            "remaining_time": 0.498733943,
            "test": [
             229.1035962
            ]
           },
           {
            "iteration": 32,
            "learn": [
             209.1626775
            ],
            "passed_time": 0.06090692201,
            "remaining_time": 0.492792369,
            "test": [
             227.5936713
            ]
           },
           {
            "iteration": 33,
            "learn": [
             207.665788
            ],
            "passed_time": 0.06302844479,
            "remaining_time": 0.4931048916,
            "test": [
             226.1517833
            ]
           },
           {
            "iteration": 34,
            "learn": [
             206.3051248
            ],
            "passed_time": 0.06545650048,
            "remaining_time": 0.4955992179,
            "test": [
             224.8714288
            ]
           },
           {
            "iteration": 35,
            "learn": [
             204.9466263
            ],
            "passed_time": 0.06742850943,
            "remaining_time": 0.4944757359,
            "test": [
             223.5240436
            ]
           },
           {
            "iteration": 36,
            "learn": [
             203.7869915
            ],
            "passed_time": 0.06825935023,
            "remaining_time": 0.4851948408,
            "test": [
             222.3939304
            ]
           },
           {
            "iteration": 37,
            "learn": [
             202.5891587
            ],
            "passed_time": 0.07012130991,
            "remaining_time": 0.4834679789,
            "test": [
             221.2020408
            ]
           },
           {
            "iteration": 38,
            "learn": [
             201.4538507
            ],
            "passed_time": 0.07216034823,
            "remaining_time": 0.4829192535,
            "test": [
             220.0831692
            ]
           },
           {
            "iteration": 39,
            "learn": [
             200.3799488
            ],
            "passed_time": 0.07417366987,
            "remaining_time": 0.4821288542,
            "test": [
             219.0310849
            ]
           },
           {
            "iteration": 40,
            "learn": [
             199.3557238
            ],
            "passed_time": 0.07627863485,
            "remaining_time": 0.4818577177,
            "test": [
             218.0302326
            ]
           },
           {
            "iteration": 41,
            "learn": [
             198.3961134
            ],
            "passed_time": 0.07821051291,
            "remaining_time": 0.4804360079,
            "test": [
             217.0744202
            ]
           },
           {
            "iteration": 42,
            "learn": [
             197.4781519
            ],
            "passed_time": 0.07956406617,
            "remaining_time": 0.4755340699,
            "test": [
             216.1753351
            ]
           },
           {
            "iteration": 43,
            "learn": [
             196.6187499
            ],
            "passed_time": 0.08257405477,
            "remaining_time": 0.4804308641,
            "test": [
             215.3150239
            ]
           },
           {
            "iteration": 44,
            "learn": [
             195.8037948
            ],
            "passed_time": 0.08458289469,
            "remaining_time": 0.4793030699,
            "test": [
             214.5025385
            ]
           },
           {
            "iteration": 45,
            "learn": [
             195.0384561
            ],
            "passed_time": 0.08653250417,
            "remaining_time": 0.4778099143,
            "test": [
             213.7317791
            ]
           },
           {
            "iteration": 46,
            "learn": [
             194.3753229
            ],
            "passed_time": 0.08740020502,
            "remaining_time": 0.470473444,
            "test": [
             213.0766733
            ]
           },
           {
            "iteration": 47,
            "learn": [
             193.6850679
            ],
            "passed_time": 0.08995295601,
            "remaining_time": 0.472253019,
            "test": [
             212.3789199
            ]
           },
           {
            "iteration": 48,
            "learn": [
             193.030855
            ],
            "passed_time": 0.09213800368,
            "remaining_time": 0.4719722229,
            "test": [
             211.7207327
            ]
           },
           {
            "iteration": 49,
            "learn": [
             192.3723945
            ],
            "passed_time": 0.09406347371,
            "remaining_time": 0.4703173686,
            "test": [
             211.1070649
            ]
           },
           {
            "iteration": 50,
            "learn": [
             191.7456853
            ],
            "passed_time": 0.09629154402,
            "remaining_time": 0.4701293032,
            "test": [
             210.4969032
            ]
           },
           {
            "iteration": 51,
            "learn": [
             191.128293
            ],
            "passed_time": 0.098211606,
            "remaining_time": 0.4683938132,
            "test": [
             209.8179827
            ]
           },
           {
            "iteration": 52,
            "learn": [
             190.5607349
            ],
            "passed_time": 0.1003081884,
            "remaining_time": 0.4674740103,
            "test": [
             209.2296239
            ]
           },
           {
            "iteration": 53,
            "learn": [
             190.0327103
            ],
            "passed_time": 0.102257897,
            "remaining_time": 0.4658415308,
            "test": [
             208.6537195
            ]
           },
           {
            "iteration": 54,
            "learn": [
             189.533475
            ],
            "passed_time": 0.1048091771,
            "remaining_time": 0.4668772435,
            "test": [
             208.1078799
            ]
           },
           {
            "iteration": 55,
            "learn": [
             189.0692696
            ],
            "passed_time": 0.1068072191,
            "remaining_time": 0.4653743119,
            "test": [
             207.6112314
            ]
           },
           {
            "iteration": 56,
            "learn": [
             188.5443115
            ],
            "passed_time": 0.1087338146,
            "remaining_time": 0.46354942,
            "test": [
             207.1164184
            ]
           },
           {
            "iteration": 57,
            "learn": [
             188.1368929
            ],
            "passed_time": 0.1100929077,
            "remaining_time": 0.4593531666,
            "test": [
             206.7087161
            ]
           },
           {
            "iteration": 58,
            "learn": [
             187.7209939
            ],
            "passed_time": 0.112995837,
            "remaining_time": 0.4615592662,
            "test": [
             206.3004401
            ]
           },
           {
            "iteration": 59,
            "learn": [
             187.3272515
            ],
            "passed_time": 0.1149375593,
            "remaining_time": 0.4597502374,
            "test": [
             205.8991959
            ]
           },
           {
            "iteration": 60,
            "learn": [
             186.9418237
            ],
            "passed_time": 0.1169023439,
            "remaining_time": 0.4580272164,
            "test": [
             205.4727787
            ]
           },
           {
            "iteration": 61,
            "learn": [
             186.5723657
            ],
            "passed_time": 0.1188271149,
            "remaining_time": 0.4561427959,
            "test": [
             205.0676796
            ]
           },
           {
            "iteration": 62,
            "learn": [
             186.2713233
            ],
            "passed_time": 0.1201811563,
            "remaining_time": 0.4521100642,
            "test": [
             204.7480346
            ]
           },
           {
            "iteration": 63,
            "learn": [
             185.9621621
            ],
            "passed_time": 0.1221368929,
            "remaining_time": 0.4503797926,
            "test": [
             204.3814694
            ]
           },
           {
            "iteration": 64,
            "learn": [
             185.6283396
            ],
            "passed_time": 0.1240603194,
            "remaining_time": 0.44852577,
            "test": [
             204.0836117
            ]
           },
           {
            "iteration": 65,
            "learn": [
             185.2936774
            ],
            "passed_time": 0.1260120315,
            "remaining_time": 0.4467699299,
            "test": [
             203.7372105
            ]
           },
           {
            "iteration": 66,
            "learn": [
             184.9869287
            ],
            "passed_time": 0.1277641874,
            "remaining_time": 0.4443142636,
            "test": [
             203.4108301
            ]
           },
           {
            "iteration": 67,
            "learn": [
             184.7569929
            ],
            "passed_time": 0.1296607772,
            "remaining_time": 0.4423720633,
            "test": [
             203.1637904
            ]
           },
           {
            "iteration": 68,
            "learn": [
             184.4798502
            ],
            "passed_time": 0.131658381,
            "remaining_time": 0.4407693625,
            "test": [
             202.8613336
            ]
           },
           {
            "iteration": 69,
            "learn": [
             184.2286685
            ],
            "passed_time": 0.1336303318,
            "remaining_time": 0.4390710901,
            "test": [
             202.5741835
            ]
           },
           {
            "iteration": 70,
            "learn": [
             184.0124443
            ],
            "passed_time": 0.1355564218,
            "remaining_time": 0.4372171914,
            "test": [
             202.336058
            ]
           },
           {
            "iteration": 71,
            "learn": [
             183.7804543
            ],
            "passed_time": 0.1375038277,
            "remaining_time": 0.4354287877,
            "test": [
             202.0991385
            ]
           },
           {
            "iteration": 72,
            "learn": [
             183.5734263
            ],
            "passed_time": 0.1394534299,
            "remaining_time": 0.4336428573,
            "test": [
             201.8600788
            ]
           },
           {
            "iteration": 73,
            "learn": [
             183.3678867
            ],
            "passed_time": 0.1414754822,
            "remaining_time": 0.4320737701,
            "test": [
             201.5990959
            ]
           },
           {
            "iteration": 74,
            "learn": [
             183.1874975
            ],
            "passed_time": 0.1434542156,
            "remaining_time": 0.4303626467,
            "test": [
             201.3895228
            ]
           },
           {
            "iteration": 75,
            "learn": [
             183.0657137
            ],
            "passed_time": 0.1442996579,
            "remaining_time": 0.4253042547,
            "test": [
             201.2546129
            ]
           },
           {
            "iteration": 76,
            "learn": [
             182.8955324
            ],
            "passed_time": 0.146266246,
            "remaining_time": 0.423602245,
            "test": [
             201.0498016
            ]
           },
           {
            "iteration": 77,
            "learn": [
             182.7273258
            ],
            "passed_time": 0.1482823312,
            "remaining_time": 0.4220343274,
            "test": [
             200.8363776
            ]
           },
           {
            "iteration": 78,
            "learn": [
             182.6255537
            ],
            "passed_time": 0.1491577746,
            "remaining_time": 0.4172641544,
            "test": [
             200.7220621
            ]
           },
           {
            "iteration": 79,
            "learn": [
             182.4582454
            ],
            "passed_time": 0.1511106404,
            "remaining_time": 0.4155542611,
            "test": [
             200.5405162
            ]
           },
           {
            "iteration": 80,
            "learn": [
             182.3392404
            ],
            "passed_time": 0.1524508985,
            "remaining_time": 0.4121820589,
            "test": [
             200.4156878
            ]
           },
           {
            "iteration": 81,
            "learn": [
             182.2189568
            ],
            "passed_time": 0.1542816716,
            "remaining_time": 0.4101634685,
            "test": [
             200.2575276
            ]
           },
           {
            "iteration": 82,
            "learn": [
             182.0925965
            ],
            "passed_time": 0.1562906088,
            "remaining_time": 0.4086152063,
            "test": [
             200.0806526
            ]
           },
           {
            "iteration": 83,
            "learn": [
             181.9725933
            ],
            "passed_time": 0.1597378555,
            "remaining_time": 0.4107544856,
            "test": [
             199.9017836
            ]
           },
           {
            "iteration": 84,
            "learn": [
             181.8521081
            ],
            "passed_time": 0.161533874,
            "remaining_time": 0.4085856813,
            "test": [
             199.7452029
            ]
           },
           {
            "iteration": 85,
            "learn": [
             181.7401602
            ],
            "passed_time": 0.163486927,
            "remaining_time": 0.4068163068,
            "test": [
             199.5882427
            ]
           },
           {
            "iteration": 86,
            "learn": [
             181.6264131
            ],
            "passed_time": 0.165305365,
            "remaining_time": 0.404713135,
            "test": [
             199.4535205
            ]
           },
           {
            "iteration": 87,
            "learn": [
             181.4942781
            ],
            "passed_time": 0.1672590735,
            "remaining_time": 0.4029423133,
            "test": [
             199.308533
            ]
           },
           {
            "iteration": 88,
            "learn": [
             181.3704153
            ],
            "passed_time": 0.1690638008,
            "remaining_time": 0.4008141795,
            "test": [
             199.1688217
            ]
           },
           {
            "iteration": 89,
            "learn": [
             181.2829745
            ],
            "passed_time": 0.1709805247,
            "remaining_time": 0.3989545577,
            "test": [
             199.0531204
            ]
           },
           {
            "iteration": 90,
            "learn": [
             181.1928132
            ],
            "passed_time": 0.1728999912,
            "remaining_time": 0.3970999799,
            "test": [
             198.9437773
            ]
           },
           {
            "iteration": 91,
            "learn": [
             181.1091603
            ],
            "passed_time": 0.1748782755,
            "remaining_time": 0.3953769707,
            "test": [
             198.830929
            ]
           },
           {
            "iteration": 92,
            "learn": [
             181.0499025
            ],
            "passed_time": 0.1775640971,
            "remaining_time": 0.3952233128,
            "test": [
             198.7663279
            ]
           },
           {
            "iteration": 93,
            "learn": [
             180.9694832
            ],
            "passed_time": 0.1794995441,
            "remaining_time": 0.3933713414,
            "test": [
             198.6662588
            ]
           },
           {
            "iteration": 94,
            "learn": [
             180.8838411
            ],
            "passed_time": 0.1861327444,
            "remaining_time": 0.4016548696,
            "test": [
             198.5196394
            ]
           },
           {
            "iteration": 95,
            "learn": [
             180.7937039
            ],
            "passed_time": 0.1879316101,
            "remaining_time": 0.3993546715,
            "test": [
             198.3950768
            ]
           },
           {
            "iteration": 96,
            "learn": [
             180.7156276
            ],
            "passed_time": 0.1897572206,
            "remaining_time": 0.3971207814,
            "test": [
             198.3183703
            ]
           },
           {
            "iteration": 97,
            "learn": [
             180.6512202
            ],
            "passed_time": 0.1916826452,
            "remaining_time": 0.3951009626,
            "test": [
             198.2205537
            ]
           },
           {
            "iteration": 98,
            "learn": [
             180.5805358
            ],
            "passed_time": 0.1935948692,
            "remaining_time": 0.3930562496,
            "test": [
             198.1617686
            ]
           },
           {
            "iteration": 99,
            "learn": [
             180.4904763
            ],
            "passed_time": 0.1955510231,
            "remaining_time": 0.3911020462,
            "test": [
             198.0629121
            ]
           },
           {
            "iteration": 100,
            "learn": [
             180.4331003
            ],
            "passed_time": 0.1975496805,
            "remaining_time": 0.3892315487,
            "test": [
             198.0140271
            ]
           },
           {
            "iteration": 101,
            "learn": [
             180.3882291
            ],
            "passed_time": 0.1995025017,
            "remaining_time": 0.3872695622,
            "test": [
             197.971691
            ]
           },
           {
            "iteration": 102,
            "learn": [
             180.3390964
            ],
            "passed_time": 0.201644404,
            "remaining_time": 0.3856693941,
            "test": [
             197.8942597
            ]
           },
           {
            "iteration": 103,
            "learn": [
             180.2629423
            ],
            "passed_time": 0.2034569385,
            "remaining_time": 0.3834380764,
            "test": [
             197.8175621
            ]
           },
           {
            "iteration": 104,
            "learn": [
             180.2073442
            ],
            "passed_time": 0.2053869412,
            "remaining_time": 0.3814328907,
            "test": [
             197.7696576
            ]
           },
           {
            "iteration": 105,
            "learn": [
             180.171205
            ],
            "passed_time": 0.2078918542,
            "remaining_time": 0.380481318,
            "test": [
             197.7305037
            ]
           },
           {
            "iteration": 106,
            "learn": [
             180.1522202
            ],
            "passed_time": 0.2087594805,
            "remaining_time": 0.3765474741,
            "test": [
             197.7037226
            ]
           },
           {
            "iteration": 107,
            "learn": [
             180.0979561
            ],
            "passed_time": 0.2107167734,
            "remaining_time": 0.3746075972,
            "test": [
             197.6464545
            ]
           },
           {
            "iteration": 108,
            "learn": [
             180.0336377
            ],
            "passed_time": 0.2133979305,
            "remaining_time": 0.3739358232,
            "test": [
             197.5780427
            ]
           },
           {
            "iteration": 109,
            "learn": [
             179.9770349
            ],
            "passed_time": 0.2153692558,
            "remaining_time": 0.3720014419,
            "test": [
             197.4828787
            ]
           },
           {
            "iteration": 110,
            "learn": [
             179.9524657
            ],
            "passed_time": 0.2173313696,
            "remaining_time": 0.3700507104,
            "test": [
             197.4611525
            ]
           },
           {
            "iteration": 111,
            "learn": [
             179.9068455
            ],
            "passed_time": 0.2191374833,
            "remaining_time": 0.3678379184,
            "test": [
             197.4029051
            ]
           },
           {
            "iteration": 112,
            "learn": [
             179.8628573
            ],
            "passed_time": 0.2210472455,
            "remaining_time": 0.3658038487,
            "test": [
             197.3470705
            ]
           },
           {
            "iteration": 113,
            "learn": [
             179.836322
            ],
            "passed_time": 0.2228305888,
            "remaining_time": 0.3635656975,
            "test": [
             197.2939738
            ]
           },
           {
            "iteration": 114,
            "learn": [
             179.7905371
            ],
            "passed_time": 0.2247992933,
            "remaining_time": 0.3616336458,
            "test": [
             197.2731105
            ]
           },
           {
            "iteration": 115,
            "learn": [
             179.7320099
            ],
            "passed_time": 0.2267784985,
            "remaining_time": 0.3597176183,
            "test": [
             197.2040072
            ]
           },
           {
            "iteration": 116,
            "learn": [
             179.7138575
            ],
            "passed_time": 0.229204736,
            "remaining_time": 0.3584997153,
            "test": [
             197.1808517
            ]
           },
           {
            "iteration": 117,
            "learn": [
             179.6864782
            ],
            "passed_time": 0.2310871498,
            "remaining_time": 0.356422553,
            "test": [
             197.1370598
            ]
           },
           {
            "iteration": 118,
            "learn": [
             179.6552576
            ],
            "passed_time": 0.2330603769,
            "remaining_time": 0.3544867917,
            "test": [
             197.0810479
            ]
           },
           {
            "iteration": 119,
            "learn": [
             179.6211183
            ],
            "passed_time": 0.2349936813,
            "remaining_time": 0.3524905219,
            "test": [
             197.0294095
            ]
           },
           {
            "iteration": 120,
            "learn": [
             179.5972142
            ],
            "passed_time": 0.2369140242,
            "remaining_time": 0.3504761184,
            "test": [
             197.008492
            ]
           },
           {
            "iteration": 121,
            "learn": [
             179.560086
            ],
            "passed_time": 0.2390181482,
            "remaining_time": 0.3487313966,
            "test": [
             196.9798824
            ]
           },
           {
            "iteration": 122,
            "learn": [
             179.5312477
            ],
            "passed_time": 0.2412644681,
            "remaining_time": 0.3471854541,
            "test": [
             196.9350243
            ]
           },
           {
            "iteration": 123,
            "learn": [
             179.5095625
            ],
            "passed_time": 0.2431735522,
            "remaining_time": 0.3451495579,
            "test": [
             196.8876642
            ]
           },
           {
            "iteration": 124,
            "learn": [
             179.4562374
            ],
            "passed_time": 0.2451498192,
            "remaining_time": 0.3432097469,
            "test": [
             196.8247908
            ]
           },
           {
            "iteration": 125,
            "learn": [
             179.4090779
            ],
            "passed_time": 0.2469555229,
            "remaining_time": 0.3410338174,
            "test": [
             196.7726571
            ]
           },
           {
            "iteration": 126,
            "learn": [
             179.3811255
            ],
            "passed_time": 0.2488969817,
            "remaining_time": 0.3390486444,
            "test": [
             196.7151609
            ]
           },
           {
            "iteration": 127,
            "learn": [
             179.3642711
            ],
            "passed_time": 0.250829257,
            "remaining_time": 0.3370518141,
            "test": [
             196.7079227
            ]
           },
           {
            "iteration": 128,
            "learn": [
             179.3335518
            ],
            "passed_time": 0.2527734812,
            "remaining_time": 0.3350718239,
            "test": [
             196.6863316
            ]
           },
           {
            "iteration": 129,
            "learn": [
             179.3170115
            ],
            "passed_time": 0.2546789453,
            "remaining_time": 0.3330416977,
            "test": [
             196.6700657
            ]
           },
           {
            "iteration": 130,
            "learn": [
             179.285472
            ],
            "passed_time": 0.2564931052,
            "remaining_time": 0.3308956853,
            "test": [
             196.6277653
            ]
           },
           {
            "iteration": 131,
            "learn": [
             179.2559593
            ],
            "passed_time": 0.2584327794,
            "remaining_time": 0.3289144466,
            "test": [
             196.5913252
            ]
           },
           {
            "iteration": 132,
            "learn": [
             179.2163609
            ],
            "passed_time": 0.2603528478,
            "remaining_time": 0.3269092149,
            "test": [
             196.5359236
            ]
           },
           {
            "iteration": 133,
            "learn": [
             179.1952536
            ],
            "passed_time": 0.2622823604,
            "remaining_time": 0.324916954,
            "test": [
             196.5068278
            ]
           },
           {
            "iteration": 134,
            "learn": [
             179.1747232
            ],
            "passed_time": 0.2641804711,
            "remaining_time": 0.3228872425,
            "test": [
             196.4827041
            ]
           },
           {
            "iteration": 135,
            "learn": [
             179.1611061
            ],
            "passed_time": 0.2660930969,
            "remaining_time": 0.3208769698,
            "test": [
             196.4583111
            ]
           },
           {
            "iteration": 136,
            "learn": [
             179.1292709
            ],
            "passed_time": 0.2680569297,
            "remaining_time": 0.3189290477,
            "test": [
             196.4264822
            ]
           },
           {
            "iteration": 137,
            "learn": [
             179.111303
            ],
            "passed_time": 0.270062417,
            "remaining_time": 0.3170297938,
            "test": [
             196.3988739
            ]
           },
           {
            "iteration": 138,
            "learn": [
             179.0789941
            ],
            "passed_time": 0.2719880652,
            "remaining_time": 0.3150365359,
            "test": [
             196.3497406
            ]
           },
           {
            "iteration": 139,
            "learn": [
             179.0585902
            ],
            "passed_time": 0.2739470581,
            "remaining_time": 0.3130823521,
            "test": [
             196.312762
            ]
           },
           {
            "iteration": 140,
            "learn": [
             179.0411131
            ],
            "passed_time": 0.2770790602,
            "remaining_time": 0.3124508551,
            "test": [
             196.2872067
            ]
           },
           {
            "iteration": 141,
            "learn": [
             178.9971337
            ],
            "passed_time": 0.2794020111,
            "remaining_time": 0.3108839278,
            "test": [
             196.2654607
            ]
           },
           {
            "iteration": 142,
            "learn": [
             178.989763
            ],
            "passed_time": 0.2813738055,
            "remaining_time": 0.3089208913,
            "test": [
             196.2588815
            ]
           },
           {
            "iteration": 143,
            "learn": [
             178.977191
            ],
            "passed_time": 0.283334862,
            "remaining_time": 0.3069461005,
            "test": [
             196.2372275
            ]
           },
           {
            "iteration": 144,
            "learn": [
             178.9691366
            ],
            "passed_time": 0.2847339487,
            "remaining_time": 0.3043707728,
            "test": [
             196.2126404
            ]
           },
           {
            "iteration": 145,
            "learn": [
             178.9210762
            ],
            "passed_time": 0.28668328,
            "remaining_time": 0.3023919529,
            "test": [
             196.210026
            ]
           },
           {
            "iteration": 146,
            "learn": [
             178.8749846
            ],
            "passed_time": 0.288617888,
            "remaining_time": 0.30039821,
            "test": [
             196.1770937
            ]
           },
           {
            "iteration": 147,
            "learn": [
             178.8532482
            ],
            "passed_time": 0.290582519,
            "remaining_time": 0.2984361006,
            "test": [
             196.1565429
            ]
           },
           {
            "iteration": 148,
            "learn": [
             178.8390207
            ],
            "passed_time": 0.2925237732,
            "remaining_time": 0.2964502668,
            "test": [
             196.1437275
            ]
           },
           {
            "iteration": 149,
            "learn": [
             178.8046118
            ],
            "passed_time": 0.2948990428,
            "remaining_time": 0.2948990428,
            "test": [
             196.0927287
            ]
           },
           {
            "iteration": 150,
            "learn": [
             178.7982137
            ],
            "passed_time": 0.2968168957,
            "remaining_time": 0.2928855461,
            "test": [
             196.0869274
            ]
           },
           {
            "iteration": 151,
            "learn": [
             178.7473043
            ],
            "passed_time": 0.2986222195,
            "remaining_time": 0.29076374,
            "test": [
             196.0419364
            ]
           },
           {
            "iteration": 152,
            "learn": [
             178.7302322
            ],
            "passed_time": 0.3007921057,
            "remaining_time": 0.2889963368,
            "test": [
             196.0336423
            ]
           },
           {
            "iteration": 153,
            "learn": [
             178.7138227
            ],
            "passed_time": 0.3027024951,
            "remaining_time": 0.2869776902,
            "test": [
             196.0337789
            ]
           },
           {
            "iteration": 154,
            "learn": [
             178.6950587
            ],
            "passed_time": 0.3046153227,
            "remaining_time": 0.2849627213,
            "test": [
             196.0250501
            ]
           },
           {
            "iteration": 155,
            "learn": [
             178.6725314
            ],
            "passed_time": 0.3067821663,
            "remaining_time": 0.2831835381,
            "test": [
             196.014279
            ]
           },
           {
            "iteration": 156,
            "learn": [
             178.6665223
            ],
            "passed_time": 0.3087034464,
            "remaining_time": 0.2811757506,
            "test": [
             196.0096776
            ]
           },
           {
            "iteration": 157,
            "learn": [
             178.6460902
            ],
            "passed_time": 0.3106955376,
            "remaining_time": 0.2792326984,
            "test": [
             195.9847189
            ]
           },
           {
            "iteration": 158,
            "learn": [
             178.5851833
            ],
            "passed_time": 0.3126184559,
            "remaining_time": 0.2772276873,
            "test": [
             195.9547958
            ]
           },
           {
            "iteration": 159,
            "learn": [
             178.5557528
            ],
            "passed_time": 0.3148144851,
            "remaining_time": 0.2754626745,
            "test": [
             195.9311754
            ]
           },
           {
            "iteration": 160,
            "learn": [
             178.5344464
            ],
            "passed_time": 0.3167717644,
            "remaining_time": 0.2734861817,
            "test": [
             195.8977131
            ]
           },
           {
            "iteration": 161,
            "learn": [
             178.5179444
            ],
            "passed_time": 0.3187126559,
            "remaining_time": 0.2714959662,
            "test": [
             195.8887179
            ]
           },
           {
            "iteration": 162,
            "learn": [
             178.4939989
            ],
            "passed_time": 0.3206610745,
            "remaining_time": 0.2695126823,
            "test": [
             195.8583473
            ]
           },
           {
            "iteration": 163,
            "learn": [
             178.4701262
            ],
            "passed_time": 0.3226768034,
            "remaining_time": 0.2675856418,
            "test": [
             195.82416
            ]
           },
           {
            "iteration": 164,
            "learn": [
             178.4643749
            ],
            "passed_time": 0.3246304937,
            "remaining_time": 0.2656067676,
            "test": [
             195.8250984
            ]
           },
           {
            "iteration": 165,
            "learn": [
             178.4525913
            ],
            "passed_time": 0.3265924592,
            "remaining_time": 0.2636348767,
            "test": [
             195.8027967
            ]
           },
           {
            "iteration": 166,
            "learn": [
             178.4406103
            ],
            "passed_time": 0.3284902199,
            "remaining_time": 0.2616119715,
            "test": [
             195.805789
            ]
           },
           {
            "iteration": 167,
            "learn": [
             178.4144481
            ],
            "passed_time": 0.3307292791,
            "remaining_time": 0.2598587193,
            "test": [
             195.7851193
            ]
           },
           {
            "iteration": 168,
            "learn": [
             178.3898915
            ],
            "passed_time": 0.3327394753,
            "remaining_time": 0.2579223152,
            "test": [
             195.7821049
            ]
           },
           {
            "iteration": 169,
            "learn": [
             178.3818363
            ],
            "passed_time": 0.3347254776,
            "remaining_time": 0.2559665417,
            "test": [
             195.7585828
            ]
           },
           {
            "iteration": 170,
            "learn": [
             178.3700352
            ],
            "passed_time": 0.3370243163,
            "remaining_time": 0.254246414,
            "test": [
             195.7348486
            ]
           },
           {
            "iteration": 171,
            "learn": [
             178.3642592
            ],
            "passed_time": 0.3390167357,
            "remaining_time": 0.2522915242,
            "test": [
             195.7329495
            ]
           },
           {
            "iteration": 172,
            "learn": [
             178.3611337
            ],
            "passed_time": 0.3408975186,
            "remaining_time": 0.2502542477,
            "test": [
             195.7317161
            ]
           },
           {
            "iteration": 173,
            "learn": [
             178.3530976
            ],
            "passed_time": 0.3428168187,
            "remaining_time": 0.2482466618,
            "test": [
             195.7194016
            ]
           },
           {
            "iteration": 174,
            "learn": [
             178.3233512
            ],
            "passed_time": 0.3447246537,
            "remaining_time": 0.2462318955,
            "test": [
             195.7035481
            ]
           },
           {
            "iteration": 175,
            "learn": [
             178.3123805
            ],
            "passed_time": 0.3466788431,
            "remaining_time": 0.2442510031,
            "test": [
             195.6991472
            ]
           },
           {
            "iteration": 176,
            "learn": [
             178.2907505
            ],
            "passed_time": 0.349008591,
            "remaining_time": 0.2425313938,
            "test": [
             195.6864477
            ]
           },
           {
            "iteration": 177,
            "learn": [
             178.2758652
            ],
            "passed_time": 0.350896411,
            "remaining_time": 0.2405020345,
            "test": [
             195.6810594
            ]
           },
           {
            "iteration": 178,
            "learn": [
             178.2677283
            ],
            "passed_time": 0.3527989343,
            "remaining_time": 0.2384841958,
            "test": [
             195.6698806
            ]
           },
           {
            "iteration": 179,
            "learn": [
             178.2577153
            ],
            "passed_time": 0.3547616335,
            "remaining_time": 0.2365077557,
            "test": [
             195.6523751
            ]
           },
           {
            "iteration": 180,
            "learn": [
             178.2450881
            ],
            "passed_time": 0.3570101343,
            "remaining_time": 0.23471937,
            "test": [
             195.6285323
            ]
           },
           {
            "iteration": 181,
            "learn": [
             178.2414337
            ],
            "passed_time": 0.3589218555,
            "remaining_time": 0.2327075767,
            "test": [
             195.62933
            ]
           },
           {
            "iteration": 182,
            "learn": [
             178.22692
            ],
            "passed_time": 0.3609027825,
            "remaining_time": 0.2307411232,
            "test": [
             195.6190008
            ]
           },
           {
            "iteration": 183,
            "learn": [
             178.2153215
            ],
            "passed_time": 0.3628966564,
            "remaining_time": 0.2287826747,
            "test": [
             195.6017891
            ]
           },
           {
            "iteration": 184,
            "learn": [
             178.2096573
            ],
            "passed_time": 0.364897771,
            "remaining_time": 0.2268283441,
            "test": [
             195.5870762
            ]
           },
           {
            "iteration": 185,
            "learn": [
             178.200916
            ],
            "passed_time": 0.3666815934,
            "remaining_time": 0.2247403314,
            "test": [
             195.5643921
            ]
           },
           {
            "iteration": 186,
            "learn": [
             178.1835442
            ],
            "passed_time": 0.3686259921,
            "remaining_time": 0.2227526048,
            "test": [
             195.5427877
            ]
           },
           {
            "iteration": 187,
            "learn": [
             178.1614487
            ],
            "passed_time": 0.3706114035,
            "remaining_time": 0.2207897723,
            "test": [
             195.5068184
            ]
           },
           {
            "iteration": 188,
            "learn": [
             178.1510375
            ],
            "passed_time": 0.3725970585,
            "remaining_time": 0.2188268439,
            "test": [
             195.4983429
            ]
           },
           {
            "iteration": 189,
            "learn": [
             178.1312401
            ],
            "passed_time": 0.3745053453,
            "remaining_time": 0.2168188841,
            "test": [
             195.4718388
            ]
           },
           {
            "iteration": 190,
            "learn": [
             178.1092506
            ],
            "passed_time": 0.3764797251,
            "remaining_time": 0.214849686,
            "test": [
             195.4440284
            ]
           },
           {
            "iteration": 191,
            "learn": [
             178.101819
            ],
            "passed_time": 0.3789268067,
            "remaining_time": 0.2131463288,
            "test": [
             195.4396887
            ]
           },
           {
            "iteration": 192,
            "learn": [
             178.0973697
            ],
            "passed_time": 0.3811741484,
            "remaining_time": 0.2113245279,
            "test": [
             195.4397109
            ]
           },
           {
            "iteration": 193,
            "learn": [
             178.0759557
            ],
            "passed_time": 0.3831852946,
            "remaining_time": 0.2093692847,
            "test": [
             195.4297967
            ]
           },
           {
            "iteration": 194,
            "learn": [
             178.0692509
            ],
            "passed_time": 0.3851287179,
            "remaining_time": 0.2073770019,
            "test": [
             195.409589
            ]
           },
           {
            "iteration": 195,
            "learn": [
             178.0645015
            ],
            "passed_time": 0.38708287,
            "remaining_time": 0.2053909106,
            "test": [
             195.3990974
            ]
           },
           {
            "iteration": 196,
            "learn": [
             178.0478528
            ],
            "passed_time": 0.3890273141,
            "remaining_time": 0.2034000678,
            "test": [
             195.3831012
            ]
           },
           {
            "iteration": 197,
            "learn": [
             178.0299223
            ],
            "passed_time": 0.3909264129,
            "remaining_time": 0.2013863339,
            "test": [
             195.4002628
            ]
           },
           {
            "iteration": 198,
            "learn": [
             178.0076428
            ],
            "passed_time": 0.3939141357,
            "remaining_time": 0.1999262699,
            "test": [
             195.3950515
            ]
           },
           {
            "iteration": 199,
            "learn": [
             177.9904561
            ],
            "passed_time": 0.3958969453,
            "remaining_time": 0.1979484727,
            "test": [
             195.3618235
            ]
           },
           {
            "iteration": 200,
            "learn": [
             177.9715115
            ],
            "passed_time": 0.3978468902,
            "remaining_time": 0.1959544385,
            "test": [
             195.3189587
            ]
           },
           {
            "iteration": 201,
            "learn": [
             177.9520869
            ],
            "passed_time": 0.399812363,
            "remaining_time": 0.1939683741,
            "test": [
             195.3021157
            ]
           },
           {
            "iteration": 202,
            "learn": [
             177.9439839
            ],
            "passed_time": 0.4016805952,
            "remaining_time": 0.191936048,
            "test": [
             195.3008711
            ]
           },
           {
            "iteration": 203,
            "learn": [
             177.9310176
            ],
            "passed_time": 0.4035705416,
            "remaining_time": 0.189915549,
            "test": [
             195.3033883
            ]
           },
           {
            "iteration": 204,
            "learn": [
             177.9259739
            ],
            "passed_time": 0.4055532175,
            "remaining_time": 0.1879392959,
            "test": [
             195.297431
            ]
           },
           {
            "iteration": 205,
            "learn": [
             177.9129923
            ],
            "passed_time": 0.4075011334,
            "remaining_time": 0.1859471191,
            "test": [
             195.2914663
            ]
           },
           {
            "iteration": 206,
            "learn": [
             177.8946455
            ],
            "passed_time": 0.4094346014,
            "remaining_time": 0.1839488789,
            "test": [
             195.2663407
            ]
           },
           {
            "iteration": 207,
            "learn": [
             177.885951
            ],
            "passed_time": 0.4114068313,
            "remaining_time": 0.1819684062,
            "test": [
             195.267614
            ]
           },
           {
            "iteration": 208,
            "learn": [
             177.870048
            ],
            "passed_time": 0.4133429593,
            "remaining_time": 0.1799722933,
            "test": [
             195.2523386
            ]
           },
           {
            "iteration": 209,
            "learn": [
             177.8569683
            ],
            "passed_time": 0.4153425476,
            "remaining_time": 0.178003949,
            "test": [
             195.2323615
            ]
           },
           {
            "iteration": 210,
            "learn": [
             177.8451073
            ],
            "passed_time": 0.4182126349,
            "remaining_time": 0.1764024858,
            "test": [
             195.2298396
            ]
           },
           {
            "iteration": 211,
            "learn": [
             177.8182109
            ],
            "passed_time": 0.4209617695,
            "remaining_time": 0.1747388477,
            "test": [
             195.20796
            ]
           },
           {
            "iteration": 212,
            "learn": [
             177.8026132
            ],
            "passed_time": 0.4240309813,
            "remaining_time": 0.1731957529,
            "test": [
             195.2047814
            ]
           },
           {
            "iteration": 213,
            "learn": [
             177.7939066
            ],
            "passed_time": 0.4270835607,
            "remaining_time": 0.1716317113,
            "test": [
             195.2028983
            ]
           },
           {
            "iteration": 214,
            "learn": [
             177.7744586
            ],
            "passed_time": 0.4291710388,
            "remaining_time": 0.1696722712,
            "test": [
             195.1686527
            ]
           },
           {
            "iteration": 215,
            "learn": [
             177.7669751
            ],
            "passed_time": 0.4312286785,
            "remaining_time": 0.1677000417,
            "test": [
             195.1643134
            ]
           },
           {
            "iteration": 216,
            "learn": [
             177.7569852
            ],
            "passed_time": 0.4331849588,
            "remaining_time": 0.1656882561,
            "test": [
             195.1681192
            ]
           },
           {
            "iteration": 217,
            "learn": [
             177.7394175
            ],
            "passed_time": 0.4351682502,
            "remaining_time": 0.16368714,
            "test": [
             195.1580523
            ]
           },
           {
            "iteration": 218,
            "learn": [
             177.72729
            ],
            "passed_time": 0.4371692758,
            "remaining_time": 0.1616927458,
            "test": [
             195.1413634
            ]
           },
           {
            "iteration": 219,
            "learn": [
             177.7174069
            ],
            "passed_time": 0.4391673187,
            "remaining_time": 0.1596972068,
            "test": [
             195.1352884
            ]
           },
           {
            "iteration": 220,
            "learn": [
             177.7035802
            ],
            "passed_time": 0.4410021444,
            "remaining_time": 0.1576433005,
            "test": [
             195.1153193
            ]
           },
           {
            "iteration": 221,
            "learn": [
             177.6908998
            ],
            "passed_time": 0.4429710353,
            "remaining_time": 0.1556384719,
            "test": [
             195.1173329
            ]
           },
           {
            "iteration": 222,
            "learn": [
             177.6875075
            ],
            "passed_time": 0.4450591152,
            "remaining_time": 0.1536751205,
            "test": [
             195.115143
            ]
           },
           {
            "iteration": 223,
            "learn": [
             177.6777831
            ],
            "passed_time": 0.4470355731,
            "remaining_time": 0.1516727837,
            "test": [
             195.1030117
            ]
           },
           {
            "iteration": 224,
            "learn": [
             177.6672803
            ],
            "passed_time": 0.4490180219,
            "remaining_time": 0.149672674,
            "test": [
             195.0944172
            ]
           },
           {
            "iteration": 225,
            "learn": [
             177.6565754
            ],
            "passed_time": 0.4509730412,
            "remaining_time": 0.1476637392,
            "test": [
             195.086054
            ]
           },
           {
            "iteration": 226,
            "learn": [
             177.6388852
            ],
            "passed_time": 0.4529022648,
            "remaining_time": 0.1456469838,
            "test": [
             195.0757756
            ]
           },
           {
            "iteration": 227,
            "learn": [
             177.6162437
            ],
            "passed_time": 0.4548183305,
            "remaining_time": 0.1436268412,
            "test": [
             195.0732269
            ]
           },
           {
            "iteration": 228,
            "learn": [
             177.6113002
            ],
            "passed_time": 0.4568297104,
            "remaining_time": 0.1416371591,
            "test": [
             195.0692736
            ]
           },
           {
            "iteration": 229,
            "learn": [
             177.590606
            ],
            "passed_time": 0.4590808465,
            "remaining_time": 0.1397202576,
            "test": [
             195.054427
            ]
           },
           {
            "iteration": 230,
            "learn": [
             177.5860686
            ],
            "passed_time": 0.4608294906,
            "remaining_time": 0.1376503673,
            "test": [
             195.0522022
            ]
           },
           {
            "iteration": 231,
            "learn": [
             177.5830896
            ],
            "passed_time": 0.4626845996,
            "remaining_time": 0.1356144516,
            "test": [
             195.052298
            ]
           },
           {
            "iteration": 232,
            "learn": [
             177.5691731
            ],
            "passed_time": 0.4662284031,
            "remaining_time": 0.1340656781,
            "test": [
             195.0456704
            ]
           },
           {
            "iteration": 233,
            "learn": [
             177.5569676
            ],
            "passed_time": 0.469410315,
            "remaining_time": 0.1323977812,
            "test": [
             195.0346215
            ]
           },
           {
            "iteration": 234,
            "learn": [
             177.5515739
            ],
            "passed_time": 0.4729566585,
            "remaining_time": 0.1308177991,
            "test": [
             195.0280785
            ]
           },
           {
            "iteration": 235,
            "learn": [
             177.5439066
            ],
            "passed_time": 0.4765799747,
            "remaining_time": 0.129242027,
            "test": [
             195.044252
            ]
           },
           {
            "iteration": 236,
            "learn": [
             177.5336645
            ],
            "passed_time": 0.4807293815,
            "remaining_time": 0.1277888229,
            "test": [
             195.0405722
            ]
           },
           {
            "iteration": 237,
            "learn": [
             177.5330142
            ],
            "passed_time": 0.4836063577,
            "remaining_time": 0.1259814881,
            "test": [
             195.0405326
            ]
           },
           {
            "iteration": 238,
            "learn": [
             177.5225238
            ],
            "passed_time": 0.4858247719,
            "remaining_time": 0.1239971175,
            "test": [
             195.0328967
            ]
           },
           {
            "iteration": 239,
            "learn": [
             177.5124672
            ],
            "passed_time": 0.4878498651,
            "remaining_time": 0.1219624663,
            "test": [
             195.0328798
            ]
           },
           {
            "iteration": 240,
            "learn": [
             177.5073421
            ],
            "passed_time": 0.4897826395,
            "remaining_time": 0.1199052935,
            "test": [
             195.0328423
            ]
           },
           {
            "iteration": 241,
            "learn": [
             177.4822031
            ],
            "passed_time": 0.4917617374,
            "remaining_time": 0.1178602511,
            "test": [
             194.9848041
            ]
           },
           {
            "iteration": 242,
            "learn": [
             177.4336116
            ],
            "passed_time": 0.4942372192,
            "remaining_time": 0.1159321872,
            "test": [
             194.9613474
            ]
           },
           {
            "iteration": 243,
            "learn": [
             177.4300601
            ],
            "passed_time": 0.4961742754,
            "remaining_time": 0.1138760632,
            "test": [
             194.9618161
            ]
           },
           {
            "iteration": 244,
            "learn": [
             177.4258774
            ],
            "passed_time": 0.4981719546,
            "remaining_time": 0.1118345204,
            "test": [
             194.9605813
            ]
           },
           {
            "iteration": 245,
            "learn": [
             177.4095186
            ],
            "passed_time": 0.5001010501,
            "remaining_time": 0.1097782793,
            "test": [
             194.9568424
            ]
           },
           {
            "iteration": 246,
            "learn": [
             177.3938599
            ],
            "passed_time": 0.5055736863,
            "remaining_time": 0.1084834226,
            "test": [
             194.9521874
            ]
           },
           {
            "iteration": 247,
            "learn": [
             177.3783896
            ],
            "passed_time": 0.508892395,
            "remaining_time": 0.1067032441,
            "test": [
             194.9364001
            ]
           },
           {
            "iteration": 248,
            "learn": [
             177.3740295
            ],
            "passed_time": 0.5111924682,
            "remaining_time": 0.1047020718,
            "test": [
             194.936325
            ]
           },
           {
            "iteration": 249,
            "learn": [
             177.3731379
            ],
            "passed_time": 0.5134640066,
            "remaining_time": 0.1026928013,
            "test": [
             194.9362044
            ]
           },
           {
            "iteration": 250,
            "learn": [
             177.3667861
            ],
            "passed_time": 0.5156881761,
            "remaining_time": 0.1006721937,
            "test": [
             194.932
            ]
           },
           {
            "iteration": 251,
            "learn": [
             177.3154794
            ],
            "passed_time": 0.5176698766,
            "remaining_time": 0.09860378603,
            "test": [
             194.9404382
            ]
           },
           {
            "iteration": 252,
            "learn": [
             177.3128206
            ],
            "passed_time": 0.5196036756,
            "remaining_time": 0.09652716503,
            "test": [
             194.9398438
            ]
           },
           {
            "iteration": 253,
            "learn": [
             177.3079654
            ],
            "passed_time": 0.5215132805,
            "remaining_time": 0.09444728702,
            "test": [
             194.9398295
            ]
           },
           {
            "iteration": 254,
            "learn": [
             177.3071024
            ],
            "passed_time": 0.5234201692,
            "remaining_time": 0.09236826515,
            "test": [
             194.9388584
            ]
           },
           {
            "iteration": 255,
            "learn": [
             177.2996057
            ],
            "passed_time": 0.5253656006,
            "remaining_time": 0.0902972126,
            "test": [
             194.9350805
            ]
           },
           {
            "iteration": 256,
            "learn": [
             177.296327
            ],
            "passed_time": 0.5278211092,
            "remaining_time": 0.08831248131,
            "test": [
             194.9375926
            ]
           },
           {
            "iteration": 257,
            "learn": [
             177.2896933
            ],
            "passed_time": 0.529805597,
            "remaining_time": 0.08624742277,
            "test": [
             194.9353536
            ]
           },
           {
            "iteration": 258,
            "learn": [
             177.2745831
            ],
            "passed_time": 0.5317355597,
            "remaining_time": 0.08417435501,
            "test": [
             194.9295481
            ]
           },
           {
            "iteration": 259,
            "learn": [
             177.2670161
            ],
            "passed_time": 0.5336708267,
            "remaining_time": 0.08210320412,
            "test": [
             194.9309956
            ]
           },
           {
            "iteration": 260,
            "learn": [
             177.2649013
            ],
            "passed_time": 0.5356779494,
            "remaining_time": 0.08004383153,
            "test": [
             194.930254
            ]
           },
           {
            "iteration": 261,
            "learn": [
             177.2545415
            ],
            "passed_time": 0.53762102,
            "remaining_time": 0.07797556778,
            "test": [
             194.9274046
            ]
           },
           {
            "iteration": 262,
            "learn": [
             177.2471322
            ],
            "passed_time": 0.539648024,
            "remaining_time": 0.07592006422,
            "test": [
             194.9301613
            ]
           },
           {
            "iteration": 263,
            "learn": [
             177.2373178
            ],
            "passed_time": 0.5416191939,
            "remaining_time": 0.07385716281,
            "test": [
             194.9289404
            ]
           },
           {
            "iteration": 264,
            "learn": [
             177.1971611
            ],
            "passed_time": 0.5435706352,
            "remaining_time": 0.07179234804,
            "test": [
             194.9307836
            ]
           },
           {
            "iteration": 265,
            "learn": [
             177.1889994
            ],
            "passed_time": 0.5454623942,
            "remaining_time": 0.06972075715,
            "test": [
             194.916023
            ]
           },
           {
            "iteration": 266,
            "learn": [
             177.1863379
            ],
            "passed_time": 0.547419228,
            "remaining_time": 0.06765855627,
            "test": [
             194.919555
            ]
           },
           {
            "iteration": 267,
            "learn": [
             177.1843143
            ],
            "passed_time": 0.5493728329,
            "remaining_time": 0.06559675616,
            "test": [
             194.9188485
            ]
           },
           {
            "iteration": 268,
            "learn": [
             177.1683767
            ],
            "passed_time": 0.5513995069,
            "remaining_time": 0.06354418109,
            "test": [
             194.9172185
            ]
           },
           {
            "iteration": 269,
            "learn": [
             177.1657596
            ],
            "passed_time": 0.5533622361,
            "remaining_time": 0.0614846929,
            "test": [
             194.9135648
            ]
           },
           {
            "iteration": 270,
            "learn": [
             177.1618897
            ],
            "passed_time": 0.5553271825,
            "remaining_time": 0.05942615606,
            "test": [
             194.9233657
            ]
           },
           {
            "iteration": 271,
            "learn": [
             177.160589
            ],
            "passed_time": 0.5570822701,
            "remaining_time": 0.05734670427,
            "test": [
             194.9213827
            ]
           },
           {
            "iteration": 272,
            "learn": [
             177.1510244
            ],
            "passed_time": 0.5589717882,
            "remaining_time": 0.05528292411,
            "test": [
             194.8970701
            ]
           },
           {
            "iteration": 273,
            "learn": [
             177.1462211
            ],
            "passed_time": 0.5609371137,
            "remaining_time": 0.05322760933,
            "test": [
             194.8931616
            ]
           },
           {
            "iteration": 274,
            "learn": [
             177.1404554
            ],
            "passed_time": 0.5631644659,
            "remaining_time": 0.05119676962,
            "test": [
             194.8967296
            ]
           },
           {
            "iteration": 275,
            "learn": [
             177.1086457
            ],
            "passed_time": 0.5661846969,
            "remaining_time": 0.04923345191,
            "test": [
             194.8960098
            ]
           },
           {
            "iteration": 276,
            "learn": [
             177.1034755
            ],
            "passed_time": 0.5681362464,
            "remaining_time": 0.04717376775,
            "test": [
             194.8922852
            ]
           },
           {
            "iteration": 277,
            "learn": [
             177.1000592
            ],
            "passed_time": 0.5712242214,
            "remaining_time": 0.0452047945,
            "test": [
             194.8933095
            ]
           },
           {
            "iteration": 278,
            "learn": [
             177.0953387
            ],
            "passed_time": 0.5741039766,
            "remaining_time": 0.04321212727,
            "test": [
             194.8927309
            ]
           },
           {
            "iteration": 279,
            "learn": [
             177.091493
            ],
            "passed_time": 0.5771730093,
            "remaining_time": 0.04122664352,
            "test": [
             194.8872765
            ]
           },
           {
            "iteration": 280,
            "learn": [
             177.088552
            ],
            "passed_time": 0.5792383879,
            "remaining_time": 0.03916558495,
            "test": [
             194.8868527
            ]
           },
           {
            "iteration": 281,
            "learn": [
             177.0743076
            ],
            "passed_time": 0.5812528959,
            "remaining_time": 0.03710124867,
            "test": [
             194.8847965
            ]
           },
           {
            "iteration": 282,
            "learn": [
             177.0717566
            ],
            "passed_time": 0.5832073343,
            "remaining_time": 0.03503365613,
            "test": [
             194.8866028
            ]
           },
           {
            "iteration": 283,
            "learn": [
             177.0603997
            ],
            "passed_time": 0.5852111635,
            "remaining_time": 0.03296964301,
            "test": [
             194.8727391
            ]
           },
           {
            "iteration": 284,
            "learn": [
             177.0147613
            ],
            "passed_time": 0.5871908759,
            "remaining_time": 0.03090478294,
            "test": [
             194.8511897
            ]
           },
           {
            "iteration": 285,
            "learn": [
             177.0006613
            ],
            "passed_time": 0.5891762536,
            "remaining_time": 0.02884079563,
            "test": [
             194.8366366
            ]
           },
           {
            "iteration": 286,
            "learn": [
             176.9998407
            ],
            "passed_time": 0.5911028527,
            "remaining_time": 0.02677469368,
            "test": [
             194.836276
            ]
           },
           {
            "iteration": 287,
            "learn": [
             176.9934144
            ],
            "passed_time": 0.593098013,
            "remaining_time": 0.02471241721,
            "test": [
             194.827234
            ]
           },
           {
            "iteration": 288,
            "learn": [
             176.9769363
            ],
            "passed_time": 0.5950423471,
            "remaining_time": 0.02264867065,
            "test": [
             194.8204535
            ]
           },
           {
            "iteration": 289,
            "learn": [
             176.9587825
            ],
            "passed_time": 0.5970345656,
            "remaining_time": 0.02058739881,
            "test": [
             194.7892459
            ]
           },
           {
            "iteration": 290,
            "learn": [
             176.9568769
            ],
            "passed_time": 0.5989972902,
            "remaining_time": 0.01852568939,
            "test": [
             194.7885576
            ]
           },
           {
            "iteration": 291,
            "learn": [
             176.9475572
            ],
            "passed_time": 0.6009640502,
            "remaining_time": 0.0164647685,
            "test": [
             194.785743
            ]
           },
           {
            "iteration": 292,
            "learn": [
             176.945351
            ],
            "passed_time": 0.6028820841,
            "remaining_time": 0.01440332624,
            "test": [
             194.7847161
            ]
           },
           {
            "iteration": 293,
            "learn": [
             176.9435269
            ],
            "passed_time": 0.6049015719,
            "remaining_time": 0.01234493004,
            "test": [
             194.7840905
            ]
           },
           {
            "iteration": 294,
            "learn": [
             176.9424273
            ],
            "passed_time": 0.6068024771,
            "remaining_time": 0.01028478775,
            "test": [
             194.7858829
            ]
           },
           {
            "iteration": 295,
            "learn": [
             176.927466
            ],
            "passed_time": 0.608758131,
            "remaining_time": 0.008226461229,
            "test": [
             194.779167
            ]
           },
           {
            "iteration": 296,
            "learn": [
             176.9138283
            ],
            "passed_time": 0.6106446646,
            "remaining_time": 0.006168127925,
            "test": [
             194.8011315
            ]
           },
           {
            "iteration": 297,
            "learn": [
             176.9090036
            ],
            "passed_time": 0.6125635484,
            "remaining_time": 0.004111164755,
            "test": [
             194.793483
            ]
           },
           {
            "iteration": 298,
            "learn": [
             176.9037387
            ],
            "passed_time": 0.6144589455,
            "remaining_time": 0.002055046641,
            "test": [
             194.7865278
            ]
           },
           {
            "iteration": 299,
            "learn": [
             176.9027807
            ],
            "passed_time": 0.6163499155,
            "remaining_time": 0,
            "test": [
             194.7862034
            ]
           }
          ],
          "meta": {
           "iteration_count": 300,
           "launch_mode": "Train",
           "learn_metrics": [
            {
             "best_value": "Min",
             "name": "RMSE"
            }
           ],
           "learn_sets": [
            "learn"
           ],
           "name": "experiment",
           "parameters": "",
           "test_metrics": [
            {
             "best_value": "Min",
             "name": "RMSE"
            }
           ],
           "test_sets": [
            "test"
           ]
          }
         },
         "passed_iterations": 299,
         "total_iterations": 300
        },
        "name": "fold-0",
        "path": "catboost_info/fold-0"
       },
       "catboost_info/fold-1": {
        "content": {
         "data": {
          "iterations": [
           {
            "iteration": 0,
            "learn": [
             330.1718231
            ],
            "passed_time": 0.001460489874,
            "remaining_time": 0.4366864724,
            "test": [
             312.8774553
            ]
           },
           {
            "iteration": 1,
            "learn": [
             323.7502305
            ],
            "passed_time": 0.005205975108,
            "remaining_time": 0.7756902911,
            "test": [
             305.866452
            ]
           },
           {
            "iteration": 2,
            "learn": [
             317.5816227
            ],
            "passed_time": 0.00718967925,
            "remaining_time": 0.7117782458,
            "test": [
             299.1089323
            ]
           },
           {
            "iteration": 3,
            "learn": [
             311.6672062
            ],
            "passed_time": 0.009816710339,
            "remaining_time": 0.7264365651,
            "test": [
             292.6241647
            ]
           },
           {
            "iteration": 4,
            "learn": [
             306.0719939
            ],
            "passed_time": 0.01123696296,
            "remaining_time": 0.6629808148,
            "test": [
             286.415518
            ]
           },
           {
            "iteration": 5,
            "learn": [
             300.6258471
            ],
            "passed_time": 0.01346586416,
            "remaining_time": 0.659827344,
            "test": [
             280.4187297
            ]
           },
           {
            "iteration": 6,
            "learn": [
             295.701464
            ],
            "passed_time": 0.01435064098,
            "remaining_time": 0.6006768297,
            "test": [
             275.0243541
            ]
           },
           {
            "iteration": 7,
            "learn": [
             290.6933873
            ],
            "passed_time": 0.01616441542,
            "remaining_time": 0.5900011627,
            "test": [
             269.4345346
            ]
           },
           {
            "iteration": 8,
            "learn": [
             285.9050078
            ],
            "passed_time": 0.01869115792,
            "remaining_time": 0.6043474393,
            "test": [
             264.070953
            ]
           },
           {
            "iteration": 9,
            "learn": [
             281.3827517
            ],
            "passed_time": 0.02058634501,
            "remaining_time": 0.5970040054,
            "test": [
             258.9810959
            ]
           },
           {
            "iteration": 10,
            "learn": [
             276.9787696
            ],
            "passed_time": 0.02257961348,
            "remaining_time": 0.5932280269,
            "test": [
             254.0123818
            ]
           },
           {
            "iteration": 11,
            "learn": [
             272.783725
            ],
            "passed_time": 0.02466332986,
            "remaining_time": 0.5919199166,
            "test": [
             249.2793407
            ]
           },
           {
            "iteration": 12,
            "learn": [
             268.8696822
            ],
            "passed_time": 0.02671168978,
            "remaining_time": 0.5897119205,
            "test": [
             244.7919325
            ]
           },
           {
            "iteration": 13,
            "learn": [
             265.0476482
            ],
            "passed_time": 0.02872768499,
            "remaining_time": 0.5868655648,
            "test": [
             240.4875905
            ]
           },
           {
            "iteration": 14,
            "learn": [
             261.3878772
            ],
            "passed_time": 0.03067538906,
            "remaining_time": 0.5828323921,
            "test": [
             236.3017159
            ]
           },
           {
            "iteration": 15,
            "learn": [
             257.8737159
            ],
            "passed_time": 0.03285979765,
            "remaining_time": 0.5832614083,
            "test": [
             232.2613135
            ]
           },
           {
            "iteration": 16,
            "learn": [
             254.6189354
            ],
            "passed_time": 0.03552647691,
            "remaining_time": 0.591411351,
            "test": [
             228.5209967
            ]
           },
           {
            "iteration": 17,
            "learn": [
             251.4462033
            ],
            "passed_time": 0.03748122082,
            "remaining_time": 0.5872057928,
            "test": [
             224.8110874
            ]
           },
           {
            "iteration": 18,
            "learn": [
             248.4203948
            ],
            "passed_time": 0.03939724925,
            "remaining_time": 0.582664581,
            "test": [
             221.2799426
            ]
           },
           {
            "iteration": 19,
            "learn": [
             245.5286893
            ],
            "passed_time": 0.04123308772,
            "remaining_time": 0.5772632281,
            "test": [
             217.9633661
            ]
           },
           {
            "iteration": 20,
            "learn": [
             242.8241166
            ],
            "passed_time": 0.04316603304,
            "remaining_time": 0.5734915818,
            "test": [
             215.2163219
            ]
           },
           {
            "iteration": 21,
            "learn": [
             240.2623092
            ],
            "passed_time": 0.04528298865,
            "remaining_time": 0.5722123111,
            "test": [
             212.1608865
            ]
           },
           {
            "iteration": 22,
            "learn": [
             237.7665894
            ],
            "passed_time": 0.04755328344,
            "remaining_time": 0.5727069353,
            "test": [
             209.2599399
            ]
           },
           {
            "iteration": 23,
            "learn": [
             235.3978105
            ],
            "passed_time": 0.04963200175,
            "remaining_time": 0.5707680201,
            "test": [
             206.4257654
            ]
           },
           {
            "iteration": 24,
            "learn": [
             233.1999866
            ],
            "passed_time": 0.05099034307,
            "remaining_time": 0.5608937738,
            "test": [
             203.7684342
            ]
           },
           {
            "iteration": 25,
            "learn": [
             231.0558517
            ],
            "passed_time": 0.05294173342,
            "remaining_time": 0.5579244214,
            "test": [
             201.1639559
            ]
           },
           {
            "iteration": 26,
            "learn": [
             229.0438911
            ],
            "passed_time": 0.05562849949,
            "remaining_time": 0.5624659393,
            "test": [
             198.7337371
            ]
           },
           {
            "iteration": 27,
            "learn": [
             227.1022965
            ],
            "passed_time": 0.06010996589,
            "remaining_time": 0.5839253829,
            "test": [
             196.3984127
            ]
           },
           {
            "iteration": 28,
            "learn": [
             225.2660454
            ],
            "passed_time": 0.06391624245,
            "remaining_time": 0.5972862656,
            "test": [
             194.1400077
            ]
           },
           {
            "iteration": 29,
            "learn": [
             223.5109636
            ],
            "passed_time": 0.06594623825,
            "remaining_time": 0.5935161442,
            "test": [
             191.9880688
            ]
           },
           {
            "iteration": 30,
            "learn": [
             221.8563362
            ],
            "passed_time": 0.06798313934,
            "remaining_time": 0.5899182091,
            "test": [
             189.9446321
            ]
           },
           {
            "iteration": 31,
            "learn": [
             220.3351755
            ],
            "passed_time": 0.06994978115,
            "remaining_time": 0.5858294171,
            "test": [
             188.1496209
            ]
           },
           {
            "iteration": 32,
            "learn": [
             218.8459028
            ],
            "passed_time": 0.07174770141,
            "remaining_time": 0.5805041296,
            "test": [
             186.3041495
            ]
           },
           {
            "iteration": 33,
            "learn": [
             217.4372814
            ],
            "passed_time": 0.07366518981,
            "remaining_time": 0.5763217791,
            "test": [
             184.5249891
            ]
           },
           {
            "iteration": 34,
            "learn": [
             216.0703829
            ],
            "passed_time": 0.07562529086,
            "remaining_time": 0.5725914879,
            "test": [
             182.8413574
            ]
           },
           {
            "iteration": 35,
            "learn": [
             214.7906361
            ],
            "passed_time": 0.07768258875,
            "remaining_time": 0.5696723175,
            "test": [
             181.2382518
            ]
           },
           {
            "iteration": 36,
            "learn": [
             213.6189429
            ],
            "passed_time": 0.07969490405,
            "remaining_time": 0.5664799937,
            "test": [
             179.7211104
            ]
           },
           {
            "iteration": 37,
            "learn": [
             212.4856118
            ],
            "passed_time": 0.08165427967,
            "remaining_time": 0.5629847703,
            "test": [
             178.2744737
            ]
           },
           {
            "iteration": 38,
            "learn": [
             211.440009
            ],
            "passed_time": 0.0836516144,
            "remaining_time": 0.5598223426,
            "test": [
             176.9731047
            ]
           },
           {
            "iteration": 39,
            "learn": [
             210.424327
            ],
            "passed_time": 0.08613407974,
            "remaining_time": 0.5598715183,
            "test": [
             175.8697219
            ]
           },
           {
            "iteration": 40,
            "learn": [
             209.4391471
            ],
            "passed_time": 0.08830487229,
            "remaining_time": 0.5578283396,
            "test": [
             174.6377178
            ]
           },
           {
            "iteration": 41,
            "learn": [
             208.600629
            ],
            "passed_time": 0.09009251824,
            "remaining_time": 0.5534254692,
            "test": [
             173.5720585
            ]
           },
           {
            "iteration": 42,
            "learn": [
             207.8073577
            ],
            "passed_time": 0.09095466831,
            "remaining_time": 0.543612785,
            "test": [
             172.561003
            ]
           },
           {
            "iteration": 43,
            "learn": [
             206.9832481
            ],
            "passed_time": 0.09303012215,
            "remaining_time": 0.5412661652,
            "test": [
             171.4767219
            ]
           },
           {
            "iteration": 44,
            "learn": [
             206.2082996
            ],
            "passed_time": 0.0943835645,
            "remaining_time": 0.5348401988,
            "test": [
             170.4689888
            ]
           },
           {
            "iteration": 45,
            "learn": [
             205.4439473
            ],
            "passed_time": 0.09666718534,
            "remaining_time": 0.5337709799,
            "test": [
             169.5267306
            ]
           },
           {
            "iteration": 46,
            "learn": [
             204.7404888
            ],
            "passed_time": 0.09910352629,
            "remaining_time": 0.5334721734,
            "test": [
             168.5794959
            ]
           },
           {
            "iteration": 47,
            "learn": [
             204.1379363
            ],
            "passed_time": 0.100498294,
            "remaining_time": 0.5276160438,
            "test": [
             167.8114661
            ]
           },
           {
            "iteration": 48,
            "learn": [
             203.4845543
            ],
            "passed_time": 0.1023616073,
            "remaining_time": 0.5243421111,
            "test": [
             166.9276146
            ]
           },
           {
            "iteration": 49,
            "learn": [
             202.8799281
            ],
            "passed_time": 0.1043307455,
            "remaining_time": 0.5216537273,
            "test": [
             166.1366579
            ]
           },
           {
            "iteration": 50,
            "learn": [
             202.3510311
            ],
            "passed_time": 0.1057126581,
            "remaining_time": 0.516126507,
            "test": [
             165.4336293
            ]
           },
           {
            "iteration": 51,
            "learn": [
             201.7624688
            ],
            "passed_time": 0.1087562159,
            "remaining_time": 0.5186834911,
            "test": [
             164.6151827
            ]
           },
           {
            "iteration": 52,
            "learn": [
             201.2513881
            ],
            "passed_time": 0.110764314,
            "remaining_time": 0.5162035011,
            "test": [
             163.913885
            ]
           },
           {
            "iteration": 53,
            "learn": [
             200.6849406
            ],
            "passed_time": 0.1126608647,
            "remaining_time": 0.5132328281,
            "test": [
             163.172674
            ]
           },
           {
            "iteration": 54,
            "learn": [
             200.1926264
            ],
            "passed_time": 0.114533695,
            "remaining_time": 0.5101955507,
            "test": [
             162.5422893
            ]
           },
           {
            "iteration": 55,
            "learn": [
             199.6769516
            ],
            "passed_time": 0.1165395123,
            "remaining_time": 0.5077793037,
            "test": [
             161.8671277
            ]
           },
           {
            "iteration": 56,
            "learn": [
             199.1953121
            ],
            "passed_time": 0.1186340657,
            "remaining_time": 0.5057557538,
            "test": [
             161.1933971
            ]
           },
           {
            "iteration": 57,
            "learn": [
             198.8175942
            ],
            "passed_time": 0.1206698787,
            "remaining_time": 0.5034846661,
            "test": [
             160.6663418
            ]
           },
           {
            "iteration": 58,
            "learn": [
             198.404553
            ],
            "passed_time": 0.1226551218,
            "remaining_time": 0.5010149893,
            "test": [
             160.0849709
            ]
           },
           {
            "iteration": 59,
            "learn": [
             198.0108957
            ],
            "passed_time": 0.1246296489,
            "remaining_time": 0.4985185957,
            "test": [
             159.4978809
            ]
           },
           {
            "iteration": 60,
            "learn": [
             197.6909653
            ],
            "passed_time": 0.1265907118,
            "remaining_time": 0.4959865593,
            "test": [
             159.0511493
            ]
           },
           {
            "iteration": 61,
            "learn": [
             197.3872174
            ],
            "passed_time": 0.1287639052,
            "remaining_time": 0.4942872489,
            "test": [
             158.6154863
            ]
           },
           {
            "iteration": 62,
            "learn": [
             197.0477332
            ],
            "passed_time": 0.1307653416,
            "remaining_time": 0.4919267614,
            "test": [
             158.1161263
            ]
           },
           {
            "iteration": 63,
            "learn": [
             196.7618846
            ],
            "passed_time": 0.1333293987,
            "remaining_time": 0.4916521578,
            "test": [
             157.7024601
            ]
           },
           {
            "iteration": 64,
            "learn": [
             196.4419334
            ],
            "passed_time": 0.1354007518,
            "remaining_time": 0.4895257948,
            "test": [
             157.2562756
            ]
           },
           {
            "iteration": 65,
            "learn": [
             196.2334856
            ],
            "passed_time": 0.1362232018,
            "remaining_time": 0.4829731701,
            "test": [
             156.9643351
            ]
           },
           {
            "iteration": 66,
            "learn": [
             195.9562651
            ],
            "passed_time": 0.1380475324,
            "remaining_time": 0.480075747,
            "test": [
             156.569746
            ]
           },
           {
            "iteration": 67,
            "learn": [
             195.6704313
            ],
            "passed_time": 0.1400267312,
            "remaining_time": 0.4777382593,
            "test": [
             156.1848413
            ]
           },
           {
            "iteration": 68,
            "learn": [
             195.4641033
            ],
            "passed_time": 0.1417560894,
            "remaining_time": 0.474574734,
            "test": [
             155.8602389
            ]
           },
           {
            "iteration": 69,
            "learn": [
             195.2483023
            ],
            "passed_time": 0.1444055718,
            "remaining_time": 0.4744754501,
            "test": [
             155.5673111
            ]
           },
           {
            "iteration": 70,
            "learn": [
             195.0113868
            ],
            "passed_time": 0.1463627983,
            "remaining_time": 0.4720715609,
            "test": [
             155.2089509
            ]
           },
           {
            "iteration": 71,
            "learn": [
             194.8110436
            ],
            "passed_time": 0.1483290738,
            "remaining_time": 0.4697087337,
            "test": [
             154.8973825
            ]
           },
           {
            "iteration": 72,
            "learn": [
             194.6249404
            ],
            "passed_time": 0.150298911,
            "remaining_time": 0.4673678465,
            "test": [
             154.5952805
            ]
           },
           {
            "iteration": 73,
            "learn": [
             194.4248196
            ],
            "passed_time": 0.1525346457,
            "remaining_time": 0.465849053,
            "test": [
             154.2919914
            ]
           },
           {
            "iteration": 74,
            "learn": [
             194.2462573
            ],
            "passed_time": 0.154491335,
            "remaining_time": 0.4634740049,
            "test": [
             154.0800767
            ]
           },
           {
            "iteration": 75,
            "learn": [
             194.0734323
            ],
            "passed_time": 0.1564537069,
            "remaining_time": 0.461126715,
            "test": [
             153.824526
            ]
           },
           {
            "iteration": 76,
            "learn": [
             193.9420372
            ],
            "passed_time": 0.15832536,
            "remaining_time": 0.4585266919,
            "test": [
             153.6295608
            ]
           },
           {
            "iteration": 77,
            "learn": [
             193.7950992
            ],
            "passed_time": 0.1596809577,
            "remaining_time": 0.454476572,
            "test": [
             153.4495151
            ]
           },
           {
            "iteration": 78,
            "learn": [
             193.6519745
            ],
            "passed_time": 0.1616092413,
            "remaining_time": 0.4520967384,
            "test": [
             153.2082827
            ]
           },
           {
            "iteration": 79,
            "learn": [
             193.4998046
            ],
            "passed_time": 0.1635266461,
            "remaining_time": 0.4496982768,
            "test": [
             153.0186266
            ]
           },
           {
            "iteration": 80,
            "learn": [
             193.3936442
            ],
            "passed_time": 0.1654591487,
            "remaining_time": 0.4473525132,
            "test": [
             152.8493329
            ]
           },
           {
            "iteration": 81,
            "learn": [
             193.2624433
            ],
            "passed_time": 0.1673715772,
            "remaining_time": 0.4449634614,
            "test": [
             152.6795832
            ]
           },
           {
            "iteration": 82,
            "learn": [
             193.1294391
            ],
            "passed_time": 0.1716683479,
            "remaining_time": 0.4488196566,
            "test": [
             152.4908085
            ]
           },
           {
            "iteration": 83,
            "learn": [
             192.9837404
            ],
            "passed_time": 0.1746646423,
            "remaining_time": 0.4491376516,
            "test": [
             152.2884349
            ]
           },
           {
            "iteration": 84,
            "learn": [
             192.8532807
            ],
            "passed_time": 0.1767171294,
            "remaining_time": 0.4469903861,
            "test": [
             152.1191906
            ]
           },
           {
            "iteration": 85,
            "learn": [
             192.7595235
            ],
            "passed_time": 0.1786784858,
            "remaining_time": 0.4446185578,
            "test": [
             151.9643042
            ]
           },
           {
            "iteration": 86,
            "learn": [
             192.6751212
            ],
            "passed_time": 0.1806411187,
            "remaining_time": 0.4422592905,
            "test": [
             151.8310117
            ]
           },
           {
            "iteration": 87,
            "learn": [
             192.5976691
            ],
            "passed_time": 0.1825738067,
            "remaining_time": 0.439836898,
            "test": [
             151.7302005
            ]
           },
           {
            "iteration": 88,
            "learn": [
             192.493832
            ],
            "passed_time": 0.1845109347,
            "remaining_time": 0.4374360361,
            "test": [
             151.5861365
            ]
           },
           {
            "iteration": 89,
            "learn": [
             192.4333681
            ],
            "passed_time": 0.186524279,
            "remaining_time": 0.4352233177,
            "test": [
             151.4792742
            ]
           },
           {
            "iteration": 90,
            "learn": [
             192.3400168
            ],
            "passed_time": 0.1887948565,
            "remaining_time": 0.4336057694,
            "test": [
             151.3290093
            ]
           },
           {
            "iteration": 91,
            "learn": [
             192.2477104
            ],
            "passed_time": 0.1907866359,
            "remaining_time": 0.4313436987,
            "test": [
             151.221983
            ]
           },
           {
            "iteration": 92,
            "learn": [
             192.1618139
            ],
            "passed_time": 0.1927329628,
            "remaining_time": 0.428986272,
            "test": [
             151.1176742
            ]
           },
           {
            "iteration": 93,
            "learn": [
             192.0736658
            ],
            "passed_time": 0.1946921402,
            "remaining_time": 0.4266657541,
            "test": [
             151.0056839
            ]
           },
           {
            "iteration": 94,
            "learn": [
             192.0144479
            ],
            "passed_time": 0.1964937867,
            "remaining_time": 0.4240129082,
            "test": [
             150.9074181
            ]
           },
           {
            "iteration": 95,
            "learn": [
             191.9611577
            ],
            "passed_time": 0.1984886361,
            "remaining_time": 0.4217883517,
            "test": [
             150.8277823
            ]
           },
           {
            "iteration": 96,
            "learn": [
             191.8706434
            ],
            "passed_time": 0.2004634859,
            "remaining_time": 0.4195266766,
            "test": [
             150.7163708
            ]
           },
           {
            "iteration": 97,
            "learn": [
             191.8033964
            ],
            "passed_time": 0.2033404439,
            "remaining_time": 0.4191303028,
            "test": [
             150.5973696
            ]
           },
           {
            "iteration": 98,
            "learn": [
             191.7337821
            ],
            "passed_time": 0.2052785637,
            "remaining_time": 0.4167776899,
            "test": [
             150.5417005
            ]
           },
           {
            "iteration": 99,
            "learn": [
             191.6951226
            ],
            "passed_time": 0.2072214678,
            "remaining_time": 0.4144429357,
            "test": [
             150.4571327
            ]
           },
           {
            "iteration": 100,
            "learn": [
             191.6343269
            ],
            "passed_time": 0.2094150599,
            "remaining_time": 0.4126098704,
            "test": [
             150.3598108
            ]
           },
           {
            "iteration": 101,
            "learn": [
             191.5823303
            ],
            "passed_time": 0.2113378127,
            "remaining_time": 0.4102439893,
            "test": [
             150.295044
            ]
           },
           {
            "iteration": 102,
            "learn": [
             191.5215368
            ],
            "passed_time": 0.2132141238,
            "remaining_time": 0.4077978874,
            "test": [
             150.2279258
            ]
           },
           {
            "iteration": 103,
            "learn": [
             191.4534875
            ],
            "passed_time": 0.2151642524,
            "remaining_time": 0.4055018603,
            "test": [
             150.1557743
            ]
           },
           {
            "iteration": 104,
            "learn": [
             191.3942356
            ],
            "passed_time": 0.2171433967,
            "remaining_time": 0.4032663081,
            "test": [
             150.0529188
            ]
           },
           {
            "iteration": 105,
            "learn": [
             191.345242
            ],
            "passed_time": 0.2190528616,
            "remaining_time": 0.4009080675,
            "test": [
             149.9819604
            ]
           },
           {
            "iteration": 106,
            "learn": [
             191.2955223
            ],
            "passed_time": 0.221033784,
            "remaining_time": 0.3986871057,
            "test": [
             149.9343367
            ]
           },
           {
            "iteration": 107,
            "learn": [
             191.2461032
            ],
            "passed_time": 0.2230378404,
            "remaining_time": 0.3965117162,
            "test": [
             149.8406924
            ]
           },
           {
            "iteration": 108,
            "learn": [
             191.1891612
            ],
            "passed_time": 0.2254777031,
            "remaining_time": 0.3951031311,
            "test": [
             149.776184
            ]
           },
           {
            "iteration": 109,
            "learn": [
             191.1446695
            ],
            "passed_time": 0.2275570814,
            "remaining_time": 0.3930531406,
            "test": [
             149.702058
            ]
           },
           {
            "iteration": 110,
            "learn": [
             191.1171165
            ],
            "passed_time": 0.2306329457,
            "remaining_time": 0.39269934,
            "test": [
             149.6689785
            ]
           },
           {
            "iteration": 111,
            "learn": [
             191.0744787
            ],
            "passed_time": 0.2328774757,
            "remaining_time": 0.390901477,
            "test": [
             149.6175862
            ]
           },
           {
            "iteration": 112,
            "learn": [
             191.0374125
            ],
            "passed_time": 0.2349862069,
            "remaining_time": 0.3888709796,
            "test": [
             149.5375038
            ]
           },
           {
            "iteration": 113,
            "learn": [
             191.0050212
            ],
            "passed_time": 0.2371507723,
            "remaining_time": 0.3869302075,
            "test": [
             149.4788847
            ]
           },
           {
            "iteration": 114,
            "learn": [
             190.9630541
            ],
            "passed_time": 0.2403116793,
            "remaining_time": 0.3865883536,
            "test": [
             149.4339096
            ]
           },
           {
            "iteration": 115,
            "learn": [
             190.9324825
            ],
            "passed_time": 0.2426665403,
            "remaining_time": 0.3849193397,
            "test": [
             149.3880607
            ]
           },
           {
            "iteration": 116,
            "learn": [
             190.9226757
            ],
            "passed_time": 0.2458129439,
            "remaining_time": 0.3844766558,
            "test": [
             149.3665642
            ]
           },
           {
            "iteration": 117,
            "learn": [
             190.8864767
            ],
            "passed_time": 0.2477869674,
            "remaining_time": 0.3821798988,
            "test": [
             149.3158669
            ]
           },
           {
            "iteration": 118,
            "learn": [
             190.8495175
            ],
            "passed_time": 0.2497508083,
            "remaining_time": 0.3798730782,
            "test": [
             149.2676062
            ]
           },
           {
            "iteration": 119,
            "learn": [
             190.8148894
            ],
            "passed_time": 0.2517760888,
            "remaining_time": 0.3776641332,
            "test": [
             149.2261157
            ]
           },
           {
            "iteration": 120,
            "learn": [
             190.7845488
            ],
            "passed_time": 0.253759042,
            "remaining_time": 0.3753956076,
            "test": [
             149.1769806
            ]
           },
           {
            "iteration": 121,
            "learn": [
             190.7585718
            ],
            "passed_time": 0.2564713475,
            "remaining_time": 0.3741959005,
            "test": [
             149.1564971
            ]
           },
           {
            "iteration": 122,
            "learn": [
             190.7171189
            ],
            "passed_time": 0.258422846,
            "remaining_time": 0.3718767784,
            "test": [
             149.0902656
            ]
           },
           {
            "iteration": 123,
            "learn": [
             190.6990442
            ],
            "passed_time": 0.260587366,
            "remaining_time": 0.3698659388,
            "test": [
             149.0712319
            ]
           },
           {
            "iteration": 124,
            "learn": [
             190.6671602
            ],
            "passed_time": 0.2625704011,
            "remaining_time": 0.3675985615,
            "test": [
             149.0060024
            ]
           },
           {
            "iteration": 125,
            "learn": [
             190.6182791
            ],
            "passed_time": 0.2650971054,
            "remaining_time": 0.3660864789,
            "test": [
             148.9485989
            ]
           },
           {
            "iteration": 126,
            "learn": [
             190.5795145
            ],
            "passed_time": 0.2670309252,
            "remaining_time": 0.3637507879,
            "test": [
             148.9159433
            ]
           },
           {
            "iteration": 127,
            "learn": [
             190.5537504
            ],
            "passed_time": 0.2696121346,
            "remaining_time": 0.3622913059,
            "test": [
             148.8759573
            ]
           },
           {
            "iteration": 128,
            "learn": [
             190.5432539
            ],
            "passed_time": 0.2719965359,
            "remaining_time": 0.3605535476,
            "test": [
             148.8547394
            ]
           },
           {
            "iteration": 129,
            "learn": [
             190.5184879
            ],
            "passed_time": 0.2741713711,
            "remaining_time": 0.3585317929,
            "test": [
             148.8057677
            ]
           },
           {
            "iteration": 130,
            "learn": [
             190.5083225
            ],
            "passed_time": 0.2760762943,
            "remaining_time": 0.3561594942,
            "test": [
             148.7806671
            ]
           },
           {
            "iteration": 131,
            "learn": [
             190.4727989
            ],
            "passed_time": 0.2780169776,
            "remaining_time": 0.3538397897,
            "test": [
             148.7254684
            ]
           },
           {
            "iteration": 132,
            "learn": [
             190.4438456
            ],
            "passed_time": 0.279966728,
            "remaining_time": 0.3515371697,
            "test": [
             148.6987738
            ]
           },
           {
            "iteration": 133,
            "learn": [
             190.4230452
            ],
            "passed_time": 0.2822229549,
            "remaining_time": 0.3496194815,
            "test": [
             148.6681356
            ]
           },
           {
            "iteration": 134,
            "learn": [
             190.398004
            ],
            "passed_time": 0.2841586411,
            "remaining_time": 0.3473050058,
            "test": [
             148.6205633
            ]
           },
           {
            "iteration": 135,
            "learn": [
             190.3528762
            ],
            "passed_time": 0.2861163004,
            "remaining_time": 0.3450225975,
            "test": [
             148.5984007
            ]
           },
           {
            "iteration": 136,
            "learn": [
             190.3257481
            ],
            "passed_time": 0.2880279589,
            "remaining_time": 0.3426901993,
            "test": [
             148.5602194
            ]
           },
           {
            "iteration": 137,
            "learn": [
             190.3102156
            ],
            "passed_time": 0.2903589896,
            "remaining_time": 0.3408562052,
            "test": [
             148.5173243
            ]
           },
           {
            "iteration": 138,
            "learn": [
             190.2809523
            ],
            "passed_time": 0.2923145126,
            "remaining_time": 0.3385801189,
            "test": [
             148.479652
            ]
           },
           {
            "iteration": 139,
            "learn": [
             190.2578689
            ],
            "passed_time": 0.294304432,
            "remaining_time": 0.3363479223,
            "test": [
             148.442807
            ]
           },
           {
            "iteration": 140,
            "learn": [
             190.2529775
            ],
            "passed_time": 0.2962364673,
            "remaining_time": 0.3340538887,
            "test": [
             148.4169111
            ]
           },
           {
            "iteration": 141,
            "learn": [
             190.2378524
            ],
            "passed_time": 0.2981859777,
            "remaining_time": 0.3317843978,
            "test": [
             148.4113725
            ]
           },
           {
            "iteration": 142,
            "learn": [
             190.2316324
            ],
            "passed_time": 0.3001187885,
            "remaining_time": 0.3295010475,
            "test": [
             148.392314
            ]
           },
           {
            "iteration": 143,
            "learn": [
             190.2095678
            ],
            "passed_time": 0.3020253572,
            "remaining_time": 0.3271941369,
            "test": [
             148.377239
            ]
           },
           {
            "iteration": 144,
            "learn": [
             190.165386
            ],
            "passed_time": 0.304556565,
            "remaining_time": 0.325560466,
            "test": [
             148.3390595
            ]
           },
           {
            "iteration": 145,
            "learn": [
             190.1352078
            ],
            "passed_time": 0.3065014982,
            "remaining_time": 0.3232961009,
            "test": [
             148.3226103
            ]
           },
           {
            "iteration": 146,
            "learn": [
             190.1063753
            ],
            "passed_time": 0.3085288977,
            "remaining_time": 0.321121914,
            "test": [
             148.2822218
            ]
           },
           {
            "iteration": 147,
            "learn": [
             190.0676612
            ],
            "passed_time": 0.3110253682,
            "remaining_time": 0.3194314592,
            "test": [
             148.2501638
            ]
           },
           {
            "iteration": 148,
            "learn": [
             190.0305407
            ],
            "passed_time": 0.3130114968,
            "remaining_time": 0.3172129934,
            "test": [
             148.2044884
            ]
           },
           {
            "iteration": 149,
            "learn": [
             190.0016889
            ],
            "passed_time": 0.3149473266,
            "remaining_time": 0.3149473266,
            "test": [
             148.1675194
            ]
           },
           {
            "iteration": 150,
            "learn": [
             189.995916
            ],
            "passed_time": 0.317149323,
            "remaining_time": 0.3129486697,
            "test": [
             148.1685584
            ]
           },
           {
            "iteration": 151,
            "learn": [
             189.9693778
            ],
            "passed_time": 0.3440629799,
            "remaining_time": 0.335008691,
            "test": [
             148.1331012
            ]
           },
           {
            "iteration": 152,
            "learn": [
             189.9592489
            ],
            "passed_time": 0.3480953185,
            "remaining_time": 0.3344445217,
            "test": [
             148.1304628
            ]
           },
           {
            "iteration": 153,
            "learn": [
             189.9473238
            ],
            "passed_time": 0.3519921439,
            "remaining_time": 0.3337068377,
            "test": [
             148.1074908
            ]
           },
           {
            "iteration": 154,
            "learn": [
             189.9352816
            ],
            "passed_time": 0.3553620224,
            "remaining_time": 0.3324354403,
            "test": [
             148.0713994
            ]
           },
           {
            "iteration": 155,
            "learn": [
             189.9212374
            ],
            "passed_time": 0.3589821723,
            "remaining_time": 0.3313681591,
            "test": [
             148.0452199
            ]
           },
           {
            "iteration": 156,
            "learn": [
             189.9131628
            ],
            "passed_time": 0.3625607896,
            "remaining_time": 0.3302305281,
            "test": [
             148.0272351
            ]
           },
           {
            "iteration": 157,
            "learn": [
             189.8877907
            ],
            "passed_time": 0.366549601,
            "remaining_time": 0.3294306541,
            "test": [
             147.9978976
            ]
           },
           {
            "iteration": 158,
            "learn": [
             189.867109
            ],
            "passed_time": 0.3699932341,
            "remaining_time": 0.3281072076,
            "test": [
             147.9759001
            ]
           },
           {
            "iteration": 159,
            "learn": [
             189.8508663
            ],
            "passed_time": 0.371889763,
            "remaining_time": 0.3254035426,
            "test": [
             147.9548668
            ]
           },
           {
            "iteration": 160,
            "learn": [
             189.8282349
            ],
            "passed_time": 0.3738907422,
            "remaining_time": 0.3228000818,
            "test": [
             147.9521006
            ]
           },
           {
            "iteration": 161,
            "learn": [
             189.8155778
            ],
            "passed_time": 0.3759133536,
            "remaining_time": 0.3202224864,
            "test": [
             147.9239102
            ]
           },
           {
            "iteration": 162,
            "learn": [
             189.7932831
            ],
            "passed_time": 0.3779431431,
            "remaining_time": 0.3176577337,
            "test": [
             147.8782513
            ]
           },
           {
            "iteration": 163,
            "learn": [
             189.7786765
            ],
            "passed_time": 0.3798836555,
            "remaining_time": 0.3150254704,
            "test": [
             147.8495488
            ]
           },
           {
            "iteration": 164,
            "learn": [
             189.7652985
            ],
            "passed_time": 0.381801053,
            "remaining_time": 0.3123826797,
            "test": [
             147.8275193
            ]
           },
           {
            "iteration": 165,
            "learn": [
             189.7467663
            ],
            "passed_time": 0.383977789,
            "remaining_time": 0.3099579743,
            "test": [
             147.7982584
            ]
           },
           {
            "iteration": 166,
            "learn": [
             189.7443912
            ],
            "passed_time": 0.3859735283,
            "remaining_time": 0.3073920914,
            "test": [
             147.7958896
            ]
           },
           {
            "iteration": 167,
            "learn": [
             189.700385
            ],
            "passed_time": 0.3879682741,
            "remaining_time": 0.3048322153,
            "test": [
             147.7849328
            ]
           },
           {
            "iteration": 168,
            "learn": [
             189.6830196
            ],
            "passed_time": 0.3903199488,
            "remaining_time": 0.3025556999,
            "test": [
             147.7667516
            ]
           },
           {
            "iteration": 169,
            "learn": [
             189.6637974
            ],
            "passed_time": 0.3922791399,
            "remaining_time": 0.2999781658,
            "test": [
             147.7388025
            ]
           },
           {
            "iteration": 170,
            "learn": [
             189.6557142
            ],
            "passed_time": 0.3941954946,
            "remaining_time": 0.2973755486,
            "test": [
             147.7336837
            ]
           },
           {
            "iteration": 171,
            "learn": [
             189.6348713
            ],
            "passed_time": 0.3961885277,
            "remaining_time": 0.2948379741,
            "test": [
             147.7134691
            ]
           },
           {
            "iteration": 172,
            "learn": [
             189.6247149
            ],
            "passed_time": 0.398078804,
            "remaining_time": 0.2922312607,
            "test": [
             147.7068877
            ]
           },
           {
            "iteration": 173,
            "learn": [
             189.6203884
            ],
            "passed_time": 0.4000284553,
            "remaining_time": 0.2896757779,
            "test": [
             147.6964464
            ]
           },
           {
            "iteration": 174,
            "learn": [
             189.6146818
            ],
            "passed_time": 0.4019744185,
            "remaining_time": 0.2871245846,
            "test": [
             147.6812843
            ]
           },
           {
            "iteration": 175,
            "learn": [
             189.5964624
            ],
            "passed_time": 0.4049294274,
            "remaining_time": 0.2852911875,
            "test": [
             147.6923226
            ]
           },
           {
            "iteration": 176,
            "learn": [
             189.5824008
            ],
            "passed_time": 0.4069339611,
            "remaining_time": 0.282784617,
            "test": [
             147.6902569
            ]
           },
           {
            "iteration": 177,
            "learn": [
             189.5624285
            ],
            "passed_time": 0.4089212288,
            "remaining_time": 0.2802718534,
            "test": [
             147.6851397
            ]
           },
           {
            "iteration": 178,
            "learn": [
             189.554338
            ],
            "passed_time": 0.4108497587,
            "remaining_time": 0.2777252559,
            "test": [
             147.6870463
            ]
           },
           {
            "iteration": 179,
            "learn": [
             189.537174
            ],
            "passed_time": 0.4128359528,
            "remaining_time": 0.2752239685,
            "test": [
             147.6623592
            ]
           },
           {
            "iteration": 180,
            "learn": [
             189.5288625
            ],
            "passed_time": 0.4148725721,
            "remaining_time": 0.2727615253,
            "test": [
             147.6487565
            ]
           },
           {
            "iteration": 181,
            "learn": [
             189.5057393
            ],
            "passed_time": 0.4167106914,
            "remaining_time": 0.2701750637,
            "test": [
             147.6056234
            ]
           },
           {
            "iteration": 182,
            "learn": [
             189.4833229
            ],
            "passed_time": 0.4188655198,
            "remaining_time": 0.2677992668,
            "test": [
             147.5854658
            ]
           },
           {
            "iteration": 183,
            "learn": [
             189.4759712
            ],
            "passed_time": 0.4202720873,
            "remaining_time": 0.264954142,
            "test": [
             147.5740157
            ]
           },
           {
            "iteration": 184,
            "learn": [
             189.456511
            ],
            "passed_time": 0.4228873059,
            "remaining_time": 0.2628758929,
            "test": [
             147.5464291
            ]
           },
           {
            "iteration": 185,
            "learn": [
             189.4491163
            ],
            "passed_time": 0.4249006576,
            "remaining_time": 0.2604229837,
            "test": [
             147.5375023
            ]
           },
           {
            "iteration": 186,
            "learn": [
             189.4356787
            ],
            "passed_time": 0.4269128074,
            "remaining_time": 0.2579740494,
            "test": [
             147.5305047
            ]
           },
           {
            "iteration": 187,
            "learn": [
             189.4162794
            ],
            "passed_time": 0.4288625251,
            "remaining_time": 0.2554925681,
            "test": [
             147.5105572
            ]
           },
           {
            "iteration": 188,
            "learn": [
             189.4076155
            ],
            "passed_time": 0.4308489564,
            "remaining_time": 0.253038276,
            "test": [
             147.5013286
            ]
           },
           {
            "iteration": 189,
            "learn": [
             189.3942597
            ],
            "passed_time": 0.432860949,
            "remaining_time": 0.2506037073,
            "test": [
             147.4709726
            ]
           },
           {
            "iteration": 190,
            "learn": [
             189.3936568
            ],
            "passed_time": 0.4348060495,
            "remaining_time": 0.2481353895,
            "test": [
             147.4680326
            ]
           },
           {
            "iteration": 191,
            "learn": [
             189.377763
            ],
            "passed_time": 0.4367718604,
            "remaining_time": 0.2456841715,
            "test": [
             147.4687396
            ]
           },
           {
            "iteration": 192,
            "learn": [
             189.359756
            ],
            "passed_time": 0.4387507992,
            "remaining_time": 0.2432452617,
            "test": [
             147.4551153
            ]
           },
           {
            "iteration": 193,
            "learn": [
             189.3437984
            ],
            "passed_time": 0.4407395478,
            "remaining_time": 0.2408164539,
            "test": [
             147.4249532
            ]
           },
           {
            "iteration": 194,
            "learn": [
             189.3225669
            ],
            "passed_time": 0.4457836393,
            "remaining_time": 0.2400373443,
            "test": [
             147.4062503
            ]
           },
           {
            "iteration": 195,
            "learn": [
             189.3174155
            ],
            "passed_time": 0.4482645456,
            "remaining_time": 0.2378546569,
            "test": [
             147.3884613
            ]
           },
           {
            "iteration": 196,
            "learn": [
             189.3031607
            ],
            "passed_time": 0.4502203304,
            "remaining_time": 0.235394386,
            "test": [
             147.3802628
            ]
           },
           {
            "iteration": 197,
            "learn": [
             189.2963337
            ],
            "passed_time": 0.4522319194,
            "remaining_time": 0.2329679585,
            "test": [
             147.3716495
            ]
           },
           {
            "iteration": 198,
            "learn": [
             189.282817
            ],
            "passed_time": 0.4553444147,
            "remaining_time": 0.2311044517,
            "test": [
             147.3752233
            ]
           },
           {
            "iteration": 199,
            "learn": [
             189.2715987
            ],
            "passed_time": 0.4572656194,
            "remaining_time": 0.2286328097,
            "test": [
             147.3506199
            ]
           },
           {
            "iteration": 200,
            "learn": [
             189.267214
            ],
            "passed_time": 0.4591449587,
            "remaining_time": 0.2261460244,
            "test": [
             147.3487345
            ]
           },
           {
            "iteration": 201,
            "learn": [
             189.2387991
            ],
            "passed_time": 0.4610733932,
            "remaining_time": 0.2236890719,
            "test": [
             147.3328284
            ]
           },
           {
            "iteration": 202,
            "learn": [
             189.1934472
            ],
            "passed_time": 0.4629793691,
            "remaining_time": 0.2212265951,
            "test": [
             147.3216573
            ]
           },
           {
            "iteration": 203,
            "learn": [
             189.1883113
            ],
            "passed_time": 0.4648835005,
            "remaining_time": 0.2187687061,
            "test": [
             147.3238347
            ]
           },
           {
            "iteration": 204,
            "learn": [
             189.1796863
            ],
            "passed_time": 0.4668167413,
            "remaining_time": 0.2163297094,
            "test": [
             147.3069024
            ]
           },
           {
            "iteration": 205,
            "learn": [
             189.178951
            ],
            "passed_time": 0.4687700643,
            "remaining_time": 0.2139047866,
            "test": [
             147.3060677
            ]
           },
           {
            "iteration": 206,
            "learn": [
             189.1782422
            ],
            "passed_time": 0.4707056232,
            "remaining_time": 0.2114764394,
            "test": [
             147.3034968
            ]
           },
           {
            "iteration": 207,
            "learn": [
             189.163946
            ],
            "passed_time": 0.472640554,
            "remaining_time": 0.2090525527,
            "test": [
             147.2898617
            ]
           },
           {
            "iteration": 208,
            "learn": [
             189.1634794
            ],
            "passed_time": 0.4745411673,
            "remaining_time": 0.206618403,
            "test": [
             147.2892748
            ]
           },
           {
            "iteration": 209,
            "learn": [
             189.1559645
            ],
            "passed_time": 0.4765054082,
            "remaining_time": 0.2042166035,
            "test": [
             147.2697839
            ]
           },
           {
            "iteration": 210,
            "learn": [
             189.1473894
            ],
            "passed_time": 0.4784151214,
            "remaining_time": 0.2017959517,
            "test": [
             147.2607793
            ]
           },
           {
            "iteration": 211,
            "learn": [
             189.1315173
            ],
            "passed_time": 0.4803740015,
            "remaining_time": 0.1994005289,
            "test": [
             147.2550456
            ]
           },
           {
            "iteration": 212,
            "learn": [
             189.1044448
            ],
            "passed_time": 0.483599207,
            "remaining_time": 0.1975264367,
            "test": [
             147.2681834
            ]
           },
           {
            "iteration": 213,
            "learn": [
             189.0948111
            ],
            "passed_time": 0.4860160147,
            "remaining_time": 0.195314847,
            "test": [
             147.2612581
            ]
           },
           {
            "iteration": 214,
            "learn": [
             189.085211
            ],
            "passed_time": 0.4882583329,
            "remaining_time": 0.1930323642,
            "test": [
             147.2556644
            ]
           },
           {
            "iteration": 215,
            "learn": [
             189.0711158
            ],
            "passed_time": 0.490566845,
            "remaining_time": 0.1907759953,
            "test": [
             147.2584874
            ]
           },
           {
            "iteration": 216,
            "learn": [
             189.0678177
            ],
            "passed_time": 0.4925461329,
            "remaining_time": 0.1883932213,
            "test": [
             147.2578004
            ]
           },
           {
            "iteration": 217,
            "learn": [
             189.0638679
            ],
            "passed_time": 0.494544793,
            "remaining_time": 0.1860214359,
            "test": [
             147.2503328
            ]
           },
           {
            "iteration": 218,
            "learn": [
             189.0454616
            ],
            "passed_time": 0.4965260154,
            "remaining_time": 0.1836466084,
            "test": [
             147.2645854
            ]
           },
           {
            "iteration": 219,
            "learn": [
             189.0390877
            ],
            "passed_time": 0.4984691451,
            "remaining_time": 0.1812615073,
            "test": [
             147.2539229
            ]
           },
           {
            "iteration": 220,
            "learn": [
             189.039057
            ],
            "passed_time": 0.5004292025,
            "remaining_time": 0.178886457,
            "test": [
             147.2533853
            ]
           },
           {
            "iteration": 221,
            "learn": [
             189.035319
            ],
            "passed_time": 0.5023951834,
            "remaining_time": 0.1765172266,
            "test": [
             147.2514665
            ]
           },
           {
            "iteration": 222,
            "learn": [
             189.0331702
            ],
            "passed_time": 0.5043307841,
            "remaining_time": 0.1741411228,
            "test": [
             147.2506823
            ]
           },
           {
            "iteration": 223,
            "learn": [
             189.0315535
            ],
            "passed_time": 0.5062569832,
            "remaining_time": 0.1717657622,
            "test": [
             147.2506368
            ]
           },
           {
            "iteration": 224,
            "learn": [
             189.0237269
            ],
            "passed_time": 0.5082290194,
            "remaining_time": 0.1694096731,
            "test": [
             147.2596779
            ]
           },
           {
            "iteration": 225,
            "learn": [
             189.0165305
            ],
            "passed_time": 0.5101917504,
            "remaining_time": 0.167053936,
            "test": [
             147.2597441
            ]
           },
           {
            "iteration": 226,
            "learn": [
             189.0034431
            ],
            "passed_time": 0.5121295511,
            "remaining_time": 0.1646936442,
            "test": [
             147.2494801
            ]
           },
           {
            "iteration": 227,
            "learn": [
             188.9934841
            ],
            "passed_time": 0.5140576192,
            "remaining_time": 0.162333985,
            "test": [
             147.2334903
            ]
           },
           {
            "iteration": 228,
            "learn": [
             188.9849974
            ],
            "passed_time": 0.5160144313,
            "remaining_time": 0.1599870071,
            "test": [
             147.2179638
            ]
           },
           {
            "iteration": 229,
            "learn": [
             188.9593187
            ],
            "passed_time": 0.5179677807,
            "remaining_time": 0.157642368,
            "test": [
             147.2007904
            ]
           },
           {
            "iteration": 230,
            "learn": [
             188.9396544
            ],
            "passed_time": 0.5200822054,
            "remaining_time": 0.1553492302,
            "test": [
             147.2020156
            ]
           },
           {
            "iteration": 231,
            "learn": [
             188.9143691
            ],
            "passed_time": 0.5220662232,
            "remaining_time": 0.1530194102,
            "test": [
             147.1981159
            ]
           },
           {
            "iteration": 232,
            "learn": [
             188.9068766
            ],
            "passed_time": 0.5240299433,
            "remaining_time": 0.1506867219,
            "test": [
             147.1935835
            ]
           },
           {
            "iteration": 233,
            "learn": [
             188.9039064
            ],
            "passed_time": 0.5259904107,
            "remaining_time": 0.1483562697,
            "test": [
             147.1832921
            ]
           },
           {
            "iteration": 234,
            "learn": [
             188.8882366
            ],
            "passed_time": 0.5279614242,
            "remaining_time": 0.1460318833,
            "test": [
             147.1779589
            ]
           },
           {
            "iteration": 235,
            "learn": [
             188.881352
            ],
            "passed_time": 0.5298679183,
            "remaining_time": 0.1436929948,
            "test": [
             147.1708317
            ]
           },
           {
            "iteration": 236,
            "learn": [
             188.8683156
            ],
            "passed_time": 0.5320689129,
            "remaining_time": 0.1414360401,
            "test": [
             147.164259
            ]
           },
           {
            "iteration": 237,
            "learn": [
             188.856492
            ],
            "passed_time": 0.5340385137,
            "remaining_time": 0.1391192767,
            "test": [
             147.1445505
            ]
           },
           {
            "iteration": 238,
            "learn": [
             188.8537397
            ],
            "passed_time": 0.5359591529,
            "remaining_time": 0.1367929219,
            "test": [
             147.1464535
            ]
           },
           {
            "iteration": 239,
            "learn": [
             188.8288469
            ],
            "passed_time": 0.5379278538,
            "remaining_time": 0.1344819634,
            "test": [
             147.1435901
            ]
           },
           {
            "iteration": 240,
            "learn": [
             188.7920789
            ],
            "passed_time": 0.5433632163,
            "remaining_time": 0.1330225301,
            "test": [
             147.1318653
            ]
           },
           {
            "iteration": 241,
            "learn": [
             188.7701182
            ],
            "passed_time": 0.5463553162,
            "remaining_time": 0.1309446626,
            "test": [
             147.1219584
            ]
           },
           {
            "iteration": 242,
            "learn": [
             188.7546018
            ],
            "passed_time": 0.5487829283,
            "remaining_time": 0.1287268597,
            "test": [
             147.1077415
            ]
           },
           {
            "iteration": 243,
            "learn": [
             188.7438271
            ],
            "passed_time": 0.5507897501,
            "remaining_time": 0.1264107623,
            "test": [
             147.1117975
            ]
           },
           {
            "iteration": 244,
            "learn": [
             188.7390153
            ],
            "passed_time": 0.5528101879,
            "remaining_time": 0.1241002463,
            "test": [
             147.1090097
            ]
           },
           {
            "iteration": 245,
            "learn": [
             188.6959108
            ],
            "passed_time": 0.5547505894,
            "remaining_time": 0.1217745196,
            "test": [
             147.1002672
            ]
           },
           {
            "iteration": 246,
            "learn": [
             188.6882412
            ],
            "passed_time": 0.556706807,
            "remaining_time": 0.1194553068,
            "test": [
             147.0977964
            ]
           },
           {
            "iteration": 247,
            "learn": [
             188.6866358
            ],
            "passed_time": 0.5586165055,
            "remaining_time": 0.1171292673,
            "test": [
             147.0931608
            ]
           },
           {
            "iteration": 248,
            "learn": [
             188.6844529
            ],
            "passed_time": 0.5605209388,
            "remaining_time": 0.1148054935,
            "test": [
             147.091141
            ]
           },
           {
            "iteration": 249,
            "learn": [
             188.6774556
            ],
            "passed_time": 0.5624530878,
            "remaining_time": 0.1124906176,
            "test": [
             147.0951152
            ]
           },
           {
            "iteration": 250,
            "learn": [
             188.673675
            ],
            "passed_time": 0.5643627209,
            "remaining_time": 0.1101743957,
            "test": [
             147.0903887
            ]
           },
           {
            "iteration": 251,
            "learn": [
             188.6710686
            ],
            "passed_time": 0.5662248606,
            "remaining_time": 0.1078523544,
            "test": [
             147.0941365
            ]
           },
           {
            "iteration": 252,
            "learn": [
             188.6548331
            ],
            "passed_time": 0.5681602685,
            "remaining_time": 0.1055475598,
            "test": [
             147.1088064
            ]
           },
           {
            "iteration": 253,
            "learn": [
             188.6524978
            ],
            "passed_time": 0.5700429305,
            "remaining_time": 0.1032361213,
            "test": [
             147.1122405
            ]
           },
           {
            "iteration": 254,
            "learn": [
             188.6458139
            ],
            "passed_time": 0.5722211219,
            "remaining_time": 0.100980198,
            "test": [
             147.1143554
            ]
           },
           {
            "iteration": 255,
            "learn": [
             188.6412871
            ],
            "passed_time": 0.5742017743,
            "remaining_time": 0.09869092996,
            "test": [
             147.1110008
            ]
           },
           {
            "iteration": 256,
            "learn": [
             188.6394604
            ],
            "passed_time": 0.5761719415,
            "remaining_time": 0.09640230928,
            "test": [
             147.1079505
            ]
           },
           {
            "iteration": 257,
            "learn": [
             188.6296888
            ],
            "passed_time": 0.5781132112,
            "remaining_time": 0.09411145298,
            "test": [
             147.1044407
            ]
           },
           {
            "iteration": 258,
            "learn": [
             188.5939916
            ],
            "passed_time": 0.5799160022,
            "remaining_time": 0.09180137487,
            "test": [
             147.1045181
            ]
           },
           {
            "iteration": 259,
            "learn": [
             188.5896097
            ],
            "passed_time": 0.5818895057,
            "remaining_time": 0.08952146242,
            "test": [
             147.0911234
            ]
           },
           {
            "iteration": 260,
            "learn": [
             188.5854792
            ],
            "passed_time": 0.5838535685,
            "remaining_time": 0.08724248725,
            "test": [
             147.0835847
            ]
           },
           {
            "iteration": 261,
            "learn": [
             188.5794426
            ],
            "passed_time": 0.5857983399,
            "remaining_time": 0.084963118,
            "test": [
             147.0754817
            ]
           },
           {
            "iteration": 262,
            "learn": [
             188.5695643
            ],
            "passed_time": 0.5877289771,
            "remaining_time": 0.08268430476,
            "test": [
             147.0718869
            ]
           },
           {
            "iteration": 263,
            "learn": [
             188.5690704
            ],
            "passed_time": 0.5896984406,
            "remaining_time": 0.08041342372,
            "test": [
             147.0747178
            ]
           },
           {
            "iteration": 264,
            "learn": [
             188.5684952
            ],
            "passed_time": 0.5914658507,
            "remaining_time": 0.07811813122,
            "test": [
             147.0760151
            ]
           },
           {
            "iteration": 265,
            "learn": [
             188.5614479
            ],
            "passed_time": 0.5941532386,
            "remaining_time": 0.07594439892,
            "test": [
             147.0592965
            ]
           },
           {
            "iteration": 266,
            "learn": [
             188.5579774
            ],
            "passed_time": 0.5971989363,
            "remaining_time": 0.07381110449,
            "test": [
             147.0581814
            ]
           },
           {
            "iteration": 267,
            "learn": [
             188.5490501
            ],
            "passed_time": 0.5991924648,
            "remaining_time": 0.07154536893,
            "test": [
             147.0541858
            ]
           },
           {
            "iteration": 268,
            "learn": [
             188.5426566
            ],
            "passed_time": 0.60113144,
            "remaining_time": 0.06927537041,
            "test": [
             147.0521945
            ]
           },
           {
            "iteration": 269,
            "learn": [
             188.5153134
            ],
            "passed_time": 0.6031130896,
            "remaining_time": 0.06701256551,
            "test": [
             147.0603647
            ]
           },
           {
            "iteration": 270,
            "learn": [
             188.5142265
            ],
            "passed_time": 0.6050524184,
            "remaining_time": 0.06474730677,
            "test": [
             147.0603686
            ]
           },
           {
            "iteration": 271,
            "learn": [
             188.5096551
            ],
            "passed_time": 0.6070120768,
            "remaining_time": 0.06248653731,
            "test": [
             147.0495266
            ]
           },
           {
            "iteration": 272,
            "learn": [
             188.5049087
            ],
            "passed_time": 0.6089426976,
            "remaining_time": 0.06022510196,
            "test": [
             147.0496916
            ]
           },
           {
            "iteration": 273,
            "learn": [
             188.5020607
            ],
            "passed_time": 0.6108895562,
            "remaining_time": 0.05796762212,
            "test": [
             147.0489725
            ]
           },
           {
            "iteration": 274,
            "learn": [
             188.4889764
            ],
            "passed_time": 0.6128041538,
            "remaining_time": 0.05570946853,
            "test": [
             147.0341597
            ]
           },
           {
            "iteration": 275,
            "learn": [
             188.48886
            ],
            "passed_time": 0.614806912,
            "remaining_time": 0.05346147061,
            "test": [
             147.0348762
            ]
           },
           {
            "iteration": 276,
            "learn": [
             188.4843734
            ],
            "passed_time": 0.6167501562,
            "remaining_time": 0.05121030178,
            "test": [
             147.0271145
            ]
           },
           {
            "iteration": 277,
            "learn": [
             188.479902
            ],
            "passed_time": 0.6187379012,
            "remaining_time": 0.04896486988,
            "test": [
             147.0383665
            ]
           },
           {
            "iteration": 278,
            "learn": [
             188.4674624
            ],
            "passed_time": 0.6208263065,
            "remaining_time": 0.04672886178,
            "test": [
             147.0277929
            ]
           },
           {
            "iteration": 279,
            "learn": [
             188.4578892
            ],
            "passed_time": 0.6230348446,
            "remaining_time": 0.0445024889,
            "test": [
             147.0281251
            ]
           },
           {
            "iteration": 280,
            "learn": [
             188.4523361
            ],
            "passed_time": 0.6249752024,
            "remaining_time": 0.04225810977,
            "test": [
             147.0255091
            ]
           },
           {
            "iteration": 281,
            "learn": [
             188.4470575
            ],
            "passed_time": 0.6268992252,
            "remaining_time": 0.04001484416,
            "test": [
             147.0271182
            ]
           },
           {
            "iteration": 282,
            "learn": [
             188.4442066
            ],
            "passed_time": 0.6288529391,
            "remaining_time": 0.03777561825,
            "test": [
             147.0228642
            ]
           },
           {
            "iteration": 283,
            "learn": [
             188.4415591
            ],
            "passed_time": 0.6307991423,
            "remaining_time": 0.03553797985,
            "test": [
             147.0268952
            ]
           },
           {
            "iteration": 284,
            "learn": [
             188.4326279
            ],
            "passed_time": 0.6327091618,
            "remaining_time": 0.0333004822,
            "test": [
             147.0247621
            ]
           },
           {
            "iteration": 285,
            "learn": [
             188.4132002
            ],
            "passed_time": 0.6347027439,
            "remaining_time": 0.03106936509,
            "test": [
             147.0200031
            ]
           },
           {
            "iteration": 286,
            "learn": [
             188.4014048
            ],
            "passed_time": 0.6366497316,
            "remaining_time": 0.02883779272,
            "test": [
             147.0170568
            ]
           },
           {
            "iteration": 287,
            "learn": [
             188.3908522
            ],
            "passed_time": 0.6386893572,
            "remaining_time": 0.02661205655,
            "test": [
             147.0061461
            ]
           },
           {
            "iteration": 288,
            "learn": [
             188.380778
            ],
            "passed_time": 0.6408216034,
            "remaining_time": 0.02439113369,
            "test": [
             146.9910569
            ]
           },
           {
            "iteration": 289,
            "learn": [
             188.3600788
            ],
            "passed_time": 0.6441015648,
            "remaining_time": 0.02221039879,
            "test": [
             146.9942297
            ]
           },
           {
            "iteration": 290,
            "learn": [
             188.3581642
            ],
            "passed_time": 0.6462495915,
            "remaining_time": 0.01998710077,
            "test": [
             146.9934605
            ]
           },
           {
            "iteration": 291,
            "learn": [
             188.3581247
            ],
            "passed_time": 0.6481788051,
            "remaining_time": 0.01775832343,
            "test": [
             146.9925902
            ]
           },
           {
            "iteration": 292,
            "learn": [
             188.3536361
            ],
            "passed_time": 0.65032563,
            "remaining_time": 0.0155367898,
            "test": [
             146.9877363
            ]
           },
           {
            "iteration": 293,
            "learn": [
             188.3506361
            ],
            "passed_time": 0.6522759895,
            "remaining_time": 0.01331175489,
            "test": [
             146.9812224
            ]
           },
           {
            "iteration": 294,
            "learn": [
             188.3437088
            ],
            "passed_time": 0.6552024055,
            "remaining_time": 0.01110512552,
            "test": [
             146.9776322
            ]
           },
           {
            "iteration": 295,
            "learn": [
             188.3420266
            ],
            "passed_time": 0.6577048667,
            "remaining_time": 0.008887903604,
            "test": [
             146.9798193
            ]
           },
           {
            "iteration": 296,
            "learn": [
             188.3341935
            ],
            "passed_time": 0.6596811983,
            "remaining_time": 0.006663446448,
            "test": [
             146.9779931
            ]
           },
           {
            "iteration": 297,
            "learn": [
             188.3226528
            ],
            "passed_time": 0.6614860029,
            "remaining_time": 0.004439503375,
            "test": [
             146.9807517
            ]
           },
           {
            "iteration": 298,
            "learn": [
             188.3187052
            ],
            "passed_time": 0.6639347182,
            "remaining_time": 0.002220517452,
            "test": [
             146.9732526
            ]
           },
           {
            "iteration": 299,
            "learn": [
             188.3122244
            ],
            "passed_time": 0.6658917402,
            "remaining_time": 0,
            "test": [
             146.9700557
            ]
           }
          ],
          "meta": {
           "iteration_count": 300,
           "launch_mode": "Train",
           "learn_metrics": [
            {
             "best_value": "Min",
             "name": "RMSE"
            }
           ],
           "learn_sets": [
            "learn"
           ],
           "name": "experiment",
           "parameters": "",
           "test_metrics": [
            {
             "best_value": "Min",
             "name": "RMSE"
            }
           ],
           "test_sets": [
            "test"
           ]
          }
         },
         "passed_iterations": 299,
         "total_iterations": 300
        },
        "name": "fold-1",
        "path": "catboost_info/fold-1"
       },
       "catboost_info/fold-2": {
        "content": {
         "data": {
          "iterations": [
           {
            "iteration": 0,
            "learn": [
             320.3219089
            ],
            "passed_time": 0.001531577322,
            "remaining_time": 0.4579416192,
            "test": [
             351.353922
            ]
           },
           {
            "iteration": 1,
            "learn": [
             313.6250367
            ],
            "passed_time": 0.005373849409,
            "remaining_time": 0.8007035619,
            "test": [
             345.3168838
            ]
           },
           {
            "iteration": 2,
            "learn": [
             307.1870392
            ],
            "passed_time": 0.00847854491,
            "remaining_time": 0.8393759461,
            "test": [
             339.5299265
            ]
           },
           {
            "iteration": 3,
            "learn": [
             300.9918697
            ],
            "passed_time": 0.01202248753,
            "remaining_time": 0.8896640772,
            "test": [
             334.00662
            ]
           },
           {
            "iteration": 4,
            "learn": [
             295.1499181
            ],
            "passed_time": 0.01344956,
            "remaining_time": 0.7935240397,
            "test": [
             328.78262
            ]
           },
           {
            "iteration": 5,
            "learn": [
             289.4436616
            ],
            "passed_time": 0.01564794645,
            "remaining_time": 0.7667493759,
            "test": [
             323.7515986
            ]
           },
           {
            "iteration": 6,
            "learn": [
             284.29324
            ],
            "passed_time": 0.0164934569,
            "remaining_time": 0.6903689818,
            "test": [
             319.1380268
            ]
           },
           {
            "iteration": 7,
            "learn": [
             279.0078774
            ],
            "passed_time": 0.01826341417,
            "remaining_time": 0.6666146171,
            "test": [
             314.4928906
            ]
           },
           {
            "iteration": 8,
            "learn": [
             273.9550469
            ],
            "passed_time": 0.02069356617,
            "remaining_time": 0.6690919729,
            "test": [
             310.0879301
            ]
           },
           {
            "iteration": 9,
            "learn": [
             269.1037891
            ],
            "passed_time": 0.02262431336,
            "remaining_time": 0.6561050873,
            "test": [
             305.8965648
            ]
           },
           {
            "iteration": 10,
            "learn": [
             264.4565357
            ],
            "passed_time": 0.02458579983,
            "remaining_time": 0.6459360137,
            "test": [
             301.8438309
            ]
           },
           {
            "iteration": 11,
            "learn": [
             260.0133412
            ],
            "passed_time": 0.02661118846,
            "remaining_time": 0.6386685231,
            "test": [
             298.0303114
            ]
           },
           {
            "iteration": 12,
            "learn": [
             255.7658
            ],
            "passed_time": 0.02868306875,
            "remaining_time": 0.6332339024,
            "test": [
             294.3753398
            ]
           },
           {
            "iteration": 13,
            "learn": [
             251.6906614
            ],
            "passed_time": 0.03067026554,
            "remaining_time": 0.6265497103,
            "test": [
             290.9692553
            ]
           },
           {
            "iteration": 14,
            "learn": [
             247.7926042
            ],
            "passed_time": 0.03263874822,
            "remaining_time": 0.6201362161,
            "test": [
             287.6520409
            ]
           },
           {
            "iteration": 15,
            "learn": [
             244.1222035
            ],
            "passed_time": 0.03475952737,
            "remaining_time": 0.6169816108,
            "test": [
             284.4845924
            ]
           },
           {
            "iteration": 16,
            "learn": [
             240.6553755
            ],
            "passed_time": 0.03746159673,
            "remaining_time": 0.6236254043,
            "test": [
             281.5311268
            ]
           },
           {
            "iteration": 17,
            "learn": [
             237.3318773
            ],
            "passed_time": 0.03963662008,
            "remaining_time": 0.6209737146,
            "test": [
             278.6949063
            ]
           },
           {
            "iteration": 18,
            "learn": [
             234.0802906
            ],
            "passed_time": 0.04102730793,
            "remaining_time": 0.606772291,
            "test": [
             275.9711322
            ]
           },
           {
            "iteration": 19,
            "learn": [
             230.9865956
            ],
            "passed_time": 0.04322586984,
            "remaining_time": 0.6051621777,
            "test": [
             273.3958757
            ]
           },
           {
            "iteration": 20,
            "learn": [
             228.030322
            ],
            "passed_time": 0.04567444869,
            "remaining_time": 0.6068176754,
            "test": [
             270.949904
            ]
           },
           {
            "iteration": 21,
            "learn": [
             225.2138103
            ],
            "passed_time": 0.04750471183,
            "remaining_time": 0.6002868131,
            "test": [
             268.6664381
            ]
           },
           {
            "iteration": 22,
            "learn": [
             222.5181811
            ],
            "passed_time": 0.04948960504,
            "remaining_time": 0.5960269824,
            "test": [
             266.4403296
            ]
           },
           {
            "iteration": 23,
            "learn": [
             219.9610023
            ],
            "passed_time": 0.05148830429,
            "remaining_time": 0.5921154993,
            "test": [
             264.3414781
            ]
           },
           {
            "iteration": 24,
            "learn": [
             217.5213133
            ],
            "passed_time": 0.05349428792,
            "remaining_time": 0.5884371671,
            "test": [
             262.341077
            ]
           },
           {
            "iteration": 25,
            "learn": [
             215.1996579
            ],
            "passed_time": 0.05542709687,
            "remaining_time": 0.5841163286,
            "test": [
             260.4473729
            ]
           },
           {
            "iteration": 26,
            "learn": [
             212.9963952
            ],
            "passed_time": 0.05738066535,
            "remaining_time": 0.580182283,
            "test": [
             258.6588348
            ]
           },
           {
            "iteration": 27,
            "learn": [
             210.8848431
            ],
            "passed_time": 0.05963974494,
            "remaining_time": 0.5793575223,
            "test": [
             256.9479059
            ]
           },
           {
            "iteration": 28,
            "learn": [
             208.8678916
            ],
            "passed_time": 0.06167471426,
            "remaining_time": 0.5763395712,
            "test": [
             255.3315077
            ]
           },
           {
            "iteration": 29,
            "learn": [
             206.9753442
            ],
            "passed_time": 0.06370813998,
            "remaining_time": 0.5733732599,
            "test": [
             253.8038455
            ]
           },
           {
            "iteration": 30,
            "learn": [
             205.1569361
            ],
            "passed_time": 0.06555571182,
            "remaining_time": 0.5688544026,
            "test": [
             252.3551181
            ]
           },
           {
            "iteration": 31,
            "learn": [
             203.4381061
            ],
            "passed_time": 0.06754010867,
            "remaining_time": 0.5656484101,
            "test": [
             250.9751002
            ]
           },
           {
            "iteration": 32,
            "learn": [
             201.8151982
            ],
            "passed_time": 0.06948097653,
            "remaining_time": 0.5621642647,
            "test": [
             249.6876252
            ]
           },
           {
            "iteration": 33,
            "learn": [
             200.2760419
            ],
            "passed_time": 0.07084795039,
            "remaining_time": 0.5542810236,
            "test": [
             248.4711476
            ]
           },
           {
            "iteration": 34,
            "learn": [
             198.8138299
            ],
            "passed_time": 0.07307746521,
            "remaining_time": 0.553300808,
            "test": [
             247.3126497
            ]
           },
           {
            "iteration": 35,
            "learn": [
             197.4276683
            ],
            "passed_time": 0.07522308743,
            "remaining_time": 0.5516359745,
            "test": [
             246.2279831
            ]
           },
           {
            "iteration": 36,
            "learn": [
             196.116297
            ],
            "passed_time": 0.07660012469,
            "remaining_time": 0.5444819674,
            "test": [
             245.2007205
            ]
           },
           {
            "iteration": 37,
            "learn": [
             194.8608469
            ],
            "passed_time": 0.07899874106,
            "remaining_time": 0.5446755304,
            "test": [
             244.2360868
            ]
           },
           {
            "iteration": 38,
            "learn": [
             193.7707833
            ],
            "passed_time": 0.07985115499,
            "remaining_time": 0.5343884988,
            "test": [
             243.3504413
            ]
           },
           {
            "iteration": 39,
            "learn": [
             192.7082153
            ],
            "passed_time": 0.08118907133,
            "remaining_time": 0.5277289637,
            "test": [
             242.4981564
            ]
           },
           {
            "iteration": 40,
            "learn": [
             191.6442463
            ],
            "passed_time": 0.08316427294,
            "remaining_time": 0.5253547974,
            "test": [
             241.6827015
            ]
           },
           {
            "iteration": 41,
            "learn": [
             190.6738248
            ],
            "passed_time": 0.0852340751,
            "remaining_time": 0.523580747,
            "test": [
             240.9092284
            ]
           },
           {
            "iteration": 42,
            "learn": [
             189.7156896
            ],
            "passed_time": 0.08720244505,
            "remaining_time": 0.5211867064,
            "test": [
             240.1778521
            ]
           },
           {
            "iteration": 43,
            "learn": [
             188.8467467
            ],
            "passed_time": 0.08858837483,
            "remaining_time": 0.5154232717,
            "test": [
             239.4790819
            ]
           },
           {
            "iteration": 44,
            "learn": [
             187.8962466
            ],
            "passed_time": 0.09150655828,
            "remaining_time": 0.5185371636,
            "test": [
             238.7656994
            ]
           },
           {
            "iteration": 45,
            "learn": [
             186.993136
            ],
            "passed_time": 0.09350838109,
            "remaining_time": 0.5163288869,
            "test": [
             238.1207893
            ]
           },
           {
            "iteration": 46,
            "learn": [
             186.2268609
            ],
            "passed_time": 0.09551922824,
            "remaining_time": 0.5141779733,
            "test": [
             237.5504002
            ]
           },
           {
            "iteration": 47,
            "learn": [
             185.4479186
            ],
            "passed_time": 0.09832951146,
            "remaining_time": 0.5162299352,
            "test": [
             237.0014225
            ]
           },
           {
            "iteration": 48,
            "learn": [
             184.8051852
            ],
            "passed_time": 0.1003977118,
            "remaining_time": 0.5142821565,
            "test": [
             236.4794774
            ]
           },
           {
            "iteration": 49,
            "learn": [
             184.1316393
            ],
            "passed_time": 0.1024415537,
            "remaining_time": 0.5122077684,
            "test": [
             235.9724473
            ]
           },
           {
            "iteration": 50,
            "learn": [
             183.4093032
            ],
            "passed_time": 0.10441002,
            "remaining_time": 0.5097665682,
            "test": [
             235.4500194
            ]
           },
           {
            "iteration": 51,
            "learn": [
             182.7406313
            ],
            "passed_time": 0.1067436897,
            "remaining_time": 0.5090852892,
            "test": [
             234.9698453
            ]
           },
           {
            "iteration": 52,
            "learn": [
             182.0981566
            ],
            "passed_time": 0.1088656606,
            "remaining_time": 0.5073550599,
            "test": [
             234.5031493
            ]
           },
           {
            "iteration": 53,
            "learn": [
             181.5252819
            ],
            "passed_time": 0.1108712743,
            "remaining_time": 0.5050802494,
            "test": [
             234.0539168
            ]
           },
           {
            "iteration": 54,
            "learn": [
             180.950788
            ],
            "passed_time": 0.113052482,
            "remaining_time": 0.5035974199,
            "test": [
             233.6043251
            ]
           },
           {
            "iteration": 55,
            "learn": [
             180.4078822
            ],
            "passed_time": 0.1164599814,
            "remaining_time": 0.5074327762,
            "test": [
             233.2086627
            ]
           },
           {
            "iteration": 56,
            "learn": [
             179.9415152
            ],
            "passed_time": 0.1191491693,
            "remaining_time": 0.5079517216,
            "test": [
             232.8703033
            ]
           },
           {
            "iteration": 57,
            "learn": [
             179.4716644
            ],
            "passed_time": 0.126951148,
            "remaining_time": 0.5296927209,
            "test": [
             232.5072701
            ]
           },
           {
            "iteration": 58,
            "learn": [
             179.0326032
            ],
            "passed_time": 0.1322972335,
            "remaining_time": 0.540400564,
            "test": [
             232.164473
            ]
           },
           {
            "iteration": 59,
            "learn": [
             178.5983071
            ],
            "passed_time": 0.1349251209,
            "remaining_time": 0.5397004837,
            "test": [
             231.8602793
            ]
           },
           {
            "iteration": 60,
            "learn": [
             178.204999
            ],
            "passed_time": 0.1371936921,
            "remaining_time": 0.5375293839,
            "test": [
             231.5691024
            ]
           },
           {
            "iteration": 61,
            "learn": [
             177.8452201
            ],
            "passed_time": 0.1392797057,
            "remaining_time": 0.5346543542,
            "test": [
             231.3288833
            ]
           },
           {
            "iteration": 62,
            "learn": [
             177.5037326
            ],
            "passed_time": 0.1412597881,
            "remaining_time": 0.5314058696,
            "test": [
             231.0964329
            ]
           },
           {
            "iteration": 63,
            "learn": [
             177.1684094
            ],
            "passed_time": 0.1432640409,
            "remaining_time": 0.5282861508,
            "test": [
             230.8277438
            ]
           },
           {
            "iteration": 64,
            "learn": [
             176.8292373
            ],
            "passed_time": 0.1452775934,
            "remaining_time": 0.5252343762,
            "test": [
             230.5960091
            ]
           },
           {
            "iteration": 65,
            "learn": [
             176.5023505
            ],
            "passed_time": 0.1475083764,
            "remaining_time": 0.5229842436,
            "test": [
             230.3568549
            ]
           },
           {
            "iteration": 66,
            "learn": [
             176.2005829
            ],
            "passed_time": 0.1494554796,
            "remaining_time": 0.5197481603,
            "test": [
             230.1468291
            ]
           },
           {
            "iteration": 67,
            "learn": [
             175.9022975
            ],
            "passed_time": 0.1512531226,
            "remaining_time": 0.5160400652,
            "test": [
             229.9504187
            ]
           },
           {
            "iteration": 68,
            "learn": [
             175.6271127
            ],
            "passed_time": 0.1531958849,
            "remaining_time": 0.51287318,
            "test": [
             229.7665218
            ]
           },
           {
            "iteration": 69,
            "learn": [
             175.377809
            ],
            "passed_time": 0.1549870053,
            "remaining_time": 0.5092430176,
            "test": [
             229.5912563
            ]
           },
           {
            "iteration": 70,
            "learn": [
             175.1631312
            ],
            "passed_time": 0.1574416704,
            "remaining_time": 0.5078048243,
            "test": [
             229.4428122
            ]
           },
           {
            "iteration": 71,
            "learn": [
             174.925078
            ],
            "passed_time": 0.159432008,
            "remaining_time": 0.5048680255,
            "test": [
             229.257503
            ]
           },
           {
            "iteration": 72,
            "learn": [
             174.7214176
            ],
            "passed_time": 0.1613293333,
            "remaining_time": 0.5016679267,
            "test": [
             229.1101762
            ]
           },
           {
            "iteration": 73,
            "learn": [
             174.5111176
            ],
            "passed_time": 0.1633152274,
            "remaining_time": 0.4987735322,
            "test": [
             228.9795321
            ]
           },
           {
            "iteration": 74,
            "learn": [
             174.325929
            ],
            "passed_time": 0.1652695231,
            "remaining_time": 0.4958085693,
            "test": [
             228.8390939
            ]
           },
           {
            "iteration": 75,
            "learn": [
             174.1673931
            ],
            "passed_time": 0.1684089023,
            "remaining_time": 0.4963630806,
            "test": [
             228.7342884
            ]
           },
           {
            "iteration": 76,
            "learn": [
             174.0018143
            ],
            "passed_time": 0.1712776842,
            "remaining_time": 0.4960379685,
            "test": [
             228.6217914
            ]
           },
           {
            "iteration": 77,
            "learn": [
             173.8582834
            ],
            "passed_time": 0.1732203893,
            "remaining_time": 0.4930118772,
            "test": [
             228.5067184
            ]
           },
           {
            "iteration": 78,
            "learn": [
             173.6882771
            ],
            "passed_time": 0.1751759832,
            "remaining_time": 0.4900492694,
            "test": [
             228.4010036
            ]
           },
           {
            "iteration": 79,
            "learn": [
             173.5733446
            ],
            "passed_time": 0.1771582664,
            "remaining_time": 0.4871852327,
            "test": [
             228.3199264
            ]
           },
           {
            "iteration": 80,
            "learn": [
             173.4386771
            ],
            "passed_time": 0.1791013197,
            "remaining_time": 0.4842369014,
            "test": [
             228.2313056
            ]
           },
           {
            "iteration": 81,
            "learn": [
             173.2828772
            ],
            "passed_time": 0.1809484934,
            "remaining_time": 0.4810581897,
            "test": [
             228.1255113
            ]
           },
           {
            "iteration": 82,
            "learn": [
             173.1662077
            ],
            "passed_time": 0.1823100446,
            "remaining_time": 0.4766419239,
            "test": [
             228.0244823
            ]
           },
           {
            "iteration": 83,
            "learn": [
             173.0513996
            ],
            "passed_time": 0.1842579541,
            "remaining_time": 0.4738061678,
            "test": [
             227.9465024
            ]
           },
           {
            "iteration": 84,
            "learn": [
             172.9374761
            ],
            "passed_time": 0.1862366002,
            "remaining_time": 0.4710690476,
            "test": [
             227.8605547
            ]
           },
           {
            "iteration": 85,
            "learn": [
             172.8145425
            ],
            "passed_time": 0.188197114,
            "remaining_time": 0.4683044464,
            "test": [
             227.7865716
            ]
           },
           {
            "iteration": 86,
            "learn": [
             172.6963426
            ],
            "passed_time": 0.1900899693,
            "remaining_time": 0.4653926835,
            "test": [
             227.7038477
            ]
           },
           {
            "iteration": 87,
            "learn": [
             172.5897449
            ],
            "passed_time": 0.1920492577,
            "remaining_time": 0.4626641207,
            "test": [
             227.6388934
            ]
           },
           {
            "iteration": 88,
            "learn": [
             172.4804113
            ],
            "passed_time": 0.1944259845,
            "remaining_time": 0.4609425027,
            "test": [
             227.5720781
            ]
           },
           {
            "iteration": 89,
            "learn": [
             172.3829644
            ],
            "passed_time": 0.1963780412,
            "remaining_time": 0.4582154295,
            "test": [
             227.5092999
            ]
           },
           {
            "iteration": 90,
            "learn": [
             172.3108998
            ],
            "passed_time": 0.1977661755,
            "remaining_time": 0.4542102273,
            "test": [
             227.4596452
            ]
           },
           {
            "iteration": 91,
            "learn": [
             172.2206115
            ],
            "passed_time": 0.1997264238,
            "remaining_time": 0.451555393,
            "test": [
             227.4202782
            ]
           },
           {
            "iteration": 92,
            "learn": [
             172.1386537
            ],
            "passed_time": 0.2017292866,
            "remaining_time": 0.4490103476,
            "test": [
             227.3631705
            ]
           },
           {
            "iteration": 93,
            "learn": [
             172.0566554
            ],
            "passed_time": 0.2037431364,
            "remaining_time": 0.446500916,
            "test": [
             227.3036868
            ]
           },
           {
            "iteration": 94,
            "learn": [
             171.9906931
            ],
            "passed_time": 0.2055366122,
            "remaining_time": 0.4435263738,
            "test": [
             227.2465883
            ]
           },
           {
            "iteration": 95,
            "learn": [
             171.9196127
            ],
            "passed_time": 0.2075133993,
            "remaining_time": 0.4409659734,
            "test": [
             227.167378
            ]
           },
           {
            "iteration": 96,
            "learn": [
             171.8616021
            ],
            "passed_time": 0.2088821204,
            "remaining_time": 0.437145056,
            "test": [
             227.1114888
            ]
           },
           {
            "iteration": 97,
            "learn": [
             171.8003088
            ],
            "passed_time": 0.2108198074,
            "remaining_time": 0.4345469499,
            "test": [
             227.0599779
            ]
           },
           {
            "iteration": 98,
            "learn": [
             171.74845
            ],
            "passed_time": 0.212999887,
            "remaining_time": 0.432454316,
            "test": [
             227.0103754
            ]
           },
           {
            "iteration": 99,
            "learn": [
             171.6624451
            ],
            "passed_time": 0.2149777285,
            "remaining_time": 0.4299554571,
            "test": [
             226.9786345
            ]
           },
           {
            "iteration": 100,
            "learn": [
             171.6174241
            ],
            "passed_time": 0.2167563665,
            "remaining_time": 0.4270744251,
            "test": [
             226.944581
            ]
           },
           {
            "iteration": 101,
            "learn": [
             171.5461819
            ],
            "passed_time": 0.2304824865,
            "remaining_time": 0.4474071796,
            "test": [
             226.8924984
            ]
           },
           {
            "iteration": 102,
            "learn": [
             171.4921876
            ],
            "passed_time": 0.2328296604,
            "remaining_time": 0.4453149815,
            "test": [
             226.8642484
            ]
           },
           {
            "iteration": 103,
            "learn": [
             171.4681677
            ],
            "passed_time": 0.2339615206,
            "remaining_time": 0.4409274811,
            "test": [
             226.840936
            ]
           },
           {
            "iteration": 104,
            "learn": [
             171.4213649
            ],
            "passed_time": 0.2363070636,
            "remaining_time": 0.4388559753,
            "test": [
             226.8122532
            ]
           },
           {
            "iteration": 105,
            "learn": [
             171.3759686
            ],
            "passed_time": 0.2382600249,
            "remaining_time": 0.4360608002,
            "test": [
             226.7844811
            ]
           },
           {
            "iteration": 106,
            "learn": [
             171.3192477
            ],
            "passed_time": 0.2402186096,
            "remaining_time": 0.4332915107,
            "test": [
             226.7315112
            ]
           },
           {
            "iteration": 107,
            "learn": [
             171.2700511
            ],
            "passed_time": 0.2421730135,
            "remaining_time": 0.4305298018,
            "test": [
             226.6999007
            ]
           },
           {
            "iteration": 108,
            "learn": [
             171.2223676
            ],
            "passed_time": 0.2441640238,
            "remaining_time": 0.4278470509,
            "test": [
             226.6791526
            ]
           },
           {
            "iteration": 109,
            "learn": [
             171.169942
            ],
            "passed_time": 0.2461143869,
            "remaining_time": 0.4251066683,
            "test": [
             226.6625401
            ]
           },
           {
            "iteration": 110,
            "learn": [
             171.1541813
            ],
            "passed_time": 0.2469593783,
            "remaining_time": 0.4204984009,
            "test": [
             226.6462589
            ]
           },
           {
            "iteration": 111,
            "learn": [
             171.1244236
            ],
            "passed_time": 0.2487686828,
            "remaining_time": 0.4175760033,
            "test": [
             226.623845
            ]
           },
           {
            "iteration": 112,
            "learn": [
             171.0743631
            ],
            "passed_time": 0.2507062408,
            "remaining_time": 0.4148855489,
            "test": [
             226.5878569
            ]
           },
           {
            "iteration": 113,
            "learn": [
             171.0446623
            ],
            "passed_time": 0.2526228847,
            "remaining_time": 0.4121741802,
            "test": [
             226.5544036
            ]
           },
           {
            "iteration": 114,
            "learn": [
             171.0113014
            ],
            "passed_time": 0.2545915255,
            "remaining_time": 0.4095602802,
            "test": [
             226.5359317
            ]
           },
           {
            "iteration": 115,
            "learn": [
             170.9809549
            ],
            "passed_time": 0.2564953288,
            "remaining_time": 0.4068546594,
            "test": [
             226.5160318
            ]
           },
           {
            "iteration": 116,
            "learn": [
             170.9564573
            ],
            "passed_time": 0.2584341121,
            "remaining_time": 0.4042174574,
            "test": [
             226.5008287
            ]
           },
           {
            "iteration": 117,
            "learn": [
             170.9258501
            ],
            "passed_time": 0.2607552657,
            "remaining_time": 0.4021818506,
            "test": [
             226.489748
            ]
           },
           {
            "iteration": 118,
            "learn": [
             170.8776014
            ],
            "passed_time": 0.2625991322,
            "remaining_time": 0.3994154868,
            "test": [
             226.4769163
            ]
           },
           {
            "iteration": 119,
            "learn": [
             170.8516575
            ],
            "passed_time": 0.2645980651,
            "remaining_time": 0.3968970976,
            "test": [
             226.4658122
            ]
           },
           {
            "iteration": 120,
            "learn": [
             170.8326411
            ],
            "passed_time": 0.266435329,
            "remaining_time": 0.3941481313,
            "test": [
             226.4534146
            ]
           },
           {
            "iteration": 121,
            "learn": [
             170.8194178
            ],
            "passed_time": 0.2684224131,
            "remaining_time": 0.391632701,
            "test": [
             226.4506318
            ]
           },
           {
            "iteration": 122,
            "learn": [
             170.7688935
            ],
            "passed_time": 0.2706367482,
            "remaining_time": 0.3894528816,
            "test": [
             226.446469
            ]
           },
           {
            "iteration": 123,
            "learn": [
             170.7321477
            ],
            "passed_time": 0.272647909,
            "remaining_time": 0.3869841289,
            "test": [
             226.4415976
            ]
           },
           {
            "iteration": 124,
            "learn": [
             170.7030756
            ],
            "passed_time": 0.2746772894,
            "remaining_time": 0.3845482051,
            "test": [
             226.4184619
            ]
           },
           {
            "iteration": 125,
            "learn": [
             170.6600697
            ],
            "passed_time": 0.27693212,
            "remaining_time": 0.3824300704,
            "test": [
             226.3888879
            ]
           },
           {
            "iteration": 126,
            "learn": [
             170.6373165
            ],
            "passed_time": 0.279356973,
            "remaining_time": 0.3805413884,
            "test": [
             226.3752404
            ]
           },
           {
            "iteration": 127,
            "learn": [
             170.6125306
            ],
            "passed_time": 0.281312506,
            "remaining_time": 0.3780136799,
            "test": [
             226.3770401
            ]
           },
           {
            "iteration": 128,
            "learn": [
             170.5672502
            ],
            "passed_time": 0.2833083598,
            "remaining_time": 0.375548291,
            "test": [
             226.3749299
            ]
           },
           {
            "iteration": 129,
            "learn": [
             170.5363676
            ],
            "passed_time": 0.2862221252,
            "remaining_time": 0.3742904714,
            "test": [
             226.3639045
            ]
           },
           {
            "iteration": 130,
            "learn": [
             170.5023919
            ],
            "passed_time": 0.288186218,
            "remaining_time": 0.3717822202,
            "test": [
             226.3520745
            ]
           },
           {
            "iteration": 131,
            "learn": [
             170.4752223
            ],
            "passed_time": 0.2901518225,
            "remaining_time": 0.3692841378,
            "test": [
             226.3480298
            ]
           },
           {
            "iteration": 132,
            "learn": [
             170.4665684
            ],
            "passed_time": 0.2921068383,
            "remaining_time": 0.3667807668,
            "test": [
             226.3408156
            ]
           },
           {
            "iteration": 133,
            "learn": [
             170.4326889
            ],
            "passed_time": 0.2940366537,
            "remaining_time": 0.364254362,
            "test": [
             226.3134907
            ]
           },
           {
            "iteration": 134,
            "learn": [
             170.4057194
            ],
            "passed_time": 0.2960246668,
            "remaining_time": 0.3618079261,
            "test": [
             226.2935537
            ]
           },
           {
            "iteration": 135,
            "learn": [
             170.3907333
            ],
            "passed_time": 0.2996316316,
            "remaining_time": 0.3613204969,
            "test": [
             226.2768233
            ]
           },
           {
            "iteration": 136,
            "learn": [
             170.3716745
            ],
            "passed_time": 0.3016139576,
            "remaining_time": 0.3588545627,
            "test": [
             226.2659244
            ]
           },
           {
            "iteration": 137,
            "learn": [
             170.3497656
            ],
            "passed_time": 0.3035754477,
            "remaining_time": 0.3563711777,
            "test": [
             226.2667841
            ]
           },
           {
            "iteration": 138,
            "learn": [
             170.3231887
            ],
            "passed_time": 0.3055403514,
            "remaining_time": 0.3538992559,
            "test": [
             226.2733457
            ]
           },
           {
            "iteration": 139,
            "learn": [
             170.3060941
            ],
            "passed_time": 0.3078475435,
            "remaining_time": 0.351825764,
            "test": [
             226.2587886
            ]
           },
           {
            "iteration": 140,
            "learn": [
             170.2745221
            ],
            "passed_time": 0.3097849669,
            "remaining_time": 0.3493319839,
            "test": [
             226.2497971
            ]
           },
           {
            "iteration": 141,
            "learn": [
             170.2388539
            ],
            "passed_time": 0.311766692,
            "remaining_time": 0.3468953333,
            "test": [
             226.2389289
            ]
           },
           {
            "iteration": 142,
            "learn": [
             170.2152674
            ],
            "passed_time": 0.3137526297,
            "remaining_time": 0.3444696704,
            "test": [
             226.2242638
            ]
           },
           {
            "iteration": 143,
            "learn": [
             170.1926573
            ],
            "passed_time": 0.3156976156,
            "remaining_time": 0.3420057503,
            "test": [
             226.2265166
            ]
           },
           {
            "iteration": 144,
            "learn": [
             170.1690076
            ],
            "passed_time": 0.3177037447,
            "remaining_time": 0.3396143478,
            "test": [
             226.2088185
            ]
           },
           {
            "iteration": 145,
            "learn": [
             170.1632916
            ],
            "passed_time": 0.3196437635,
            "remaining_time": 0.3371584903,
            "test": [
             226.2059907
            ]
           },
           {
            "iteration": 146,
            "learn": [
             170.150824
            ],
            "passed_time": 0.3216137752,
            "remaining_time": 0.3347408681,
            "test": [
             226.2144916
            ]
           },
           {
            "iteration": 147,
            "learn": [
             170.1300104
            ],
            "passed_time": 0.3235106614,
            "remaining_time": 0.3322541928,
            "test": [
             226.2131829
            ]
           },
           {
            "iteration": 148,
            "learn": [
             170.1048319
            ],
            "passed_time": 0.3254492902,
            "remaining_time": 0.3298177371,
            "test": [
             226.2099367
            ]
           },
           {
            "iteration": 149,
            "learn": [
             170.0665926
            ],
            "passed_time": 0.327406155,
            "remaining_time": 0.327406155,
            "test": [
             226.1741235
            ]
           },
           {
            "iteration": 150,
            "learn": [
             170.0499247
            ],
            "passed_time": 0.3299338265,
            "remaining_time": 0.3255638421,
            "test": [
             226.1620544
            ]
           },
           {
            "iteration": 151,
            "learn": [
             170.0455555
            ],
            "passed_time": 0.3318549567,
            "remaining_time": 0.3231219315,
            "test": [
             226.1562162
            ]
           },
           {
            "iteration": 152,
            "learn": [
             170.0304067
            ],
            "passed_time": 0.3338656575,
            "remaining_time": 0.3207728866,
            "test": [
             226.1515233
            ]
           },
           {
            "iteration": 153,
            "learn": [
             170.0238995
            ],
            "passed_time": 0.3360184886,
            "remaining_time": 0.3185629827,
            "test": [
             226.1538693
            ]
           },
           {
            "iteration": 154,
            "learn": [
             170.0096551
            ],
            "passed_time": 0.3379508694,
            "remaining_time": 0.3161475875,
            "test": [
             226.1568479
            ]
           },
           {
            "iteration": 155,
            "learn": [
             170.003564
            ],
            "passed_time": 0.3426093135,
            "remaining_time": 0.3162547509,
            "test": [
             226.1524432
            ]
           },
           {
            "iteration": 156,
            "learn": [
             169.9770929
            ],
            "passed_time": 0.3467542713,
            "remaining_time": 0.3158335083,
            "test": [
             226.1564623
            ]
           },
           {
            "iteration": 157,
            "learn": [
             169.9621342
            ],
            "passed_time": 0.3487324574,
            "remaining_time": 0.3134177782,
            "test": [
             226.1444818
            ]
           },
           {
            "iteration": 158,
            "learn": [
             169.9497656
            ],
            "passed_time": 0.3507168388,
            "remaining_time": 0.3110130458,
            "test": [
             226.139907
            ]
           },
           {
            "iteration": 159,
            "learn": [
             169.939141
            ],
            "passed_time": 0.3530944802,
            "remaining_time": 0.3089576702,
            "test": [
             226.1425296
            ]
           },
           {
            "iteration": 160,
            "learn": [
             169.9287423
            ],
            "passed_time": 0.3550168058,
            "remaining_time": 0.3065051926,
            "test": [
             226.136452
            ]
           },
           {
            "iteration": 161,
            "learn": [
             169.9202607
            ],
            "passed_time": 0.3569306615,
            "remaining_time": 0.304052045,
            "test": [
             226.1383071
            ]
           },
           {
            "iteration": 162,
            "learn": [
             169.8950402
            ],
            "passed_time": 0.3588435946,
            "remaining_time": 0.301604739,
            "test": [
             226.1316438
            ]
           },
           {
            "iteration": 163,
            "learn": [
             169.8834
            ],
            "passed_time": 0.3608386948,
            "remaining_time": 0.2992320884,
            "test": [
             226.1251331
            ]
           },
           {
            "iteration": 164,
            "learn": [
             169.8558334
            ],
            "passed_time": 0.3627460398,
            "remaining_time": 0.2967922144,
            "test": [
             226.1122804
            ]
           },
           {
            "iteration": 165,
            "learn": [
             169.8456837
            ],
            "passed_time": 0.3646903031,
            "remaining_time": 0.2943885579,
            "test": [
             226.1133555
            ]
           },
           {
            "iteration": 166,
            "learn": [
             169.8285303
            ],
            "passed_time": 0.3666063933,
            "remaining_time": 0.2919679659,
            "test": [
             226.1196071
            ]
           },
           {
            "iteration": 167,
            "learn": [
             169.8112562
            ],
            "passed_time": 0.3687575054,
            "remaining_time": 0.28973804,
            "test": [
             226.1144313
            ]
           },
           {
            "iteration": 168,
            "learn": [
             169.785141
            ],
            "passed_time": 0.3707123557,
            "remaining_time": 0.2873569148,
            "test": [
             226.1108317
            ]
           },
           {
            "iteration": 169,
            "learn": [
             169.7732514
            ],
            "passed_time": 0.3726839701,
            "remaining_time": 0.2849936242,
            "test": [
             226.112392
            ]
           },
           {
            "iteration": 170,
            "learn": [
             169.7647647
            ],
            "passed_time": 0.3745783381,
            "remaining_time": 0.282576641,
            "test": [
             226.1065699
            ]
           },
           {
            "iteration": 171,
            "learn": [
             169.751299
            ],
            "passed_time": 0.3766099157,
            "remaining_time": 0.2802678443,
            "test": [
             226.1019305
            ]
           },
           {
            "iteration": 172,
            "learn": [
             169.7234188
            ],
            "passed_time": 0.3785380539,
            "remaining_time": 0.277886317,
            "test": [
             226.0975054
            ]
           },
           {
            "iteration": 173,
            "learn": [
             169.7111604
            ],
            "passed_time": 0.3805290251,
            "remaining_time": 0.2755555009,
            "test": [
             226.0912991
            ]
           },
           {
            "iteration": 174,
            "learn": [
             169.6964838
            ],
            "passed_time": 0.3824642331,
            "remaining_time": 0.2731887379,
            "test": [
             226.0909761
            ]
           },
           {
            "iteration": 175,
            "learn": [
             169.6831905
            ],
            "passed_time": 0.3844120963,
            "remaining_time": 0.2708357951,
            "test": [
             226.0890996
            ]
           },
           {
            "iteration": 176,
            "learn": [
             169.6612721
            ],
            "passed_time": 0.3863421626,
            "remaining_time": 0.2684750621,
            "test": [
             226.0936359
            ]
           },
           {
            "iteration": 177,
            "learn": [
             169.6505716
            ],
            "passed_time": 0.3882869449,
            "remaining_time": 0.2661292543,
            "test": [
             226.0941796
            ]
           },
           {
            "iteration": 178,
            "learn": [
             169.6386055
            ],
            "passed_time": 0.3903600724,
            "remaining_time": 0.2638746858,
            "test": [
             226.0902855
            ]
           },
           {
            "iteration": 179,
            "learn": [
             169.61516
            ],
            "passed_time": 0.392306001,
            "remaining_time": 0.261537334,
            "test": [
             226.0894182
            ]
           },
           {
            "iteration": 180,
            "learn": [
             169.608688
            ],
            "passed_time": 0.3942273366,
            "remaining_time": 0.2591881384,
            "test": [
             226.088657
            ]
           },
           {
            "iteration": 181,
            "learn": [
             169.605266
            ],
            "passed_time": 0.3965541456,
            "remaining_time": 0.2571065339,
            "test": [
             226.083427
            ]
           },
           {
            "iteration": 182,
            "learn": [
             169.5903197
            ],
            "passed_time": 0.3987688126,
            "remaining_time": 0.2549505523,
            "test": [
             226.0807058
            ]
           },
           {
            "iteration": 183,
            "learn": [
             169.5769967
            ],
            "passed_time": 0.4005868251,
            "remaining_time": 0.252543868,
            "test": [
             226.0846542
            ]
           },
           {
            "iteration": 184,
            "learn": [
             169.5635706
            ],
            "passed_time": 0.402569722,
            "remaining_time": 0.2502460434,
            "test": [
             226.0969622
            ]
           },
           {
            "iteration": 185,
            "learn": [
             169.5529897
            ],
            "passed_time": 0.4045441045,
            "remaining_time": 0.2479463866,
            "test": [
             226.1009541
            ]
           },
           {
            "iteration": 186,
            "learn": [
             169.5457586
            ],
            "passed_time": 0.4065631733,
            "remaining_time": 0.2456772117,
            "test": [
             226.0945111
            ]
           },
           {
            "iteration": 187,
            "learn": [
             169.532913
            ],
            "passed_time": 0.408530696,
            "remaining_time": 0.2433799891,
            "test": [
             226.084752
            ]
           },
           {
            "iteration": 188,
            "learn": [
             169.5184884
            ],
            "passed_time": 0.4124081809,
            "remaining_time": 0.2422079793,
            "test": [
             226.0934103
            ]
           },
           {
            "iteration": 189,
            "learn": [
             169.5171404
            ],
            "passed_time": 0.4143689683,
            "remaining_time": 0.2398978237,
            "test": [
             226.0906004
            ]
           },
           {
            "iteration": 190,
            "learn": [
             169.4877623
            ],
            "passed_time": 0.4165454707,
            "remaining_time": 0.2377144309,
            "test": [
             226.0600859
            ]
           },
           {
            "iteration": 191,
            "learn": [
             169.4840402
            ],
            "passed_time": 0.4183716903,
            "remaining_time": 0.2353340758,
            "test": [
             226.0392344
            ]
           },
           {
            "iteration": 192,
            "learn": [
             169.4730074
            ],
            "passed_time": 0.420336744,
            "remaining_time": 0.2330364332,
            "test": [
             225.9971615
            ]
           },
           {
            "iteration": 193,
            "learn": [
             169.4593647
            ],
            "passed_time": 0.4222962196,
            "remaining_time": 0.2307391715,
            "test": [
             225.9676283
            ]
           },
           {
            "iteration": 194,
            "learn": [
             169.4468847
            ],
            "passed_time": 0.4242599133,
            "remaining_time": 0.2284476456,
            "test": [
             225.9585679
            ]
           },
           {
            "iteration": 195,
            "learn": [
             169.4396126
            ],
            "passed_time": 0.4260557309,
            "remaining_time": 0.2260703878,
            "test": [
             225.9615591
            ]
           },
           {
            "iteration": 196,
            "learn": [
             169.4355264
            ],
            "passed_time": 0.4280028649,
            "remaining_time": 0.2237781477,
            "test": [
             225.9585723
            ]
           },
           {
            "iteration": 197,
            "learn": [
             169.4233551
            ],
            "passed_time": 0.429933023,
            "remaining_time": 0.2214806482,
            "test": [
             225.9536806
            ]
           },
           {
            "iteration": 198,
            "learn": [
             169.4190632
            ],
            "passed_time": 0.431725818,
            "remaining_time": 0.2191171237,
            "test": [
             225.9320017
            ]
           },
           {
            "iteration": 199,
            "learn": [
             169.4119662
            ],
            "passed_time": 0.4336442663,
            "remaining_time": 0.2168221332,
            "test": [
             225.9334311
            ]
           },
           {
            "iteration": 200,
            "learn": [
             169.4094539
            ],
            "passed_time": 0.4355523704,
            "remaining_time": 0.2145257944,
            "test": [
             225.9332118
            ]
           },
           {
            "iteration": 201,
            "learn": [
             169.4005175
            ],
            "passed_time": 0.4378250661,
            "remaining_time": 0.2124101806,
            "test": [
             225.9284529
            ]
           },
           {
            "iteration": 202,
            "learn": [
             169.3967521
            ],
            "passed_time": 0.4397018036,
            "remaining_time": 0.2101038175,
            "test": [
             225.9109279
            ]
           },
           {
            "iteration": 203,
            "learn": [
             169.3830965
            ],
            "passed_time": 0.4416596156,
            "remaining_time": 0.2078398191,
            "test": [
             225.9212322
            ]
           },
           {
            "iteration": 204,
            "learn": [
             169.3786815
            ],
            "passed_time": 0.4436125004,
            "remaining_time": 0.2055765246,
            "test": [
             225.9176077
            ]
           },
           {
            "iteration": 205,
            "learn": [
             169.3566972
            ],
            "passed_time": 0.4455374541,
            "remaining_time": 0.2033034985,
            "test": [
             225.9297709
            ]
           },
           {
            "iteration": 206,
            "learn": [
             169.3563014
            ],
            "passed_time": 0.4474754993,
            "remaining_time": 0.2010397171,
            "test": [
             225.9295292
            ]
           },
           {
            "iteration": 207,
            "learn": [
             169.3246919
            ],
            "passed_time": 0.4494860465,
            "remaining_time": 0.1988111359,
            "test": [
             225.9145563
            ]
           },
           {
            "iteration": 208,
            "learn": [
             169.3216332
            ],
            "passed_time": 0.4513713065,
            "remaining_time": 0.1965300904,
            "test": [
             225.9141946
            ]
           },
           {
            "iteration": 209,
            "learn": [
             169.30907
            ],
            "passed_time": 0.4533390329,
            "remaining_time": 0.1942881569,
            "test": [
             225.9091907
            ]
           },
           {
            "iteration": 210,
            "learn": [
             169.303006
            ],
            "passed_time": 0.4552636484,
            "remaining_time": 0.1920306384,
            "test": [
             225.9098098
            ]
           },
           {
            "iteration": 211,
            "learn": [
             169.2968275
            ],
            "passed_time": 0.4571643054,
            "remaining_time": 0.1897663154,
            "test": [
             225.9038372
            ]
           },
           {
            "iteration": 212,
            "learn": [
             169.2844448
            ],
            "passed_time": 0.4590913299,
            "remaining_time": 0.187516177,
            "test": [
             225.9075149
            ]
           },
           {
            "iteration": 213,
            "learn": [
             169.2829667
            ],
            "passed_time": 0.4610649752,
            "remaining_time": 0.1852877938,
            "test": [
             225.9069462
            ]
           },
           {
            "iteration": 214,
            "learn": [
             169.2722819
            ],
            "passed_time": 0.4630050294,
            "remaining_time": 0.1830485,
            "test": [
             225.8951093
            ]
           },
           {
            "iteration": 215,
            "learn": [
             169.2664984
            ],
            "passed_time": 0.4652814986,
            "remaining_time": 0.180942805,
            "test": [
             225.8896101
            ]
           },
           {
            "iteration": 216,
            "learn": [
             169.2656567
            ],
            "passed_time": 0.4682631433,
            "remaining_time": 0.1791052576,
            "test": [
             225.8891086
            ]
           },
           {
            "iteration": 217,
            "learn": [
             169.2480183
            ],
            "passed_time": 0.4706702031,
            "remaining_time": 0.1770410856,
            "test": [
             225.8844498
            ]
           },
           {
            "iteration": 218,
            "learn": [
             169.2319911
            ],
            "passed_time": 0.4729536758,
            "remaining_time": 0.1749280719,
            "test": [
             225.9025488
            ]
           },
           {
            "iteration": 219,
            "learn": [
             169.2171985
            ],
            "passed_time": 0.4757949365,
            "remaining_time": 0.1730163405,
            "test": [
             225.8982952
            ]
           },
           {
            "iteration": 220,
            "learn": [
             169.2049541
            ],
            "passed_time": 0.4778124171,
            "remaining_time": 0.1708017238,
            "test": [
             225.9135666
            ]
           },
           {
            "iteration": 221,
            "learn": [
             169.1989312
            ],
            "passed_time": 0.4797188094,
            "remaining_time": 0.168549852,
            "test": [
             225.9070231
            ]
           },
           {
            "iteration": 222,
            "learn": [
             169.182601
            ],
            "passed_time": 0.4816837704,
            "remaining_time": 0.1663213019,
            "test": [
             225.9146195
            ]
           },
           {
            "iteration": 223,
            "learn": [
             169.1779623
            ],
            "passed_time": 0.4837928261,
            "remaining_time": 0.1641439946,
            "test": [
             225.9149844
            ]
           },
           {
            "iteration": 224,
            "learn": [
             169.169645
            ],
            "passed_time": 0.4858084295,
            "remaining_time": 0.1619361432,
            "test": [
             225.90051
            ]
           },
           {
            "iteration": 225,
            "learn": [
             169.1553935
            ],
            "passed_time": 0.487786532,
            "remaining_time": 0.159717714,
            "test": [
             225.8994832
            ]
           },
           {
            "iteration": 226,
            "learn": [
             169.1462113
            ],
            "passed_time": 0.4897561747,
            "remaining_time": 0.1574986817,
            "test": [
             225.8995387
            ]
           },
           {
            "iteration": 227,
            "learn": [
             169.1401098
            ],
            "passed_time": 0.4918285013,
            "remaining_time": 0.1553142636,
            "test": [
             225.8993953
            ]
           },
           {
            "iteration": 228,
            "learn": [
             169.1376278
            ],
            "passed_time": 0.4946012126,
            "remaining_time": 0.1533479742,
            "test": [
             225.8959831
            ]
           },
           {
            "iteration": 229,
            "learn": [
             169.1340604
            ],
            "passed_time": 0.4965963874,
            "remaining_time": 0.151138031,
            "test": [
             225.9004098
            ]
           },
           {
            "iteration": 230,
            "learn": [
             169.131429
            ],
            "passed_time": 0.4985285182,
            "remaining_time": 0.1489111158,
            "test": [
             225.9021069
            ]
           },
           {
            "iteration": 231,
            "learn": [
             169.1231798
            ],
            "passed_time": 0.5013505412,
            "remaining_time": 0.1469475724,
            "test": [
             225.8998573
            ]
           },
           {
            "iteration": 232,
            "learn": [
             169.1117947
            ],
            "passed_time": 0.5032812038,
            "remaining_time": 0.1447203462,
            "test": [
             225.8953461
            ]
           },
           {
            "iteration": 233,
            "learn": [
             169.1103811
            ],
            "passed_time": 0.5052439312,
            "remaining_time": 0.1425046985,
            "test": [
             225.8961238
            ]
           },
           {
            "iteration": 234,
            "learn": [
             169.1020279
            ],
            "passed_time": 0.5073495952,
            "remaining_time": 0.1403307391,
            "test": [
             225.8973943
            ]
           },
           {
            "iteration": 235,
            "learn": [
             169.1003564
            ],
            "passed_time": 0.5093560288,
            "remaining_time": 0.1381304485,
            "test": [
             225.8979364
            ]
           },
           {
            "iteration": 236,
            "learn": [
             169.0943424
            ],
            "passed_time": 0.5112854179,
            "remaining_time": 0.1359113136,
            "test": [
             225.9028973
            ]
           },
           {
            "iteration": 237,
            "learn": [
             169.0870626
            ],
            "passed_time": 0.513212836,
            "remaining_time": 0.1336941001,
            "test": [
             225.9033074
            ]
           },
           {
            "iteration": 238,
            "learn": [
             169.073819
            ],
            "passed_time": 0.5161907881,
            "remaining_time": 0.1317474396,
            "test": [
             225.8750991
            ]
           },
           {
            "iteration": 239,
            "learn": [
             169.0687275
            ],
            "passed_time": 0.5181465702,
            "remaining_time": 0.1295366425,
            "test": [
             225.8643809
            ]
           },
           {
            "iteration": 240,
            "learn": [
             169.0573962
            ],
            "passed_time": 0.5201511475,
            "remaining_time": 0.1273399075,
            "test": [
             225.8644142
            ]
           },
           {
            "iteration": 241,
            "learn": [
             169.052767
            ],
            "passed_time": 0.5221430232,
            "remaining_time": 0.1251417163,
            "test": [
             225.861953
            ]
           },
           {
            "iteration": 242,
            "learn": [
             169.039642
            ],
            "passed_time": 0.5242921154,
            "remaining_time": 0.1229821011,
            "test": [
             225.8548766
            ]
           },
           {
            "iteration": 243,
            "learn": [
             169.0318168
            ],
            "passed_time": 0.5262990681,
            "remaining_time": 0.12078995,
            "test": [
             225.8495973
            ]
           },
           {
            "iteration": 244,
            "learn": [
             169.0132238
            ],
            "passed_time": 0.5281200023,
            "remaining_time": 0.1185575515,
            "test": [
             225.8070295
            ]
           },
           {
            "iteration": 245,
            "learn": [
             169.0110778
            ],
            "passed_time": 0.5300976184,
            "remaining_time": 0.1163628919,
            "test": [
             225.8095119
            ]
           },
           {
            "iteration": 246,
            "learn": [
             169.0015438
            ],
            "passed_time": 0.5322240166,
            "remaining_time": 0.1142019145,
            "test": [
             225.8038275
            ]
           },
           {
            "iteration": 247,
            "learn": [
             168.9897204
            ],
            "passed_time": 0.5341879539,
            "remaining_time": 0.1120071516,
            "test": [
             225.8060558
            ]
           },
           {
            "iteration": 248,
            "learn": [
             168.981091
            ],
            "passed_time": 0.5361049487,
            "remaining_time": 0.109804628,
            "test": [
             225.7937611
            ]
           },
           {
            "iteration": 249,
            "learn": [
             168.9806461
            ],
            "passed_time": 0.5374953829,
            "remaining_time": 0.1074990766,
            "test": [
             225.7937106
            ]
           },
           {
            "iteration": 250,
            "learn": [
             168.9773814
            ],
            "passed_time": 0.5395153853,
            "remaining_time": 0.1053237206,
            "test": [
             225.7939113
            ]
           },
           {
            "iteration": 251,
            "learn": [
             168.9734765
            ],
            "passed_time": 0.5416159176,
            "remaining_time": 0.1031649367,
            "test": [
             225.7929753
            ]
           },
           {
            "iteration": 252,
            "learn": [
             168.9684523
            ],
            "passed_time": 0.5435859266,
            "remaining_time": 0.1009823658,
            "test": [
             225.7954242
            ]
           },
           {
            "iteration": 253,
            "learn": [
             168.9600887
            ],
            "passed_time": 0.5454075909,
            "remaining_time": 0.09877460307,
            "test": [
             225.8045423
            ]
           },
           {
            "iteration": 254,
            "learn": [
             168.9598408
            ],
            "passed_time": 0.5474207189,
            "remaining_time": 0.09660365627,
            "test": [
             225.8053884
            ]
           },
           {
            "iteration": 255,
            "learn": [
             168.9580284
            ],
            "passed_time": 0.5493375946,
            "remaining_time": 0.09441739907,
            "test": [
             225.8058204
            ]
           },
           {
            "iteration": 256,
            "learn": [
             168.9267705
            ],
            "passed_time": 0.5513436255,
            "remaining_time": 0.09224815524,
            "test": [
             225.8014982
            ]
           },
           {
            "iteration": 257,
            "learn": [
             168.9157481
            ],
            "passed_time": 0.5532944377,
            "remaining_time": 0.09007118753,
            "test": [
             225.7848366
            ]
           },
           {
            "iteration": 258,
            "learn": [
             168.9153741
            ],
            "passed_time": 0.5552000509,
            "remaining_time": 0.08788881114,
            "test": [
             225.7854871
            ]
           },
           {
            "iteration": 259,
            "learn": [
             168.9117569
            ],
            "passed_time": 0.5571772206,
            "remaining_time": 0.0857195724,
            "test": [
             225.7857708
            ]
           },
           {
            "iteration": 260,
            "learn": [
             168.9053895
            ],
            "passed_time": 0.5591851551,
            "remaining_time": 0.08355640249,
            "test": [
             225.7711505
            ]
           },
           {
            "iteration": 261,
            "learn": [
             168.897403
            ],
            "passed_time": 0.561168622,
            "remaining_time": 0.08139086884,
            "test": [
             225.7742864
            ]
           },
           {
            "iteration": 262,
            "learn": [
             168.889297
            ],
            "passed_time": 0.5631278785,
            "remaining_time": 0.07922331371,
            "test": [
             225.7789681
            ]
           },
           {
            "iteration": 263,
            "learn": [
             168.8811137
            ],
            "passed_time": 0.5650950921,
            "remaining_time": 0.07705842165,
            "test": [
             225.7652248
            ]
           },
           {
            "iteration": 264,
            "learn": [
             168.8781365
            ],
            "passed_time": 0.5670493415,
            "remaining_time": 0.07489330925,
            "test": [
             225.7653778
            ]
           },
           {
            "iteration": 265,
            "learn": [
             168.8746013
            ],
            "passed_time": 0.5689671135,
            "remaining_time": 0.07272511977,
            "test": [
             225.7659612
            ]
           },
           {
            "iteration": 266,
            "learn": [
             168.865563
            ],
            "passed_time": 0.5709467296,
            "remaining_time": 0.07056644972,
            "test": [
             225.7665511
            ]
           },
           {
            "iteration": 267,
            "learn": [
             168.8584149
            ],
            "passed_time": 0.5728782104,
            "remaining_time": 0.0684033684,
            "test": [
             225.764682
            ]
           },
           {
            "iteration": 268,
            "learn": [
             168.839366
            ],
            "passed_time": 0.5748336761,
            "remaining_time": 0.06624477308,
            "test": [
             225.7529902
            ]
           },
           {
            "iteration": 269,
            "learn": [
             168.8111937
            ],
            "passed_time": 0.5767700141,
            "remaining_time": 0.06408555712,
            "test": [
             225.7524906
            ]
           },
           {
            "iteration": 270,
            "learn": [
             168.8075956
            ],
            "passed_time": 0.5787017158,
            "remaining_time": 0.06192748988,
            "test": [
             225.73865
            ]
           },
           {
            "iteration": 271,
            "learn": [
             168.7924206
            ],
            "passed_time": 0.5806397546,
            "remaining_time": 0.05977173944,
            "test": [
             225.7359315
            ]
           },
           {
            "iteration": 272,
            "learn": [
             168.7838506
            ],
            "passed_time": 0.5826287432,
            "remaining_time": 0.05762262295,
            "test": [
             225.7429303
            ]
           },
           {
            "iteration": 273,
            "learn": [
             168.7762375
            ],
            "passed_time": 0.5846387476,
            "remaining_time": 0.05547666948,
            "test": [
             225.748389
            ]
           },
           {
            "iteration": 274,
            "learn": [
             168.7717835
            ],
            "passed_time": 0.5866216972,
            "remaining_time": 0.0533292452,
            "test": [
             225.75198
            ]
           },
           {
            "iteration": 275,
            "learn": [
             168.7653789
            ],
            "passed_time": 0.5886689972,
            "remaining_time": 0.05118860845,
            "test": [
             225.7515293
            ]
           },
           {
            "iteration": 276,
            "learn": [
             168.7599445
            ],
            "passed_time": 0.5906664292,
            "remaining_time": 0.04904450495,
            "test": [
             225.7530024
            ]
           },
           {
            "iteration": 277,
            "learn": [
             168.7544128
            ],
            "passed_time": 0.5926098788,
            "remaining_time": 0.04689718465,
            "test": [
             225.7584773
            ]
           },
           {
            "iteration": 278,
            "learn": [
             168.7534277
            ],
            "passed_time": 0.5945737116,
            "remaining_time": 0.04475286001,
            "test": [
             225.7582668
            ]
           },
           {
            "iteration": 279,
            "learn": [
             168.7480356
            ],
            "passed_time": 0.5975081256,
            "remaining_time": 0.04267915183,
            "test": [
             225.7658978
            ]
           },
           {
            "iteration": 280,
            "learn": [
             168.741599
            ],
            "passed_time": 0.5999079919,
            "remaining_time": 0.04056317383,
            "test": [
             225.7604961
            ]
           },
           {
            "iteration": 281,
            "learn": [
             168.7357247
            ],
            "passed_time": 0.6018829426,
            "remaining_time": 0.03841806017,
            "test": [
             225.7600569
            ]
           },
           {
            "iteration": 282,
            "learn": [
             168.7220655
            ],
            "passed_time": 0.6040061835,
            "remaining_time": 0.03628305696,
            "test": [
             225.7558755
            ]
           },
           {
            "iteration": 283,
            "learn": [
             168.7219881
            ],
            "passed_time": 0.6059391788,
            "remaining_time": 0.03413741853,
            "test": [
             225.7559467
            ]
           },
           {
            "iteration": 284,
            "learn": [
             168.7185573
            ],
            "passed_time": 0.607923933,
            "remaining_time": 0.03199599647,
            "test": [
             225.7559635
            ]
           },
           {
            "iteration": 285,
            "learn": [
             168.7087833
            ],
            "passed_time": 0.6099371455,
            "remaining_time": 0.02985706307,
            "test": [
             225.7575303
            ]
           },
           {
            "iteration": 286,
            "learn": [
             168.6973917
            ],
            "passed_time": 0.6117623051,
            "remaining_time": 0.02771048769,
            "test": [
             225.7680066
            ]
           },
           {
            "iteration": 287,
            "learn": [
             168.68676
            ],
            "passed_time": 0.7456556354,
            "remaining_time": 0.03106898481,
            "test": [
             225.7702206
            ]
           },
           {
            "iteration": 288,
            "learn": [
             168.6831357
            ],
            "passed_time": 0.7522485339,
            "remaining_time": 0.02863229714,
            "test": [
             225.7715763
            ]
           },
           {
            "iteration": 289,
            "learn": [
             168.6785667
            ],
            "passed_time": 0.756204497,
            "remaining_time": 0.02607601714,
            "test": [
             225.7715792
            ]
           },
           {
            "iteration": 290,
            "learn": [
             168.6735256
            ],
            "passed_time": 0.7600471627,
            "remaining_time": 0.02350661328,
            "test": [
             225.7631854
            ]
           },
           {
            "iteration": 291,
            "learn": [
             168.6705868
            ],
            "passed_time": 0.7637392282,
            "remaining_time": 0.02092436242,
            "test": [
             225.7596432
            ]
           },
           {
            "iteration": 292,
            "learn": [
             168.6678549
            ],
            "passed_time": 0.7673108848,
            "remaining_time": 0.01833165936,
            "test": [
             225.763386
            ]
           },
           {
            "iteration": 293,
            "learn": [
             168.6674273
            ],
            "passed_time": 0.7709146896,
            "remaining_time": 0.01573295285,
            "test": [
             225.7649562
            ]
           },
           {
            "iteration": 294,
            "learn": [
             168.6662624
            ],
            "passed_time": 0.7744664503,
            "remaining_time": 0.01312655,
            "test": [
             225.7675763
            ]
           },
           {
            "iteration": 295,
            "learn": [
             168.6656222
            ],
            "passed_time": 0.7791046585,
            "remaining_time": 0.01052844133,
            "test": [
             225.7665897
            ]
           },
           {
            "iteration": 296,
            "learn": [
             168.6584704
            ],
            "passed_time": 0.7841084383,
            "remaining_time": 0.007920287255,
            "test": [
             225.7573255
            ]
           },
           {
            "iteration": 297,
            "learn": [
             168.6497619
            ],
            "passed_time": 0.7877745999,
            "remaining_time": 0.005287077852,
            "test": [
             225.7589726
            ]
           },
           {
            "iteration": 298,
            "learn": [
             168.648468
            ],
            "passed_time": 0.7920932773,
            "remaining_time": 0.002649141396,
            "test": [
             225.7586557
            ]
           },
           {
            "iteration": 299,
            "learn": [
             168.6453384
            ],
            "passed_time": 0.7942365814,
            "remaining_time": 0,
            "test": [
             225.7573002
            ]
           }
          ],
          "meta": {
           "iteration_count": 300,
           "launch_mode": "Train",
           "learn_metrics": [
            {
             "best_value": "Min",
             "name": "RMSE"
            }
           ],
           "learn_sets": [
            "learn"
           ],
           "name": "experiment",
           "parameters": "",
           "test_metrics": [
            {
             "best_value": "Min",
             "name": "RMSE"
            }
           ],
           "test_sets": [
            "test"
           ]
          }
         },
         "passed_iterations": 299,
         "total_iterations": 300
        },
        "name": "fold-2",
        "path": "catboost_info/fold-2"
       },
       "catboost_info/fold-3": {
        "content": {
         "data": {
          "iterations": [
           {
            "iteration": 0,
            "learn": [
             331.3744315
            ],
            "passed_time": 0.001440923963,
            "remaining_time": 0.4308362649,
            "test": [
             307.3944217
            ]
           },
           {
            "iteration": 1,
            "learn": [
             324.8534218
            ],
            "passed_time": 0.005146004676,
            "remaining_time": 0.7667546967,
            "test": [
             300.6275397
            ]
           },
           {
            "iteration": 2,
            "learn": [
             318.5833143
            ],
            "passed_time": 0.008098750054,
            "remaining_time": 0.8017762553,
            "test": [
             294.0370186
            ]
           },
           {
            "iteration": 3,
            "learn": [
             312.5846824
            ],
            "passed_time": 0.01028508678,
            "remaining_time": 0.7610964221,
            "test": [
             287.7786134
            ]
           },
           {
            "iteration": 4,
            "learn": [
             306.8154744
            ],
            "passed_time": 0.01316035577,
            "remaining_time": 0.7764609905,
            "test": [
             281.6738692
            ]
           },
           {
            "iteration": 5,
            "learn": [
             301.4919904
            ],
            "passed_time": 0.01512459764,
            "remaining_time": 0.7411052842,
            "test": [
             276.2554139
            ]
           },
           {
            "iteration": 6,
            "learn": [
             296.199893
            ],
            "passed_time": 0.01740800031,
            "remaining_time": 0.7286491557,
            "test": [
             270.6587588
            ]
           },
           {
            "iteration": 7,
            "learn": [
             291.2481549
            ],
            "passed_time": 0.01934921725,
            "remaining_time": 0.7062464296,
            "test": [
             265.5100889
            ]
           },
           {
            "iteration": 8,
            "learn": [
             286.3721273
            ],
            "passed_time": 0.02148956777,
            "remaining_time": 0.6948293579,
            "test": [
             260.2948648
            ]
           },
           {
            "iteration": 9,
            "learn": [
             281.7098281
            ],
            "passed_time": 0.02287076311,
            "remaining_time": 0.6632521303,
            "test": [
             255.3153291
            ]
           },
           {
            "iteration": 10,
            "learn": [
             277.273861
            ],
            "passed_time": 0.02483536224,
            "remaining_time": 0.6524926989,
            "test": [
             250.6671693
            ]
           },
           {
            "iteration": 11,
            "learn": [
             273.1008372
            ],
            "passed_time": 0.02749590347,
            "remaining_time": 0.6599016832,
            "test": [
             246.2840235
            ]
           },
           {
            "iteration": 12,
            "learn": [
             269.0107044
            ],
            "passed_time": 0.02936128398,
            "remaining_time": 0.6482068079,
            "test": [
             241.9352711
            ]
           },
           {
            "iteration": 13,
            "learn": [
             265.145479
            ],
            "passed_time": 0.03134985801,
            "remaining_time": 0.6404328137,
            "test": [
             237.8830298
            ]
           },
           {
            "iteration": 14,
            "learn": [
             261.4204792
            ],
            "passed_time": 0.03284147626,
            "remaining_time": 0.6239880489,
            "test": [
             233.874276
            ]
           },
           {
            "iteration": 15,
            "learn": [
             257.8693616
            ],
            "passed_time": 0.03465038171,
            "remaining_time": 0.6150442754,
            "test": [
             230.0577866
            ]
           },
           {
            "iteration": 16,
            "learn": [
             254.4842914
            ],
            "passed_time": 0.03692395188,
            "remaining_time": 0.614675199,
            "test": [
             226.4578019
            ]
           },
           {
            "iteration": 17,
            "learn": [
             251.2560831
            ],
            "passed_time": 0.03909714619,
            "remaining_time": 0.612521957,
            "test": [
             222.9558413
            ]
           },
           {
            "iteration": 18,
            "learn": [
             248.1911609
            ],
            "passed_time": 0.04123044051,
            "remaining_time": 0.6097765149,
            "test": [
             219.662582
            ]
           },
           {
            "iteration": 19,
            "learn": [
             245.2542052
            ],
            "passed_time": 0.04257861116,
            "remaining_time": 0.5961005563,
            "test": [
             216.4672005
            ]
           },
           {
            "iteration": 20,
            "learn": [
             242.5641046
            ],
            "passed_time": 0.04463579633,
            "remaining_time": 0.593018437,
            "test": [
             213.5558848
            ]
           },
           {
            "iteration": 21,
            "learn": [
             240.0068774
            ],
            "passed_time": 0.04656922164,
            "remaining_time": 0.5884656189,
            "test": [
             210.8033225
            ]
           },
           {
            "iteration": 22,
            "learn": [
             237.4229609
            ],
            "passed_time": 0.04887971277,
            "remaining_time": 0.5886817582,
            "test": [
             207.9951334
            ]
           },
           {
            "iteration": 23,
            "learn": [
             235.0022608
            ],
            "passed_time": 0.05097733337,
            "remaining_time": 0.5862393338,
            "test": [
             205.378487
            ]
           },
           {
            "iteration": 24,
            "learn": [
             232.7088133
            ],
            "passed_time": 0.05290754512,
            "remaining_time": 0.5819829963,
            "test": [
             202.8572872
            ]
           },
           {
            "iteration": 25,
            "learn": [
             230.5174088
            ],
            "passed_time": 0.05472121955,
            "remaining_time": 0.5766774676,
            "test": [
             200.4986124
            ]
           },
           {
            "iteration": 26,
            "learn": [
             228.4322918
            ],
            "passed_time": 0.05673485755,
            "remaining_time": 0.5736524486,
            "test": [
             198.2628528
            ]
           },
           {
            "iteration": 27,
            "learn": [
             226.5234659
            ],
            "passed_time": 0.0580946952,
            "remaining_time": 0.5643484677,
            "test": [
             196.2320202
            ]
           },
           {
            "iteration": 28,
            "learn": [
             224.6514264
            ],
            "passed_time": 0.05989413088,
            "remaining_time": 0.5597003265,
            "test": [
             194.2398853
            ]
           },
           {
            "iteration": 29,
            "learn": [
             222.8751356
            ],
            "passed_time": 0.0620759559,
            "remaining_time": 0.5586836031,
            "test": [
             192.2633764
            ]
           },
           {
            "iteration": 30,
            "learn": [
             221.1863307
            ],
            "passed_time": 0.06405115751,
            "remaining_time": 0.5557987539,
            "test": [
             190.4014318
            ]
           },
           {
            "iteration": 31,
            "learn": [
             219.5776158
            ],
            "passed_time": 0.06598826546,
            "remaining_time": 0.5526517232,
            "test": [
             188.6291573
            ]
           },
           {
            "iteration": 32,
            "learn": [
             218.0461921
            ],
            "passed_time": 0.06802042575,
            "remaining_time": 0.5503470811,
            "test": [
             186.9447053
            ]
           },
           {
            "iteration": 33,
            "learn": [
             216.7069642
            ],
            "passed_time": 0.07025504046,
            "remaining_time": 0.5496423753,
            "test": [
             185.4969645
            ]
           },
           {
            "iteration": 34,
            "learn": [
             215.2852602
            ],
            "passed_time": 0.0735868198,
            "remaining_time": 0.5571573499,
            "test": [
             184.0265149
            ]
           },
           {
            "iteration": 35,
            "learn": [
             213.9727023
            ],
            "passed_time": 0.07688959618,
            "remaining_time": 0.5638570386,
            "test": [
             182.5586076
            ]
           },
           {
            "iteration": 36,
            "learn": [
             212.7247623
            ],
            "passed_time": 0.08139193755,
            "remaining_time": 0.5785426912,
            "test": [
             181.2064788
            ]
           },
           {
            "iteration": 37,
            "learn": [
             211.5595158
            ],
            "passed_time": 0.08535394323,
            "remaining_time": 0.588492977,
            "test": [
             179.9547589
            ]
           },
           {
            "iteration": 38,
            "learn": [
             210.457813
            ],
            "passed_time": 0.08890797562,
            "remaining_time": 0.5949995292,
            "test": [
             178.7255448
            ]
           },
           {
            "iteration": 39,
            "learn": [
             209.396783
            ],
            "passed_time": 0.0939434574,
            "remaining_time": 0.6106324731,
            "test": [
             177.6198684
            ]
           },
           {
            "iteration": 40,
            "learn": [
             208.3973533
            ],
            "passed_time": 0.09606239659,
            "remaining_time": 0.6068331882,
            "test": [
             176.5219743
            ]
           },
           {
            "iteration": 41,
            "learn": [
             207.4621513
            ],
            "passed_time": 0.09811114105,
            "remaining_time": 0.6026827236,
            "test": [
             175.5206863
            ]
           },
           {
            "iteration": 42,
            "learn": [
             206.5532131
            ],
            "passed_time": 0.0999878004,
            "remaining_time": 0.5976015047,
            "test": [
             174.5225172
            ]
           },
           {
            "iteration": 43,
            "learn": [
             205.6812173
            ],
            "passed_time": 0.1020008357,
            "remaining_time": 0.5934594076,
            "test": [
             173.5723738
            ]
           },
           {
            "iteration": 44,
            "learn": [
             204.8626814
            ],
            "passed_time": 0.1040094747,
            "remaining_time": 0.5893870233,
            "test": [
             172.659063
            ]
           },
           {
            "iteration": 45,
            "learn": [
             204.095555
            ],
            "passed_time": 0.1063902551,
            "remaining_time": 0.5874592348,
            "test": [
             171.8400585
            ]
           },
           {
            "iteration": 46,
            "learn": [
             203.3439649
            ],
            "passed_time": 0.1083792337,
            "remaining_time": 0.583403109,
            "test": [
             171.0131468
            ]
           },
           {
            "iteration": 47,
            "learn": [
             202.6624498
            ],
            "passed_time": 0.1102334317,
            "remaining_time": 0.5787255166,
            "test": [
             170.2629548
            ]
           },
           {
            "iteration": 48,
            "learn": [
             202.0042074
            ],
            "passed_time": 0.1122851479,
            "remaining_time": 0.5751749415,
            "test": [
             169.5610617
            ]
           },
           {
            "iteration": 49,
            "learn": [
             201.3471904
            ],
            "passed_time": 0.1141452268,
            "remaining_time": 0.5707261338,
            "test": [
             168.8404977
            ]
           },
           {
            "iteration": 50,
            "learn": [
             200.7589662
            ],
            "passed_time": 0.116028166,
            "remaining_time": 0.5664904573,
            "test": [
             168.1912683
            ]
           },
           {
            "iteration": 51,
            "learn": [
             200.2716656
            ],
            "passed_time": 0.1168805299,
            "remaining_time": 0.5574302195,
            "test": [
             167.6760076
            ]
           },
           {
            "iteration": 52,
            "learn": [
             199.7071273
            ],
            "passed_time": 0.1188241586,
            "remaining_time": 0.5537654183,
            "test": [
             167.0363802
            ]
           },
           {
            "iteration": 53,
            "learn": [
             199.1569097
            ],
            "passed_time": 0.1208619878,
            "remaining_time": 0.5505935002,
            "test": [
             166.3811145
            ]
           },
           {
            "iteration": 54,
            "learn": [
             198.7287846
            ],
            "passed_time": 0.1238748864,
            "remaining_time": 0.5518063121,
            "test": [
             165.951775
            ]
           },
           {
            "iteration": 55,
            "learn": [
             198.2197779
            ],
            "passed_time": 0.125856976,
            "remaining_time": 0.5483768241,
            "test": [
             165.458236
            ]
           },
           {
            "iteration": 56,
            "learn": [
             197.7547356
            ],
            "passed_time": 0.1279278363,
            "remaining_time": 0.5453765654,
            "test": [
             164.9033646
            ]
           },
           {
            "iteration": 57,
            "learn": [
             197.290943
            ],
            "passed_time": 0.1299398444,
            "remaining_time": 0.5421627989,
            "test": [
             164.3929297
            ]
           },
           {
            "iteration": 58,
            "learn": [
             196.8727562
            ],
            "passed_time": 0.1318775514,
            "remaining_time": 0.5386862692,
            "test": [
             163.8906964
            ]
           },
           {
            "iteration": 59,
            "learn": [
             196.503062
            ],
            "passed_time": 0.1340847822,
            "remaining_time": 0.5363391287,
            "test": [
             163.4856278
            ]
           },
           {
            "iteration": 60,
            "learn": [
             196.103541
            ],
            "passed_time": 0.1359931953,
            "remaining_time": 0.5328257981,
            "test": [
             163.1038322
            ]
           },
           {
            "iteration": 61,
            "learn": [
             195.7329722
            ],
            "passed_time": 0.1379623062,
            "remaining_time": 0.5295972398,
            "test": [
             162.6964247
            ]
           },
           {
            "iteration": 62,
            "learn": [
             195.3954713
            ],
            "passed_time": 0.1399100402,
            "remaining_time": 0.5263282466,
            "test": [
             162.3363478
            ]
           },
           {
            "iteration": 63,
            "learn": [
             195.0788469
            ],
            "passed_time": 0.1420379083,
            "remaining_time": 0.5237647869,
            "test": [
             162.0075977
            ]
           },
           {
            "iteration": 64,
            "learn": [
             194.7387235
            ],
            "passed_time": 0.1440590716,
            "remaining_time": 0.5208289512,
            "test": [
             161.6599125
            ]
           },
           {
            "iteration": 65,
            "learn": [
             194.4561014
            ],
            "passed_time": 0.1460257398,
            "remaining_time": 0.5177276228,
            "test": [
             161.3088144
            ]
           },
           {
            "iteration": 66,
            "learn": [
             194.1440143
            ],
            "passed_time": 0.1484369758,
            "remaining_time": 0.5162061996,
            "test": [
             160.990451
            ]
           },
           {
            "iteration": 67,
            "learn": [
             193.8670522
            ],
            "passed_time": 0.1503880235,
            "remaining_time": 0.5130885507,
            "test": [
             160.73146
            ]
           },
           {
            "iteration": 68,
            "learn": [
             193.6871943
            ],
            "passed_time": 0.1512385547,
            "remaining_time": 0.5063203789,
            "test": [
             160.552609
            ]
           },
           {
            "iteration": 69,
            "learn": [
             193.5178066
            ],
            "passed_time": 0.1520871778,
            "remaining_time": 0.4997150129,
            "test": [
             160.3852492
            ]
           },
           {
            "iteration": 70,
            "learn": [
             193.3118152
            ],
            "passed_time": 0.1543752777,
            "remaining_time": 0.497914628,
            "test": [
             160.2054622
            ]
           },
           {
            "iteration": 71,
            "learn": [
             193.1276553
            ],
            "passed_time": 0.1564361809,
            "remaining_time": 0.4953812396,
            "test": [
             160.0137716
            ]
           },
           {
            "iteration": 72,
            "learn": [
             192.9486227
            ],
            "passed_time": 0.1590004889,
            "remaining_time": 0.4944261779,
            "test": [
             159.8436596
            ]
           },
           {
            "iteration": 73,
            "learn": [
             192.7494654
            ],
            "passed_time": 0.1609644526,
            "remaining_time": 0.4915941391,
            "test": [
             159.5812095
            ]
           },
           {
            "iteration": 74,
            "learn": [
             192.5644159
            ],
            "passed_time": 0.162955822,
            "remaining_time": 0.4888674661,
            "test": [
             159.350137
            ]
           },
           {
            "iteration": 75,
            "learn": [
             192.3645464
            ],
            "passed_time": 0.1649295537,
            "remaining_time": 0.4861081582,
            "test": [
             159.1645669
            ]
           },
           {
            "iteration": 76,
            "learn": [
             192.1972957
            ],
            "passed_time": 0.1671894642,
            "remaining_time": 0.4841980586,
            "test": [
             159.0238557
            ]
           },
           {
            "iteration": 77,
            "learn": [
             192.0557124
            ],
            "passed_time": 0.1721193593,
            "remaining_time": 0.4898781764,
            "test": [
             158.8674333
            ]
           },
           {
            "iteration": 78,
            "learn": [
             191.9003612
            ],
            "passed_time": 0.1751453866,
            "remaining_time": 0.4899636765,
            "test": [
             158.7136891
            ]
           },
           {
            "iteration": 79,
            "learn": [
             191.7366835
            ],
            "passed_time": 0.1772945206,
            "remaining_time": 0.4875599316,
            "test": [
             158.545346
            ]
           },
           {
            "iteration": 80,
            "learn": [
             191.5930624
            ],
            "passed_time": 0.179918279,
            "remaining_time": 0.4864457173,
            "test": [
             158.3726683
            ]
           },
           {
            "iteration": 81,
            "learn": [
             191.4714754
            ],
            "passed_time": 0.182468031,
            "remaining_time": 0.485097936,
            "test": [
             158.2684067
            ]
           },
           {
            "iteration": 82,
            "learn": [
             191.3717423
            ],
            "passed_time": 0.184425063,
            "remaining_time": 0.4821715503,
            "test": [
             158.1693001
            ]
           },
           {
            "iteration": 83,
            "learn": [
             191.2331659
            ],
            "passed_time": 0.1864810682,
            "remaining_time": 0.4795227468,
            "test": [
             158.0306523
            ]
           },
           {
            "iteration": 84,
            "learn": [
             191.1171791
            ],
            "passed_time": 0.1884467891,
            "remaining_time": 0.4766595254,
            "test": [
             157.9129988
            ]
           },
           {
            "iteration": 85,
            "learn": [
             191.0295222
            ],
            "passed_time": 0.1903105751,
            "remaining_time": 0.4735635242,
            "test": [
             157.8257462
            ]
           },
           {
            "iteration": 86,
            "learn": [
             190.9026876
            ],
            "passed_time": 0.1922094558,
            "remaining_time": 0.470581771,
            "test": [
             157.7149777
            ]
           },
           {
            "iteration": 87,
            "learn": [
             190.8125599
            ],
            "passed_time": 0.1944334425,
            "remaining_time": 0.4684078389,
            "test": [
             157.625204
            ]
           },
           {
            "iteration": 88,
            "learn": [
             190.7095383
            ],
            "passed_time": 0.1963296769,
            "remaining_time": 0.4654557508,
            "test": [
             157.5223867
            ]
           },
           {
            "iteration": 89,
            "learn": [
             190.6124645
            ],
            "passed_time": 0.1983417913,
            "remaining_time": 0.462797513,
            "test": [
             157.3945064
            ]
           },
           {
            "iteration": 90,
            "learn": [
             190.5205111
            ],
            "passed_time": 0.200299626,
            "remaining_time": 0.4600288114,
            "test": [
             157.306399
            ]
           },
           {
            "iteration": 91,
            "learn": [
             190.4103745
            ],
            "passed_time": 0.2022649433,
            "remaining_time": 0.4572946545,
            "test": [
             157.1882205
            ]
           },
           {
            "iteration": 92,
            "learn": [
             190.3388433
            ],
            "passed_time": 0.2042197518,
            "remaining_time": 0.454553641,
            "test": [
             157.1298256
            ]
           },
           {
            "iteration": 93,
            "learn": [
             190.2383784
            ],
            "passed_time": 0.2061803628,
            "remaining_time": 0.4518420717,
            "test": [
             157.002549
            ]
           },
           {
            "iteration": 94,
            "learn": [
             190.1384137
            ],
            "passed_time": 0.2081696959,
            "remaining_time": 0.4492082912,
            "test": [
             156.8916486
            ]
           },
           {
            "iteration": 95,
            "learn": [
             190.0709188
            ],
            "passed_time": 0.2099750187,
            "remaining_time": 0.4461969148,
            "test": [
             156.8262788
            ]
           },
           {
            "iteration": 96,
            "learn": [
             189.9980864
            ],
            "passed_time": 0.2119020678,
            "remaining_time": 0.4434651522,
            "test": [
             156.7801792
            ]
           },
           {
            "iteration": 97,
            "learn": [
             189.9327813
            ],
            "passed_time": 0.2139548495,
            "remaining_time": 0.4410089754,
            "test": [
             156.7067195
            ]
           },
           {
            "iteration": 98,
            "learn": [
             189.8547698
            ],
            "passed_time": 0.2158879829,
            "remaining_time": 0.438318026,
            "test": [
             156.6761668
            ]
           },
           {
            "iteration": 99,
            "learn": [
             189.7672562
            ],
            "passed_time": 0.2179172351,
            "remaining_time": 0.4358344703,
            "test": [
             156.6257088
            ]
           },
           {
            "iteration": 100,
            "learn": [
             189.6904252
            ],
            "passed_time": 0.2199177607,
            "remaining_time": 0.4333033107,
            "test": [
             156.5314251
            ]
           },
           {
            "iteration": 101,
            "learn": [
             189.6215561
            ],
            "passed_time": 0.2218998867,
            "remaining_time": 0.4307468389,
            "test": [
             156.4903188
            ]
           },
           {
            "iteration": 102,
            "learn": [
             189.5749525
            ],
            "passed_time": 0.2245660678,
            "remaining_time": 0.4295098578,
            "test": [
             156.4373361
            ]
           },
           {
            "iteration": 103,
            "learn": [
             189.4901554
            ],
            "passed_time": 0.2265711623,
            "remaining_time": 0.4269994983,
            "test": [
             156.3896902
            ]
           },
           {
            "iteration": 104,
            "learn": [
             189.4181923
            ],
            "passed_time": 0.2285496266,
            "remaining_time": 0.4244493066,
            "test": [
             156.3293936
            ]
           },
           {
            "iteration": 105,
            "learn": [
             189.3842089
            ],
            "passed_time": 0.2304894772,
            "remaining_time": 0.4218392319,
            "test": [
             156.284891
            ]
           },
           {
            "iteration": 106,
            "learn": [
             189.3207957
            ],
            "passed_time": 0.2324878883,
            "remaining_time": 0.4193473125,
            "test": [
             156.2422499
            ]
           },
           {
            "iteration": 107,
            "learn": [
             189.2619406
            ],
            "passed_time": 0.2344699188,
            "remaining_time": 0.4168354113,
            "test": [
             156.1996675
            ]
           },
           {
            "iteration": 108,
            "learn": [
             189.1823452
            ],
            "passed_time": 0.2364398169,
            "remaining_time": 0.4143119728,
            "test": [
             156.1782188
            ]
           },
           {
            "iteration": 109,
            "learn": [
             189.1318146
            ],
            "passed_time": 0.2382602394,
            "remaining_time": 0.4115404135,
            "test": [
             156.1204564
            ]
           },
           {
            "iteration": 110,
            "learn": [
             189.0757859
            ],
            "passed_time": 0.2401874367,
            "remaining_time": 0.4089677976,
            "test": [
             156.0786958
            ]
           },
           {
            "iteration": 111,
            "learn": [
             189.0431227
            ],
            "passed_time": 0.2423387669,
            "remaining_time": 0.4067829302,
            "test": [
             156.0389724
            ]
           },
           {
            "iteration": 112,
            "learn": [
             189.0302136
            ],
            "passed_time": 0.2432227292,
            "remaining_time": 0.4025013307,
            "test": [
             156.0321327
            ]
           },
           {
            "iteration": 113,
            "learn": [
             189.0026749
            ],
            "passed_time": 0.2457195906,
            "remaining_time": 0.400910911,
            "test": [
             156.0137647
            ]
           },
           {
            "iteration": 114,
            "learn": [
             188.9720009
            ],
            "passed_time": 0.2480256637,
            "remaining_time": 0.3989978067,
            "test": [
             155.9915212
            ]
           },
           {
            "iteration": 115,
            "learn": [
             188.9364328
            ],
            "passed_time": 0.2500482596,
            "remaining_time": 0.3966282739,
            "test": [
             155.965566
            ]
           },
           {
            "iteration": 116,
            "learn": [
             188.8999012
            ],
            "passed_time": 0.2521941827,
            "remaining_time": 0.3944575679,
            "test": [
             155.9002214
            ]
           },
           {
            "iteration": 117,
            "learn": [
             188.8748706
            ],
            "passed_time": 0.2545852011,
            "remaining_time": 0.3926653102,
            "test": [
             155.89724
            ]
           },
           {
            "iteration": 118,
            "learn": [
             188.8396322
            ],
            "passed_time": 0.2567356296,
            "remaining_time": 0.39049705,
            "test": [
             155.8542255
            ]
           },
           {
            "iteration": 119,
            "learn": [
             188.803815
            ],
            "passed_time": 0.2587088331,
            "remaining_time": 0.3880632496,
            "test": [
             155.8426383
            ]
           },
           {
            "iteration": 120,
            "learn": [
             188.768513
            ],
            "passed_time": 0.2606877473,
            "remaining_time": 0.3856455105,
            "test": [
             155.8212154
            ]
           },
           {
            "iteration": 121,
            "learn": [
             188.7198026
            ],
            "passed_time": 0.2626102701,
            "remaining_time": 0.3831526892,
            "test": [
             155.8089804
            ]
           },
           {
            "iteration": 122,
            "learn": [
             188.6834705
            ],
            "passed_time": 0.2645710803,
            "remaining_time": 0.3807242375,
            "test": [
             155.7691691
            ]
           },
           {
            "iteration": 123,
            "learn": [
             188.6530705
            ],
            "passed_time": 0.2665698631,
            "remaining_time": 0.3783572251,
            "test": [
             155.752491
            ]
           },
           {
            "iteration": 124,
            "learn": [
             188.62041
            ],
            "passed_time": 0.2685625553,
            "remaining_time": 0.3759875774,
            "test": [
             155.7553843
            ]
           },
           {
            "iteration": 125,
            "learn": [
             188.5861974
            ],
            "passed_time": 0.2705912929,
            "remaining_time": 0.3736736902,
            "test": [
             155.713062
            ]
           },
           {
            "iteration": 126,
            "learn": [
             188.5649742
            ],
            "passed_time": 0.2725862468,
            "remaining_time": 0.3713182732,
            "test": [
             155.6972199
            ]
           },
           {
            "iteration": 127,
            "learn": [
             188.526058
            ],
            "passed_time": 0.274486252,
            "remaining_time": 0.3688409011,
            "test": [
             155.668917
            ]
           },
           {
            "iteration": 128,
            "learn": [
             188.5097255
            ],
            "passed_time": 0.2764365687,
            "remaining_time": 0.3664391725,
            "test": [
             155.660219
            ]
           },
           {
            "iteration": 129,
            "learn": [
             188.4809951
            ],
            "passed_time": 0.278606724,
            "remaining_time": 0.3643318698,
            "test": [
             155.6153268
            ]
           },
           {
            "iteration": 130,
            "learn": [
             188.4461481
            ],
            "passed_time": 0.2804155476,
            "remaining_time": 0.3617574622,
            "test": [
             155.5467834
            ]
           },
           {
            "iteration": 131,
            "learn": [
             188.3819477
            ],
            "passed_time": 0.2829188452,
            "remaining_time": 0.3600785303,
            "test": [
             155.5475432
            ]
           },
           {
            "iteration": 132,
            "learn": [
             188.3707148
            ],
            "passed_time": 0.2848927487,
            "remaining_time": 0.3577224739,
            "test": [
             155.5498891
            ]
           },
           {
            "iteration": 133,
            "learn": [
             188.3542355
            ],
            "passed_time": 0.2886259987,
            "remaining_time": 0.3575516104,
            "test": [
             155.5482659
            ]
           },
           {
            "iteration": 134,
            "learn": [
             188.3316695
            ],
            "passed_time": 0.2919292078,
            "remaining_time": 0.3568023651,
            "test": [
             155.5448414
            ]
           },
           {
            "iteration": 135,
            "learn": [
             188.2964659
            ],
            "passed_time": 0.2951987941,
            "remaining_time": 0.3559750164,
            "test": [
             155.508549
            ]
           },
           {
            "iteration": 136,
            "learn": [
             188.2578158
            ],
            "passed_time": 0.2987058966,
            "remaining_time": 0.3553946069,
            "test": [
             155.4863814
            ]
           },
           {
            "iteration": 137,
            "learn": [
             188.2379066
            ],
            "passed_time": 0.3020113675,
            "remaining_time": 0.3545350836,
            "test": [
             155.4857772
            ]
           },
           {
            "iteration": 138,
            "learn": [
             188.2233508
            ],
            "passed_time": 0.3047480133,
            "remaining_time": 0.3529815118,
            "test": [
             155.4648619
            ]
           },
           {
            "iteration": 139,
            "learn": [
             188.2083599
            ],
            "passed_time": 0.3070048493,
            "remaining_time": 0.3508626849,
            "test": [
             155.4681969
            ]
           },
           {
            "iteration": 140,
            "learn": [
             188.1668379
            ],
            "passed_time": 0.3089588796,
            "remaining_time": 0.3484004387,
            "test": [
             155.4708264
            ]
           },
           {
            "iteration": 141,
            "learn": [
             188.1396206
            ],
            "passed_time": 0.3109066146,
            "remaining_time": 0.3459383458,
            "test": [
             155.4681593
            ]
           },
           {
            "iteration": 142,
            "learn": [
             188.1279756
            ],
            "passed_time": 0.3128128178,
            "remaining_time": 0.3434378489,
            "test": [
             155.4491822
            ]
           },
           {
            "iteration": 143,
            "learn": [
             188.0758082
            ],
            "passed_time": 0.315066103,
            "remaining_time": 0.3413216115,
            "test": [
             155.4602127
            ]
           },
           {
            "iteration": 144,
            "learn": [
             188.0616333
            ],
            "passed_time": 0.3170559924,
            "remaining_time": 0.3389219229,
            "test": [
             155.4495494
            ]
           },
           {
            "iteration": 145,
            "learn": [
             188.0279046
            ],
            "passed_time": 0.3194872344,
            "remaining_time": 0.3369933842,
            "test": [
             155.4433076
            ]
           },
           {
            "iteration": 146,
            "learn": [
             188.0028639
            ],
            "passed_time": 0.3214208233,
            "remaining_time": 0.3345400406,
            "test": [
             155.401292
            ]
           },
           {
            "iteration": 147,
            "learn": [
             187.9788036
            ],
            "passed_time": 0.3234370813,
            "remaining_time": 0.332178624,
            "test": [
             155.3946277
            ]
           },
           {
            "iteration": 148,
            "learn": [
             187.9601572
            ],
            "passed_time": 0.3254245153,
            "remaining_time": 0.3297926296,
            "test": [
             155.3741019
            ]
           },
           {
            "iteration": 149,
            "learn": [
             187.9399449
            ],
            "passed_time": 0.3274294981,
            "remaining_time": 0.3274294981,
            "test": [
             155.3508224
            ]
           },
           {
            "iteration": 150,
            "learn": [
             187.9023332
            ],
            "passed_time": 0.3296440369,
            "remaining_time": 0.3252778907,
            "test": [
             155.3460883
            ]
           },
           {
            "iteration": 151,
            "learn": [
             187.8682313
            ],
            "passed_time": 0.3315871629,
            "remaining_time": 0.3228611849,
            "test": [
             155.3309915
            ]
           },
           {
            "iteration": 152,
            "learn": [
             187.8501375
            ],
            "passed_time": 0.3341720331,
            "remaining_time": 0.3210672475,
            "test": [
             155.2966221
            ]
           },
           {
            "iteration": 153,
            "learn": [
             187.8437383
            ],
            "passed_time": 0.3373096551,
            "remaining_time": 0.3197870756,
            "test": [
             155.2845747
            ]
           },
           {
            "iteration": 154,
            "learn": [
             187.8154734
            ],
            "passed_time": 0.340184225,
            "remaining_time": 0.3182368557,
            "test": [
             155.2454559
            ]
           },
           {
            "iteration": 155,
            "learn": [
             187.8006096
            ],
            "passed_time": 0.3440533329,
            "remaining_time": 0.3175876919,
            "test": [
             155.2534854
            ]
           },
           {
            "iteration": 156,
            "learn": [
             187.778075
            ],
            "passed_time": 0.3462259181,
            "remaining_time": 0.3153522694,
            "test": [
             155.2490564
            ]
           },
           {
            "iteration": 157,
            "learn": [
             187.7575801
            ],
            "passed_time": 0.3487401482,
            "remaining_time": 0.3134246901,
            "test": [
             155.2607824
            ]
           },
           {
            "iteration": 158,
            "learn": [
             187.7342995
            ],
            "passed_time": 0.3507455073,
            "remaining_time": 0.3110384687,
            "test": [
             155.2606688
            ]
           },
           {
            "iteration": 159,
            "learn": [
             187.722272
            ],
            "passed_time": 0.352753719,
            "remaining_time": 0.3086595041,
            "test": [
             155.2314516
            ]
           },
           {
            "iteration": 160,
            "learn": [
             187.6861216
            ],
            "passed_time": 0.3549572708,
            "remaining_time": 0.3064537928,
            "test": [
             155.2267731
            ]
           },
           {
            "iteration": 161,
            "learn": [
             187.6709114
            ],
            "passed_time": 0.3568682912,
            "remaining_time": 0.3039989147,
            "test": [
             155.1959278
            ]
           },
           {
            "iteration": 162,
            "learn": [
             187.6540963
            ],
            "passed_time": 0.3587736199,
            "remaining_time": 0.3015459259,
            "test": [
             155.1939467
            ]
           },
           {
            "iteration": 163,
            "learn": [
             187.6395913
            ],
            "passed_time": 0.3605284202,
            "remaining_time": 0.2989747875,
            "test": [
             155.1783505
            ]
           },
           {
            "iteration": 164,
            "learn": [
             187.6338404
            ],
            "passed_time": 0.3619187935,
            "remaining_time": 0.2961153765,
            "test": [
             155.1640259
            ]
           },
           {
            "iteration": 165,
            "learn": [
             187.6241334
            ],
            "passed_time": 0.3639771259,
            "remaining_time": 0.2938128607,
            "test": [
             155.1538137
            ]
           },
           {
            "iteration": 166,
            "learn": [
             187.6135717
            ],
            "passed_time": 0.3659652218,
            "remaining_time": 0.2914573323,
            "test": [
             155.1514873
            ]
           },
           {
            "iteration": 167,
            "learn": [
             187.602879
            ],
            "passed_time": 0.3680097491,
            "remaining_time": 0.2891505171,
            "test": [
             155.1425504
            ]
           },
           {
            "iteration": 168,
            "learn": [
             187.5971213
            ],
            "passed_time": 0.3700264588,
            "remaining_time": 0.2868252432,
            "test": [
             155.1446231
            ]
           },
           {
            "iteration": 169,
            "learn": [
             187.58384
            ],
            "passed_time": 0.3720335324,
            "remaining_time": 0.2844962307,
            "test": [
             155.147155
            ]
           },
           {
            "iteration": 170,
            "learn": [
             187.5647431
            ],
            "passed_time": 0.3747309519,
            "remaining_time": 0.2826917707,
            "test": [
             155.1505745
            ]
           },
           {
            "iteration": 171,
            "learn": [
             187.5442353
            ],
            "passed_time": 0.3766726943,
            "remaining_time": 0.2803145632,
            "test": [
             155.1359052
            ]
           },
           {
            "iteration": 172,
            "learn": [
             187.5294237
            ],
            "passed_time": 0.3788963747,
            "remaining_time": 0.2781493618,
            "test": [
             155.1031858
            ]
           },
           {
            "iteration": 173,
            "learn": [
             187.5232841
            ],
            "passed_time": 0.3808841096,
            "remaining_time": 0.2758126311,
            "test": [
             155.0957082
            ]
           },
           {
            "iteration": 174,
            "learn": [
             187.5073545
            ],
            "passed_time": 0.3828330446,
            "remaining_time": 0.2734521747,
            "test": [
             155.0793886
            ]
           },
           {
            "iteration": 175,
            "learn": [
             187.4771113
            ],
            "passed_time": 0.3850401726,
            "remaining_time": 0.2712783035,
            "test": [
             155.0689366
            ]
           },
           {
            "iteration": 176,
            "learn": [
             187.457511
            ],
            "passed_time": 0.3870648458,
            "remaining_time": 0.2689772658,
            "test": [
             155.0364305
            ]
           },
           {
            "iteration": 177,
            "learn": [
             187.4543462
            ],
            "passed_time": 0.3889839906,
            "remaining_time": 0.2666070048,
            "test": [
             155.0382787
            ]
           },
           {
            "iteration": 178,
            "learn": [
             187.4246746
            ],
            "passed_time": 0.3910083274,
            "remaining_time": 0.2643128917,
            "test": [
             155.0682509
            ]
           },
           {
            "iteration": 179,
            "learn": [
             187.41902
            ],
            "passed_time": 0.3930189518,
            "remaining_time": 0.2620126346,
            "test": [
             155.066071
            ]
           },
           {
            "iteration": 180,
            "learn": [
             187.4117003
            ],
            "passed_time": 0.394984181,
            "remaining_time": 0.2596857322,
            "test": [
             155.0672281
            ]
           },
           {
            "iteration": 181,
            "learn": [
             187.3874119
            ],
            "passed_time": 0.3971120163,
            "remaining_time": 0.2574682304,
            "test": [
             155.0687852
            ]
           },
           {
            "iteration": 182,
            "learn": [
             187.3706913
            ],
            "passed_time": 0.3990854516,
            "remaining_time": 0.2551529936,
            "test": [
             155.0383757
            ]
           },
           {
            "iteration": 183,
            "learn": [
             187.3630073
            ],
            "passed_time": 0.400904805,
            "remaining_time": 0.2527443336,
            "test": [
             155.0347539
            ]
           },
           {
            "iteration": 184,
            "learn": [
             187.3451211
            ],
            "passed_time": 0.4028832802,
            "remaining_time": 0.2504409579,
            "test": [
             155.04982
            ]
           },
           {
            "iteration": 185,
            "learn": [
             187.3389697
            ],
            "passed_time": 0.4048251598,
            "remaining_time": 0.2481186463,
            "test": [
             155.0322372
            ]
           },
           {
            "iteration": 186,
            "learn": [
             187.3256831
            ],
            "passed_time": 0.4067541643,
            "remaining_time": 0.2457926234,
            "test": [
             155.0394644
            ]
           },
           {
            "iteration": 187,
            "learn": [
             187.313648
            ],
            "passed_time": 0.4087137517,
            "remaining_time": 0.2434890436,
            "test": [
             155.0334325
            ]
           },
           {
            "iteration": 188,
            "learn": [
             187.3079337
            ],
            "passed_time": 0.4106912679,
            "remaining_time": 0.2411996335,
            "test": [
             155.0322641
            ]
           },
           {
            "iteration": 189,
            "learn": [
             187.2965497
            ],
            "passed_time": 0.4126414828,
            "remaining_time": 0.2388977006,
            "test": [
             155.0403189
            ]
           },
           {
            "iteration": 190,
            "learn": [
             187.2781278
            ],
            "passed_time": 0.4145469151,
            "remaining_time": 0.2365738939,
            "test": [
             155.0226596
            ]
           },
           {
            "iteration": 191,
            "learn": [
             187.2550083
            ],
            "passed_time": 0.4164614526,
            "remaining_time": 0.2342595671,
            "test": [
             155.022607
            ]
           },
           {
            "iteration": 192,
            "learn": [
             187.2517063
            ],
            "passed_time": 0.4184801578,
            "remaining_time": 0.2320071341,
            "test": [
             155.0245017
            ]
           },
           {
            "iteration": 193,
            "learn": [
             187.2251521
            ],
            "passed_time": 0.4204194393,
            "remaining_time": 0.2297137143,
            "test": [
             155.0263096
            ]
           },
           {
            "iteration": 194,
            "learn": [
             187.2235026
            ],
            "passed_time": 0.4223472466,
            "remaining_time": 0.2274177482,
            "test": [
             155.0272232
            ]
           },
           {
            "iteration": 195,
            "learn": [
             187.2117413
            ],
            "passed_time": 0.4245026158,
            "remaining_time": 0.225246286,
            "test": [
             155.0298594
            ]
           },
           {
            "iteration": 196,
            "learn": [
             187.1996593
            ],
            "passed_time": 0.4265155957,
            "remaining_time": 0.2230005399,
            "test": [
             155.0256424
            ]
           },
           {
            "iteration": 197,
            "learn": [
             187.1912418
            ],
            "passed_time": 0.4285438624,
            "remaining_time": 0.22076502,
            "test": [
             155.0304592
            ]
           },
           {
            "iteration": 198,
            "learn": [
             187.1639267
            ],
            "passed_time": 0.4305363036,
            "remaining_time": 0.2185134003,
            "test": [
             154.9902833
            ]
           },
           {
            "iteration": 199,
            "learn": [
             187.1509073
            ],
            "passed_time": 0.4324992019,
            "remaining_time": 0.216249601,
            "test": [
             154.9819231
            ]
           },
           {
            "iteration": 200,
            "learn": [
             187.1314993
            ],
            "passed_time": 0.4344302554,
            "remaining_time": 0.2139731109,
            "test": [
             154.9725829
            ]
           },
           {
            "iteration": 201,
            "learn": [
             187.1182039
            ],
            "passed_time": 0.4364340437,
            "remaining_time": 0.2117353281,
            "test": [
             154.9601679
            ]
           },
           {
            "iteration": 202,
            "learn": [
             187.1176351
            ],
            "passed_time": 0.4384168815,
            "remaining_time": 0.2094898399,
            "test": [
             154.9596894
            ]
           },
           {
            "iteration": 203,
            "learn": [
             187.1144799
            ],
            "passed_time": 0.4405159157,
            "remaining_time": 0.2073016074,
            "test": [
             154.9590433
            ]
           },
           {
            "iteration": 204,
            "learn": [
             186.9751011
            ],
            "passed_time": 0.4427859286,
            "remaining_time": 0.2051934791,
            "test": [
             154.9664253
            ]
           },
           {
            "iteration": 205,
            "learn": [
             186.968199
            ],
            "passed_time": 0.4447649147,
            "remaining_time": 0.2029509805,
            "test": [
             154.9600788
            ]
           },
           {
            "iteration": 206,
            "learn": [
             186.9488096
            ],
            "passed_time": 0.446568763,
            "remaining_time": 0.2006323428,
            "test": [
             154.9511308
            ]
           },
           {
            "iteration": 207,
            "learn": [
             186.9461083
            ],
            "passed_time": 0.4485166425,
            "remaining_time": 0.1983823611,
            "test": [
             154.9459114
            ]
           },
           {
            "iteration": 208,
            "learn": [
             186.9048766
            ],
            "passed_time": 0.4505213298,
            "remaining_time": 0.1961600049,
            "test": [
             154.9559264
            ]
           },
           {
            "iteration": 209,
            "learn": [
             186.8991947
            ],
            "passed_time": 0.4524684566,
            "remaining_time": 0.1939150528,
            "test": [
             154.9554143
            ]
           },
           {
            "iteration": 210,
            "learn": [
             186.8390693
            ],
            "passed_time": 0.4552043361,
            "remaining_time": 0.1920056204,
            "test": [
             154.9581199
            ]
           },
           {
            "iteration": 211,
            "learn": [
             186.8338365
            ],
            "passed_time": 0.4571160137,
            "remaining_time": 0.1897462699,
            "test": [
             154.9570717
            ]
           },
           {
            "iteration": 212,
            "learn": [
             186.8199071
            ],
            "passed_time": 0.4590390411,
            "remaining_time": 0.1874948196,
            "test": [
             154.9448887
            ]
           },
           {
            "iteration": 213,
            "learn": [
             186.8123141
            ],
            "passed_time": 0.4610367567,
            "remaining_time": 0.1852764536,
            "test": [
             154.934527
            ]
           },
           {
            "iteration": 214,
            "learn": [
             186.8018231
            ],
            "passed_time": 0.4639305644,
            "remaining_time": 0.1834144092,
            "test": [
             154.9310559
            ]
           },
           {
            "iteration": 215,
            "learn": [
             186.7948107
            ],
            "passed_time": 0.4659152667,
            "remaining_time": 0.1811892704,
            "test": [
             154.9259205
            ]
           },
           {
            "iteration": 216,
            "learn": [
             186.7925621
            ],
            "passed_time": 0.4678034103,
            "remaining_time": 0.178929415,
            "test": [
             154.9304125
            ]
           },
           {
            "iteration": 217,
            "learn": [
             186.7721979
            ],
            "passed_time": 0.4697899317,
            "remaining_time": 0.1767099743,
            "test": [
             154.8898556
            ]
           },
           {
            "iteration": 218,
            "learn": [
             186.7628044
            ],
            "passed_time": 0.4760492261,
            "remaining_time": 0.1760730014,
            "test": [
             154.8951965
            ]
           },
           {
            "iteration": 219,
            "learn": [
             186.7509636
            ],
            "passed_time": 0.4781535247,
            "remaining_time": 0.173874009,
            "test": [
             154.8832375
            ]
           },
           {
            "iteration": 220,
            "learn": [
             186.7488529
            ],
            "passed_time": 0.4801407833,
            "remaining_time": 0.1716340357,
            "test": [
             154.88909
            ]
           },
           {
            "iteration": 221,
            "learn": [
             186.7310908
            ],
            "passed_time": 0.4821605657,
            "remaining_time": 0.1694077663,
            "test": [
             154.8896119
            ]
           },
           {
            "iteration": 222,
            "learn": [
             186.7292236
            ],
            "passed_time": 0.484119145,
            "remaining_time": 0.167162216,
            "test": [
             154.890031
            ]
           },
           {
            "iteration": 223,
            "learn": [
             186.6970362
            ],
            "passed_time": 0.4861242722,
            "remaining_time": 0.1649350209,
            "test": [
             154.8003099
            ]
           },
           {
            "iteration": 224,
            "learn": [
             186.689476
            ],
            "passed_time": 0.4881211761,
            "remaining_time": 0.1627070587,
            "test": [
             154.8007057
            ]
           },
           {
            "iteration": 225,
            "learn": [
             186.6771078
            ],
            "passed_time": 0.4900766409,
            "remaining_time": 0.1604675727,
            "test": [
             154.7999451
            ]
           },
           {
            "iteration": 226,
            "learn": [
             186.6712169
            ],
            "passed_time": 0.4920360892,
            "remaining_time": 0.1582318701,
            "test": [
             154.7951666
            ]
           },
           {
            "iteration": 227,
            "learn": [
             186.6637112
            ],
            "passed_time": 0.4939870405,
            "remaining_time": 0.1559959075,
            "test": [
             154.7969611
            ]
           },
           {
            "iteration": 228,
            "learn": [
             186.6567802
            ],
            "passed_time": 0.4974872787,
            "remaining_time": 0.1542427807,
            "test": [
             154.7942167
            ]
           },
           {
            "iteration": 229,
            "learn": [
             186.6491828
            ],
            "passed_time": 0.4994278511,
            "remaining_time": 0.1519997808,
            "test": [
             154.783065
            ]
           },
           {
            "iteration": 230,
            "learn": [
             186.6439656
            ],
            "passed_time": 0.5013547147,
            "remaining_time": 0.1497553044,
            "test": [
             154.7858603
            ]
           },
           {
            "iteration": 231,
            "learn": [
             186.6348168
            ],
            "passed_time": 0.5033925649,
            "remaining_time": 0.1475460966,
            "test": [
             154.7790178
            ]
           },
           {
            "iteration": 232,
            "learn": [
             186.6333442
            ],
            "passed_time": 0.5052958736,
            "remaining_time": 0.1452996718,
            "test": [
             154.7765822
            ]
           },
           {
            "iteration": 233,
            "learn": [
             186.6296829
            ],
            "passed_time": 0.5072057022,
            "remaining_time": 0.1430580186,
            "test": [
             154.7655969
            ]
           },
           {
            "iteration": 234,
            "learn": [
             186.6237717
            ],
            "passed_time": 0.5090082778,
            "remaining_time": 0.1407895236,
            "test": [
             154.753558
            ]
           },
           {
            "iteration": 235,
            "learn": [
             186.6169067
            ],
            "passed_time": 0.5109206154,
            "remaining_time": 0.1385547432,
            "test": [
             154.7568716
            ]
           },
           {
            "iteration": 236,
            "learn": [
             186.5750806
            ],
            "passed_time": 0.5128816101,
            "remaining_time": 0.1363356179,
            "test": [
             154.7650163
            ]
           },
           {
            "iteration": 237,
            "learn": [
             186.5680168
            ],
            "passed_time": 0.5146917928,
            "remaining_time": 0.1340793746,
            "test": [
             154.749421
            ]
           },
           {
            "iteration": 238,
            "learn": [
             186.5584612
            ],
            "passed_time": 0.5166294543,
            "remaining_time": 0.1318594005,
            "test": [
             154.7504923
            ]
           },
           {
            "iteration": 239,
            "learn": [
             186.4685069
            ],
            "passed_time": 0.5185879827,
            "remaining_time": 0.1296469957,
            "test": [
             154.7577917
            ]
           },
           {
            "iteration": 240,
            "learn": [
             186.4602821
            ],
            "passed_time": 0.5204962422,
            "remaining_time": 0.1274243912,
            "test": [
             154.7478257
            ]
           },
           {
            "iteration": 241,
            "learn": [
             186.4410668
            ],
            "passed_time": 0.5224722593,
            "remaining_time": 0.1252206241,
            "test": [
             154.7247984
            ]
           },
           {
            "iteration": 242,
            "learn": [
             186.4274552
            ],
            "passed_time": 0.5244323212,
            "remaining_time": 0.1230149889,
            "test": [
             154.7284746
            ]
           },
           {
            "iteration": 243,
            "learn": [
             186.4273764
            ],
            "passed_time": 0.5258288353,
            "remaining_time": 0.1206820278,
            "test": [
             154.7286129
            ]
           },
           {
            "iteration": 244,
            "learn": [
             186.4059308
            ],
            "passed_time": 0.527794858,
            "remaining_time": 0.11848456,
            "test": [
             154.7193887
            ]
           },
           {
            "iteration": 245,
            "learn": [
             186.40566
            ],
            "passed_time": 0.5300257283,
            "remaining_time": 0.1163471111,
            "test": [
             154.719951
            ]
           },
           {
            "iteration": 246,
            "learn": [
             186.3979765
            ],
            "passed_time": 0.5319351451,
            "remaining_time": 0.1141399299,
            "test": [
             154.7258201
            ]
           },
           {
            "iteration": 247,
            "learn": [
             186.3905997
            ],
            "passed_time": 0.5338807901,
            "remaining_time": 0.1119427463,
            "test": [
             154.7210154
            ]
           },
           {
            "iteration": 248,
            "learn": [
             186.3833832
            ],
            "passed_time": 0.5357953195,
            "remaining_time": 0.10974121,
            "test": [
             154.7233515
            ]
           },
           {
            "iteration": 249,
            "learn": [
             186.3671704
            ],
            "passed_time": 0.5377527378,
            "remaining_time": 0.1075505476,
            "test": [
             154.7009741
            ]
           },
           {
            "iteration": 250,
            "learn": [
             186.3608298
            ],
            "passed_time": 0.5396907494,
            "remaining_time": 0.1053579551,
            "test": [
             154.6939786
            ]
           },
           {
            "iteration": 251,
            "learn": [
             186.3532836
            ],
            "passed_time": 0.5438163168,
            "remaining_time": 0.1035840603,
            "test": [
             154.696459
            ]
           },
           {
            "iteration": 252,
            "learn": [
             186.348189
            ],
            "passed_time": 0.5465479518,
            "remaining_time": 0.1015326235,
            "test": [
             154.689278
            ]
           },
           {
            "iteration": 253,
            "learn": [
             186.345445
            ],
            "passed_time": 0.5484995812,
            "remaining_time": 0.09933456983,
            "test": [
             154.684297
            ]
           },
           {
            "iteration": 254,
            "learn": [
             186.3323342
            ],
            "passed_time": 0.550745952,
            "remaining_time": 0.09719046212,
            "test": [
             154.6851302
            ]
           },
           {
            "iteration": 255,
            "learn": [
             186.3110879
            ],
            "passed_time": 0.5527351824,
            "remaining_time": 0.09500135948,
            "test": [
             154.6574912
            ]
           },
           {
            "iteration": 256,
            "learn": [
             186.2939212
            ],
            "passed_time": 0.5545744962,
            "remaining_time": 0.09278872894,
            "test": [
             154.647556
            ]
           },
           {
            "iteration": 257,
            "learn": [
             186.292121
            ],
            "passed_time": 0.5565299356,
            "remaining_time": 0.09059789649,
            "test": [
             154.6458538
            ]
           },
           {
            "iteration": 258,
            "learn": [
             186.2365259
            ],
            "passed_time": 0.5590833238,
            "remaining_time": 0.08850353775,
            "test": [
             154.6594241
            ]
           },
           {
            "iteration": 259,
            "learn": [
             186.2143848
            ],
            "passed_time": 0.5612391549,
            "remaining_time": 0.08634448537,
            "test": [
             154.6428251
            ]
           },
           {
            "iteration": 260,
            "learn": [
             186.2128586
            ],
            "passed_time": 0.5631550788,
            "remaining_time": 0.08414960948,
            "test": [
             154.6442297
            ]
           },
           {
            "iteration": 261,
            "learn": [
             186.2079734
            ],
            "passed_time": 0.5654051459,
            "remaining_time": 0.0820053265,
            "test": [
             154.6538963
            ]
           },
           {
            "iteration": 262,
            "learn": [
             186.2050406
            ],
            "passed_time": 0.567383411,
            "remaining_time": 0.07982200079,
            "test": [
             154.6557382
            ]
           },
           {
            "iteration": 263,
            "learn": [
             186.1975467
            ],
            "passed_time": 0.5696384507,
            "remaining_time": 0.07767797056,
            "test": [
             154.667165
            ]
           },
           {
            "iteration": 264,
            "learn": [
             186.1874068
            ],
            "passed_time": 0.5716647584,
            "remaining_time": 0.07550289262,
            "test": [
             154.6642802
            ]
           },
           {
            "iteration": 265,
            "learn": [
             186.1684825
            ],
            "passed_time": 0.5740114669,
            "remaining_time": 0.07336988675,
            "test": [
             154.6554441
            ]
           },
           {
            "iteration": 266,
            "learn": [
             186.1551588
            ],
            "passed_time": 0.5759628936,
            "remaining_time": 0.07118642505,
            "test": [
             154.6578164
            ]
           },
           {
            "iteration": 267,
            "learn": [
             186.1493239
            ],
            "passed_time": 0.5779793961,
            "remaining_time": 0.06901246521,
            "test": [
             154.6559354
            ]
           },
           {
            "iteration": 268,
            "learn": [
             186.1374635
            ],
            "passed_time": 0.5799774935,
            "remaining_time": 0.06683755502,
            "test": [
             154.6613516
            ]
           },
           {
            "iteration": 269,
            "learn": [
             186.1362765
            ],
            "passed_time": 0.5818953774,
            "remaining_time": 0.06465504193,
            "test": [
             154.6612935
            ]
           },
           {
            "iteration": 270,
            "learn": [
             186.129275
            ],
            "passed_time": 0.5839270368,
            "remaining_time": 0.06248665707,
            "test": [
             154.6662155
            ]
           },
           {
            "iteration": 271,
            "learn": [
             186.1224241
            ],
            "passed_time": 0.5860849169,
            "remaining_time": 0.06033227086,
            "test": [
             154.6559272
            ]
           },
           {
            "iteration": 272,
            "learn": [
             186.1208033
            ],
            "passed_time": 0.58830866,
            "remaining_time": 0.05818437297,
            "test": [
             154.6546815
            ]
           },
           {
            "iteration": 273,
            "learn": [
             186.1111866
            ],
            "passed_time": 0.5902756973,
            "remaining_time": 0.05601156252,
            "test": [
             154.6550836
            ]
           },
           {
            "iteration": 274,
            "learn": [
             186.1074394
            ],
            "passed_time": 0.5922113744,
            "remaining_time": 0.05383739767,
            "test": [
             154.6548923
            ]
           },
           {
            "iteration": 275,
            "learn": [
             185.9822505
            ],
            "passed_time": 0.5941570085,
            "remaining_time": 0.05166582682,
            "test": [
             154.6606941
            ]
           },
           {
            "iteration": 276,
            "learn": [
             185.9700314
            ],
            "passed_time": 0.5961404235,
            "remaining_time": 0.04949902434,
            "test": [
             154.653549
            ]
           },
           {
            "iteration": 277,
            "learn": [
             185.968557
            ],
            "passed_time": 0.5980733761,
            "remaining_time": 0.04732954775,
            "test": [
             154.6487876
            ]
           },
           {
            "iteration": 278,
            "learn": [
             185.956919
            ],
            "passed_time": 0.6000084814,
            "remaining_time": 0.04516192871,
            "test": [
             154.6514745
            ]
           },
           {
            "iteration": 279,
            "learn": [
             185.9497281
            ],
            "passed_time": 0.6019548328,
            "remaining_time": 0.04299677377,
            "test": [
             154.656
            ]
           },
           {
            "iteration": 280,
            "learn": [
             185.9360335
            ],
            "passed_time": 0.6038623932,
            "remaining_time": 0.04083055328,
            "test": [
             154.6662302
            ]
           },
           {
            "iteration": 281,
            "learn": [
             185.9195563
            ],
            "passed_time": 0.6058482319,
            "remaining_time": 0.03867116374,
            "test": [
             154.6664694
            ]
           },
           {
            "iteration": 282,
            "learn": [
             185.8882353
            ],
            "passed_time": 0.6078144719,
            "remaining_time": 0.0365118234,
            "test": [
             154.6683587
            ]
           },
           {
            "iteration": 283,
            "learn": [
             185.8284819
            ],
            "passed_time": 0.6097718439,
            "remaining_time": 0.03435334332,
            "test": [
             154.6674433
            ]
           },
           {
            "iteration": 284,
            "learn": [
             185.827019
            ],
            "passed_time": 0.6116981903,
            "remaining_time": 0.03219464159,
            "test": [
             154.6713279
            ]
           },
           {
            "iteration": 285,
            "learn": [
             185.7888325
            ],
            "passed_time": 0.613696375,
            "remaining_time": 0.03004108129,
            "test": [
             154.673007
            ]
           },
           {
            "iteration": 286,
            "learn": [
             185.7812387
            ],
            "passed_time": 0.6156771319,
            "remaining_time": 0.02788781434,
            "test": [
             154.6722765
            ]
           },
           {
            "iteration": 287,
            "learn": [
             185.776253
            ],
            "passed_time": 0.6176442683,
            "remaining_time": 0.02573517784,
            "test": [
             154.6776372
            ]
           },
           {
            "iteration": 288,
            "learn": [
             185.7700178
            ],
            "passed_time": 0.6196291269,
            "remaining_time": 0.02358449964,
            "test": [
             154.6723539
            ]
           },
           {
            "iteration": 289,
            "learn": [
             185.7625951
            ],
            "passed_time": 0.621569053,
            "remaining_time": 0.02143341562,
            "test": [
             154.6746748
            ]
           },
           {
            "iteration": 290,
            "learn": [
             185.6415266
            ],
            "passed_time": 0.6235034619,
            "remaining_time": 0.01928361222,
            "test": [
             154.6802963
            ]
           },
           {
            "iteration": 291,
            "learn": [
             185.5226334
            ],
            "passed_time": 0.625425302,
            "remaining_time": 0.01713493978,
            "test": [
             154.6859699
            ]
           },
           {
            "iteration": 292,
            "learn": [
             185.5225622
            ],
            "passed_time": 0.6273452367,
            "remaining_time": 0.01498777016,
            "test": [
             154.6860467
            ]
           },
           {
            "iteration": 293,
            "learn": [
             185.5010337
            ],
            "passed_time": 0.6299467093,
            "remaining_time": 0.01285605529,
            "test": [
             154.7034562
            ]
           },
           {
            "iteration": 294,
            "learn": [
             185.471088
            ],
            "passed_time": 0.6319544584,
            "remaining_time": 0.01071109251,
            "test": [
             154.7053287
            ]
           },
           {
            "iteration": 295,
            "learn": [
             185.4660193
            ],
            "passed_time": 0.6338520909,
            "remaining_time": 0.008565568795,
            "test": [
             154.7080139
            ]
           },
           {
            "iteration": 296,
            "learn": [
             185.451109
            ],
            "passed_time": 0.6356895211,
            "remaining_time": 0.006421106274,
            "test": [
             154.6774765
            ]
           },
           {
            "iteration": 297,
            "learn": [
             185.4498576
            ],
            "passed_time": 0.6374040133,
            "remaining_time": 0.004277879284,
            "test": [
             154.6802356
            ]
           },
           {
            "iteration": 298,
            "learn": [
             185.4213959
            ],
            "passed_time": 0.6392832226,
            "remaining_time": 0.002138070979,
            "test": [
             154.6996515
            ]
           },
           {
            "iteration": 299,
            "learn": [
             185.4171451
            ],
            "passed_time": 0.6413838558,
            "remaining_time": 0,
            "test": [
             154.7009011
            ]
           }
          ],
          "meta": {
           "iteration_count": 300,
           "launch_mode": "Train",
           "learn_metrics": [
            {
             "best_value": "Min",
             "name": "RMSE"
            }
           ],
           "learn_sets": [
            "learn"
           ],
           "name": "experiment",
           "parameters": "",
           "test_metrics": [
            {
             "best_value": "Min",
             "name": "RMSE"
            }
           ],
           "test_sets": [
            "test"
           ]
          }
         },
         "passed_iterations": 299,
         "total_iterations": 300
        },
        "name": "fold-3",
        "path": "catboost_info/fold-3"
       },
       "catboost_info/fold-4": {
        "content": {
         "data": {
          "iterations": [
           {
            "iteration": 0,
            "learn": [
             328.228323
            ],
            "passed_time": 0.001432997782,
            "remaining_time": 0.4284663369,
            "test": [
             320.7673265
            ]
           },
           {
            "iteration": 1,
            "learn": [
             321.6645219
            ],
            "passed_time": 0.005163116099,
            "remaining_time": 0.7693042987,
            "test": [
             314.2336784
            ]
           },
           {
            "iteration": 2,
            "learn": [
             315.3530499
            ],
            "passed_time": 0.008080274117,
            "remaining_time": 0.7999471376,
            "test": [
             307.9163146
            ]
           },
           {
            "iteration": 3,
            "learn": [
             309.3318986
            ],
            "passed_time": 0.01033253114,
            "remaining_time": 0.7646073045,
            "test": [
             301.8582419
            ]
           },
           {
            "iteration": 4,
            "learn": [
             303.5206859
            ],
            "passed_time": 0.01326646514,
            "remaining_time": 0.7827214431,
            "test": [
             296.0312457
            ]
           },
           {
            "iteration": 5,
            "learn": [
             298.1507285
            ],
            "passed_time": 0.01519655052,
            "remaining_time": 0.7446309754,
            "test": [
             290.687436
            ]
           },
           {
            "iteration": 6,
            "learn": [
             292.8120007
            ],
            "passed_time": 0.01784977737,
            "remaining_time": 0.7471406812,
            "test": [
             285.3899821
            ]
           },
           {
            "iteration": 7,
            "learn": [
             287.7196146
            ],
            "passed_time": 0.02109969951,
            "remaining_time": 0.7701390321,
            "test": [
             280.3088915
            ]
           },
           {
            "iteration": 8,
            "learn": [
             282.81421
            ],
            "passed_time": 0.02375573084,
            "remaining_time": 0.7681019638,
            "test": [
             275.4322207
            ]
           },
           {
            "iteration": 9,
            "learn": [
             278.1236312
            ],
            "passed_time": 0.02801638871,
            "remaining_time": 0.8124752725,
            "test": [
             270.7699395
            ]
           },
           {
            "iteration": 10,
            "learn": [
             273.6338917
            ],
            "passed_time": 0.02995796019,
            "remaining_time": 0.7870773177,
            "test": [
             266.2623223
            ]
           },
           {
            "iteration": 11,
            "learn": [
             269.3274729
            ],
            "passed_time": 0.03261702508,
            "remaining_time": 0.782808602,
            "test": [
             261.9564488
            ]
           },
           {
            "iteration": 12,
            "learn": [
             265.3031551
            ],
            "passed_time": 0.03461384619,
            "remaining_time": 0.7641672198,
            "test": [
             257.955473
            ]
           },
           {
            "iteration": 13,
            "learn": [
             261.3818123
            ],
            "passed_time": 0.03712527541,
            "remaining_time": 0.7584163405,
            "test": [
             254.016
            ]
           },
           {
            "iteration": 14,
            "learn": [
             257.6243023
            ],
            "passed_time": 0.03846196724,
            "remaining_time": 0.7307773775,
            "test": [
             250.2540003
            ]
           },
           {
            "iteration": 15,
            "learn": [
             254.0276651
            ],
            "passed_time": 0.04041390939,
            "remaining_time": 0.7173468916,
            "test": [
             246.6517152
            ]
           },
           {
            "iteration": 16,
            "learn": [
             250.6051259
            ],
            "passed_time": 0.04234734469,
            "remaining_time": 0.7049587381,
            "test": [
             243.2170167
            ]
           },
           {
            "iteration": 17,
            "learn": [
             247.3382174
            ],
            "passed_time": 0.04419089389,
            "remaining_time": 0.6923240043,
            "test": [
             239.9507532
            ]
           },
           {
            "iteration": 18,
            "learn": [
             244.2656468
            ],
            "passed_time": 0.04617508984,
            "remaining_time": 0.6829052761,
            "test": [
             236.8671192
            ]
           },
           {
            "iteration": 19,
            "learn": [
             241.2953773
            ],
            "passed_time": 0.04857005175,
            "remaining_time": 0.6799807245,
            "test": [
             233.8598871
            ]
           },
           {
            "iteration": 20,
            "learn": [
             238.4492258
            ],
            "passed_time": 0.05039608317,
            "remaining_time": 0.6695479622,
            "test": [
             231.0643749
            ]
           },
           {
            "iteration": 21,
            "learn": [
             235.7291097
            ],
            "passed_time": 0.0523378192,
            "remaining_time": 0.6613597153,
            "test": [
             228.3303545
            ]
           },
           {
            "iteration": 22,
            "learn": [
             233.152804
            ],
            "passed_time": 0.05427437443,
            "remaining_time": 0.6536522485,
            "test": [
             225.7513428
            ]
           },
           {
            "iteration": 23,
            "learn": [
             230.7343747
            ],
            "passed_time": 0.05561369347,
            "remaining_time": 0.6395574749,
            "test": [
             223.3568406
            ]
           },
           {
            "iteration": 24,
            "learn": [
             228.4033352
            ],
            "passed_time": 0.05748197482,
            "remaining_time": 0.6323017231,
            "test": [
             221.0528667
            ]
           },
           {
            "iteration": 25,
            "learn": [
             226.1974985
            ],
            "passed_time": 0.05984537837,
            "remaining_time": 0.6306782182,
            "test": [
             218.8566894
            ]
           },
           {
            "iteration": 26,
            "learn": [
             224.0893869
            ],
            "passed_time": 0.06171811962,
            "remaining_time": 0.6240387651,
            "test": [
             216.7309936
            ]
           },
           {
            "iteration": 27,
            "learn": [
             222.2187658
            ],
            "passed_time": 0.06309059608,
            "remaining_time": 0.6128800762,
            "test": [
             214.7932718
            ]
           },
           {
            "iteration": 28,
            "learn": [
             220.3211019
            ],
            "passed_time": 0.06524455719,
            "remaining_time": 0.6096991379,
            "test": [
             212.9158234
            ]
           },
           {
            "iteration": 29,
            "learn": [
             218.531125
            ],
            "passed_time": 0.06794094395,
            "remaining_time": 0.6114684956,
            "test": [
             211.091425
            ]
           },
           {
            "iteration": 30,
            "learn": [
             216.7877392
            ],
            "passed_time": 0.06976872534,
            "remaining_time": 0.6054124876,
            "test": [
             209.3655059
            ]
           },
           {
            "iteration": 31,
            "learn": [
             215.2814006
            ],
            "passed_time": 0.07061903932,
            "remaining_time": 0.5914344543,
            "test": [
             207.8119213
            ]
           },
           {
            "iteration": 32,
            "learn": [
             213.7014125
            ],
            "passed_time": 0.07259926263,
            "remaining_time": 0.587394034,
            "test": [
             206.2725839
            ]
           },
           {
            "iteration": 33,
            "learn": [
             212.2300281
            ],
            "passed_time": 0.07456377085,
            "remaining_time": 0.5833518543,
            "test": [
             204.799991
            ]
           },
           {
            "iteration": 34,
            "learn": [
             210.8478648
            ],
            "passed_time": 0.07655695296,
            "remaining_time": 0.579645501,
            "test": [
             203.392869
            ]
           },
           {
            "iteration": 35,
            "learn": [
             209.5148249
            ],
            "passed_time": 0.07851388045,
            "remaining_time": 0.5757684566,
            "test": [
             202.0499973
            ]
           },
           {
            "iteration": 36,
            "learn": [
             208.2655478
            ],
            "passed_time": 0.08048244585,
            "remaining_time": 0.5720779259,
            "test": [
             200.7953667
            ]
           },
           {
            "iteration": 37,
            "learn": [
             207.1285409
            ],
            "passed_time": 0.08185712771,
            "remaining_time": 0.5643833542,
            "test": [
             199.6379781
            ]
           },
           {
            "iteration": 38,
            "learn": [
             206.0068974
            ],
            "passed_time": 0.08449964662,
            "remaining_time": 0.5654976351,
            "test": [
             198.5170991
            ]
           },
           {
            "iteration": 39,
            "learn": [
             204.9356227
            ],
            "passed_time": 0.08679604444,
            "remaining_time": 0.5641742889,
            "test": [
             197.4578843
            ]
           },
           {
            "iteration": 40,
            "learn": [
             203.9390112
            ],
            "passed_time": 0.08873162424,
            "remaining_time": 0.5605241629,
            "test": [
             196.4684407
            ]
           },
           {
            "iteration": 41,
            "learn": [
             202.9802768
            ],
            "passed_time": 0.09069257255,
            "remaining_time": 0.5571115171,
            "test": [
             195.5366957
            ]
           },
           {
            "iteration": 42,
            "learn": [
             202.0692173
            ],
            "passed_time": 0.09330918751,
            "remaining_time": 0.557685144,
            "test": [
             194.636645
            ]
           },
           {
            "iteration": 43,
            "learn": [
             201.222387
            ],
            "passed_time": 0.09545582516,
            "remaining_time": 0.5553793464,
            "test": [
             193.7877338
            ]
           },
           {
            "iteration": 44,
            "learn": [
             200.4165761
            ],
            "passed_time": 0.09749660162,
            "remaining_time": 0.5524807425,
            "test": [
             192.9959501
            ]
           },
           {
            "iteration": 45,
            "learn": [
             199.6704667
            ],
            "passed_time": 0.09891491429,
            "remaining_time": 0.5461823528,
            "test": [
             192.2607071
            ]
           },
           {
            "iteration": 46,
            "learn": [
             198.9185366
            ],
            "passed_time": 0.1009380657,
            "remaining_time": 0.5433474601,
            "test": [
             191.5211275
            ]
           },
           {
            "iteration": 47,
            "learn": [
             198.1497993
            ],
            "passed_time": 0.1032973021,
            "remaining_time": 0.5423108359,
            "test": [
             190.7629682
            ]
           },
           {
            "iteration": 48,
            "learn": [
             197.4384955
            ],
            "passed_time": 0.1056051451,
            "remaining_time": 0.5409569677,
            "test": [
             190.0947472
            ]
           },
           {
            "iteration": 49,
            "learn": [
             196.830755
            ],
            "passed_time": 0.1077345931,
            "remaining_time": 0.5386729657,
            "test": [
             189.5017946
            ]
           },
           {
            "iteration": 50,
            "learn": [
             196.2640213
            ],
            "passed_time": 0.1091164785,
            "remaining_time": 0.5327451595,
            "test": [
             188.9365286
            ]
           },
           {
            "iteration": 51,
            "learn": [
             195.7231063
            ],
            "passed_time": 0.1118170388,
            "remaining_time": 0.5332812618,
            "test": [
             188.397727
            ]
           },
           {
            "iteration": 52,
            "learn": [
             195.1507768
            ],
            "passed_time": 0.1139841323,
            "remaining_time": 0.5312090694,
            "test": [
             187.8133241
            ]
           },
           {
            "iteration": 53,
            "learn": [
             194.6196439
            ],
            "passed_time": 0.1159689219,
            "remaining_time": 0.5283028663,
            "test": [
             187.2680936
            ]
           },
           {
            "iteration": 54,
            "learn": [
             194.0643522
            ],
            "passed_time": 0.1179243139,
            "remaining_time": 0.5252992166,
            "test": [
             186.7266203
            ]
           },
           {
            "iteration": 55,
            "learn": [
             193.593967
            ],
            "passed_time": 0.1200716816,
            "remaining_time": 0.5231694697,
            "test": [
             186.192228
            ]
           },
           {
            "iteration": 56,
            "learn": [
             193.1471525
            ],
            "passed_time": 0.1221078909,
            "remaining_time": 0.5205652189,
            "test": [
             185.7227371
            ]
           },
           {
            "iteration": 57,
            "learn": [
             192.6860392
            ],
            "passed_time": 0.1241104364,
            "remaining_time": 0.5178400967,
            "test": [
             185.2491906
            ]
           },
           {
            "iteration": 58,
            "learn": [
             192.3576723
            ],
            "passed_time": 0.1249806526,
            "remaining_time": 0.5105141913,
            "test": [
             184.9050462
            ]
           },
           {
            "iteration": 59,
            "learn": [
             191.9847724
            ],
            "passed_time": 0.1269210032,
            "remaining_time": 0.5076840129,
            "test": [
             184.5363266
            ]
           },
           {
            "iteration": 60,
            "learn": [
             191.592457
            ],
            "passed_time": 0.1289169907,
            "remaining_time": 0.5051009965,
            "test": [
             184.1625706
            ]
           },
           {
            "iteration": 61,
            "learn": [
             191.2267885
            ],
            "passed_time": 0.1309138709,
            "remaining_time": 0.5025403433,
            "test": [
             183.7986744
            ]
           },
           {
            "iteration": 62,
            "learn": [
             190.8644733
            ],
            "passed_time": 0.1328624404,
            "remaining_time": 0.4998158473,
            "test": [
             183.4187109
            ]
           },
           {
            "iteration": 63,
            "learn": [
             190.5443623
            ],
            "passed_time": 0.1347554403,
            "remaining_time": 0.4969106861,
            "test": [
             183.0708524
            ]
           },
           {
            "iteration": 64,
            "learn": [
             190.2021254
            ],
            "passed_time": 0.1367607058,
            "remaining_time": 0.4944425516,
            "test": [
             182.7165614
            ]
           },
           {
            "iteration": 65,
            "learn": [
             189.9146778
            ],
            "passed_time": 0.1387302166,
            "remaining_time": 0.4918616771,
            "test": [
             182.4289648
            ]
           },
           {
            "iteration": 66,
            "learn": [
             189.608663
            ],
            "passed_time": 0.1407498299,
            "remaining_time": 0.4894732891,
            "test": [
             182.1051133
            ]
           },
           {
            "iteration": 67,
            "learn": [
             189.3995965
            ],
            "passed_time": 0.1421268281,
            "remaining_time": 0.4849032958,
            "test": [
             181.9043912
            ]
           },
           {
            "iteration": 68,
            "learn": [
             189.1447092
            ],
            "passed_time": 0.1441036806,
            "remaining_time": 0.482434061,
            "test": [
             181.6581754
            ]
           },
           {
            "iteration": 69,
            "learn": [
             188.9730011
            ],
            "passed_time": 0.1454482349,
            "remaining_time": 0.4779013434,
            "test": [
             181.4747422
            ]
           },
           {
            "iteration": 70,
            "learn": [
             188.7983507
            ],
            "passed_time": 0.1468169878,
            "remaining_time": 0.4735364819,
            "test": [
             181.2989088
            ]
           },
           {
            "iteration": 71,
            "learn": [
             188.5938964
            ],
            "passed_time": 0.1486178062,
            "remaining_time": 0.470623053,
            "test": [
             181.0920134
            ]
           },
           {
            "iteration": 72,
            "learn": [
             188.4210991
            ],
            "passed_time": 0.1505609068,
            "remaining_time": 0.4681825456,
            "test": [
             180.9323331
            ]
           },
           {
            "iteration": 73,
            "learn": [
             188.2568661
            ],
            "passed_time": 0.1523893072,
            "remaining_time": 0.4654051815,
            "test": [
             180.7598356
            ]
           },
           {
            "iteration": 74,
            "learn": [
             188.095811
            ],
            "passed_time": 0.1545059801,
            "remaining_time": 0.4635179403,
            "test": [
             180.57616
            ]
           },
           {
            "iteration": 75,
            "learn": [
             187.9036034
            ],
            "passed_time": 0.1566140723,
            "remaining_time": 0.4615993709,
            "test": [
             180.3874006
            ]
           },
           {
            "iteration": 76,
            "learn": [
             187.7481503
            ],
            "passed_time": 0.1580339022,
            "remaining_time": 0.4576825998,
            "test": [
             180.1966556
            ]
           },
           {
            "iteration": 77,
            "learn": [
             187.563192
            ],
            "passed_time": 0.1600827121,
            "remaining_time": 0.4556200267,
            "test": [
             179.9955546
            ]
           },
           {
            "iteration": 78,
            "learn": [
             187.4237097
            ],
            "passed_time": 0.1620710198,
            "remaining_time": 0.453388549,
            "test": [
             179.8598082
            ]
           },
           {
            "iteration": 79,
            "learn": [
             187.2702729
            ],
            "passed_time": 0.1641892708,
            "remaining_time": 0.4515204947,
            "test": [
             179.7117783
            ]
           },
           {
            "iteration": 80,
            "learn": [
             187.1415287
            ],
            "passed_time": 0.1669909242,
            "remaining_time": 0.4514939803,
            "test": [
             179.5518161
            ]
           },
           {
            "iteration": 81,
            "learn": [
             186.9720675
            ],
            "passed_time": 0.1727157991,
            "remaining_time": 0.4591712709,
            "test": [
             179.385031
            ]
           },
           {
            "iteration": 82,
            "learn": [
             186.8358879
            ],
            "passed_time": 0.1747234136,
            "remaining_time": 0.4568069971,
            "test": [
             179.2903641
            ]
           },
           {
            "iteration": 83,
            "learn": [
             186.7275756
            ],
            "passed_time": 0.17673112,
            "remaining_time": 0.4544514513,
            "test": [
             179.1721175
            ]
           },
           {
            "iteration": 84,
            "learn": [
             186.5680165
            ],
            "passed_time": 0.1787567095,
            "remaining_time": 0.452149324,
            "test": [
             179.0066865
            ]
           },
           {
            "iteration": 85,
            "learn": [
             186.4583861
            ],
            "passed_time": 0.1807148633,
            "remaining_time": 0.4496858227,
            "test": [
             178.8922781
            ]
           },
           {
            "iteration": 86,
            "learn": [
             186.3320515
            ],
            "passed_time": 0.1826523513,
            "remaining_time": 0.4471833427,
            "test": [
             178.7457874
            ]
           },
           {
            "iteration": 87,
            "learn": [
             186.2300189
            ],
            "passed_time": 0.1849919281,
            "remaining_time": 0.4456623722,
            "test": [
             178.6431094
            ]
           },
           {
            "iteration": 88,
            "learn": [
             186.1493727
            ],
            "passed_time": 0.1880401358,
            "remaining_time": 0.4458030186,
            "test": [
             178.5412335
            ]
           },
           {
            "iteration": 89,
            "learn": [
             186.0934275
            ],
            "passed_time": 0.1900688589,
            "remaining_time": 0.4434940041,
            "test": [
             178.4744527
            ]
           },
           {
            "iteration": 90,
            "learn": [
             185.9800573
            ],
            "passed_time": 0.1920493104,
            "remaining_time": 0.4410802843,
            "test": [
             178.3792776
            ]
           },
           {
            "iteration": 91,
            "learn": [
             185.8851894
            ],
            "passed_time": 0.1939792821,
            "remaining_time": 0.4385618553,
            "test": [
             178.272641
            ]
           },
           {
            "iteration": 92,
            "learn": [
             185.7977085
            ],
            "passed_time": 0.1959530847,
            "remaining_time": 0.4361536401,
            "test": [
             178.190587
            ]
           },
           {
            "iteration": 93,
            "learn": [
             185.7411338
            ],
            "passed_time": 0.197313756,
            "remaining_time": 0.4324109971,
            "test": [
             178.1239515
            ]
           },
           {
            "iteration": 94,
            "learn": [
             185.6960638
            ],
            "passed_time": 0.1992341407,
            "remaining_time": 0.4299263035,
            "test": [
             178.0803827
            ]
           },
           {
            "iteration": 95,
            "learn": [
             185.6451968
            ],
            "passed_time": 0.2005834922,
            "remaining_time": 0.4262399209,
            "test": [
             178.0264932
            ]
           },
           {
            "iteration": 96,
            "learn": [
             185.564769
            ],
            "passed_time": 0.2026041382,
            "remaining_time": 0.4240065985,
            "test": [
             177.9484164
            ]
           },
           {
            "iteration": 97,
            "learn": [
             185.4989049
            ],
            "passed_time": 0.204842371,
            "remaining_time": 0.4222261117,
            "test": [
             177.9132869
            ]
           },
           {
            "iteration": 98,
            "learn": [
             185.4265121
            ],
            "passed_time": 0.2068260642,
            "remaining_time": 0.419919585,
            "test": [
             177.8361486
            ]
           },
           {
            "iteration": 99,
            "learn": [
             185.3670372
            ],
            "passed_time": 0.2087721284,
            "remaining_time": 0.4175442567,
            "test": [
             177.742879
            ]
           },
           {
            "iteration": 100,
            "learn": [
             185.3226833
            ],
            "passed_time": 0.2107019546,
            "remaining_time": 0.4151454354,
            "test": [
             177.6962658
            ]
           },
           {
            "iteration": 101,
            "learn": [
             185.2555341
            ],
            "passed_time": 0.2126700701,
            "remaining_time": 0.412830136,
            "test": [
             177.612048
            ]
           },
           {
            "iteration": 102,
            "learn": [
             185.2155146
            ],
            "passed_time": 0.2144617132,
            "remaining_time": 0.4101840534,
            "test": [
             177.5650529
            ]
           },
           {
            "iteration": 103,
            "learn": [
             185.1735127
            ],
            "passed_time": 0.2165357952,
            "remaining_time": 0.408086691,
            "test": [
             177.5344294
            ]
           },
           {
            "iteration": 104,
            "learn": [
             185.1107256
            ],
            "passed_time": 0.2580180699,
            "remaining_time": 0.4791764156,
            "test": [
             177.4501261
            ]
           },
           {
            "iteration": 105,
            "learn": [
             185.057109
            ],
            "passed_time": 0.2858895029,
            "remaining_time": 0.5232317317,
            "test": [
             177.3979162
            ]
           },
           {
            "iteration": 106,
            "learn": [
             185.0010461
            ],
            "passed_time": 0.2903408427,
            "remaining_time": 0.5236989032,
            "test": [
             177.3483863
            ]
           },
           {
            "iteration": 107,
            "learn": [
             184.9454424
            ],
            "passed_time": 0.2967406539,
            "remaining_time": 0.5275389402,
            "test": [
             177.3235357
            ]
           },
           {
            "iteration": 108,
            "learn": [
             184.9172356
            ],
            "passed_time": 0.301123148,
            "remaining_time": 0.5276561585,
            "test": [
             177.2953928
            ]
           },
           {
            "iteration": 109,
            "learn": [
             184.8631825
            ],
            "passed_time": 0.3074637687,
            "remaining_time": 0.5310737823,
            "test": [
             177.2642834
            ]
           },
           {
            "iteration": 110,
            "learn": [
             184.8289187
            ],
            "passed_time": 0.3117167413,
            "remaining_time": 0.5307609379,
            "test": [
             177.235253
            ]
           },
           {
            "iteration": 111,
            "learn": [
             184.8027665
            ],
            "passed_time": 0.3212323422,
            "remaining_time": 0.5392114316,
            "test": [
             177.1984478
            ]
           },
           {
            "iteration": 112,
            "learn": [
             184.7539111
            ],
            "passed_time": 0.3246909205,
            "remaining_time": 0.5373203728,
            "test": [
             177.1777563
            ]
           },
           {
            "iteration": 113,
            "learn": [
             184.7242572
            ],
            "passed_time": 0.3274873776,
            "remaining_time": 0.5343215109,
            "test": [
             177.1507789
            ]
           },
           {
            "iteration": 114,
            "learn": [
             184.6841404
            ],
            "passed_time": 0.3327826734,
            "remaining_time": 0.5353460398,
            "test": [
             177.1211144
            ]
           },
           {
            "iteration": 115,
            "learn": [
             184.6420156
            ],
            "passed_time": 0.3371487925,
            "remaining_time": 0.5347877398,
            "test": [
             177.1115728
            ]
           },
           {
            "iteration": 116,
            "learn": [
             184.6169753
            ],
            "passed_time": 0.3422278223,
            "remaining_time": 0.5352794144,
            "test": [
             177.0867894
            ]
           },
           {
            "iteration": 117,
            "learn": [
             184.5920089
            ],
            "passed_time": 0.3442222199,
            "remaining_time": 0.5309190171,
            "test": [
             177.0692356
            ]
           },
           {
            "iteration": 118,
            "learn": [
             184.5611366
            ],
            "passed_time": 0.3463642494,
            "remaining_time": 0.526822934,
            "test": [
             177.0330896
            ]
           },
           {
            "iteration": 119,
            "learn": [
             184.5346256
            ],
            "passed_time": 0.3483403465,
            "remaining_time": 0.5225105197,
            "test": [
             177.0035141
            ]
           },
           {
            "iteration": 120,
            "learn": [
             184.4789051
            ],
            "passed_time": 0.3503696696,
            "remaining_time": 0.5183154616,
            "test": [
             176.9714921
            ]
           },
           {
            "iteration": 121,
            "learn": [
             184.4482779
            ],
            "passed_time": 0.3523169864,
            "remaining_time": 0.5140362588,
            "test": [
             176.9501574
            ]
           },
           {
            "iteration": 122,
            "learn": [
             184.4278622
            ],
            "passed_time": 0.3543087558,
            "remaining_time": 0.5098589413,
            "test": [
             176.9263908
            ]
           },
           {
            "iteration": 123,
            "learn": [
             184.4011956
            ],
            "passed_time": 0.3563268773,
            "remaining_time": 0.5057542775,
            "test": [
             176.9049616
            ]
           },
           {
            "iteration": 124,
            "learn": [
             184.3856217
            ],
            "passed_time": 0.3582789531,
            "remaining_time": 0.5015905343,
            "test": [
             176.8980883
            ]
           },
           {
            "iteration": 125,
            "learn": [
             184.3574725
            ],
            "passed_time": 0.3600661009,
            "remaining_time": 0.4972341393,
            "test": [
             176.8662809
            ]
           },
           {
            "iteration": 126,
            "learn": [
             184.3418485
            ],
            "passed_time": 0.3620129468,
            "remaining_time": 0.4931357464,
            "test": [
             176.8542893
            ]
           },
           {
            "iteration": 127,
            "learn": [
             184.3233623
            ],
            "passed_time": 0.3646475332,
            "remaining_time": 0.4899951227,
            "test": [
             176.8400467
            ]
           },
           {
            "iteration": 128,
            "learn": [
             184.2694289
            ],
            "passed_time": 0.3670581702,
            "remaining_time": 0.4865654814,
            "test": [
             176.77407
            ]
           },
           {
            "iteration": 129,
            "learn": [
             184.2571654
            ],
            "passed_time": 0.368985412,
            "remaining_time": 0.4825193849,
            "test": [
             176.762505
            ]
           },
           {
            "iteration": 130,
            "learn": [
             184.2348893
            ],
            "passed_time": 0.3709353051,
            "remaining_time": 0.4785348592,
            "test": [
             176.7517446
            ]
           },
           {
            "iteration": 131,
            "learn": [
             184.213549
            ],
            "passed_time": 0.3728228842,
            "remaining_time": 0.4745018526,
            "test": [
             176.7264753
            ]
           },
           {
            "iteration": 132,
            "learn": [
             184.1945067
            ],
            "passed_time": 0.3747899514,
            "remaining_time": 0.4706009164,
            "test": [
             176.6975874
            ]
           },
           {
            "iteration": 133,
            "learn": [
             184.185542
            ],
            "passed_time": 0.3766846894,
            "remaining_time": 0.4666392421,
            "test": [
             176.68765
            ]
           },
           {
            "iteration": 134,
            "learn": [
             184.1655498
            ],
            "passed_time": 0.3785846119,
            "remaining_time": 0.4627145256,
            "test": [
             176.6560468
            ]
           },
           {
            "iteration": 135,
            "learn": [
             184.1300546
            ],
            "passed_time": 0.380529386,
            "remaining_time": 0.4588736714,
            "test": [
             176.6415212
            ]
           },
           {
            "iteration": 136,
            "learn": [
             184.1183679
            ],
            "passed_time": 0.3824730593,
            "remaining_time": 0.4550591873,
            "test": [
             176.631554
            ]
           },
           {
            "iteration": 137,
            "learn": [
             184.0855752
            ],
            "passed_time": 0.3844216597,
            "remaining_time": 0.4512776005,
            "test": [
             176.5939201
            ]
           },
           {
            "iteration": 138,
            "learn": [
             184.0671678
            ],
            "passed_time": 0.3863933086,
            "remaining_time": 0.4475490841,
            "test": [
             176.5766531
            ]
           },
           {
            "iteration": 139,
            "learn": [
             184.0408958
            ],
            "passed_time": 0.38959864,
            "remaining_time": 0.4452555886,
            "test": [
             176.5381092
            ]
           },
           {
            "iteration": 140,
            "learn": [
             184.0190491
            ],
            "passed_time": 0.3916315321,
            "remaining_time": 0.4416270468,
            "test": [
             176.529248
            ]
           },
           {
            "iteration": 141,
            "learn": [
             183.9811285
            ],
            "passed_time": 0.3936211243,
            "remaining_time": 0.4379728003,
            "test": [
             176.4818876
            ]
           },
           {
            "iteration": 142,
            "learn": [
             183.948448
            ],
            "passed_time": 0.3955905878,
            "remaining_time": 0.4343197363,
            "test": [
             176.4680704
            ]
           },
           {
            "iteration": 143,
            "learn": [
             183.8994467
            ],
            "passed_time": 0.3975682358,
            "remaining_time": 0.4306989221,
            "test": [
             176.4173661
            ]
           },
           {
            "iteration": 144,
            "learn": [
             183.8668315
            ],
            "passed_time": 0.3995746985,
            "remaining_time": 0.4271315742,
            "test": [
             176.3906239
            ]
           },
           {
            "iteration": 145,
            "learn": [
             183.8603208
            ],
            "passed_time": 0.4015424748,
            "remaining_time": 0.4235448022,
            "test": [
             176.3803443
            ]
           },
           {
            "iteration": 146,
            "learn": [
             183.8394541
            ],
            "passed_time": 0.4034455717,
            "remaining_time": 0.4199127379,
            "test": [
             176.385286
            ]
           },
           {
            "iteration": 147,
            "learn": [
             183.826603
            ],
            "passed_time": 0.4054293268,
            "remaining_time": 0.4163868761,
            "test": [
             176.3669265
            ]
           },
           {
            "iteration": 148,
            "learn": [
             183.8058803
            ],
            "passed_time": 0.4073721791,
            "remaining_time": 0.4128402621,
            "test": [
             176.3396345
            ]
           },
           {
            "iteration": 149,
            "learn": [
             183.7879274
            ],
            "passed_time": 0.4098512664,
            "remaining_time": 0.4098512664,
            "test": [
             176.3408072
            ]
           },
           {
            "iteration": 150,
            "learn": [
             183.7740469
            ],
            "passed_time": 0.4125101094,
            "remaining_time": 0.4070463994,
            "test": [
             176.3356621
            ]
           },
           {
            "iteration": 151,
            "learn": [
             183.7567235
            ],
            "passed_time": 0.4143473315,
            "remaining_time": 0.4034434544,
            "test": [
             176.3080807
            ]
           },
           {
            "iteration": 152,
            "learn": [
             183.7339243
            ],
            "passed_time": 0.4163091571,
            "remaining_time": 0.3999833078,
            "test": [
             176.2985241
            ]
           },
           {
            "iteration": 153,
            "learn": [
             183.7276643
            ],
            "passed_time": 0.4182833133,
            "remaining_time": 0.39655431,
            "test": [
             176.2979775
            ]
           },
           {
            "iteration": 154,
            "learn": [
             183.7026098
            ],
            "passed_time": 0.4202401135,
            "remaining_time": 0.3931278481,
            "test": [
             176.2672456
            ]
           },
           {
            "iteration": 155,
            "learn": [
             183.6842752
            ],
            "passed_time": 0.4228080387,
            "remaining_time": 0.3902843434,
            "test": [
             176.2494588
            ]
           },
           {
            "iteration": 156,
            "learn": [
             183.6414548
            ],
            "passed_time": 0.4251233442,
            "remaining_time": 0.3872142562,
            "test": [
             176.2035182
            ]
           },
           {
            "iteration": 157,
            "learn": [
             183.6188536
            ],
            "passed_time": 0.4289980601,
            "remaining_time": 0.3855552186,
            "test": [
             176.1774987
            ]
           },
           {
            "iteration": 158,
            "learn": [
             183.5969295
            ],
            "passed_time": 0.4323496526,
            "remaining_time": 0.3834044089,
            "test": [
             176.1613005
            ]
           },
           {
            "iteration": 159,
            "learn": [
             183.5667593
            ],
            "passed_time": 0.4348349652,
            "remaining_time": 0.3804805945,
            "test": [
             176.1601517
            ]
           },
           {
            "iteration": 160,
            "learn": [
             183.5660294
            ],
            "passed_time": 0.4356741903,
            "remaining_time": 0.3761410711,
            "test": [
             176.1585851
            ]
           },
           {
            "iteration": 161,
            "learn": [
             183.5470056
            ],
            "passed_time": 0.4376184317,
            "remaining_time": 0.3727860715,
            "test": [
             176.1488974
            ]
           },
           {
            "iteration": 162,
            "learn": [
             183.5401417
            ],
            "passed_time": 0.4395043327,
            "remaining_time": 0.3693993471,
            "test": [
             176.1416469
            ]
           },
           {
            "iteration": 163,
            "learn": [
             183.5333733
            ],
            "passed_time": 0.4412778462,
            "remaining_time": 0.3659377261,
            "test": [
             176.1358548
            ]
           },
           {
            "iteration": 164,
            "learn": [
             183.5257014
            ],
            "passed_time": 0.4433941073,
            "remaining_time": 0.3627769969,
            "test": [
             176.1335333
            ]
           },
           {
            "iteration": 165,
            "learn": [
             183.5113446
            ],
            "passed_time": 0.4454743865,
            "remaining_time": 0.359599806,
            "test": [
             176.1285431
            ]
           },
           {
            "iteration": 166,
            "learn": [
             183.4881108
            ],
            "passed_time": 0.4474271441,
            "remaining_time": 0.3563341926,
            "test": [
             176.1140962
            ]
           },
           {
            "iteration": 167,
            "learn": [
             183.4766061
            ],
            "passed_time": 0.449364982,
            "remaining_time": 0.3530724859,
            "test": [
             176.107334
            ]
           },
           {
            "iteration": 168,
            "learn": [
             183.4638249
            ],
            "passed_time": 0.4511768101,
            "remaining_time": 0.34972877,
            "test": [
             176.0872604
            ]
           },
           {
            "iteration": 169,
            "learn": [
             183.4332482
            ],
            "passed_time": 0.4531020293,
            "remaining_time": 0.3464897871,
            "test": [
             176.0674387
            ]
           },
           {
            "iteration": 170,
            "learn": [
             183.4225521
            ],
            "passed_time": 0.4550353273,
            "remaining_time": 0.3432722645,
            "test": [
             176.0651171
            ]
           },
           {
            "iteration": 171,
            "learn": [
             183.3820011
            ],
            "passed_time": 0.4573843921,
            "remaining_time": 0.3403790825,
            "test": [
             176.0646909
            ]
           },
           {
            "iteration": 172,
            "learn": [
             183.3488144
            ],
            "passed_time": 0.4602287454,
            "remaining_time": 0.3378557842,
            "test": [
             176.0596394
            ]
           },
           {
            "iteration": 173,
            "learn": [
             183.3382037
            ],
            "passed_time": 0.4621924055,
            "remaining_time": 0.3346910522,
            "test": [
             176.0552787
            ]
           },
           {
            "iteration": 174,
            "learn": [
             183.3184488
            ],
            "passed_time": 0.4640980223,
            "remaining_time": 0.3314985874,
            "test": [
             176.0342106
            ]
           },
           {
            "iteration": 175,
            "learn": [
             183.3133326
            ],
            "passed_time": 0.4660533271,
            "remaining_time": 0.3283557532,
            "test": [
             176.0307897
            ]
           },
           {
            "iteration": 176,
            "learn": [
             183.2893772
            ],
            "passed_time": 0.4681423552,
            "remaining_time": 0.3253192638,
            "test": [
             176.0292029
            ]
           },
           {
            "iteration": 177,
            "learn": [
             183.2745978
            ],
            "passed_time": 0.4702482047,
            "remaining_time": 0.3223049493,
            "test": [
             176.0286716
            ]
           },
           {
            "iteration": 178,
            "learn": [
             183.2389013
            ],
            "passed_time": 0.4721915825,
            "remaining_time": 0.319190958,
            "test": [
             175.9974001
            ]
           },
           {
            "iteration": 179,
            "learn": [
             183.2356714
            ],
            "passed_time": 0.4743370056,
            "remaining_time": 0.3162246704,
            "test": [
             175.9975162
            ]
           },
           {
            "iteration": 180,
            "learn": [
             183.2283927
            ],
            "passed_time": 0.4763374403,
            "remaining_time": 0.3131721293,
            "test": [
             175.9949949
            ]
           },
           {
            "iteration": 181,
            "learn": [
             183.2102941
            ],
            "passed_time": 0.4782275003,
            "remaining_time": 0.3100595881,
            "test": [
             175.9898308
            ]
           },
           {
            "iteration": 182,
            "learn": [
             183.1895979
            ],
            "passed_time": 0.480131838,
            "remaining_time": 0.3069695358,
            "test": [
             175.9698386
            ]
           },
           {
            "iteration": 183,
            "learn": [
             183.178553
            ],
            "passed_time": 0.4821052724,
            "remaining_time": 0.3039359326,
            "test": [
             175.9521057
            ]
           },
           {
            "iteration": 184,
            "learn": [
             183.1501371
            ],
            "passed_time": 0.4840008195,
            "remaining_time": 0.3008653743,
            "test": [
             175.9562221
            ]
           },
           {
            "iteration": 185,
            "learn": [
             183.1432482
            ],
            "passed_time": 0.4858665737,
            "remaining_time": 0.2977891903,
            "test": [
             175.9529958
            ]
           },
           {
            "iteration": 186,
            "learn": [
             183.1314531
            ],
            "passed_time": 0.4877889338,
            "remaining_time": 0.2947601578,
            "test": [
             175.9550345
            ]
           },
           {
            "iteration": 187,
            "learn": [
             183.1239972
            ],
            "passed_time": 0.4897125557,
            "remaining_time": 0.2917436502,
            "test": [
             175.9521726
            ]
           },
           {
            "iteration": 188,
            "learn": [
             183.1206974
            ],
            "passed_time": 0.49164938,
            "remaining_time": 0.2887464613,
            "test": [
             175.9506901
            ]
           },
           {
            "iteration": 189,
            "learn": [
             183.1134775
            ],
            "passed_time": 0.4944472917,
            "remaining_time": 0.2862589583,
            "test": [
             175.9448781
            ]
           },
           {
            "iteration": 190,
            "learn": [
             183.1065971
            ],
            "passed_time": 0.4963447442,
            "remaining_time": 0.2832543304,
            "test": [
             175.9494345
            ]
           },
           {
            "iteration": 191,
            "learn": [
             183.1024529
            ],
            "passed_time": 0.4982795794,
            "remaining_time": 0.2802822634,
            "test": [
             175.9454809
            ]
           },
           {
            "iteration": 192,
            "learn": [
             183.0899163
            ],
            "passed_time": 0.5007497132,
            "remaining_time": 0.2776177167,
            "test": [
             175.9268412
            ]
           },
           {
            "iteration": 193,
            "learn": [
             183.0879378
            ],
            "passed_time": 0.5028461621,
            "remaining_time": 0.2747509958,
            "test": [
             175.9253249
            ]
           },
           {
            "iteration": 194,
            "learn": [
             183.0609251
            ],
            "passed_time": 0.5048575265,
            "remaining_time": 0.2718463604,
            "test": [
             175.9174415
            ]
           },
           {
            "iteration": 195,
            "learn": [
             183.0554042
            ],
            "passed_time": 0.5068054087,
            "remaining_time": 0.2689171556,
            "test": [
             175.9174503
            ]
           },
           {
            "iteration": 196,
            "learn": [
             183.0528144
            ],
            "passed_time": 0.5087517783,
            "remaining_time": 0.2659971226,
            "test": [
             175.9186842
            ]
           },
           {
            "iteration": 197,
            "learn": [
             183.0337052
            ],
            "passed_time": 0.5107334879,
            "remaining_time": 0.2631051301,
            "test": [
             175.9070123
            ]
           },
           {
            "iteration": 198,
            "learn": [
             183.0200674
            ],
            "passed_time": 0.5131644381,
            "remaining_time": 0.2604502927,
            "test": [
             175.8917234
            ]
           },
           {
            "iteration": 199,
            "learn": [
             183.0115013
            ],
            "passed_time": 0.5151886604,
            "remaining_time": 0.2575943302,
            "test": [
             175.8912922
            ]
           },
           {
            "iteration": 200,
            "learn": [
             183.000636
            ],
            "passed_time": 0.5173866277,
            "remaining_time": 0.2548322196,
            "test": [
             175.8769846
            ]
           },
           {
            "iteration": 201,
            "learn": [
             182.9862209
            ],
            "passed_time": 0.5193225575,
            "remaining_time": 0.2519485675,
            "test": [
             175.8579363
            ]
           },
           {
            "iteration": 202,
            "learn": [
             182.9827418
            ],
            "passed_time": 0.5212405896,
            "remaining_time": 0.2490657004,
            "test": [
             175.8546008
            ]
           },
           {
            "iteration": 203,
            "learn": [
             182.9579966
            ],
            "passed_time": 0.5231726358,
            "remaining_time": 0.2461988874,
            "test": [
             175.8549356
            ]
           },
           {
            "iteration": 204,
            "learn": [
             182.9558512
            ],
            "passed_time": 0.525139954,
            "remaining_time": 0.2433575396,
            "test": [
             175.8523835
            ]
           },
           {
            "iteration": 205,
            "learn": [
             182.9480336
            ],
            "passed_time": 0.5270676467,
            "remaining_time": 0.2405065961,
            "test": [
             175.8422328
            ]
           },
           {
            "iteration": 206,
            "learn": [
             182.9331612
            ],
            "passed_time": 0.5290449555,
            "remaining_time": 0.2376868641,
            "test": [
             175.8413171
            ]
           },
           {
            "iteration": 207,
            "learn": [
             182.9245048
            ],
            "passed_time": 0.5310956017,
            "remaining_time": 0.23490767,
            "test": [
             175.8405065
            ]
           },
           {
            "iteration": 208,
            "learn": [
             182.9119878
            ],
            "passed_time": 0.5330694743,
            "remaining_time": 0.2321020199,
            "test": [
             175.8415797
            ]
           },
           {
            "iteration": 209,
            "learn": [
             182.9079575
            ],
            "passed_time": 0.5350298272,
            "remaining_time": 0.2292984974,
            "test": [
             175.8410497
            ]
           },
           {
            "iteration": 210,
            "learn": [
             182.8995347
            ],
            "passed_time": 0.5369495955,
            "remaining_time": 0.2264858483,
            "test": [
             175.8405887
            ]
           },
           {
            "iteration": 211,
            "learn": [
             182.8603714
            ],
            "passed_time": 0.5389315288,
            "remaining_time": 0.223707427,
            "test": [
             175.8253929
            ]
           },
           {
            "iteration": 212,
            "learn": [
             182.8565497
            ],
            "passed_time": 0.5408628614,
            "remaining_time": 0.2209158166,
            "test": [
             175.8247381
            ]
           },
           {
            "iteration": 213,
            "learn": [
             182.8489617
            ],
            "passed_time": 0.5428140427,
            "remaining_time": 0.2181402227,
            "test": [
             175.8164138
            ]
           },
           {
            "iteration": 214,
            "learn": [
             182.848104
            ],
            "passed_time": 0.5447111606,
            "remaining_time": 0.215350924,
            "test": [
             175.8172712
            ]
           },
           {
            "iteration": 215,
            "learn": [
             182.8408351
            ],
            "passed_time": 0.5466475422,
            "remaining_time": 0.2125851553,
            "test": [
             175.8164321
            ]
           },
           {
            "iteration": 216,
            "learn": [
             182.8396453
            ],
            "passed_time": 0.5486001553,
            "remaining_time": 0.2098332391,
            "test": [
             175.8148088
            ]
           },
           {
            "iteration": 217,
            "learn": [
             182.8062014
            ],
            "passed_time": 0.5505253126,
            "remaining_time": 0.2070783286,
            "test": [
             175.8114719
            ]
           },
           {
            "iteration": 218,
            "learn": [
             182.7896285
            ],
            "passed_time": 0.5524471027,
            "remaining_time": 0.2043297503,
            "test": [
             175.7946367
            ]
           },
           {
            "iteration": 219,
            "learn": [
             182.7704035
            ],
            "passed_time": 0.5543529168,
            "remaining_time": 0.2015828788,
            "test": [
             175.8059427
            ]
           },
           {
            "iteration": 220,
            "learn": [
             182.7419241
            ],
            "passed_time": 0.556177951,
            "remaining_time": 0.1988147427,
            "test": [
             175.7902103
            ]
           },
           {
            "iteration": 221,
            "learn": [
             182.7128197
            ],
            "passed_time": 0.558250554,
            "remaining_time": 0.1961420865,
            "test": [
             175.7870533
            ]
           },
           {
            "iteration": 222,
            "learn": [
             182.7092826
            ],
            "passed_time": 0.560206057,
            "remaining_time": 0.1934343784,
            "test": [
             175.7883168
            ]
           },
           {
            "iteration": 223,
            "learn": [
             182.6873348
            ],
            "passed_time": 0.5621092757,
            "remaining_time": 0.1907156471,
            "test": [
             175.8058133
            ]
           },
           {
            "iteration": 224,
            "learn": [
             182.6870105
            ],
            "passed_time": 0.5640052019,
            "remaining_time": 0.188001734,
            "test": [
             175.8061215
            ]
           },
           {
            "iteration": 225,
            "learn": [
             182.6700283
            ],
            "passed_time": 0.5659577204,
            "remaining_time": 0.1853135899,
            "test": [
             175.8010329
            ]
           },
           {
            "iteration": 226,
            "learn": [
             182.6475818
            ],
            "passed_time": 0.5680274143,
            "remaining_time": 0.182669609,
            "test": [
             175.7737125
            ]
           },
           {
            "iteration": 227,
            "learn": [
             182.629634
            ],
            "passed_time": 0.5699594879,
            "remaining_time": 0.1799872067,
            "test": [
             175.7743786
            ]
           },
           {
            "iteration": 228,
            "learn": [
             182.6245037
            ],
            "passed_time": 0.5719007121,
            "remaining_time": 0.1773141946,
            "test": [
             175.7709662
            ]
           },
           {
            "iteration": 229,
            "learn": [
             182.62217
            ],
            "passed_time": 0.5738251512,
            "remaining_time": 0.1746424373,
            "test": [
             175.7723189
            ]
           },
           {
            "iteration": 230,
            "learn": [
             182.6070151
            ],
            "passed_time": 0.5757274573,
            "remaining_time": 0.1719705392,
            "test": [
             175.7590713
            ]
           },
           {
            "iteration": 231,
            "learn": [
             182.6024714
            ],
            "passed_time": 0.5776729168,
            "remaining_time": 0.1693179239,
            "test": [
             175.7554171
            ]
           },
           {
            "iteration": 232,
            "learn": [
             182.5954607
            ],
            "passed_time": 0.5796285525,
            "remaining_time": 0.1666743048,
            "test": [
             175.7608663
            ]
           },
           {
            "iteration": 233,
            "learn": [
             182.5879483
            ],
            "passed_time": 0.5815409829,
            "remaining_time": 0.1640243798,
            "test": [
             175.7605827
            ]
           },
           {
            "iteration": 234,
            "learn": [
             182.5792231
            ],
            "passed_time": 0.5834047534,
            "remaining_time": 0.1613672722,
            "test": [
             175.7612704
            ]
           },
           {
            "iteration": 235,
            "learn": [
             182.5687591
            ],
            "passed_time": 0.5859622552,
            "remaining_time": 0.1589050184,
            "test": [
             175.7484653
            ]
           },
           {
            "iteration": 236,
            "learn": [
             182.5668977
            ],
            "passed_time": 0.5878748155,
            "remaining_time": 0.1562705206,
            "test": [
             175.7484044
            ]
           },
           {
            "iteration": 237,
            "learn": [
             182.5664749
            ],
            "passed_time": 0.5897847996,
            "remaining_time": 0.1536414184,
            "test": [
             175.7483015
            ]
           },
           {
            "iteration": 238,
            "learn": [
             182.5493489
            ],
            "passed_time": 0.5926189531,
            "remaining_time": 0.1512542098,
            "test": [
             175.7339656
            ]
           },
           {
            "iteration": 239,
            "learn": [
             182.54401
            ],
            "passed_time": 0.5947073812,
            "remaining_time": 0.1486768453,
            "test": [
             175.7370103
            ]
           },
           {
            "iteration": 240,
            "learn": [
             182.5289241
            ],
            "passed_time": 0.597704451,
            "remaining_time": 0.1463259859,
            "test": [
             175.7373481
            ]
           },
           {
            "iteration": 241,
            "learn": [
             182.5080155
            ],
            "passed_time": 0.599840328,
            "remaining_time": 0.1437633844,
            "test": [
             175.7392808
            ]
           },
           {
            "iteration": 242,
            "learn": [
             182.5048174
            ],
            "passed_time": 0.6017573192,
            "remaining_time": 0.1411529514,
            "test": [
             175.7377968
            ]
           },
           {
            "iteration": 243,
            "learn": [
             182.5010475
            ],
            "passed_time": 0.6061380988,
            "remaining_time": 0.139113662,
            "test": [
             175.735183
            ]
           },
           {
            "iteration": 244,
            "learn": [
             182.5001536
            ],
            "passed_time": 0.6079944468,
            "remaining_time": 0.1364885493,
            "test": [
             175.735146
            ]
           },
           {
            "iteration": 245,
            "learn": [
             182.4924904
            ],
            "passed_time": 0.6136283829,
            "remaining_time": 0.1346989133,
            "test": [
             175.7348387
            ]
           },
           {
            "iteration": 246,
            "learn": [
             182.4823171
            ],
            "passed_time": 0.6237274376,
            "remaining_time": 0.1338362518,
            "test": [
             175.7234455
            ]
           },
           {
            "iteration": 247,
            "learn": [
             182.4699446
            ],
            "passed_time": 0.62689007,
            "remaining_time": 0.1314446921,
            "test": [
             175.7090181
            ]
           },
           {
            "iteration": 248,
            "learn": [
             182.4620281
            ],
            "passed_time": 0.6302552376,
            "remaining_time": 0.1290884222,
            "test": [
             175.7118204
            ]
           },
           {
            "iteration": 249,
            "learn": [
             182.4550944
            ],
            "passed_time": 0.6350084568,
            "remaining_time": 0.1270016914,
            "test": [
             175.7078952
            ]
           },
           {
            "iteration": 250,
            "learn": [
             182.4485727
            ],
            "passed_time": 0.6374775225,
            "remaining_time": 0.1244478032,
            "test": [
             175.7115785
            ]
           },
           {
            "iteration": 251,
            "learn": [
             182.4085745
            ],
            "passed_time": 0.6411994492,
            "remaining_time": 0.1221332284,
            "test": [
             175.7117897
            ]
           },
           {
            "iteration": 252,
            "learn": [
             182.397252
            ],
            "passed_time": 0.6432331058,
            "remaining_time": 0.1194938971,
            "test": [
             175.7041459
            ]
           },
           {
            "iteration": 253,
            "learn": [
             182.3753203
            ],
            "passed_time": 0.6451791854,
            "remaining_time": 0.1168434745,
            "test": [
             175.715633
            ]
           },
           {
            "iteration": 254,
            "learn": [
             182.3733286
            ],
            "passed_time": 0.6473394127,
            "remaining_time": 0.1142363669,
            "test": [
             175.7141394
            ]
           },
           {
            "iteration": 255,
            "learn": [
             182.3608904
            ],
            "passed_time": 0.6492722717,
            "remaining_time": 0.1115936717,
            "test": [
             175.7158098
            ]
           },
           {
            "iteration": 256,
            "learn": [
             182.3583546
            ],
            "passed_time": 0.6512637638,
            "remaining_time": 0.1089663107,
            "test": [
             175.7138277
            ]
           },
           {
            "iteration": 257,
            "learn": [
             182.3501193
            ],
            "passed_time": 0.6536086178,
            "remaining_time": 0.1064014029,
            "test": [
             175.7083454
            ]
           },
           {
            "iteration": 258,
            "learn": [
             182.3356781
            ],
            "passed_time": 0.6558761381,
            "remaining_time": 0.1038259524,
            "test": [
             175.7012921
            ]
           },
           {
            "iteration": 259,
            "learn": [
             182.3260339
            ],
            "passed_time": 0.657856535,
            "remaining_time": 0.1012086977,
            "test": [
             175.6942366
            ]
           },
           {
            "iteration": 260,
            "learn": [
             182.3247575
            ],
            "passed_time": 0.6598461963,
            "remaining_time": 0.09859770749,
            "test": [
             175.6911682
            ]
           },
           {
            "iteration": 261,
            "learn": [
             182.3212122
            ],
            "passed_time": 0.6620673641,
            "remaining_time": 0.09602503753,
            "test": [
             175.6931899
            ]
           },
           {
            "iteration": 262,
            "learn": [
             182.3117088
            ],
            "passed_time": 0.6639593767,
            "remaining_time": 0.0934087336,
            "test": [
             175.6887236
            ]
           },
           {
            "iteration": 263,
            "learn": [
             182.3029667
            ],
            "passed_time": 0.6657082281,
            "remaining_time": 0.09077839474,
            "test": [
             175.6863714
            ]
           },
           {
            "iteration": 264,
            "learn": [
             182.2934687
            ],
            "passed_time": 0.6677999524,
            "remaining_time": 0.08819999372,
            "test": [
             175.6703291
            ]
           },
           {
            "iteration": 265,
            "learn": [
             182.2851712
            ],
            "passed_time": 0.6697345023,
            "remaining_time": 0.08560516194,
            "test": [
             175.6703444
            ]
           },
           {
            "iteration": 266,
            "learn": [
             182.2736692
            ],
            "passed_time": 0.6716022291,
            "remaining_time": 0.08300701708,
            "test": [
             175.6633161
            ]
           },
           {
            "iteration": 267,
            "learn": [
             182.2719476
            ],
            "passed_time": 0.6733256711,
            "remaining_time": 0.08039709505,
            "test": [
             175.6649355
            ]
           },
           {
            "iteration": 268,
            "learn": [
             182.2688047
            ],
            "passed_time": 0.6755257748,
            "remaining_time": 0.07784869523,
            "test": [
             175.6719521
            ]
           },
           {
            "iteration": 269,
            "learn": [
             182.2547644
            ],
            "passed_time": 0.6780011357,
            "remaining_time": 0.07533345952,
            "test": [
             175.6821842
            ]
           },
           {
            "iteration": 270,
            "learn": [
             182.2431011
            ],
            "passed_time": 0.6800817522,
            "remaining_time": 0.07277627606,
            "test": [
             175.682652
            ]
           },
           {
            "iteration": 271,
            "learn": [
             182.2345561
            ],
            "passed_time": 0.6820178156,
            "remaining_time": 0.07020771631,
            "test": [
             175.6884878
            ]
           },
           {
            "iteration": 272,
            "learn": [
             182.2305517
            ],
            "passed_time": 0.6840684818,
            "remaining_time": 0.06765512458,
            "test": [
             175.6833929
            ]
           },
           {
            "iteration": 273,
            "learn": [
             182.2226846
            ],
            "passed_time": 0.686023533,
            "remaining_time": 0.06509712357,
            "test": [
             175.6916205
            ]
           },
           {
            "iteration": 274,
            "learn": [
             182.2173856
            ],
            "passed_time": 0.6879207555,
            "remaining_time": 0.0625382505,
            "test": [
             175.6960243
            ]
           },
           {
            "iteration": 275,
            "learn": [
             182.2050967
            ],
            "passed_time": 0.6898989798,
            "remaining_time": 0.05999121563,
            "test": [
             175.6842774
            ]
           },
           {
            "iteration": 276,
            "learn": [
             182.1973146
            ],
            "passed_time": 0.6927344978,
            "remaining_time": 0.05751947094,
            "test": [
             175.6809473
            ]
           },
           {
            "iteration": 277,
            "learn": [
             182.1918941
            ],
            "passed_time": 0.6947009633,
            "remaining_time": 0.05497633523,
            "test": [
             175.6848907
            ]
           },
           {
            "iteration": 278,
            "learn": [
             182.1879256
            ],
            "passed_time": 0.696629426,
            "remaining_time": 0.05243447292,
            "test": [
             175.6905457
            ]
           },
           {
            "iteration": 279,
            "learn": [
             182.1781298
            ],
            "passed_time": 0.6985322175,
            "remaining_time": 0.04989515839,
            "test": [
             175.7058123
            ]
           },
           {
            "iteration": 280,
            "learn": [
             182.1751205
            ],
            "passed_time": 0.7004736762,
            "remaining_time": 0.04736298878,
            "test": [
             175.7040922
            ]
           },
           {
            "iteration": 281,
            "learn": [
             182.1720599
            ],
            "passed_time": 0.7024556413,
            "remaining_time": 0.04483759413,
            "test": [
             175.7048715
            ]
           },
           {
            "iteration": 282,
            "learn": [
             182.1715155
            ],
            "passed_time": 0.7044263448,
            "remaining_time": 0.04231536347,
            "test": [
             175.7051271
            ]
           },
           {
            "iteration": 283,
            "learn": [
             182.144826
            ],
            "passed_time": 0.706336398,
            "remaining_time": 0.03979359989,
            "test": [
             175.72656
            ]
           },
           {
            "iteration": 284,
            "learn": [
             182.1059187
            ],
            "passed_time": 0.708302028,
            "remaining_time": 0.0372790541,
            "test": [
             175.7327769
            ]
           },
           {
            "iteration": 285,
            "learn": [
             182.1054666
            ],
            "passed_time": 0.7104348187,
            "remaining_time": 0.03477652959,
            "test": [
             175.7342696
            ]
           },
           {
            "iteration": 286,
            "learn": [
             182.1001433
            ],
            "passed_time": 0.7136918316,
            "remaining_time": 0.03232750457,
            "test": [
             175.7231608
            ]
           },
           {
            "iteration": 287,
            "learn": [
             182.0918772
            ],
            "passed_time": 0.7156605706,
            "remaining_time": 0.02981919044,
            "test": [
             175.7285544
            ]
           },
           {
            "iteration": 288,
            "learn": [
             182.0873885
            ],
            "passed_time": 0.717605362,
            "remaining_time": 0.0273136989,
            "test": [
             175.727843
            ]
           },
           {
            "iteration": 289,
            "learn": [
             182.0855807
            ],
            "passed_time": 0.719524564,
            "remaining_time": 0.02481119186,
            "test": [
             175.7258678
            ]
           },
           {
            "iteration": 290,
            "learn": [
             182.081942
            ],
            "passed_time": 0.7214163057,
            "remaining_time": 0.02231184451,
            "test": [
             175.7249231
            ]
           },
           {
            "iteration": 291,
            "learn": [
             182.0809073
            ],
            "passed_time": 0.7233548691,
            "remaining_time": 0.01981794162,
            "test": [
             175.7241457
            ]
           },
           {
            "iteration": 292,
            "learn": [
             182.0660591
            ],
            "passed_time": 0.7255043021,
            "remaining_time": 0.01733286729,
            "test": [
             175.733874
            ]
           },
           {
            "iteration": 293,
            "learn": [
             182.0646528
            ],
            "passed_time": 0.72744454,
            "remaining_time": 0.01484580694,
            "test": [
             175.7329104
            ]
           },
           {
            "iteration": 294,
            "learn": [
             182.063877
            ],
            "passed_time": 0.7293496669,
            "remaining_time": 0.01236185876,
            "test": [
             175.7324187
            ]
           },
           {
            "iteration": 295,
            "learn": [
             182.0619859
            ],
            "passed_time": 0.731304309,
            "remaining_time": 0.009882490662,
            "test": [
             175.7367541
            ]
           },
           {
            "iteration": 296,
            "learn": [
             182.057959
            ],
            "passed_time": 0.7333068899,
            "remaining_time": 0.007407140302,
            "test": [
             175.7392142
            ]
           },
           {
            "iteration": 297,
            "learn": [
             182.0506496
            ],
            "passed_time": 0.7351908946,
            "remaining_time": 0.004934167078,
            "test": [
             175.7389879
            ]
           },
           {
            "iteration": 298,
            "learn": [
             182.0384563
            ],
            "passed_time": 0.7370576187,
            "remaining_time": 0.002465075648,
            "test": [
             175.7406921
            ]
           },
           {
            "iteration": 299,
            "learn": [
             182.032277
            ],
            "passed_time": 0.7389640864,
            "remaining_time": 0,
            "test": [
             175.7404544
            ]
           }
          ],
          "meta": {
           "iteration_count": 300,
           "launch_mode": "Train",
           "learn_metrics": [
            {
             "best_value": "Min",
             "name": "RMSE"
            }
           ],
           "learn_sets": [
            "learn"
           ],
           "name": "experiment",
           "parameters": "",
           "test_metrics": [
            {
             "best_value": "Min",
             "name": "RMSE"
            }
           ],
           "test_sets": [
            "test"
           ]
          }
         },
         "passed_iterations": 299,
         "total_iterations": 300
        },
        "name": "fold-4",
        "path": "catboost_info/fold-4"
       }
      },
      "layout": "IPY_MODEL_0c164e02f2664b629c20d42159131a0c"
     }
    }
   }
  }
 },
 "nbformat": 4,
 "nbformat_minor": 1
}
